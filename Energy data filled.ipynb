{
 "cells": [
  {
   "cell_type": "code",
   "execution_count": 39,
   "id": "55b506be",
   "metadata": {},
   "outputs": [
    {
     "data": {
      "text/html": [
       "<div>\n",
       "<style scoped>\n",
       "    .dataframe tbody tr th:only-of-type {\n",
       "        vertical-align: middle;\n",
       "    }\n",
       "\n",
       "    .dataframe tbody tr th {\n",
       "        vertical-align: top;\n",
       "    }\n",
       "\n",
       "    .dataframe thead th {\n",
       "        text-align: right;\n",
       "    }\n",
       "</style>\n",
       "<table border=\"1\" class=\"dataframe\">\n",
       "  <thead>\n",
       "    <tr style=\"text-align: right;\">\n",
       "      <th></th>\n",
       "      <th>Standardized_Date</th>\n",
       "      <th>RAW WATER FLOW IN ML</th>\n",
       "      <th>CLEAR WATER SUMP LEVEL IN Meter</th>\n",
       "      <th>CLEAR WATER PUMPING FLOW ML</th>\n",
       "      <th>TREATED WATER PRODUCTION IN ML</th>\n",
       "      <th>remarks category</th>\n",
       "      <th>Avg_Consumption (kWh)</th>\n",
       "      <th>Energy Charge</th>\n",
       "      <th>Units_kWh</th>\n",
       "      <th>Year</th>\n",
       "      <th>Month</th>\n",
       "      <th>Month-Year</th>\n",
       "    </tr>\n",
       "  </thead>\n",
       "  <tbody>\n",
       "    <tr>\n",
       "      <th>0</th>\n",
       "      <td>2021-12-31</td>\n",
       "      <td>1998.059680</td>\n",
       "      <td>2.900954</td>\n",
       "      <td>1738.985111</td>\n",
       "      <td>1933.722260</td>\n",
       "      <td>['No remarks']</td>\n",
       "      <td>264227.0</td>\n",
       "      <td>1802752.40</td>\n",
       "      <td>284352.0</td>\n",
       "      <td>2021</td>\n",
       "      <td>12</td>\n",
       "      <td>12-2021</td>\n",
       "    </tr>\n",
       "    <tr>\n",
       "      <th>1</th>\n",
       "      <td>2022-01-31</td>\n",
       "      <td>1928.276850</td>\n",
       "      <td>2.713804</td>\n",
       "      <td>1669.968356</td>\n",
       "      <td>1866.186420</td>\n",
       "      <td>['No remarks' 'WTP cleaning' 'energy auditing'...</td>\n",
       "      <td>270707.0</td>\n",
       "      <td>1814811.00</td>\n",
       "      <td>278984.0</td>\n",
       "      <td>2022</td>\n",
       "      <td>1</td>\n",
       "      <td>01-2022</td>\n",
       "    </tr>\n",
       "    <tr>\n",
       "      <th>2</th>\n",
       "      <td>2022-02-28</td>\n",
       "      <td>1832.749031</td>\n",
       "      <td>2.800164</td>\n",
       "      <td>1577.522110</td>\n",
       "      <td>1773.731660</td>\n",
       "      <td>['No remarks' 'maintanance at intake' 'Power F...</td>\n",
       "      <td>272721.0</td>\n",
       "      <td>1729563.80</td>\n",
       "      <td>271048.0</td>\n",
       "      <td>2022</td>\n",
       "      <td>2</td>\n",
       "      <td>02-2022</td>\n",
       "    </tr>\n",
       "    <tr>\n",
       "      <th>3</th>\n",
       "      <td>2022-03-31</td>\n",
       "      <td>2169.405400</td>\n",
       "      <td>2.831720</td>\n",
       "      <td>1860.290835</td>\n",
       "      <td>2099.551520</td>\n",
       "      <td>['No remarks' 'Power Failure at Intake']</td>\n",
       "      <td>277393.0</td>\n",
       "      <td>1888178.05</td>\n",
       "      <td>298664.0</td>\n",
       "      <td>2022</td>\n",
       "      <td>3</td>\n",
       "      <td>03-2022</td>\n",
       "    </tr>\n",
       "    <tr>\n",
       "      <th>4</th>\n",
       "      <td>2022-04-30</td>\n",
       "      <td>1943.862463</td>\n",
       "      <td>2.769444</td>\n",
       "      <td>1699.233060</td>\n",
       "      <td>1881.272590</td>\n",
       "      <td>['No remarks' 'Power Failure at Intake' 'Power...</td>\n",
       "      <td>281749.0</td>\n",
       "      <td>1890310.40</td>\n",
       "      <td>299392.0</td>\n",
       "      <td>2022</td>\n",
       "      <td>4</td>\n",
       "      <td>04-2022</td>\n",
       "    </tr>\n",
       "    <tr>\n",
       "      <th>5</th>\n",
       "      <td>2022-05-31</td>\n",
       "      <td>2016.614410</td>\n",
       "      <td>2.857272</td>\n",
       "      <td>1757.840880</td>\n",
       "      <td>1951.698500</td>\n",
       "      <td>['No remarks' 'Power Failure at WTP' 'Power Fa...</td>\n",
       "      <td>282532.0</td>\n",
       "      <td>1681677.40</td>\n",
       "      <td>262752.0</td>\n",
       "      <td>2022</td>\n",
       "      <td>5</td>\n",
       "      <td>05-2022</td>\n",
       "    </tr>\n",
       "    <tr>\n",
       "      <th>6</th>\n",
       "      <td>2022-06-30</td>\n",
       "      <td>1814.876370</td>\n",
       "      <td>2.691806</td>\n",
       "      <td>1606.903240</td>\n",
       "      <td>1756.432580</td>\n",
       "      <td>['No remarks' 'Power Failure at intake and WTP...</td>\n",
       "      <td>242923.0</td>\n",
       "      <td>1670442.48</td>\n",
       "      <td>256808.0</td>\n",
       "      <td>2022</td>\n",
       "      <td>6</td>\n",
       "      <td>06-2022</td>\n",
       "    </tr>\n",
       "    <tr>\n",
       "      <th>7</th>\n",
       "      <td>2022-07-31</td>\n",
       "      <td>1599.658680</td>\n",
       "      <td>2.793535</td>\n",
       "      <td>1404.362230</td>\n",
       "      <td>1548.147830</td>\n",
       "      <td>['No remarks' 'intake sump level low' 'Power F...</td>\n",
       "      <td>234395.0</td>\n",
       "      <td>1586531.05</td>\n",
       "      <td>227816.0</td>\n",
       "      <td>2022</td>\n",
       "      <td>7</td>\n",
       "      <td>07-2022</td>\n",
       "    </tr>\n",
       "    <tr>\n",
       "      <th>8</th>\n",
       "      <td>2022-08-31</td>\n",
       "      <td>1752.933070</td>\n",
       "      <td>2.840269</td>\n",
       "      <td>1520.865680</td>\n",
       "      <td>1696.487150</td>\n",
       "      <td>['No remarks' 'Power Failure at intake and WTP...</td>\n",
       "      <td>230045.0</td>\n",
       "      <td>1683641.02</td>\n",
       "      <td>244952.0</td>\n",
       "      <td>2022</td>\n",
       "      <td>8</td>\n",
       "      <td>08-2022</td>\n",
       "    </tr>\n",
       "    <tr>\n",
       "      <th>9</th>\n",
       "      <td>2022-09-30</td>\n",
       "      <td>1910.059020</td>\n",
       "      <td>2.836417</td>\n",
       "      <td>1669.906550</td>\n",
       "      <td>1848.543760</td>\n",
       "      <td>['No remarks' 'intake cleaning']</td>\n",
       "      <td>225967.0</td>\n",
       "      <td>1865490.92</td>\n",
       "      <td>274192.0</td>\n",
       "      <td>2022</td>\n",
       "      <td>9</td>\n",
       "      <td>09-2022</td>\n",
       "    </tr>\n",
       "    <tr>\n",
       "      <th>10</th>\n",
       "      <td>2022-10-31</td>\n",
       "      <td>2202.323760</td>\n",
       "      <td>2.947755</td>\n",
       "      <td>1906.800580</td>\n",
       "      <td>2131.406310</td>\n",
       "      <td>['No remarks' 'intake cleaning']</td>\n",
       "      <td>226848.0</td>\n",
       "      <td>2046339.30</td>\n",
       "      <td>304680.0</td>\n",
       "      <td>2022</td>\n",
       "      <td>10</td>\n",
       "      <td>10-2022</td>\n",
       "    </tr>\n",
       "    <tr>\n",
       "      <th>11</th>\n",
       "      <td>2022-11-30</td>\n",
       "      <td>2121.876660</td>\n",
       "      <td>2.924958</td>\n",
       "      <td>1841.023200</td>\n",
       "      <td>2053.546760</td>\n",
       "      <td>['No remarks']</td>\n",
       "      <td>233447.0</td>\n",
       "      <td>2034493.94</td>\n",
       "      <td>302344.0</td>\n",
       "      <td>2022</td>\n",
       "      <td>11</td>\n",
       "      <td>11-2022</td>\n",
       "    </tr>\n",
       "    <tr>\n",
       "      <th>12</th>\n",
       "      <td>2022-12-31</td>\n",
       "      <td>2271.739730</td>\n",
       "      <td>2.981196</td>\n",
       "      <td>1967.663750</td>\n",
       "      <td>2198.589820</td>\n",
       "      <td>['No remarks' 'voltage fluctation at intake']</td>\n",
       "      <td>279913.0</td>\n",
       "      <td>2178204.46</td>\n",
       "      <td>325496.0</td>\n",
       "      <td>2022</td>\n",
       "      <td>12</td>\n",
       "      <td>12-2022</td>\n",
       "    </tr>\n",
       "    <tr>\n",
       "      <th>13</th>\n",
       "      <td>2023-01-31</td>\n",
       "      <td>2237.711297</td>\n",
       "      <td>3.052191</td>\n",
       "      <td>1924.172400</td>\n",
       "      <td>2165.670850</td>\n",
       "      <td>['No remarks' 'Power Failure at Intake']</td>\n",
       "      <td>291908.0</td>\n",
       "      <td>2016608.34</td>\n",
       "      <td>299784.0</td>\n",
       "      <td>2023</td>\n",
       "      <td>1</td>\n",
       "      <td>01-2023</td>\n",
       "    </tr>\n",
       "    <tr>\n",
       "      <th>14</th>\n",
       "      <td>2023-02-28</td>\n",
       "      <td>2057.460310</td>\n",
       "      <td>2.966711</td>\n",
       "      <td>1765.574653</td>\n",
       "      <td>1991.195210</td>\n",
       "      <td>['No remarks' 'Power Failure at intake and WTP...</td>\n",
       "      <td>298419.0</td>\n",
       "      <td>1989731.04</td>\n",
       "      <td>284016.0</td>\n",
       "      <td>2023</td>\n",
       "      <td>2</td>\n",
       "      <td>02-2023</td>\n",
       "    </tr>\n",
       "    <tr>\n",
       "      <th>15</th>\n",
       "      <td>2023-03-31</td>\n",
       "      <td>2310.713690</td>\n",
       "      <td>3.034368</td>\n",
       "      <td>1990.518290</td>\n",
       "      <td>2236.309280</td>\n",
       "      <td>['No remarks']</td>\n",
       "      <td>307143.0</td>\n",
       "      <td>2276167.98</td>\n",
       "      <td>326536.0</td>\n",
       "      <td>2023</td>\n",
       "      <td>3</td>\n",
       "      <td>03-2023</td>\n",
       "    </tr>\n",
       "    <tr>\n",
       "      <th>16</th>\n",
       "      <td>2023-04-30</td>\n",
       "      <td>2392.954534</td>\n",
       "      <td>2.909681</td>\n",
       "      <td>2058.044720</td>\n",
       "      <td>2315.873960</td>\n",
       "      <td>['No remarks' 'maintanance']</td>\n",
       "      <td>315603.0</td>\n",
       "      <td>2505844.20</td>\n",
       "      <td>355440.0</td>\n",
       "      <td>2023</td>\n",
       "      <td>4</td>\n",
       "      <td>04-2023</td>\n",
       "    </tr>\n",
       "    <tr>\n",
       "      <th>17</th>\n",
       "      <td>2023-05-31</td>\n",
       "      <td>2451.286890</td>\n",
       "      <td>3.073938</td>\n",
       "      <td>2119.028724</td>\n",
       "      <td>2372.367790</td>\n",
       "      <td>['No remarks' 'maintanance at Thaliparamba'\\n ...</td>\n",
       "      <td>321336.0</td>\n",
       "      <td>2431001.82</td>\n",
       "      <td>336744.0</td>\n",
       "      <td>2023</td>\n",
       "      <td>5</td>\n",
       "      <td>05-2023</td>\n",
       "    </tr>\n",
       "    <tr>\n",
       "      <th>18</th>\n",
       "      <td>2023-06-30</td>\n",
       "      <td>2406.076600</td>\n",
       "      <td>3.149028</td>\n",
       "      <td>2121.064530</td>\n",
       "      <td>2328.600030</td>\n",
       "      <td>['No remarks' 'Power Failure at intake and WTP']</td>\n",
       "      <td>NaN</td>\n",
       "      <td>NaN</td>\n",
       "      <td>NaN</td>\n",
       "      <td>2023</td>\n",
       "      <td>6</td>\n",
       "      <td>06-2023</td>\n",
       "    </tr>\n",
       "    <tr>\n",
       "      <th>19</th>\n",
       "      <td>2023-07-31</td>\n",
       "      <td>2068.247780</td>\n",
       "      <td>2.939556</td>\n",
       "      <td>1903.263180</td>\n",
       "      <td>2001.648650</td>\n",
       "      <td>['No remarks' 'channel cieaning' 'intake clean...</td>\n",
       "      <td>325344.0</td>\n",
       "      <td>2265936.14</td>\n",
       "      <td>312488.0</td>\n",
       "      <td>2023</td>\n",
       "      <td>7</td>\n",
       "      <td>07-2023</td>\n",
       "    </tr>\n",
       "    <tr>\n",
       "      <th>20</th>\n",
       "      <td>2023-08-31</td>\n",
       "      <td>2349.926378</td>\n",
       "      <td>3.101962</td>\n",
       "      <td>2168.182010</td>\n",
       "      <td>2274.258400</td>\n",
       "      <td>['No remarks' 'maintanance' 'Power Failure at ...</td>\n",
       "      <td>339313.0</td>\n",
       "      <td>2634793.46</td>\n",
       "      <td>367832.0</td>\n",
       "      <td>2023</td>\n",
       "      <td>8</td>\n",
       "      <td>08-2023</td>\n",
       "    </tr>\n",
       "    <tr>\n",
       "      <th>21</th>\n",
       "      <td>2023-09-30</td>\n",
       "      <td>2262.665739</td>\n",
       "      <td>3.010500</td>\n",
       "      <td>2077.529360</td>\n",
       "      <td>2189.758220</td>\n",
       "      <td>['No remarks' 'distribution line maintanance']</td>\n",
       "      <td>NaN</td>\n",
       "      <td>NaN</td>\n",
       "      <td>NaN</td>\n",
       "      <td>2023</td>\n",
       "      <td>9</td>\n",
       "      <td>09-2023</td>\n",
       "    </tr>\n",
       "    <tr>\n",
       "      <th>22</th>\n",
       "      <td>2023-10-31</td>\n",
       "      <td>2130.573364</td>\n",
       "      <td>3.045363</td>\n",
       "      <td>1973.342580</td>\n",
       "      <td>2061.997730</td>\n",
       "      <td>['No remarks' 'distribution line maintanance']</td>\n",
       "      <td>333697.0</td>\n",
       "      <td>2172027.52</td>\n",
       "      <td>297184.0</td>\n",
       "      <td>2023</td>\n",
       "      <td>10</td>\n",
       "      <td>10-2023</td>\n",
       "    </tr>\n",
       "    <tr>\n",
       "      <th>23</th>\n",
       "      <td>2023-11-30</td>\n",
       "      <td>2230.987850</td>\n",
       "      <td>3.063097</td>\n",
       "      <td>2042.058860</td>\n",
       "      <td>2159.140988</td>\n",
       "      <td>['No remarks']</td>\n",
       "      <td>334636.0</td>\n",
       "      <td>2495518.55</td>\n",
       "      <td>342376.0</td>\n",
       "      <td>2023</td>\n",
       "      <td>11</td>\n",
       "      <td>11-2023</td>\n",
       "    </tr>\n",
       "    <tr>\n",
       "      <th>24</th>\n",
       "      <td>2023-12-31</td>\n",
       "      <td>2395.032980</td>\n",
       "      <td>3.003414</td>\n",
       "      <td>2296.823382</td>\n",
       "      <td>2317.889960</td>\n",
       "      <td>['No remarks' 'complaint at WTP']</td>\n",
       "      <td>341571.0</td>\n",
       "      <td>2724182.90</td>\n",
       "      <td>378448.0</td>\n",
       "      <td>2023</td>\n",
       "      <td>12</td>\n",
       "      <td>12-2023</td>\n",
       "    </tr>\n",
       "    <tr>\n",
       "      <th>25</th>\n",
       "      <td>2024-01-31</td>\n",
       "      <td>2254.915570</td>\n",
       "      <td>2.731317</td>\n",
       "      <td>2036.180180</td>\n",
       "      <td>2182.307180</td>\n",
       "      <td>['No remarks' 'maintanance' 'intake pumping st...</td>\n",
       "      <td>345661.0</td>\n",
       "      <td>2506021.02</td>\n",
       "      <td>337032.0</td>\n",
       "      <td>2024</td>\n",
       "      <td>1</td>\n",
       "      <td>01-2024</td>\n",
       "    </tr>\n",
       "    <tr>\n",
       "      <th>26</th>\n",
       "      <td>2024-02-29</td>\n",
       "      <td>2404.158071</td>\n",
       "      <td>2.930388</td>\n",
       "      <td>2167.673658</td>\n",
       "      <td>2326.741380</td>\n",
       "      <td>['No remarks' 'maintanance at intake']</td>\n",
       "      <td>344175.0</td>\n",
       "      <td>2652015.32</td>\n",
       "      <td>358912.0</td>\n",
       "      <td>2024</td>\n",
       "      <td>2</td>\n",
       "      <td>02-2024</td>\n",
       "    </tr>\n",
       "    <tr>\n",
       "      <th>27</th>\n",
       "      <td>2024-03-31</td>\n",
       "      <td>2586.259865</td>\n",
       "      <td>3.011788</td>\n",
       "      <td>2299.189980</td>\n",
       "      <td>2502.979580</td>\n",
       "      <td>['No remarks']</td>\n",
       "      <td>348948.0</td>\n",
       "      <td>2735819.05</td>\n",
       "      <td>379736.0</td>\n",
       "      <td>2024</td>\n",
       "      <td>3</td>\n",
       "      <td>03-2024</td>\n",
       "    </tr>\n",
       "    <tr>\n",
       "      <th>28</th>\n",
       "      <td>2024-04-30</td>\n",
       "      <td>2362.253483</td>\n",
       "      <td>2.956014</td>\n",
       "      <td>2136.454676</td>\n",
       "      <td>2286.180445</td>\n",
       "      <td>['No remarks' 'Power Failure at Intake']</td>\n",
       "      <td>359273.0</td>\n",
       "      <td>2614601.23</td>\n",
       "      <td>359136.0</td>\n",
       "      <td>2024</td>\n",
       "      <td>4</td>\n",
       "      <td>04-2024</td>\n",
       "    </tr>\n",
       "    <tr>\n",
       "      <th>29</th>\n",
       "      <td>2024-05-31</td>\n",
       "      <td>2486.204442</td>\n",
       "      <td>3.082903</td>\n",
       "      <td>2283.027300</td>\n",
       "      <td>2406.145940</td>\n",
       "      <td>['No remarks' 'Power Failure at Intake' 'Power...</td>\n",
       "      <td>357902.0</td>\n",
       "      <td>2586331.45</td>\n",
       "      <td>354696.0</td>\n",
       "      <td>2024</td>\n",
       "      <td>5</td>\n",
       "      <td>05-2024</td>\n",
       "    </tr>\n",
       "  </tbody>\n",
       "</table>\n",
       "</div>"
      ],
      "text/plain": [
       "   Standardized_Date  RAW WATER FLOW IN ML  CLEAR WATER SUMP LEVEL IN Meter  \\\n",
       "0         2021-12-31           1998.059680                         2.900954   \n",
       "1         2022-01-31           1928.276850                         2.713804   \n",
       "2         2022-02-28           1832.749031                         2.800164   \n",
       "3         2022-03-31           2169.405400                         2.831720   \n",
       "4         2022-04-30           1943.862463                         2.769444   \n",
       "5         2022-05-31           2016.614410                         2.857272   \n",
       "6         2022-06-30           1814.876370                         2.691806   \n",
       "7         2022-07-31           1599.658680                         2.793535   \n",
       "8         2022-08-31           1752.933070                         2.840269   \n",
       "9         2022-09-30           1910.059020                         2.836417   \n",
       "10        2022-10-31           2202.323760                         2.947755   \n",
       "11        2022-11-30           2121.876660                         2.924958   \n",
       "12        2022-12-31           2271.739730                         2.981196   \n",
       "13        2023-01-31           2237.711297                         3.052191   \n",
       "14        2023-02-28           2057.460310                         2.966711   \n",
       "15        2023-03-31           2310.713690                         3.034368   \n",
       "16        2023-04-30           2392.954534                         2.909681   \n",
       "17        2023-05-31           2451.286890                         3.073938   \n",
       "18        2023-06-30           2406.076600                         3.149028   \n",
       "19        2023-07-31           2068.247780                         2.939556   \n",
       "20        2023-08-31           2349.926378                         3.101962   \n",
       "21        2023-09-30           2262.665739                         3.010500   \n",
       "22        2023-10-31           2130.573364                         3.045363   \n",
       "23        2023-11-30           2230.987850                         3.063097   \n",
       "24        2023-12-31           2395.032980                         3.003414   \n",
       "25        2024-01-31           2254.915570                         2.731317   \n",
       "26        2024-02-29           2404.158071                         2.930388   \n",
       "27        2024-03-31           2586.259865                         3.011788   \n",
       "28        2024-04-30           2362.253483                         2.956014   \n",
       "29        2024-05-31           2486.204442                         3.082903   \n",
       "\n",
       "    CLEAR WATER PUMPING FLOW ML  TREATED WATER PRODUCTION IN ML  \\\n",
       "0                   1738.985111                     1933.722260   \n",
       "1                   1669.968356                     1866.186420   \n",
       "2                   1577.522110                     1773.731660   \n",
       "3                   1860.290835                     2099.551520   \n",
       "4                   1699.233060                     1881.272590   \n",
       "5                   1757.840880                     1951.698500   \n",
       "6                   1606.903240                     1756.432580   \n",
       "7                   1404.362230                     1548.147830   \n",
       "8                   1520.865680                     1696.487150   \n",
       "9                   1669.906550                     1848.543760   \n",
       "10                  1906.800580                     2131.406310   \n",
       "11                  1841.023200                     2053.546760   \n",
       "12                  1967.663750                     2198.589820   \n",
       "13                  1924.172400                     2165.670850   \n",
       "14                  1765.574653                     1991.195210   \n",
       "15                  1990.518290                     2236.309280   \n",
       "16                  2058.044720                     2315.873960   \n",
       "17                  2119.028724                     2372.367790   \n",
       "18                  2121.064530                     2328.600030   \n",
       "19                  1903.263180                     2001.648650   \n",
       "20                  2168.182010                     2274.258400   \n",
       "21                  2077.529360                     2189.758220   \n",
       "22                  1973.342580                     2061.997730   \n",
       "23                  2042.058860                     2159.140988   \n",
       "24                  2296.823382                     2317.889960   \n",
       "25                  2036.180180                     2182.307180   \n",
       "26                  2167.673658                     2326.741380   \n",
       "27                  2299.189980                     2502.979580   \n",
       "28                  2136.454676                     2286.180445   \n",
       "29                  2283.027300                     2406.145940   \n",
       "\n",
       "                                     remarks category  Avg_Consumption (kWh)  \\\n",
       "0                                      ['No remarks']               264227.0   \n",
       "1   ['No remarks' 'WTP cleaning' 'energy auditing'...               270707.0   \n",
       "2   ['No remarks' 'maintanance at intake' 'Power F...               272721.0   \n",
       "3            ['No remarks' 'Power Failure at Intake']               277393.0   \n",
       "4   ['No remarks' 'Power Failure at Intake' 'Power...               281749.0   \n",
       "5   ['No remarks' 'Power Failure at WTP' 'Power Fa...               282532.0   \n",
       "6   ['No remarks' 'Power Failure at intake and WTP...               242923.0   \n",
       "7   ['No remarks' 'intake sump level low' 'Power F...               234395.0   \n",
       "8   ['No remarks' 'Power Failure at intake and WTP...               230045.0   \n",
       "9                    ['No remarks' 'intake cleaning']               225967.0   \n",
       "10                   ['No remarks' 'intake cleaning']               226848.0   \n",
       "11                                     ['No remarks']               233447.0   \n",
       "12      ['No remarks' 'voltage fluctation at intake']               279913.0   \n",
       "13           ['No remarks' 'Power Failure at Intake']               291908.0   \n",
       "14  ['No remarks' 'Power Failure at intake and WTP...               298419.0   \n",
       "15                                     ['No remarks']               307143.0   \n",
       "16                       ['No remarks' 'maintanance']               315603.0   \n",
       "17  ['No remarks' 'maintanance at Thaliparamba'\\n ...               321336.0   \n",
       "18   ['No remarks' 'Power Failure at intake and WTP']                    NaN   \n",
       "19  ['No remarks' 'channel cieaning' 'intake clean...               325344.0   \n",
       "20  ['No remarks' 'maintanance' 'Power Failure at ...               339313.0   \n",
       "21     ['No remarks' 'distribution line maintanance']                    NaN   \n",
       "22     ['No remarks' 'distribution line maintanance']               333697.0   \n",
       "23                                     ['No remarks']               334636.0   \n",
       "24                  ['No remarks' 'complaint at WTP']               341571.0   \n",
       "25  ['No remarks' 'maintanance' 'intake pumping st...               345661.0   \n",
       "26             ['No remarks' 'maintanance at intake']               344175.0   \n",
       "27                                     ['No remarks']               348948.0   \n",
       "28           ['No remarks' 'Power Failure at Intake']               359273.0   \n",
       "29  ['No remarks' 'Power Failure at Intake' 'Power...               357902.0   \n",
       "\n",
       "    Energy Charge  Units_kWh  Year  Month Month-Year  \n",
       "0      1802752.40   284352.0  2021     12    12-2021  \n",
       "1      1814811.00   278984.0  2022      1    01-2022  \n",
       "2      1729563.80   271048.0  2022      2    02-2022  \n",
       "3      1888178.05   298664.0  2022      3    03-2022  \n",
       "4      1890310.40   299392.0  2022      4    04-2022  \n",
       "5      1681677.40   262752.0  2022      5    05-2022  \n",
       "6      1670442.48   256808.0  2022      6    06-2022  \n",
       "7      1586531.05   227816.0  2022      7    07-2022  \n",
       "8      1683641.02   244952.0  2022      8    08-2022  \n",
       "9      1865490.92   274192.0  2022      9    09-2022  \n",
       "10     2046339.30   304680.0  2022     10    10-2022  \n",
       "11     2034493.94   302344.0  2022     11    11-2022  \n",
       "12     2178204.46   325496.0  2022     12    12-2022  \n",
       "13     2016608.34   299784.0  2023      1    01-2023  \n",
       "14     1989731.04   284016.0  2023      2    02-2023  \n",
       "15     2276167.98   326536.0  2023      3    03-2023  \n",
       "16     2505844.20   355440.0  2023      4    04-2023  \n",
       "17     2431001.82   336744.0  2023      5    05-2023  \n",
       "18            NaN        NaN  2023      6    06-2023  \n",
       "19     2265936.14   312488.0  2023      7    07-2023  \n",
       "20     2634793.46   367832.0  2023      8    08-2023  \n",
       "21            NaN        NaN  2023      9    09-2023  \n",
       "22     2172027.52   297184.0  2023     10    10-2023  \n",
       "23     2495518.55   342376.0  2023     11    11-2023  \n",
       "24     2724182.90   378448.0  2023     12    12-2023  \n",
       "25     2506021.02   337032.0  2024      1    01-2024  \n",
       "26     2652015.32   358912.0  2024      2    02-2024  \n",
       "27     2735819.05   379736.0  2024      3    03-2024  \n",
       "28     2614601.23   359136.0  2024      4    04-2024  \n",
       "29     2586331.45   354696.0  2024      5    05-2024  "
      ]
     },
     "execution_count": 39,
     "metadata": {},
     "output_type": "execute_result"
    }
   ],
   "source": [
    "import pandas as pd\n",
    "import plotly.express as px\n",
    "import matplotlib.pyplot as plt\n",
    "import seaborn as sns\n",
    "import numpy as np\n",
    "import plotly.graph_objects as go\n",
    "import plotly.offline as pyo\n",
    "from plotly.subplots import make_subplots\n",
    "from sklearn.linear_model import LinearRegression\n",
    "from scipy import stats\n",
    "df = pd.read_csv('data_month_ebill_cleaned.csv')\n",
    "df.loc[26,'Units_kWh']=358912\n",
    "df.loc[24,'Units_kWh']=378448"
   ]
  },
  {
   "cell_type": "code",
   "execution_count": 40,
   "id": "8737fdf2",
   "metadata": {},
   "outputs": [],
   "source": [
    "# df.loc[26,'Units_kWh']=358912\n",
    "# df.loc[24,'Units_kWh']=378448"
   ]
  },
  {
   "cell_type": "code",
   "execution_count": 41,
   "id": "62a78d9d",
   "metadata": {
    "scrolled": false
   },
   "outputs": [
    {
     "data": {
      "text/plain": [
       "Index(['Standardized_Date', 'RAW WATER FLOW IN ML',\n",
       "       'CLEAR WATER SUMP LEVEL IN Meter', 'CLEAR WATER PUMPING FLOW ML',\n",
       "       'TREATED WATER PRODUCTION IN ML', 'remarks category',\n",
       "       'Avg_Consumption (kWh)', 'Energy Charge', 'Units_kWh', 'Year', 'Month',\n",
       "       'Month-Year', 'No:of_pumps'],\n",
       "      dtype='object')"
      ]
     },
     "execution_count": 41,
     "metadata": {},
     "output_type": "execute_result"
    }
   ],
   "source": [
    "df['No:of_pumps']=(df['CLEAR WATER PUMPING FLOW ML']/0.932).round()\n",
    "df.columns"
   ]
  },
  {
   "cell_type": "code",
   "execution_count": 42,
   "id": "53e73fd3",
   "metadata": {},
   "outputs": [
    {
     "data": {
      "text/plain": [
       "(0.9612506560173206, 0.9613074552274661)"
      ]
     },
     "execution_count": 42,
     "metadata": {},
     "output_type": "execute_result"
    }
   ],
   "source": [
    "corr_units_pumps = df['Units_kWh'].corr(df['No:of_pumps'])\n",
    "corr_units_clear_water = df['Units_kWh'].corr(df['CLEAR WATER PUMPING FLOW ML'])\n",
    "corr_units_pumps,corr_units_clear_water"
   ]
  },
  {
   "cell_type": "code",
   "execution_count": 43,
   "id": "6f01dd3b",
   "metadata": {},
   "outputs": [
    {
     "data": {
      "image/png": "[encoded data removed]",
      "text/plain": [
       "<Figure size 2000x500 with 1 Axes>"
      ]
     },
     "metadata": {},
     "output_type": "display_data"
    }
   ],
   "source": [
    "df[['No:of_pumps','Units_kWh']].plot(kind='line', figsize=(20, 5))\n",
    "plt.title('Units vs Pumps')\n",
    "plt.xlabel('Pumps')\n",
    "plt.ylabel('Units')\n",
    "plt.show()"
   ]
  },
  {
   "cell_type": "code",
   "execution_count": 44,
   "id": "ce56c8a1",
   "metadata": {
    "scrolled": true
   },
   "outputs": [
    {
     "data": {
      "text/html": [
       "<div>\n",
       "<style scoped>\n",
       "    .dataframe tbody tr th:only-of-type {\n",
       "        vertical-align: middle;\n",
       "    }\n",
       "\n",
       "    .dataframe tbody tr th {\n",
       "        vertical-align: top;\n",
       "    }\n",
       "\n",
       "    .dataframe thead th {\n",
       "        text-align: right;\n",
       "    }\n",
       "</style>\n",
       "<table border=\"1\" class=\"dataframe\">\n",
       "  <thead>\n",
       "    <tr style=\"text-align: right;\">\n",
       "      <th></th>\n",
       "      <th>Standardized_Date</th>\n",
       "      <th>RAW WATER FLOW IN ML</th>\n",
       "      <th>CLEAR WATER SUMP LEVEL IN Meter</th>\n",
       "      <th>CLEAR WATER PUMPING FLOW ML</th>\n",
       "      <th>TREATED WATER PRODUCTION IN ML</th>\n",
       "      <th>remarks category</th>\n",
       "      <th>Avg_Consumption (kWh)</th>\n",
       "      <th>Energy Charge</th>\n",
       "      <th>Units_kWh</th>\n",
       "      <th>Year</th>\n",
       "      <th>Month</th>\n",
       "      <th>Month-Year</th>\n",
       "      <th>No:of_pumps</th>\n",
       "    </tr>\n",
       "  </thead>\n",
       "  <tbody>\n",
       "    <tr>\n",
       "      <th>0</th>\n",
       "      <td>2021-12-31</td>\n",
       "      <td>1998.059680</td>\n",
       "      <td>2.900954</td>\n",
       "      <td>1738.985111</td>\n",
       "      <td>1933.722260</td>\n",
       "      <td>['No remarks']</td>\n",
       "      <td>264227.0</td>\n",
       "      <td>1802752.40</td>\n",
       "      <td>284352.0</td>\n",
       "      <td>2021</td>\n",
       "      <td>12</td>\n",
       "      <td>12-2021</td>\n",
       "      <td>1866.0</td>\n",
       "    </tr>\n",
       "    <tr>\n",
       "      <th>1</th>\n",
       "      <td>2022-01-31</td>\n",
       "      <td>1928.276850</td>\n",
       "      <td>2.713804</td>\n",
       "      <td>1669.968356</td>\n",
       "      <td>1866.186420</td>\n",
       "      <td>['No remarks' 'WTP cleaning' 'energy auditing'...</td>\n",
       "      <td>270707.0</td>\n",
       "      <td>1814811.00</td>\n",
       "      <td>278984.0</td>\n",
       "      <td>2022</td>\n",
       "      <td>1</td>\n",
       "      <td>01-2022</td>\n",
       "      <td>1792.0</td>\n",
       "    </tr>\n",
       "    <tr>\n",
       "      <th>2</th>\n",
       "      <td>2022-02-28</td>\n",
       "      <td>1832.749031</td>\n",
       "      <td>2.800164</td>\n",
       "      <td>1577.522110</td>\n",
       "      <td>1773.731660</td>\n",
       "      <td>['No remarks' 'maintanance at intake' 'Power F...</td>\n",
       "      <td>272721.0</td>\n",
       "      <td>1729563.80</td>\n",
       "      <td>271048.0</td>\n",
       "      <td>2022</td>\n",
       "      <td>2</td>\n",
       "      <td>02-2022</td>\n",
       "      <td>1693.0</td>\n",
       "    </tr>\n",
       "    <tr>\n",
       "      <th>3</th>\n",
       "      <td>2022-03-31</td>\n",
       "      <td>2169.405400</td>\n",
       "      <td>2.831720</td>\n",
       "      <td>1860.290835</td>\n",
       "      <td>2099.551520</td>\n",
       "      <td>['No remarks' 'Power Failure at Intake']</td>\n",
       "      <td>277393.0</td>\n",
       "      <td>1888178.05</td>\n",
       "      <td>298664.0</td>\n",
       "      <td>2022</td>\n",
       "      <td>3</td>\n",
       "      <td>03-2022</td>\n",
       "      <td>1996.0</td>\n",
       "    </tr>\n",
       "    <tr>\n",
       "      <th>4</th>\n",
       "      <td>2022-04-30</td>\n",
       "      <td>1943.862463</td>\n",
       "      <td>2.769444</td>\n",
       "      <td>1699.233060</td>\n",
       "      <td>1881.272590</td>\n",
       "      <td>['No remarks' 'Power Failure at Intake' 'Power...</td>\n",
       "      <td>281749.0</td>\n",
       "      <td>1890310.40</td>\n",
       "      <td>299392.0</td>\n",
       "      <td>2022</td>\n",
       "      <td>4</td>\n",
       "      <td>04-2022</td>\n",
       "      <td>1823.0</td>\n",
       "    </tr>\n",
       "    <tr>\n",
       "      <th>5</th>\n",
       "      <td>2022-05-31</td>\n",
       "      <td>2016.614410</td>\n",
       "      <td>2.857272</td>\n",
       "      <td>1757.840880</td>\n",
       "      <td>1951.698500</td>\n",
       "      <td>['No remarks' 'Power Failure at WTP' 'Power Fa...</td>\n",
       "      <td>282532.0</td>\n",
       "      <td>1681677.40</td>\n",
       "      <td>262752.0</td>\n",
       "      <td>2022</td>\n",
       "      <td>5</td>\n",
       "      <td>05-2022</td>\n",
       "      <td>1886.0</td>\n",
       "    </tr>\n",
       "    <tr>\n",
       "      <th>6</th>\n",
       "      <td>2022-06-30</td>\n",
       "      <td>1814.876370</td>\n",
       "      <td>2.691806</td>\n",
       "      <td>1606.903240</td>\n",
       "      <td>1756.432580</td>\n",
       "      <td>['No remarks' 'Power Failure at intake and WTP...</td>\n",
       "      <td>242923.0</td>\n",
       "      <td>1670442.48</td>\n",
       "      <td>256808.0</td>\n",
       "      <td>2022</td>\n",
       "      <td>6</td>\n",
       "      <td>06-2022</td>\n",
       "      <td>1724.0</td>\n",
       "    </tr>\n",
       "    <tr>\n",
       "      <th>7</th>\n",
       "      <td>2022-07-31</td>\n",
       "      <td>1599.658680</td>\n",
       "      <td>2.793535</td>\n",
       "      <td>1404.362230</td>\n",
       "      <td>1548.147830</td>\n",
       "      <td>['No remarks' 'intake sump level low' 'Power F...</td>\n",
       "      <td>234395.0</td>\n",
       "      <td>1586531.05</td>\n",
       "      <td>227816.0</td>\n",
       "      <td>2022</td>\n",
       "      <td>7</td>\n",
       "      <td>07-2022</td>\n",
       "      <td>1507.0</td>\n",
       "    </tr>\n",
       "    <tr>\n",
       "      <th>8</th>\n",
       "      <td>2022-08-31</td>\n",
       "      <td>1752.933070</td>\n",
       "      <td>2.840269</td>\n",
       "      <td>1520.865680</td>\n",
       "      <td>1696.487150</td>\n",
       "      <td>['No remarks' 'Power Failure at intake and WTP...</td>\n",
       "      <td>230045.0</td>\n",
       "      <td>1683641.02</td>\n",
       "      <td>244952.0</td>\n",
       "      <td>2022</td>\n",
       "      <td>8</td>\n",
       "      <td>08-2022</td>\n",
       "      <td>1632.0</td>\n",
       "    </tr>\n",
       "    <tr>\n",
       "      <th>9</th>\n",
       "      <td>2022-09-30</td>\n",
       "      <td>1910.059020</td>\n",
       "      <td>2.836417</td>\n",
       "      <td>1669.906550</td>\n",
       "      <td>1848.543760</td>\n",
       "      <td>['No remarks' 'intake cleaning']</td>\n",
       "      <td>225967.0</td>\n",
       "      <td>1865490.92</td>\n",
       "      <td>274192.0</td>\n",
       "      <td>2022</td>\n",
       "      <td>9</td>\n",
       "      <td>09-2022</td>\n",
       "      <td>1792.0</td>\n",
       "    </tr>\n",
       "    <tr>\n",
       "      <th>10</th>\n",
       "      <td>2022-10-31</td>\n",
       "      <td>2202.323760</td>\n",
       "      <td>2.947755</td>\n",
       "      <td>1906.800580</td>\n",
       "      <td>2131.406310</td>\n",
       "      <td>['No remarks' 'intake cleaning']</td>\n",
       "      <td>226848.0</td>\n",
       "      <td>2046339.30</td>\n",
       "      <td>304680.0</td>\n",
       "      <td>2022</td>\n",
       "      <td>10</td>\n",
       "      <td>10-2022</td>\n",
       "      <td>2046.0</td>\n",
       "    </tr>\n",
       "    <tr>\n",
       "      <th>11</th>\n",
       "      <td>2022-11-30</td>\n",
       "      <td>2121.876660</td>\n",
       "      <td>2.924958</td>\n",
       "      <td>1841.023200</td>\n",
       "      <td>2053.546760</td>\n",
       "      <td>['No remarks']</td>\n",
       "      <td>233447.0</td>\n",
       "      <td>2034493.94</td>\n",
       "      <td>302344.0</td>\n",
       "      <td>2022</td>\n",
       "      <td>11</td>\n",
       "      <td>11-2022</td>\n",
       "      <td>1975.0</td>\n",
       "    </tr>\n",
       "    <tr>\n",
       "      <th>12</th>\n",
       "      <td>2022-12-31</td>\n",
       "      <td>2271.739730</td>\n",
       "      <td>2.981196</td>\n",
       "      <td>1967.663750</td>\n",
       "      <td>2198.589820</td>\n",
       "      <td>['No remarks' 'voltage fluctation at intake']</td>\n",
       "      <td>279913.0</td>\n",
       "      <td>2178204.46</td>\n",
       "      <td>325496.0</td>\n",
       "      <td>2022</td>\n",
       "      <td>12</td>\n",
       "      <td>12-2022</td>\n",
       "      <td>2111.0</td>\n",
       "    </tr>\n",
       "    <tr>\n",
       "      <th>13</th>\n",
       "      <td>2023-01-31</td>\n",
       "      <td>2237.711297</td>\n",
       "      <td>3.052191</td>\n",
       "      <td>1924.172400</td>\n",
       "      <td>2165.670850</td>\n",
       "      <td>['No remarks' 'Power Failure at Intake']</td>\n",
       "      <td>291908.0</td>\n",
       "      <td>2016608.34</td>\n",
       "      <td>299784.0</td>\n",
       "      <td>2023</td>\n",
       "      <td>1</td>\n",
       "      <td>01-2023</td>\n",
       "      <td>2065.0</td>\n",
       "    </tr>\n",
       "    <tr>\n",
       "      <th>14</th>\n",
       "      <td>2023-02-28</td>\n",
       "      <td>2057.460310</td>\n",
       "      <td>2.966711</td>\n",
       "      <td>1765.574653</td>\n",
       "      <td>1991.195210</td>\n",
       "      <td>['No remarks' 'Power Failure at intake and WTP...</td>\n",
       "      <td>298419.0</td>\n",
       "      <td>1989731.04</td>\n",
       "      <td>284016.0</td>\n",
       "      <td>2023</td>\n",
       "      <td>2</td>\n",
       "      <td>02-2023</td>\n",
       "      <td>1894.0</td>\n",
       "    </tr>\n",
       "    <tr>\n",
       "      <th>15</th>\n",
       "      <td>2023-03-31</td>\n",
       "      <td>2310.713690</td>\n",
       "      <td>3.034368</td>\n",
       "      <td>1990.518290</td>\n",
       "      <td>2236.309280</td>\n",
       "      <td>['No remarks']</td>\n",
       "      <td>307143.0</td>\n",
       "      <td>2276167.98</td>\n",
       "      <td>326536.0</td>\n",
       "      <td>2023</td>\n",
       "      <td>3</td>\n",
       "      <td>03-2023</td>\n",
       "      <td>2136.0</td>\n",
       "    </tr>\n",
       "    <tr>\n",
       "      <th>16</th>\n",
       "      <td>2023-04-30</td>\n",
       "      <td>2392.954534</td>\n",
       "      <td>2.909681</td>\n",
       "      <td>2058.044720</td>\n",
       "      <td>2315.873960</td>\n",
       "      <td>['No remarks' 'maintanance']</td>\n",
       "      <td>315603.0</td>\n",
       "      <td>2505844.20</td>\n",
       "      <td>355440.0</td>\n",
       "      <td>2023</td>\n",
       "      <td>4</td>\n",
       "      <td>04-2023</td>\n",
       "      <td>2208.0</td>\n",
       "    </tr>\n",
       "    <tr>\n",
       "      <th>17</th>\n",
       "      <td>2023-05-31</td>\n",
       "      <td>2451.286890</td>\n",
       "      <td>3.073938</td>\n",
       "      <td>2119.028724</td>\n",
       "      <td>2372.367790</td>\n",
       "      <td>['No remarks' 'maintanance at Thaliparamba'\\n ...</td>\n",
       "      <td>321336.0</td>\n",
       "      <td>2431001.82</td>\n",
       "      <td>336744.0</td>\n",
       "      <td>2023</td>\n",
       "      <td>5</td>\n",
       "      <td>05-2023</td>\n",
       "      <td>2274.0</td>\n",
       "    </tr>\n",
       "    <tr>\n",
       "      <th>18</th>\n",
       "      <td>2023-07-31</td>\n",
       "      <td>2068.247780</td>\n",
       "      <td>2.939556</td>\n",
       "      <td>1903.263180</td>\n",
       "      <td>2001.648650</td>\n",
       "      <td>['No remarks' 'channel cieaning' 'intake clean...</td>\n",
       "      <td>325344.0</td>\n",
       "      <td>2265936.14</td>\n",
       "      <td>312488.0</td>\n",
       "      <td>2023</td>\n",
       "      <td>7</td>\n",
       "      <td>07-2023</td>\n",
       "      <td>2042.0</td>\n",
       "    </tr>\n",
       "    <tr>\n",
       "      <th>19</th>\n",
       "      <td>2023-08-31</td>\n",
       "      <td>2349.926378</td>\n",
       "      <td>3.101962</td>\n",
       "      <td>2168.182010</td>\n",
       "      <td>2274.258400</td>\n",
       "      <td>['No remarks' 'maintanance' 'Power Failure at ...</td>\n",
       "      <td>339313.0</td>\n",
       "      <td>2634793.46</td>\n",
       "      <td>367832.0</td>\n",
       "      <td>2023</td>\n",
       "      <td>8</td>\n",
       "      <td>08-2023</td>\n",
       "      <td>2326.0</td>\n",
       "    </tr>\n",
       "    <tr>\n",
       "      <th>20</th>\n",
       "      <td>2023-10-31</td>\n",
       "      <td>2130.573364</td>\n",
       "      <td>3.045363</td>\n",
       "      <td>1973.342580</td>\n",
       "      <td>2061.997730</td>\n",
       "      <td>['No remarks' 'distribution line maintanance']</td>\n",
       "      <td>333697.0</td>\n",
       "      <td>2172027.52</td>\n",
       "      <td>297184.0</td>\n",
       "      <td>2023</td>\n",
       "      <td>10</td>\n",
       "      <td>10-2023</td>\n",
       "      <td>2117.0</td>\n",
       "    </tr>\n",
       "    <tr>\n",
       "      <th>21</th>\n",
       "      <td>2023-11-30</td>\n",
       "      <td>2230.987850</td>\n",
       "      <td>3.063097</td>\n",
       "      <td>2042.058860</td>\n",
       "      <td>2159.140988</td>\n",
       "      <td>['No remarks']</td>\n",
       "      <td>334636.0</td>\n",
       "      <td>2495518.55</td>\n",
       "      <td>342376.0</td>\n",
       "      <td>2023</td>\n",
       "      <td>11</td>\n",
       "      <td>11-2023</td>\n",
       "      <td>2191.0</td>\n",
       "    </tr>\n",
       "    <tr>\n",
       "      <th>22</th>\n",
       "      <td>2023-12-31</td>\n",
       "      <td>2395.032980</td>\n",
       "      <td>3.003414</td>\n",
       "      <td>2296.823382</td>\n",
       "      <td>2317.889960</td>\n",
       "      <td>['No remarks' 'complaint at WTP']</td>\n",
       "      <td>341571.0</td>\n",
       "      <td>2724182.90</td>\n",
       "      <td>378448.0</td>\n",
       "      <td>2023</td>\n",
       "      <td>12</td>\n",
       "      <td>12-2023</td>\n",
       "      <td>2464.0</td>\n",
       "    </tr>\n",
       "    <tr>\n",
       "      <th>23</th>\n",
       "      <td>2024-01-31</td>\n",
       "      <td>2254.915570</td>\n",
       "      <td>2.731317</td>\n",
       "      <td>2036.180180</td>\n",
       "      <td>2182.307180</td>\n",
       "      <td>['No remarks' 'maintanance' 'intake pumping st...</td>\n",
       "      <td>345661.0</td>\n",
       "      <td>2506021.02</td>\n",
       "      <td>337032.0</td>\n",
       "      <td>2024</td>\n",
       "      <td>1</td>\n",
       "      <td>01-2024</td>\n",
       "      <td>2185.0</td>\n",
       "    </tr>\n",
       "    <tr>\n",
       "      <th>24</th>\n",
       "      <td>2024-02-29</td>\n",
       "      <td>2404.158071</td>\n",
       "      <td>2.930388</td>\n",
       "      <td>2167.673658</td>\n",
       "      <td>2326.741380</td>\n",
       "      <td>['No remarks' 'maintanance at intake']</td>\n",
       "      <td>344175.0</td>\n",
       "      <td>2652015.32</td>\n",
       "      <td>358912.0</td>\n",
       "      <td>2024</td>\n",
       "      <td>2</td>\n",
       "      <td>02-2024</td>\n",
       "      <td>2326.0</td>\n",
       "    </tr>\n",
       "    <tr>\n",
       "      <th>25</th>\n",
       "      <td>2024-03-31</td>\n",
       "      <td>2586.259865</td>\n",
       "      <td>3.011788</td>\n",
       "      <td>2299.189980</td>\n",
       "      <td>2502.979580</td>\n",
       "      <td>['No remarks']</td>\n",
       "      <td>348948.0</td>\n",
       "      <td>2735819.05</td>\n",
       "      <td>379736.0</td>\n",
       "      <td>2024</td>\n",
       "      <td>3</td>\n",
       "      <td>03-2024</td>\n",
       "      <td>2467.0</td>\n",
       "    </tr>\n",
       "    <tr>\n",
       "      <th>26</th>\n",
       "      <td>2024-04-30</td>\n",
       "      <td>2362.253483</td>\n",
       "      <td>2.956014</td>\n",
       "      <td>2136.454676</td>\n",
       "      <td>2286.180445</td>\n",
       "      <td>['No remarks' 'Power Failure at Intake']</td>\n",
       "      <td>359273.0</td>\n",
       "      <td>2614601.23</td>\n",
       "      <td>359136.0</td>\n",
       "      <td>2024</td>\n",
       "      <td>4</td>\n",
       "      <td>04-2024</td>\n",
       "      <td>2292.0</td>\n",
       "    </tr>\n",
       "    <tr>\n",
       "      <th>27</th>\n",
       "      <td>2024-05-31</td>\n",
       "      <td>2486.204442</td>\n",
       "      <td>3.082903</td>\n",
       "      <td>2283.027300</td>\n",
       "      <td>2406.145940</td>\n",
       "      <td>['No remarks' 'Power Failure at Intake' 'Power...</td>\n",
       "      <td>357902.0</td>\n",
       "      <td>2586331.45</td>\n",
       "      <td>354696.0</td>\n",
       "      <td>2024</td>\n",
       "      <td>5</td>\n",
       "      <td>05-2024</td>\n",
       "      <td>2450.0</td>\n",
       "    </tr>\n",
       "  </tbody>\n",
       "</table>\n",
       "</div>"
      ],
      "text/plain": [
       "   Standardized_Date  RAW WATER FLOW IN ML  CLEAR WATER SUMP LEVEL IN Meter  \\\n",
       "0         2021-12-31           1998.059680                         2.900954   \n",
       "1         2022-01-31           1928.276850                         2.713804   \n",
       "2         2022-02-28           1832.749031                         2.800164   \n",
       "3         2022-03-31           2169.405400                         2.831720   \n",
       "4         2022-04-30           1943.862463                         2.769444   \n",
       "5         2022-05-31           2016.614410                         2.857272   \n",
       "6         2022-06-30           1814.876370                         2.691806   \n",
       "7         2022-07-31           1599.658680                         2.793535   \n",
       "8         2022-08-31           1752.933070                         2.840269   \n",
       "9         2022-09-30           1910.059020                         2.836417   \n",
       "10        2022-10-31           2202.323760                         2.947755   \n",
       "11        2022-11-30           2121.876660                         2.924958   \n",
       "12        2022-12-31           2271.739730                         2.981196   \n",
       "13        2023-01-31           2237.711297                         3.052191   \n",
       "14        2023-02-28           2057.460310                         2.966711   \n",
       "15        2023-03-31           2310.713690                         3.034368   \n",
       "16        2023-04-30           2392.954534                         2.909681   \n",
       "17        2023-05-31           2451.286890                         3.073938   \n",
       "18        2023-07-31           2068.247780                         2.939556   \n",
       "19        2023-08-31           2349.926378                         3.101962   \n",
       "20        2023-10-31           2130.573364                         3.045363   \n",
       "21        2023-11-30           2230.987850                         3.063097   \n",
       "22        2023-12-31           2395.032980                         3.003414   \n",
       "23        2024-01-31           2254.915570                         2.731317   \n",
       "24        2024-02-29           2404.158071                         2.930388   \n",
       "25        2024-03-31           2586.259865                         3.011788   \n",
       "26        2024-04-30           2362.253483                         2.956014   \n",
       "27        2024-05-31           2486.204442                         3.082903   \n",
       "\n",
       "    CLEAR WATER PUMPING FLOW ML  TREATED WATER PRODUCTION IN ML  \\\n",
       "0                   1738.985111                     1933.722260   \n",
       "1                   1669.968356                     1866.186420   \n",
       "2                   1577.522110                     1773.731660   \n",
       "3                   1860.290835                     2099.551520   \n",
       "4                   1699.233060                     1881.272590   \n",
       "5                   1757.840880                     1951.698500   \n",
       "6                   1606.903240                     1756.432580   \n",
       "7                   1404.362230                     1548.147830   \n",
       "8                   1520.865680                     1696.487150   \n",
       "9                   1669.906550                     1848.543760   \n",
       "10                  1906.800580                     2131.406310   \n",
       "11                  1841.023200                     2053.546760   \n",
       "12                  1967.663750                     2198.589820   \n",
       "13                  1924.172400                     2165.670850   \n",
       "14                  1765.574653                     1991.195210   \n",
       "15                  1990.518290                     2236.309280   \n",
       "16                  2058.044720                     2315.873960   \n",
       "17                  2119.028724                     2372.367790   \n",
       "18                  1903.263180                     2001.648650   \n",
       "19                  2168.182010                     2274.258400   \n",
       "20                  1973.342580                     2061.997730   \n",
       "21                  2042.058860                     2159.140988   \n",
       "22                  2296.823382                     2317.889960   \n",
       "23                  2036.180180                     2182.307180   \n",
       "24                  2167.673658                     2326.741380   \n",
       "25                  2299.189980                     2502.979580   \n",
       "26                  2136.454676                     2286.180445   \n",
       "27                  2283.027300                     2406.145940   \n",
       "\n",
       "                                     remarks category  Avg_Consumption (kWh)  \\\n",
       "0                                      ['No remarks']               264227.0   \n",
       "1   ['No remarks' 'WTP cleaning' 'energy auditing'...               270707.0   \n",
       "2   ['No remarks' 'maintanance at intake' 'Power F...               272721.0   \n",
       "3            ['No remarks' 'Power Failure at Intake']               277393.0   \n",
       "4   ['No remarks' 'Power Failure at Intake' 'Power...               281749.0   \n",
       "5   ['No remarks' 'Power Failure at WTP' 'Power Fa...               282532.0   \n",
       "6   ['No remarks' 'Power Failure at intake and WTP...               242923.0   \n",
       "7   ['No remarks' 'intake sump level low' 'Power F...               234395.0   \n",
       "8   ['No remarks' 'Power Failure at intake and WTP...               230045.0   \n",
       "9                    ['No remarks' 'intake cleaning']               225967.0   \n",
       "10                   ['No remarks' 'intake cleaning']               226848.0   \n",
       "11                                     ['No remarks']               233447.0   \n",
       "12      ['No remarks' 'voltage fluctation at intake']               279913.0   \n",
       "13           ['No remarks' 'Power Failure at Intake']               291908.0   \n",
       "14  ['No remarks' 'Power Failure at intake and WTP...               298419.0   \n",
       "15                                     ['No remarks']               307143.0   \n",
       "16                       ['No remarks' 'maintanance']               315603.0   \n",
       "17  ['No remarks' 'maintanance at Thaliparamba'\\n ...               321336.0   \n",
       "18  ['No remarks' 'channel cieaning' 'intake clean...               325344.0   \n",
       "19  ['No remarks' 'maintanance' 'Power Failure at ...               339313.0   \n",
       "20     ['No remarks' 'distribution line maintanance']               333697.0   \n",
       "21                                     ['No remarks']               334636.0   \n",
       "22                  ['No remarks' 'complaint at WTP']               341571.0   \n",
       "23  ['No remarks' 'maintanance' 'intake pumping st...               345661.0   \n",
       "24             ['No remarks' 'maintanance at intake']               344175.0   \n",
       "25                                     ['No remarks']               348948.0   \n",
       "26           ['No remarks' 'Power Failure at Intake']               359273.0   \n",
       "27  ['No remarks' 'Power Failure at Intake' 'Power...               357902.0   \n",
       "\n",
       "    Energy Charge  Units_kWh  Year  Month Month-Year  No:of_pumps  \n",
       "0      1802752.40   284352.0  2021     12    12-2021       1866.0  \n",
       "1      1814811.00   278984.0  2022      1    01-2022       1792.0  \n",
       "2      1729563.80   271048.0  2022      2    02-2022       1693.0  \n",
       "3      1888178.05   298664.0  2022      3    03-2022       1996.0  \n",
       "4      1890310.40   299392.0  2022      4    04-2022       1823.0  \n",
       "5      1681677.40   262752.0  2022      5    05-2022       1886.0  \n",
       "6      1670442.48   256808.0  2022      6    06-2022       1724.0  \n",
       "7      1586531.05   227816.0  2022      7    07-2022       1507.0  \n",
       "8      1683641.02   244952.0  2022      8    08-2022       1632.0  \n",
       "9      1865490.92   274192.0  2022      9    09-2022       1792.0  \n",
       "10     2046339.30   304680.0  2022     10    10-2022       2046.0  \n",
       "11     2034493.94   302344.0  2022     11    11-2022       1975.0  \n",
       "12     2178204.46   325496.0  2022     12    12-2022       2111.0  \n",
       "13     2016608.34   299784.0  2023      1    01-2023       2065.0  \n",
       "14     1989731.04   284016.0  2023      2    02-2023       1894.0  \n",
       "15     2276167.98   326536.0  2023      3    03-2023       2136.0  \n",
       "16     2505844.20   355440.0  2023      4    04-2023       2208.0  \n",
       "17     2431001.82   336744.0  2023      5    05-2023       2274.0  \n",
       "18     2265936.14   312488.0  2023      7    07-2023       2042.0  \n",
       "19     2634793.46   367832.0  2023      8    08-2023       2326.0  \n",
       "20     2172027.52   297184.0  2023     10    10-2023       2117.0  \n",
       "21     2495518.55   342376.0  2023     11    11-2023       2191.0  \n",
       "22     2724182.90   378448.0  2023     12    12-2023       2464.0  \n",
       "23     2506021.02   337032.0  2024      1    01-2024       2185.0  \n",
       "24     2652015.32   358912.0  2024      2    02-2024       2326.0  \n",
       "25     2735819.05   379736.0  2024      3    03-2024       2467.0  \n",
       "26     2614601.23   359136.0  2024      4    04-2024       2292.0  \n",
       "27     2586331.45   354696.0  2024      5    05-2024       2450.0  "
      ]
     },
     "execution_count": 44,
     "metadata": {},
     "output_type": "execute_result"
    }
   ],
   "source": [
    "df2 =df.dropna().reset_index(drop=True)\n",
    "df2"
   ]
  },
  {
   "cell_type": "code",
   "execution_count": 45,
   "id": "f91b2aa5",
   "metadata": {},
   "outputs": [
    {
     "name": "stdout",
     "output_type": "stream",
     "text": [
      "Charge_June23 :2472964.61\n",
      " Charge_Sept23 : 2409426.4\n",
      " Avg_consumption_June23 : 328432.0\n",
      " Avg_consumption_Sept23 : 321847.0\n",
      " Unit_June23 : 346766.0\n",
      " Unit_Sept23 : 339606.0\n",
      "\n"
     ]
    }
   ],
   "source": [
    "x_unit = df2['CLEAR WATER PUMPING FLOW ML']\n",
    "y_unit = df2['Units_kWh']\n",
    "slope_unit, intercept_unit, r_unit, p_unit, std_err_unit = stats.linregress(x_unit, y_unit)\n",
    "\n",
    "def myfunc_unit(x_unit):\n",
    "  return slope_unit * x_unit + intercept_unit\n",
    "\n",
    "mymodel_unit = list(map(myfunc_unit, x_unit))\n",
    "\n",
    "\n",
    "y1_unit = (slope_unit * (2121.064530) + intercept_unit).round()\n",
    "y2_unit =(slope_unit * (2077.529360) + intercept_unit).round()\n",
    "y1_unit,y2_unit\n",
    "\n",
    "x_avg = df2['CLEAR WATER PUMPING FLOW ML']\n",
    "y_avg = df2['Avg_Consumption (kWh)']\n",
    "slope_avg, intercept_avg, r_avg, p_avg, std_err_avg = stats.linregress(x_avg, y_avg)\n",
    "\n",
    "def myfunc_avg(x_avg):\n",
    "  return slope_avg * x_avg + intercept_avg\n",
    "mymodel_avg = list(map(myfunc_avg, x_avg))\n",
    "\n",
    "y1_avg = (slope_avg * (2121.064530) + intercept_avg).round()\n",
    "y2_avg =(slope_avg * (2077.529360) + intercept_avg).round()\n",
    "y1_avg,y2_avg\n",
    "\n",
    "x_charge = df2['CLEAR WATER PUMPING FLOW ML']\n",
    "y_charge = df2['Energy Charge']\n",
    "slope_charge, intercept_charge, r_charge, p_charge, std_err_charge = stats.linregress(x_charge, y_charge)\n",
    "\n",
    "def myfunc_charge(x_charge):\n",
    "  return slope_charge * x_charge + intercept_charge\n",
    "mymodel_charge = list(map(myfunc_charge, x_charge))\n",
    "\n",
    "y1_charge = (slope_charge * (2121.064530) + intercept_charge).round(2)\n",
    "y2_charge =(slope_charge * (2077.529360) + intercept_charge).round(2)\n",
    "y1_charge,y2_charge\n",
    "\n",
    "\n",
    "\n",
    "\n",
    "\n",
    "print(f'Charge_June23 :{y1_charge}\\n',\n",
    "      f'Charge_Sept23 : {y2_charge}\\n',\n",
    "      f'Avg_consumption_June23 : {y1_avg}\\n',\n",
    "      f'Avg_consumption_Sept23 : {y2_avg}\\n',\n",
    "     f'Unit_June23 : {y1_unit}\\n',\n",
    "      f'Unit_Sept23 : {y2_unit}\\n')"
   ]
  },
  {
   "cell_type": "code",
   "execution_count": 46,
   "id": "8d612778",
   "metadata": {},
   "outputs": [
    {
     "data": {
      "image/png": "[encoded data removed]",
      "text/plain": [
       "<Figure size 640x480 with 1 Axes>"
      ]
     },
     "metadata": {},
     "output_type": "display_data"
    }
   ],
   "source": [
    "x_unit = df2['CLEAR WATER PUMPING FLOW ML']\n",
    "y_unit = df2['Units_kWh']\n",
    "slope_unit, intercept_unit, r_unit, p_unit, std_err_unit = stats.linregress(x_unit, y_unit)\n",
    "plt.scatter(x_unit, y_unit, label='Data Points')\n",
    "plt.plot(x_unit, mymodel_unit, color='red', label='Fitted Line')\n",
    "plt.title('Linear Regression Fit')\n",
    "plt.xlabel('Clear Water Pumping Flow (ML)')\n",
    "plt.ylabel('Units (kWh)')\n",
    "plt.legend()\n",
    "plt.show()"
   ]
  },
  {
   "cell_type": "code",
   "execution_count": 47,
   "id": "68eb51e7",
   "metadata": {},
   "outputs": [
    {
     "data": {
      "image/png": "[encoded data removed]",
      "text/plain": [
       "<Figure size 640x480 with 1 Axes>"
      ]
     },
     "metadata": {},
     "output_type": "display_data"
    }
   ],
   "source": [
    "x_avg = df2['CLEAR WATER PUMPING FLOW ML']\n",
    "y_avg = df2['Avg_Consumption (kWh)']\n",
    "slope_avg, intercept_avg, r_avg, p_avg, std_err_avg = stats.linregress(x_avg, y_avg)\n",
    "\n",
    "plt.scatter(x_avg, y_avg, label='Data Points')\n",
    "plt.plot(x_avg, mymodel_avg, color='red', label='Fitted Line')\n",
    "plt.title('Linear Regression Fit')\n",
    "plt.xlabel('Clear Water Pumping Flow (ML)')\n",
    "plt.ylabel('Average Consumption (kWh)')\n",
    "plt.legend()\n",
    "plt.show()"
   ]
  },
  {
   "cell_type": "code",
   "execution_count": 48,
   "id": "4d4d485a",
   "metadata": {},
   "outputs": [
    {
     "data": {
      "image/png": "[encoded data removed]",
      "text/plain": [
       "<Figure size 640x480 with 1 Axes>"
      ]
     },
     "metadata": {},
     "output_type": "display_data"
    }
   ],
   "source": [
    "x_charge = df2['CLEAR WATER PUMPING FLOW ML']\n",
    "y_charge = df2['Energy Charge']\n",
    "slope_charge, intercept_charge, r_charge, p_charge, std_err_charge = stats.linregress(x_charge, y_charge)\n",
    "\n",
    "plt.scatter(x_charge, y_charge, label='Data Points')\n",
    "plt.plot(x_charge, mymodel_charge, color='red', label='Fitted Line')\n",
    "plt.title('Linear Regression Fit')\n",
    "plt.xlabel('Clear Water Pumping Flow (ML)')\n",
    "plt.ylabel('Energy Charge')\n",
    "plt.legend()\n",
    "plt.show()"
   ]
  },
  {
   "cell_type": "code",
   "execution_count": 55,
   "id": "e8d02a3c",
   "metadata": {
    "scrolled": false
   },
   "outputs": [
    {
     "data": {
      "text/html": [
       "<div>\n",
       "<style scoped>\n",
       "    .dataframe tbody tr th:only-of-type {\n",
       "        vertical-align: middle;\n",
       "    }\n",
       "\n",
       "    .dataframe tbody tr th {\n",
       "        vertical-align: top;\n",
       "    }\n",
       "\n",
       "    .dataframe thead th {\n",
       "        text-align: right;\n",
       "    }\n",
       "</style>\n",
       "<table border=\"1\" class=\"dataframe\">\n",
       "  <thead>\n",
       "    <tr style=\"text-align: right;\">\n",
       "      <th></th>\n",
       "      <th>Standardized_Date</th>\n",
       "      <th>RAW WATER FLOW IN ML</th>\n",
       "      <th>CLEAR WATER SUMP LEVEL IN Meter</th>\n",
       "      <th>CLEAR WATER PUMPING FLOW ML</th>\n",
       "      <th>TREATED WATER PRODUCTION IN ML</th>\n",
       "      <th>remarks category</th>\n",
       "      <th>Avg_Consumption (kWh)</th>\n",
       "      <th>Energy Charge</th>\n",
       "      <th>Units_kWh</th>\n",
       "      <th>Year</th>\n",
       "      <th>Month</th>\n",
       "      <th>Month-Year</th>\n",
       "      <th>No:of_pumps</th>\n",
       "    </tr>\n",
       "  </thead>\n",
       "  <tbody>\n",
       "    <tr>\n",
       "      <th>0</th>\n",
       "      <td>2021-12-31</td>\n",
       "      <td>1998.059680</td>\n",
       "      <td>2.900954</td>\n",
       "      <td>1738.985111</td>\n",
       "      <td>1933.722260</td>\n",
       "      <td>['No remarks']</td>\n",
       "      <td>264227.0</td>\n",
       "      <td>1802752.40</td>\n",
       "      <td>284352.0</td>\n",
       "      <td>2021</td>\n",
       "      <td>12</td>\n",
       "      <td>12-2021</td>\n",
       "      <td>1866.0</td>\n",
       "    </tr>\n",
       "    <tr>\n",
       "      <th>1</th>\n",
       "      <td>2022-01-31</td>\n",
       "      <td>1928.276850</td>\n",
       "      <td>2.713804</td>\n",
       "      <td>1669.968356</td>\n",
       "      <td>1866.186420</td>\n",
       "      <td>['No remarks' 'WTP cleaning' 'energy auditing'...</td>\n",
       "      <td>270707.0</td>\n",
       "      <td>1814811.00</td>\n",
       "      <td>278984.0</td>\n",
       "      <td>2022</td>\n",
       "      <td>1</td>\n",
       "      <td>01-2022</td>\n",
       "      <td>1792.0</td>\n",
       "    </tr>\n",
       "    <tr>\n",
       "      <th>2</th>\n",
       "      <td>2022-02-28</td>\n",
       "      <td>1832.749031</td>\n",
       "      <td>2.800164</td>\n",
       "      <td>1577.522110</td>\n",
       "      <td>1773.731660</td>\n",
       "      <td>['No remarks' 'maintanance at intake' 'Power F...</td>\n",
       "      <td>272721.0</td>\n",
       "      <td>1729563.80</td>\n",
       "      <td>271048.0</td>\n",
       "      <td>2022</td>\n",
       "      <td>2</td>\n",
       "      <td>02-2022</td>\n",
       "      <td>1693.0</td>\n",
       "    </tr>\n",
       "    <tr>\n",
       "      <th>3</th>\n",
       "      <td>2022-03-31</td>\n",
       "      <td>2169.405400</td>\n",
       "      <td>2.831720</td>\n",
       "      <td>1860.290835</td>\n",
       "      <td>2099.551520</td>\n",
       "      <td>['No remarks' 'Power Failure at Intake']</td>\n",
       "      <td>277393.0</td>\n",
       "      <td>1888178.05</td>\n",
       "      <td>298664.0</td>\n",
       "      <td>2022</td>\n",
       "      <td>3</td>\n",
       "      <td>03-2022</td>\n",
       "      <td>1996.0</td>\n",
       "    </tr>\n",
       "    <tr>\n",
       "      <th>4</th>\n",
       "      <td>2022-04-30</td>\n",
       "      <td>1943.862463</td>\n",
       "      <td>2.769444</td>\n",
       "      <td>1699.233060</td>\n",
       "      <td>1881.272590</td>\n",
       "      <td>['No remarks' 'Power Failure at Intake' 'Power...</td>\n",
       "      <td>281749.0</td>\n",
       "      <td>1890310.40</td>\n",
       "      <td>299392.0</td>\n",
       "      <td>2022</td>\n",
       "      <td>4</td>\n",
       "      <td>04-2022</td>\n",
       "      <td>1823.0</td>\n",
       "    </tr>\n",
       "    <tr>\n",
       "      <th>5</th>\n",
       "      <td>2022-05-31</td>\n",
       "      <td>2016.614410</td>\n",
       "      <td>2.857272</td>\n",
       "      <td>1757.840880</td>\n",
       "      <td>1951.698500</td>\n",
       "      <td>['No remarks' 'Power Failure at WTP' 'Power Fa...</td>\n",
       "      <td>282532.0</td>\n",
       "      <td>1681677.40</td>\n",
       "      <td>262752.0</td>\n",
       "      <td>2022</td>\n",
       "      <td>5</td>\n",
       "      <td>05-2022</td>\n",
       "      <td>1886.0</td>\n",
       "    </tr>\n",
       "    <tr>\n",
       "      <th>6</th>\n",
       "      <td>2022-06-30</td>\n",
       "      <td>1814.876370</td>\n",
       "      <td>2.691806</td>\n",
       "      <td>1606.903240</td>\n",
       "      <td>1756.432580</td>\n",
       "      <td>['No remarks' 'Power Failure at intake and WTP...</td>\n",
       "      <td>242923.0</td>\n",
       "      <td>1670442.48</td>\n",
       "      <td>256808.0</td>\n",
       "      <td>2022</td>\n",
       "      <td>6</td>\n",
       "      <td>06-2022</td>\n",
       "      <td>1724.0</td>\n",
       "    </tr>\n",
       "    <tr>\n",
       "      <th>7</th>\n",
       "      <td>2022-07-31</td>\n",
       "      <td>1599.658680</td>\n",
       "      <td>2.793535</td>\n",
       "      <td>1404.362230</td>\n",
       "      <td>1548.147830</td>\n",
       "      <td>['No remarks' 'intake sump level low' 'Power F...</td>\n",
       "      <td>234395.0</td>\n",
       "      <td>1586531.05</td>\n",
       "      <td>227816.0</td>\n",
       "      <td>2022</td>\n",
       "      <td>7</td>\n",
       "      <td>07-2022</td>\n",
       "      <td>1507.0</td>\n",
       "    </tr>\n",
       "    <tr>\n",
       "      <th>8</th>\n",
       "      <td>2022-08-31</td>\n",
       "      <td>1752.933070</td>\n",
       "      <td>2.840269</td>\n",
       "      <td>1520.865680</td>\n",
       "      <td>1696.487150</td>\n",
       "      <td>['No remarks' 'Power Failure at intake and WTP...</td>\n",
       "      <td>230045.0</td>\n",
       "      <td>1683641.02</td>\n",
       "      <td>244952.0</td>\n",
       "      <td>2022</td>\n",
       "      <td>8</td>\n",
       "      <td>08-2022</td>\n",
       "      <td>1632.0</td>\n",
       "    </tr>\n",
       "    <tr>\n",
       "      <th>9</th>\n",
       "      <td>2022-09-30</td>\n",
       "      <td>1910.059020</td>\n",
       "      <td>2.836417</td>\n",
       "      <td>1669.906550</td>\n",
       "      <td>1848.543760</td>\n",
       "      <td>['No remarks' 'intake cleaning']</td>\n",
       "      <td>225967.0</td>\n",
       "      <td>1865490.92</td>\n",
       "      <td>274192.0</td>\n",
       "      <td>2022</td>\n",
       "      <td>9</td>\n",
       "      <td>09-2022</td>\n",
       "      <td>1792.0</td>\n",
       "    </tr>\n",
       "    <tr>\n",
       "      <th>10</th>\n",
       "      <td>2022-10-31</td>\n",
       "      <td>2202.323760</td>\n",
       "      <td>2.947755</td>\n",
       "      <td>1906.800580</td>\n",
       "      <td>2131.406310</td>\n",
       "      <td>['No remarks' 'intake cleaning']</td>\n",
       "      <td>226848.0</td>\n",
       "      <td>2046339.30</td>\n",
       "      <td>304680.0</td>\n",
       "      <td>2022</td>\n",
       "      <td>10</td>\n",
       "      <td>10-2022</td>\n",
       "      <td>2046.0</td>\n",
       "    </tr>\n",
       "    <tr>\n",
       "      <th>11</th>\n",
       "      <td>2022-11-30</td>\n",
       "      <td>2121.876660</td>\n",
       "      <td>2.924958</td>\n",
       "      <td>1841.023200</td>\n",
       "      <td>2053.546760</td>\n",
       "      <td>['No remarks']</td>\n",
       "      <td>233447.0</td>\n",
       "      <td>2034493.94</td>\n",
       "      <td>302344.0</td>\n",
       "      <td>2022</td>\n",
       "      <td>11</td>\n",
       "      <td>11-2022</td>\n",
       "      <td>1975.0</td>\n",
       "    </tr>\n",
       "    <tr>\n",
       "      <th>12</th>\n",
       "      <td>2022-12-31</td>\n",
       "      <td>2271.739730</td>\n",
       "      <td>2.981196</td>\n",
       "      <td>1967.663750</td>\n",
       "      <td>2198.589820</td>\n",
       "      <td>['No remarks' 'voltage fluctation at intake']</td>\n",
       "      <td>279913.0</td>\n",
       "      <td>2178204.46</td>\n",
       "      <td>325496.0</td>\n",
       "      <td>2022</td>\n",
       "      <td>12</td>\n",
       "      <td>12-2022</td>\n",
       "      <td>2111.0</td>\n",
       "    </tr>\n",
       "    <tr>\n",
       "      <th>13</th>\n",
       "      <td>2023-01-31</td>\n",
       "      <td>2237.711297</td>\n",
       "      <td>3.052191</td>\n",
       "      <td>1924.172400</td>\n",
       "      <td>2165.670850</td>\n",
       "      <td>['No remarks' 'Power Failure at Intake']</td>\n",
       "      <td>291908.0</td>\n",
       "      <td>2016608.34</td>\n",
       "      <td>299784.0</td>\n",
       "      <td>2023</td>\n",
       "      <td>1</td>\n",
       "      <td>01-2023</td>\n",
       "      <td>2065.0</td>\n",
       "    </tr>\n",
       "    <tr>\n",
       "      <th>14</th>\n",
       "      <td>2023-02-28</td>\n",
       "      <td>2057.460310</td>\n",
       "      <td>2.966711</td>\n",
       "      <td>1765.574653</td>\n",
       "      <td>1991.195210</td>\n",
       "      <td>['No remarks' 'Power Failure at intake and WTP...</td>\n",
       "      <td>298419.0</td>\n",
       "      <td>1989731.04</td>\n",
       "      <td>284016.0</td>\n",
       "      <td>2023</td>\n",
       "      <td>2</td>\n",
       "      <td>02-2023</td>\n",
       "      <td>1894.0</td>\n",
       "    </tr>\n",
       "    <tr>\n",
       "      <th>15</th>\n",
       "      <td>2023-03-31</td>\n",
       "      <td>2310.713690</td>\n",
       "      <td>3.034368</td>\n",
       "      <td>1990.518290</td>\n",
       "      <td>2236.309280</td>\n",
       "      <td>['No remarks']</td>\n",
       "      <td>307143.0</td>\n",
       "      <td>2276167.98</td>\n",
       "      <td>326536.0</td>\n",
       "      <td>2023</td>\n",
       "      <td>3</td>\n",
       "      <td>03-2023</td>\n",
       "      <td>2136.0</td>\n",
       "    </tr>\n",
       "    <tr>\n",
       "      <th>16</th>\n",
       "      <td>2023-04-30</td>\n",
       "      <td>2392.954534</td>\n",
       "      <td>2.909681</td>\n",
       "      <td>2058.044720</td>\n",
       "      <td>2315.873960</td>\n",
       "      <td>['No remarks' 'maintanance']</td>\n",
       "      <td>315603.0</td>\n",
       "      <td>2505844.20</td>\n",
       "      <td>355440.0</td>\n",
       "      <td>2023</td>\n",
       "      <td>4</td>\n",
       "      <td>04-2023</td>\n",
       "      <td>2208.0</td>\n",
       "    </tr>\n",
       "    <tr>\n",
       "      <th>17</th>\n",
       "      <td>2023-05-31</td>\n",
       "      <td>2451.286890</td>\n",
       "      <td>3.073938</td>\n",
       "      <td>2119.028724</td>\n",
       "      <td>2372.367790</td>\n",
       "      <td>['No remarks' 'maintanance at Thaliparamba'\\n ...</td>\n",
       "      <td>321336.0</td>\n",
       "      <td>2431001.82</td>\n",
       "      <td>336744.0</td>\n",
       "      <td>2023</td>\n",
       "      <td>5</td>\n",
       "      <td>05-2023</td>\n",
       "      <td>2274.0</td>\n",
       "    </tr>\n",
       "    <tr>\n",
       "      <th>18</th>\n",
       "      <td>2023-06-30</td>\n",
       "      <td>2406.076600</td>\n",
       "      <td>3.149028</td>\n",
       "      <td>2121.064530</td>\n",
       "      <td>2328.600030</td>\n",
       "      <td>['No remarks' 'Power Failure at intake and WTP']</td>\n",
       "      <td>328432.0</td>\n",
       "      <td>2472964.61</td>\n",
       "      <td>346766.0</td>\n",
       "      <td>2023</td>\n",
       "      <td>6</td>\n",
       "      <td>06-2023</td>\n",
       "      <td>2276.0</td>\n",
       "    </tr>\n",
       "    <tr>\n",
       "      <th>19</th>\n",
       "      <td>2023-07-31</td>\n",
       "      <td>2068.247780</td>\n",
       "      <td>2.939556</td>\n",
       "      <td>1903.263180</td>\n",
       "      <td>2001.648650</td>\n",
       "      <td>['No remarks' 'channel cieaning' 'intake clean...</td>\n",
       "      <td>325344.0</td>\n",
       "      <td>2265936.14</td>\n",
       "      <td>312488.0</td>\n",
       "      <td>2023</td>\n",
       "      <td>7</td>\n",
       "      <td>07-2023</td>\n",
       "      <td>2042.0</td>\n",
       "    </tr>\n",
       "    <tr>\n",
       "      <th>20</th>\n",
       "      <td>2023-08-31</td>\n",
       "      <td>2349.926378</td>\n",
       "      <td>3.101962</td>\n",
       "      <td>2168.182010</td>\n",
       "      <td>2274.258400</td>\n",
       "      <td>['No remarks' 'maintanance' 'Power Failure at ...</td>\n",
       "      <td>339313.0</td>\n",
       "      <td>2634793.46</td>\n",
       "      <td>367832.0</td>\n",
       "      <td>2023</td>\n",
       "      <td>8</td>\n",
       "      <td>08-2023</td>\n",
       "      <td>2326.0</td>\n",
       "    </tr>\n",
       "    <tr>\n",
       "      <th>21</th>\n",
       "      <td>2023-09-30</td>\n",
       "      <td>2262.665739</td>\n",
       "      <td>3.010500</td>\n",
       "      <td>2077.529360</td>\n",
       "      <td>2189.758220</td>\n",
       "      <td>['No remarks' 'distribution line maintanance']</td>\n",
       "      <td>321847.0</td>\n",
       "      <td>2409426.40</td>\n",
       "      <td>339606.0</td>\n",
       "      <td>2023</td>\n",
       "      <td>9</td>\n",
       "      <td>09-2023</td>\n",
       "      <td>2229.0</td>\n",
       "    </tr>\n",
       "    <tr>\n",
       "      <th>22</th>\n",
       "      <td>2023-10-31</td>\n",
       "      <td>2130.573364</td>\n",
       "      <td>3.045363</td>\n",
       "      <td>1973.342580</td>\n",
       "      <td>2061.997730</td>\n",
       "      <td>['No remarks' 'distribution line maintanance']</td>\n",
       "      <td>333697.0</td>\n",
       "      <td>2172027.52</td>\n",
       "      <td>297184.0</td>\n",
       "      <td>2023</td>\n",
       "      <td>10</td>\n",
       "      <td>10-2023</td>\n",
       "      <td>2117.0</td>\n",
       "    </tr>\n",
       "    <tr>\n",
       "      <th>23</th>\n",
       "      <td>2023-11-30</td>\n",
       "      <td>2230.987850</td>\n",
       "      <td>3.063097</td>\n",
       "      <td>2042.058860</td>\n",
       "      <td>2159.140988</td>\n",
       "      <td>['No remarks']</td>\n",
       "      <td>334636.0</td>\n",
       "      <td>2495518.55</td>\n",
       "      <td>342376.0</td>\n",
       "      <td>2023</td>\n",
       "      <td>11</td>\n",
       "      <td>11-2023</td>\n",
       "      <td>2191.0</td>\n",
       "    </tr>\n",
       "    <tr>\n",
       "      <th>24</th>\n",
       "      <td>2023-12-31</td>\n",
       "      <td>2395.032980</td>\n",
       "      <td>3.003414</td>\n",
       "      <td>2296.823382</td>\n",
       "      <td>2317.889960</td>\n",
       "      <td>['No remarks' 'complaint at WTP']</td>\n",
       "      <td>341571.0</td>\n",
       "      <td>2724182.90</td>\n",
       "      <td>378448.0</td>\n",
       "      <td>2023</td>\n",
       "      <td>12</td>\n",
       "      <td>12-2023</td>\n",
       "      <td>2464.0</td>\n",
       "    </tr>\n",
       "    <tr>\n",
       "      <th>25</th>\n",
       "      <td>2024-01-31</td>\n",
       "      <td>2254.915570</td>\n",
       "      <td>2.731317</td>\n",
       "      <td>2036.180180</td>\n",
       "      <td>2182.307180</td>\n",
       "      <td>['No remarks' 'maintanance' 'intake pumping st...</td>\n",
       "      <td>345661.0</td>\n",
       "      <td>2506021.02</td>\n",
       "      <td>337032.0</td>\n",
       "      <td>2024</td>\n",
       "      <td>1</td>\n",
       "      <td>01-2024</td>\n",
       "      <td>2185.0</td>\n",
       "    </tr>\n",
       "    <tr>\n",
       "      <th>26</th>\n",
       "      <td>2024-02-29</td>\n",
       "      <td>2404.158071</td>\n",
       "      <td>2.930388</td>\n",
       "      <td>2167.673658</td>\n",
       "      <td>2326.741380</td>\n",
       "      <td>['No remarks' 'maintanance at intake']</td>\n",
       "      <td>344175.0</td>\n",
       "      <td>2652015.32</td>\n",
       "      <td>358912.0</td>\n",
       "      <td>2024</td>\n",
       "      <td>2</td>\n",
       "      <td>02-2024</td>\n",
       "      <td>2326.0</td>\n",
       "    </tr>\n",
       "    <tr>\n",
       "      <th>27</th>\n",
       "      <td>2024-03-31</td>\n",
       "      <td>2586.259865</td>\n",
       "      <td>3.011788</td>\n",
       "      <td>2299.189980</td>\n",
       "      <td>2502.979580</td>\n",
       "      <td>['No remarks']</td>\n",
       "      <td>348948.0</td>\n",
       "      <td>2735819.05</td>\n",
       "      <td>379736.0</td>\n",
       "      <td>2024</td>\n",
       "      <td>3</td>\n",
       "      <td>03-2024</td>\n",
       "      <td>2467.0</td>\n",
       "    </tr>\n",
       "    <tr>\n",
       "      <th>28</th>\n",
       "      <td>2024-04-30</td>\n",
       "      <td>2362.253483</td>\n",
       "      <td>2.956014</td>\n",
       "      <td>2136.454676</td>\n",
       "      <td>2286.180445</td>\n",
       "      <td>['No remarks' 'Power Failure at Intake']</td>\n",
       "      <td>359273.0</td>\n",
       "      <td>2614601.23</td>\n",
       "      <td>359136.0</td>\n",
       "      <td>2024</td>\n",
       "      <td>4</td>\n",
       "      <td>04-2024</td>\n",
       "      <td>2292.0</td>\n",
       "    </tr>\n",
       "    <tr>\n",
       "      <th>29</th>\n",
       "      <td>2024-05-31</td>\n",
       "      <td>2486.204442</td>\n",
       "      <td>3.082903</td>\n",
       "      <td>2283.027300</td>\n",
       "      <td>2406.145940</td>\n",
       "      <td>['No remarks' 'Power Failure at Intake' 'Power...</td>\n",
       "      <td>357902.0</td>\n",
       "      <td>2586331.45</td>\n",
       "      <td>354696.0</td>\n",
       "      <td>2024</td>\n",
       "      <td>5</td>\n",
       "      <td>05-2024</td>\n",
       "      <td>2450.0</td>\n",
       "    </tr>\n",
       "  </tbody>\n",
       "</table>\n",
       "</div>"
      ],
      "text/plain": [
       "   Standardized_Date  RAW WATER FLOW IN ML  CLEAR WATER SUMP LEVEL IN Meter  \\\n",
       "0         2021-12-31           1998.059680                         2.900954   \n",
       "1         2022-01-31           1928.276850                         2.713804   \n",
       "2         2022-02-28           1832.749031                         2.800164   \n",
       "3         2022-03-31           2169.405400                         2.831720   \n",
       "4         2022-04-30           1943.862463                         2.769444   \n",
       "5         2022-05-31           2016.614410                         2.857272   \n",
       "6         2022-06-30           1814.876370                         2.691806   \n",
       "7         2022-07-31           1599.658680                         2.793535   \n",
       "8         2022-08-31           1752.933070                         2.840269   \n",
       "9         2022-09-30           1910.059020                         2.836417   \n",
       "10        2022-10-31           2202.323760                         2.947755   \n",
       "11        2022-11-30           2121.876660                         2.924958   \n",
       "12        2022-12-31           2271.739730                         2.981196   \n",
       "13        2023-01-31           2237.711297                         3.052191   \n",
       "14        2023-02-28           2057.460310                         2.966711   \n",
       "15        2023-03-31           2310.713690                         3.034368   \n",
       "16        2023-04-30           2392.954534                         2.909681   \n",
       "17        2023-05-31           2451.286890                         3.073938   \n",
       "18        2023-06-30           2406.076600                         3.149028   \n",
       "19        2023-07-31           2068.247780                         2.939556   \n",
       "20        2023-08-31           2349.926378                         3.101962   \n",
       "21        2023-09-30           2262.665739                         3.010500   \n",
       "22        2023-10-31           2130.573364                         3.045363   \n",
       "23        2023-11-30           2230.987850                         3.063097   \n",
       "24        2023-12-31           2395.032980                         3.003414   \n",
       "25        2024-01-31           2254.915570                         2.731317   \n",
       "26        2024-02-29           2404.158071                         2.930388   \n",
       "27        2024-03-31           2586.259865                         3.011788   \n",
       "28        2024-04-30           2362.253483                         2.956014   \n",
       "29        2024-05-31           2486.204442                         3.082903   \n",
       "\n",
       "    CLEAR WATER PUMPING FLOW ML  TREATED WATER PRODUCTION IN ML  \\\n",
       "0                   1738.985111                     1933.722260   \n",
       "1                   1669.968356                     1866.186420   \n",
       "2                   1577.522110                     1773.731660   \n",
       "3                   1860.290835                     2099.551520   \n",
       "4                   1699.233060                     1881.272590   \n",
       "5                   1757.840880                     1951.698500   \n",
       "6                   1606.903240                     1756.432580   \n",
       "7                   1404.362230                     1548.147830   \n",
       "8                   1520.865680                     1696.487150   \n",
       "9                   1669.906550                     1848.543760   \n",
       "10                  1906.800580                     2131.406310   \n",
       "11                  1841.023200                     2053.546760   \n",
       "12                  1967.663750                     2198.589820   \n",
       "13                  1924.172400                     2165.670850   \n",
       "14                  1765.574653                     1991.195210   \n",
       "15                  1990.518290                     2236.309280   \n",
       "16                  2058.044720                     2315.873960   \n",
       "17                  2119.028724                     2372.367790   \n",
       "18                  2121.064530                     2328.600030   \n",
       "19                  1903.263180                     2001.648650   \n",
       "20                  2168.182010                     2274.258400   \n",
       "21                  2077.529360                     2189.758220   \n",
       "22                  1973.342580                     2061.997730   \n",
       "23                  2042.058860                     2159.140988   \n",
       "24                  2296.823382                     2317.889960   \n",
       "25                  2036.180180                     2182.307180   \n",
       "26                  2167.673658                     2326.741380   \n",
       "27                  2299.189980                     2502.979580   \n",
       "28                  2136.454676                     2286.180445   \n",
       "29                  2283.027300                     2406.145940   \n",
       "\n",
       "                                     remarks category  Avg_Consumption (kWh)  \\\n",
       "0                                      ['No remarks']               264227.0   \n",
       "1   ['No remarks' 'WTP cleaning' 'energy auditing'...               270707.0   \n",
       "2   ['No remarks' 'maintanance at intake' 'Power F...               272721.0   \n",
       "3            ['No remarks' 'Power Failure at Intake']               277393.0   \n",
       "4   ['No remarks' 'Power Failure at Intake' 'Power...               281749.0   \n",
       "5   ['No remarks' 'Power Failure at WTP' 'Power Fa...               282532.0   \n",
       "6   ['No remarks' 'Power Failure at intake and WTP...               242923.0   \n",
       "7   ['No remarks' 'intake sump level low' 'Power F...               234395.0   \n",
       "8   ['No remarks' 'Power Failure at intake and WTP...               230045.0   \n",
       "9                    ['No remarks' 'intake cleaning']               225967.0   \n",
       "10                   ['No remarks' 'intake cleaning']               226848.0   \n",
       "11                                     ['No remarks']               233447.0   \n",
       "12      ['No remarks' 'voltage fluctation at intake']               279913.0   \n",
       "13           ['No remarks' 'Power Failure at Intake']               291908.0   \n",
       "14  ['No remarks' 'Power Failure at intake and WTP...               298419.0   \n",
       "15                                     ['No remarks']               307143.0   \n",
       "16                       ['No remarks' 'maintanance']               315603.0   \n",
       "17  ['No remarks' 'maintanance at Thaliparamba'\\n ...               321336.0   \n",
       "18   ['No remarks' 'Power Failure at intake and WTP']               328432.0   \n",
       "19  ['No remarks' 'channel cieaning' 'intake clean...               325344.0   \n",
       "20  ['No remarks' 'maintanance' 'Power Failure at ...               339313.0   \n",
       "21     ['No remarks' 'distribution line maintanance']               321847.0   \n",
       "22     ['No remarks' 'distribution line maintanance']               333697.0   \n",
       "23                                     ['No remarks']               334636.0   \n",
       "24                  ['No remarks' 'complaint at WTP']               341571.0   \n",
       "25  ['No remarks' 'maintanance' 'intake pumping st...               345661.0   \n",
       "26             ['No remarks' 'maintanance at intake']               344175.0   \n",
       "27                                     ['No remarks']               348948.0   \n",
       "28           ['No remarks' 'Power Failure at Intake']               359273.0   \n",
       "29  ['No remarks' 'Power Failure at Intake' 'Power...               357902.0   \n",
       "\n",
       "    Energy Charge  Units_kWh  Year  Month Month-Year  No:of_pumps  \n",
       "0      1802752.40   284352.0  2021     12    12-2021       1866.0  \n",
       "1      1814811.00   278984.0  2022      1    01-2022       1792.0  \n",
       "2      1729563.80   271048.0  2022      2    02-2022       1693.0  \n",
       "3      1888178.05   298664.0  2022      3    03-2022       1996.0  \n",
       "4      1890310.40   299392.0  2022      4    04-2022       1823.0  \n",
       "5      1681677.40   262752.0  2022      5    05-2022       1886.0  \n",
       "6      1670442.48   256808.0  2022      6    06-2022       1724.0  \n",
       "7      1586531.05   227816.0  2022      7    07-2022       1507.0  \n",
       "8      1683641.02   244952.0  2022      8    08-2022       1632.0  \n",
       "9      1865490.92   274192.0  2022      9    09-2022       1792.0  \n",
       "10     2046339.30   304680.0  2022     10    10-2022       2046.0  \n",
       "11     2034493.94   302344.0  2022     11    11-2022       1975.0  \n",
       "12     2178204.46   325496.0  2022     12    12-2022       2111.0  \n",
       "13     2016608.34   299784.0  2023      1    01-2023       2065.0  \n",
       "14     1989731.04   284016.0  2023      2    02-2023       1894.0  \n",
       "15     2276167.98   326536.0  2023      3    03-2023       2136.0  \n",
       "16     2505844.20   355440.0  2023      4    04-2023       2208.0  \n",
       "17     2431001.82   336744.0  2023      5    05-2023       2274.0  \n",
       "18     2472964.61   346766.0  2023      6    06-2023       2276.0  \n",
       "19     2265936.14   312488.0  2023      7    07-2023       2042.0  \n",
       "20     2634793.46   367832.0  2023      8    08-2023       2326.0  \n",
       "21     2409426.40   339606.0  2023      9    09-2023       2229.0  \n",
       "22     2172027.52   297184.0  2023     10    10-2023       2117.0  \n",
       "23     2495518.55   342376.0  2023     11    11-2023       2191.0  \n",
       "24     2724182.90   378448.0  2023     12    12-2023       2464.0  \n",
       "25     2506021.02   337032.0  2024      1    01-2024       2185.0  \n",
       "26     2652015.32   358912.0  2024      2    02-2024       2326.0  \n",
       "27     2735819.05   379736.0  2024      3    03-2024       2467.0  \n",
       "28     2614601.23   359136.0  2024      4    04-2024       2292.0  \n",
       "29     2586331.45   354696.0  2024      5    05-2024       2450.0  "
      ]
     },
     "execution_count": 55,
     "metadata": {},
     "output_type": "execute_result"
    }
   ],
   "source": [
    "index_replace = [18,21]\n",
    "colum_replace =['Avg_Consumption (kWh)','Energy Charge','Units_kWh']\n",
    "\n",
    "df.loc[index_replace,colum_replace]= [[y1_avg, y1_charge, y1_unit], [y2_avg, y2_charge, y2_unit]]\n",
    "\n",
    "df= df[['Standardized_Date', 'RAW WATER FLOW IN ML',\n",
    "       'CLEAR WATER SUMP LEVEL IN Meter', 'CLEAR WATER PUMPING FLOW ML',\n",
    "       'TREATED WATER PRODUCTION IN ML', 'remarks category',\n",
    "       'Avg_Consumption (kWh)', 'Energy Charge', 'Units_kWh',\n",
    "       'Year', 'Month',\n",
    "       'Month-Year','No:of_pumps']]\n",
    "df"
   ]
  },
  {
   "cell_type": "code",
   "execution_count": null,
   "id": "230082af",
   "metadata": {},
   "outputs": [],
   "source": [
    "fig = px.line(df, y=\"CLEAR WATER PUMPING FLOW ML\", x=\"Standardized_Date\", title='Clear Water Pumping Flow Trend')\n",
    "\n",
    "fig.show()\n",
    "pyo.plot(fig, filename='Clear Water Pumping Flow Trend', auto_open=True)"
   ]
  },
  {
   "cell_type": "code",
   "execution_count": null,
   "id": "b441824a",
   "metadata": {},
   "outputs": [],
   "source": [
    "fig = px.line(df, y=\"Units_kWh\", x=\"Standardized_Date\", title='Units Consumed Trend')\n",
    "\n",
    "fig.show()\n",
    "pyo.plot(fig, filename='Clear Water Pumping Flow Trend', auto_open=True)"
   ]
  },
  {
   "cell_type": "code",
   "execution_count": 50,
   "id": "9a011f10",
   "metadata": {},
   "outputs": [
    {
     "data": {
      "application/vnd.plotly.v1+json": {
       "config": {
        "plotlyServerURL": "https://plot.ly"
       },
       "data": [
        {
         "customdata": [
          [
           "2022-07-31"
          ],
          [
           "2022-08-31"
          ],
          [
           "2022-02-28"
          ],
          [
           "2022-06-30"
          ],
          [
           "2022-01-31"
          ],
          [
           "2022-09-30"
          ],
          [
           "2022-04-30"
          ],
          [
           "2021-12-31"
          ],
          [
           "2022-05-31"
          ],
          [
           "2023-02-28"
          ],
          [
           "2022-11-30"
          ],
          [
           "2022-03-31"
          ],
          [
           "2023-07-31"
          ],
          [
           "2022-10-31"
          ],
          [
           "2023-01-31"
          ],
          [
           "2022-12-31"
          ],
          [
           "2023-10-31"
          ],
          [
           "2023-03-31"
          ],
          [
           "2024-01-31"
          ],
          [
           "2023-11-30"
          ],
          [
           "2023-04-30"
          ],
          [
           "2023-09-30"
          ],
          [
           "2023-05-31"
          ],
          [
           "2023-06-30"
          ],
          [
           "2024-04-30"
          ],
          [
           "2023-08-31"
          ],
          [
           "2024-02-29"
          ],
          [
           "2024-05-31"
          ],
          [
           "2023-12-31"
          ],
          [
           "2024-03-31"
          ]
         ],
         "hovertemplate": "No:of_pumps=%{x}<br>Units_kWh=%{y}<br>Standardized_Date=%{customdata[0]}<extra></extra>",
         "legendgroup": "",
         "line": {
          "color": "#636efa",
          "dash": "solid"
         },
         "marker": {
          "symbol": "circle"
         },
         "mode": "lines",
         "name": "",
         "orientation": "v",
         "showlegend": false,
         "type": "scatter",
         "x": [
          1507,
          1632,
          1693,
          1724,
          1792,
          1792,
          1823,
          1866,
          1886,
          1894,
          1975,
          1996,
          2042,
          2046,
          2065,
          2111,
          2117,
          2136,
          2185,
          2191,
          2208,
          2229,
          2274,
          2276,
          2292,
          2326,
          2326,
          2450,
          2464,
          2467
         ],
         "xaxis": "x",
         "y": [
          227816,
          244952,
          271048,
          256808,
          278984,
          274192,
          299392,
          284352,
          262752,
          284016,
          302344,
          298664,
          312488,
          304680,
          299784,
          325496,
          297184,
          326536,
          337032,
          342376,
          355440,
          339606,
          336744,
          346766,
          359136,
          367832,
          358912,
          354696,
          378448,
          379736
         ],
         "yaxis": "y"
        }
       ],
       "layout": {
        "legend": {
         "tracegroupgap": 0
        },
        "template": {
         "data": {
          "bar": [
           {
            "error_x": {
             "color": "#2a3f5f"
            },
            "error_y": {
             "color": "#2a3f5f"
            },
            "marker": {
             "line": {
              "color": "#E5ECF6",
              "width": 0.5
             },
             "pattern": {
              "fillmode": "overlay",
              "size": 10,
              "solidity": 0.2
             }
            },
            "type": "bar"
           }
          ],
          "barpolar": [
           {
            "marker": {
             "line": {
              "color": "#E5ECF6",
              "width": 0.5
             },
             "pattern": {
              "fillmode": "overlay",
              "size": 10,
              "solidity": 0.2
             }
            },
            "type": "barpolar"
           }
          ],
          "carpet": [
           {
            "aaxis": {
             "endlinecolor": "#2a3f5f",
             "gridcolor": "white",
             "linecolor": "white",
             "minorgridcolor": "white",
             "startlinecolor": "#2a3f5f"
            },
            "baxis": {
             "endlinecolor": "#2a3f5f",
             "gridcolor": "white",
             "linecolor": "white",
             "minorgridcolor": "white",
             "startlinecolor": "#2a3f5f"
            },
            "type": "carpet"
           }
          ],
          "choropleth": [
           {
            "colorbar": {
             "outlinewidth": 0,
             "ticks": ""
            },
            "type": "choropleth"
           }
          ],
          "contour": [
           {
            "colorbar": {
             "outlinewidth": 0,
             "ticks": ""
            },
            "colorscale": [
             [
              0,
              "#0d0887"
             ],
             [
              0.1111111111111111,
              "#46039f"
             ],
             [
              0.2222222222222222,
              "#7201a8"
             ],
             [
              0.3333333333333333,
              "#9c179e"
             ],
             [
              0.4444444444444444,
              "#bd3786"
             ],
             [
              0.5555555555555556,
              "#d8576b"
             ],
             [
              0.6666666666666666,
              "#ed7953"
             ],
             [
              0.7777777777777778,
              "#fb9f3a"
             ],
             [
              0.8888888888888888,
              "#fdca26"
             ],
             [
              1,
              "#f0f921"
             ]
            ],
            "type": "contour"
           }
          ],
          "contourcarpet": [
           {
            "colorbar": {
             "outlinewidth": 0,
             "ticks": ""
            },
            "type": "contourcarpet"
           }
          ],
          "heatmap": [
           {
            "colorbar": {
             "outlinewidth": 0,
             "ticks": ""
            },
            "colorscale": [
             [
              0,
              "#0d0887"
             ],
             [
              0.1111111111111111,
              "#46039f"
             ],
             [
              0.2222222222222222,
              "#7201a8"
             ],
             [
              0.3333333333333333,
              "#9c179e"
             ],
             [
              0.4444444444444444,
              "#bd3786"
             ],
             [
              0.5555555555555556,
              "#d8576b"
             ],
             [
              0.6666666666666666,
              "#ed7953"
             ],
             [
              0.7777777777777778,
              "#fb9f3a"
             ],
             [
              0.8888888888888888,
              "#fdca26"
             ],
             [
              1,
              "#f0f921"
             ]
            ],
            "type": "heatmap"
           }
          ],
          "heatmapgl": [
           {
            "colorbar": {
             "outlinewidth": 0,
             "ticks": ""
            },
            "colorscale": [
             [
              0,
              "#0d0887"
             ],
             [
              0.1111111111111111,
              "#46039f"
             ],
             [
              0.2222222222222222,
              "#7201a8"
             ],
             [
              0.3333333333333333,
              "#9c179e"
             ],
             [
              0.4444444444444444,
              "#bd3786"
             ],
             [
              0.5555555555555556,
              "#d8576b"
             ],
             [
              0.6666666666666666,
              "#ed7953"
             ],
             [
              0.7777777777777778,
              "#fb9f3a"
             ],
             [
              0.8888888888888888,
              "#fdca26"
             ],
             [
              1,
              "#f0f921"
             ]
            ],
            "type": "heatmapgl"
           }
          ],
          "histogram": [
           {
            "marker": {
             "pattern": {
              "fillmode": "overlay",
              "size": 10,
              "solidity": 0.2
             }
            },
            "type": "histogram"
           }
          ],
          "histogram2d": [
           {
            "colorbar": {
             "outlinewidth": 0,
             "ticks": ""
            },
            "colorscale": [
             [
              0,
              "#0d0887"
             ],
             [
              0.1111111111111111,
              "#46039f"
             ],
             [
              0.2222222222222222,
              "#7201a8"
             ],
             [
              0.3333333333333333,
              "#9c179e"
             ],
             [
              0.4444444444444444,
              "#bd3786"
             ],
             [
              0.5555555555555556,
              "#d8576b"
             ],
             [
              0.6666666666666666,
              "#ed7953"
             ],
             [
              0.7777777777777778,
              "#fb9f3a"
             ],
             [
              0.8888888888888888,
              "#fdca26"
             ],
             [
              1,
              "#f0f921"
             ]
            ],
            "type": "histogram2d"
           }
          ],
          "histogram2dcontour": [
           {
            "colorbar": {
             "outlinewidth": 0,
             "ticks": ""
            },
            "colorscale": [
             [
              0,
              "#0d0887"
             ],
             [
              0.1111111111111111,
              "#46039f"
             ],
             [
              0.2222222222222222,
              "#7201a8"
             ],
             [
              0.3333333333333333,
              "#9c179e"
             ],
             [
              0.4444444444444444,
              "#bd3786"
             ],
             [
              0.5555555555555556,
              "#d8576b"
             ],
             [
              0.6666666666666666,
              "#ed7953"
             ],
             [
              0.7777777777777778,
              "#fb9f3a"
             ],
             [
              0.8888888888888888,
              "#fdca26"
             ],
             [
              1,
              "#f0f921"
             ]
            ],
            "type": "histogram2dcontour"
           }
          ],
          "mesh3d": [
           {
            "colorbar": {
             "outlinewidth": 0,
             "ticks": ""
            },
            "type": "mesh3d"
           }
          ],
          "parcoords": [
           {
            "line": {
             "colorbar": {
              "outlinewidth": 0,
              "ticks": ""
             }
            },
            "type": "parcoords"
           }
          ],
          "pie": [
           {
            "automargin": true,
            "type": "pie"
           }
          ],
          "scatter": [
           {
            "fillpattern": {
             "fillmode": "overlay",
             "size": 10,
             "solidity": 0.2
            },
            "type": "scatter"
           }
          ],
          "scatter3d": [
           {
            "line": {
             "colorbar": {
              "outlinewidth": 0,
              "ticks": ""
             }
            },
            "marker": {
             "colorbar": {
              "outlinewidth": 0,
              "ticks": ""
             }
            },
            "type": "scatter3d"
           }
          ],
          "scattercarpet": [
           {
            "marker": {
             "colorbar": {
              "outlinewidth": 0,
              "ticks": ""
             }
            },
            "type": "scattercarpet"
           }
          ],
          "scattergeo": [
           {
            "marker": {
             "colorbar": {
              "outlinewidth": 0,
              "ticks": ""
             }
            },
            "type": "scattergeo"
           }
          ],
          "scattergl": [
           {
            "marker": {
             "colorbar": {
              "outlinewidth": 0,
              "ticks": ""
             }
            },
            "type": "scattergl"
           }
          ],
          "scattermapbox": [
           {
            "marker": {
             "colorbar": {
              "outlinewidth": 0,
              "ticks": ""
             }
            },
            "type": "scattermapbox"
           }
          ],
          "scatterpolar": [
           {
            "marker": {
             "colorbar": {
              "outlinewidth": 0,
              "ticks": ""
             }
            },
            "type": "scatterpolar"
           }
          ],
          "scatterpolargl": [
           {
            "marker": {
             "colorbar": {
              "outlinewidth": 0,
              "ticks": ""
             }
            },
            "type": "scatterpolargl"
           }
          ],
          "scatterternary": [
           {
            "marker": {
             "colorbar": {
              "outlinewidth": 0,
              "ticks": ""
             }
            },
            "type": "scatterternary"
           }
          ],
          "surface": [
           {
            "colorbar": {
             "outlinewidth": 0,
             "ticks": ""
            },
            "colorscale": [
             [
              0,
              "#0d0887"
             ],
             [
              0.1111111111111111,
              "#46039f"
             ],
             [
              0.2222222222222222,
              "#7201a8"
             ],
             [
              0.3333333333333333,
              "#9c179e"
             ],
             [
              0.4444444444444444,
              "#bd3786"
             ],
             [
              0.5555555555555556,
              "#d8576b"
             ],
             [
              0.6666666666666666,
              "#ed7953"
             ],
             [
              0.7777777777777778,
              "#fb9f3a"
             ],
             [
              0.8888888888888888,
              "#fdca26"
             ],
             [
              1,
              "#f0f921"
             ]
            ],
            "type": "surface"
           }
          ],
          "table": [
           {
            "cells": {
             "fill": {
              "color": "#EBF0F8"
             },
             "line": {
              "color": "white"
             }
            },
            "header": {
             "fill": {
              "color": "#C8D4E3"
             },
             "line": {
              "color": "white"
             }
            },
            "type": "table"
           }
          ]
         },
         "layout": {
          "annotationdefaults": {
           "arrowcolor": "#2a3f5f",
           "arrowhead": 0,
           "arrowwidth": 1
          },
          "autotypenumbers": "strict",
          "coloraxis": {
           "colorbar": {
            "outlinewidth": 0,
            "ticks": ""
           }
          },
          "colorscale": {
           "diverging": [
            [
             0,
             "#8e0152"
            ],
            [
             0.1,
             "#c51b7d"
            ],
            [
             0.2,
             "#de77ae"
            ],
            [
             0.3,
             "#f1b6da"
            ],
            [
             0.4,
             "#fde0ef"
            ],
            [
             0.5,
             "#f7f7f7"
            ],
            [
             0.6,
             "#e6f5d0"
            ],
            [
             0.7,
             "#b8e186"
            ],
            [
             0.8,
             "#7fbc41"
            ],
            [
             0.9,
             "#4d9221"
            ],
            [
             1,
             "#276419"
            ]
           ],
           "sequential": [
            [
             0,
             "#0d0887"
            ],
            [
             0.1111111111111111,
             "#46039f"
            ],
            [
             0.2222222222222222,
             "#7201a8"
            ],
            [
             0.3333333333333333,
             "#9c179e"
            ],
            [
             0.4444444444444444,
             "#bd3786"
            ],
            [
             0.5555555555555556,
             "#d8576b"
            ],
            [
             0.6666666666666666,
             "#ed7953"
            ],
            [
             0.7777777777777778,
             "#fb9f3a"
            ],
            [
             0.8888888888888888,
             "#fdca26"
            ],
            [
             1,
             "#f0f921"
            ]
           ],
           "sequentialminus": [
            [
             0,
             "#0d0887"
            ],
            [
             0.1111111111111111,
             "#46039f"
            ],
            [
             0.2222222222222222,
             "#7201a8"
            ],
            [
             0.3333333333333333,
             "#9c179e"
            ],
            [
             0.4444444444444444,
             "#bd3786"
            ],
            [
             0.5555555555555556,
             "#d8576b"
            ],
            [
             0.6666666666666666,
             "#ed7953"
            ],
            [
             0.7777777777777778,
             "#fb9f3a"
            ],
            [
             0.8888888888888888,
             "#fdca26"
            ],
            [
             1,
             "#f0f921"
            ]
           ]
          },
          "colorway": [
           "#636efa",
           "#EF553B",
           "#00cc96",
           "#ab63fa",
           "#FFA15A",
           "#19d3f3",
           "#FF6692",
           "#B6E880",
           "#FF97FF",
           "#FECB52"
          ],
          "font": {
           "color": "#2a3f5f"
          },
          "geo": {
           "bgcolor": "white",
           "lakecolor": "white",
           "landcolor": "#E5ECF6",
           "showlakes": true,
           "showland": true,
           "subunitcolor": "white"
          },
          "hoverlabel": {
           "align": "left"
          },
          "hovermode": "closest",
          "mapbox": {
           "style": "light"
          },
          "paper_bgcolor": "white",
          "plot_bgcolor": "#E5ECF6",
          "polar": {
           "angularaxis": {
            "gridcolor": "white",
            "linecolor": "white",
            "ticks": ""
           },
           "bgcolor": "#E5ECF6",
           "radialaxis": {
            "gridcolor": "white",
            "linecolor": "white",
            "ticks": ""
           }
          },
          "scene": {
           "xaxis": {
            "backgroundcolor": "#E5ECF6",
            "gridcolor": "white",
            "gridwidth": 2,
            "linecolor": "white",
            "showbackground": true,
            "ticks": "",
            "zerolinecolor": "white"
           },
           "yaxis": {
            "backgroundcolor": "#E5ECF6",
            "gridcolor": "white",
            "gridwidth": 2,
            "linecolor": "white",
            "showbackground": true,
            "ticks": "",
            "zerolinecolor": "white"
           },
           "zaxis": {
            "backgroundcolor": "#E5ECF6",
            "gridcolor": "white",
            "gridwidth": 2,
            "linecolor": "white",
            "showbackground": true,
            "ticks": "",
            "zerolinecolor": "white"
           }
          },
          "shapedefaults": {
           "line": {
            "color": "#2a3f5f"
           }
          },
          "ternary": {
           "aaxis": {
            "gridcolor": "white",
            "linecolor": "white",
            "ticks": ""
           },
           "baxis": {
            "gridcolor": "white",
            "linecolor": "white",
            "ticks": ""
           },
           "bgcolor": "#E5ECF6",
           "caxis": {
            "gridcolor": "white",
            "linecolor": "white",
            "ticks": ""
           }
          },
          "title": {
           "x": 0.05
          },
          "xaxis": {
           "automargin": true,
           "gridcolor": "white",
           "linecolor": "white",
           "ticks": "",
           "title": {
            "standoff": 15
           },
           "zerolinecolor": "white",
           "zerolinewidth": 2
          },
          "yaxis": {
           "automargin": true,
           "gridcolor": "white",
           "linecolor": "white",
           "ticks": "",
           "title": {
            "standoff": 15
           },
           "zerolinecolor": "white",
           "zerolinewidth": 2
          }
         }
        },
        "title": {
         "text": "Units kWh vs No:of Pumps"
        },
        "xaxis": {
         "anchor": "y",
         "domain": [
          0,
          1
         ],
         "title": {
          "text": "No:of_pumps"
         }
        },
        "yaxis": {
         "anchor": "x",
         "domain": [
          0,
          1
         ],
         "title": {
          "text": "Units_kWh"
         }
        }
       }
      },
      "text/html": [
       "<div>                            <div id=\"9484d30a-279b-4f08-bfbb-2547a52ce000\" class=\"plotly-graph-div\" style=\"height:525px; width:100%;\"></div>            <script type=\"text/javascript\">                require([\"plotly\"], function(Plotly) {                    window.PLOTLYENV=window.PLOTLYENV || {};                                    if (document.getElementById(\"9484d30a-279b-4f08-bfbb-2547a52ce000\")) {                    Plotly.newPlot(                        \"9484d30a-279b-4f08-bfbb-2547a52ce000\",                        [{\"customdata\":[[\"2022-07-31\"],[\"2022-08-31\"],[\"2022-02-28\"],[\"2022-06-30\"],[\"2022-01-31\"],[\"2022-09-30\"],[\"2022-04-30\"],[\"2021-12-31\"],[\"2022-05-31\"],[\"2023-02-28\"],[\"2022-11-30\"],[\"2022-03-31\"],[\"2023-07-31\"],[\"2022-10-31\"],[\"2023-01-31\"],[\"2022-12-31\"],[\"2023-10-31\"],[\"2023-03-31\"],[\"2024-01-31\"],[\"2023-11-30\"],[\"2023-04-30\"],[\"2023-09-30\"],[\"2023-05-31\"],[\"2023-06-30\"],[\"2024-04-30\"],[\"2023-08-31\"],[\"2024-02-29\"],[\"2024-05-31\"],[\"2023-12-31\"],[\"2024-03-31\"]],\"hovertemplate\":\"No:of_pumps=%{x}<br>Units_kWh=%{y}<br>Standardized_Date=%{customdata[0]}<extra></extra>\",\"legendgroup\":\"\",\"line\":{\"color\":\"#636efa\",\"dash\":\"solid\"},\"marker\":{\"symbol\":\"circle\"},\"mode\":\"lines\",\"name\":\"\",\"orientation\":\"v\",\"showlegend\":false,\"x\":[1507.0,1632.0,1693.0,1724.0,1792.0,1792.0,1823.0,1866.0,1886.0,1894.0,1975.0,1996.0,2042.0,2046.0,2065.0,2111.0,2117.0,2136.0,2185.0,2191.0,2208.0,2229.0,2274.0,2276.0,2292.0,2326.0,2326.0,2450.0,2464.0,2467.0],\"xaxis\":\"x\",\"y\":[227816.0,244952.0,271048.0,256808.0,278984.0,274192.0,299392.0,284352.0,262752.0,284016.0,302344.0,298664.0,312488.0,304680.0,299784.0,325496.0,297184.0,326536.0,337032.0,342376.0,355440.0,339606.0,336744.0,346766.0,359136.0,367832.0,358912.0,354696.0,378448.0,379736.0],\"yaxis\":\"y\",\"type\":\"scatter\"}],                        {\"template\":{\"data\":{\"histogram2dcontour\":[{\"type\":\"histogram2dcontour\",\"colorbar\":{\"outlinewidth\":0,\"ticks\":\"\"},\"colorscale\":[[0.0,\"#0d0887\"],[0.1111111111111111,\"#46039f\"],[0.2222222222222222,\"#7201a8\"],[0.3333333333333333,\"#9c179e\"],[0.4444444444444444,\"#bd3786\"],[0.5555555555555556,\"#d8576b\"],[0.6666666666666666,\"#ed7953\"],[0.7777777777777778,\"#fb9f3a\"],[0.8888888888888888,\"#fdca26\"],[1.0,\"#f0f921\"]]}],\"choropleth\":[{\"type\":\"choropleth\",\"colorbar\":{\"outlinewidth\":0,\"ticks\":\"\"}}],\"histogram2d\":[{\"type\":\"histogram2d\",\"colorbar\":{\"outlinewidth\":0,\"ticks\":\"\"},\"colorscale\":[[0.0,\"#0d0887\"],[0.1111111111111111,\"#46039f\"],[0.2222222222222222,\"#7201a8\"],[0.3333333333333333,\"#9c179e\"],[0.4444444444444444,\"#bd3786\"],[0.5555555555555556,\"#d8576b\"],[0.6666666666666666,\"#ed7953\"],[0.7777777777777778,\"#fb9f3a\"],[0.8888888888888888,\"#fdca26\"],[1.0,\"#f0f921\"]]}],\"heatmap\":[{\"type\":\"heatmap\",\"colorbar\":{\"outlinewidth\":0,\"ticks\":\"\"},\"colorscale\":[[0.0,\"#0d0887\"],[0.1111111111111111,\"#46039f\"],[0.2222222222222222,\"#7201a8\"],[0.3333333333333333,\"#9c179e\"],[0.4444444444444444,\"#bd3786\"],[0.5555555555555556,\"#d8576b\"],[0.6666666666666666,\"#ed7953\"],[0.7777777777777778,\"#fb9f3a\"],[0.8888888888888888,\"#fdca26\"],[1.0,\"#f0f921\"]]}],\"heatmapgl\":[{\"type\":\"heatmapgl\",\"colorbar\":{\"outlinewidth\":0,\"ticks\":\"\"},\"colorscale\":[[0.0,\"#0d0887\"],[0.1111111111111111,\"#46039f\"],[0.2222222222222222,\"#7201a8\"],[0.3333333333333333,\"#9c179e\"],[0.4444444444444444,\"#bd3786\"],[0.5555555555555556,\"#d8576b\"],[0.6666666666666666,\"#ed7953\"],[0.7777777777777778,\"#fb9f3a\"],[0.8888888888888888,\"#fdca26\"],[1.0,\"#f0f921\"]]}],\"contourcarpet\":[{\"type\":\"contourcarpet\",\"colorbar\":{\"outlinewidth\":0,\"ticks\":\"\"}}],\"contour\":[{\"type\":\"contour\",\"colorbar\":{\"outlinewidth\":0,\"ticks\":\"\"},\"colorscale\":[[0.0,\"#0d0887\"],[0.1111111111111111,\"#46039f\"],[0.2222222222222222,\"#7201a8\"],[0.3333333333333333,\"#9c179e\"],[0.4444444444444444,\"#bd3786\"],[0.5555555555555556,\"#d8576b\"],[0.6666666666666666,\"#ed7953\"],[0.7777777777777778,\"#fb9f3a\"],[0.8888888888888888,\"#fdca26\"],[1.0,\"#f0f921\"]]}],\"surface\":[{\"type\":\"surface\",\"colorbar\":{\"outlinewidth\":0,\"ticks\":\"\"},\"colorscale\":[[0.0,\"#0d0887\"],[0.1111111111111111,\"#46039f\"],[0.2222222222222222,\"#7201a8\"],[0.3333333333333333,\"#9c179e\"],[0.4444444444444444,\"#bd3786\"],[0.5555555555555556,\"#d8576b\"],[0.6666666666666666,\"#ed7953\"],[0.7777777777777778,\"#fb9f3a\"],[0.8888888888888888,\"#fdca26\"],[1.0,\"#f0f921\"]]}],\"mesh3d\":[{\"type\":\"mesh3d\",\"colorbar\":{\"outlinewidth\":0,\"ticks\":\"\"}}],\"scatter\":[{\"fillpattern\":{\"fillmode\":\"overlay\",\"size\":10,\"solidity\":0.2},\"type\":\"scatter\"}],\"parcoords\":[{\"type\":\"parcoords\",\"line\":{\"colorbar\":{\"outlinewidth\":0,\"ticks\":\"\"}}}],\"scatterpolargl\":[{\"type\":\"scatterpolargl\",\"marker\":{\"colorbar\":{\"outlinewidth\":0,\"ticks\":\"\"}}}],\"bar\":[{\"error_x\":{\"color\":\"#2a3f5f\"},\"error_y\":{\"color\":\"#2a3f5f\"},\"marker\":{\"line\":{\"color\":\"#E5ECF6\",\"width\":0.5},\"pattern\":{\"fillmode\":\"overlay\",\"size\":10,\"solidity\":0.2}},\"type\":\"bar\"}],\"scattergeo\":[{\"type\":\"scattergeo\",\"marker\":{\"colorbar\":{\"outlinewidth\":0,\"ticks\":\"\"}}}],\"scatterpolar\":[{\"type\":\"scatterpolar\",\"marker\":{\"colorbar\":{\"outlinewidth\":0,\"ticks\":\"\"}}}],\"histogram\":[{\"marker\":{\"pattern\":{\"fillmode\":\"overlay\",\"size\":10,\"solidity\":0.2}},\"type\":\"histogram\"}],\"scattergl\":[{\"type\":\"scattergl\",\"marker\":{\"colorbar\":{\"outlinewidth\":0,\"ticks\":\"\"}}}],\"scatter3d\":[{\"type\":\"scatter3d\",\"line\":{\"colorbar\":{\"outlinewidth\":0,\"ticks\":\"\"}},\"marker\":{\"colorbar\":{\"outlinewidth\":0,\"ticks\":\"\"}}}],\"scattermapbox\":[{\"type\":\"scattermapbox\",\"marker\":{\"colorbar\":{\"outlinewidth\":0,\"ticks\":\"\"}}}],\"scatterternary\":[{\"type\":\"scatterternary\",\"marker\":{\"colorbar\":{\"outlinewidth\":0,\"ticks\":\"\"}}}],\"scattercarpet\":[{\"type\":\"scattercarpet\",\"marker\":{\"colorbar\":{\"outlinewidth\":0,\"ticks\":\"\"}}}],\"carpet\":[{\"aaxis\":{\"endlinecolor\":\"#2a3f5f\",\"gridcolor\":\"white\",\"linecolor\":\"white\",\"minorgridcolor\":\"white\",\"startlinecolor\":\"#2a3f5f\"},\"baxis\":{\"endlinecolor\":\"#2a3f5f\",\"gridcolor\":\"white\",\"linecolor\":\"white\",\"minorgridcolor\":\"white\",\"startlinecolor\":\"#2a3f5f\"},\"type\":\"carpet\"}],\"table\":[{\"cells\":{\"fill\":{\"color\":\"#EBF0F8\"},\"line\":{\"color\":\"white\"}},\"header\":{\"fill\":{\"color\":\"#C8D4E3\"},\"line\":{\"color\":\"white\"}},\"type\":\"table\"}],\"barpolar\":[{\"marker\":{\"line\":{\"color\":\"#E5ECF6\",\"width\":0.5},\"pattern\":{\"fillmode\":\"overlay\",\"size\":10,\"solidity\":0.2}},\"type\":\"barpolar\"}],\"pie\":[{\"automargin\":true,\"type\":\"pie\"}]},\"layout\":{\"autotypenumbers\":\"strict\",\"colorway\":[\"#636efa\",\"#EF553B\",\"#00cc96\",\"#ab63fa\",\"#FFA15A\",\"#19d3f3\",\"#FF6692\",\"#B6E880\",\"#FF97FF\",\"#FECB52\"],\"font\":{\"color\":\"#2a3f5f\"},\"hovermode\":\"closest\",\"hoverlabel\":{\"align\":\"left\"},\"paper_bgcolor\":\"white\",\"plot_bgcolor\":\"#E5ECF6\",\"polar\":{\"bgcolor\":\"#E5ECF6\",\"angularaxis\":{\"gridcolor\":\"white\",\"linecolor\":\"white\",\"ticks\":\"\"},\"radialaxis\":{\"gridcolor\":\"white\",\"linecolor\":\"white\",\"ticks\":\"\"}},\"ternary\":{\"bgcolor\":\"#E5ECF6\",\"aaxis\":{\"gridcolor\":\"white\",\"linecolor\":\"white\",\"ticks\":\"\"},\"baxis\":{\"gridcolor\":\"white\",\"linecolor\":\"white\",\"ticks\":\"\"},\"caxis\":{\"gridcolor\":\"white\",\"linecolor\":\"white\",\"ticks\":\"\"}},\"coloraxis\":{\"colorbar\":{\"outlinewidth\":0,\"ticks\":\"\"}},\"colorscale\":{\"sequential\":[[0.0,\"#0d0887\"],[0.1111111111111111,\"#46039f\"],[0.2222222222222222,\"#7201a8\"],[0.3333333333333333,\"#9c179e\"],[0.4444444444444444,\"#bd3786\"],[0.5555555555555556,\"#d8576b\"],[0.6666666666666666,\"#ed7953\"],[0.7777777777777778,\"#fb9f3a\"],[0.8888888888888888,\"#fdca26\"],[1.0,\"#f0f921\"]],\"sequentialminus\":[[0.0,\"#0d0887\"],[0.1111111111111111,\"#46039f\"],[0.2222222222222222,\"#7201a8\"],[0.3333333333333333,\"#9c179e\"],[0.4444444444444444,\"#bd3786\"],[0.5555555555555556,\"#d8576b\"],[0.6666666666666666,\"#ed7953\"],[0.7777777777777778,\"#fb9f3a\"],[0.8888888888888888,\"#fdca26\"],[1.0,\"#f0f921\"]],\"diverging\":[[0,\"#8e0152\"],[0.1,\"#c51b7d\"],[0.2,\"#de77ae\"],[0.3,\"#f1b6da\"],[0.4,\"#fde0ef\"],[0.5,\"#f7f7f7\"],[0.6,\"#e6f5d0\"],[0.7,\"#b8e186\"],[0.8,\"#7fbc41\"],[0.9,\"#4d9221\"],[1,\"#276419\"]]},\"xaxis\":{\"gridcolor\":\"white\",\"linecolor\":\"white\",\"ticks\":\"\",\"title\":{\"standoff\":15},\"zerolinecolor\":\"white\",\"automargin\":true,\"zerolinewidth\":2},\"yaxis\":{\"gridcolor\":\"white\",\"linecolor\":\"white\",\"ticks\":\"\",\"title\":{\"standoff\":15},\"zerolinecolor\":\"white\",\"automargin\":true,\"zerolinewidth\":2},\"scene\":{\"xaxis\":{\"backgroundcolor\":\"#E5ECF6\",\"gridcolor\":\"white\",\"linecolor\":\"white\",\"showbackground\":true,\"ticks\":\"\",\"zerolinecolor\":\"white\",\"gridwidth\":2},\"yaxis\":{\"backgroundcolor\":\"#E5ECF6\",\"gridcolor\":\"white\",\"linecolor\":\"white\",\"showbackground\":true,\"ticks\":\"\",\"zerolinecolor\":\"white\",\"gridwidth\":2},\"zaxis\":{\"backgroundcolor\":\"#E5ECF6\",\"gridcolor\":\"white\",\"linecolor\":\"white\",\"showbackground\":true,\"ticks\":\"\",\"zerolinecolor\":\"white\",\"gridwidth\":2}},\"shapedefaults\":{\"line\":{\"color\":\"#2a3f5f\"}},\"annotationdefaults\":{\"arrowcolor\":\"#2a3f5f\",\"arrowhead\":0,\"arrowwidth\":1},\"geo\":{\"bgcolor\":\"white\",\"landcolor\":\"#E5ECF6\",\"subunitcolor\":\"white\",\"showland\":true,\"showlakes\":true,\"lakecolor\":\"white\"},\"title\":{\"x\":0.05},\"mapbox\":{\"style\":\"light\"}}},\"xaxis\":{\"anchor\":\"y\",\"domain\":[0.0,1.0],\"title\":{\"text\":\"No:of_pumps\"}},\"yaxis\":{\"anchor\":\"x\",\"domain\":[0.0,1.0],\"title\":{\"text\":\"Units_kWh\"}},\"legend\":{\"tracegroupgap\":0},\"title\":{\"text\":\"Units kWh vs No:of Pumps\"}},                        {\"responsive\": true}                    ).then(function(){\n",
       "                            \n",
       "var gd = document.getElementById('9484d30a-279b-4f08-bfbb-2547a52ce000');\n",
       "var x = new MutationObserver(function (mutations, observer) {{\n",
       "        var display = window.getComputedStyle(gd).display;\n",
       "        if (!display || display === 'none') {{\n",
       "            console.log([gd, 'removed!']);\n",
       "            Plotly.purge(gd);\n",
       "            observer.disconnect();\n",
       "        }}\n",
       "}});\n",
       "\n",
       "// Listen for the removal of the full notebook cells\n",
       "var notebookContainer = gd.closest('#notebook-container');\n",
       "if (notebookContainer) {{\n",
       "    x.observe(notebookContainer, {childList: true});\n",
       "}}\n",
       "\n",
       "// Listen for the clearing of the current output cell\n",
       "var outputEl = gd.closest('.output');\n",
       "if (outputEl) {{\n",
       "    x.observe(outputEl, {childList: true});\n",
       "}}\n",
       "\n",
       "                        })                };                });            </script>        </div>"
      ]
     },
     "metadata": {},
     "output_type": "display_data"
    }
   ],
   "source": [
    "sorted_data = df.sort_values(by='No:of_pumps')\n",
    "fig = px.line(sorted_data, x=\"No:of_pumps\", y='Units_kWh', title='Units kWh vs No:of Pumps',hover_data=['Standardized_Date','No:of_pumps'])\n",
    "\n",
    "fig.show()"
   ]
  },
  {
   "cell_type": "code",
   "execution_count": 51,
   "id": "c096cbb2",
   "metadata": {},
   "outputs": [
    {
     "data": {
      "application/vnd.plotly.v1+json": {
       "config": {
        "plotlyServerURL": "https://plot.ly"
       },
       "data": [
        {
         "hovertemplate": "CLEAR WATER PUMPING FLOW ML=%{x}<br>Units_kWh=%{y}<extra></extra>",
         "legendgroup": "",
         "line": {
          "color": "#636efa",
          "dash": "solid"
         },
         "marker": {
          "symbol": "circle"
         },
         "mode": "lines",
         "name": "",
         "orientation": "v",
         "showlegend": false,
         "type": "scatter",
         "x": [
          1404.36223,
          1520.86568,
          1577.52211,
          1606.90324,
          1669.968356,
          1669.90655,
          1699.23306,
          1738.985111,
          1757.84088,
          1765.574653,
          1841.0232,
          1860.290835,
          1903.26318,
          1906.80058,
          1924.1724,
          1967.66375,
          1973.34258,
          1990.51829,
          2036.18018,
          2042.05886,
          2058.04472,
          2077.52936,
          2119.028724,
          2121.06453,
          2136.454676,
          2168.18201,
          2167.673658,
          2283.0273,
          2296.823382,
          2299.18998
         ],
         "xaxis": "x",
         "y": [
          227816,
          244952,
          271048,
          256808,
          278984,
          274192,
          299392,
          284352,
          262752,
          284016,
          302344,
          298664,
          312488,
          304680,
          299784,
          325496,
          297184,
          326536,
          337032,
          342376,
          355440,
          339606,
          336744,
          346766,
          359136,
          367832,
          358912,
          354696,
          378448,
          379736
         ],
         "yaxis": "y"
        }
       ],
       "layout": {
        "legend": {
         "tracegroupgap": 0
        },
        "template": {
         "data": {
          "bar": [
           {
            "error_x": {
             "color": "#2a3f5f"
            },
            "error_y": {
             "color": "#2a3f5f"
            },
            "marker": {
             "line": {
              "color": "#E5ECF6",
              "width": 0.5
             },
             "pattern": {
              "fillmode": "overlay",
              "size": 10,
              "solidity": 0.2
             }
            },
            "type": "bar"
           }
          ],
          "barpolar": [
           {
            "marker": {
             "line": {
              "color": "#E5ECF6",
              "width": 0.5
             },
             "pattern": {
              "fillmode": "overlay",
              "size": 10,
              "solidity": 0.2
             }
            },
            "type": "barpolar"
           }
          ],
          "carpet": [
           {
            "aaxis": {
             "endlinecolor": "#2a3f5f",
             "gridcolor": "white",
             "linecolor": "white",
             "minorgridcolor": "white",
             "startlinecolor": "#2a3f5f"
            },
            "baxis": {
             "endlinecolor": "#2a3f5f",
             "gridcolor": "white",
             "linecolor": "white",
             "minorgridcolor": "white",
             "startlinecolor": "#2a3f5f"
            },
            "type": "carpet"
           }
          ],
          "choropleth": [
           {
            "colorbar": {
             "outlinewidth": 0,
             "ticks": ""
            },
            "type": "choropleth"
           }
          ],
          "contour": [
           {
            "colorbar": {
             "outlinewidth": 0,
             "ticks": ""
            },
            "colorscale": [
             [
              0,
              "#0d0887"
             ],
             [
              0.1111111111111111,
              "#46039f"
             ],
             [
              0.2222222222222222,
              "#7201a8"
             ],
             [
              0.3333333333333333,
              "#9c179e"
             ],
             [
              0.4444444444444444,
              "#bd3786"
             ],
             [
              0.5555555555555556,
              "#d8576b"
             ],
             [
              0.6666666666666666,
              "#ed7953"
             ],
             [
              0.7777777777777778,
              "#fb9f3a"
             ],
             [
              0.8888888888888888,
              "#fdca26"
             ],
             [
              1,
              "#f0f921"
             ]
            ],
            "type": "contour"
           }
          ],
          "contourcarpet": [
           {
            "colorbar": {
             "outlinewidth": 0,
             "ticks": ""
            },
            "type": "contourcarpet"
           }
          ],
          "heatmap": [
           {
            "colorbar": {
             "outlinewidth": 0,
             "ticks": ""
            },
            "colorscale": [
             [
              0,
              "#0d0887"
             ],
             [
              0.1111111111111111,
              "#46039f"
             ],
             [
              0.2222222222222222,
              "#7201a8"
             ],
             [
              0.3333333333333333,
              "#9c179e"
             ],
             [
              0.4444444444444444,
              "#bd3786"
             ],
             [
              0.5555555555555556,
              "#d8576b"
             ],
             [
              0.6666666666666666,
              "#ed7953"
             ],
             [
              0.7777777777777778,
              "#fb9f3a"
             ],
             [
              0.8888888888888888,
              "#fdca26"
             ],
             [
              1,
              "#f0f921"
             ]
            ],
            "type": "heatmap"
           }
          ],
          "heatmapgl": [
           {
            "colorbar": {
             "outlinewidth": 0,
             "ticks": ""
            },
            "colorscale": [
             [
              0,
              "#0d0887"
             ],
             [
              0.1111111111111111,
              "#46039f"
             ],
             [
              0.2222222222222222,
              "#7201a8"
             ],
             [
              0.3333333333333333,
              "#9c179e"
             ],
             [
              0.4444444444444444,
              "#bd3786"
             ],
             [
              0.5555555555555556,
              "#d8576b"
             ],
             [
              0.6666666666666666,
              "#ed7953"
             ],
             [
              0.7777777777777778,
              "#fb9f3a"
             ],
             [
              0.8888888888888888,
              "#fdca26"
             ],
             [
              1,
              "#f0f921"
             ]
            ],
            "type": "heatmapgl"
           }
          ],
          "histogram": [
           {
            "marker": {
             "pattern": {
              "fillmode": "overlay",
              "size": 10,
              "solidity": 0.2
             }
            },
            "type": "histogram"
           }
          ],
          "histogram2d": [
           {
            "colorbar": {
             "outlinewidth": 0,
             "ticks": ""
            },
            "colorscale": [
             [
              0,
              "#0d0887"
             ],
             [
              0.1111111111111111,
              "#46039f"
             ],
             [
              0.2222222222222222,
              "#7201a8"
             ],
             [
              0.3333333333333333,
              "#9c179e"
             ],
             [
              0.4444444444444444,
              "#bd3786"
             ],
             [
              0.5555555555555556,
              "#d8576b"
             ],
             [
              0.6666666666666666,
              "#ed7953"
             ],
             [
              0.7777777777777778,
              "#fb9f3a"
             ],
             [
              0.8888888888888888,
              "#fdca26"
             ],
             [
              1,
              "#f0f921"
             ]
            ],
            "type": "histogram2d"
           }
          ],
          "histogram2dcontour": [
           {
            "colorbar": {
             "outlinewidth": 0,
             "ticks": ""
            },
            "colorscale": [
             [
              0,
              "#0d0887"
             ],
             [
              0.1111111111111111,
              "#46039f"
             ],
             [
              0.2222222222222222,
              "#7201a8"
             ],
             [
              0.3333333333333333,
              "#9c179e"
             ],
             [
              0.4444444444444444,
              "#bd3786"
             ],
             [
              0.5555555555555556,
              "#d8576b"
             ],
             [
              0.6666666666666666,
              "#ed7953"
             ],
             [
              0.7777777777777778,
              "#fb9f3a"
             ],
             [
              0.8888888888888888,
              "#fdca26"
             ],
             [
              1,
              "#f0f921"
             ]
            ],
            "type": "histogram2dcontour"
           }
          ],
          "mesh3d": [
           {
            "colorbar": {
             "outlinewidth": 0,
             "ticks": ""
            },
            "type": "mesh3d"
           }
          ],
          "parcoords": [
           {
            "line": {
             "colorbar": {
              "outlinewidth": 0,
              "ticks": ""
             }
            },
            "type": "parcoords"
           }
          ],
          "pie": [
           {
            "automargin": true,
            "type": "pie"
           }
          ],
          "scatter": [
           {
            "fillpattern": {
             "fillmode": "overlay",
             "size": 10,
             "solidity": 0.2
            },
            "type": "scatter"
           }
          ],
          "scatter3d": [
           {
            "line": {
             "colorbar": {
              "outlinewidth": 0,
              "ticks": ""
             }
            },
            "marker": {
             "colorbar": {
              "outlinewidth": 0,
              "ticks": ""
             }
            },
            "type": "scatter3d"
           }
          ],
          "scattercarpet": [
           {
            "marker": {
             "colorbar": {
              "outlinewidth": 0,
              "ticks": ""
             }
            },
            "type": "scattercarpet"
           }
          ],
          "scattergeo": [
           {
            "marker": {
             "colorbar": {
              "outlinewidth": 0,
              "ticks": ""
             }
            },
            "type": "scattergeo"
           }
          ],
          "scattergl": [
           {
            "marker": {
             "colorbar": {
              "outlinewidth": 0,
              "ticks": ""
             }
            },
            "type": "scattergl"
           }
          ],
          "scattermapbox": [
           {
            "marker": {
             "colorbar": {
              "outlinewidth": 0,
              "ticks": ""
             }
            },
            "type": "scattermapbox"
           }
          ],
          "scatterpolar": [
           {
            "marker": {
             "colorbar": {
              "outlinewidth": 0,
              "ticks": ""
             }
            },
            "type": "scatterpolar"
           }
          ],
          "scatterpolargl": [
           {
            "marker": {
             "colorbar": {
              "outlinewidth": 0,
              "ticks": ""
             }
            },
            "type": "scatterpolargl"
           }
          ],
          "scatterternary": [
           {
            "marker": {
             "colorbar": {
              "outlinewidth": 0,
              "ticks": ""
             }
            },
            "type": "scatterternary"
           }
          ],
          "surface": [
           {
            "colorbar": {
             "outlinewidth": 0,
             "ticks": ""
            },
            "colorscale": [
             [
              0,
              "#0d0887"
             ],
             [
              0.1111111111111111,
              "#46039f"
             ],
             [
              0.2222222222222222,
              "#7201a8"
             ],
             [
              0.3333333333333333,
              "#9c179e"
             ],
             [
              0.4444444444444444,
              "#bd3786"
             ],
             [
              0.5555555555555556,
              "#d8576b"
             ],
             [
              0.6666666666666666,
              "#ed7953"
             ],
             [
              0.7777777777777778,
              "#fb9f3a"
             ],
             [
              0.8888888888888888,
              "#fdca26"
             ],
             [
              1,
              "#f0f921"
             ]
            ],
            "type": "surface"
           }
          ],
          "table": [
           {
            "cells": {
             "fill": {
              "color": "#EBF0F8"
             },
             "line": {
              "color": "white"
             }
            },
            "header": {
             "fill": {
              "color": "#C8D4E3"
             },
             "line": {
              "color": "white"
             }
            },
            "type": "table"
           }
          ]
         },
         "layout": {
          "annotationdefaults": {
           "arrowcolor": "#2a3f5f",
           "arrowhead": 0,
           "arrowwidth": 1
          },
          "autotypenumbers": "strict",
          "coloraxis": {
           "colorbar": {
            "outlinewidth": 0,
            "ticks": ""
           }
          },
          "colorscale": {
           "diverging": [
            [
             0,
             "#8e0152"
            ],
            [
             0.1,
             "#c51b7d"
            ],
            [
             0.2,
             "#de77ae"
            ],
            [
             0.3,
             "#f1b6da"
            ],
            [
             0.4,
             "#fde0ef"
            ],
            [
             0.5,
             "#f7f7f7"
            ],
            [
             0.6,
             "#e6f5d0"
            ],
            [
             0.7,
             "#b8e186"
            ],
            [
             0.8,
             "#7fbc41"
            ],
            [
             0.9,
             "#4d9221"
            ],
            [
             1,
             "#276419"
            ]
           ],
           "sequential": [
            [
             0,
             "#0d0887"
            ],
            [
             0.1111111111111111,
             "#46039f"
            ],
            [
             0.2222222222222222,
             "#7201a8"
            ],
            [
             0.3333333333333333,
             "#9c179e"
            ],
            [
             0.4444444444444444,
             "#bd3786"
            ],
            [
             0.5555555555555556,
             "#d8576b"
            ],
            [
             0.6666666666666666,
             "#ed7953"
            ],
            [
             0.7777777777777778,
             "#fb9f3a"
            ],
            [
             0.8888888888888888,
             "#fdca26"
            ],
            [
             1,
             "#f0f921"
            ]
           ],
           "sequentialminus": [
            [
             0,
             "#0d0887"
            ],
            [
             0.1111111111111111,
             "#46039f"
            ],
            [
             0.2222222222222222,
             "#7201a8"
            ],
            [
             0.3333333333333333,
             "#9c179e"
            ],
            [
             0.4444444444444444,
             "#bd3786"
            ],
            [
             0.5555555555555556,
             "#d8576b"
            ],
            [
             0.6666666666666666,
             "#ed7953"
            ],
            [
             0.7777777777777778,
             "#fb9f3a"
            ],
            [
             0.8888888888888888,
             "#fdca26"
            ],
            [
             1,
             "#f0f921"
            ]
           ]
          },
          "colorway": [
           "#636efa",
           "#EF553B",
           "#00cc96",
           "#ab63fa",
           "#FFA15A",
           "#19d3f3",
           "#FF6692",
           "#B6E880",
           "#FF97FF",
           "#FECB52"
          ],
          "font": {
           "color": "#2a3f5f"
          },
          "geo": {
           "bgcolor": "white",
           "lakecolor": "white",
           "landcolor": "#E5ECF6",
           "showlakes": true,
           "showland": true,
           "subunitcolor": "white"
          },
          "hoverlabel": {
           "align": "left"
          },
          "hovermode": "closest",
          "mapbox": {
           "style": "light"
          },
          "paper_bgcolor": "white",
          "plot_bgcolor": "#E5ECF6",
          "polar": {
           "angularaxis": {
            "gridcolor": "white",
            "linecolor": "white",
            "ticks": ""
           },
           "bgcolor": "#E5ECF6",
           "radialaxis": {
            "gridcolor": "white",
            "linecolor": "white",
            "ticks": ""
           }
          },
          "scene": {
           "xaxis": {
            "backgroundcolor": "#E5ECF6",
            "gridcolor": "white",
            "gridwidth": 2,
            "linecolor": "white",
            "showbackground": true,
            "ticks": "",
            "zerolinecolor": "white"
           },
           "yaxis": {
            "backgroundcolor": "#E5ECF6",
            "gridcolor": "white",
            "gridwidth": 2,
            "linecolor": "white",
            "showbackground": true,
            "ticks": "",
            "zerolinecolor": "white"
           },
           "zaxis": {
            "backgroundcolor": "#E5ECF6",
            "gridcolor": "white",
            "gridwidth": 2,
            "linecolor": "white",
            "showbackground": true,
            "ticks": "",
            "zerolinecolor": "white"
           }
          },
          "shapedefaults": {
           "line": {
            "color": "#2a3f5f"
           }
          },
          "ternary": {
           "aaxis": {
            "gridcolor": "white",
            "linecolor": "white",
            "ticks": ""
           },
           "baxis": {
            "gridcolor": "white",
            "linecolor": "white",
            "ticks": ""
           },
           "bgcolor": "#E5ECF6",
           "caxis": {
            "gridcolor": "white",
            "linecolor": "white",
            "ticks": ""
           }
          },
          "title": {
           "x": 0.05
          },
          "xaxis": {
           "automargin": true,
           "gridcolor": "white",
           "linecolor": "white",
           "ticks": "",
           "title": {
            "standoff": 15
           },
           "zerolinecolor": "white",
           "zerolinewidth": 2
          },
          "yaxis": {
           "automargin": true,
           "gridcolor": "white",
           "linecolor": "white",
           "ticks": "",
           "title": {
            "standoff": 15
           },
           "zerolinecolor": "white",
           "zerolinewidth": 2
          }
         }
        },
        "title": {
         "text": "Clear Water Pumping Flow vs Units kWh"
        },
        "xaxis": {
         "anchor": "y",
         "domain": [
          0,
          1
         ],
         "title": {
          "text": "CLEAR WATER PUMPING FLOW ML"
         }
        },
        "yaxis": {
         "anchor": "x",
         "domain": [
          0,
          1
         ],
         "title": {
          "text": "Units_kWh"
         }
        }
       }
      },
      "text/html": [
       "<div>                            <div id=\"edce83d9-9a6f-4cda-a132-a4a6790012bd\" class=\"plotly-graph-div\" style=\"height:525px; width:100%;\"></div>            <script type=\"text/javascript\">                require([\"plotly\"], function(Plotly) {                    window.PLOTLYENV=window.PLOTLYENV || {};                                    if (document.getElementById(\"edce83d9-9a6f-4cda-a132-a4a6790012bd\")) {                    Plotly.newPlot(                        \"edce83d9-9a6f-4cda-a132-a4a6790012bd\",                        [{\"hovertemplate\":\"CLEAR WATER PUMPING FLOW ML=%{x}<br>Units_kWh=%{y}<extra></extra>\",\"legendgroup\":\"\",\"line\":{\"color\":\"#636efa\",\"dash\":\"solid\"},\"marker\":{\"symbol\":\"circle\"},\"mode\":\"lines\",\"name\":\"\",\"orientation\":\"v\",\"showlegend\":false,\"x\":[1404.36223,1520.86568,1577.52211,1606.90324,1669.968356,1669.90655,1699.23306,1738.985111,1757.84088,1765.574653,1841.0232,1860.290835,1903.26318,1906.80058,1924.1724,1967.66375,1973.34258,1990.51829,2036.18018,2042.05886,2058.04472,2077.52936,2119.028724,2121.06453,2136.454676,2168.18201,2167.673658,2283.0273,2296.823382,2299.18998],\"xaxis\":\"x\",\"y\":[227816.0,244952.0,271048.0,256808.0,278984.0,274192.0,299392.0,284352.0,262752.0,284016.0,302344.0,298664.0,312488.0,304680.0,299784.0,325496.0,297184.0,326536.0,337032.0,342376.0,355440.0,339606.0,336744.0,346766.0,359136.0,367832.0,358912.0,354696.0,378448.0,379736.0],\"yaxis\":\"y\",\"type\":\"scatter\"}],                        {\"template\":{\"data\":{\"histogram2dcontour\":[{\"type\":\"histogram2dcontour\",\"colorbar\":{\"outlinewidth\":0,\"ticks\":\"\"},\"colorscale\":[[0.0,\"#0d0887\"],[0.1111111111111111,\"#46039f\"],[0.2222222222222222,\"#7201a8\"],[0.3333333333333333,\"#9c179e\"],[0.4444444444444444,\"#bd3786\"],[0.5555555555555556,\"#d8576b\"],[0.6666666666666666,\"#ed7953\"],[0.7777777777777778,\"#fb9f3a\"],[0.8888888888888888,\"#fdca26\"],[1.0,\"#f0f921\"]]}],\"choropleth\":[{\"type\":\"choropleth\",\"colorbar\":{\"outlinewidth\":0,\"ticks\":\"\"}}],\"histogram2d\":[{\"type\":\"histogram2d\",\"colorbar\":{\"outlinewidth\":0,\"ticks\":\"\"},\"colorscale\":[[0.0,\"#0d0887\"],[0.1111111111111111,\"#46039f\"],[0.2222222222222222,\"#7201a8\"],[0.3333333333333333,\"#9c179e\"],[0.4444444444444444,\"#bd3786\"],[0.5555555555555556,\"#d8576b\"],[0.6666666666666666,\"#ed7953\"],[0.7777777777777778,\"#fb9f3a\"],[0.8888888888888888,\"#fdca26\"],[1.0,\"#f0f921\"]]}],\"heatmap\":[{\"type\":\"heatmap\",\"colorbar\":{\"outlinewidth\":0,\"ticks\":\"\"},\"colorscale\":[[0.0,\"#0d0887\"],[0.1111111111111111,\"#46039f\"],[0.2222222222222222,\"#7201a8\"],[0.3333333333333333,\"#9c179e\"],[0.4444444444444444,\"#bd3786\"],[0.5555555555555556,\"#d8576b\"],[0.6666666666666666,\"#ed7953\"],[0.7777777777777778,\"#fb9f3a\"],[0.8888888888888888,\"#fdca26\"],[1.0,\"#f0f921\"]]}],\"heatmapgl\":[{\"type\":\"heatmapgl\",\"colorbar\":{\"outlinewidth\":0,\"ticks\":\"\"},\"colorscale\":[[0.0,\"#0d0887\"],[0.1111111111111111,\"#46039f\"],[0.2222222222222222,\"#7201a8\"],[0.3333333333333333,\"#9c179e\"],[0.4444444444444444,\"#bd3786\"],[0.5555555555555556,\"#d8576b\"],[0.6666666666666666,\"#ed7953\"],[0.7777777777777778,\"#fb9f3a\"],[0.8888888888888888,\"#fdca26\"],[1.0,\"#f0f921\"]]}],\"contourcarpet\":[{\"type\":\"contourcarpet\",\"colorbar\":{\"outlinewidth\":0,\"ticks\":\"\"}}],\"contour\":[{\"type\":\"contour\",\"colorbar\":{\"outlinewidth\":0,\"ticks\":\"\"},\"colorscale\":[[0.0,\"#0d0887\"],[0.1111111111111111,\"#46039f\"],[0.2222222222222222,\"#7201a8\"],[0.3333333333333333,\"#9c179e\"],[0.4444444444444444,\"#bd3786\"],[0.5555555555555556,\"#d8576b\"],[0.6666666666666666,\"#ed7953\"],[0.7777777777777778,\"#fb9f3a\"],[0.8888888888888888,\"#fdca26\"],[1.0,\"#f0f921\"]]}],\"surface\":[{\"type\":\"surface\",\"colorbar\":{\"outlinewidth\":0,\"ticks\":\"\"},\"colorscale\":[[0.0,\"#0d0887\"],[0.1111111111111111,\"#46039f\"],[0.2222222222222222,\"#7201a8\"],[0.3333333333333333,\"#9c179e\"],[0.4444444444444444,\"#bd3786\"],[0.5555555555555556,\"#d8576b\"],[0.6666666666666666,\"#ed7953\"],[0.7777777777777778,\"#fb9f3a\"],[0.8888888888888888,\"#fdca26\"],[1.0,\"#f0f921\"]]}],\"mesh3d\":[{\"type\":\"mesh3d\",\"colorbar\":{\"outlinewidth\":0,\"ticks\":\"\"}}],\"scatter\":[{\"fillpattern\":{\"fillmode\":\"overlay\",\"size\":10,\"solidity\":0.2},\"type\":\"scatter\"}],\"parcoords\":[{\"type\":\"parcoords\",\"line\":{\"colorbar\":{\"outlinewidth\":0,\"ticks\":\"\"}}}],\"scatterpolargl\":[{\"type\":\"scatterpolargl\",\"marker\":{\"colorbar\":{\"outlinewidth\":0,\"ticks\":\"\"}}}],\"bar\":[{\"error_x\":{\"color\":\"#2a3f5f\"},\"error_y\":{\"color\":\"#2a3f5f\"},\"marker\":{\"line\":{\"color\":\"#E5ECF6\",\"width\":0.5},\"pattern\":{\"fillmode\":\"overlay\",\"size\":10,\"solidity\":0.2}},\"type\":\"bar\"}],\"scattergeo\":[{\"type\":\"scattergeo\",\"marker\":{\"colorbar\":{\"outlinewidth\":0,\"ticks\":\"\"}}}],\"scatterpolar\":[{\"type\":\"scatterpolar\",\"marker\":{\"colorbar\":{\"outlinewidth\":0,\"ticks\":\"\"}}}],\"histogram\":[{\"marker\":{\"pattern\":{\"fillmode\":\"overlay\",\"size\":10,\"solidity\":0.2}},\"type\":\"histogram\"}],\"scattergl\":[{\"type\":\"scattergl\",\"marker\":{\"colorbar\":{\"outlinewidth\":0,\"ticks\":\"\"}}}],\"scatter3d\":[{\"type\":\"scatter3d\",\"line\":{\"colorbar\":{\"outlinewidth\":0,\"ticks\":\"\"}},\"marker\":{\"colorbar\":{\"outlinewidth\":0,\"ticks\":\"\"}}}],\"scattermapbox\":[{\"type\":\"scattermapbox\",\"marker\":{\"colorbar\":{\"outlinewidth\":0,\"ticks\":\"\"}}}],\"scatterternary\":[{\"type\":\"scatterternary\",\"marker\":{\"colorbar\":{\"outlinewidth\":0,\"ticks\":\"\"}}}],\"scattercarpet\":[{\"type\":\"scattercarpet\",\"marker\":{\"colorbar\":{\"outlinewidth\":0,\"ticks\":\"\"}}}],\"carpet\":[{\"aaxis\":{\"endlinecolor\":\"#2a3f5f\",\"gridcolor\":\"white\",\"linecolor\":\"white\",\"minorgridcolor\":\"white\",\"startlinecolor\":\"#2a3f5f\"},\"baxis\":{\"endlinecolor\":\"#2a3f5f\",\"gridcolor\":\"white\",\"linecolor\":\"white\",\"minorgridcolor\":\"white\",\"startlinecolor\":\"#2a3f5f\"},\"type\":\"carpet\"}],\"table\":[{\"cells\":{\"fill\":{\"color\":\"#EBF0F8\"},\"line\":{\"color\":\"white\"}},\"header\":{\"fill\":{\"color\":\"#C8D4E3\"},\"line\":{\"color\":\"white\"}},\"type\":\"table\"}],\"barpolar\":[{\"marker\":{\"line\":{\"color\":\"#E5ECF6\",\"width\":0.5},\"pattern\":{\"fillmode\":\"overlay\",\"size\":10,\"solidity\":0.2}},\"type\":\"barpolar\"}],\"pie\":[{\"automargin\":true,\"type\":\"pie\"}]},\"layout\":{\"autotypenumbers\":\"strict\",\"colorway\":[\"#636efa\",\"#EF553B\",\"#00cc96\",\"#ab63fa\",\"#FFA15A\",\"#19d3f3\",\"#FF6692\",\"#B6E880\",\"#FF97FF\",\"#FECB52\"],\"font\":{\"color\":\"#2a3f5f\"},\"hovermode\":\"closest\",\"hoverlabel\":{\"align\":\"left\"},\"paper_bgcolor\":\"white\",\"plot_bgcolor\":\"#E5ECF6\",\"polar\":{\"bgcolor\":\"#E5ECF6\",\"angularaxis\":{\"gridcolor\":\"white\",\"linecolor\":\"white\",\"ticks\":\"\"},\"radialaxis\":{\"gridcolor\":\"white\",\"linecolor\":\"white\",\"ticks\":\"\"}},\"ternary\":{\"bgcolor\":\"#E5ECF6\",\"aaxis\":{\"gridcolor\":\"white\",\"linecolor\":\"white\",\"ticks\":\"\"},\"baxis\":{\"gridcolor\":\"white\",\"linecolor\":\"white\",\"ticks\":\"\"},\"caxis\":{\"gridcolor\":\"white\",\"linecolor\":\"white\",\"ticks\":\"\"}},\"coloraxis\":{\"colorbar\":{\"outlinewidth\":0,\"ticks\":\"\"}},\"colorscale\":{\"sequential\":[[0.0,\"#0d0887\"],[0.1111111111111111,\"#46039f\"],[0.2222222222222222,\"#7201a8\"],[0.3333333333333333,\"#9c179e\"],[0.4444444444444444,\"#bd3786\"],[0.5555555555555556,\"#d8576b\"],[0.6666666666666666,\"#ed7953\"],[0.7777777777777778,\"#fb9f3a\"],[0.8888888888888888,\"#fdca26\"],[1.0,\"#f0f921\"]],\"sequentialminus\":[[0.0,\"#0d0887\"],[0.1111111111111111,\"#46039f\"],[0.2222222222222222,\"#7201a8\"],[0.3333333333333333,\"#9c179e\"],[0.4444444444444444,\"#bd3786\"],[0.5555555555555556,\"#d8576b\"],[0.6666666666666666,\"#ed7953\"],[0.7777777777777778,\"#fb9f3a\"],[0.8888888888888888,\"#fdca26\"],[1.0,\"#f0f921\"]],\"diverging\":[[0,\"#8e0152\"],[0.1,\"#c51b7d\"],[0.2,\"#de77ae\"],[0.3,\"#f1b6da\"],[0.4,\"#fde0ef\"],[0.5,\"#f7f7f7\"],[0.6,\"#e6f5d0\"],[0.7,\"#b8e186\"],[0.8,\"#7fbc41\"],[0.9,\"#4d9221\"],[1,\"#276419\"]]},\"xaxis\":{\"gridcolor\":\"white\",\"linecolor\":\"white\",\"ticks\":\"\",\"title\":{\"standoff\":15},\"zerolinecolor\":\"white\",\"automargin\":true,\"zerolinewidth\":2},\"yaxis\":{\"gridcolor\":\"white\",\"linecolor\":\"white\",\"ticks\":\"\",\"title\":{\"standoff\":15},\"zerolinecolor\":\"white\",\"automargin\":true,\"zerolinewidth\":2},\"scene\":{\"xaxis\":{\"backgroundcolor\":\"#E5ECF6\",\"gridcolor\":\"white\",\"linecolor\":\"white\",\"showbackground\":true,\"ticks\":\"\",\"zerolinecolor\":\"white\",\"gridwidth\":2},\"yaxis\":{\"backgroundcolor\":\"#E5ECF6\",\"gridcolor\":\"white\",\"linecolor\":\"white\",\"showbackground\":true,\"ticks\":\"\",\"zerolinecolor\":\"white\",\"gridwidth\":2},\"zaxis\":{\"backgroundcolor\":\"#E5ECF6\",\"gridcolor\":\"white\",\"linecolor\":\"white\",\"showbackground\":true,\"ticks\":\"\",\"zerolinecolor\":\"white\",\"gridwidth\":2}},\"shapedefaults\":{\"line\":{\"color\":\"#2a3f5f\"}},\"annotationdefaults\":{\"arrowcolor\":\"#2a3f5f\",\"arrowhead\":0,\"arrowwidth\":1},\"geo\":{\"bgcolor\":\"white\",\"landcolor\":\"#E5ECF6\",\"subunitcolor\":\"white\",\"showland\":true,\"showlakes\":true,\"lakecolor\":\"white\"},\"title\":{\"x\":0.05},\"mapbox\":{\"style\":\"light\"}}},\"xaxis\":{\"anchor\":\"y\",\"domain\":[0.0,1.0],\"title\":{\"text\":\"CLEAR WATER PUMPING FLOW ML\"}},\"yaxis\":{\"anchor\":\"x\",\"domain\":[0.0,1.0],\"title\":{\"text\":\"Units_kWh\"}},\"legend\":{\"tracegroupgap\":0},\"title\":{\"text\":\"Clear Water Pumping Flow vs Units kWh\"}},                        {\"responsive\": true}                    ).then(function(){\n",
       "                            \n",
       "var gd = document.getElementById('edce83d9-9a6f-4cda-a132-a4a6790012bd');\n",
       "var x = new MutationObserver(function (mutations, observer) {{\n",
       "        var display = window.getComputedStyle(gd).display;\n",
       "        if (!display || display === 'none') {{\n",
       "            console.log([gd, 'removed!']);\n",
       "            Plotly.purge(gd);\n",
       "            observer.disconnect();\n",
       "        }}\n",
       "}});\n",
       "\n",
       "// Listen for the removal of the full notebook cells\n",
       "var notebookContainer = gd.closest('#notebook-container');\n",
       "if (notebookContainer) {{\n",
       "    x.observe(notebookContainer, {childList: true});\n",
       "}}\n",
       "\n",
       "// Listen for the clearing of the current output cell\n",
       "var outputEl = gd.closest('.output');\n",
       "if (outputEl) {{\n",
       "    x.observe(outputEl, {childList: true});\n",
       "}}\n",
       "\n",
       "                        })                };                });            </script>        </div>"
      ]
     },
     "metadata": {},
     "output_type": "display_data"
    },
    {
     "data": {
      "text/plain": [
       "'Clear Water Pumping Flow vs Units kWh.html'"
      ]
     },
     "execution_count": 51,
     "metadata": {},
     "output_type": "execute_result"
    }
   ],
   "source": [
    "fig = px.line(sorted_data,x=\"CLEAR WATER PUMPING FLOW ML\", y=\"Units_kWh\", title='Clear Water Pumping Flow vs Units kWh')#,hover_data='Standardized_Date')\n",
    "\n",
    "fig.show()\n",
    "pyo.plot(fig, filename='Clear Water Pumping Flow vs Units kWh.html', auto_open=True)"
   ]
  },
  {
   "cell_type": "code",
   "execution_count": 52,
   "id": "3d2834a1",
   "metadata": {},
   "outputs": [
    {
     "data": {
      "application/vnd.plotly.v1+json": {
       "config": {
        "plotlyServerURL": "https://plot.ly"
       },
       "data": [
        {
         "hovertemplate": "CLEAR WATER PUMPING FLOW ML=%{x}<br>Units_kWh=%{y}<extra></extra>",
         "legendgroup": "",
         "marker": {
          "color": "#636efa",
          "symbol": "circle"
         },
         "mode": "markers",
         "name": "",
         "orientation": "v",
         "showlegend": false,
         "type": "scatter",
         "x": [
          1404.36223,
          1520.86568,
          1577.52211,
          1606.90324,
          1669.968356,
          1669.90655,
          1699.23306,
          1738.985111,
          1757.84088,
          1765.574653,
          1841.0232,
          1860.290835,
          1903.26318,
          1906.80058,
          1924.1724,
          1967.66375,
          1973.34258,
          1990.51829,
          2036.18018,
          2042.05886,
          2058.04472,
          2077.52936,
          2119.028724,
          2121.06453,
          2136.454676,
          2168.18201,
          2167.673658,
          2283.0273,
          2296.823382,
          2299.18998
         ],
         "xaxis": "x",
         "y": [
          227816,
          244952,
          271048,
          256808,
          278984,
          274192,
          299392,
          284352,
          262752,
          284016,
          302344,
          298664,
          312488,
          304680,
          299784,
          325496,
          297184,
          326536,
          337032,
          342376,
          355440,
          339606,
          336744,
          346766,
          359136,
          367832,
          358912,
          354696,
          378448,
          379736
         ],
         "yaxis": "y"
        }
       ],
       "layout": {
        "legend": {
         "tracegroupgap": 0
        },
        "template": {
         "data": {
          "bar": [
           {
            "error_x": {
             "color": "#2a3f5f"
            },
            "error_y": {
             "color": "#2a3f5f"
            },
            "marker": {
             "line": {
              "color": "#E5ECF6",
              "width": 0.5
             },
             "pattern": {
              "fillmode": "overlay",
              "size": 10,
              "solidity": 0.2
             }
            },
            "type": "bar"
           }
          ],
          "barpolar": [
           {
            "marker": {
             "line": {
              "color": "#E5ECF6",
              "width": 0.5
             },
             "pattern": {
              "fillmode": "overlay",
              "size": 10,
              "solidity": 0.2
             }
            },
            "type": "barpolar"
           }
          ],
          "carpet": [
           {
            "aaxis": {
             "endlinecolor": "#2a3f5f",
             "gridcolor": "white",
             "linecolor": "white",
             "minorgridcolor": "white",
             "startlinecolor": "#2a3f5f"
            },
            "baxis": {
             "endlinecolor": "#2a3f5f",
             "gridcolor": "white",
             "linecolor": "white",
             "minorgridcolor": "white",
             "startlinecolor": "#2a3f5f"
            },
            "type": "carpet"
           }
          ],
          "choropleth": [
           {
            "colorbar": {
             "outlinewidth": 0,
             "ticks": ""
            },
            "type": "choropleth"
           }
          ],
          "contour": [
           {
            "colorbar": {
             "outlinewidth": 0,
             "ticks": ""
            },
            "colorscale": [
             [
              0,
              "#0d0887"
             ],
             [
              0.1111111111111111,
              "#46039f"
             ],
             [
              0.2222222222222222,
              "#7201a8"
             ],
             [
              0.3333333333333333,
              "#9c179e"
             ],
             [
              0.4444444444444444,
              "#bd3786"
             ],
             [
              0.5555555555555556,
              "#d8576b"
             ],
             [
              0.6666666666666666,
              "#ed7953"
             ],
             [
              0.7777777777777778,
              "#fb9f3a"
             ],
             [
              0.8888888888888888,
              "#fdca26"
             ],
             [
              1,
              "#f0f921"
             ]
            ],
            "type": "contour"
           }
          ],
          "contourcarpet": [
           {
            "colorbar": {
             "outlinewidth": 0,
             "ticks": ""
            },
            "type": "contourcarpet"
           }
          ],
          "heatmap": [
           {
            "colorbar": {
             "outlinewidth": 0,
             "ticks": ""
            },
            "colorscale": [
             [
              0,
              "#0d0887"
             ],
             [
              0.1111111111111111,
              "#46039f"
             ],
             [
              0.2222222222222222,
              "#7201a8"
             ],
             [
              0.3333333333333333,
              "#9c179e"
             ],
             [
              0.4444444444444444,
              "#bd3786"
             ],
             [
              0.5555555555555556,
              "#d8576b"
             ],
             [
              0.6666666666666666,
              "#ed7953"
             ],
             [
              0.7777777777777778,
              "#fb9f3a"
             ],
             [
              0.8888888888888888,
              "#fdca26"
             ],
             [
              1,
              "#f0f921"
             ]
            ],
            "type": "heatmap"
           }
          ],
          "heatmapgl": [
           {
            "colorbar": {
             "outlinewidth": 0,
             "ticks": ""
            },
            "colorscale": [
             [
              0,
              "#0d0887"
             ],
             [
              0.1111111111111111,
              "#46039f"
             ],
             [
              0.2222222222222222,
              "#7201a8"
             ],
             [
              0.3333333333333333,
              "#9c179e"
             ],
             [
              0.4444444444444444,
              "#bd3786"
             ],
             [
              0.5555555555555556,
              "#d8576b"
             ],
             [
              0.6666666666666666,
              "#ed7953"
             ],
             [
              0.7777777777777778,
              "#fb9f3a"
             ],
             [
              0.8888888888888888,
              "#fdca26"
             ],
             [
              1,
              "#f0f921"
             ]
            ],
            "type": "heatmapgl"
           }
          ],
          "histogram": [
           {
            "marker": {
             "pattern": {
              "fillmode": "overlay",
              "size": 10,
              "solidity": 0.2
             }
            },
            "type": "histogram"
           }
          ],
          "histogram2d": [
           {
            "colorbar": {
             "outlinewidth": 0,
             "ticks": ""
            },
            "colorscale": [
             [
              0,
              "#0d0887"
             ],
             [
              0.1111111111111111,
              "#46039f"
             ],
             [
              0.2222222222222222,
              "#7201a8"
             ],
             [
              0.3333333333333333,
              "#9c179e"
             ],
             [
              0.4444444444444444,
              "#bd3786"
             ],
             [
              0.5555555555555556,
              "#d8576b"
             ],
             [
              0.6666666666666666,
              "#ed7953"
             ],
             [
              0.7777777777777778,
              "#fb9f3a"
             ],
             [
              0.8888888888888888,
              "#fdca26"
             ],
             [
              1,
              "#f0f921"
             ]
            ],
            "type": "histogram2d"
           }
          ],
          "histogram2dcontour": [
           {
            "colorbar": {
             "outlinewidth": 0,
             "ticks": ""
            },
            "colorscale": [
             [
              0,
              "#0d0887"
             ],
             [
              0.1111111111111111,
              "#46039f"
             ],
             [
              0.2222222222222222,
              "#7201a8"
             ],
             [
              0.3333333333333333,
              "#9c179e"
             ],
             [
              0.4444444444444444,
              "#bd3786"
             ],
             [
              0.5555555555555556,
              "#d8576b"
             ],
             [
              0.6666666666666666,
              "#ed7953"
             ],
             [
              0.7777777777777778,
              "#fb9f3a"
             ],
             [
              0.8888888888888888,
              "#fdca26"
             ],
             [
              1,
              "#f0f921"
             ]
            ],
            "type": "histogram2dcontour"
           }
          ],
          "mesh3d": [
           {
            "colorbar": {
             "outlinewidth": 0,
             "ticks": ""
            },
            "type": "mesh3d"
           }
          ],
          "parcoords": [
           {
            "line": {
             "colorbar": {
              "outlinewidth": 0,
              "ticks": ""
             }
            },
            "type": "parcoords"
           }
          ],
          "pie": [
           {
            "automargin": true,
            "type": "pie"
           }
          ],
          "scatter": [
           {
            "fillpattern": {
             "fillmode": "overlay",
             "size": 10,
             "solidity": 0.2
            },
            "type": "scatter"
           }
          ],
          "scatter3d": [
           {
            "line": {
             "colorbar": {
              "outlinewidth": 0,
              "ticks": ""
             }
            },
            "marker": {
             "colorbar": {
              "outlinewidth": 0,
              "ticks": ""
             }
            },
            "type": "scatter3d"
           }
          ],
          "scattercarpet": [
           {
            "marker": {
             "colorbar": {
              "outlinewidth": 0,
              "ticks": ""
             }
            },
            "type": "scattercarpet"
           }
          ],
          "scattergeo": [
           {
            "marker": {
             "colorbar": {
              "outlinewidth": 0,
              "ticks": ""
             }
            },
            "type": "scattergeo"
           }
          ],
          "scattergl": [
           {
            "marker": {
             "colorbar": {
              "outlinewidth": 0,
              "ticks": ""
             }
            },
            "type": "scattergl"
           }
          ],
          "scattermapbox": [
           {
            "marker": {
             "colorbar": {
              "outlinewidth": 0,
              "ticks": ""
             }
            },
            "type": "scattermapbox"
           }
          ],
          "scatterpolar": [
           {
            "marker": {
             "colorbar": {
              "outlinewidth": 0,
              "ticks": ""
             }
            },
            "type": "scatterpolar"
           }
          ],
          "scatterpolargl": [
           {
            "marker": {
             "colorbar": {
              "outlinewidth": 0,
              "ticks": ""
             }
            },
            "type": "scatterpolargl"
           }
          ],
          "scatterternary": [
           {
            "marker": {
             "colorbar": {
              "outlinewidth": 0,
              "ticks": ""
             }
            },
            "type": "scatterternary"
           }
          ],
          "surface": [
           {
            "colorbar": {
             "outlinewidth": 0,
             "ticks": ""
            },
            "colorscale": [
             [
              0,
              "#0d0887"
             ],
             [
              0.1111111111111111,
              "#46039f"
             ],
             [
              0.2222222222222222,
              "#7201a8"
             ],
             [
              0.3333333333333333,
              "#9c179e"
             ],
             [
              0.4444444444444444,
              "#bd3786"
             ],
             [
              0.5555555555555556,
              "#d8576b"
             ],
             [
              0.6666666666666666,
              "#ed7953"
             ],
             [
              0.7777777777777778,
              "#fb9f3a"
             ],
             [
              0.8888888888888888,
              "#fdca26"
             ],
             [
              1,
              "#f0f921"
             ]
            ],
            "type": "surface"
           }
          ],
          "table": [
           {
            "cells": {
             "fill": {
              "color": "#EBF0F8"
             },
             "line": {
              "color": "white"
             }
            },
            "header": {
             "fill": {
              "color": "#C8D4E3"
             },
             "line": {
              "color": "white"
             }
            },
            "type": "table"
           }
          ]
         },
         "layout": {
          "annotationdefaults": {
           "arrowcolor": "#2a3f5f",
           "arrowhead": 0,
           "arrowwidth": 1
          },
          "autotypenumbers": "strict",
          "coloraxis": {
           "colorbar": {
            "outlinewidth": 0,
            "ticks": ""
           }
          },
          "colorscale": {
           "diverging": [
            [
             0,
             "#8e0152"
            ],
            [
             0.1,
             "#c51b7d"
            ],
            [
             0.2,
             "#de77ae"
            ],
            [
             0.3,
             "#f1b6da"
            ],
            [
             0.4,
             "#fde0ef"
            ],
            [
             0.5,
             "#f7f7f7"
            ],
            [
             0.6,
             "#e6f5d0"
            ],
            [
             0.7,
             "#b8e186"
            ],
            [
             0.8,
             "#7fbc41"
            ],
            [
             0.9,
             "#4d9221"
            ],
            [
             1,
             "#276419"
            ]
           ],
           "sequential": [
            [
             0,
             "#0d0887"
            ],
            [
             0.1111111111111111,
             "#46039f"
            ],
            [
             0.2222222222222222,
             "#7201a8"
            ],
            [
             0.3333333333333333,
             "#9c179e"
            ],
            [
             0.4444444444444444,
             "#bd3786"
            ],
            [
             0.5555555555555556,
             "#d8576b"
            ],
            [
             0.6666666666666666,
             "#ed7953"
            ],
            [
             0.7777777777777778,
             "#fb9f3a"
            ],
            [
             0.8888888888888888,
             "#fdca26"
            ],
            [
             1,
             "#f0f921"
            ]
           ],
           "sequentialminus": [
            [
             0,
             "#0d0887"
            ],
            [
             0.1111111111111111,
             "#46039f"
            ],
            [
             0.2222222222222222,
             "#7201a8"
            ],
            [
             0.3333333333333333,
             "#9c179e"
            ],
            [
             0.4444444444444444,
             "#bd3786"
            ],
            [
             0.5555555555555556,
             "#d8576b"
            ],
            [
             0.6666666666666666,
             "#ed7953"
            ],
            [
             0.7777777777777778,
             "#fb9f3a"
            ],
            [
             0.8888888888888888,
             "#fdca26"
            ],
            [
             1,
             "#f0f921"
            ]
           ]
          },
          "colorway": [
           "#636efa",
           "#EF553B",
           "#00cc96",
           "#ab63fa",
           "#FFA15A",
           "#19d3f3",
           "#FF6692",
           "#B6E880",
           "#FF97FF",
           "#FECB52"
          ],
          "font": {
           "color": "#2a3f5f"
          },
          "geo": {
           "bgcolor": "white",
           "lakecolor": "white",
           "landcolor": "#E5ECF6",
           "showlakes": true,
           "showland": true,
           "subunitcolor": "white"
          },
          "hoverlabel": {
           "align": "left"
          },
          "hovermode": "closest",
          "mapbox": {
           "style": "light"
          },
          "paper_bgcolor": "white",
          "plot_bgcolor": "#E5ECF6",
          "polar": {
           "angularaxis": {
            "gridcolor": "white",
            "linecolor": "white",
            "ticks": ""
           },
           "bgcolor": "#E5ECF6",
           "radialaxis": {
            "gridcolor": "white",
            "linecolor": "white",
            "ticks": ""
           }
          },
          "scene": {
           "xaxis": {
            "backgroundcolor": "#E5ECF6",
            "gridcolor": "white",
            "gridwidth": 2,
            "linecolor": "white",
            "showbackground": true,
            "ticks": "",
            "zerolinecolor": "white"
           },
           "yaxis": {
            "backgroundcolor": "#E5ECF6",
            "gridcolor": "white",
            "gridwidth": 2,
            "linecolor": "white",
            "showbackground": true,
            "ticks": "",
            "zerolinecolor": "white"
           },
           "zaxis": {
            "backgroundcolor": "#E5ECF6",
            "gridcolor": "white",
            "gridwidth": 2,
            "linecolor": "white",
            "showbackground": true,
            "ticks": "",
            "zerolinecolor": "white"
           }
          },
          "shapedefaults": {
           "line": {
            "color": "#2a3f5f"
           }
          },
          "ternary": {
           "aaxis": {
            "gridcolor": "white",
            "linecolor": "white",
            "ticks": ""
           },
           "baxis": {
            "gridcolor": "white",
            "linecolor": "white",
            "ticks": ""
           },
           "bgcolor": "#E5ECF6",
           "caxis": {
            "gridcolor": "white",
            "linecolor": "white",
            "ticks": ""
           }
          },
          "title": {
           "x": 0.05
          },
          "xaxis": {
           "automargin": true,
           "gridcolor": "white",
           "linecolor": "white",
           "ticks": "",
           "title": {
            "standoff": 15
           },
           "zerolinecolor": "white",
           "zerolinewidth": 2
          },
          "yaxis": {
           "automargin": true,
           "gridcolor": "white",
           "linecolor": "white",
           "ticks": "",
           "title": {
            "standoff": 15
           },
           "zerolinecolor": "white",
           "zerolinewidth": 2
          }
         }
        },
        "title": {
         "text": "Clear Water Pumping Flow vs Units kWh"
        },
        "xaxis": {
         "anchor": "y",
         "domain": [
          0,
          1
         ],
         "title": {
          "text": "CLEAR WATER PUMPING FLOW ML"
         }
        },
        "yaxis": {
         "anchor": "x",
         "domain": [
          0,
          1
         ],
         "title": {
          "text": "Units_kWh"
         }
        }
       }
      },
      "text/html": [
       "<div>                            <div id=\"ea29fccf-e061-40b5-9a07-1c7a5f2def02\" class=\"plotly-graph-div\" style=\"height:525px; width:100%;\"></div>            <script type=\"text/javascript\">                require([\"plotly\"], function(Plotly) {                    window.PLOTLYENV=window.PLOTLYENV || {};                                    if (document.getElementById(\"ea29fccf-e061-40b5-9a07-1c7a5f2def02\")) {                    Plotly.newPlot(                        \"ea29fccf-e061-40b5-9a07-1c7a5f2def02\",                        [{\"hovertemplate\":\"CLEAR WATER PUMPING FLOW ML=%{x}<br>Units_kWh=%{y}<extra></extra>\",\"legendgroup\":\"\",\"marker\":{\"color\":\"#636efa\",\"symbol\":\"circle\"},\"mode\":\"markers\",\"name\":\"\",\"orientation\":\"v\",\"showlegend\":false,\"x\":[1404.36223,1520.86568,1577.52211,1606.90324,1669.968356,1669.90655,1699.23306,1738.985111,1757.84088,1765.574653,1841.0232,1860.290835,1903.26318,1906.80058,1924.1724,1967.66375,1973.34258,1990.51829,2036.18018,2042.05886,2058.04472,2077.52936,2119.028724,2121.06453,2136.454676,2168.18201,2167.673658,2283.0273,2296.823382,2299.18998],\"xaxis\":\"x\",\"y\":[227816.0,244952.0,271048.0,256808.0,278984.0,274192.0,299392.0,284352.0,262752.0,284016.0,302344.0,298664.0,312488.0,304680.0,299784.0,325496.0,297184.0,326536.0,337032.0,342376.0,355440.0,339606.0,336744.0,346766.0,359136.0,367832.0,358912.0,354696.0,378448.0,379736.0],\"yaxis\":\"y\",\"type\":\"scatter\"}],                        {\"template\":{\"data\":{\"histogram2dcontour\":[{\"type\":\"histogram2dcontour\",\"colorbar\":{\"outlinewidth\":0,\"ticks\":\"\"},\"colorscale\":[[0.0,\"#0d0887\"],[0.1111111111111111,\"#46039f\"],[0.2222222222222222,\"#7201a8\"],[0.3333333333333333,\"#9c179e\"],[0.4444444444444444,\"#bd3786\"],[0.5555555555555556,\"#d8576b\"],[0.6666666666666666,\"#ed7953\"],[0.7777777777777778,\"#fb9f3a\"],[0.8888888888888888,\"#fdca26\"],[1.0,\"#f0f921\"]]}],\"choropleth\":[{\"type\":\"choropleth\",\"colorbar\":{\"outlinewidth\":0,\"ticks\":\"\"}}],\"histogram2d\":[{\"type\":\"histogram2d\",\"colorbar\":{\"outlinewidth\":0,\"ticks\":\"\"},\"colorscale\":[[0.0,\"#0d0887\"],[0.1111111111111111,\"#46039f\"],[0.2222222222222222,\"#7201a8\"],[0.3333333333333333,\"#9c179e\"],[0.4444444444444444,\"#bd3786\"],[0.5555555555555556,\"#d8576b\"],[0.6666666666666666,\"#ed7953\"],[0.7777777777777778,\"#fb9f3a\"],[0.8888888888888888,\"#fdca26\"],[1.0,\"#f0f921\"]]}],\"heatmap\":[{\"type\":\"heatmap\",\"colorbar\":{\"outlinewidth\":0,\"ticks\":\"\"},\"colorscale\":[[0.0,\"#0d0887\"],[0.1111111111111111,\"#46039f\"],[0.2222222222222222,\"#7201a8\"],[0.3333333333333333,\"#9c179e\"],[0.4444444444444444,\"#bd3786\"],[0.5555555555555556,\"#d8576b\"],[0.6666666666666666,\"#ed7953\"],[0.7777777777777778,\"#fb9f3a\"],[0.8888888888888888,\"#fdca26\"],[1.0,\"#f0f921\"]]}],\"heatmapgl\":[{\"type\":\"heatmapgl\",\"colorbar\":{\"outlinewidth\":0,\"ticks\":\"\"},\"colorscale\":[[0.0,\"#0d0887\"],[0.1111111111111111,\"#46039f\"],[0.2222222222222222,\"#7201a8\"],[0.3333333333333333,\"#9c179e\"],[0.4444444444444444,\"#bd3786\"],[0.5555555555555556,\"#d8576b\"],[0.6666666666666666,\"#ed7953\"],[0.7777777777777778,\"#fb9f3a\"],[0.8888888888888888,\"#fdca26\"],[1.0,\"#f0f921\"]]}],\"contourcarpet\":[{\"type\":\"contourcarpet\",\"colorbar\":{\"outlinewidth\":0,\"ticks\":\"\"}}],\"contour\":[{\"type\":\"contour\",\"colorbar\":{\"outlinewidth\":0,\"ticks\":\"\"},\"colorscale\":[[0.0,\"#0d0887\"],[0.1111111111111111,\"#46039f\"],[0.2222222222222222,\"#7201a8\"],[0.3333333333333333,\"#9c179e\"],[0.4444444444444444,\"#bd3786\"],[0.5555555555555556,\"#d8576b\"],[0.6666666666666666,\"#ed7953\"],[0.7777777777777778,\"#fb9f3a\"],[0.8888888888888888,\"#fdca26\"],[1.0,\"#f0f921\"]]}],\"surface\":[{\"type\":\"surface\",\"colorbar\":{\"outlinewidth\":0,\"ticks\":\"\"},\"colorscale\":[[0.0,\"#0d0887\"],[0.1111111111111111,\"#46039f\"],[0.2222222222222222,\"#7201a8\"],[0.3333333333333333,\"#9c179e\"],[0.4444444444444444,\"#bd3786\"],[0.5555555555555556,\"#d8576b\"],[0.6666666666666666,\"#ed7953\"],[0.7777777777777778,\"#fb9f3a\"],[0.8888888888888888,\"#fdca26\"],[1.0,\"#f0f921\"]]}],\"mesh3d\":[{\"type\":\"mesh3d\",\"colorbar\":{\"outlinewidth\":0,\"ticks\":\"\"}}],\"scatter\":[{\"fillpattern\":{\"fillmode\":\"overlay\",\"size\":10,\"solidity\":0.2},\"type\":\"scatter\"}],\"parcoords\":[{\"type\":\"parcoords\",\"line\":{\"colorbar\":{\"outlinewidth\":0,\"ticks\":\"\"}}}],\"scatterpolargl\":[{\"type\":\"scatterpolargl\",\"marker\":{\"colorbar\":{\"outlinewidth\":0,\"ticks\":\"\"}}}],\"bar\":[{\"error_x\":{\"color\":\"#2a3f5f\"},\"error_y\":{\"color\":\"#2a3f5f\"},\"marker\":{\"line\":{\"color\":\"#E5ECF6\",\"width\":0.5},\"pattern\":{\"fillmode\":\"overlay\",\"size\":10,\"solidity\":0.2}},\"type\":\"bar\"}],\"scattergeo\":[{\"type\":\"scattergeo\",\"marker\":{\"colorbar\":{\"outlinewidth\":0,\"ticks\":\"\"}}}],\"scatterpolar\":[{\"type\":\"scatterpolar\",\"marker\":{\"colorbar\":{\"outlinewidth\":0,\"ticks\":\"\"}}}],\"histogram\":[{\"marker\":{\"pattern\":{\"fillmode\":\"overlay\",\"size\":10,\"solidity\":0.2}},\"type\":\"histogram\"}],\"scattergl\":[{\"type\":\"scattergl\",\"marker\":{\"colorbar\":{\"outlinewidth\":0,\"ticks\":\"\"}}}],\"scatter3d\":[{\"type\":\"scatter3d\",\"line\":{\"colorbar\":{\"outlinewidth\":0,\"ticks\":\"\"}},\"marker\":{\"colorbar\":{\"outlinewidth\":0,\"ticks\":\"\"}}}],\"scattermapbox\":[{\"type\":\"scattermapbox\",\"marker\":{\"colorbar\":{\"outlinewidth\":0,\"ticks\":\"\"}}}],\"scatterternary\":[{\"type\":\"scatterternary\",\"marker\":{\"colorbar\":{\"outlinewidth\":0,\"ticks\":\"\"}}}],\"scattercarpet\":[{\"type\":\"scattercarpet\",\"marker\":{\"colorbar\":{\"outlinewidth\":0,\"ticks\":\"\"}}}],\"carpet\":[{\"aaxis\":{\"endlinecolor\":\"#2a3f5f\",\"gridcolor\":\"white\",\"linecolor\":\"white\",\"minorgridcolor\":\"white\",\"startlinecolor\":\"#2a3f5f\"},\"baxis\":{\"endlinecolor\":\"#2a3f5f\",\"gridcolor\":\"white\",\"linecolor\":\"white\",\"minorgridcolor\":\"white\",\"startlinecolor\":\"#2a3f5f\"},\"type\":\"carpet\"}],\"table\":[{\"cells\":{\"fill\":{\"color\":\"#EBF0F8\"},\"line\":{\"color\":\"white\"}},\"header\":{\"fill\":{\"color\":\"#C8D4E3\"},\"line\":{\"color\":\"white\"}},\"type\":\"table\"}],\"barpolar\":[{\"marker\":{\"line\":{\"color\":\"#E5ECF6\",\"width\":0.5},\"pattern\":{\"fillmode\":\"overlay\",\"size\":10,\"solidity\":0.2}},\"type\":\"barpolar\"}],\"pie\":[{\"automargin\":true,\"type\":\"pie\"}]},\"layout\":{\"autotypenumbers\":\"strict\",\"colorway\":[\"#636efa\",\"#EF553B\",\"#00cc96\",\"#ab63fa\",\"#FFA15A\",\"#19d3f3\",\"#FF6692\",\"#B6E880\",\"#FF97FF\",\"#FECB52\"],\"font\":{\"color\":\"#2a3f5f\"},\"hovermode\":\"closest\",\"hoverlabel\":{\"align\":\"left\"},\"paper_bgcolor\":\"white\",\"plot_bgcolor\":\"#E5ECF6\",\"polar\":{\"bgcolor\":\"#E5ECF6\",\"angularaxis\":{\"gridcolor\":\"white\",\"linecolor\":\"white\",\"ticks\":\"\"},\"radialaxis\":{\"gridcolor\":\"white\",\"linecolor\":\"white\",\"ticks\":\"\"}},\"ternary\":{\"bgcolor\":\"#E5ECF6\",\"aaxis\":{\"gridcolor\":\"white\",\"linecolor\":\"white\",\"ticks\":\"\"},\"baxis\":{\"gridcolor\":\"white\",\"linecolor\":\"white\",\"ticks\":\"\"},\"caxis\":{\"gridcolor\":\"white\",\"linecolor\":\"white\",\"ticks\":\"\"}},\"coloraxis\":{\"colorbar\":{\"outlinewidth\":0,\"ticks\":\"\"}},\"colorscale\":{\"sequential\":[[0.0,\"#0d0887\"],[0.1111111111111111,\"#46039f\"],[0.2222222222222222,\"#7201a8\"],[0.3333333333333333,\"#9c179e\"],[0.4444444444444444,\"#bd3786\"],[0.5555555555555556,\"#d8576b\"],[0.6666666666666666,\"#ed7953\"],[0.7777777777777778,\"#fb9f3a\"],[0.8888888888888888,\"#fdca26\"],[1.0,\"#f0f921\"]],\"sequentialminus\":[[0.0,\"#0d0887\"],[0.1111111111111111,\"#46039f\"],[0.2222222222222222,\"#7201a8\"],[0.3333333333333333,\"#9c179e\"],[0.4444444444444444,\"#bd3786\"],[0.5555555555555556,\"#d8576b\"],[0.6666666666666666,\"#ed7953\"],[0.7777777777777778,\"#fb9f3a\"],[0.8888888888888888,\"#fdca26\"],[1.0,\"#f0f921\"]],\"diverging\":[[0,\"#8e0152\"],[0.1,\"#c51b7d\"],[0.2,\"#de77ae\"],[0.3,\"#f1b6da\"],[0.4,\"#fde0ef\"],[0.5,\"#f7f7f7\"],[0.6,\"#e6f5d0\"],[0.7,\"#b8e186\"],[0.8,\"#7fbc41\"],[0.9,\"#4d9221\"],[1,\"#276419\"]]},\"xaxis\":{\"gridcolor\":\"white\",\"linecolor\":\"white\",\"ticks\":\"\",\"title\":{\"standoff\":15},\"zerolinecolor\":\"white\",\"automargin\":true,\"zerolinewidth\":2},\"yaxis\":{\"gridcolor\":\"white\",\"linecolor\":\"white\",\"ticks\":\"\",\"title\":{\"standoff\":15},\"zerolinecolor\":\"white\",\"automargin\":true,\"zerolinewidth\":2},\"scene\":{\"xaxis\":{\"backgroundcolor\":\"#E5ECF6\",\"gridcolor\":\"white\",\"linecolor\":\"white\",\"showbackground\":true,\"ticks\":\"\",\"zerolinecolor\":\"white\",\"gridwidth\":2},\"yaxis\":{\"backgroundcolor\":\"#E5ECF6\",\"gridcolor\":\"white\",\"linecolor\":\"white\",\"showbackground\":true,\"ticks\":\"\",\"zerolinecolor\":\"white\",\"gridwidth\":2},\"zaxis\":{\"backgroundcolor\":\"#E5ECF6\",\"gridcolor\":\"white\",\"linecolor\":\"white\",\"showbackground\":true,\"ticks\":\"\",\"zerolinecolor\":\"white\",\"gridwidth\":2}},\"shapedefaults\":{\"line\":{\"color\":\"#2a3f5f\"}},\"annotationdefaults\":{\"arrowcolor\":\"#2a3f5f\",\"arrowhead\":0,\"arrowwidth\":1},\"geo\":{\"bgcolor\":\"white\",\"landcolor\":\"#E5ECF6\",\"subunitcolor\":\"white\",\"showland\":true,\"showlakes\":true,\"lakecolor\":\"white\"},\"title\":{\"x\":0.05},\"mapbox\":{\"style\":\"light\"}}},\"xaxis\":{\"anchor\":\"y\",\"domain\":[0.0,1.0],\"title\":{\"text\":\"CLEAR WATER PUMPING FLOW ML\"}},\"yaxis\":{\"anchor\":\"x\",\"domain\":[0.0,1.0],\"title\":{\"text\":\"Units_kWh\"}},\"legend\":{\"tracegroupgap\":0},\"title\":{\"text\":\"Clear Water Pumping Flow vs Units kWh\"}},                        {\"responsive\": true}                    ).then(function(){\n",
       "                            \n",
       "var gd = document.getElementById('ea29fccf-e061-40b5-9a07-1c7a5f2def02');\n",
       "var x = new MutationObserver(function (mutations, observer) {{\n",
       "        var display = window.getComputedStyle(gd).display;\n",
       "        if (!display || display === 'none') {{\n",
       "            console.log([gd, 'removed!']);\n",
       "            Plotly.purge(gd);\n",
       "            observer.disconnect();\n",
       "        }}\n",
       "}});\n",
       "\n",
       "// Listen for the removal of the full notebook cells\n",
       "var notebookContainer = gd.closest('#notebook-container');\n",
       "if (notebookContainer) {{\n",
       "    x.observe(notebookContainer, {childList: true});\n",
       "}}\n",
       "\n",
       "// Listen for the clearing of the current output cell\n",
       "var outputEl = gd.closest('.output');\n",
       "if (outputEl) {{\n",
       "    x.observe(outputEl, {childList: true});\n",
       "}}\n",
       "\n",
       "                        })                };                });            </script>        </div>"
      ]
     },
     "metadata": {},
     "output_type": "display_data"
    },
    {
     "data": {
      "text/plain": [
       "'Clear Water Pumping Flow vs Units kWh.html'"
      ]
     },
     "execution_count": 52,
     "metadata": {},
     "output_type": "execute_result"
    }
   ],
   "source": [
    "fig = px.scatter(sorted_data,x=\"CLEAR WATER PUMPING FLOW ML\", y=\"Units_kWh\", title='Clear Water Pumping Flow vs Units kWh')#,hover_data='Standardized_Date')\n",
    "\n",
    "fig.show()\n",
    "pyo.plot(fig, filename='Clear Water Pumping Flow vs Units kWh.html', auto_open=True)"
   ]
  },
  {
   "cell_type": "code",
   "execution_count": 53,
   "id": "ae3eba1c",
   "metadata": {},
   "outputs": [
    {
     "data": {
      "application/vnd.plotly.v1+json": {
       "config": {
        "plotlyServerURL": "https://plot.ly"
       },
       "data": [
        {
         "hovertemplate": "CLEAR WATER PUMPING FLOW ML=%{x}<br>Units_kWh=%{y}<extra></extra>",
         "legendgroup": "",
         "marker": {
          "color": "black",
          "size": 10,
          "symbol": "circle"
         },
         "mode": "markers",
         "name": "",
         "orientation": "v",
         "showlegend": false,
         "type": "scatter",
         "x": [
          1404.36223,
          1520.86568,
          1577.52211,
          1606.90324,
          1669.968356,
          1669.90655,
          1699.23306,
          1738.985111,
          1757.84088,
          1765.574653,
          1841.0232,
          1860.290835,
          1903.26318,
          1906.80058,
          1924.1724,
          1967.66375,
          1973.34258,
          1990.51829,
          2036.18018,
          2042.05886,
          2058.04472,
          2077.52936,
          2119.028724,
          2121.06453,
          2136.454676,
          2168.18201,
          2167.673658,
          2283.0273,
          2296.823382,
          2299.18998
         ],
         "xaxis": "x",
         "y": [
          227816,
          244952,
          271048,
          256808,
          278984,
          274192,
          299392,
          284352,
          262752,
          284016,
          302344,
          298664,
          312488,
          304680,
          299784,
          325496,
          297184,
          326536,
          337032,
          342376,
          355440,
          339606,
          336744,
          346766,
          359136,
          367832,
          358912,
          354696,
          378448,
          379736
         ],
         "yaxis": "y"
        },
        {
         "hovertemplate": "<b>OLS trendline</b><br>Units_kWh = 164.466 * CLEAR WATER PUMPING FLOW ML + -2077.66<br>R<sup>2</sup>=0.927095<br><br>CLEAR WATER PUMPING FLOW ML=%{x}<br>Units_kWh=%{y} <b>(trend)</b><extra></extra>",
         "legendgroup": "",
         "line": {
          "color": "red"
         },
         "marker": {
          "color": "#636efa",
          "symbol": "circle"
         },
         "mode": "lines",
         "name": "",
         "showlegend": false,
         "type": "scatter",
         "x": [
          1404.36223,
          1520.86568,
          1577.52211,
          1606.90324,
          1669.90655,
          1669.968356,
          1699.23306,
          1738.985111,
          1757.84088,
          1765.574653,
          1841.0232,
          1860.290835,
          1903.26318,
          1906.80058,
          1924.1724,
          1967.66375,
          1973.34258,
          1990.51829,
          2036.18018,
          2042.05886,
          2058.04472,
          2077.52936,
          2119.028724,
          2121.06453,
          2136.454676,
          2167.673658,
          2168.18201,
          2283.0273,
          2296.823382,
          2299.18998
         ],
         "xaxis": "x",
         "y": [
          228892.54155131115,
          248053.42792163315,
          257371.49890904257,
          262203.70339192834,
          272565.62197772274,
          272575.7869792142,
          277388.8433136412,
          283926.71435693,
          287027.85211065353,
          288299.79680986085,
          300708.5369447916,
          303877.4127579958,
          310944.9135024911,
          311526.69644064765,
          314383.77465649176,
          321536.634210796,
          322470.6101260704,
          325295.4348642185,
          332805.27500838717,
          333772.11950515944,
          336401.2540671992,
          339605.8198805432,
          346431.0649530679,
          346765.8863462372,
          349297.04605634586,
          354431.51517892664,
          354515.12192969775,
          373403.2969310104,
          375672.2869013301,
          376061.5124166451
         ],
         "yaxis": "y"
        }
       ],
       "layout": {
        "legend": {
         "tracegroupgap": 0
        },
        "template": {
         "data": {
          "bar": [
           {
            "error_x": {
             "color": "#2a3f5f"
            },
            "error_y": {
             "color": "#2a3f5f"
            },
            "marker": {
             "line": {
              "color": "#E5ECF6",
              "width": 0.5
             },
             "pattern": {
              "fillmode": "overlay",
              "size": 10,
              "solidity": 0.2
             }
            },
            "type": "bar"
           }
          ],
          "barpolar": [
           {
            "marker": {
             "line": {
              "color": "#E5ECF6",
              "width": 0.5
             },
             "pattern": {
              "fillmode": "overlay",
              "size": 10,
              "solidity": 0.2
             }
            },
            "type": "barpolar"
           }
          ],
          "carpet": [
           {
            "aaxis": {
             "endlinecolor": "#2a3f5f",
             "gridcolor": "white",
             "linecolor": "white",
             "minorgridcolor": "white",
             "startlinecolor": "#2a3f5f"
            },
            "baxis": {
             "endlinecolor": "#2a3f5f",
             "gridcolor": "white",
             "linecolor": "white",
             "minorgridcolor": "white",
             "startlinecolor": "#2a3f5f"
            },
            "type": "carpet"
           }
          ],
          "choropleth": [
           {
            "colorbar": {
             "outlinewidth": 0,
             "ticks": ""
            },
            "type": "choropleth"
           }
          ],
          "contour": [
           {
            "colorbar": {
             "outlinewidth": 0,
             "ticks": ""
            },
            "colorscale": [
             [
              0,
              "#0d0887"
             ],
             [
              0.1111111111111111,
              "#46039f"
             ],
             [
              0.2222222222222222,
              "#7201a8"
             ],
             [
              0.3333333333333333,
              "#9c179e"
             ],
             [
              0.4444444444444444,
              "#bd3786"
             ],
             [
              0.5555555555555556,
              "#d8576b"
             ],
             [
              0.6666666666666666,
              "#ed7953"
             ],
             [
              0.7777777777777778,
              "#fb9f3a"
             ],
             [
              0.8888888888888888,
              "#fdca26"
             ],
             [
              1,
              "#f0f921"
             ]
            ],
            "type": "contour"
           }
          ],
          "contourcarpet": [
           {
            "colorbar": {
             "outlinewidth": 0,
             "ticks": ""
            },
            "type": "contourcarpet"
           }
          ],
          "heatmap": [
           {
            "colorbar": {
             "outlinewidth": 0,
             "ticks": ""
            },
            "colorscale": [
             [
              0,
              "#0d0887"
             ],
             [
              0.1111111111111111,
              "#46039f"
             ],
             [
              0.2222222222222222,
              "#7201a8"
             ],
             [
              0.3333333333333333,
              "#9c179e"
             ],
             [
              0.4444444444444444,
              "#bd3786"
             ],
             [
              0.5555555555555556,
              "#d8576b"
             ],
             [
              0.6666666666666666,
              "#ed7953"
             ],
             [
              0.7777777777777778,
              "#fb9f3a"
             ],
             [
              0.8888888888888888,
              "#fdca26"
             ],
             [
              1,
              "#f0f921"
             ]
            ],
            "type": "heatmap"
           }
          ],
          "heatmapgl": [
           {
            "colorbar": {
             "outlinewidth": 0,
             "ticks": ""
            },
            "colorscale": [
             [
              0,
              "#0d0887"
             ],
             [
              0.1111111111111111,
              "#46039f"
             ],
             [
              0.2222222222222222,
              "#7201a8"
             ],
             [
              0.3333333333333333,
              "#9c179e"
             ],
             [
              0.4444444444444444,
              "#bd3786"
             ],
             [
              0.5555555555555556,
              "#d8576b"
             ],
             [
              0.6666666666666666,
              "#ed7953"
             ],
             [
              0.7777777777777778,
              "#fb9f3a"
             ],
             [
              0.8888888888888888,
              "#fdca26"
             ],
             [
              1,
              "#f0f921"
             ]
            ],
            "type": "heatmapgl"
           }
          ],
          "histogram": [
           {
            "marker": {
             "pattern": {
              "fillmode": "overlay",
              "size": 10,
              "solidity": 0.2
             }
            },
            "type": "histogram"
           }
          ],
          "histogram2d": [
           {
            "colorbar": {
             "outlinewidth": 0,
             "ticks": ""
            },
            "colorscale": [
             [
              0,
              "#0d0887"
             ],
             [
              0.1111111111111111,
              "#46039f"
             ],
             [
              0.2222222222222222,
              "#7201a8"
             ],
             [
              0.3333333333333333,
              "#9c179e"
             ],
             [
              0.4444444444444444,
              "#bd3786"
             ],
             [
              0.5555555555555556,
              "#d8576b"
             ],
             [
              0.6666666666666666,
              "#ed7953"
             ],
             [
              0.7777777777777778,
              "#fb9f3a"
             ],
             [
              0.8888888888888888,
              "#fdca26"
             ],
             [
              1,
              "#f0f921"
             ]
            ],
            "type": "histogram2d"
           }
          ],
          "histogram2dcontour": [
           {
            "colorbar": {
             "outlinewidth": 0,
             "ticks": ""
            },
            "colorscale": [
             [
              0,
              "#0d0887"
             ],
             [
              0.1111111111111111,
              "#46039f"
             ],
             [
              0.2222222222222222,
              "#7201a8"
             ],
             [
              0.3333333333333333,
              "#9c179e"
             ],
             [
              0.4444444444444444,
              "#bd3786"
             ],
             [
              0.5555555555555556,
              "#d8576b"
             ],
             [
              0.6666666666666666,
              "#ed7953"
             ],
             [
              0.7777777777777778,
              "#fb9f3a"
             ],
             [
              0.8888888888888888,
              "#fdca26"
             ],
             [
              1,
              "#f0f921"
             ]
            ],
            "type": "histogram2dcontour"
           }
          ],
          "mesh3d": [
           {
            "colorbar": {
             "outlinewidth": 0,
             "ticks": ""
            },
            "type": "mesh3d"
           }
          ],
          "parcoords": [
           {
            "line": {
             "colorbar": {
              "outlinewidth": 0,
              "ticks": ""
             }
            },
            "type": "parcoords"
           }
          ],
          "pie": [
           {
            "automargin": true,
            "type": "pie"
           }
          ],
          "scatter": [
           {
            "fillpattern": {
             "fillmode": "overlay",
             "size": 10,
             "solidity": 0.2
            },
            "type": "scatter"
           }
          ],
          "scatter3d": [
           {
            "line": {
             "colorbar": {
              "outlinewidth": 0,
              "ticks": ""
             }
            },
            "marker": {
             "colorbar": {
              "outlinewidth": 0,
              "ticks": ""
             }
            },
            "type": "scatter3d"
           }
          ],
          "scattercarpet": [
           {
            "marker": {
             "colorbar": {
              "outlinewidth": 0,
              "ticks": ""
             }
            },
            "type": "scattercarpet"
           }
          ],
          "scattergeo": [
           {
            "marker": {
             "colorbar": {
              "outlinewidth": 0,
              "ticks": ""
             }
            },
            "type": "scattergeo"
           }
          ],
          "scattergl": [
           {
            "marker": {
             "colorbar": {
              "outlinewidth": 0,
              "ticks": ""
             }
            },
            "type": "scattergl"
           }
          ],
          "scattermapbox": [
           {
            "marker": {
             "colorbar": {
              "outlinewidth": 0,
              "ticks": ""
             }
            },
            "type": "scattermapbox"
           }
          ],
          "scatterpolar": [
           {
            "marker": {
             "colorbar": {
              "outlinewidth": 0,
              "ticks": ""
             }
            },
            "type": "scatterpolar"
           }
          ],
          "scatterpolargl": [
           {
            "marker": {
             "colorbar": {
              "outlinewidth": 0,
              "ticks": ""
             }
            },
            "type": "scatterpolargl"
           }
          ],
          "scatterternary": [
           {
            "marker": {
             "colorbar": {
              "outlinewidth": 0,
              "ticks": ""
             }
            },
            "type": "scatterternary"
           }
          ],
          "surface": [
           {
            "colorbar": {
             "outlinewidth": 0,
             "ticks": ""
            },
            "colorscale": [
             [
              0,
              "#0d0887"
             ],
             [
              0.1111111111111111,
              "#46039f"
             ],
             [
              0.2222222222222222,
              "#7201a8"
             ],
             [
              0.3333333333333333,
              "#9c179e"
             ],
             [
              0.4444444444444444,
              "#bd3786"
             ],
             [
              0.5555555555555556,
              "#d8576b"
             ],
             [
              0.6666666666666666,
              "#ed7953"
             ],
             [
              0.7777777777777778,
              "#fb9f3a"
             ],
             [
              0.8888888888888888,
              "#fdca26"
             ],
             [
              1,
              "#f0f921"
             ]
            ],
            "type": "surface"
           }
          ],
          "table": [
           {
            "cells": {
             "fill": {
              "color": "#EBF0F8"
             },
             "line": {
              "color": "white"
             }
            },
            "header": {
             "fill": {
              "color": "#C8D4E3"
             },
             "line": {
              "color": "white"
             }
            },
            "type": "table"
           }
          ]
         },
         "layout": {
          "annotationdefaults": {
           "arrowcolor": "#2a3f5f",
           "arrowhead": 0,
           "arrowwidth": 1
          },
          "autotypenumbers": "strict",
          "coloraxis": {
           "colorbar": {
            "outlinewidth": 0,
            "ticks": ""
           }
          },
          "colorscale": {
           "diverging": [
            [
             0,
             "#8e0152"
            ],
            [
             0.1,
             "#c51b7d"
            ],
            [
             0.2,
             "#de77ae"
            ],
            [
             0.3,
             "#f1b6da"
            ],
            [
             0.4,
             "#fde0ef"
            ],
            [
             0.5,
             "#f7f7f7"
            ],
            [
             0.6,
             "#e6f5d0"
            ],
            [
             0.7,
             "#b8e186"
            ],
            [
             0.8,
             "#7fbc41"
            ],
            [
             0.9,
             "#4d9221"
            ],
            [
             1,
             "#276419"
            ]
           ],
           "sequential": [
            [
             0,
             "#0d0887"
            ],
            [
             0.1111111111111111,
             "#46039f"
            ],
            [
             0.2222222222222222,
             "#7201a8"
            ],
            [
             0.3333333333333333,
             "#9c179e"
            ],
            [
             0.4444444444444444,
             "#bd3786"
            ],
            [
             0.5555555555555556,
             "#d8576b"
            ],
            [
             0.6666666666666666,
             "#ed7953"
            ],
            [
             0.7777777777777778,
             "#fb9f3a"
            ],
            [
             0.8888888888888888,
             "#fdca26"
            ],
            [
             1,
             "#f0f921"
            ]
           ],
           "sequentialminus": [
            [
             0,
             "#0d0887"
            ],
            [
             0.1111111111111111,
             "#46039f"
            ],
            [
             0.2222222222222222,
             "#7201a8"
            ],
            [
             0.3333333333333333,
             "#9c179e"
            ],
            [
             0.4444444444444444,
             "#bd3786"
            ],
            [
             0.5555555555555556,
             "#d8576b"
            ],
            [
             0.6666666666666666,
             "#ed7953"
            ],
            [
             0.7777777777777778,
             "#fb9f3a"
            ],
            [
             0.8888888888888888,
             "#fdca26"
            ],
            [
             1,
             "#f0f921"
            ]
           ]
          },
          "colorway": [
           "#636efa",
           "#EF553B",
           "#00cc96",
           "#ab63fa",
           "#FFA15A",
           "#19d3f3",
           "#FF6692",
           "#B6E880",
           "#FF97FF",
           "#FECB52"
          ],
          "font": {
           "color": "#2a3f5f"
          },
          "geo": {
           "bgcolor": "white",
           "lakecolor": "white",
           "landcolor": "#E5ECF6",
           "showlakes": true,
           "showland": true,
           "subunitcolor": "white"
          },
          "hoverlabel": {
           "align": "left"
          },
          "hovermode": "closest",
          "mapbox": {
           "style": "light"
          },
          "paper_bgcolor": "white",
          "plot_bgcolor": "#E5ECF6",
          "polar": {
           "angularaxis": {
            "gridcolor": "white",
            "linecolor": "white",
            "ticks": ""
           },
           "bgcolor": "#E5ECF6",
           "radialaxis": {
            "gridcolor": "white",
            "linecolor": "white",
            "ticks": ""
           }
          },
          "scene": {
           "xaxis": {
            "backgroundcolor": "#E5ECF6",
            "gridcolor": "white",
            "gridwidth": 2,
            "linecolor": "white",
            "showbackground": true,
            "ticks": "",
            "zerolinecolor": "white"
           },
           "yaxis": {
            "backgroundcolor": "#E5ECF6",
            "gridcolor": "white",
            "gridwidth": 2,
            "linecolor": "white",
            "showbackground": true,
            "ticks": "",
            "zerolinecolor": "white"
           },
           "zaxis": {
            "backgroundcolor": "#E5ECF6",
            "gridcolor": "white",
            "gridwidth": 2,
            "linecolor": "white",
            "showbackground": true,
            "ticks": "",
            "zerolinecolor": "white"
           }
          },
          "shapedefaults": {
           "line": {
            "color": "#2a3f5f"
           }
          },
          "ternary": {
           "aaxis": {
            "gridcolor": "white",
            "linecolor": "white",
            "ticks": ""
           },
           "baxis": {
            "gridcolor": "white",
            "linecolor": "white",
            "ticks": ""
           },
           "bgcolor": "#E5ECF6",
           "caxis": {
            "gridcolor": "white",
            "linecolor": "white",
            "ticks": ""
           }
          },
          "title": {
           "x": 0.05
          },
          "xaxis": {
           "automargin": true,
           "gridcolor": "white",
           "linecolor": "white",
           "ticks": "",
           "title": {
            "standoff": 15
           },
           "zerolinecolor": "white",
           "zerolinewidth": 2
          },
          "yaxis": {
           "automargin": true,
           "gridcolor": "white",
           "linecolor": "white",
           "ticks": "",
           "title": {
            "standoff": 15
           },
           "zerolinecolor": "white",
           "zerolinewidth": 2
          }
         }
        },
        "title": {
         "text": "Clear Water Pumping Flow vs Units kWh"
        },
        "xaxis": {
         "anchor": "y",
         "domain": [
          0,
          1
         ],
         "title": {
          "text": "CLEAR WATER PUMPING FLOW ML"
         }
        },
        "yaxis": {
         "anchor": "x",
         "domain": [
          0,
          1
         ],
         "title": {
          "text": "Units_kWh"
         }
        }
       }
      },
      "text/html": [
       "<div>                            <div id=\"ac04a6cf-522c-4c63-94a2-ef64153e40bf\" class=\"plotly-graph-div\" style=\"height:525px; width:100%;\"></div>            <script type=\"text/javascript\">                require([\"plotly\"], function(Plotly) {                    window.PLOTLYENV=window.PLOTLYENV || {};                                    if (document.getElementById(\"ac04a6cf-522c-4c63-94a2-ef64153e40bf\")) {                    Plotly.newPlot(                        \"ac04a6cf-522c-4c63-94a2-ef64153e40bf\",                        [{\"hovertemplate\":\"CLEAR WATER PUMPING FLOW ML=%{x}<br>Units_kWh=%{y}<extra></extra>\",\"legendgroup\":\"\",\"marker\":{\"color\":\"black\",\"symbol\":\"circle\",\"size\":10},\"mode\":\"markers\",\"name\":\"\",\"orientation\":\"v\",\"showlegend\":false,\"x\":[1404.36223,1520.86568,1577.52211,1606.90324,1669.968356,1669.90655,1699.23306,1738.985111,1757.84088,1765.574653,1841.0232,1860.290835,1903.26318,1906.80058,1924.1724,1967.66375,1973.34258,1990.51829,2036.18018,2042.05886,2058.04472,2077.52936,2119.028724,2121.06453,2136.454676,2168.18201,2167.673658,2283.0273,2296.823382,2299.18998],\"xaxis\":\"x\",\"y\":[227816.0,244952.0,271048.0,256808.0,278984.0,274192.0,299392.0,284352.0,262752.0,284016.0,302344.0,298664.0,312488.0,304680.0,299784.0,325496.0,297184.0,326536.0,337032.0,342376.0,355440.0,339606.0,336744.0,346766.0,359136.0,367832.0,358912.0,354696.0,378448.0,379736.0],\"yaxis\":\"y\",\"type\":\"scatter\"},{\"hovertemplate\":\"<b>OLS trendline</b><br>Units_kWh = 164.466 * CLEAR WATER PUMPING FLOW ML + -2077.66<br>R<sup>2</sup>=0.927095<br><br>CLEAR WATER PUMPING FLOW ML=%{x}<br>Units_kWh=%{y} <b>(trend)</b><extra></extra>\",\"legendgroup\":\"\",\"marker\":{\"color\":\"#636efa\",\"symbol\":\"circle\"},\"mode\":\"lines\",\"name\":\"\",\"showlegend\":false,\"x\":[1404.36223,1520.86568,1577.52211,1606.90324,1669.90655,1669.968356,1699.23306,1738.985111,1757.84088,1765.574653,1841.0232,1860.290835,1903.26318,1906.80058,1924.1724,1967.66375,1973.34258,1990.51829,2036.18018,2042.05886,2058.04472,2077.52936,2119.028724,2121.06453,2136.454676,2167.673658,2168.18201,2283.0273,2296.823382,2299.18998],\"xaxis\":\"x\",\"y\":[228892.54155131115,248053.42792163315,257371.49890904257,262203.70339192834,272565.62197772274,272575.7869792142,277388.8433136412,283926.71435693,287027.85211065353,288299.79680986085,300708.5369447916,303877.4127579958,310944.9135024911,311526.69644064765,314383.77465649176,321536.634210796,322470.6101260704,325295.4348642185,332805.27500838717,333772.11950515944,336401.2540671992,339605.8198805432,346431.0649530679,346765.8863462372,349297.04605634586,354431.51517892664,354515.12192969775,373403.2969310104,375672.2869013301,376061.5124166451],\"yaxis\":\"y\",\"type\":\"scatter\",\"line\":{\"color\":\"red\"}}],                        {\"template\":{\"data\":{\"histogram2dcontour\":[{\"type\":\"histogram2dcontour\",\"colorbar\":{\"outlinewidth\":0,\"ticks\":\"\"},\"colorscale\":[[0.0,\"#0d0887\"],[0.1111111111111111,\"#46039f\"],[0.2222222222222222,\"#7201a8\"],[0.3333333333333333,\"#9c179e\"],[0.4444444444444444,\"#bd3786\"],[0.5555555555555556,\"#d8576b\"],[0.6666666666666666,\"#ed7953\"],[0.7777777777777778,\"#fb9f3a\"],[0.8888888888888888,\"#fdca26\"],[1.0,\"#f0f921\"]]}],\"choropleth\":[{\"type\":\"choropleth\",\"colorbar\":{\"outlinewidth\":0,\"ticks\":\"\"}}],\"histogram2d\":[{\"type\":\"histogram2d\",\"colorbar\":{\"outlinewidth\":0,\"ticks\":\"\"},\"colorscale\":[[0.0,\"#0d0887\"],[0.1111111111111111,\"#46039f\"],[0.2222222222222222,\"#7201a8\"],[0.3333333333333333,\"#9c179e\"],[0.4444444444444444,\"#bd3786\"],[0.5555555555555556,\"#d8576b\"],[0.6666666666666666,\"#ed7953\"],[0.7777777777777778,\"#fb9f3a\"],[0.8888888888888888,\"#fdca26\"],[1.0,\"#f0f921\"]]}],\"heatmap\":[{\"type\":\"heatmap\",\"colorbar\":{\"outlinewidth\":0,\"ticks\":\"\"},\"colorscale\":[[0.0,\"#0d0887\"],[0.1111111111111111,\"#46039f\"],[0.2222222222222222,\"#7201a8\"],[0.3333333333333333,\"#9c179e\"],[0.4444444444444444,\"#bd3786\"],[0.5555555555555556,\"#d8576b\"],[0.6666666666666666,\"#ed7953\"],[0.7777777777777778,\"#fb9f3a\"],[0.8888888888888888,\"#fdca26\"],[1.0,\"#f0f921\"]]}],\"heatmapgl\":[{\"type\":\"heatmapgl\",\"colorbar\":{\"outlinewidth\":0,\"ticks\":\"\"},\"colorscale\":[[0.0,\"#0d0887\"],[0.1111111111111111,\"#46039f\"],[0.2222222222222222,\"#7201a8\"],[0.3333333333333333,\"#9c179e\"],[0.4444444444444444,\"#bd3786\"],[0.5555555555555556,\"#d8576b\"],[0.6666666666666666,\"#ed7953\"],[0.7777777777777778,\"#fb9f3a\"],[0.8888888888888888,\"#fdca26\"],[1.0,\"#f0f921\"]]}],\"contourcarpet\":[{\"type\":\"contourcarpet\",\"colorbar\":{\"outlinewidth\":0,\"ticks\":\"\"}}],\"contour\":[{\"type\":\"contour\",\"colorbar\":{\"outlinewidth\":0,\"ticks\":\"\"},\"colorscale\":[[0.0,\"#0d0887\"],[0.1111111111111111,\"#46039f\"],[0.2222222222222222,\"#7201a8\"],[0.3333333333333333,\"#9c179e\"],[0.4444444444444444,\"#bd3786\"],[0.5555555555555556,\"#d8576b\"],[0.6666666666666666,\"#ed7953\"],[0.7777777777777778,\"#fb9f3a\"],[0.8888888888888888,\"#fdca26\"],[1.0,\"#f0f921\"]]}],\"surface\":[{\"type\":\"surface\",\"colorbar\":{\"outlinewidth\":0,\"ticks\":\"\"},\"colorscale\":[[0.0,\"#0d0887\"],[0.1111111111111111,\"#46039f\"],[0.2222222222222222,\"#7201a8\"],[0.3333333333333333,\"#9c179e\"],[0.4444444444444444,\"#bd3786\"],[0.5555555555555556,\"#d8576b\"],[0.6666666666666666,\"#ed7953\"],[0.7777777777777778,\"#fb9f3a\"],[0.8888888888888888,\"#fdca26\"],[1.0,\"#f0f921\"]]}],\"mesh3d\":[{\"type\":\"mesh3d\",\"colorbar\":{\"outlinewidth\":0,\"ticks\":\"\"}}],\"scatter\":[{\"fillpattern\":{\"fillmode\":\"overlay\",\"size\":10,\"solidity\":0.2},\"type\":\"scatter\"}],\"parcoords\":[{\"type\":\"parcoords\",\"line\":{\"colorbar\":{\"outlinewidth\":0,\"ticks\":\"\"}}}],\"scatterpolargl\":[{\"type\":\"scatterpolargl\",\"marker\":{\"colorbar\":{\"outlinewidth\":0,\"ticks\":\"\"}}}],\"bar\":[{\"error_x\":{\"color\":\"#2a3f5f\"},\"error_y\":{\"color\":\"#2a3f5f\"},\"marker\":{\"line\":{\"color\":\"#E5ECF6\",\"width\":0.5},\"pattern\":{\"fillmode\":\"overlay\",\"size\":10,\"solidity\":0.2}},\"type\":\"bar\"}],\"scattergeo\":[{\"type\":\"scattergeo\",\"marker\":{\"colorbar\":{\"outlinewidth\":0,\"ticks\":\"\"}}}],\"scatterpolar\":[{\"type\":\"scatterpolar\",\"marker\":{\"colorbar\":{\"outlinewidth\":0,\"ticks\":\"\"}}}],\"histogram\":[{\"marker\":{\"pattern\":{\"fillmode\":\"overlay\",\"size\":10,\"solidity\":0.2}},\"type\":\"histogram\"}],\"scattergl\":[{\"type\":\"scattergl\",\"marker\":{\"colorbar\":{\"outlinewidth\":0,\"ticks\":\"\"}}}],\"scatter3d\":[{\"type\":\"scatter3d\",\"line\":{\"colorbar\":{\"outlinewidth\":0,\"ticks\":\"\"}},\"marker\":{\"colorbar\":{\"outlinewidth\":0,\"ticks\":\"\"}}}],\"scattermapbox\":[{\"type\":\"scattermapbox\",\"marker\":{\"colorbar\":{\"outlinewidth\":0,\"ticks\":\"\"}}}],\"scatterternary\":[{\"type\":\"scatterternary\",\"marker\":{\"colorbar\":{\"outlinewidth\":0,\"ticks\":\"\"}}}],\"scattercarpet\":[{\"type\":\"scattercarpet\",\"marker\":{\"colorbar\":{\"outlinewidth\":0,\"ticks\":\"\"}}}],\"carpet\":[{\"aaxis\":{\"endlinecolor\":\"#2a3f5f\",\"gridcolor\":\"white\",\"linecolor\":\"white\",\"minorgridcolor\":\"white\",\"startlinecolor\":\"#2a3f5f\"},\"baxis\":{\"endlinecolor\":\"#2a3f5f\",\"gridcolor\":\"white\",\"linecolor\":\"white\",\"minorgridcolor\":\"white\",\"startlinecolor\":\"#2a3f5f\"},\"type\":\"carpet\"}],\"table\":[{\"cells\":{\"fill\":{\"color\":\"#EBF0F8\"},\"line\":{\"color\":\"white\"}},\"header\":{\"fill\":{\"color\":\"#C8D4E3\"},\"line\":{\"color\":\"white\"}},\"type\":\"table\"}],\"barpolar\":[{\"marker\":{\"line\":{\"color\":\"#E5ECF6\",\"width\":0.5},\"pattern\":{\"fillmode\":\"overlay\",\"size\":10,\"solidity\":0.2}},\"type\":\"barpolar\"}],\"pie\":[{\"automargin\":true,\"type\":\"pie\"}]},\"layout\":{\"autotypenumbers\":\"strict\",\"colorway\":[\"#636efa\",\"#EF553B\",\"#00cc96\",\"#ab63fa\",\"#FFA15A\",\"#19d3f3\",\"#FF6692\",\"#B6E880\",\"#FF97FF\",\"#FECB52\"],\"font\":{\"color\":\"#2a3f5f\"},\"hovermode\":\"closest\",\"hoverlabel\":{\"align\":\"left\"},\"paper_bgcolor\":\"white\",\"plot_bgcolor\":\"#E5ECF6\",\"polar\":{\"bgcolor\":\"#E5ECF6\",\"angularaxis\":{\"gridcolor\":\"white\",\"linecolor\":\"white\",\"ticks\":\"\"},\"radialaxis\":{\"gridcolor\":\"white\",\"linecolor\":\"white\",\"ticks\":\"\"}},\"ternary\":{\"bgcolor\":\"#E5ECF6\",\"aaxis\":{\"gridcolor\":\"white\",\"linecolor\":\"white\",\"ticks\":\"\"},\"baxis\":{\"gridcolor\":\"white\",\"linecolor\":\"white\",\"ticks\":\"\"},\"caxis\":{\"gridcolor\":\"white\",\"linecolor\":\"white\",\"ticks\":\"\"}},\"coloraxis\":{\"colorbar\":{\"outlinewidth\":0,\"ticks\":\"\"}},\"colorscale\":{\"sequential\":[[0.0,\"#0d0887\"],[0.1111111111111111,\"#46039f\"],[0.2222222222222222,\"#7201a8\"],[0.3333333333333333,\"#9c179e\"],[0.4444444444444444,\"#bd3786\"],[0.5555555555555556,\"#d8576b\"],[0.6666666666666666,\"#ed7953\"],[0.7777777777777778,\"#fb9f3a\"],[0.8888888888888888,\"#fdca26\"],[1.0,\"#f0f921\"]],\"sequentialminus\":[[0.0,\"#0d0887\"],[0.1111111111111111,\"#46039f\"],[0.2222222222222222,\"#7201a8\"],[0.3333333333333333,\"#9c179e\"],[0.4444444444444444,\"#bd3786\"],[0.5555555555555556,\"#d8576b\"],[0.6666666666666666,\"#ed7953\"],[0.7777777777777778,\"#fb9f3a\"],[0.8888888888888888,\"#fdca26\"],[1.0,\"#f0f921\"]],\"diverging\":[[0,\"#8e0152\"],[0.1,\"#c51b7d\"],[0.2,\"#de77ae\"],[0.3,\"#f1b6da\"],[0.4,\"#fde0ef\"],[0.5,\"#f7f7f7\"],[0.6,\"#e6f5d0\"],[0.7,\"#b8e186\"],[0.8,\"#7fbc41\"],[0.9,\"#4d9221\"],[1,\"#276419\"]]},\"xaxis\":{\"gridcolor\":\"white\",\"linecolor\":\"white\",\"ticks\":\"\",\"title\":{\"standoff\":15},\"zerolinecolor\":\"white\",\"automargin\":true,\"zerolinewidth\":2},\"yaxis\":{\"gridcolor\":\"white\",\"linecolor\":\"white\",\"ticks\":\"\",\"title\":{\"standoff\":15},\"zerolinecolor\":\"white\",\"automargin\":true,\"zerolinewidth\":2},\"scene\":{\"xaxis\":{\"backgroundcolor\":\"#E5ECF6\",\"gridcolor\":\"white\",\"linecolor\":\"white\",\"showbackground\":true,\"ticks\":\"\",\"zerolinecolor\":\"white\",\"gridwidth\":2},\"yaxis\":{\"backgroundcolor\":\"#E5ECF6\",\"gridcolor\":\"white\",\"linecolor\":\"white\",\"showbackground\":true,\"ticks\":\"\",\"zerolinecolor\":\"white\",\"gridwidth\":2},\"zaxis\":{\"backgroundcolor\":\"#E5ECF6\",\"gridcolor\":\"white\",\"linecolor\":\"white\",\"showbackground\":true,\"ticks\":\"\",\"zerolinecolor\":\"white\",\"gridwidth\":2}},\"shapedefaults\":{\"line\":{\"color\":\"#2a3f5f\"}},\"annotationdefaults\":{\"arrowcolor\":\"#2a3f5f\",\"arrowhead\":0,\"arrowwidth\":1},\"geo\":{\"bgcolor\":\"white\",\"landcolor\":\"#E5ECF6\",\"subunitcolor\":\"white\",\"showland\":true,\"showlakes\":true,\"lakecolor\":\"white\"},\"title\":{\"x\":0.05},\"mapbox\":{\"style\":\"light\"}}},\"xaxis\":{\"anchor\":\"y\",\"domain\":[0.0,1.0],\"title\":{\"text\":\"CLEAR WATER PUMPING FLOW ML\"}},\"yaxis\":{\"anchor\":\"x\",\"domain\":[0.0,1.0],\"title\":{\"text\":\"Units_kWh\"}},\"legend\":{\"tracegroupgap\":0},\"title\":{\"text\":\"Clear Water Pumping Flow vs Units kWh\"}},                        {\"responsive\": true}                    ).then(function(){\n",
       "                            \n",
       "var gd = document.getElementById('ac04a6cf-522c-4c63-94a2-ef64153e40bf');\n",
       "var x = new MutationObserver(function (mutations, observer) {{\n",
       "        var display = window.getComputedStyle(gd).display;\n",
       "        if (!display || display === 'none') {{\n",
       "            console.log([gd, 'removed!']);\n",
       "            Plotly.purge(gd);\n",
       "            observer.disconnect();\n",
       "        }}\n",
       "}});\n",
       "\n",
       "// Listen for the removal of the full notebook cells\n",
       "var notebookContainer = gd.closest('#notebook-container');\n",
       "if (notebookContainer) {{\n",
       "    x.observe(notebookContainer, {childList: true});\n",
       "}}\n",
       "\n",
       "// Listen for the clearing of the current output cell\n",
       "var outputEl = gd.closest('.output');\n",
       "if (outputEl) {{\n",
       "    x.observe(outputEl, {childList: true});\n",
       "}}\n",
       "\n",
       "                        })                };                });            </script>        </div>"
      ]
     },
     "metadata": {},
     "output_type": "display_data"
    },
    {
     "data": {
      "text/plain": [
       "'Clear Water Pumping Flow vs Units kWh.html'"
      ]
     },
     "execution_count": 53,
     "metadata": {},
     "output_type": "execute_result"
    }
   ],
   "source": [
    "fig = px.scatter(\n",
    "    sorted_data,\n",
    "    x=\"CLEAR WATER PUMPING FLOW ML\",\n",
    "    y=\"Units_kWh\",\n",
    "    title='Clear Water Pumping Flow vs Units kWh',\n",
    "    #hover_data='Standardized_Date',\n",
    "    trendline='ols'  #for trendline \n",
    ")\n",
    "fig.update_traces(marker=dict(size=10, color='black'),selector=dict(mode='markers'))   # size and color of the dots\n",
    " \n",
    "\n",
    "fig.update_traces(line=dict(color='red'),selector=dict(type='scatter', mode='lines'))  #trendline color to red\n",
    "                  \n",
    "\n",
    "fig.show()\n",
    "\n",
    "pyo.plot(fig, filename='Clear Water Pumping Flow vs Units kWh.html', auto_open=True)"
   ]
  },
  {
   "cell_type": "code",
   "execution_count": 54,
   "id": "c00489f4",
   "metadata": {},
   "outputs": [
    {
     "data": {
      "text/html": [
       "<div>\n",
       "<style scoped>\n",
       "    .dataframe tbody tr th:only-of-type {\n",
       "        vertical-align: middle;\n",
       "    }\n",
       "\n",
       "    .dataframe tbody tr th {\n",
       "        vertical-align: top;\n",
       "    }\n",
       "\n",
       "    .dataframe thead th {\n",
       "        text-align: right;\n",
       "    }\n",
       "</style>\n",
       "<table border=\"1\" class=\"dataframe\">\n",
       "  <thead>\n",
       "    <tr style=\"text-align: right;\">\n",
       "      <th></th>\n",
       "      <th>Month-Year</th>\n",
       "      <th>Units_kWh</th>\n",
       "    </tr>\n",
       "  </thead>\n",
       "  <tbody>\n",
       "    <tr>\n",
       "      <th>0</th>\n",
       "      <td>12-2021</td>\n",
       "      <td>284352.0</td>\n",
       "    </tr>\n",
       "    <tr>\n",
       "      <th>1</th>\n",
       "      <td>01-2022</td>\n",
       "      <td>278984.0</td>\n",
       "    </tr>\n",
       "    <tr>\n",
       "      <th>2</th>\n",
       "      <td>02-2022</td>\n",
       "      <td>271048.0</td>\n",
       "    </tr>\n",
       "    <tr>\n",
       "      <th>3</th>\n",
       "      <td>03-2022</td>\n",
       "      <td>298664.0</td>\n",
       "    </tr>\n",
       "    <tr>\n",
       "      <th>4</th>\n",
       "      <td>04-2022</td>\n",
       "      <td>299392.0</td>\n",
       "    </tr>\n",
       "    <tr>\n",
       "      <th>5</th>\n",
       "      <td>05-2022</td>\n",
       "      <td>262752.0</td>\n",
       "    </tr>\n",
       "    <tr>\n",
       "      <th>6</th>\n",
       "      <td>06-2022</td>\n",
       "      <td>256808.0</td>\n",
       "    </tr>\n",
       "    <tr>\n",
       "      <th>7</th>\n",
       "      <td>07-2022</td>\n",
       "      <td>227816.0</td>\n",
       "    </tr>\n",
       "    <tr>\n",
       "      <th>8</th>\n",
       "      <td>08-2022</td>\n",
       "      <td>244952.0</td>\n",
       "    </tr>\n",
       "    <tr>\n",
       "      <th>9</th>\n",
       "      <td>09-2022</td>\n",
       "      <td>274192.0</td>\n",
       "    </tr>\n",
       "    <tr>\n",
       "      <th>10</th>\n",
       "      <td>10-2022</td>\n",
       "      <td>304680.0</td>\n",
       "    </tr>\n",
       "    <tr>\n",
       "      <th>11</th>\n",
       "      <td>11-2022</td>\n",
       "      <td>302344.0</td>\n",
       "    </tr>\n",
       "    <tr>\n",
       "      <th>12</th>\n",
       "      <td>12-2022</td>\n",
       "      <td>325496.0</td>\n",
       "    </tr>\n",
       "    <tr>\n",
       "      <th>13</th>\n",
       "      <td>01-2023</td>\n",
       "      <td>299784.0</td>\n",
       "    </tr>\n",
       "    <tr>\n",
       "      <th>14</th>\n",
       "      <td>02-2023</td>\n",
       "      <td>284016.0</td>\n",
       "    </tr>\n",
       "    <tr>\n",
       "      <th>15</th>\n",
       "      <td>03-2023</td>\n",
       "      <td>326536.0</td>\n",
       "    </tr>\n",
       "    <tr>\n",
       "      <th>16</th>\n",
       "      <td>04-2023</td>\n",
       "      <td>355440.0</td>\n",
       "    </tr>\n",
       "    <tr>\n",
       "      <th>17</th>\n",
       "      <td>05-2023</td>\n",
       "      <td>336744.0</td>\n",
       "    </tr>\n",
       "    <tr>\n",
       "      <th>18</th>\n",
       "      <td>06-2023</td>\n",
       "      <td>346766.0</td>\n",
       "    </tr>\n",
       "    <tr>\n",
       "      <th>19</th>\n",
       "      <td>07-2023</td>\n",
       "      <td>312488.0</td>\n",
       "    </tr>\n",
       "    <tr>\n",
       "      <th>20</th>\n",
       "      <td>08-2023</td>\n",
       "      <td>367832.0</td>\n",
       "    </tr>\n",
       "    <tr>\n",
       "      <th>21</th>\n",
       "      <td>09-2023</td>\n",
       "      <td>339606.0</td>\n",
       "    </tr>\n",
       "    <tr>\n",
       "      <th>22</th>\n",
       "      <td>10-2023</td>\n",
       "      <td>297184.0</td>\n",
       "    </tr>\n",
       "    <tr>\n",
       "      <th>23</th>\n",
       "      <td>11-2023</td>\n",
       "      <td>342376.0</td>\n",
       "    </tr>\n",
       "    <tr>\n",
       "      <th>24</th>\n",
       "      <td>12-2023</td>\n",
       "      <td>378448.0</td>\n",
       "    </tr>\n",
       "    <tr>\n",
       "      <th>25</th>\n",
       "      <td>01-2024</td>\n",
       "      <td>337032.0</td>\n",
       "    </tr>\n",
       "    <tr>\n",
       "      <th>26</th>\n",
       "      <td>02-2024</td>\n",
       "      <td>358912.0</td>\n",
       "    </tr>\n",
       "    <tr>\n",
       "      <th>27</th>\n",
       "      <td>03-2024</td>\n",
       "      <td>379736.0</td>\n",
       "    </tr>\n",
       "    <tr>\n",
       "      <th>28</th>\n",
       "      <td>04-2024</td>\n",
       "      <td>359136.0</td>\n",
       "    </tr>\n",
       "    <tr>\n",
       "      <th>29</th>\n",
       "      <td>05-2024</td>\n",
       "      <td>354696.0</td>\n",
       "    </tr>\n",
       "  </tbody>\n",
       "</table>\n",
       "</div>"
      ],
      "text/plain": [
       "   Month-Year  Units_kWh\n",
       "0     12-2021   284352.0\n",
       "1     01-2022   278984.0\n",
       "2     02-2022   271048.0\n",
       "3     03-2022   298664.0\n",
       "4     04-2022   299392.0\n",
       "5     05-2022   262752.0\n",
       "6     06-2022   256808.0\n",
       "7     07-2022   227816.0\n",
       "8     08-2022   244952.0\n",
       "9     09-2022   274192.0\n",
       "10    10-2022   304680.0\n",
       "11    11-2022   302344.0\n",
       "12    12-2022   325496.0\n",
       "13    01-2023   299784.0\n",
       "14    02-2023   284016.0\n",
       "15    03-2023   326536.0\n",
       "16    04-2023   355440.0\n",
       "17    05-2023   336744.0\n",
       "18    06-2023   346766.0\n",
       "19    07-2023   312488.0\n",
       "20    08-2023   367832.0\n",
       "21    09-2023   339606.0\n",
       "22    10-2023   297184.0\n",
       "23    11-2023   342376.0\n",
       "24    12-2023   378448.0\n",
       "25    01-2024   337032.0\n",
       "26    02-2024   358912.0\n",
       "27    03-2024   379736.0\n",
       "28    04-2024   359136.0\n",
       "29    05-2024   354696.0"
      ]
     },
     "execution_count": 54,
     "metadata": {},
     "output_type": "execute_result"
    }
   ],
   "source": [
    "df[['Month-Year','Units_kWh']]"
   ]
  },
  {
   "cell_type": "code",
   "execution_count": 57,
   "id": "a27213b0",
   "metadata": {},
   "outputs": [
    {
     "data": {
      "text/html": [
       "<div>\n",
       "<style scoped>\n",
       "    .dataframe tbody tr th:only-of-type {\n",
       "        vertical-align: middle;\n",
       "    }\n",
       "\n",
       "    .dataframe tbody tr th {\n",
       "        vertical-align: top;\n",
       "    }\n",
       "\n",
       "    .dataframe thead th {\n",
       "        text-align: right;\n",
       "    }\n",
       "</style>\n",
       "<table border=\"1\" class=\"dataframe\">\n",
       "  <thead>\n",
       "    <tr style=\"text-align: right;\">\n",
       "      <th></th>\n",
       "      <th>Standardized_Date</th>\n",
       "      <th>RAW WATER FLOW IN ML</th>\n",
       "      <th>CLEAR WATER SUMP LEVEL IN Meter</th>\n",
       "      <th>CLEAR WATER PUMPING FLOW ML</th>\n",
       "      <th>TREATED WATER PRODUCTION IN ML</th>\n",
       "      <th>remarks category</th>\n",
       "      <th>Avg_Consumption (kWh)</th>\n",
       "      <th>Energy Charge</th>\n",
       "      <th>Units_kWh</th>\n",
       "      <th>Year</th>\n",
       "      <th>Month</th>\n",
       "      <th>Month-Year</th>\n",
       "      <th>No:of_pumps</th>\n",
       "      <th>charge_per_unit</th>\n",
       "      <th>specific_energy_consumption</th>\n",
       "      <th>unit_cost</th>\n",
       "    </tr>\n",
       "  </thead>\n",
       "  <tbody>\n",
       "    <tr>\n",
       "      <th>0</th>\n",
       "      <td>2021-12-31</td>\n",
       "      <td>1998.059680</td>\n",
       "      <td>2.900954</td>\n",
       "      <td>1738.985111</td>\n",
       "      <td>1933.722260</td>\n",
       "      <td>['No remarks']</td>\n",
       "      <td>264227.0</td>\n",
       "      <td>1802752.40</td>\n",
       "      <td>284352.0</td>\n",
       "      <td>2021</td>\n",
       "      <td>12</td>\n",
       "      <td>12-2021</td>\n",
       "      <td>1866.0</td>\n",
       "      <td>6.339862</td>\n",
       "      <td>147.05</td>\n",
       "      <td>932.27</td>\n",
       "    </tr>\n",
       "    <tr>\n",
       "      <th>1</th>\n",
       "      <td>2022-01-31</td>\n",
       "      <td>1928.276850</td>\n",
       "      <td>2.713804</td>\n",
       "      <td>1669.968356</td>\n",
       "      <td>1866.186420</td>\n",
       "      <td>['No remarks' 'WTP cleaning' 'energy auditing'...</td>\n",
       "      <td>270707.0</td>\n",
       "      <td>1814811.00</td>\n",
       "      <td>278984.0</td>\n",
       "      <td>2022</td>\n",
       "      <td>1</td>\n",
       "      <td>01-2022</td>\n",
       "      <td>1792.0</td>\n",
       "      <td>6.505072</td>\n",
       "      <td>149.49</td>\n",
       "      <td>972.47</td>\n",
       "    </tr>\n",
       "    <tr>\n",
       "      <th>2</th>\n",
       "      <td>2022-02-28</td>\n",
       "      <td>1832.749031</td>\n",
       "      <td>2.800164</td>\n",
       "      <td>1577.522110</td>\n",
       "      <td>1773.731660</td>\n",
       "      <td>['No remarks' 'maintanance at intake' 'Power F...</td>\n",
       "      <td>272721.0</td>\n",
       "      <td>1729563.80</td>\n",
       "      <td>271048.0</td>\n",
       "      <td>2022</td>\n",
       "      <td>2</td>\n",
       "      <td>02-2022</td>\n",
       "      <td>1693.0</td>\n",
       "      <td>6.381024</td>\n",
       "      <td>152.81</td>\n",
       "      <td>975.10</td>\n",
       "    </tr>\n",
       "    <tr>\n",
       "      <th>3</th>\n",
       "      <td>2022-03-31</td>\n",
       "      <td>2169.405400</td>\n",
       "      <td>2.831720</td>\n",
       "      <td>1860.290835</td>\n",
       "      <td>2099.551520</td>\n",
       "      <td>['No remarks' 'Power Failure at Intake']</td>\n",
       "      <td>277393.0</td>\n",
       "      <td>1888178.05</td>\n",
       "      <td>298664.0</td>\n",
       "      <td>2022</td>\n",
       "      <td>3</td>\n",
       "      <td>03-2022</td>\n",
       "      <td>1996.0</td>\n",
       "      <td>6.322081</td>\n",
       "      <td>142.25</td>\n",
       "      <td>899.32</td>\n",
       "    </tr>\n",
       "    <tr>\n",
       "      <th>4</th>\n",
       "      <td>2022-04-30</td>\n",
       "      <td>1943.862463</td>\n",
       "      <td>2.769444</td>\n",
       "      <td>1699.233060</td>\n",
       "      <td>1881.272590</td>\n",
       "      <td>['No remarks' 'Power Failure at Intake' 'Power...</td>\n",
       "      <td>281749.0</td>\n",
       "      <td>1890310.40</td>\n",
       "      <td>299392.0</td>\n",
       "      <td>2022</td>\n",
       "      <td>4</td>\n",
       "      <td>04-2022</td>\n",
       "      <td>1823.0</td>\n",
       "      <td>6.313831</td>\n",
       "      <td>159.14</td>\n",
       "      <td>1004.80</td>\n",
       "    </tr>\n",
       "    <tr>\n",
       "      <th>5</th>\n",
       "      <td>2022-05-31</td>\n",
       "      <td>2016.614410</td>\n",
       "      <td>2.857272</td>\n",
       "      <td>1757.840880</td>\n",
       "      <td>1951.698500</td>\n",
       "      <td>['No remarks' 'Power Failure at WTP' 'Power Fa...</td>\n",
       "      <td>282532.0</td>\n",
       "      <td>1681677.40</td>\n",
       "      <td>262752.0</td>\n",
       "      <td>2022</td>\n",
       "      <td>5</td>\n",
       "      <td>05-2022</td>\n",
       "      <td>1886.0</td>\n",
       "      <td>6.400246</td>\n",
       "      <td>134.63</td>\n",
       "      <td>861.65</td>\n",
       "    </tr>\n",
       "    <tr>\n",
       "      <th>6</th>\n",
       "      <td>2022-06-30</td>\n",
       "      <td>1814.876370</td>\n",
       "      <td>2.691806</td>\n",
       "      <td>1606.903240</td>\n",
       "      <td>1756.432580</td>\n",
       "      <td>['No remarks' 'Power Failure at intake and WTP...</td>\n",
       "      <td>242923.0</td>\n",
       "      <td>1670442.48</td>\n",
       "      <td>256808.0</td>\n",
       "      <td>2022</td>\n",
       "      <td>6</td>\n",
       "      <td>06-2022</td>\n",
       "      <td>1724.0</td>\n",
       "      <td>6.504636</td>\n",
       "      <td>146.21</td>\n",
       "      <td>951.04</td>\n",
       "    </tr>\n",
       "    <tr>\n",
       "      <th>7</th>\n",
       "      <td>2022-07-31</td>\n",
       "      <td>1599.658680</td>\n",
       "      <td>2.793535</td>\n",
       "      <td>1404.362230</td>\n",
       "      <td>1548.147830</td>\n",
       "      <td>['No remarks' 'intake sump level low' 'Power F...</td>\n",
       "      <td>234395.0</td>\n",
       "      <td>1586531.05</td>\n",
       "      <td>227816.0</td>\n",
       "      <td>2022</td>\n",
       "      <td>7</td>\n",
       "      <td>07-2022</td>\n",
       "      <td>1507.0</td>\n",
       "      <td>6.964090</td>\n",
       "      <td>147.15</td>\n",
       "      <td>1024.79</td>\n",
       "    </tr>\n",
       "    <tr>\n",
       "      <th>8</th>\n",
       "      <td>2022-08-31</td>\n",
       "      <td>1752.933070</td>\n",
       "      <td>2.840269</td>\n",
       "      <td>1520.865680</td>\n",
       "      <td>1696.487150</td>\n",
       "      <td>['No remarks' 'Power Failure at intake and WTP...</td>\n",
       "      <td>230045.0</td>\n",
       "      <td>1683641.02</td>\n",
       "      <td>244952.0</td>\n",
       "      <td>2022</td>\n",
       "      <td>8</td>\n",
       "      <td>08-2022</td>\n",
       "      <td>1632.0</td>\n",
       "      <td>6.873351</td>\n",
       "      <td>144.39</td>\n",
       "      <td>992.43</td>\n",
       "    </tr>\n",
       "    <tr>\n",
       "      <th>9</th>\n",
       "      <td>2022-09-30</td>\n",
       "      <td>1910.059020</td>\n",
       "      <td>2.836417</td>\n",
       "      <td>1669.906550</td>\n",
       "      <td>1848.543760</td>\n",
       "      <td>['No remarks' 'intake cleaning']</td>\n",
       "      <td>225967.0</td>\n",
       "      <td>1865490.92</td>\n",
       "      <td>274192.0</td>\n",
       "      <td>2022</td>\n",
       "      <td>9</td>\n",
       "      <td>09-2022</td>\n",
       "      <td>1792.0</td>\n",
       "      <td>6.803594</td>\n",
       "      <td>148.33</td>\n",
       "      <td>1009.17</td>\n",
       "    </tr>\n",
       "    <tr>\n",
       "      <th>10</th>\n",
       "      <td>2022-10-31</td>\n",
       "      <td>2202.323760</td>\n",
       "      <td>2.947755</td>\n",
       "      <td>1906.800580</td>\n",
       "      <td>2131.406310</td>\n",
       "      <td>['No remarks' 'intake cleaning']</td>\n",
       "      <td>226848.0</td>\n",
       "      <td>2046339.30</td>\n",
       "      <td>304680.0</td>\n",
       "      <td>2022</td>\n",
       "      <td>10</td>\n",
       "      <td>10-2022</td>\n",
       "      <td>2046.0</td>\n",
       "      <td>6.716356</td>\n",
       "      <td>142.95</td>\n",
       "      <td>960.09</td>\n",
       "    </tr>\n",
       "    <tr>\n",
       "      <th>11</th>\n",
       "      <td>2022-11-30</td>\n",
       "      <td>2121.876660</td>\n",
       "      <td>2.924958</td>\n",
       "      <td>1841.023200</td>\n",
       "      <td>2053.546760</td>\n",
       "      <td>['No remarks']</td>\n",
       "      <td>233447.0</td>\n",
       "      <td>2034493.94</td>\n",
       "      <td>302344.0</td>\n",
       "      <td>2022</td>\n",
       "      <td>11</td>\n",
       "      <td>11-2022</td>\n",
       "      <td>1975.0</td>\n",
       "      <td>6.729070</td>\n",
       "      <td>147.23</td>\n",
       "      <td>990.72</td>\n",
       "    </tr>\n",
       "    <tr>\n",
       "      <th>12</th>\n",
       "      <td>2022-12-31</td>\n",
       "      <td>2271.739730</td>\n",
       "      <td>2.981196</td>\n",
       "      <td>1967.663750</td>\n",
       "      <td>2198.589820</td>\n",
       "      <td>['No remarks' 'voltage fluctation at intake']</td>\n",
       "      <td>279913.0</td>\n",
       "      <td>2178204.46</td>\n",
       "      <td>325496.0</td>\n",
       "      <td>2022</td>\n",
       "      <td>12</td>\n",
       "      <td>12-2022</td>\n",
       "      <td>2111.0</td>\n",
       "      <td>6.691955</td>\n",
       "      <td>148.05</td>\n",
       "      <td>990.73</td>\n",
       "    </tr>\n",
       "    <tr>\n",
       "      <th>13</th>\n",
       "      <td>2023-01-31</td>\n",
       "      <td>2237.711297</td>\n",
       "      <td>3.052191</td>\n",
       "      <td>1924.172400</td>\n",
       "      <td>2165.670850</td>\n",
       "      <td>['No remarks' 'Power Failure at Intake']</td>\n",
       "      <td>291908.0</td>\n",
       "      <td>2016608.34</td>\n",
       "      <td>299784.0</td>\n",
       "      <td>2023</td>\n",
       "      <td>1</td>\n",
       "      <td>01-2023</td>\n",
       "      <td>2065.0</td>\n",
       "      <td>6.726871</td>\n",
       "      <td>138.43</td>\n",
       "      <td>931.17</td>\n",
       "    </tr>\n",
       "    <tr>\n",
       "      <th>14</th>\n",
       "      <td>2023-02-28</td>\n",
       "      <td>2057.460310</td>\n",
       "      <td>2.966711</td>\n",
       "      <td>1765.574653</td>\n",
       "      <td>1991.195210</td>\n",
       "      <td>['No remarks' 'Power Failure at intake and WTP...</td>\n",
       "      <td>298419.0</td>\n",
       "      <td>1989731.04</td>\n",
       "      <td>284016.0</td>\n",
       "      <td>2023</td>\n",
       "      <td>2</td>\n",
       "      <td>02-2023</td>\n",
       "      <td>1894.0</td>\n",
       "      <td>7.005701</td>\n",
       "      <td>142.64</td>\n",
       "      <td>999.26</td>\n",
       "    </tr>\n",
       "    <tr>\n",
       "      <th>15</th>\n",
       "      <td>2023-03-31</td>\n",
       "      <td>2310.713690</td>\n",
       "      <td>3.034368</td>\n",
       "      <td>1990.518290</td>\n",
       "      <td>2236.309280</td>\n",
       "      <td>['No remarks']</td>\n",
       "      <td>307143.0</td>\n",
       "      <td>2276167.98</td>\n",
       "      <td>326536.0</td>\n",
       "      <td>2023</td>\n",
       "      <td>3</td>\n",
       "      <td>03-2023</td>\n",
       "      <td>2136.0</td>\n",
       "      <td>6.970649</td>\n",
       "      <td>146.02</td>\n",
       "      <td>1017.82</td>\n",
       "    </tr>\n",
       "    <tr>\n",
       "      <th>16</th>\n",
       "      <td>2023-04-30</td>\n",
       "      <td>2392.954534</td>\n",
       "      <td>2.909681</td>\n",
       "      <td>2058.044720</td>\n",
       "      <td>2315.873960</td>\n",
       "      <td>['No remarks' 'maintanance']</td>\n",
       "      <td>315603.0</td>\n",
       "      <td>2505844.20</td>\n",
       "      <td>355440.0</td>\n",
       "      <td>2023</td>\n",
       "      <td>4</td>\n",
       "      <td>04-2023</td>\n",
       "      <td>2208.0</td>\n",
       "      <td>7.049978</td>\n",
       "      <td>153.48</td>\n",
       "      <td>1082.03</td>\n",
       "    </tr>\n",
       "    <tr>\n",
       "      <th>17</th>\n",
       "      <td>2023-05-31</td>\n",
       "      <td>2451.286890</td>\n",
       "      <td>3.073938</td>\n",
       "      <td>2119.028724</td>\n",
       "      <td>2372.367790</td>\n",
       "      <td>['No remarks' 'maintanance at Thaliparamba'\\n ...</td>\n",
       "      <td>321336.0</td>\n",
       "      <td>2431001.82</td>\n",
       "      <td>336744.0</td>\n",
       "      <td>2023</td>\n",
       "      <td>5</td>\n",
       "      <td>05-2023</td>\n",
       "      <td>2274.0</td>\n",
       "      <td>7.219139</td>\n",
       "      <td>141.94</td>\n",
       "      <td>1024.72</td>\n",
       "    </tr>\n",
       "    <tr>\n",
       "      <th>18</th>\n",
       "      <td>2023-06-30</td>\n",
       "      <td>2406.076600</td>\n",
       "      <td>3.149028</td>\n",
       "      <td>2121.064530</td>\n",
       "      <td>2328.600030</td>\n",
       "      <td>['No remarks' 'Power Failure at intake and WTP']</td>\n",
       "      <td>328432.0</td>\n",
       "      <td>2472964.61</td>\n",
       "      <td>346766.0</td>\n",
       "      <td>2023</td>\n",
       "      <td>6</td>\n",
       "      <td>06-2023</td>\n",
       "      <td>2276.0</td>\n",
       "      <td>7.131508</td>\n",
       "      <td>148.92</td>\n",
       "      <td>1062.00</td>\n",
       "    </tr>\n",
       "    <tr>\n",
       "      <th>19</th>\n",
       "      <td>2023-07-31</td>\n",
       "      <td>2068.247780</td>\n",
       "      <td>2.939556</td>\n",
       "      <td>1903.263180</td>\n",
       "      <td>2001.648650</td>\n",
       "      <td>['No remarks' 'channel cieaning' 'intake clean...</td>\n",
       "      <td>325344.0</td>\n",
       "      <td>2265936.14</td>\n",
       "      <td>312488.0</td>\n",
       "      <td>2023</td>\n",
       "      <td>7</td>\n",
       "      <td>07-2023</td>\n",
       "      <td>2042.0</td>\n",
       "      <td>7.251274</td>\n",
       "      <td>156.12</td>\n",
       "      <td>1132.03</td>\n",
       "    </tr>\n",
       "    <tr>\n",
       "      <th>20</th>\n",
       "      <td>2023-08-31</td>\n",
       "      <td>2349.926378</td>\n",
       "      <td>3.101962</td>\n",
       "      <td>2168.182010</td>\n",
       "      <td>2274.258400</td>\n",
       "      <td>['No remarks' 'maintanance' 'Power Failure at ...</td>\n",
       "      <td>339313.0</td>\n",
       "      <td>2634793.46</td>\n",
       "      <td>367832.0</td>\n",
       "      <td>2023</td>\n",
       "      <td>8</td>\n",
       "      <td>08-2023</td>\n",
       "      <td>2326.0</td>\n",
       "      <td>7.163035</td>\n",
       "      <td>161.74</td>\n",
       "      <td>1158.53</td>\n",
       "    </tr>\n",
       "    <tr>\n",
       "      <th>21</th>\n",
       "      <td>2023-09-30</td>\n",
       "      <td>2262.665739</td>\n",
       "      <td>3.010500</td>\n",
       "      <td>2077.529360</td>\n",
       "      <td>2189.758220</td>\n",
       "      <td>['No remarks' 'distribution line maintanance']</td>\n",
       "      <td>321847.0</td>\n",
       "      <td>2409426.40</td>\n",
       "      <td>339606.0</td>\n",
       "      <td>2023</td>\n",
       "      <td>9</td>\n",
       "      <td>09-2023</td>\n",
       "      <td>2229.0</td>\n",
       "      <td>7.094770</td>\n",
       "      <td>155.09</td>\n",
       "      <td>1100.32</td>\n",
       "    </tr>\n",
       "    <tr>\n",
       "      <th>22</th>\n",
       "      <td>2023-10-31</td>\n",
       "      <td>2130.573364</td>\n",
       "      <td>3.045363</td>\n",
       "      <td>1973.342580</td>\n",
       "      <td>2061.997730</td>\n",
       "      <td>['No remarks' 'distribution line maintanance']</td>\n",
       "      <td>333697.0</td>\n",
       "      <td>2172027.52</td>\n",
       "      <td>297184.0</td>\n",
       "      <td>2023</td>\n",
       "      <td>10</td>\n",
       "      <td>10-2023</td>\n",
       "      <td>2117.0</td>\n",
       "      <td>7.308696</td>\n",
       "      <td>144.12</td>\n",
       "      <td>1053.36</td>\n",
       "    </tr>\n",
       "    <tr>\n",
       "      <th>23</th>\n",
       "      <td>2023-11-30</td>\n",
       "      <td>2230.987850</td>\n",
       "      <td>3.063097</td>\n",
       "      <td>2042.058860</td>\n",
       "      <td>2159.140988</td>\n",
       "      <td>['No remarks']</td>\n",
       "      <td>334636.0</td>\n",
       "      <td>2495518.55</td>\n",
       "      <td>342376.0</td>\n",
       "      <td>2023</td>\n",
       "      <td>11</td>\n",
       "      <td>11-2023</td>\n",
       "      <td>2191.0</td>\n",
       "      <td>7.288824</td>\n",
       "      <td>158.57</td>\n",
       "      <td>1155.79</td>\n",
       "    </tr>\n",
       "    <tr>\n",
       "      <th>24</th>\n",
       "      <td>2023-12-31</td>\n",
       "      <td>2395.032980</td>\n",
       "      <td>3.003414</td>\n",
       "      <td>2296.823382</td>\n",
       "      <td>2317.889960</td>\n",
       "      <td>['No remarks' 'complaint at WTP']</td>\n",
       "      <td>341571.0</td>\n",
       "      <td>2724182.90</td>\n",
       "      <td>378448.0</td>\n",
       "      <td>2023</td>\n",
       "      <td>12</td>\n",
       "      <td>12-2023</td>\n",
       "      <td>2464.0</td>\n",
       "      <td>7.198302</td>\n",
       "      <td>163.27</td>\n",
       "      <td>1175.29</td>\n",
       "    </tr>\n",
       "    <tr>\n",
       "      <th>25</th>\n",
       "      <td>2024-01-31</td>\n",
       "      <td>2254.915570</td>\n",
       "      <td>2.731317</td>\n",
       "      <td>2036.180180</td>\n",
       "      <td>2182.307180</td>\n",
       "      <td>['No remarks' 'maintanance' 'intake pumping st...</td>\n",
       "      <td>345661.0</td>\n",
       "      <td>2506021.02</td>\n",
       "      <td>337032.0</td>\n",
       "      <td>2024</td>\n",
       "      <td>1</td>\n",
       "      <td>01-2024</td>\n",
       "      <td>2185.0</td>\n",
       "      <td>7.435558</td>\n",
       "      <td>154.44</td>\n",
       "      <td>1148.34</td>\n",
       "    </tr>\n",
       "    <tr>\n",
       "      <th>26</th>\n",
       "      <td>2024-02-29</td>\n",
       "      <td>2404.158071</td>\n",
       "      <td>2.930388</td>\n",
       "      <td>2167.673658</td>\n",
       "      <td>2326.741380</td>\n",
       "      <td>['No remarks' 'maintanance at intake']</td>\n",
       "      <td>344175.0</td>\n",
       "      <td>2652015.32</td>\n",
       "      <td>358912.0</td>\n",
       "      <td>2024</td>\n",
       "      <td>2</td>\n",
       "      <td>02-2024</td>\n",
       "      <td>2326.0</td>\n",
       "      <td>7.389041</td>\n",
       "      <td>154.26</td>\n",
       "      <td>1139.80</td>\n",
       "    </tr>\n",
       "    <tr>\n",
       "      <th>27</th>\n",
       "      <td>2024-03-31</td>\n",
       "      <td>2586.259865</td>\n",
       "      <td>3.011788</td>\n",
       "      <td>2299.189980</td>\n",
       "      <td>2502.979580</td>\n",
       "      <td>['No remarks']</td>\n",
       "      <td>348948.0</td>\n",
       "      <td>2735819.05</td>\n",
       "      <td>379736.0</td>\n",
       "      <td>2024</td>\n",
       "      <td>3</td>\n",
       "      <td>03-2024</td>\n",
       "      <td>2467.0</td>\n",
       "      <td>7.204529</td>\n",
       "      <td>151.71</td>\n",
       "      <td>1093.02</td>\n",
       "    </tr>\n",
       "    <tr>\n",
       "      <th>28</th>\n",
       "      <td>2024-04-30</td>\n",
       "      <td>2362.253483</td>\n",
       "      <td>2.956014</td>\n",
       "      <td>2136.454676</td>\n",
       "      <td>2286.180445</td>\n",
       "      <td>['No remarks' 'Power Failure at Intake']</td>\n",
       "      <td>359273.0</td>\n",
       "      <td>2614601.23</td>\n",
       "      <td>359136.0</td>\n",
       "      <td>2024</td>\n",
       "      <td>4</td>\n",
       "      <td>04-2024</td>\n",
       "      <td>2292.0</td>\n",
       "      <td>7.280254</td>\n",
       "      <td>157.09</td>\n",
       "      <td>1143.65</td>\n",
       "    </tr>\n",
       "    <tr>\n",
       "      <th>29</th>\n",
       "      <td>2024-05-31</td>\n",
       "      <td>2486.204442</td>\n",
       "      <td>3.082903</td>\n",
       "      <td>2283.027300</td>\n",
       "      <td>2406.145940</td>\n",
       "      <td>['No remarks' 'Power Failure at Intake' 'Power...</td>\n",
       "      <td>357902.0</td>\n",
       "      <td>2586331.45</td>\n",
       "      <td>354696.0</td>\n",
       "      <td>2024</td>\n",
       "      <td>5</td>\n",
       "      <td>05-2024</td>\n",
       "      <td>2450.0</td>\n",
       "      <td>7.291685</td>\n",
       "      <td>147.41</td>\n",
       "      <td>1074.89</td>\n",
       "    </tr>\n",
       "  </tbody>\n",
       "</table>\n",
       "</div>"
      ],
      "text/plain": [
       "   Standardized_Date  RAW WATER FLOW IN ML  CLEAR WATER SUMP LEVEL IN Meter  \\\n",
       "0         2021-12-31           1998.059680                         2.900954   \n",
       "1         2022-01-31           1928.276850                         2.713804   \n",
       "2         2022-02-28           1832.749031                         2.800164   \n",
       "3         2022-03-31           2169.405400                         2.831720   \n",
       "4         2022-04-30           1943.862463                         2.769444   \n",
       "5         2022-05-31           2016.614410                         2.857272   \n",
       "6         2022-06-30           1814.876370                         2.691806   \n",
       "7         2022-07-31           1599.658680                         2.793535   \n",
       "8         2022-08-31           1752.933070                         2.840269   \n",
       "9         2022-09-30           1910.059020                         2.836417   \n",
       "10        2022-10-31           2202.323760                         2.947755   \n",
       "11        2022-11-30           2121.876660                         2.924958   \n",
       "12        2022-12-31           2271.739730                         2.981196   \n",
       "13        2023-01-31           2237.711297                         3.052191   \n",
       "14        2023-02-28           2057.460310                         2.966711   \n",
       "15        2023-03-31           2310.713690                         3.034368   \n",
       "16        2023-04-30           2392.954534                         2.909681   \n",
       "17        2023-05-31           2451.286890                         3.073938   \n",
       "18        2023-06-30           2406.076600                         3.149028   \n",
       "19        2023-07-31           2068.247780                         2.939556   \n",
       "20        2023-08-31           2349.926378                         3.101962   \n",
       "21        2023-09-30           2262.665739                         3.010500   \n",
       "22        2023-10-31           2130.573364                         3.045363   \n",
       "23        2023-11-30           2230.987850                         3.063097   \n",
       "24        2023-12-31           2395.032980                         3.003414   \n",
       "25        2024-01-31           2254.915570                         2.731317   \n",
       "26        2024-02-29           2404.158071                         2.930388   \n",
       "27        2024-03-31           2586.259865                         3.011788   \n",
       "28        2024-04-30           2362.253483                         2.956014   \n",
       "29        2024-05-31           2486.204442                         3.082903   \n",
       "\n",
       "    CLEAR WATER PUMPING FLOW ML  TREATED WATER PRODUCTION IN ML  \\\n",
       "0                   1738.985111                     1933.722260   \n",
       "1                   1669.968356                     1866.186420   \n",
       "2                   1577.522110                     1773.731660   \n",
       "3                   1860.290835                     2099.551520   \n",
       "4                   1699.233060                     1881.272590   \n",
       "5                   1757.840880                     1951.698500   \n",
       "6                   1606.903240                     1756.432580   \n",
       "7                   1404.362230                     1548.147830   \n",
       "8                   1520.865680                     1696.487150   \n",
       "9                   1669.906550                     1848.543760   \n",
       "10                  1906.800580                     2131.406310   \n",
       "11                  1841.023200                     2053.546760   \n",
       "12                  1967.663750                     2198.589820   \n",
       "13                  1924.172400                     2165.670850   \n",
       "14                  1765.574653                     1991.195210   \n",
       "15                  1990.518290                     2236.309280   \n",
       "16                  2058.044720                     2315.873960   \n",
       "17                  2119.028724                     2372.367790   \n",
       "18                  2121.064530                     2328.600030   \n",
       "19                  1903.263180                     2001.648650   \n",
       "20                  2168.182010                     2274.258400   \n",
       "21                  2077.529360                     2189.758220   \n",
       "22                  1973.342580                     2061.997730   \n",
       "23                  2042.058860                     2159.140988   \n",
       "24                  2296.823382                     2317.889960   \n",
       "25                  2036.180180                     2182.307180   \n",
       "26                  2167.673658                     2326.741380   \n",
       "27                  2299.189980                     2502.979580   \n",
       "28                  2136.454676                     2286.180445   \n",
       "29                  2283.027300                     2406.145940   \n",
       "\n",
       "                                     remarks category  Avg_Consumption (kWh)  \\\n",
       "0                                      ['No remarks']               264227.0   \n",
       "1   ['No remarks' 'WTP cleaning' 'energy auditing'...               270707.0   \n",
       "2   ['No remarks' 'maintanance at intake' 'Power F...               272721.0   \n",
       "3            ['No remarks' 'Power Failure at Intake']               277393.0   \n",
       "4   ['No remarks' 'Power Failure at Intake' 'Power...               281749.0   \n",
       "5   ['No remarks' 'Power Failure at WTP' 'Power Fa...               282532.0   \n",
       "6   ['No remarks' 'Power Failure at intake and WTP...               242923.0   \n",
       "7   ['No remarks' 'intake sump level low' 'Power F...               234395.0   \n",
       "8   ['No remarks' 'Power Failure at intake and WTP...               230045.0   \n",
       "9                    ['No remarks' 'intake cleaning']               225967.0   \n",
       "10                   ['No remarks' 'intake cleaning']               226848.0   \n",
       "11                                     ['No remarks']               233447.0   \n",
       "12      ['No remarks' 'voltage fluctation at intake']               279913.0   \n",
       "13           ['No remarks' 'Power Failure at Intake']               291908.0   \n",
       "14  ['No remarks' 'Power Failure at intake and WTP...               298419.0   \n",
       "15                                     ['No remarks']               307143.0   \n",
       "16                       ['No remarks' 'maintanance']               315603.0   \n",
       "17  ['No remarks' 'maintanance at Thaliparamba'\\n ...               321336.0   \n",
       "18   ['No remarks' 'Power Failure at intake and WTP']               328432.0   \n",
       "19  ['No remarks' 'channel cieaning' 'intake clean...               325344.0   \n",
       "20  ['No remarks' 'maintanance' 'Power Failure at ...               339313.0   \n",
       "21     ['No remarks' 'distribution line maintanance']               321847.0   \n",
       "22     ['No remarks' 'distribution line maintanance']               333697.0   \n",
       "23                                     ['No remarks']               334636.0   \n",
       "24                  ['No remarks' 'complaint at WTP']               341571.0   \n",
       "25  ['No remarks' 'maintanance' 'intake pumping st...               345661.0   \n",
       "26             ['No remarks' 'maintanance at intake']               344175.0   \n",
       "27                                     ['No remarks']               348948.0   \n",
       "28           ['No remarks' 'Power Failure at Intake']               359273.0   \n",
       "29  ['No remarks' 'Power Failure at Intake' 'Power...               357902.0   \n",
       "\n",
       "    Energy Charge  Units_kWh  Year  Month Month-Year  No:of_pumps  \\\n",
       "0      1802752.40   284352.0  2021     12    12-2021       1866.0   \n",
       "1      1814811.00   278984.0  2022      1    01-2022       1792.0   \n",
       "2      1729563.80   271048.0  2022      2    02-2022       1693.0   \n",
       "3      1888178.05   298664.0  2022      3    03-2022       1996.0   \n",
       "4      1890310.40   299392.0  2022      4    04-2022       1823.0   \n",
       "5      1681677.40   262752.0  2022      5    05-2022       1886.0   \n",
       "6      1670442.48   256808.0  2022      6    06-2022       1724.0   \n",
       "7      1586531.05   227816.0  2022      7    07-2022       1507.0   \n",
       "8      1683641.02   244952.0  2022      8    08-2022       1632.0   \n",
       "9      1865490.92   274192.0  2022      9    09-2022       1792.0   \n",
       "10     2046339.30   304680.0  2022     10    10-2022       2046.0   \n",
       "11     2034493.94   302344.0  2022     11    11-2022       1975.0   \n",
       "12     2178204.46   325496.0  2022     12    12-2022       2111.0   \n",
       "13     2016608.34   299784.0  2023      1    01-2023       2065.0   \n",
       "14     1989731.04   284016.0  2023      2    02-2023       1894.0   \n",
       "15     2276167.98   326536.0  2023      3    03-2023       2136.0   \n",
       "16     2505844.20   355440.0  2023      4    04-2023       2208.0   \n",
       "17     2431001.82   336744.0  2023      5    05-2023       2274.0   \n",
       "18     2472964.61   346766.0  2023      6    06-2023       2276.0   \n",
       "19     2265936.14   312488.0  2023      7    07-2023       2042.0   \n",
       "20     2634793.46   367832.0  2023      8    08-2023       2326.0   \n",
       "21     2409426.40   339606.0  2023      9    09-2023       2229.0   \n",
       "22     2172027.52   297184.0  2023     10    10-2023       2117.0   \n",
       "23     2495518.55   342376.0  2023     11    11-2023       2191.0   \n",
       "24     2724182.90   378448.0  2023     12    12-2023       2464.0   \n",
       "25     2506021.02   337032.0  2024      1    01-2024       2185.0   \n",
       "26     2652015.32   358912.0  2024      2    02-2024       2326.0   \n",
       "27     2735819.05   379736.0  2024      3    03-2024       2467.0   \n",
       "28     2614601.23   359136.0  2024      4    04-2024       2292.0   \n",
       "29     2586331.45   354696.0  2024      5    05-2024       2450.0   \n",
       "\n",
       "    charge_per_unit  specific_energy_consumption  unit_cost  \n",
       "0          6.339862                       147.05     932.27  \n",
       "1          6.505072                       149.49     972.47  \n",
       "2          6.381024                       152.81     975.10  \n",
       "3          6.322081                       142.25     899.32  \n",
       "4          6.313831                       159.14    1004.80  \n",
       "5          6.400246                       134.63     861.65  \n",
       "6          6.504636                       146.21     951.04  \n",
       "7          6.964090                       147.15    1024.79  \n",
       "8          6.873351                       144.39     992.43  \n",
       "9          6.803594                       148.33    1009.17  \n",
       "10         6.716356                       142.95     960.09  \n",
       "11         6.729070                       147.23     990.72  \n",
       "12         6.691955                       148.05     990.73  \n",
       "13         6.726871                       138.43     931.17  \n",
       "14         7.005701                       142.64     999.26  \n",
       "15         6.970649                       146.02    1017.82  \n",
       "16         7.049978                       153.48    1082.03  \n",
       "17         7.219139                       141.94    1024.72  \n",
       "18         7.131508                       148.92    1062.00  \n",
       "19         7.251274                       156.12    1132.03  \n",
       "20         7.163035                       161.74    1158.53  \n",
       "21         7.094770                       155.09    1100.32  \n",
       "22         7.308696                       144.12    1053.36  \n",
       "23         7.288824                       158.57    1155.79  \n",
       "24         7.198302                       163.27    1175.29  \n",
       "25         7.435558                       154.44    1148.34  \n",
       "26         7.389041                       154.26    1139.80  \n",
       "27         7.204529                       151.71    1093.02  \n",
       "28         7.280254                       157.09    1143.65  \n",
       "29         7.291685                       147.41    1074.89  "
      ]
     },
     "execution_count": 57,
     "metadata": {},
     "output_type": "execute_result"
    }
   ],
   "source": [
    "df['charge_per_unit'] = df['Energy Charge']/ df['Units_kWh']\n",
    "## Specific energy consumption: amount of units taken to produce 1ML of treated water\n",
    "df['specific_energy_consumption'] = (df['Units_kWh']/df['TREATED WATER PRODUCTION IN ML']).round(2)\n",
    "## unit_cost: the cost for producing 1ML of treated water\n",
    "df['unit_cost'] = (df['Energy Charge']/df['TREATED WATER PRODUCTION IN ML']).round(2)\n",
    "df"
   ]
  },
  {
   "cell_type": "code",
   "execution_count": 58,
   "id": "c551c6f1",
   "metadata": {},
   "outputs": [],
   "source": [
    "from sklearn import preprocessing\n",
    "scaler = preprocessing.MinMaxScaler()"
   ]
  },
  {
   "cell_type": "code",
   "execution_count": 59,
   "id": "e926d73b",
   "metadata": {},
   "outputs": [],
   "source": [
    "df[['Clear Water Pumping scale', 'Consumption scale']] = scaler.fit_transform(df[['CLEAR WATER PUMPING FLOW ML', 'Units_kWh']])"
   ]
  },
  {
   "cell_type": "code",
   "execution_count": 62,
   "id": "0fbf7ecf",
   "metadata": {},
   "outputs": [
    {
     "data": {
      "application/vnd.plotly.v1+json": {
       "config": {
        "plotlyServerURL": "https://plot.ly"
       },
       "data": [
        {
         "alignmentgroup": "True",
         "hovertemplate": "variable=Consumption scale<br>Month-Year=%{x}<br>value=%{y}<extra></extra>",
         "legendgroup": "Consumption scale",
         "marker": {
          "color": "#636efa",
          "pattern": {
           "shape": ""
          }
         },
         "name": "Consumption scale",
         "offsetgroup": "Consumption scale",
         "orientation": "v",
         "showlegend": true,
         "textposition": "auto",
         "type": "bar",
         "x": [
          "01-2022",
          "02-2022",
          "03-2022",
          "04-2022",
          "05-2022",
          "06-2022",
          "07-2022",
          "08-2022",
          "09-2022",
          "10-2022",
          "11-2022",
          "12-2022",
          "01-2023",
          "02-2023",
          "03-2023",
          "04-2023",
          "05-2023",
          "06-2023",
          "07-2023",
          "08-2023",
          "09-2023",
          "10-2023",
          "11-2023",
          "12-2023",
          "01-2024",
          "02-2024",
          "03-2024",
          "04-2024",
          "05-2024"
         ],
         "xaxis": "x",
         "y": [
          0.3368088467614536,
          0.2845708267509217,
          0.4663507109004741,
          0.4711427066877305,
          0.22996313849394423,
          0.1908372827804108,
          0,
          0.11279620853080585,
          0.3052659294365456,
          0.5059505002632967,
          0.4905739863085836,
          0.6429699842022119,
          0.4737230121116378,
          0.3699315429173251,
          0.6498156924697212,
          0.8400737230121116,
          0.7170089520800424,
          0.7829778830963667,
          0.5573459715639812,
          0.9216429699842024,
          0.735847814639284,
          0.4566087414428648,
          0.754081095313323,
          0.9915218536071617,
          0.7189046866771986,
          0.8629278567667196,
          1.0000000000000002,
          0.8644023170089523,
          0.8351764086361244
         ],
         "yaxis": "y"
        },
        {
         "alignmentgroup": "True",
         "hovertemplate": "variable=Clear Water Pumping scale<br>Month-Year=%{x}<br>value=%{y}<extra></extra>",
         "legendgroup": "Clear Water Pumping scale",
         "marker": {
          "color": "#EF553B",
          "pattern": {
           "shape": ""
          }
         },
         "name": "Clear Water Pumping scale",
         "offsetgroup": "Clear Water Pumping scale",
         "orientation": "v",
         "showlegend": true,
         "textposition": "auto",
         "type": "bar",
         "x": [
          "01-2022",
          "02-2022",
          "03-2022",
          "04-2022",
          "05-2022",
          "06-2022",
          "07-2022",
          "08-2022",
          "09-2022",
          "10-2022",
          "11-2022",
          "12-2022",
          "01-2023",
          "02-2023",
          "03-2023",
          "04-2023",
          "05-2023",
          "06-2023",
          "07-2023",
          "08-2023",
          "09-2023",
          "10-2023",
          "11-2023",
          "12-2023",
          "01-2024",
          "02-2024",
          "03-2024",
          "04-2024",
          "05-2024"
         ],
         "xaxis": "x",
         "y": [
          0.2968237473636688,
          0.1935119692030116,
          0.5095154961387822,
          0.32952803486481064,
          0.3950242379050046,
          0.2263463666610699,
          0,
          0.13019650988695886,
          0.2967546770872942,
          0.561491694909998,
          0.48798326828822636,
          0.6295083271612889,
          0.5809052859614601,
          0.40366698842319093,
          0.6550490415613506,
          0.730512090176014,
          0.7986637584719516,
          0.800938839905222,
          0.5575385318571089,
          0.8535942029066488,
          0.752286828386804,
          0.635854610007345,
          0.7126473558737982,
          0.9973552474205232,
          0.7060777339549429,
          0.8530261025096733,
          1.0000000000000002,
          0.8181378438476006,
          0.9819376634218153
         ],
         "yaxis": "y"
        }
       ],
       "layout": {
        "barmode": "group",
        "legend": {
         "title": {
          "text": "variable"
         },
         "tracegroupgap": 0
        },
        "margin": {
         "t": 60
        },
        "template": {
         "data": {
          "bar": [
           {
            "error_x": {
             "color": "#2a3f5f"
            },
            "error_y": {
             "color": "#2a3f5f"
            },
            "marker": {
             "line": {
              "color": "#E5ECF6",
              "width": 0.5
             },
             "pattern": {
              "fillmode": "overlay",
              "size": 10,
              "solidity": 0.2
             }
            },
            "type": "bar"
           }
          ],
          "barpolar": [
           {
            "marker": {
             "line": {
              "color": "#E5ECF6",
              "width": 0.5
             },
             "pattern": {
              "fillmode": "overlay",
              "size": 10,
              "solidity": 0.2
             }
            },
            "type": "barpolar"
           }
          ],
          "carpet": [
           {
            "aaxis": {
             "endlinecolor": "#2a3f5f",
             "gridcolor": "white",
             "linecolor": "white",
             "minorgridcolor": "white",
             "startlinecolor": "#2a3f5f"
            },
            "baxis": {
             "endlinecolor": "#2a3f5f",
             "gridcolor": "white",
             "linecolor": "white",
             "minorgridcolor": "white",
             "startlinecolor": "#2a3f5f"
            },
            "type": "carpet"
           }
          ],
          "choropleth": [
           {
            "colorbar": {
             "outlinewidth": 0,
             "ticks": ""
            },
            "type": "choropleth"
           }
          ],
          "contour": [
           {
            "colorbar": {
             "outlinewidth": 0,
             "ticks": ""
            },
            "colorscale": [
             [
              0,
              "#0d0887"
             ],
             [
              0.1111111111111111,
              "#46039f"
             ],
             [
              0.2222222222222222,
              "#7201a8"
             ],
             [
              0.3333333333333333,
              "#9c179e"
             ],
             [
              0.4444444444444444,
              "#bd3786"
             ],
             [
              0.5555555555555556,
              "#d8576b"
             ],
             [
              0.6666666666666666,
              "#ed7953"
             ],
             [
              0.7777777777777778,
              "#fb9f3a"
             ],
             [
              0.8888888888888888,
              "#fdca26"
             ],
             [
              1,
              "#f0f921"
             ]
            ],
            "type": "contour"
           }
          ],
          "contourcarpet": [
           {
            "colorbar": {
             "outlinewidth": 0,
             "ticks": ""
            },
            "type": "contourcarpet"
           }
          ],
          "heatmap": [
           {
            "colorbar": {
             "outlinewidth": 0,
             "ticks": ""
            },
            "colorscale": [
             [
              0,
              "#0d0887"
             ],
             [
              0.1111111111111111,
              "#46039f"
             ],
             [
              0.2222222222222222,
              "#7201a8"
             ],
             [
              0.3333333333333333,
              "#9c179e"
             ],
             [
              0.4444444444444444,
              "#bd3786"
             ],
             [
              0.5555555555555556,
              "#d8576b"
             ],
             [
              0.6666666666666666,
              "#ed7953"
             ],
             [
              0.7777777777777778,
              "#fb9f3a"
             ],
             [
              0.8888888888888888,
              "#fdca26"
             ],
             [
              1,
              "#f0f921"
             ]
            ],
            "type": "heatmap"
           }
          ],
          "heatmapgl": [
           {
            "colorbar": {
             "outlinewidth": 0,
             "ticks": ""
            },
            "colorscale": [
             [
              0,
              "#0d0887"
             ],
             [
              0.1111111111111111,
              "#46039f"
             ],
             [
              0.2222222222222222,
              "#7201a8"
             ],
             [
              0.3333333333333333,
              "#9c179e"
             ],
             [
              0.4444444444444444,
              "#bd3786"
             ],
             [
              0.5555555555555556,
              "#d8576b"
             ],
             [
              0.6666666666666666,
              "#ed7953"
             ],
             [
              0.7777777777777778,
              "#fb9f3a"
             ],
             [
              0.8888888888888888,
              "#fdca26"
             ],
             [
              1,
              "#f0f921"
             ]
            ],
            "type": "heatmapgl"
           }
          ],
          "histogram": [
           {
            "marker": {
             "pattern": {
              "fillmode": "overlay",
              "size": 10,
              "solidity": 0.2
             }
            },
            "type": "histogram"
           }
          ],
          "histogram2d": [
           {
            "colorbar": {
             "outlinewidth": 0,
             "ticks": ""
            },
            "colorscale": [
             [
              0,
              "#0d0887"
             ],
             [
              0.1111111111111111,
              "#46039f"
             ],
             [
              0.2222222222222222,
              "#7201a8"
             ],
             [
              0.3333333333333333,
              "#9c179e"
             ],
             [
              0.4444444444444444,
              "#bd3786"
             ],
             [
              0.5555555555555556,
              "#d8576b"
             ],
             [
              0.6666666666666666,
              "#ed7953"
             ],
             [
              0.7777777777777778,
              "#fb9f3a"
             ],
             [
              0.8888888888888888,
              "#fdca26"
             ],
             [
              1,
              "#f0f921"
             ]
            ],
            "type": "histogram2d"
           }
          ],
          "histogram2dcontour": [
           {
            "colorbar": {
             "outlinewidth": 0,
             "ticks": ""
            },
            "colorscale": [
             [
              0,
              "#0d0887"
             ],
             [
              0.1111111111111111,
              "#46039f"
             ],
             [
              0.2222222222222222,
              "#7201a8"
             ],
             [
              0.3333333333333333,
              "#9c179e"
             ],
             [
              0.4444444444444444,
              "#bd3786"
             ],
             [
              0.5555555555555556,
              "#d8576b"
             ],
             [
              0.6666666666666666,
              "#ed7953"
             ],
             [
              0.7777777777777778,
              "#fb9f3a"
             ],
             [
              0.8888888888888888,
              "#fdca26"
             ],
             [
              1,
              "#f0f921"
             ]
            ],
            "type": "histogram2dcontour"
           }
          ],
          "mesh3d": [
           {
            "colorbar": {
             "outlinewidth": 0,
             "ticks": ""
            },
            "type": "mesh3d"
           }
          ],
          "parcoords": [
           {
            "line": {
             "colorbar": {
              "outlinewidth": 0,
              "ticks": ""
             }
            },
            "type": "parcoords"
           }
          ],
          "pie": [
           {
            "automargin": true,
            "type": "pie"
           }
          ],
          "scatter": [
           {
            "fillpattern": {
             "fillmode": "overlay",
             "size": 10,
             "solidity": 0.2
            },
            "type": "scatter"
           }
          ],
          "scatter3d": [
           {
            "line": {
             "colorbar": {
              "outlinewidth": 0,
              "ticks": ""
             }
            },
            "marker": {
             "colorbar": {
              "outlinewidth": 0,
              "ticks": ""
             }
            },
            "type": "scatter3d"
           }
          ],
          "scattercarpet": [
           {
            "marker": {
             "colorbar": {
              "outlinewidth": 0,
              "ticks": ""
             }
            },
            "type": "scattercarpet"
           }
          ],
          "scattergeo": [
           {
            "marker": {
             "colorbar": {
              "outlinewidth": 0,
              "ticks": ""
             }
            },
            "type": "scattergeo"
           }
          ],
          "scattergl": [
           {
            "marker": {
             "colorbar": {
              "outlinewidth": 0,
              "ticks": ""
             }
            },
            "type": "scattergl"
           }
          ],
          "scattermapbox": [
           {
            "marker": {
             "colorbar": {
              "outlinewidth": 0,
              "ticks": ""
             }
            },
            "type": "scattermapbox"
           }
          ],
          "scatterpolar": [
           {
            "marker": {
             "colorbar": {
              "outlinewidth": 0,
              "ticks": ""
             }
            },
            "type": "scatterpolar"
           }
          ],
          "scatterpolargl": [
           {
            "marker": {
             "colorbar": {
              "outlinewidth": 0,
              "ticks": ""
             }
            },
            "type": "scatterpolargl"
           }
          ],
          "scatterternary": [
           {
            "marker": {
             "colorbar": {
              "outlinewidth": 0,
              "ticks": ""
             }
            },
            "type": "scatterternary"
           }
          ],
          "surface": [
           {
            "colorbar": {
             "outlinewidth": 0,
             "ticks": ""
            },
            "colorscale": [
             [
              0,
              "#0d0887"
             ],
             [
              0.1111111111111111,
              "#46039f"
             ],
             [
              0.2222222222222222,
              "#7201a8"
             ],
             [
              0.3333333333333333,
              "#9c179e"
             ],
             [
              0.4444444444444444,
              "#bd3786"
             ],
             [
              0.5555555555555556,
              "#d8576b"
             ],
             [
              0.6666666666666666,
              "#ed7953"
             ],
             [
              0.7777777777777778,
              "#fb9f3a"
             ],
             [
              0.8888888888888888,
              "#fdca26"
             ],
             [
              1,
              "#f0f921"
             ]
            ],
            "type": "surface"
           }
          ],
          "table": [
           {
            "cells": {
             "fill": {
              "color": "#EBF0F8"
             },
             "line": {
              "color": "white"
             }
            },
            "header": {
             "fill": {
              "color": "#C8D4E3"
             },
             "line": {
              "color": "white"
             }
            },
            "type": "table"
           }
          ]
         },
         "layout": {
          "annotationdefaults": {
           "arrowcolor": "#2a3f5f",
           "arrowhead": 0,
           "arrowwidth": 1
          },
          "autotypenumbers": "strict",
          "coloraxis": {
           "colorbar": {
            "outlinewidth": 0,
            "ticks": ""
           }
          },
          "colorscale": {
           "diverging": [
            [
             0,
             "#8e0152"
            ],
            [
             0.1,
             "#c51b7d"
            ],
            [
             0.2,
             "#de77ae"
            ],
            [
             0.3,
             "#f1b6da"
            ],
            [
             0.4,
             "#fde0ef"
            ],
            [
             0.5,
             "#f7f7f7"
            ],
            [
             0.6,
             "#e6f5d0"
            ],
            [
             0.7,
             "#b8e186"
            ],
            [
             0.8,
             "#7fbc41"
            ],
            [
             0.9,
             "#4d9221"
            ],
            [
             1,
             "#276419"
            ]
           ],
           "sequential": [
            [
             0,
             "#0d0887"
            ],
            [
             0.1111111111111111,
             "#46039f"
            ],
            [
             0.2222222222222222,
             "#7201a8"
            ],
            [
             0.3333333333333333,
             "#9c179e"
            ],
            [
             0.4444444444444444,
             "#bd3786"
            ],
            [
             0.5555555555555556,
             "#d8576b"
            ],
            [
             0.6666666666666666,
             "#ed7953"
            ],
            [
             0.7777777777777778,
             "#fb9f3a"
            ],
            [
             0.8888888888888888,
             "#fdca26"
            ],
            [
             1,
             "#f0f921"
            ]
           ],
           "sequentialminus": [
            [
             0,
             "#0d0887"
            ],
            [
             0.1111111111111111,
             "#46039f"
            ],
            [
             0.2222222222222222,
             "#7201a8"
            ],
            [
             0.3333333333333333,
             "#9c179e"
            ],
            [
             0.4444444444444444,
             "#bd3786"
            ],
            [
             0.5555555555555556,
             "#d8576b"
            ],
            [
             0.6666666666666666,
             "#ed7953"
            ],
            [
             0.7777777777777778,
             "#fb9f3a"
            ],
            [
             0.8888888888888888,
             "#fdca26"
            ],
            [
             1,
             "#f0f921"
            ]
           ]
          },
          "colorway": [
           "#636efa",
           "#EF553B",
           "#00cc96",
           "#ab63fa",
           "#FFA15A",
           "#19d3f3",
           "#FF6692",
           "#B6E880",
           "#FF97FF",
           "#FECB52"
          ],
          "font": {
           "color": "#2a3f5f"
          },
          "geo": {
           "bgcolor": "white",
           "lakecolor": "white",
           "landcolor": "#E5ECF6",
           "showlakes": true,
           "showland": true,
           "subunitcolor": "white"
          },
          "hoverlabel": {
           "align": "left"
          },
          "hovermode": "closest",
          "mapbox": {
           "style": "light"
          },
          "paper_bgcolor": "white",
          "plot_bgcolor": "#E5ECF6",
          "polar": {
           "angularaxis": {
            "gridcolor": "white",
            "linecolor": "white",
            "ticks": ""
           },
           "bgcolor": "#E5ECF6",
           "radialaxis": {
            "gridcolor": "white",
            "linecolor": "white",
            "ticks": ""
           }
          },
          "scene": {
           "xaxis": {
            "backgroundcolor": "#E5ECF6",
            "gridcolor": "white",
            "gridwidth": 2,
            "linecolor": "white",
            "showbackground": true,
            "ticks": "",
            "zerolinecolor": "white"
           },
           "yaxis": {
            "backgroundcolor": "#E5ECF6",
            "gridcolor": "white",
            "gridwidth": 2,
            "linecolor": "white",
            "showbackground": true,
            "ticks": "",
            "zerolinecolor": "white"
           },
           "zaxis": {
            "backgroundcolor": "#E5ECF6",
            "gridcolor": "white",
            "gridwidth": 2,
            "linecolor": "white",
            "showbackground": true,
            "ticks": "",
            "zerolinecolor": "white"
           }
          },
          "shapedefaults": {
           "line": {
            "color": "#2a3f5f"
           }
          },
          "ternary": {
           "aaxis": {
            "gridcolor": "white",
            "linecolor": "white",
            "ticks": ""
           },
           "baxis": {
            "gridcolor": "white",
            "linecolor": "white",
            "ticks": ""
           },
           "bgcolor": "#E5ECF6",
           "caxis": {
            "gridcolor": "white",
            "linecolor": "white",
            "ticks": ""
           }
          },
          "title": {
           "x": 0.05
          },
          "xaxis": {
           "automargin": true,
           "gridcolor": "white",
           "linecolor": "white",
           "ticks": "",
           "title": {
            "standoff": 15
           },
           "zerolinecolor": "white",
           "zerolinewidth": 2
          },
          "yaxis": {
           "automargin": true,
           "gridcolor": "white",
           "linecolor": "white",
           "ticks": "",
           "title": {
            "standoff": 15
           },
           "zerolinecolor": "white",
           "zerolinewidth": 2
          }
         }
        },
        "xaxis": {
         "anchor": "y",
         "domain": [
          0,
          1
         ],
         "title": {
          "text": "Month-Year"
         }
        },
        "yaxis": {
         "anchor": "x",
         "domain": [
          0,
          1
         ],
         "title": {
          "text": "value"
         }
        }
       }
      },
      "text/html": [
       "<div>                            <div id=\"8702d7bf-7739-4105-99b9-5a9b15c51b24\" class=\"plotly-graph-div\" style=\"height:525px; width:100%;\"></div>            <script type=\"text/javascript\">                require([\"plotly\"], function(Plotly) {                    window.PLOTLYENV=window.PLOTLYENV || {};                                    if (document.getElementById(\"8702d7bf-7739-4105-99b9-5a9b15c51b24\")) {                    Plotly.newPlot(                        \"8702d7bf-7739-4105-99b9-5a9b15c51b24\",                        [{\"alignmentgroup\":\"True\",\"hovertemplate\":\"variable=Consumption scale<br>Month-Year=%{x}<br>value=%{y}<extra></extra>\",\"legendgroup\":\"Consumption scale\",\"marker\":{\"color\":\"#636efa\",\"pattern\":{\"shape\":\"\"}},\"name\":\"Consumption scale\",\"offsetgroup\":\"Consumption scale\",\"orientation\":\"v\",\"showlegend\":true,\"textposition\":\"auto\",\"x\":[\"01-2022\",\"02-2022\",\"03-2022\",\"04-2022\",\"05-2022\",\"06-2022\",\"07-2022\",\"08-2022\",\"09-2022\",\"10-2022\",\"11-2022\",\"12-2022\",\"01-2023\",\"02-2023\",\"03-2023\",\"04-2023\",\"05-2023\",\"06-2023\",\"07-2023\",\"08-2023\",\"09-2023\",\"10-2023\",\"11-2023\",\"12-2023\",\"01-2024\",\"02-2024\",\"03-2024\",\"04-2024\",\"05-2024\"],\"xaxis\":\"x\",\"y\":[0.3368088467614536,0.2845708267509217,0.4663507109004741,0.4711427066877305,0.22996313849394423,0.1908372827804108,0.0,0.11279620853080585,0.3052659294365456,0.5059505002632967,0.4905739863085836,0.6429699842022119,0.4737230121116378,0.3699315429173251,0.6498156924697212,0.8400737230121116,0.7170089520800424,0.7829778830963667,0.5573459715639812,0.9216429699842024,0.735847814639284,0.4566087414428648,0.754081095313323,0.9915218536071617,0.7189046866771986,0.8629278567667196,1.0000000000000002,0.8644023170089523,0.8351764086361244],\"yaxis\":\"y\",\"type\":\"bar\"},{\"alignmentgroup\":\"True\",\"hovertemplate\":\"variable=Clear Water Pumping scale<br>Month-Year=%{x}<br>value=%{y}<extra></extra>\",\"legendgroup\":\"Clear Water Pumping scale\",\"marker\":{\"color\":\"#EF553B\",\"pattern\":{\"shape\":\"\"}},\"name\":\"Clear Water Pumping scale\",\"offsetgroup\":\"Clear Water Pumping scale\",\"orientation\":\"v\",\"showlegend\":true,\"textposition\":\"auto\",\"x\":[\"01-2022\",\"02-2022\",\"03-2022\",\"04-2022\",\"05-2022\",\"06-2022\",\"07-2022\",\"08-2022\",\"09-2022\",\"10-2022\",\"11-2022\",\"12-2022\",\"01-2023\",\"02-2023\",\"03-2023\",\"04-2023\",\"05-2023\",\"06-2023\",\"07-2023\",\"08-2023\",\"09-2023\",\"10-2023\",\"11-2023\",\"12-2023\",\"01-2024\",\"02-2024\",\"03-2024\",\"04-2024\",\"05-2024\"],\"xaxis\":\"x\",\"y\":[0.2968237473636688,0.1935119692030116,0.5095154961387822,0.32952803486481064,0.3950242379050046,0.2263463666610699,0.0,0.13019650988695886,0.2967546770872942,0.561491694909998,0.48798326828822636,0.6295083271612889,0.5809052859614601,0.40366698842319093,0.6550490415613506,0.730512090176014,0.7986637584719516,0.800938839905222,0.5575385318571089,0.8535942029066488,0.752286828386804,0.635854610007345,0.7126473558737982,0.9973552474205232,0.7060777339549429,0.8530261025096733,1.0000000000000002,0.8181378438476006,0.9819376634218153],\"yaxis\":\"y\",\"type\":\"bar\"}],                        {\"template\":{\"data\":{\"histogram2dcontour\":[{\"type\":\"histogram2dcontour\",\"colorbar\":{\"outlinewidth\":0,\"ticks\":\"\"},\"colorscale\":[[0.0,\"#0d0887\"],[0.1111111111111111,\"#46039f\"],[0.2222222222222222,\"#7201a8\"],[0.3333333333333333,\"#9c179e\"],[0.4444444444444444,\"#bd3786\"],[0.5555555555555556,\"#d8576b\"],[0.6666666666666666,\"#ed7953\"],[0.7777777777777778,\"#fb9f3a\"],[0.8888888888888888,\"#fdca26\"],[1.0,\"#f0f921\"]]}],\"choropleth\":[{\"type\":\"choropleth\",\"colorbar\":{\"outlinewidth\":0,\"ticks\":\"\"}}],\"histogram2d\":[{\"type\":\"histogram2d\",\"colorbar\":{\"outlinewidth\":0,\"ticks\":\"\"},\"colorscale\":[[0.0,\"#0d0887\"],[0.1111111111111111,\"#46039f\"],[0.2222222222222222,\"#7201a8\"],[0.3333333333333333,\"#9c179e\"],[0.4444444444444444,\"#bd3786\"],[0.5555555555555556,\"#d8576b\"],[0.6666666666666666,\"#ed7953\"],[0.7777777777777778,\"#fb9f3a\"],[0.8888888888888888,\"#fdca26\"],[1.0,\"#f0f921\"]]}],\"heatmap\":[{\"type\":\"heatmap\",\"colorbar\":{\"outlinewidth\":0,\"ticks\":\"\"},\"colorscale\":[[0.0,\"#0d0887\"],[0.1111111111111111,\"#46039f\"],[0.2222222222222222,\"#7201a8\"],[0.3333333333333333,\"#9c179e\"],[0.4444444444444444,\"#bd3786\"],[0.5555555555555556,\"#d8576b\"],[0.6666666666666666,\"#ed7953\"],[0.7777777777777778,\"#fb9f3a\"],[0.8888888888888888,\"#fdca26\"],[1.0,\"#f0f921\"]]}],\"heatmapgl\":[{\"type\":\"heatmapgl\",\"colorbar\":{\"outlinewidth\":0,\"ticks\":\"\"},\"colorscale\":[[0.0,\"#0d0887\"],[0.1111111111111111,\"#46039f\"],[0.2222222222222222,\"#7201a8\"],[0.3333333333333333,\"#9c179e\"],[0.4444444444444444,\"#bd3786\"],[0.5555555555555556,\"#d8576b\"],[0.6666666666666666,\"#ed7953\"],[0.7777777777777778,\"#fb9f3a\"],[0.8888888888888888,\"#fdca26\"],[1.0,\"#f0f921\"]]}],\"contourcarpet\":[{\"type\":\"contourcarpet\",\"colorbar\":{\"outlinewidth\":0,\"ticks\":\"\"}}],\"contour\":[{\"type\":\"contour\",\"colorbar\":{\"outlinewidth\":0,\"ticks\":\"\"},\"colorscale\":[[0.0,\"#0d0887\"],[0.1111111111111111,\"#46039f\"],[0.2222222222222222,\"#7201a8\"],[0.3333333333333333,\"#9c179e\"],[0.4444444444444444,\"#bd3786\"],[0.5555555555555556,\"#d8576b\"],[0.6666666666666666,\"#ed7953\"],[0.7777777777777778,\"#fb9f3a\"],[0.8888888888888888,\"#fdca26\"],[1.0,\"#f0f921\"]]}],\"surface\":[{\"type\":\"surface\",\"colorbar\":{\"outlinewidth\":0,\"ticks\":\"\"},\"colorscale\":[[0.0,\"#0d0887\"],[0.1111111111111111,\"#46039f\"],[0.2222222222222222,\"#7201a8\"],[0.3333333333333333,\"#9c179e\"],[0.4444444444444444,\"#bd3786\"],[0.5555555555555556,\"#d8576b\"],[0.6666666666666666,\"#ed7953\"],[0.7777777777777778,\"#fb9f3a\"],[0.8888888888888888,\"#fdca26\"],[1.0,\"#f0f921\"]]}],\"mesh3d\":[{\"type\":\"mesh3d\",\"colorbar\":{\"outlinewidth\":0,\"ticks\":\"\"}}],\"scatter\":[{\"fillpattern\":{\"fillmode\":\"overlay\",\"size\":10,\"solidity\":0.2},\"type\":\"scatter\"}],\"parcoords\":[{\"type\":\"parcoords\",\"line\":{\"colorbar\":{\"outlinewidth\":0,\"ticks\":\"\"}}}],\"scatterpolargl\":[{\"type\":\"scatterpolargl\",\"marker\":{\"colorbar\":{\"outlinewidth\":0,\"ticks\":\"\"}}}],\"bar\":[{\"error_x\":{\"color\":\"#2a3f5f\"},\"error_y\":{\"color\":\"#2a3f5f\"},\"marker\":{\"line\":{\"color\":\"#E5ECF6\",\"width\":0.5},\"pattern\":{\"fillmode\":\"overlay\",\"size\":10,\"solidity\":0.2}},\"type\":\"bar\"}],\"scattergeo\":[{\"type\":\"scattergeo\",\"marker\":{\"colorbar\":{\"outlinewidth\":0,\"ticks\":\"\"}}}],\"scatterpolar\":[{\"type\":\"scatterpolar\",\"marker\":{\"colorbar\":{\"outlinewidth\":0,\"ticks\":\"\"}}}],\"histogram\":[{\"marker\":{\"pattern\":{\"fillmode\":\"overlay\",\"size\":10,\"solidity\":0.2}},\"type\":\"histogram\"}],\"scattergl\":[{\"type\":\"scattergl\",\"marker\":{\"colorbar\":{\"outlinewidth\":0,\"ticks\":\"\"}}}],\"scatter3d\":[{\"type\":\"scatter3d\",\"line\":{\"colorbar\":{\"outlinewidth\":0,\"ticks\":\"\"}},\"marker\":{\"colorbar\":{\"outlinewidth\":0,\"ticks\":\"\"}}}],\"scattermapbox\":[{\"type\":\"scattermapbox\",\"marker\":{\"colorbar\":{\"outlinewidth\":0,\"ticks\":\"\"}}}],\"scatterternary\":[{\"type\":\"scatterternary\",\"marker\":{\"colorbar\":{\"outlinewidth\":0,\"ticks\":\"\"}}}],\"scattercarpet\":[{\"type\":\"scattercarpet\",\"marker\":{\"colorbar\":{\"outlinewidth\":0,\"ticks\":\"\"}}}],\"carpet\":[{\"aaxis\":{\"endlinecolor\":\"#2a3f5f\",\"gridcolor\":\"white\",\"linecolor\":\"white\",\"minorgridcolor\":\"white\",\"startlinecolor\":\"#2a3f5f\"},\"baxis\":{\"endlinecolor\":\"#2a3f5f\",\"gridcolor\":\"white\",\"linecolor\":\"white\",\"minorgridcolor\":\"white\",\"startlinecolor\":\"#2a3f5f\"},\"type\":\"carpet\"}],\"table\":[{\"cells\":{\"fill\":{\"color\":\"#EBF0F8\"},\"line\":{\"color\":\"white\"}},\"header\":{\"fill\":{\"color\":\"#C8D4E3\"},\"line\":{\"color\":\"white\"}},\"type\":\"table\"}],\"barpolar\":[{\"marker\":{\"line\":{\"color\":\"#E5ECF6\",\"width\":0.5},\"pattern\":{\"fillmode\":\"overlay\",\"size\":10,\"solidity\":0.2}},\"type\":\"barpolar\"}],\"pie\":[{\"automargin\":true,\"type\":\"pie\"}]},\"layout\":{\"autotypenumbers\":\"strict\",\"colorway\":[\"#636efa\",\"#EF553B\",\"#00cc96\",\"#ab63fa\",\"#FFA15A\",\"#19d3f3\",\"#FF6692\",\"#B6E880\",\"#FF97FF\",\"#FECB52\"],\"font\":{\"color\":\"#2a3f5f\"},\"hovermode\":\"closest\",\"hoverlabel\":{\"align\":\"left\"},\"paper_bgcolor\":\"white\",\"plot_bgcolor\":\"#E5ECF6\",\"polar\":{\"bgcolor\":\"#E5ECF6\",\"angularaxis\":{\"gridcolor\":\"white\",\"linecolor\":\"white\",\"ticks\":\"\"},\"radialaxis\":{\"gridcolor\":\"white\",\"linecolor\":\"white\",\"ticks\":\"\"}},\"ternary\":{\"bgcolor\":\"#E5ECF6\",\"aaxis\":{\"gridcolor\":\"white\",\"linecolor\":\"white\",\"ticks\":\"\"},\"baxis\":{\"gridcolor\":\"white\",\"linecolor\":\"white\",\"ticks\":\"\"},\"caxis\":{\"gridcolor\":\"white\",\"linecolor\":\"white\",\"ticks\":\"\"}},\"coloraxis\":{\"colorbar\":{\"outlinewidth\":0,\"ticks\":\"\"}},\"colorscale\":{\"sequential\":[[0.0,\"#0d0887\"],[0.1111111111111111,\"#46039f\"],[0.2222222222222222,\"#7201a8\"],[0.3333333333333333,\"#9c179e\"],[0.4444444444444444,\"#bd3786\"],[0.5555555555555556,\"#d8576b\"],[0.6666666666666666,\"#ed7953\"],[0.7777777777777778,\"#fb9f3a\"],[0.8888888888888888,\"#fdca26\"],[1.0,\"#f0f921\"]],\"sequentialminus\":[[0.0,\"#0d0887\"],[0.1111111111111111,\"#46039f\"],[0.2222222222222222,\"#7201a8\"],[0.3333333333333333,\"#9c179e\"],[0.4444444444444444,\"#bd3786\"],[0.5555555555555556,\"#d8576b\"],[0.6666666666666666,\"#ed7953\"],[0.7777777777777778,\"#fb9f3a\"],[0.8888888888888888,\"#fdca26\"],[1.0,\"#f0f921\"]],\"diverging\":[[0,\"#8e0152\"],[0.1,\"#c51b7d\"],[0.2,\"#de77ae\"],[0.3,\"#f1b6da\"],[0.4,\"#fde0ef\"],[0.5,\"#f7f7f7\"],[0.6,\"#e6f5d0\"],[0.7,\"#b8e186\"],[0.8,\"#7fbc41\"],[0.9,\"#4d9221\"],[1,\"#276419\"]]},\"xaxis\":{\"gridcolor\":\"white\",\"linecolor\":\"white\",\"ticks\":\"\",\"title\":{\"standoff\":15},\"zerolinecolor\":\"white\",\"automargin\":true,\"zerolinewidth\":2},\"yaxis\":{\"gridcolor\":\"white\",\"linecolor\":\"white\",\"ticks\":\"\",\"title\":{\"standoff\":15},\"zerolinecolor\":\"white\",\"automargin\":true,\"zerolinewidth\":2},\"scene\":{\"xaxis\":{\"backgroundcolor\":\"#E5ECF6\",\"gridcolor\":\"white\",\"linecolor\":\"white\",\"showbackground\":true,\"ticks\":\"\",\"zerolinecolor\":\"white\",\"gridwidth\":2},\"yaxis\":{\"backgroundcolor\":\"#E5ECF6\",\"gridcolor\":\"white\",\"linecolor\":\"white\",\"showbackground\":true,\"ticks\":\"\",\"zerolinecolor\":\"white\",\"gridwidth\":2},\"zaxis\":{\"backgroundcolor\":\"#E5ECF6\",\"gridcolor\":\"white\",\"linecolor\":\"white\",\"showbackground\":true,\"ticks\":\"\",\"zerolinecolor\":\"white\",\"gridwidth\":2}},\"shapedefaults\":{\"line\":{\"color\":\"#2a3f5f\"}},\"annotationdefaults\":{\"arrowcolor\":\"#2a3f5f\",\"arrowhead\":0,\"arrowwidth\":1},\"geo\":{\"bgcolor\":\"white\",\"landcolor\":\"#E5ECF6\",\"subunitcolor\":\"white\",\"showland\":true,\"showlakes\":true,\"lakecolor\":\"white\"},\"title\":{\"x\":0.05},\"mapbox\":{\"style\":\"light\"}}},\"xaxis\":{\"anchor\":\"y\",\"domain\":[0.0,1.0],\"title\":{\"text\":\"Month-Year\"}},\"yaxis\":{\"anchor\":\"x\",\"domain\":[0.0,1.0],\"title\":{\"text\":\"value\"}},\"legend\":{\"title\":{\"text\":\"variable\"},\"tracegroupgap\":0},\"margin\":{\"t\":60},\"barmode\":\"group\"},                        {\"responsive\": true}                    ).then(function(){\n",
       "                            \n",
       "var gd = document.getElementById('8702d7bf-7739-4105-99b9-5a9b15c51b24');\n",
       "var x = new MutationObserver(function (mutations, observer) {{\n",
       "        var display = window.getComputedStyle(gd).display;\n",
       "        if (!display || display === 'none') {{\n",
       "            console.log([gd, 'removed!']);\n",
       "            Plotly.purge(gd);\n",
       "            observer.disconnect();\n",
       "        }}\n",
       "}});\n",
       "\n",
       "// Listen for the removal of the full notebook cells\n",
       "var notebookContainer = gd.closest('#notebook-container');\n",
       "if (notebookContainer) {{\n",
       "    x.observe(notebookContainer, {childList: true});\n",
       "}}\n",
       "\n",
       "// Listen for the clearing of the current output cell\n",
       "var outputEl = gd.closest('.output');\n",
       "if (outputEl) {{\n",
       "    x.observe(outputEl, {childList: true});\n",
       "}}\n",
       "\n",
       "                        })                };                });            </script>        </div>"
      ]
     },
     "metadata": {},
     "output_type": "display_data"
    }
   ],
   "source": [
    "df_2022_2023 = df[(df['Year']==2022)|(df['Year']==2023)|(df['Year']==2024)]\n",
    "fig = px.bar(df_2022_2023, x='Month-Year', y=['Consumption scale', 'Clear Water Pumping scale'], barmode='group') #title='Raw Water Pumped during various zones in ML')\n",
    "\n",
    "fig.show()"
   ]
  },
  {
   "cell_type": "code",
   "execution_count": 61,
   "id": "79f186ee",
   "metadata": {},
   "outputs": [
    {
     "data": {
      "application/vnd.plotly.v1+json": {
       "config": {
        "plotlyServerURL": "https://plot.ly"
       },
       "data": [
        {
         "customdata": [
          [
           "2022-07-31",
           1599.65868
          ],
          [
           "2022-08-31",
           1752.93307
          ],
          [
           "2022-02-28",
           1832.749031
          ],
          [
           "2022-06-30",
           1814.87637
          ],
          [
           "2022-09-30",
           1910.05902
          ],
          [
           "2022-01-31",
           1928.27685
          ],
          [
           "2022-04-30",
           1943.862463
          ],
          [
           "2021-12-31",
           1998.05968
          ],
          [
           "2022-05-31",
           2016.61441
          ],
          [
           "2023-02-28",
           2057.46031
          ],
          [
           "2022-11-30",
           2121.87666
          ],
          [
           "2022-03-31",
           2169.4054
          ],
          [
           "2023-07-31",
           2068.24778
          ],
          [
           "2022-10-31",
           2202.32376
          ],
          [
           "2023-01-31",
           2237.7112970000003
          ],
          [
           "2022-12-31",
           2271.73973
          ],
          [
           "2023-10-31",
           2130.573364
          ],
          [
           "2023-03-31",
           2310.71369
          ],
          [
           "2024-01-31",
           2254.91557
          ],
          [
           "2023-11-30",
           2230.98785
          ],
          [
           "2023-04-30",
           2392.954534
          ],
          [
           "2023-09-30",
           2262.665739
          ],
          [
           "2023-05-31",
           2451.28689
          ],
          [
           "2023-06-30",
           2406.0766
          ],
          [
           "2024-04-30",
           2362.253483
          ],
          [
           "2024-02-29",
           2404.158071
          ],
          [
           "2023-08-31",
           2349.926378
          ],
          [
           "2024-05-31",
           2486.204442
          ],
          [
           "2023-12-31",
           2395.03298
          ],
          [
           "2024-03-31",
           2586.259865
          ]
         ],
         "hovertemplate": "CLEAR WATER PUMPING FLOW ML=%{x}<br>Units_kWh=%{y}<br>Standardized_Date=%{customdata[0]}<br>RAW WATER FLOW IN ML=%{customdata[1]}<extra></extra>",
         "legendgroup": "",
         "line": {
          "color": "#636efa",
          "dash": "solid"
         },
         "marker": {
          "symbol": "circle"
         },
         "mode": "lines",
         "name": "",
         "orientation": "v",
         "showlegend": false,
         "type": "scatter",
         "x": [
          1404.36223,
          1520.86568,
          1577.52211,
          1606.90324,
          1669.90655,
          1669.968356,
          1699.23306,
          1738.985111,
          1757.84088,
          1765.574653,
          1841.0232,
          1860.290835,
          1903.26318,
          1906.80058,
          1924.1724,
          1967.66375,
          1973.34258,
          1990.51829,
          2036.18018,
          2042.05886,
          2058.04472,
          2077.52936,
          2119.028724,
          2121.06453,
          2136.454676,
          2167.673658,
          2168.18201,
          2283.0273,
          2296.823382,
          2299.18998
         ],
         "xaxis": "x",
         "y": [
          227816,
          244952,
          271048,
          256808,
          274192,
          278984,
          299392,
          284352,
          262752,
          284016,
          302344,
          298664,
          312488,
          304680,
          299784,
          325496,
          297184,
          326536,
          337032,
          342376,
          355440,
          339606,
          336744,
          346766,
          359136,
          358912,
          367832,
          354696,
          378448,
          379736
         ],
         "yaxis": "y"
        }
       ],
       "layout": {
        "legend": {
         "tracegroupgap": 0
        },
        "margin": {
         "t": 60
        },
        "template": {
         "data": {
          "bar": [
           {
            "error_x": {
             "color": "#2a3f5f"
            },
            "error_y": {
             "color": "#2a3f5f"
            },
            "marker": {
             "line": {
              "color": "#E5ECF6",
              "width": 0.5
             },
             "pattern": {
              "fillmode": "overlay",
              "size": 10,
              "solidity": 0.2
             }
            },
            "type": "bar"
           }
          ],
          "barpolar": [
           {
            "marker": {
             "line": {
              "color": "#E5ECF6",
              "width": 0.5
             },
             "pattern": {
              "fillmode": "overlay",
              "size": 10,
              "solidity": 0.2
             }
            },
            "type": "barpolar"
           }
          ],
          "carpet": [
           {
            "aaxis": {
             "endlinecolor": "#2a3f5f",
             "gridcolor": "white",
             "linecolor": "white",
             "minorgridcolor": "white",
             "startlinecolor": "#2a3f5f"
            },
            "baxis": {
             "endlinecolor": "#2a3f5f",
             "gridcolor": "white",
             "linecolor": "white",
             "minorgridcolor": "white",
             "startlinecolor": "#2a3f5f"
            },
            "type": "carpet"
           }
          ],
          "choropleth": [
           {
            "colorbar": {
             "outlinewidth": 0,
             "ticks": ""
            },
            "type": "choropleth"
           }
          ],
          "contour": [
           {
            "colorbar": {
             "outlinewidth": 0,
             "ticks": ""
            },
            "colorscale": [
             [
              0,
              "#0d0887"
             ],
             [
              0.1111111111111111,
              "#46039f"
             ],
             [
              0.2222222222222222,
              "#7201a8"
             ],
             [
              0.3333333333333333,
              "#9c179e"
             ],
             [
              0.4444444444444444,
              "#bd3786"
             ],
             [
              0.5555555555555556,
              "#d8576b"
             ],
             [
              0.6666666666666666,
              "#ed7953"
             ],
             [
              0.7777777777777778,
              "#fb9f3a"
             ],
             [
              0.8888888888888888,
              "#fdca26"
             ],
             [
              1,
              "#f0f921"
             ]
            ],
            "type": "contour"
           }
          ],
          "contourcarpet": [
           {
            "colorbar": {
             "outlinewidth": 0,
             "ticks": ""
            },
            "type": "contourcarpet"
           }
          ],
          "heatmap": [
           {
            "colorbar": {
             "outlinewidth": 0,
             "ticks": ""
            },
            "colorscale": [
             [
              0,
              "#0d0887"
             ],
             [
              0.1111111111111111,
              "#46039f"
             ],
             [
              0.2222222222222222,
              "#7201a8"
             ],
             [
              0.3333333333333333,
              "#9c179e"
             ],
             [
              0.4444444444444444,
              "#bd3786"
             ],
             [
              0.5555555555555556,
              "#d8576b"
             ],
             [
              0.6666666666666666,
              "#ed7953"
             ],
             [
              0.7777777777777778,
              "#fb9f3a"
             ],
             [
              0.8888888888888888,
              "#fdca26"
             ],
             [
              1,
              "#f0f921"
             ]
            ],
            "type": "heatmap"
           }
          ],
          "heatmapgl": [
           {
            "colorbar": {
             "outlinewidth": 0,
             "ticks": ""
            },
            "colorscale": [
             [
              0,
              "#0d0887"
             ],
             [
              0.1111111111111111,
              "#46039f"
             ],
             [
              0.2222222222222222,
              "#7201a8"
             ],
             [
              0.3333333333333333,
              "#9c179e"
             ],
             [
              0.4444444444444444,
              "#bd3786"
             ],
             [
              0.5555555555555556,
              "#d8576b"
             ],
             [
              0.6666666666666666,
              "#ed7953"
             ],
             [
              0.7777777777777778,
              "#fb9f3a"
             ],
             [
              0.8888888888888888,
              "#fdca26"
             ],
             [
              1,
              "#f0f921"
             ]
            ],
            "type": "heatmapgl"
           }
          ],
          "histogram": [
           {
            "marker": {
             "pattern": {
              "fillmode": "overlay",
              "size": 10,
              "solidity": 0.2
             }
            },
            "type": "histogram"
           }
          ],
          "histogram2d": [
           {
            "colorbar": {
             "outlinewidth": 0,
             "ticks": ""
            },
            "colorscale": [
             [
              0,
              "#0d0887"
             ],
             [
              0.1111111111111111,
              "#46039f"
             ],
             [
              0.2222222222222222,
              "#7201a8"
             ],
             [
              0.3333333333333333,
              "#9c179e"
             ],
             [
              0.4444444444444444,
              "#bd3786"
             ],
             [
              0.5555555555555556,
              "#d8576b"
             ],
             [
              0.6666666666666666,
              "#ed7953"
             ],
             [
              0.7777777777777778,
              "#fb9f3a"
             ],
             [
              0.8888888888888888,
              "#fdca26"
             ],
             [
              1,
              "#f0f921"
             ]
            ],
            "type": "histogram2d"
           }
          ],
          "histogram2dcontour": [
           {
            "colorbar": {
             "outlinewidth": 0,
             "ticks": ""
            },
            "colorscale": [
             [
              0,
              "#0d0887"
             ],
             [
              0.1111111111111111,
              "#46039f"
             ],
             [
              0.2222222222222222,
              "#7201a8"
             ],
             [
              0.3333333333333333,
              "#9c179e"
             ],
             [
              0.4444444444444444,
              "#bd3786"
             ],
             [
              0.5555555555555556,
              "#d8576b"
             ],
             [
              0.6666666666666666,
              "#ed7953"
             ],
             [
              0.7777777777777778,
              "#fb9f3a"
             ],
             [
              0.8888888888888888,
              "#fdca26"
             ],
             [
              1,
              "#f0f921"
             ]
            ],
            "type": "histogram2dcontour"
           }
          ],
          "mesh3d": [
           {
            "colorbar": {
             "outlinewidth": 0,
             "ticks": ""
            },
            "type": "mesh3d"
           }
          ],
          "parcoords": [
           {
            "line": {
             "colorbar": {
              "outlinewidth": 0,
              "ticks": ""
             }
            },
            "type": "parcoords"
           }
          ],
          "pie": [
           {
            "automargin": true,
            "type": "pie"
           }
          ],
          "scatter": [
           {
            "fillpattern": {
             "fillmode": "overlay",
             "size": 10,
             "solidity": 0.2
            },
            "type": "scatter"
           }
          ],
          "scatter3d": [
           {
            "line": {
             "colorbar": {
              "outlinewidth": 0,
              "ticks": ""
             }
            },
            "marker": {
             "colorbar": {
              "outlinewidth": 0,
              "ticks": ""
             }
            },
            "type": "scatter3d"
           }
          ],
          "scattercarpet": [
           {
            "marker": {
             "colorbar": {
              "outlinewidth": 0,
              "ticks": ""
             }
            },
            "type": "scattercarpet"
           }
          ],
          "scattergeo": [
           {
            "marker": {
             "colorbar": {
              "outlinewidth": 0,
              "ticks": ""
             }
            },
            "type": "scattergeo"
           }
          ],
          "scattergl": [
           {
            "marker": {
             "colorbar": {
              "outlinewidth": 0,
              "ticks": ""
             }
            },
            "type": "scattergl"
           }
          ],
          "scattermapbox": [
           {
            "marker": {
             "colorbar": {
              "outlinewidth": 0,
              "ticks": ""
             }
            },
            "type": "scattermapbox"
           }
          ],
          "scatterpolar": [
           {
            "marker": {
             "colorbar": {
              "outlinewidth": 0,
              "ticks": ""
             }
            },
            "type": "scatterpolar"
           }
          ],
          "scatterpolargl": [
           {
            "marker": {
             "colorbar": {
              "outlinewidth": 0,
              "ticks": ""
             }
            },
            "type": "scatterpolargl"
           }
          ],
          "scatterternary": [
           {
            "marker": {
             "colorbar": {
              "outlinewidth": 0,
              "ticks": ""
             }
            },
            "type": "scatterternary"
           }
          ],
          "surface": [
           {
            "colorbar": {
             "outlinewidth": 0,
             "ticks": ""
            },
            "colorscale": [
             [
              0,
              "#0d0887"
             ],
             [
              0.1111111111111111,
              "#46039f"
             ],
             [
              0.2222222222222222,
              "#7201a8"
             ],
             [
              0.3333333333333333,
              "#9c179e"
             ],
             [
              0.4444444444444444,
              "#bd3786"
             ],
             [
              0.5555555555555556,
              "#d8576b"
             ],
             [
              0.6666666666666666,
              "#ed7953"
             ],
             [
              0.7777777777777778,
              "#fb9f3a"
             ],
             [
              0.8888888888888888,
              "#fdca26"
             ],
             [
              1,
              "#f0f921"
             ]
            ],
            "type": "surface"
           }
          ],
          "table": [
           {
            "cells": {
             "fill": {
              "color": "#EBF0F8"
             },
             "line": {
              "color": "white"
             }
            },
            "header": {
             "fill": {
              "color": "#C8D4E3"
             },
             "line": {
              "color": "white"
             }
            },
            "type": "table"
           }
          ]
         },
         "layout": {
          "annotationdefaults": {
           "arrowcolor": "#2a3f5f",
           "arrowhead": 0,
           "arrowwidth": 1
          },
          "autotypenumbers": "strict",
          "coloraxis": {
           "colorbar": {
            "outlinewidth": 0,
            "ticks": ""
           }
          },
          "colorscale": {
           "diverging": [
            [
             0,
             "#8e0152"
            ],
            [
             0.1,
             "#c51b7d"
            ],
            [
             0.2,
             "#de77ae"
            ],
            [
             0.3,
             "#f1b6da"
            ],
            [
             0.4,
             "#fde0ef"
            ],
            [
             0.5,
             "#f7f7f7"
            ],
            [
             0.6,
             "#e6f5d0"
            ],
            [
             0.7,
             "#b8e186"
            ],
            [
             0.8,
             "#7fbc41"
            ],
            [
             0.9,
             "#4d9221"
            ],
            [
             1,
             "#276419"
            ]
           ],
           "sequential": [
            [
             0,
             "#0d0887"
            ],
            [
             0.1111111111111111,
             "#46039f"
            ],
            [
             0.2222222222222222,
             "#7201a8"
            ],
            [
             0.3333333333333333,
             "#9c179e"
            ],
            [
             0.4444444444444444,
             "#bd3786"
            ],
            [
             0.5555555555555556,
             "#d8576b"
            ],
            [
             0.6666666666666666,
             "#ed7953"
            ],
            [
             0.7777777777777778,
             "#fb9f3a"
            ],
            [
             0.8888888888888888,
             "#fdca26"
            ],
            [
             1,
             "#f0f921"
            ]
           ],
           "sequentialminus": [
            [
             0,
             "#0d0887"
            ],
            [
             0.1111111111111111,
             "#46039f"
            ],
            [
             0.2222222222222222,
             "#7201a8"
            ],
            [
             0.3333333333333333,
             "#9c179e"
            ],
            [
             0.4444444444444444,
             "#bd3786"
            ],
            [
             0.5555555555555556,
             "#d8576b"
            ],
            [
             0.6666666666666666,
             "#ed7953"
            ],
            [
             0.7777777777777778,
             "#fb9f3a"
            ],
            [
             0.8888888888888888,
             "#fdca26"
            ],
            [
             1,
             "#f0f921"
            ]
           ]
          },
          "colorway": [
           "#636efa",
           "#EF553B",
           "#00cc96",
           "#ab63fa",
           "#FFA15A",
           "#19d3f3",
           "#FF6692",
           "#B6E880",
           "#FF97FF",
           "#FECB52"
          ],
          "font": {
           "color": "#2a3f5f"
          },
          "geo": {
           "bgcolor": "white",
           "lakecolor": "white",
           "landcolor": "#E5ECF6",
           "showlakes": true,
           "showland": true,
           "subunitcolor": "white"
          },
          "hoverlabel": {
           "align": "left"
          },
          "hovermode": "closest",
          "mapbox": {
           "style": "light"
          },
          "paper_bgcolor": "white",
          "plot_bgcolor": "#E5ECF6",
          "polar": {
           "angularaxis": {
            "gridcolor": "white",
            "linecolor": "white",
            "ticks": ""
           },
           "bgcolor": "#E5ECF6",
           "radialaxis": {
            "gridcolor": "white",
            "linecolor": "white",
            "ticks": ""
           }
          },
          "scene": {
           "xaxis": {
            "backgroundcolor": "#E5ECF6",
            "gridcolor": "white",
            "gridwidth": 2,
            "linecolor": "white",
            "showbackground": true,
            "ticks": "",
            "zerolinecolor": "white"
           },
           "yaxis": {
            "backgroundcolor": "#E5ECF6",
            "gridcolor": "white",
            "gridwidth": 2,
            "linecolor": "white",
            "showbackground": true,
            "ticks": "",
            "zerolinecolor": "white"
           },
           "zaxis": {
            "backgroundcolor": "#E5ECF6",
            "gridcolor": "white",
            "gridwidth": 2,
            "linecolor": "white",
            "showbackground": true,
            "ticks": "",
            "zerolinecolor": "white"
           }
          },
          "shapedefaults": {
           "line": {
            "color": "#2a3f5f"
           }
          },
          "ternary": {
           "aaxis": {
            "gridcolor": "white",
            "linecolor": "white",
            "ticks": ""
           },
           "baxis": {
            "gridcolor": "white",
            "linecolor": "white",
            "ticks": ""
           },
           "bgcolor": "#E5ECF6",
           "caxis": {
            "gridcolor": "white",
            "linecolor": "white",
            "ticks": ""
           }
          },
          "title": {
           "x": 0.05
          },
          "xaxis": {
           "automargin": true,
           "gridcolor": "white",
           "linecolor": "white",
           "ticks": "",
           "title": {
            "standoff": 15
           },
           "zerolinecolor": "white",
           "zerolinewidth": 2
          },
          "yaxis": {
           "automargin": true,
           "gridcolor": "white",
           "linecolor": "white",
           "ticks": "",
           "title": {
            "standoff": 15
           },
           "zerolinecolor": "white",
           "zerolinewidth": 2
          }
         }
        },
        "xaxis": {
         "anchor": "y",
         "domain": [
          0,
          1
         ],
         "title": {
          "text": "CLEAR WATER PUMPING FLOW ML"
         }
        },
        "yaxis": {
         "anchor": "x",
         "domain": [
          0,
          1
         ],
         "title": {
          "text": "Units_kWh"
         }
        }
       }
      },
      "text/html": [
       "<div>                            <div id=\"33dec854-4346-4c8f-b1a5-3ba06241c151\" class=\"plotly-graph-div\" style=\"height:525px; width:100%;\"></div>            <script type=\"text/javascript\">                require([\"plotly\"], function(Plotly) {                    window.PLOTLYENV=window.PLOTLYENV || {};                                    if (document.getElementById(\"33dec854-4346-4c8f-b1a5-3ba06241c151\")) {                    Plotly.newPlot(                        \"33dec854-4346-4c8f-b1a5-3ba06241c151\",                        [{\"customdata\":[[\"2022-07-31\",1599.65868],[\"2022-08-31\",1752.93307],[\"2022-02-28\",1832.749031],[\"2022-06-30\",1814.87637],[\"2022-09-30\",1910.05902],[\"2022-01-31\",1928.27685],[\"2022-04-30\",1943.862463],[\"2021-12-31\",1998.05968],[\"2022-05-31\",2016.61441],[\"2023-02-28\",2057.46031],[\"2022-11-30\",2121.87666],[\"2022-03-31\",2169.4054],[\"2023-07-31\",2068.24778],[\"2022-10-31\",2202.32376],[\"2023-01-31\",2237.7112970000003],[\"2022-12-31\",2271.73973],[\"2023-10-31\",2130.573364],[\"2023-03-31\",2310.71369],[\"2024-01-31\",2254.91557],[\"2023-11-30\",2230.98785],[\"2023-04-30\",2392.954534],[\"2023-09-30\",2262.665739],[\"2023-05-31\",2451.28689],[\"2023-06-30\",2406.0766],[\"2024-04-30\",2362.253483],[\"2024-02-29\",2404.158071],[\"2023-08-31\",2349.926378],[\"2024-05-31\",2486.204442],[\"2023-12-31\",2395.03298],[\"2024-03-31\",2586.259865]],\"hovertemplate\":\"CLEAR WATER PUMPING FLOW ML=%{x}<br>Units_kWh=%{y}<br>Standardized_Date=%{customdata[0]}<br>RAW WATER FLOW IN ML=%{customdata[1]}<extra></extra>\",\"legendgroup\":\"\",\"line\":{\"color\":\"#636efa\",\"dash\":\"solid\"},\"marker\":{\"symbol\":\"circle\"},\"mode\":\"lines\",\"name\":\"\",\"orientation\":\"v\",\"showlegend\":false,\"x\":[1404.36223,1520.86568,1577.52211,1606.90324,1669.90655,1669.968356,1699.23306,1738.985111,1757.84088,1765.574653,1841.0232,1860.290835,1903.26318,1906.80058,1924.1724,1967.66375,1973.34258,1990.51829,2036.18018,2042.05886,2058.04472,2077.52936,2119.028724,2121.06453,2136.454676,2167.673658,2168.18201,2283.0273,2296.823382,2299.18998],\"xaxis\":\"x\",\"y\":[227816.0,244952.0,271048.0,256808.0,274192.0,278984.0,299392.0,284352.0,262752.0,284016.0,302344.0,298664.0,312488.0,304680.0,299784.0,325496.0,297184.0,326536.0,337032.0,342376.0,355440.0,339606.0,336744.0,346766.0,359136.0,358912.0,367832.0,354696.0,378448.0,379736.0],\"yaxis\":\"y\",\"type\":\"scatter\"}],                        {\"template\":{\"data\":{\"histogram2dcontour\":[{\"type\":\"histogram2dcontour\",\"colorbar\":{\"outlinewidth\":0,\"ticks\":\"\"},\"colorscale\":[[0.0,\"#0d0887\"],[0.1111111111111111,\"#46039f\"],[0.2222222222222222,\"#7201a8\"],[0.3333333333333333,\"#9c179e\"],[0.4444444444444444,\"#bd3786\"],[0.5555555555555556,\"#d8576b\"],[0.6666666666666666,\"#ed7953\"],[0.7777777777777778,\"#fb9f3a\"],[0.8888888888888888,\"#fdca26\"],[1.0,\"#f0f921\"]]}],\"choropleth\":[{\"type\":\"choropleth\",\"colorbar\":{\"outlinewidth\":0,\"ticks\":\"\"}}],\"histogram2d\":[{\"type\":\"histogram2d\",\"colorbar\":{\"outlinewidth\":0,\"ticks\":\"\"},\"colorscale\":[[0.0,\"#0d0887\"],[0.1111111111111111,\"#46039f\"],[0.2222222222222222,\"#7201a8\"],[0.3333333333333333,\"#9c179e\"],[0.4444444444444444,\"#bd3786\"],[0.5555555555555556,\"#d8576b\"],[0.6666666666666666,\"#ed7953\"],[0.7777777777777778,\"#fb9f3a\"],[0.8888888888888888,\"#fdca26\"],[1.0,\"#f0f921\"]]}],\"heatmap\":[{\"type\":\"heatmap\",\"colorbar\":{\"outlinewidth\":0,\"ticks\":\"\"},\"colorscale\":[[0.0,\"#0d0887\"],[0.1111111111111111,\"#46039f\"],[0.2222222222222222,\"#7201a8\"],[0.3333333333333333,\"#9c179e\"],[0.4444444444444444,\"#bd3786\"],[0.5555555555555556,\"#d8576b\"],[0.6666666666666666,\"#ed7953\"],[0.7777777777777778,\"#fb9f3a\"],[0.8888888888888888,\"#fdca26\"],[1.0,\"#f0f921\"]]}],\"heatmapgl\":[{\"type\":\"heatmapgl\",\"colorbar\":{\"outlinewidth\":0,\"ticks\":\"\"},\"colorscale\":[[0.0,\"#0d0887\"],[0.1111111111111111,\"#46039f\"],[0.2222222222222222,\"#7201a8\"],[0.3333333333333333,\"#9c179e\"],[0.4444444444444444,\"#bd3786\"],[0.5555555555555556,\"#d8576b\"],[0.6666666666666666,\"#ed7953\"],[0.7777777777777778,\"#fb9f3a\"],[0.8888888888888888,\"#fdca26\"],[1.0,\"#f0f921\"]]}],\"contourcarpet\":[{\"type\":\"contourcarpet\",\"colorbar\":{\"outlinewidth\":0,\"ticks\":\"\"}}],\"contour\":[{\"type\":\"contour\",\"colorbar\":{\"outlinewidth\":0,\"ticks\":\"\"},\"colorscale\":[[0.0,\"#0d0887\"],[0.1111111111111111,\"#46039f\"],[0.2222222222222222,\"#7201a8\"],[0.3333333333333333,\"#9c179e\"],[0.4444444444444444,\"#bd3786\"],[0.5555555555555556,\"#d8576b\"],[0.6666666666666666,\"#ed7953\"],[0.7777777777777778,\"#fb9f3a\"],[0.8888888888888888,\"#fdca26\"],[1.0,\"#f0f921\"]]}],\"surface\":[{\"type\":\"surface\",\"colorbar\":{\"outlinewidth\":0,\"ticks\":\"\"},\"colorscale\":[[0.0,\"#0d0887\"],[0.1111111111111111,\"#46039f\"],[0.2222222222222222,\"#7201a8\"],[0.3333333333333333,\"#9c179e\"],[0.4444444444444444,\"#bd3786\"],[0.5555555555555556,\"#d8576b\"],[0.6666666666666666,\"#ed7953\"],[0.7777777777777778,\"#fb9f3a\"],[0.8888888888888888,\"#fdca26\"],[1.0,\"#f0f921\"]]}],\"mesh3d\":[{\"type\":\"mesh3d\",\"colorbar\":{\"outlinewidth\":0,\"ticks\":\"\"}}],\"scatter\":[{\"fillpattern\":{\"fillmode\":\"overlay\",\"size\":10,\"solidity\":0.2},\"type\":\"scatter\"}],\"parcoords\":[{\"type\":\"parcoords\",\"line\":{\"colorbar\":{\"outlinewidth\":0,\"ticks\":\"\"}}}],\"scatterpolargl\":[{\"type\":\"scatterpolargl\",\"marker\":{\"colorbar\":{\"outlinewidth\":0,\"ticks\":\"\"}}}],\"bar\":[{\"error_x\":{\"color\":\"#2a3f5f\"},\"error_y\":{\"color\":\"#2a3f5f\"},\"marker\":{\"line\":{\"color\":\"#E5ECF6\",\"width\":0.5},\"pattern\":{\"fillmode\":\"overlay\",\"size\":10,\"solidity\":0.2}},\"type\":\"bar\"}],\"scattergeo\":[{\"type\":\"scattergeo\",\"marker\":{\"colorbar\":{\"outlinewidth\":0,\"ticks\":\"\"}}}],\"scatterpolar\":[{\"type\":\"scatterpolar\",\"marker\":{\"colorbar\":{\"outlinewidth\":0,\"ticks\":\"\"}}}],\"histogram\":[{\"marker\":{\"pattern\":{\"fillmode\":\"overlay\",\"size\":10,\"solidity\":0.2}},\"type\":\"histogram\"}],\"scattergl\":[{\"type\":\"scattergl\",\"marker\":{\"colorbar\":{\"outlinewidth\":0,\"ticks\":\"\"}}}],\"scatter3d\":[{\"type\":\"scatter3d\",\"line\":{\"colorbar\":{\"outlinewidth\":0,\"ticks\":\"\"}},\"marker\":{\"colorbar\":{\"outlinewidth\":0,\"ticks\":\"\"}}}],\"scattermapbox\":[{\"type\":\"scattermapbox\",\"marker\":{\"colorbar\":{\"outlinewidth\":0,\"ticks\":\"\"}}}],\"scatterternary\":[{\"type\":\"scatterternary\",\"marker\":{\"colorbar\":{\"outlinewidth\":0,\"ticks\":\"\"}}}],\"scattercarpet\":[{\"type\":\"scattercarpet\",\"marker\":{\"colorbar\":{\"outlinewidth\":0,\"ticks\":\"\"}}}],\"carpet\":[{\"aaxis\":{\"endlinecolor\":\"#2a3f5f\",\"gridcolor\":\"white\",\"linecolor\":\"white\",\"minorgridcolor\":\"white\",\"startlinecolor\":\"#2a3f5f\"},\"baxis\":{\"endlinecolor\":\"#2a3f5f\",\"gridcolor\":\"white\",\"linecolor\":\"white\",\"minorgridcolor\":\"white\",\"startlinecolor\":\"#2a3f5f\"},\"type\":\"carpet\"}],\"table\":[{\"cells\":{\"fill\":{\"color\":\"#EBF0F8\"},\"line\":{\"color\":\"white\"}},\"header\":{\"fill\":{\"color\":\"#C8D4E3\"},\"line\":{\"color\":\"white\"}},\"type\":\"table\"}],\"barpolar\":[{\"marker\":{\"line\":{\"color\":\"#E5ECF6\",\"width\":0.5},\"pattern\":{\"fillmode\":\"overlay\",\"size\":10,\"solidity\":0.2}},\"type\":\"barpolar\"}],\"pie\":[{\"automargin\":true,\"type\":\"pie\"}]},\"layout\":{\"autotypenumbers\":\"strict\",\"colorway\":[\"#636efa\",\"#EF553B\",\"#00cc96\",\"#ab63fa\",\"#FFA15A\",\"#19d3f3\",\"#FF6692\",\"#B6E880\",\"#FF97FF\",\"#FECB52\"],\"font\":{\"color\":\"#2a3f5f\"},\"hovermode\":\"closest\",\"hoverlabel\":{\"align\":\"left\"},\"paper_bgcolor\":\"white\",\"plot_bgcolor\":\"#E5ECF6\",\"polar\":{\"bgcolor\":\"#E5ECF6\",\"angularaxis\":{\"gridcolor\":\"white\",\"linecolor\":\"white\",\"ticks\":\"\"},\"radialaxis\":{\"gridcolor\":\"white\",\"linecolor\":\"white\",\"ticks\":\"\"}},\"ternary\":{\"bgcolor\":\"#E5ECF6\",\"aaxis\":{\"gridcolor\":\"white\",\"linecolor\":\"white\",\"ticks\":\"\"},\"baxis\":{\"gridcolor\":\"white\",\"linecolor\":\"white\",\"ticks\":\"\"},\"caxis\":{\"gridcolor\":\"white\",\"linecolor\":\"white\",\"ticks\":\"\"}},\"coloraxis\":{\"colorbar\":{\"outlinewidth\":0,\"ticks\":\"\"}},\"colorscale\":{\"sequential\":[[0.0,\"#0d0887\"],[0.1111111111111111,\"#46039f\"],[0.2222222222222222,\"#7201a8\"],[0.3333333333333333,\"#9c179e\"],[0.4444444444444444,\"#bd3786\"],[0.5555555555555556,\"#d8576b\"],[0.6666666666666666,\"#ed7953\"],[0.7777777777777778,\"#fb9f3a\"],[0.8888888888888888,\"#fdca26\"],[1.0,\"#f0f921\"]],\"sequentialminus\":[[0.0,\"#0d0887\"],[0.1111111111111111,\"#46039f\"],[0.2222222222222222,\"#7201a8\"],[0.3333333333333333,\"#9c179e\"],[0.4444444444444444,\"#bd3786\"],[0.5555555555555556,\"#d8576b\"],[0.6666666666666666,\"#ed7953\"],[0.7777777777777778,\"#fb9f3a\"],[0.8888888888888888,\"#fdca26\"],[1.0,\"#f0f921\"]],\"diverging\":[[0,\"#8e0152\"],[0.1,\"#c51b7d\"],[0.2,\"#de77ae\"],[0.3,\"#f1b6da\"],[0.4,\"#fde0ef\"],[0.5,\"#f7f7f7\"],[0.6,\"#e6f5d0\"],[0.7,\"#b8e186\"],[0.8,\"#7fbc41\"],[0.9,\"#4d9221\"],[1,\"#276419\"]]},\"xaxis\":{\"gridcolor\":\"white\",\"linecolor\":\"white\",\"ticks\":\"\",\"title\":{\"standoff\":15},\"zerolinecolor\":\"white\",\"automargin\":true,\"zerolinewidth\":2},\"yaxis\":{\"gridcolor\":\"white\",\"linecolor\":\"white\",\"ticks\":\"\",\"title\":{\"standoff\":15},\"zerolinecolor\":\"white\",\"automargin\":true,\"zerolinewidth\":2},\"scene\":{\"xaxis\":{\"backgroundcolor\":\"#E5ECF6\",\"gridcolor\":\"white\",\"linecolor\":\"white\",\"showbackground\":true,\"ticks\":\"\",\"zerolinecolor\":\"white\",\"gridwidth\":2},\"yaxis\":{\"backgroundcolor\":\"#E5ECF6\",\"gridcolor\":\"white\",\"linecolor\":\"white\",\"showbackground\":true,\"ticks\":\"\",\"zerolinecolor\":\"white\",\"gridwidth\":2},\"zaxis\":{\"backgroundcolor\":\"#E5ECF6\",\"gridcolor\":\"white\",\"linecolor\":\"white\",\"showbackground\":true,\"ticks\":\"\",\"zerolinecolor\":\"white\",\"gridwidth\":2}},\"shapedefaults\":{\"line\":{\"color\":\"#2a3f5f\"}},\"annotationdefaults\":{\"arrowcolor\":\"#2a3f5f\",\"arrowhead\":0,\"arrowwidth\":1},\"geo\":{\"bgcolor\":\"white\",\"landcolor\":\"#E5ECF6\",\"subunitcolor\":\"white\",\"showland\":true,\"showlakes\":true,\"lakecolor\":\"white\"},\"title\":{\"x\":0.05},\"mapbox\":{\"style\":\"light\"}}},\"xaxis\":{\"anchor\":\"y\",\"domain\":[0.0,1.0],\"title\":{\"text\":\"CLEAR WATER PUMPING FLOW ML\"}},\"yaxis\":{\"anchor\":\"x\",\"domain\":[0.0,1.0],\"title\":{\"text\":\"Units_kWh\"}},\"legend\":{\"tracegroupgap\":0},\"margin\":{\"t\":60}},                        {\"responsive\": true}                    ).then(function(){\n",
       "                            \n",
       "var gd = document.getElementById('33dec854-4346-4c8f-b1a5-3ba06241c151');\n",
       "var x = new MutationObserver(function (mutations, observer) {{\n",
       "        var display = window.getComputedStyle(gd).display;\n",
       "        if (!display || display === 'none') {{\n",
       "            console.log([gd, 'removed!']);\n",
       "            Plotly.purge(gd);\n",
       "            observer.disconnect();\n",
       "        }}\n",
       "}});\n",
       "\n",
       "// Listen for the removal of the full notebook cells\n",
       "var notebookContainer = gd.closest('#notebook-container');\n",
       "if (notebookContainer) {{\n",
       "    x.observe(notebookContainer, {childList: true});\n",
       "}}\n",
       "\n",
       "// Listen for the clearing of the current output cell\n",
       "var outputEl = gd.closest('.output');\n",
       "if (outputEl) {{\n",
       "    x.observe(outputEl, {childList: true});\n",
       "}}\n",
       "\n",
       "                        })                };                });            </script>        </div>"
      ]
     },
     "metadata": {},
     "output_type": "display_data"
    }
   ],
   "source": [
    "sorted_data = df.sort_values(by='CLEAR WATER PUMPING FLOW ML')\n",
    "\n",
    "fig = px.line(sorted_data, x=\"CLEAR WATER PUMPING FLOW ML\", y=\"Units_kWh\", hover_data=['Standardized_Date','RAW WATER FLOW IN ML'])\n",
    "fig.show()"
   ]
  },
  {
   "cell_type": "code",
   "execution_count": null,
   "id": "15742a25",
   "metadata": {},
   "outputs": [],
   "source": []
  }
 ],
 "metadata": {
  "kernelspec": {
   "display_name": "Python 3 (ipykernel)",
   "language": "python",
   "name": "python3"
  },
  "language_info": {
   "codemirror_mode": {
    "name": "ipython",
    "version": 3
   },
   "file_extension": ".py",
   "mimetype": "text/x-python",
   "name": "python",
   "nbconvert_exporter": "python",
   "pygments_lexer": "ipython3",
   "version": "3.11.5"
  }
 },
 "nbformat": 4,
 "nbformat_minor": 5
}

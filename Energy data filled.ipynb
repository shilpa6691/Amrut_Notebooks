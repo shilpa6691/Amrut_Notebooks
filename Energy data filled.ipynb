{
 "cells": [
  {
   "cell_type": "code",
   "execution_count": null,
   "id": "0",
   "metadata": {},
   "outputs": [],
   "source": [
    "import pandas as pd\n",
    "import plotly.express as px\n",
    "import matplotlib.pyplot as plt\n",
    "import seaborn as sns\n",
    "import numpy as np\n",
    "import plotly.graph_objects as go\n",
    "import plotly.offline as pyo\n",
    "from plotly.subplots import make_subplots\n",
    "from sklearn.linear_model import LinearRegression\n",
    "from scipy import stats\n",
    "df = pd.read_csv('data_month_ebill_cleaned.csv')\n",
    "df.loc[26,'Units_kWh']=358912\n",
    "df.loc[24,'Units_kWh']=378448"
   ]
  },
  {
   "cell_type": "code",
   "execution_count": null,
   "id": "1",
   "metadata": {},
   "outputs": [],
   "source": [
    "#Loading dataset"
   ]
  },
  {
   "cell_type": "code",
   "execution_count": null,
   "id": "2",
   "metadata": {},
   "outputs": [],
   "source": [
    "# df.loc[26,'Units_kWh']=358912\n",
    "# df.loc[24,'Units_kWh']=378448"
   ]
  },
  {
   "cell_type": "code",
   "execution_count": null,
   "id": "3",
   "metadata": {},
   "outputs": [],
   "source": [
    "df['No:of_pumps']=(df['CLEAR WATER PUMPING FLOW ML']/0.932).round()\n",
    "df.columns"
   ]
  },
  {
   "cell_type": "code",
   "execution_count": null,
   "id": "4",
   "metadata": {},
   "outputs": [],
   "source": [
    "corr_units_pumps = df['Units_kWh'].corr(df['No:of_pumps'])\n",
    "corr_units_clear_water = df['Units_kWh'].corr(df['CLEAR WATER PUMPING FLOW ML'])\n",
    "corr_units_pumps,corr_units_clear_water"
   ]
  },
  {
   "cell_type": "code",
   "execution_count": null,
   "id": "5",
   "metadata": {},
   "outputs": [],
   "source": [
    "df[['No:of_pumps','Units_kWh']].plot(kind='line', figsize=(20, 5))\n",
    "plt.title('Units vs Pumps')\n",
    "plt.xlabel('Pumps')\n",
    "plt.ylabel('Units')\n",
    "plt.show()"
   ]
  },
  {
   "cell_type": "code",
   "execution_count": null,
   "id": "6",
   "metadata": {},
   "outputs": [],
   "source": [
    "df2 =df.dropna().reset_index(drop=True)\n",
    "df2"
   ]
  },
  {
   "cell_type": "code",
   "execution_count": null,
   "id": "7",
   "metadata": {},
   "outputs": [],
   "source": [
    "x_unit = df2['CLEAR WATER PUMPING FLOW ML']\n",
    "y_unit = df2['Units_kWh']\n",
    "slope_unit, intercept_unit, r_unit, p_unit, std_err_unit = stats.linregress(x_unit, y_unit)\n",
    "\n",
    "def myfunc_unit(x_unit):\n",
    "  return slope_unit * x_unit + intercept_unit\n",
    "\n",
    "mymodel_unit = list(map(myfunc_unit, x_unit))\n",
    "\n",
    "\n",
    "y1_unit = (slope_unit * (2121.064530) + intercept_unit).round()\n",
    "y2_unit =(slope_unit * (2077.529360) + intercept_unit).round()\n",
    "y1_unit,y2_unit\n",
    "\n",
    "x_avg = df2['CLEAR WATER PUMPING FLOW ML']\n",
    "y_avg = df2['Avg_Consumption (kWh)']\n",
    "slope_avg, intercept_avg, r_avg, p_avg, std_err_avg = stats.linregress(x_avg, y_avg)\n",
    "\n",
    "def myfunc_avg(x_avg):\n",
    "  return slope_avg * x_avg + intercept_avg\n",
    "mymodel_avg = list(map(myfunc_avg, x_avg))\n",
    "\n",
    "y1_avg = (slope_avg * (2121.064530) + intercept_avg).round()\n",
    "y2_avg =(slope_avg * (2077.529360) + intercept_avg).round()\n",
    "y1_avg,y2_avg\n",
    "\n",
    "x_charge = df2['CLEAR WATER PUMPING FLOW ML']\n",
    "y_charge = df2['Energy Charge']\n",
    "slope_charge, intercept_charge, r_charge, p_charge, std_err_charge = stats.linregress(x_charge, y_charge)\n",
    "\n",
    "def myfunc_charge(x_charge):\n",
    "  return slope_charge * x_charge + intercept_charge\n",
    "mymodel_charge = list(map(myfunc_charge, x_charge))\n",
    "\n",
    "y1_charge = (slope_charge * (2121.064530) + intercept_charge).round(2)\n",
    "y2_charge =(slope_charge * (2077.529360) + intercept_charge).round(2)\n",
    "y1_charge,y2_charge\n",
    "\n",
    "\n",
    "\n",
    "\n",
    "\n",
    "print(f'Charge_June23 :{y1_charge}\\n',\n",
    "      f'Charge_Sept23 : {y2_charge}\\n',\n",
    "      f'Avg_consumption_June23 : {y1_avg}\\n',\n",
    "      f'Avg_consumption_Sept23 : {y2_avg}\\n',\n",
    "     f'Unit_June23 : {y1_unit}\\n',\n",
    "      f'Unit_Sept23 : {y2_unit}\\n')"
   ]
  },
  {
   "cell_type": "code",
   "execution_count": null,
   "id": "8",
   "metadata": {},
   "outputs": [],
   "source": [
    "x_unit = df2['CLEAR WATER PUMPING FLOW ML']\n",
    "y_unit = df2['Units_kWh']\n",
    "slope_unit, intercept_unit, r_unit, p_unit, std_err_unit = stats.linregress(x_unit, y_unit)\n",
    "plt.scatter(x_unit, y_unit, label='Data Points')\n",
    "plt.plot(x_unit, mymodel_unit, color='red', label='Fitted Line')\n",
    "plt.title('Linear Regression Fit')\n",
    "plt.xlabel('Clear Water Pumping Flow (ML)')\n",
    "plt.ylabel('Units (kWh)')\n",
    "plt.legend()\n",
    "plt.show()"
   ]
  },
  {
   "cell_type": "code",
   "execution_count": null,
   "id": "9",
   "metadata": {},
   "outputs": [],
   "source": [
    "x_avg = df2['CLEAR WATER PUMPING FLOW ML']\n",
    "y_avg = df2['Avg_Consumption (kWh)']\n",
    "slope_avg, intercept_avg, r_avg, p_avg, std_err_avg = stats.linregress(x_avg, y_avg)\n",
    "\n",
    "plt.scatter(x_avg, y_avg, label='Data Points')\n",
    "plt.plot(x_avg, mymodel_avg, color='red', label='Fitted Line')\n",
    "plt.title('Linear Regression Fit')\n",
    "plt.xlabel('Clear Water Pumping Flow (ML)')\n",
    "plt.ylabel('Average Consumption (kWh)')\n",
    "plt.legend()\n",
    "plt.show()"
   ]
  },
  {
   "cell_type": "code",
   "execution_count": null,
   "id": "10",
   "metadata": {},
   "outputs": [],
   "source": [
    "x_charge = df2['CLEAR WATER PUMPING FLOW ML']\n",
    "y_charge = df2['Energy Charge']\n",
    "slope_charge, intercept_charge, r_charge, p_charge, std_err_charge = stats.linregress(x_charge, y_charge)\n",
    "\n",
    "plt.scatter(x_charge, y_charge, label='Data Points')\n",
    "plt.plot(x_charge, mymodel_charge, color='red', label='Fitted Line')\n",
    "plt.title('Linear Regression Fit')\n",
    "plt.xlabel('Clear Water Pumping Flow (ML)')\n",
    "plt.ylabel('Energy Charge')\n",
    "plt.legend()\n",
    "plt.show()"
   ]
  },
  {
   "cell_type": "code",
   "execution_count": null,
   "id": "11",
   "metadata": {},
   "outputs": [],
   "source": [
    "index_replace = [18,21]\n",
    "colum_replace =['Avg_Consumption (kWh)','Energy Charge','Units_kWh']\n",
    "\n",
    "df.loc[index_replace,colum_replace]= [[y1_avg, y1_charge, y1_unit], [y2_avg, y2_charge, y2_unit]]\n",
    "\n",
    "df= df[['Standardized_Date', 'RAW WATER FLOW IN ML',\n",
    "       'CLEAR WATER SUMP LEVEL IN Meter', 'CLEAR WATER PUMPING FLOW ML',\n",
    "       'TREATED WATER PRODUCTION IN ML', 'remarks category',\n",
    "       'Avg_Consumption (kWh)', 'Energy Charge', 'Units_kWh',\n",
    "       'Year', 'Month',\n",
    "       'Month-Year','No:of_pumps']]\n",
    "df"
   ]
  },
  {
   "cell_type": "code",
   "execution_count": null,
   "id": "12",
   "metadata": {},
   "outputs": [],
   "source": [
    "fig = px.line(df, y=\"CLEAR WATER PUMPING FLOW ML\", x=\"Standardized_Date\", title='Clear Water Pumping Flow Trend')\n",
    "\n",
    "fig.show()\n",
    "pyo.plot(fig, filename='Clear Water Pumping Flow Trend', auto_open=True)"
   ]
  },
  {
   "cell_type": "code",
   "execution_count": null,
   "id": "13",
   "metadata": {},
   "outputs": [],
   "source": [
    "fig = px.line(df, y=\"Units_kWh\", x=\"Standardized_Date\", title='Units Consumed Trend')\n",
    "\n",
    "fig.show()\n",
    "pyo.plot(fig, filename='Clear Water Pumping Flow Trend', auto_open=True)"
   ]
  },
  {
   "cell_type": "code",
   "execution_count": null,
   "id": "14",
   "metadata": {},
   "outputs": [],
   "source": [
    "sorted_data = df.sort_values(by='No:of_pumps')\n",
    "fig = px.line(sorted_data, x=\"No:of_pumps\", y='Units_kWh', title='Units kWh vs No:of Pumps',hover_data=['Standardized_Date','No:of_pumps'])\n",
    "\n",
    "fig.show()"
   ]
  },
  {
   "cell_type": "code",
   "execution_count": null,
   "id": "15",
   "metadata": {},
   "outputs": [],
   "source": [
    "fig = px.line(sorted_data,x=\"CLEAR WATER PUMPING FLOW ML\", y=\"Units_kWh\", title='Clear Water Pumping Flow vs Units kWh')#,hover_data='Standardized_Date')\n",
    "\n",
    "fig.show()\n",
    "pyo.plot(fig, filename='Clear Water Pumping Flow vs Units kWh.html', auto_open=True)"
   ]
  },
  {
   "cell_type": "code",
   "execution_count": null,
   "id": "16",
   "metadata": {},
   "outputs": [],
   "source": [
    "fig = px.scatter(sorted_data,x=\"CLEAR WATER PUMPING FLOW ML\", y=\"Units_kWh\", title='Clear Water Pumping Flow vs Units kWh')#,hover_data='Standardized_Date')\n",
    "\n",
    "fig.show()\n",
    "pyo.plot(fig, filename='Clear Water Pumping Flow vs Units kWh.html', auto_open=True)"
   ]
  },
  {
   "cell_type": "code",
   "execution_count": null,
   "id": "17",
   "metadata": {},
   "outputs": [],
   "source": [
    "fig = px.scatter(\n",
    "    sorted_data,\n",
    "    x=\"CLEAR WATER PUMPING FLOW ML\",\n",
    "    y=\"Units_kWh\",\n",
    "    title='Clear Water Pumping Flow vs Units kWh',\n",
    "    #hover_data='Standardized_Date',\n",
    "    trendline='ols'  #for trendline \n",
    ")\n",
    "fig.update_traces(marker=dict(size=10, color='black'),selector=dict(mode='markers'))   # size and color of the dots\n",
    " \n",
    "\n",
    "fig.update_traces(line=dict(color='red'),selector=dict(type='scatter', mode='lines'))  #trendline color to red\n",
    "                  \n",
    "\n",
    "fig.show()\n",
    "\n",
    "pyo.plot(fig, filename='Clear Water Pumping Flow vs Units kWh.html', auto_open=True)"
   ]
  },
  {
   "cell_type": "code",
   "execution_count": null,
   "id": "18",
   "metadata": {},
   "outputs": [],
   "source": [
    "df[['Month-Year','Units_kWh']]"
   ]
  },
  {
   "cell_type": "code",
   "execution_count": null,
   "id": "19",
   "metadata": {},
   "outputs": [],
   "source": [
    "df['charge_per_unit'] = df['Energy Charge']/ df['Units_kWh']\n",
    "## Specific energy consumption: amount of units taken to produce 1ML of treated water\n",
    "df['specific_energy_consumption'] = (df['Units_kWh']/df['TREATED WATER PRODUCTION IN ML']).round(2)\n",
    "## unit_cost: the cost for producing 1ML of treated water\n",
    "df['unit_cost'] = (df['Energy Charge']/df['TREATED WATER PRODUCTION IN ML']).round(2)\n",
    "df"
   ]
  },
  {
   "cell_type": "code",
   "execution_count": null,
   "id": "20",
   "metadata": {},
   "outputs": [],
   "source": [
    "from sklearn import preprocessing\n",
    "scaler = preprocessing.MinMaxScaler()"
   ]
  },
  {
   "cell_type": "code",
   "execution_count": null,
   "id": "21",
   "metadata": {},
   "outputs": [],
   "source": [
    "df[['Clear Water Pumping scale', 'Consumption scale']] = scaler.fit_transform(df[['CLEAR WATER PUMPING FLOW ML', 'Units_kWh']])"
   ]
  },
  {
   "cell_type": "code",
   "execution_count": null,
   "id": "22",
   "metadata": {},
   "outputs": [],
   "source": [
    "df_2022_2023 = df[(df['Year']==2022)|(df['Year']==2023)|(df['Year']==2024)]\n",
    "fig = px.bar(df_2022_2023, x='Month-Year', y=['Consumption scale', 'Clear Water Pumping scale'], barmode='group') #title='Raw Water Pumped during various zones in ML')\n",
    "\n",
    "fig.show()"
   ]
  },
  {
   "cell_type": "code",
   "execution_count": null,
   "id": "23",
   "metadata": {},
   "outputs": [],
   "source": [
    "sorted_data = df.sort_values(by='CLEAR WATER PUMPING FLOW ML')\n",
    "\n",
    "fig = px.line(sorted_data, x=\"CLEAR WATER PUMPING FLOW ML\", y=\"Units_kWh\", hover_data=['Standardized_Date','RAW WATER FLOW IN ML'])\n",
    "fig.show()"
   ]
  },
  {
   "cell_type": "code",
   "execution_count": null,
   "id": "24",
   "metadata": {},
   "outputs": [],
   "source": []
  }
 ],
 "metadata": {
  "kernelspec": {
   "display_name": "Python 3 (ipykernel)",
   "language": "python",
   "name": "python3"
  },
  "language_info": {
   "codemirror_mode": {
    "name": "ipython",
    "version": 3
   },
   "file_extension": ".py",
   "mimetype": "text/x-python",
   "name": "python",
   "nbconvert_exporter": "python",
   "pygments_lexer": "ipython3",
   "version": "3.11.5"
  }
 },
 "nbformat": 4,
 "nbformat_minor": 5
}

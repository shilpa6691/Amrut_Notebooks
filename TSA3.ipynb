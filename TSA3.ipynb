{
 "cells": [
  {
   "cell_type": "code",
   "execution_count": 163,
   "id": "6be12299",
   "metadata": {},
   "outputs": [],
   "source": [
    "import pandas as pd\n",
    "import numpy as np\n",
    "import plotly.express as px\n",
    "import matplotlib.pyplot as plt"
   ]
  },
  {
   "cell_type": "code",
   "execution_count": 164,
   "id": "9e62b37d",
   "metadata": {},
   "outputs": [],
   "source": [
    "data = pd.read_csv('final_data_in_ML.csv',parse_dates=['Standardized_Date'])"
   ]
  },
  {
   "cell_type": "code",
   "execution_count": 165,
   "id": "9732e8df",
   "metadata": {},
   "outputs": [
    {
     "data": {
      "text/html": [
       "<div>\n",
       "<style scoped>\n",
       "    .dataframe tbody tr th:only-of-type {\n",
       "        vertical-align: middle;\n",
       "    }\n",
       "\n",
       "    .dataframe tbody tr th {\n",
       "        vertical-align: top;\n",
       "    }\n",
       "\n",
       "    .dataframe thead th {\n",
       "        text-align: right;\n",
       "    }\n",
       "</style>\n",
       "<table border=\"1\" class=\"dataframe\">\n",
       "  <thead>\n",
       "    <tr style=\"text-align: right;\">\n",
       "      <th></th>\n",
       "      <th>Standardized_Date</th>\n",
       "      <th>RAW WATER FLOW IN ML</th>\n",
       "      <th>CLEAR WATER SUMP LEVEL IN Meter</th>\n",
       "      <th>CLEAR WATER PUMPING FLOW ML</th>\n",
       "      <th>TREATED WATER PRODUCTION IN ML</th>\n",
       "      <th>remarks category</th>\n",
       "    </tr>\n",
       "  </thead>\n",
       "  <tbody>\n",
       "    <tr>\n",
       "      <th>0</th>\n",
       "      <td>2021-12-01</td>\n",
       "      <td>3.52301</td>\n",
       "      <td>2.10</td>\n",
       "      <td>2.70209</td>\n",
       "      <td>3.40957</td>\n",
       "      <td>No remarks</td>\n",
       "    </tr>\n",
       "    <tr>\n",
       "      <th>1</th>\n",
       "      <td>2021-12-01</td>\n",
       "      <td>3.51043</td>\n",
       "      <td>2.84</td>\n",
       "      <td>2.77743</td>\n",
       "      <td>3.39739</td>\n",
       "      <td>No remarks</td>\n",
       "    </tr>\n",
       "    <tr>\n",
       "      <th>2</th>\n",
       "      <td>2021-12-01</td>\n",
       "      <td>3.49087</td>\n",
       "      <td>3.12</td>\n",
       "      <td>2.79467</td>\n",
       "      <td>3.37846</td>\n",
       "      <td>No remarks</td>\n",
       "    </tr>\n",
       "    <tr>\n",
       "      <th>3</th>\n",
       "      <td>2021-12-01</td>\n",
       "      <td>3.50543</td>\n",
       "      <td>3.44</td>\n",
       "      <td>2.79543</td>\n",
       "      <td>3.39256</td>\n",
       "      <td>No remarks</td>\n",
       "    </tr>\n",
       "    <tr>\n",
       "      <th>4</th>\n",
       "      <td>2021-12-01</td>\n",
       "      <td>3.51556</td>\n",
       "      <td>3.72</td>\n",
       "      <td>2.79826</td>\n",
       "      <td>3.40236</td>\n",
       "      <td>No remarks</td>\n",
       "    </tr>\n",
       "    <tr>\n",
       "      <th>...</th>\n",
       "      <td>...</td>\n",
       "      <td>...</td>\n",
       "      <td>...</td>\n",
       "      <td>...</td>\n",
       "      <td>...</td>\n",
       "      <td>...</td>\n",
       "    </tr>\n",
       "    <tr>\n",
       "      <th>24043</th>\n",
       "      <td>2024-08-28</td>\n",
       "      <td>3.13486</td>\n",
       "      <td>3.46</td>\n",
       "      <td>2.87175</td>\n",
       "      <td>3.03392</td>\n",
       "      <td>No remarks</td>\n",
       "    </tr>\n",
       "    <tr>\n",
       "      <th>24044</th>\n",
       "      <td>2024-08-28</td>\n",
       "      <td>3.17401</td>\n",
       "      <td>3.63</td>\n",
       "      <td>2.85830</td>\n",
       "      <td>3.07181</td>\n",
       "      <td>No remarks</td>\n",
       "    </tr>\n",
       "    <tr>\n",
       "      <th>24045</th>\n",
       "      <td>2024-08-28</td>\n",
       "      <td>3.13113</td>\n",
       "      <td>3.64</td>\n",
       "      <td>2.87098</td>\n",
       "      <td>3.03031</td>\n",
       "      <td>No remarks</td>\n",
       "    </tr>\n",
       "    <tr>\n",
       "      <th>24046</th>\n",
       "      <td>2024-08-28</td>\n",
       "      <td>3.16261</td>\n",
       "      <td>3.49</td>\n",
       "      <td>2.89001</td>\n",
       "      <td>3.06077</td>\n",
       "      <td>No remarks</td>\n",
       "    </tr>\n",
       "    <tr>\n",
       "      <th>24047</th>\n",
       "      <td>2024-08-28</td>\n",
       "      <td>3.14265</td>\n",
       "      <td>3.52</td>\n",
       "      <td>2.86865</td>\n",
       "      <td>3.04146</td>\n",
       "      <td>No remarks</td>\n",
       "    </tr>\n",
       "  </tbody>\n",
       "</table>\n",
       "<p>24048 rows × 6 columns</p>\n",
       "</div>"
      ],
      "text/plain": [
       "      Standardized_Date  RAW WATER FLOW IN ML  \\\n",
       "0            2021-12-01               3.52301   \n",
       "1            2021-12-01               3.51043   \n",
       "2            2021-12-01               3.49087   \n",
       "3            2021-12-01               3.50543   \n",
       "4            2021-12-01               3.51556   \n",
       "...                 ...                   ...   \n",
       "24043        2024-08-28               3.13486   \n",
       "24044        2024-08-28               3.17401   \n",
       "24045        2024-08-28               3.13113   \n",
       "24046        2024-08-28               3.16261   \n",
       "24047        2024-08-28               3.14265   \n",
       "\n",
       "       CLEAR WATER SUMP LEVEL IN Meter  CLEAR WATER PUMPING FLOW ML  \\\n",
       "0                                 2.10                      2.70209   \n",
       "1                                 2.84                      2.77743   \n",
       "2                                 3.12                      2.79467   \n",
       "3                                 3.44                      2.79543   \n",
       "4                                 3.72                      2.79826   \n",
       "...                                ...                          ...   \n",
       "24043                             3.46                      2.87175   \n",
       "24044                             3.63                      2.85830   \n",
       "24045                             3.64                      2.87098   \n",
       "24046                             3.49                      2.89001   \n",
       "24047                             3.52                      2.86865   \n",
       "\n",
       "       TREATED WATER PRODUCTION IN ML remarks category  \n",
       "0                             3.40957       No remarks  \n",
       "1                             3.39739       No remarks  \n",
       "2                             3.37846       No remarks  \n",
       "3                             3.39256       No remarks  \n",
       "4                             3.40236       No remarks  \n",
       "...                               ...              ...  \n",
       "24043                         3.03392       No remarks  \n",
       "24044                         3.07181       No remarks  \n",
       "24045                         3.03031       No remarks  \n",
       "24046                         3.06077       No remarks  \n",
       "24047                         3.04146       No remarks  \n",
       "\n",
       "[24048 rows x 6 columns]"
      ]
     },
     "execution_count": 165,
     "metadata": {},
     "output_type": "execute_result"
    }
   ],
   "source": [
    "data=data[['Standardized_Date','RAW WATER FLOW IN ML',\n",
    "       'CLEAR WATER SUMP LEVEL IN Meter', 'CLEAR WATER PUMPING FLOW ML',\n",
    "       'TREATED WATER PRODUCTION IN ML', 'remarks category']]\n",
    "data"
   ]
  },
  {
   "cell_type": "code",
   "execution_count": 166,
   "id": "7a90e510",
   "metadata": {},
   "outputs": [
    {
     "data": {
      "text/plain": [
       "remarks category\n",
       "No remarks                          23385\n",
       "Power Failure at Intake               118\n",
       "intake cleaning                        98\n",
       "maintanance                            72\n",
       "pipe line broken at thaliparamba       72\n",
       "Power Failure at intake and WTP        54\n",
       "WTP cleaning                           49\n",
       "distribution line maintanance          35\n",
       "complaint at WTP                       33\n",
       "Power Failure at WTP                   25\n",
       "intake sump level low                  22\n",
       "maintanance at intake                  22\n",
       "under voltage                          16\n",
       "maintanance at Thaliparamba            15\n",
       "intake pumping stopped                 13\n",
       "channel cieaning                       10\n",
       "voltage fluctation at intake            4\n",
       "inlet chamber cleaning                  4\n",
       "energy auditing                         1\n",
       "Name: count, dtype: int64"
      ]
     },
     "execution_count": 166,
     "metadata": {},
     "output_type": "execute_result"
    }
   ],
   "source": [
    "data['remarks category'].value_counts()"
   ]
  },
  {
   "cell_type": "markdown",
   "id": "560408df",
   "metadata": {},
   "source": [
    "# Encoding"
   ]
  },
  {
   "cell_type": "code",
   "execution_count": 167,
   "id": "edd0ec13",
   "metadata": {},
   "outputs": [
    {
     "data": {
      "text/plain": [
       "remarks category    19\n",
       "dtype: int64"
      ]
     },
     "execution_count": 167,
     "metadata": {},
     "output_type": "execute_result"
    }
   ],
   "source": [
    "data.select_dtypes(include=object).nunique()"
   ]
  },
  {
   "cell_type": "code",
   "execution_count": 168,
   "id": "5654aa6f",
   "metadata": {},
   "outputs": [
    {
     "name": "stdout",
     "output_type": "stream",
     "text": [
      "Label mapping for column 'remarks category':\n",
      "{'No remarks': 0, 'Power Failure at Intake': 1, 'Power Failure at WTP': 2, 'Power Failure at intake and WTP': 3, 'WTP cleaning': 4, 'channel cieaning': 5, 'complaint at WTP': 6, 'distribution line maintanance': 7, 'energy auditing': 8, 'inlet chamber cleaning': 9, 'intake cleaning': 10, 'intake pumping stopped': 11, 'intake sump level low': 12, 'maintanance': 13, 'maintanance at Thaliparamba': 14, 'maintanance at intake': 15, 'pipe line broken at thaliparamba': 16, 'under voltage': 17, 'voltage fluctation at intake': 18}\n"
     ]
    }
   ],
   "source": [
    "from sklearn.preprocessing import LabelEncoder\n",
    "\n",
    "label_en = LabelEncoder()\n",
    "\n",
    "a = ['remarks category']\n",
    "for i in a:\n",
    "    data[i] = label_en.fit_transform(data[i])\n",
    "    # Display the mapping of labels to original values\n",
    "    label_mapping = dict(zip(label_en.classes_, label_en.transform(label_en.classes_)))\n",
    "    print(f\"Label mapping for column '{i}':\")\n",
    "    print(label_mapping)\n"
   ]
  },
  {
   "cell_type": "code",
   "execution_count": 169,
   "id": "b8e08620",
   "metadata": {},
   "outputs": [],
   "source": [
    "data.set_index('Standardized_Date', inplace=True)\n",
    "df=data[['CLEAR WATER PUMPING FLOW ML',\n",
    "        'remarks category']]"
   ]
  },
  {
   "cell_type": "code",
   "execution_count": 170,
   "id": "3abf70d6",
   "metadata": {},
   "outputs": [
    {
     "data": {
      "text/plain": [
       "array([<Axes: xlabel='Standardized_Date'>,\n",
       "       <Axes: xlabel='Standardized_Date'>], dtype=object)"
      ]
     },
     "execution_count": 170,
     "metadata": {},
     "output_type": "execute_result"
    },
    {
     "data": {
      "image/png": "[encoded data removed]",
      "text/plain": [
       "<Figure size 640x480 with 2 Axes>"
      ]
     },
     "metadata": {},
     "output_type": "display_data"
    }
   ],
   "source": [
    "df.plot(subplots=True)"
   ]
  },
  {
   "cell_type": "code",
   "execution_count": 171,
   "id": "d439335a",
   "metadata": {},
   "outputs": [
    {
     "data": {
      "text/plain": [
       "<Axes: ylabel='Density'>"
      ]
     },
     "execution_count": 171,
     "metadata": {},
     "output_type": "execute_result"
    },
    {
     "data": {
      "image/png": "[encoded data removed]",
      "text/plain": [
       "<Figure size 640x480 with 1 Axes>"
      ]
     },
     "metadata": {},
     "output_type": "display_data"
    }
   ],
   "source": [
    "df['remarks category'].plot(kind='density')"
   ]
  },
  {
   "cell_type": "code",
   "execution_count": 172,
   "id": "64b6c717",
   "metadata": {},
   "outputs": [
    {
     "data": {
      "text/plain": [
       "<Axes: >"
      ]
     },
     "execution_count": 172,
     "metadata": {},
     "output_type": "execute_result"
    },
    {
     "data": {
      "image/png": "[encoded data removed]",
      "text/plain": [
       "<Figure size 640x480 with 1 Axes>"
      ]
     },
     "metadata": {},
     "output_type": "display_data"
    }
   ],
   "source": [
    "df['remarks category'].hist()"
   ]
  },
  {
   "cell_type": "markdown",
   "id": "9d0283e7",
   "metadata": {},
   "source": [
    "# Feature Reduction"
   ]
  },
  {
   "cell_type": "code",
   "execution_count": 173,
   "id": "9d90b6a3",
   "metadata": {},
   "outputs": [
    {
     "data": {
      "text/html": [
       "<div>\n",
       "<style scoped>\n",
       "    .dataframe tbody tr th:only-of-type {\n",
       "        vertical-align: middle;\n",
       "    }\n",
       "\n",
       "    .dataframe tbody tr th {\n",
       "        vertical-align: top;\n",
       "    }\n",
       "\n",
       "    .dataframe thead th {\n",
       "        text-align: right;\n",
       "    }\n",
       "</style>\n",
       "<table border=\"1\" class=\"dataframe\">\n",
       "  <thead>\n",
       "    <tr style=\"text-align: right;\">\n",
       "      <th></th>\n",
       "      <th>RAW WATER FLOW IN ML</th>\n",
       "      <th>CLEAR WATER SUMP LEVEL IN Meter</th>\n",
       "      <th>CLEAR WATER PUMPING FLOW ML</th>\n",
       "      <th>TREATED WATER PRODUCTION IN ML</th>\n",
       "      <th>remarks category</th>\n",
       "    </tr>\n",
       "  </thead>\n",
       "  <tbody>\n",
       "    <tr>\n",
       "      <th>RAW WATER FLOW IN ML</th>\n",
       "      <td>1.000000</td>\n",
       "      <td>0.221732</td>\n",
       "      <td>0.797398</td>\n",
       "      <td>1.000000</td>\n",
       "      <td>-0.476066</td>\n",
       "    </tr>\n",
       "    <tr>\n",
       "      <th>CLEAR WATER SUMP LEVEL IN Meter</th>\n",
       "      <td>0.221732</td>\n",
       "      <td>1.000000</td>\n",
       "      <td>0.187376</td>\n",
       "      <td>0.221728</td>\n",
       "      <td>-0.227724</td>\n",
       "    </tr>\n",
       "    <tr>\n",
       "      <th>CLEAR WATER PUMPING FLOW ML</th>\n",
       "      <td>0.797398</td>\n",
       "      <td>0.187376</td>\n",
       "      <td>1.000000</td>\n",
       "      <td>0.797393</td>\n",
       "      <td>-0.433950</td>\n",
       "    </tr>\n",
       "    <tr>\n",
       "      <th>TREATED WATER PRODUCTION IN ML</th>\n",
       "      <td>1.000000</td>\n",
       "      <td>0.221728</td>\n",
       "      <td>0.797393</td>\n",
       "      <td>1.000000</td>\n",
       "      <td>-0.476066</td>\n",
       "    </tr>\n",
       "    <tr>\n",
       "      <th>remarks category</th>\n",
       "      <td>-0.476066</td>\n",
       "      <td>-0.227724</td>\n",
       "      <td>-0.433950</td>\n",
       "      <td>-0.476066</td>\n",
       "      <td>1.000000</td>\n",
       "    </tr>\n",
       "  </tbody>\n",
       "</table>\n",
       "</div>"
      ],
      "text/plain": [
       "                                 RAW WATER FLOW IN ML  \\\n",
       "RAW WATER FLOW IN ML                         1.000000   \n",
       "CLEAR WATER SUMP LEVEL IN Meter              0.221732   \n",
       "CLEAR WATER PUMPING FLOW ML                  0.797398   \n",
       "TREATED WATER PRODUCTION IN ML               1.000000   \n",
       "remarks category                            -0.476066   \n",
       "\n",
       "                                 CLEAR WATER SUMP LEVEL IN Meter  \\\n",
       "RAW WATER FLOW IN ML                                    0.221732   \n",
       "CLEAR WATER SUMP LEVEL IN Meter                         1.000000   \n",
       "CLEAR WATER PUMPING FLOW ML                             0.187376   \n",
       "TREATED WATER PRODUCTION IN ML                          0.221728   \n",
       "remarks category                                       -0.227724   \n",
       "\n",
       "                                 CLEAR WATER PUMPING FLOW ML  \\\n",
       "RAW WATER FLOW IN ML                                0.797398   \n",
       "CLEAR WATER SUMP LEVEL IN Meter                     0.187376   \n",
       "CLEAR WATER PUMPING FLOW ML                         1.000000   \n",
       "TREATED WATER PRODUCTION IN ML                      0.797393   \n",
       "remarks category                                   -0.433950   \n",
       "\n",
       "                                 TREATED WATER PRODUCTION IN ML  \\\n",
       "RAW WATER FLOW IN ML                                   1.000000   \n",
       "CLEAR WATER SUMP LEVEL IN Meter                        0.221728   \n",
       "CLEAR WATER PUMPING FLOW ML                            0.797393   \n",
       "TREATED WATER PRODUCTION IN ML                         1.000000   \n",
       "remarks category                                      -0.476066   \n",
       "\n",
       "                                 remarks category  \n",
       "RAW WATER FLOW IN ML                    -0.476066  \n",
       "CLEAR WATER SUMP LEVEL IN Meter         -0.227724  \n",
       "CLEAR WATER PUMPING FLOW ML             -0.433950  \n",
       "TREATED WATER PRODUCTION IN ML          -0.476066  \n",
       "remarks category                         1.000000  "
      ]
     },
     "execution_count": 173,
     "metadata": {},
     "output_type": "execute_result"
    }
   ],
   "source": [
    "data.corr()"
   ]
  },
  {
   "cell_type": "code",
   "execution_count": 13,
   "id": "1f9f6516",
   "metadata": {},
   "outputs": [
    {
     "data": {
      "text/plain": [
       "<Axes: >"
      ]
     },
     "execution_count": 13,
     "metadata": {},
     "output_type": "execute_result"
    },
    {
     "data": {
      "image/png": "[encoded data removed]",
      "text/plain": [
       "<Figure size 2000x1500 with 2 Axes>"
      ]
     },
     "metadata": {},
     "output_type": "display_data"
    }
   ],
   "source": [
    "import seaborn as sns\n",
    "plt.figure(figsize=(20,15))\n",
    "sns.heatmap(data.corr(),vmin = -0.99,vmax = 0.99,cmap='YlGnBu',linewidths =0.1,annot=True)"
   ]
  },
  {
   "cell_type": "code",
   "execution_count": 14,
   "id": "dfff0512",
   "metadata": {},
   "outputs": [],
   "source": [
    "data=data.drop(['TREATED WATER PRODUCTION IN ML'],axis=1)"
   ]
  },
  {
   "cell_type": "markdown",
   "id": "60d80ae6",
   "metadata": {},
   "source": [
    "# Feature Scaling"
   ]
  },
  {
   "cell_type": "code",
   "execution_count": 15,
   "id": "db2994af",
   "metadata": {},
   "outputs": [],
   "source": [
    "y=data['CLEAR WATER PUMPING FLOW ML']\n",
    "X=data.drop(['CLEAR WATER PUMPING FLOW ML'],axis=1)"
   ]
  },
  {
   "cell_type": "code",
   "execution_count": 16,
   "id": "21e49783",
   "metadata": {},
   "outputs": [
    {
     "data": {
      "text/html": [
       "<div>\n",
       "<style scoped>\n",
       "    .dataframe tbody tr th:only-of-type {\n",
       "        vertical-align: middle;\n",
       "    }\n",
       "\n",
       "    .dataframe tbody tr th {\n",
       "        vertical-align: top;\n",
       "    }\n",
       "\n",
       "    .dataframe thead th {\n",
       "        text-align: right;\n",
       "    }\n",
       "</style>\n",
       "<table border=\"1\" class=\"dataframe\">\n",
       "  <thead>\n",
       "    <tr style=\"text-align: right;\">\n",
       "      <th></th>\n",
       "      <th>0</th>\n",
       "      <th>1</th>\n",
       "      <th>2</th>\n",
       "    </tr>\n",
       "  </thead>\n",
       "  <tbody>\n",
       "    <tr>\n",
       "      <th>count</th>\n",
       "      <td>24048.000000</td>\n",
       "      <td>24048.000000</td>\n",
       "      <td>24048.000000</td>\n",
       "    </tr>\n",
       "    <tr>\n",
       "      <th>mean</th>\n",
       "      <td>0.740915</td>\n",
       "      <td>0.709381</td>\n",
       "      <td>0.012526</td>\n",
       "    </tr>\n",
       "    <tr>\n",
       "      <th>std</th>\n",
       "      <td>0.214780</td>\n",
       "      <td>0.152983</td>\n",
       "      <td>0.089749</td>\n",
       "    </tr>\n",
       "    <tr>\n",
       "      <th>min</th>\n",
       "      <td>0.000000</td>\n",
       "      <td>0.000000</td>\n",
       "      <td>0.000000</td>\n",
       "    </tr>\n",
       "    <tr>\n",
       "      <th>25%</th>\n",
       "      <td>0.625614</td>\n",
       "      <td>0.611650</td>\n",
       "      <td>0.000000</td>\n",
       "    </tr>\n",
       "    <tr>\n",
       "      <th>50%</th>\n",
       "      <td>0.842563</td>\n",
       "      <td>0.716019</td>\n",
       "      <td>0.000000</td>\n",
       "    </tr>\n",
       "    <tr>\n",
       "      <th>75%</th>\n",
       "      <td>0.877325</td>\n",
       "      <td>0.822816</td>\n",
       "      <td>0.000000</td>\n",
       "    </tr>\n",
       "    <tr>\n",
       "      <th>max</th>\n",
       "      <td>1.000000</td>\n",
       "      <td>1.000000</td>\n",
       "      <td>1.000000</td>\n",
       "    </tr>\n",
       "  </tbody>\n",
       "</table>\n",
       "</div>"
      ],
      "text/plain": [
       "                  0             1             2\n",
       "count  24048.000000  24048.000000  24048.000000\n",
       "mean       0.740915      0.709381      0.012526\n",
       "std        0.214780      0.152983      0.089749\n",
       "min        0.000000      0.000000      0.000000\n",
       "25%        0.625614      0.611650      0.000000\n",
       "50%        0.842563      0.716019      0.000000\n",
       "75%        0.877325      0.822816      0.000000\n",
       "max        1.000000      1.000000      1.000000"
      ]
     },
     "execution_count": 16,
     "metadata": {},
     "output_type": "execute_result"
    }
   ],
   "source": [
    "from sklearn.preprocessing import MinMaxScaler\n",
    "min_max = MinMaxScaler(feature_range =(0,1))\n",
    "X = min_max.fit_transform(X)\n",
    "X=pd.DataFrame(X)\n",
    "X.describe()"
   ]
  },
  {
   "cell_type": "markdown",
   "id": "9b5ae8a1",
   "metadata": {},
   "source": [
    "# Modelling"
   ]
  },
  {
   "cell_type": "markdown",
   "id": "4aefdaeb",
   "metadata": {},
   "source": [
    "# LinearRegression"
   ]
  },
  {
   "cell_type": "code",
   "execution_count": 17,
   "id": "a6ceb913",
   "metadata": {},
   "outputs": [],
   "source": [
    "#splitting the dataset into train and test \n",
    "import warnings\n",
    "warnings.filterwarnings(\"ignore\")\n",
    "from sklearn.model_selection import train_test_split\n",
    "X_train,X_test,y_train,y_test=train_test_split(X,y,random_state=42,test_size=0.25)"
   ]
  },
  {
   "cell_type": "code",
   "execution_count": 37,
   "id": "a6fd2feb",
   "metadata": {},
   "outputs": [
    {
     "name": "stdout",
     "output_type": "stream",
     "text": [
      "Mean Squared Error: 2.036883683951761\n",
      "Root Mean Squared Error: 1.4271943399382443\n",
      "R-squared: 0.29412828235301147\n"
     ]
    },
    {
     "data": {
      "text/plain": [
       "array([1.78807862, 2.11095259, 2.52515507, 0.04366636, 2.57050061,\n",
       "       1.21543319, 1.22316488, 0.91642916, 0.95542017, 2.96616661])"
      ]
     },
     "execution_count": 37,
     "metadata": {},
     "output_type": "execute_result"
    }
   ],
   "source": [
    "from sklearn.linear_model import LinearRegression\n",
    "from sklearn.metrics import mean_squared_error, r2_score\n",
    "\n",
    "model = LinearRegression()\n",
    "\n",
    "# Fit the model to the training data\n",
    "model.fit(X_train, y_train)\n",
    "\n",
    "# Make predictions on the test set\n",
    "y_pred = model.predict(X_test)\n",
    "\n",
    "# Evaluate the model's performance\n",
    "mse = mean_squared_error(y_test, y_pred)\n",
    "rmse = np.sqrt(mse)\n",
    "r2 = r2_score(y_test, y_pred)\n",
    "\n",
    "print(\"Mean Squared Error:\", mse)\n",
    "print(\"Root Mean Squared Error:\", rmse)\n",
    "print(\"R-squared:\", r2)\n",
    "y_pred[-10:]"
   ]
  },
  {
   "cell_type": "code",
   "execution_count": 19,
   "id": "1bcb3c18",
   "metadata": {},
   "outputs": [
    {
     "data": {
      "text/html": [
       "<div>\n",
       "<style scoped>\n",
       "    .dataframe tbody tr th:only-of-type {\n",
       "        vertical-align: middle;\n",
       "    }\n",
       "\n",
       "    .dataframe tbody tr th {\n",
       "        vertical-align: top;\n",
       "    }\n",
       "\n",
       "    .dataframe thead th {\n",
       "        text-align: right;\n",
       "    }\n",
       "</style>\n",
       "<table border=\"1\" class=\"dataframe\">\n",
       "  <thead>\n",
       "    <tr style=\"text-align: right;\">\n",
       "      <th></th>\n",
       "      <th>proportion</th>\n",
       "    </tr>\n",
       "    <tr>\n",
       "      <th>CLEAR WATER PUMPING FLOW ML</th>\n",
       "      <th></th>\n",
       "    </tr>\n",
       "  </thead>\n",
       "  <tbody>\n",
       "    <tr>\n",
       "      <th>1.0</th>\n",
       "      <td>0.807136</td>\n",
       "    </tr>\n",
       "    <tr>\n",
       "      <th>0.0</th>\n",
       "      <td>0.192740</td>\n",
       "    </tr>\n",
       "    <tr>\n",
       "      <th>4.0</th>\n",
       "      <td>0.000125</td>\n",
       "    </tr>\n",
       "  </tbody>\n",
       "</table>\n",
       "</div>"
      ],
      "text/plain": [
       "                             proportion\n",
       "CLEAR WATER PUMPING FLOW ML            \n",
       "1.0                            0.807136\n",
       "0.0                            0.192740\n",
       "4.0                            0.000125"
      ]
     },
     "execution_count": 19,
     "metadata": {},
     "output_type": "execute_result"
    }
   ],
   "source": [
    "#Since we have continuous values in our target variable,and classification models won't perform the continuous variables, so splitting the target column values into 0,1,2 and 3 and 4\n",
    "y[(y>0)&(y<=2)]=0\n",
    "y[(y>2)&(y<=4)]=1\n",
    "y[(y>4)&(y<=6)]=2\n",
    "y[(y>6)&(y<=8)]=3\n",
    "y[(y>8)&(y<=10)]=4\n",
    "#Checking the imbalance of the dataset\n",
    "y.value_counts(normalize=True).to_frame()\n"
   ]
  },
  {
   "cell_type": "code",
   "execution_count": 20,
   "id": "a50a8804",
   "metadata": {},
   "outputs": [],
   "source": [
    "#Here we can see that the data is highly imbalanced. \n",
    "#So we have to make the dataset balanced\n",
    "#Here we will go for oversampling as in undersampling data drop will be there .\n",
    "#Oversampling will create new examples in minority class and can keep the data in dataset"
   ]
  },
  {
   "cell_type": "code",
   "execution_count": 21,
   "id": "6c2835c6",
   "metadata": {},
   "outputs": [
    {
     "data": {
      "image/png": "[encoded data removed]",
      "text/plain": [
       "<Figure size 640x480 with 1 Axes>"
      ]
     },
     "metadata": {},
     "output_type": "display_data"
    }
   ],
   "source": [
    "from imblearn.over_sampling import SMOTE\n",
    "smt=SMOTE(k_neighbors=2)\n",
    "X_os, y_os = smt.fit_resample(X, y)\n",
    "sns.countplot(y_os)\n",
    "plt.show()"
   ]
  },
  {
   "cell_type": "code",
   "execution_count": 22,
   "id": "00c9cbc8",
   "metadata": {},
   "outputs": [
    {
     "data": {
      "text/html": [
       "<div>\n",
       "<style scoped>\n",
       "    .dataframe tbody tr th:only-of-type {\n",
       "        vertical-align: middle;\n",
       "    }\n",
       "\n",
       "    .dataframe tbody tr th {\n",
       "        vertical-align: top;\n",
       "    }\n",
       "\n",
       "    .dataframe thead th {\n",
       "        text-align: right;\n",
       "    }\n",
       "</style>\n",
       "<table border=\"1\" class=\"dataframe\">\n",
       "  <thead>\n",
       "    <tr style=\"text-align: right;\">\n",
       "      <th></th>\n",
       "      <th>proportion</th>\n",
       "    </tr>\n",
       "    <tr>\n",
       "      <th>CLEAR WATER PUMPING FLOW ML</th>\n",
       "      <th></th>\n",
       "    </tr>\n",
       "  </thead>\n",
       "  <tbody>\n",
       "    <tr>\n",
       "      <th>1.0</th>\n",
       "      <td>0.333333</td>\n",
       "    </tr>\n",
       "    <tr>\n",
       "      <th>0.0</th>\n",
       "      <td>0.333333</td>\n",
       "    </tr>\n",
       "    <tr>\n",
       "      <th>4.0</th>\n",
       "      <td>0.333333</td>\n",
       "    </tr>\n",
       "  </tbody>\n",
       "</table>\n",
       "</div>"
      ],
      "text/plain": [
       "                             proportion\n",
       "CLEAR WATER PUMPING FLOW ML            \n",
       "1.0                            0.333333\n",
       "0.0                            0.333333\n",
       "4.0                            0.333333"
      ]
     },
     "execution_count": 22,
     "metadata": {},
     "output_type": "execute_result"
    }
   ],
   "source": [
    "y_os.value_counts(normalize=True).to_frame()"
   ]
  },
  {
   "cell_type": "code",
   "execution_count": 23,
   "id": "9fddff95",
   "metadata": {},
   "outputs": [],
   "source": [
    "#splitting the dataset into train and test \n",
    "import warnings\n",
    "warnings.filterwarnings(\"ignore\")\n",
    "from sklearn.model_selection import train_test_split\n",
    "X_train,X_test,y_train,y_test=train_test_split(X_os,y_os,random_state=42,test_size=0.25)"
   ]
  },
  {
   "cell_type": "markdown",
   "id": "0313a7c9",
   "metadata": {},
   "source": [
    "# Logistic Regression"
   ]
  },
  {
   "cell_type": "code",
   "execution_count": 24,
   "id": "e0b8000c",
   "metadata": {},
   "outputs": [],
   "source": [
    "from sklearn.linear_model import LogisticRegression\n",
    "from sklearn.metrics import confusion_matrix\n",
    "from sklearn.metrics import f1_score\n",
    "from sklearn.metrics import recall_score\n",
    "from sklearn.metrics import precision_score\n",
    "from sklearn.metrics import accuracy_score\n",
    "from sklearn.metrics import  classification_report\n",
    "logit_reg=LogisticRegression()\n",
    "model=logit_reg.fit(X_train,y_train)\n",
    "predictions1=model.predict(X_test)"
   ]
  },
  {
   "cell_type": "code",
   "execution_count": 25,
   "id": "7544e58d",
   "metadata": {},
   "outputs": [
    {
     "name": "stdout",
     "output_type": "stream",
     "text": [
      "Results from logistic regression are as below\n"
     ]
    },
    {
     "data": {
      "text/html": [
       "<style type=\"text/css\">\n",
       "#T_407c7_row0_col0, #T_407c7_row0_col2, #T_407c7_row2_col1, #T_407c7_row3_col3 {\n",
       "  background-color: #f7fcfd;\n",
       "  color: #000000;\n",
       "}\n",
       "#T_407c7_row0_col1 {\n",
       "  background-color: #cedfec;\n",
       "  color: #000000;\n",
       "}\n",
       "#T_407c7_row0_col3 {\n",
       "  background-color: #b6cde3;\n",
       "  color: #000000;\n",
       "}\n",
       "#T_407c7_row1_col0 {\n",
       "  background-color: #8e9ac8;\n",
       "  color: #f1f1f1;\n",
       "}\n",
       "#T_407c7_row1_col1, #T_407c7_row2_col0, #T_407c7_row2_col2, #T_407c7_row4_col3, #T_407c7_row5_col3 {\n",
       "  background-color: #4d004b;\n",
       "  color: #f1f1f1;\n",
       "}\n",
       "#T_407c7_row1_col2 {\n",
       "  background-color: #6f0a6b;\n",
       "  color: #f1f1f1;\n",
       "}\n",
       "#T_407c7_row1_col3 {\n",
       "  background-color: #b0c9e1;\n",
       "  color: #000000;\n",
       "}\n",
       "#T_407c7_row2_col3 {\n",
       "  background-color: #99b2d5;\n",
       "  color: #000000;\n",
       "}\n",
       "#T_407c7_row3_col0, #T_407c7_row4_col0 {\n",
       "  background-color: #8d98c7;\n",
       "  color: #f1f1f1;\n",
       "}\n",
       "#T_407c7_row3_col1, #T_407c7_row5_col1 {\n",
       "  background-color: #a2bfdb;\n",
       "  color: #000000;\n",
       "}\n",
       "#T_407c7_row3_col2 {\n",
       "  background-color: #8b5eab;\n",
       "  color: #f1f1f1;\n",
       "}\n",
       "#T_407c7_row4_col1 {\n",
       "  background-color: #9bb6d7;\n",
       "  color: #000000;\n",
       "}\n",
       "#T_407c7_row4_col2 {\n",
       "  background-color: #8c66af;\n",
       "  color: #f1f1f1;\n",
       "}\n",
       "#T_407c7_row5_col0 {\n",
       "  background-color: #8c82bc;\n",
       "  color: #f1f1f1;\n",
       "}\n",
       "#T_407c7_row5_col2 {\n",
       "  background-color: #8a55a7;\n",
       "  color: #f1f1f1;\n",
       "}\n",
       "</style>\n",
       "<table id=\"T_407c7\">\n",
       "  <thead>\n",
       "    <tr>\n",
       "      <th class=\"blank level0\" >&nbsp;</th>\n",
       "      <th id=\"T_407c7_level0_col0\" class=\"col_heading level0 col0\" >precision</th>\n",
       "      <th id=\"T_407c7_level0_col1\" class=\"col_heading level0 col1\" >recall</th>\n",
       "      <th id=\"T_407c7_level0_col2\" class=\"col_heading level0 col2\" >f1-score</th>\n",
       "      <th id=\"T_407c7_level0_col3\" class=\"col_heading level0 col3\" >support</th>\n",
       "    </tr>\n",
       "  </thead>\n",
       "  <tbody>\n",
       "    <tr>\n",
       "      <th id=\"T_407c7_level0_row0\" class=\"row_heading level0 row0\" >0.0</th>\n",
       "      <td id=\"T_407c7_row0_col0\" class=\"data row0 col0\" >0.705882</td>\n",
       "      <td id=\"T_407c7_row0_col1\" class=\"data row0 col1\" >0.832085</td>\n",
       "      <td id=\"T_407c7_row0_col2\" class=\"data row0 col2\" >0.763806</td>\n",
       "      <td id=\"T_407c7_row0_col3\" class=\"data row0 col3\" >4139.000000</td>\n",
       "    </tr>\n",
       "    <tr>\n",
       "      <th id=\"T_407c7_level0_row1\" class=\"row_heading level0 row1\" >1.0</th>\n",
       "      <td id=\"T_407c7_row1_col0\" class=\"data row1 col0\" >0.848391</td>\n",
       "      <td id=\"T_407c7_row1_col1\" class=\"data row1 col1\" >0.923232</td>\n",
       "      <td id=\"T_407c7_row1_col2\" class=\"data row1 col2\" >0.884231</td>\n",
       "      <td id=\"T_407c7_row1_col3\" class=\"data row1 col3\" >4455.000000</td>\n",
       "    </tr>\n",
       "    <tr>\n",
       "      <th id=\"T_407c7_level0_row2\" class=\"row_heading level0 row2\" >4.0</th>\n",
       "      <td id=\"T_407c7_row2_col0\" class=\"data row2 col0\" >1.000000</td>\n",
       "      <td id=\"T_407c7_row2_col1\" class=\"data row2 col1\" >0.810027</td>\n",
       "      <td id=\"T_407c7_row2_col2\" class=\"data row2 col2\" >0.895044</td>\n",
       "      <td id=\"T_407c7_row2_col3\" class=\"data row2 col3\" >5964.000000</td>\n",
       "    </tr>\n",
       "    <tr>\n",
       "      <th id=\"T_407c7_level0_row3\" class=\"row_heading level0 row3\" >accuracy</th>\n",
       "      <td id=\"T_407c7_row3_col0\" class=\"data row3 col0\" >0.850941</td>\n",
       "      <td id=\"T_407c7_row3_col1\" class=\"data row3 col1\" >0.850941</td>\n",
       "      <td id=\"T_407c7_row3_col2\" class=\"data row3 col2\" >0.850941</td>\n",
       "      <td id=\"T_407c7_row3_col3\" class=\"data row3 col3\" >0.850941</td>\n",
       "    </tr>\n",
       "    <tr>\n",
       "      <th id=\"T_407c7_level0_row4\" class=\"row_heading level0 row4\" >macro avg</th>\n",
       "      <td id=\"T_407c7_row4_col0\" class=\"data row4 col0\" >0.851424</td>\n",
       "      <td id=\"T_407c7_row4_col1\" class=\"data row4 col1\" >0.855115</td>\n",
       "      <td id=\"T_407c7_row4_col2\" class=\"data row4 col2\" >0.847694</td>\n",
       "      <td id=\"T_407c7_row4_col3\" class=\"data row4 col3\" >14558.000000</td>\n",
       "    </tr>\n",
       "    <tr>\n",
       "      <th id=\"T_407c7_level0_row5\" class=\"row_heading level0 row5\" >weighted avg</th>\n",
       "      <td id=\"T_407c7_row5_col0\" class=\"data row5 col0\" >0.869984</td>\n",
       "      <td id=\"T_407c7_row5_col1\" class=\"data row5 col1\" >0.850941</td>\n",
       "      <td id=\"T_407c7_row5_col2\" class=\"data row5 col2\" >0.854423</td>\n",
       "      <td id=\"T_407c7_row5_col3\" class=\"data row5 col3\" >14558.000000</td>\n",
       "    </tr>\n",
       "  </tbody>\n",
       "</table>\n"
      ],
      "text/plain": [
       "<pandas.io.formats.style.Styler at 0x1338b0210>"
      ]
     },
     "execution_count": 25,
     "metadata": {},
     "output_type": "execute_result"
    }
   ],
   "source": [
    "print(\"Results from logistic regression are as below\")\n",
    "log_result = classification_report(predictions1,y_test,output_dict=True)\n",
    "log_result = pd.DataFrame(log_result).transpose()\n",
    "log_result.style.background_gradient(cmap=\"BuPu\")"
   ]
  },
  {
   "cell_type": "markdown",
   "id": "1c478cbe",
   "metadata": {},
   "source": [
    "# Decision Tree Classifier"
   ]
  },
  {
   "cell_type": "code",
   "execution_count": 26,
   "id": "92c6f461",
   "metadata": {},
   "outputs": [],
   "source": [
    "from sklearn.tree import DecisionTreeClassifier\n",
    "dt_model=DecisionTreeClassifier()\n",
    "dt_model.fit(X_train,y_train)\n",
    "predictions2=dt_model.predict(X_test)"
   ]
  },
  {
   "cell_type": "code",
   "execution_count": 27,
   "id": "218aceaf",
   "metadata": {},
   "outputs": [
    {
     "name": "stdout",
     "output_type": "stream",
     "text": [
      "Results from Decision Tree are as below\n"
     ]
    },
    {
     "data": {
      "text/html": [
       "<style type=\"text/css\">\n",
       "#T_e5d81_row0_col0 {\n",
       "  background-color: #f3f9fc;\n",
       "  color: #000000;\n",
       "}\n",
       "#T_e5d81_row0_col1, #T_e5d81_row1_col0, #T_e5d81_row1_col2, #T_e5d81_row3_col3 {\n",
       "  background-color: #f7fcfd;\n",
       "  color: #000000;\n",
       "}\n",
       "#T_e5d81_row0_col2 {\n",
       "  background-color: #f6fbfc;\n",
       "  color: #000000;\n",
       "}\n",
       "#T_e5d81_row0_col3, #T_e5d81_row1_col3, #T_e5d81_row3_col1, #T_e5d81_row3_col2, #T_e5d81_row4_col1, #T_e5d81_row5_col1, #T_e5d81_row5_col2 {\n",
       "  background-color: #a9c4de;\n",
       "  color: #000000;\n",
       "}\n",
       "#T_e5d81_row1_col1 {\n",
       "  background-color: #f6fbfd;\n",
       "  color: #000000;\n",
       "}\n",
       "#T_e5d81_row2_col0, #T_e5d81_row2_col1, #T_e5d81_row2_col2, #T_e5d81_row4_col3, #T_e5d81_row5_col3 {\n",
       "  background-color: #4d004b;\n",
       "  color: #f1f1f1;\n",
       "}\n",
       "#T_e5d81_row2_col3 {\n",
       "  background-color: #aac4de;\n",
       "  color: #000000;\n",
       "}\n",
       "#T_e5d81_row3_col0, #T_e5d81_row4_col2, #T_e5d81_row5_col0 {\n",
       "  background-color: #a8c3de;\n",
       "  color: #000000;\n",
       "}\n",
       "#T_e5d81_row4_col0 {\n",
       "  background-color: #a7c2dd;\n",
       "  color: #000000;\n",
       "}\n",
       "</style>\n",
       "<table id=\"T_e5d81\">\n",
       "  <thead>\n",
       "    <tr>\n",
       "      <th class=\"blank level0\" >&nbsp;</th>\n",
       "      <th id=\"T_e5d81_level0_col0\" class=\"col_heading level0 col0\" >precision</th>\n",
       "      <th id=\"T_e5d81_level0_col1\" class=\"col_heading level0 col1\" >recall</th>\n",
       "      <th id=\"T_e5d81_level0_col2\" class=\"col_heading level0 col2\" >f1-score</th>\n",
       "      <th id=\"T_e5d81_level0_col3\" class=\"col_heading level0 col3\" >support</th>\n",
       "    </tr>\n",
       "  </thead>\n",
       "  <tbody>\n",
       "    <tr>\n",
       "      <th id=\"T_e5d81_level0_row0\" class=\"row_heading level0 row0\" >0.0</th>\n",
       "      <td id=\"T_e5d81_row0_col0\" class=\"data row0 col0\" >0.883583</td>\n",
       "      <td id=\"T_e5d81_row0_col1\" class=\"data row0 col1\" >0.881956</td>\n",
       "      <td id=\"T_e5d81_row0_col2\" class=\"data row0 col2\" >0.882769</td>\n",
       "      <td id=\"T_e5d81_row0_col3\" class=\"data row0 col3\" >4888.000000</td>\n",
       "    </tr>\n",
       "    <tr>\n",
       "      <th id=\"T_e5d81_level0_row1\" class=\"row_heading level0 row1\" >1.0</th>\n",
       "      <td id=\"T_e5d81_row1_col0\" class=\"data row1 col0\" >0.880982</td>\n",
       "      <td id=\"T_e5d81_row1_col1\" class=\"data row1 col1\" >0.882620</td>\n",
       "      <td id=\"T_e5d81_row1_col2\" class=\"data row1 col2\" >0.881800</td>\n",
       "      <td id=\"T_e5d81_row1_col3\" class=\"data row1 col3\" >4839.000000</td>\n",
       "    </tr>\n",
       "    <tr>\n",
       "      <th id=\"T_e5d81_level0_row2\" class=\"row_heading level0 row2\" >4.0</th>\n",
       "      <td id=\"T_e5d81_row2_col0\" class=\"data row2 col0\" >1.000000</td>\n",
       "      <td id=\"T_e5d81_row2_col1\" class=\"data row2 col1\" >1.000000</td>\n",
       "      <td id=\"T_e5d81_row2_col2\" class=\"data row2 col2\" >1.000000</td>\n",
       "      <td id=\"T_e5d81_row2_col3\" class=\"data row2 col3\" >4831.000000</td>\n",
       "    </tr>\n",
       "    <tr>\n",
       "      <th id=\"T_e5d81_level0_row3\" class=\"row_heading level0 row3\" >accuracy</th>\n",
       "      <td id=\"T_e5d81_row3_col0\" class=\"data row3 col0\" >0.921349</td>\n",
       "      <td id=\"T_e5d81_row3_col1\" class=\"data row3 col1\" >0.921349</td>\n",
       "      <td id=\"T_e5d81_row3_col2\" class=\"data row3 col2\" >0.921349</td>\n",
       "      <td id=\"T_e5d81_row3_col3\" class=\"data row3 col3\" >0.921349</td>\n",
       "    </tr>\n",
       "    <tr>\n",
       "      <th id=\"T_e5d81_level0_row4\" class=\"row_heading level0 row4\" >macro avg</th>\n",
       "      <td id=\"T_e5d81_row4_col0\" class=\"data row4 col0\" >0.921522</td>\n",
       "      <td id=\"T_e5d81_row4_col1\" class=\"data row4 col1\" >0.921525</td>\n",
       "      <td id=\"T_e5d81_row4_col2\" class=\"data row4 col2\" >0.921523</td>\n",
       "      <td id=\"T_e5d81_row4_col3\" class=\"data row4 col3\" >14558.000000</td>\n",
       "    </tr>\n",
       "    <tr>\n",
       "      <th id=\"T_e5d81_level0_row5\" class=\"row_heading level0 row5\" >weighted avg</th>\n",
       "      <td id=\"T_e5d81_row5_col0\" class=\"data row5 col0\" >0.921351</td>\n",
       "      <td id=\"T_e5d81_row5_col1\" class=\"data row5 col1\" >0.921349</td>\n",
       "      <td id=\"T_e5d81_row5_col2\" class=\"data row5 col2\" >0.921349</td>\n",
       "      <td id=\"T_e5d81_row5_col3\" class=\"data row5 col3\" >14558.000000</td>\n",
       "    </tr>\n",
       "  </tbody>\n",
       "</table>\n"
      ],
      "text/plain": [
       "<pandas.io.formats.style.Styler at 0x13541b110>"
      ]
     },
     "execution_count": 27,
     "metadata": {},
     "output_type": "execute_result"
    }
   ],
   "source": [
    "print(\"Results from Decision Tree are as below\")\n",
    "DT_result = classification_report(predictions2,y_test,output_dict=True)\n",
    "DT_result = pd.DataFrame(DT_result).transpose()\n",
    "DT_result.style.background_gradient(cmap=\"BuPu\")"
   ]
  },
  {
   "cell_type": "markdown",
   "id": "2ffe5f75",
   "metadata": {},
   "source": [
    "# Random Forest Classifier"
   ]
  },
  {
   "cell_type": "code",
   "execution_count": 28,
   "id": "c413b196",
   "metadata": {},
   "outputs": [
    {
     "data": {
      "text/plain": [
       "array([1., 1., 1., ..., 0., 1., 0.])"
      ]
     },
     "execution_count": 28,
     "metadata": {},
     "output_type": "execute_result"
    }
   ],
   "source": [
    "from sklearn.ensemble import RandomForestClassifier\n",
    "rf = RandomForestClassifier()\n",
    "rf.fit(X_train,y_train)\n",
    "predictions5 = rf.predict(X_test)\n",
    "predictions5"
   ]
  },
  {
   "cell_type": "code",
   "execution_count": 29,
   "id": "79144d37",
   "metadata": {},
   "outputs": [
    {
     "name": "stdout",
     "output_type": "stream",
     "text": [
      "Results from Random Forest are as below\n"
     ]
    },
    {
     "data": {
      "text/html": [
       "<style type=\"text/css\">\n",
       "#T_a29bd_row0_col0 {\n",
       "  background-color: #b1c9e1;\n",
       "  color: #000000;\n",
       "}\n",
       "#T_a29bd_row0_col1, #T_a29bd_row1_col0, #T_a29bd_row1_col2, #T_a29bd_row3_col3 {\n",
       "  background-color: #f7fcfd;\n",
       "  color: #000000;\n",
       "}\n",
       "#T_a29bd_row0_col2 {\n",
       "  background-color: #f1f7fa;\n",
       "  color: #000000;\n",
       "}\n",
       "#T_a29bd_row0_col3, #T_a29bd_row3_col2, #T_a29bd_row4_col2, #T_a29bd_row5_col2 {\n",
       "  background-color: #a6c2dd;\n",
       "  color: #000000;\n",
       "}\n",
       "#T_a29bd_row1_col1 {\n",
       "  background-color: #bfd3e6;\n",
       "  color: #000000;\n",
       "}\n",
       "#T_a29bd_row1_col3 {\n",
       "  background-color: #acc6df;\n",
       "  color: #000000;\n",
       "}\n",
       "#T_a29bd_row2_col0, #T_a29bd_row2_col1, #T_a29bd_row2_col2, #T_a29bd_row4_col3, #T_a29bd_row5_col3 {\n",
       "  background-color: #4d004b;\n",
       "  color: #f1f1f1;\n",
       "}\n",
       "#T_a29bd_row2_col3 {\n",
       "  background-color: #aac4de;\n",
       "  color: #000000;\n",
       "}\n",
       "#T_a29bd_row3_col0, #T_a29bd_row4_col0, #T_a29bd_row5_col0 {\n",
       "  background-color: #95aad0;\n",
       "  color: #f1f1f1;\n",
       "}\n",
       "#T_a29bd_row3_col1, #T_a29bd_row5_col1 {\n",
       "  background-color: #99b1d4;\n",
       "  color: #000000;\n",
       "}\n",
       "#T_a29bd_row4_col1 {\n",
       "  background-color: #98b0d3;\n",
       "  color: #000000;\n",
       "}\n",
       "</style>\n",
       "<table id=\"T_a29bd\">\n",
       "  <thead>\n",
       "    <tr>\n",
       "      <th class=\"blank level0\" >&nbsp;</th>\n",
       "      <th id=\"T_a29bd_level0_col0\" class=\"col_heading level0 col0\" >precision</th>\n",
       "      <th id=\"T_a29bd_level0_col1\" class=\"col_heading level0 col1\" >recall</th>\n",
       "      <th id=\"T_a29bd_level0_col2\" class=\"col_heading level0 col2\" >f1-score</th>\n",
       "      <th id=\"T_a29bd_level0_col3\" class=\"col_heading level0 col3\" >support</th>\n",
       "    </tr>\n",
       "  </thead>\n",
       "  <tbody>\n",
       "    <tr>\n",
       "      <th id=\"T_a29bd_level0_row0\" class=\"row_heading level0 row0\" >0.0</th>\n",
       "      <td id=\"T_a29bd_row0_col0\" class=\"data row0 col0\" >0.928469</td>\n",
       "      <td id=\"T_a29bd_row0_col1\" class=\"data row0 col1\" >0.900955</td>\n",
       "      <td id=\"T_a29bd_row0_col2\" class=\"data row0 col2\" >0.914505</td>\n",
       "      <td id=\"T_a29bd_row0_col3\" class=\"data row0 col3\" >5028.000000</td>\n",
       "    </tr>\n",
       "    <tr>\n",
       "      <th id=\"T_a29bd_level0_row1\" class=\"row_heading level0 row1\" >1.0</th>\n",
       "      <td id=\"T_a29bd_row1_col0\" class=\"data row1 col0\" >0.897277</td>\n",
       "      <td id=\"T_a29bd_row1_col1\" class=\"data row1 col1\" >0.925729</td>\n",
       "      <td id=\"T_a29bd_row1_col2\" class=\"data row1 col2\" >0.911281</td>\n",
       "      <td id=\"T_a29bd_row1_col3\" class=\"data row1 col3\" >4699.000000</td>\n",
       "    </tr>\n",
       "    <tr>\n",
       "      <th id=\"T_a29bd_level0_row2\" class=\"row_heading level0 row2\" >4.0</th>\n",
       "      <td id=\"T_a29bd_row2_col0\" class=\"data row2 col0\" >1.000000</td>\n",
       "      <td id=\"T_a29bd_row2_col1\" class=\"data row2 col1\" >1.000000</td>\n",
       "      <td id=\"T_a29bd_row2_col2\" class=\"data row2 col2\" >1.000000</td>\n",
       "      <td id=\"T_a29bd_row2_col3\" class=\"data row2 col3\" >4831.000000</td>\n",
       "    </tr>\n",
       "    <tr>\n",
       "      <th id=\"T_a29bd_level0_row3\" class=\"row_heading level0 row3\" >accuracy</th>\n",
       "      <td id=\"T_a29bd_row3_col0\" class=\"data row3 col0\" >0.941819</td>\n",
       "      <td id=\"T_a29bd_row3_col1\" class=\"data row3 col1\" >0.941819</td>\n",
       "      <td id=\"T_a29bd_row3_col2\" class=\"data row3 col2\" >0.941819</td>\n",
       "      <td id=\"T_a29bd_row3_col3\" class=\"data row3 col3\" >0.941819</td>\n",
       "    </tr>\n",
       "    <tr>\n",
       "      <th id=\"T_a29bd_level0_row4\" class=\"row_heading level0 row4\" >macro avg</th>\n",
       "      <td id=\"T_a29bd_row4_col0\" class=\"data row4 col0\" >0.941915</td>\n",
       "      <td id=\"T_a29bd_row4_col1\" class=\"data row4 col1\" >0.942228</td>\n",
       "      <td id=\"T_a29bd_row4_col2\" class=\"data row4 col2\" >0.941929</td>\n",
       "      <td id=\"T_a29bd_row4_col3\" class=\"data row4 col3\" >14558.000000</td>\n",
       "    </tr>\n",
       "    <tr>\n",
       "      <th id=\"T_a29bd_level0_row5\" class=\"row_heading level0 row5\" >weighted avg</th>\n",
       "      <td id=\"T_a29bd_row5_col0\" class=\"data row5 col0\" >0.942138</td>\n",
       "      <td id=\"T_a29bd_row5_col1\" class=\"data row5 col1\" >0.941819</td>\n",
       "      <td id=\"T_a29bd_row5_col2\" class=\"data row5 col2\" >0.941835</td>\n",
       "      <td id=\"T_a29bd_row5_col3\" class=\"data row5 col3\" >14558.000000</td>\n",
       "    </tr>\n",
       "  </tbody>\n",
       "</table>\n"
      ],
      "text/plain": [
       "<pandas.io.formats.style.Styler at 0x134b88fd0>"
      ]
     },
     "execution_count": 29,
     "metadata": {},
     "output_type": "execute_result"
    }
   ],
   "source": [
    "print(\"Results from Random Forest are as below\")\n",
    "RF_result = classification_report(predictions5,y_test,output_dict=True)\n",
    "RF_result = pd.DataFrame(RF_result).transpose()\n",
    "RF_result.style.background_gradient(cmap=\"BuPu\")"
   ]
  },
  {
   "cell_type": "markdown",
   "id": "2ee64f10",
   "metadata": {},
   "source": [
    "# Gradient Boosting Classifier"
   ]
  },
  {
   "cell_type": "code",
   "execution_count": 30,
   "id": "632a91c1",
   "metadata": {},
   "outputs": [
    {
     "name": "stdout",
     "output_type": "stream",
     "text": [
      "Results from Gradient Boosting are as below\n"
     ]
    },
    {
     "data": {
      "text/html": [
       "<style type=\"text/css\">\n",
       "#T_578e7_row0_col0 {\n",
       "  background-color: #8a51a5;\n",
       "  color: #f1f1f1;\n",
       "}\n",
       "#T_578e7_row0_col1, #T_578e7_row1_col0, #T_578e7_row1_col2, #T_578e7_row3_col3 {\n",
       "  background-color: #f7fcfd;\n",
       "  color: #000000;\n",
       "}\n",
       "#T_578e7_row0_col2 {\n",
       "  background-color: #e3eef5;\n",
       "  color: #000000;\n",
       "}\n",
       "#T_578e7_row0_col3, #T_578e7_row3_col2, #T_578e7_row5_col2 {\n",
       "  background-color: #9fbcda;\n",
       "  color: #000000;\n",
       "}\n",
       "#T_578e7_row1_col1 {\n",
       "  background-color: #8c6cb1;\n",
       "  color: #f1f1f1;\n",
       "}\n",
       "#T_578e7_row1_col3 {\n",
       "  background-color: #b3cbe2;\n",
       "  color: #000000;\n",
       "}\n",
       "#T_578e7_row2_col0, #T_578e7_row2_col1, #T_578e7_row2_col2, #T_578e7_row4_col3, #T_578e7_row5_col3 {\n",
       "  background-color: #4d004b;\n",
       "  color: #f1f1f1;\n",
       "}\n",
       "#T_578e7_row2_col3 {\n",
       "  background-color: #aac4de;\n",
       "  color: #000000;\n",
       "}\n",
       "#T_578e7_row3_col0, #T_578e7_row4_col0 {\n",
       "  background-color: #8c7eba;\n",
       "  color: #f1f1f1;\n",
       "}\n",
       "#T_578e7_row3_col1, #T_578e7_row5_col1 {\n",
       "  background-color: #8c90c3;\n",
       "  color: #f1f1f1;\n",
       "}\n",
       "#T_578e7_row4_col1 {\n",
       "  background-color: #8c88bf;\n",
       "  color: #f1f1f1;\n",
       "}\n",
       "#T_578e7_row4_col2 {\n",
       "  background-color: #a0bddb;\n",
       "  color: #000000;\n",
       "}\n",
       "#T_578e7_row5_col0 {\n",
       "  background-color: #8c75b6;\n",
       "  color: #f1f1f1;\n",
       "}\n",
       "</style>\n",
       "<table id=\"T_578e7\">\n",
       "  <thead>\n",
       "    <tr>\n",
       "      <th class=\"blank level0\" >&nbsp;</th>\n",
       "      <th id=\"T_578e7_level0_col0\" class=\"col_heading level0 col0\" >precision</th>\n",
       "      <th id=\"T_578e7_level0_col1\" class=\"col_heading level0 col1\" >recall</th>\n",
       "      <th id=\"T_578e7_level0_col2\" class=\"col_heading level0 col2\" >f1-score</th>\n",
       "      <th id=\"T_578e7_level0_col3\" class=\"col_heading level0 col3\" >support</th>\n",
       "    </tr>\n",
       "  </thead>\n",
       "  <tbody>\n",
       "    <tr>\n",
       "      <th id=\"T_578e7_level0_row0\" class=\"row_heading level0 row0\" >0.0</th>\n",
       "      <td id=\"T_578e7_row0_col0\" class=\"data row0 col0\" >0.952039</td>\n",
       "      <td id=\"T_578e7_row0_col1\" class=\"data row0 col1\" >0.855748</td>\n",
       "      <td id=\"T_578e7_row0_col2\" class=\"data row0 col2\" >0.901329</td>\n",
       "      <td id=\"T_578e7_row0_col3\" class=\"data row0 col3\" >5428.000000</td>\n",
       "    </tr>\n",
       "    <tr>\n",
       "      <th id=\"T_578e7_level0_row1\" class=\"row_heading level0 row1\" >1.0</th>\n",
       "      <td id=\"T_578e7_row1_col0\" class=\"data row1 col0\" >0.838490</td>\n",
       "      <td id=\"T_578e7_row1_col1\" class=\"data row1 col1\" >0.945569</td>\n",
       "      <td id=\"T_578e7_row1_col2\" class=\"data row1 col2\" >0.888816</td>\n",
       "      <td id=\"T_578e7_row1_col3\" class=\"data row1 col3\" >4299.000000</td>\n",
       "    </tr>\n",
       "    <tr>\n",
       "      <th id=\"T_578e7_level0_row2\" class=\"row_heading level0 row2\" >4.0</th>\n",
       "      <td id=\"T_578e7_row2_col0\" class=\"data row2 col0\" >1.000000</td>\n",
       "      <td id=\"T_578e7_row2_col1\" class=\"data row2 col1\" >1.000000</td>\n",
       "      <td id=\"T_578e7_row2_col2\" class=\"data row2 col2\" >1.000000</td>\n",
       "      <td id=\"T_578e7_row2_col3\" class=\"data row2 col3\" >4831.000000</td>\n",
       "    </tr>\n",
       "    <tr>\n",
       "      <th id=\"T_578e7_level0_row3\" class=\"row_heading level0 row3\" >accuracy</th>\n",
       "      <td id=\"T_578e7_row3_col0\" class=\"data row3 col0\" >0.930142</td>\n",
       "      <td id=\"T_578e7_row3_col1\" class=\"data row3 col1\" >0.930142</td>\n",
       "      <td id=\"T_578e7_row3_col2\" class=\"data row3 col2\" >0.930142</td>\n",
       "      <td id=\"T_578e7_row3_col3\" class=\"data row3 col3\" >0.930142</td>\n",
       "    </tr>\n",
       "    <tr>\n",
       "      <th id=\"T_578e7_level0_row4\" class=\"row_heading level0 row4\" >macro avg</th>\n",
       "      <td id=\"T_578e7_row4_col0\" class=\"data row4 col0\" >0.930176</td>\n",
       "      <td id=\"T_578e7_row4_col1\" class=\"data row4 col1\" >0.933772</td>\n",
       "      <td id=\"T_578e7_row4_col2\" class=\"data row4 col2\" >0.930048</td>\n",
       "      <td id=\"T_578e7_row4_col3\" class=\"data row4 col3\" >14558.000000</td>\n",
       "    </tr>\n",
       "    <tr>\n",
       "      <th id=\"T_578e7_level0_row5\" class=\"row_heading level0 row5\" >weighted avg</th>\n",
       "      <td id=\"T_578e7_row5_col0\" class=\"data row5 col0\" >0.934424</td>\n",
       "      <td id=\"T_578e7_row5_col1\" class=\"data row5 col1\" >0.930142</td>\n",
       "      <td id=\"T_578e7_row5_col2\" class=\"data row5 col2\" >0.930377</td>\n",
       "      <td id=\"T_578e7_row5_col3\" class=\"data row5 col3\" >14558.000000</td>\n",
       "    </tr>\n",
       "  </tbody>\n",
       "</table>\n"
      ],
      "text/plain": [
       "<pandas.io.formats.style.Styler at 0x1339bf750>"
      ]
     },
     "execution_count": 30,
     "metadata": {},
     "output_type": "execute_result"
    }
   ],
   "source": [
    "from sklearn.ensemble import GradientBoostingClassifier\n",
    "GB = GradientBoostingClassifier()\n",
    "model = GB.fit(X_train,y_train)\n",
    "predictions6 = model.predict(X_test)\n",
    "print(\"Results from Gradient Boosting are as below\")\n",
    "GB_result = classification_report(predictions6,y_test,output_dict=True)\n",
    "GB_result = pd.DataFrame(GB_result).transpose()\n",
    "GB_result.style.background_gradient(cmap=\"BuPu\")"
   ]
  },
  {
   "cell_type": "markdown",
   "id": "3f2b808b",
   "metadata": {},
   "source": [
    "# Ada Boost Classifier"
   ]
  },
  {
   "cell_type": "code",
   "execution_count": 31,
   "id": "95f68478",
   "metadata": {},
   "outputs": [
    {
     "name": "stdout",
     "output_type": "stream",
     "text": [
      "Results from ADA booster are as below\n"
     ]
    },
    {
     "data": {
      "text/html": [
       "<style type=\"text/css\">\n",
       "#T_d3f1f_row0_col0, #T_d3f1f_row0_col2, #T_d3f1f_row1_col1, #T_d3f1f_row3_col3 {\n",
       "  background-color: #f7fcfd;\n",
       "  color: #000000;\n",
       "}\n",
       "#T_d3f1f_row0_col1 {\n",
       "  background-color: #5c0459;\n",
       "  color: #f1f1f1;\n",
       "}\n",
       "#T_d3f1f_row0_col3 {\n",
       "  background-color: #dbe8f2;\n",
       "  color: #000000;\n",
       "}\n",
       "#T_d3f1f_row1_col0 {\n",
       "  background-color: #50014e;\n",
       "  color: #f1f1f1;\n",
       "}\n",
       "#T_d3f1f_row1_col2 {\n",
       "  background-color: #95aad0;\n",
       "  color: #f1f1f1;\n",
       "}\n",
       "#T_d3f1f_row1_col3 {\n",
       "  background-color: #8c8fc2;\n",
       "  color: #f1f1f1;\n",
       "}\n",
       "#T_d3f1f_row2_col0, #T_d3f1f_row2_col1, #T_d3f1f_row2_col2, #T_d3f1f_row4_col3, #T_d3f1f_row5_col3 {\n",
       "  background-color: #4d004b;\n",
       "  color: #f1f1f1;\n",
       "}\n",
       "#T_d3f1f_row2_col3 {\n",
       "  background-color: #aac4de;\n",
       "  color: #000000;\n",
       "}\n",
       "#T_d3f1f_row3_col0, #T_d3f1f_row4_col0 {\n",
       "  background-color: #8b5eab;\n",
       "  color: #f1f1f1;\n",
       "}\n",
       "#T_d3f1f_row3_col1, #T_d3f1f_row5_col1 {\n",
       "  background-color: #909eca;\n",
       "  color: #f1f1f1;\n",
       "}\n",
       "#T_d3f1f_row3_col2 {\n",
       "  background-color: #8c90c3;\n",
       "  color: #f1f1f1;\n",
       "}\n",
       "#T_d3f1f_row4_col1 {\n",
       "  background-color: #8b61ac;\n",
       "  color: #f1f1f1;\n",
       "}\n",
       "#T_d3f1f_row4_col2 {\n",
       "  background-color: #8f9dc9;\n",
       "  color: #f1f1f1;\n",
       "}\n",
       "#T_d3f1f_row5_col0 {\n",
       "  background-color: #831a83;\n",
       "  color: #f1f1f1;\n",
       "}\n",
       "#T_d3f1f_row5_col2 {\n",
       "  background-color: #8c82bc;\n",
       "  color: #f1f1f1;\n",
       "}\n",
       "</style>\n",
       "<table id=\"T_d3f1f\">\n",
       "  <thead>\n",
       "    <tr>\n",
       "      <th class=\"blank level0\" >&nbsp;</th>\n",
       "      <th id=\"T_d3f1f_level0_col0\" class=\"col_heading level0 col0\" >precision</th>\n",
       "      <th id=\"T_d3f1f_level0_col1\" class=\"col_heading level0 col1\" >recall</th>\n",
       "      <th id=\"T_d3f1f_level0_col2\" class=\"col_heading level0 col2\" >f1-score</th>\n",
       "      <th id=\"T_d3f1f_level0_col3\" class=\"col_heading level0 col3\" >support</th>\n",
       "    </tr>\n",
       "  </thead>\n",
       "  <tbody>\n",
       "    <tr>\n",
       "      <th id=\"T_d3f1f_level0_row0\" class=\"row_heading level0 row0\" >0.0</th>\n",
       "      <td id=\"T_d3f1f_row0_col0\" class=\"data row0 col0\" >0.435130</td>\n",
       "      <td id=\"T_d3f1f_row0_col1\" class=\"data row0 col1\" >0.986524</td>\n",
       "      <td id=\"T_d3f1f_row0_col2\" class=\"data row0 col2\" >0.603897</td>\n",
       "      <td id=\"T_d3f1f_row0_col3\" class=\"data row0 col3\" >2152.000000</td>\n",
       "    </tr>\n",
       "    <tr>\n",
       "      <th id=\"T_d3f1f_level0_row1\" class=\"row_heading level0 row1\" >1.0</th>\n",
       "      <td id=\"T_d3f1f_row1_col0\" class=\"data row1 col0\" >0.994018</td>\n",
       "      <td id=\"T_d3f1f_row1_col1\" class=\"data row1 col1\" >0.636256</td>\n",
       "      <td id=\"T_d3f1f_row1_col2\" class=\"data row1 col2\" >0.775882</td>\n",
       "      <td id=\"T_d3f1f_row1_col3\" class=\"data row1 col3\" >7574.000000</td>\n",
       "    </tr>\n",
       "    <tr>\n",
       "      <th id=\"T_d3f1f_level0_row2\" class=\"row_heading level0 row2\" >4.0</th>\n",
       "      <td id=\"T_d3f1f_row2_col0\" class=\"data row2 col0\" >1.000000</td>\n",
       "      <td id=\"T_d3f1f_row2_col1\" class=\"data row2 col1\" >0.999793</td>\n",
       "      <td id=\"T_d3f1f_row2_col2\" class=\"data row2 col2\" >0.999897</td>\n",
       "      <td id=\"T_d3f1f_row2_col3\" class=\"data row2 col3\" >4832.000000</td>\n",
       "    </tr>\n",
       "    <tr>\n",
       "      <th id=\"T_d3f1f_level0_row3\" class=\"row_heading level0 row3\" >accuracy</th>\n",
       "      <td id=\"T_d3f1f_row3_col0\" class=\"data row3 col0\" >0.808696</td>\n",
       "      <td id=\"T_d3f1f_row3_col1\" class=\"data row3 col1\" >0.808696</td>\n",
       "      <td id=\"T_d3f1f_row3_col2\" class=\"data row3 col2\" >0.808696</td>\n",
       "      <td id=\"T_d3f1f_row3_col3\" class=\"data row3 col3\" >0.808696</td>\n",
       "    </tr>\n",
       "    <tr>\n",
       "      <th id=\"T_d3f1f_level0_row4\" class=\"row_heading level0 row4\" >macro avg</th>\n",
       "      <td id=\"T_d3f1f_row4_col0\" class=\"data row4 col0\" >0.809716</td>\n",
       "      <td id=\"T_d3f1f_row4_col1\" class=\"data row4 col1\" >0.874191</td>\n",
       "      <td id=\"T_d3f1f_row4_col2\" class=\"data row4 col2\" >0.793225</td>\n",
       "      <td id=\"T_d3f1f_row4_col3\" class=\"data row4 col3\" >14558.000000</td>\n",
       "    </tr>\n",
       "    <tr>\n",
       "      <th id=\"T_d3f1f_level0_row5\" class=\"row_heading level0 row5\" >weighted avg</th>\n",
       "      <td id=\"T_d3f1f_row5_col0\" class=\"data row5 col0\" >0.913387</td>\n",
       "      <td id=\"T_d3f1f_row5_col1\" class=\"data row5 col1\" >0.808696</td>\n",
       "      <td id=\"T_d3f1f_row5_col2\" class=\"data row5 col2\" >0.824812</td>\n",
       "      <td id=\"T_d3f1f_row5_col3\" class=\"data row5 col3\" >14558.000000</td>\n",
       "    </tr>\n",
       "  </tbody>\n",
       "</table>\n"
      ],
      "text/plain": [
       "<pandas.io.formats.style.Styler at 0x1354188d0>"
      ]
     },
     "execution_count": 31,
     "metadata": {},
     "output_type": "execute_result"
    }
   ],
   "source": [
    "from sklearn.ensemble import AdaBoostClassifier\n",
    "AD=AdaBoostClassifier()\n",
    "AD_model= AD.fit(X_train , y_train)\n",
    "predictions7=AD_model.predict(X_test)\n",
    "print(\"Results from ADA booster are as below\")\n",
    "AD_result = classification_report(predictions7,y_test,output_dict=True)\n",
    "AD_result = pd.DataFrame(AD_result).transpose()\n",
    "AD_result.style.background_gradient(cmap=\"BuPu\")"
   ]
  },
  {
   "cell_type": "markdown",
   "id": "847924d9",
   "metadata": {},
   "source": [
    "# GaussianNB"
   ]
  },
  {
   "cell_type": "code",
   "execution_count": 32,
   "id": "adde4c8b",
   "metadata": {},
   "outputs": [
    {
     "name": "stdout",
     "output_type": "stream",
     "text": [
      "Results from Gaussian Naive bayer are as below\n"
     ]
    },
    {
     "data": {
      "text/html": [
       "<style type=\"text/css\">\n",
       "#T_4da7c_row0_col0, #T_4da7c_row0_col2, #T_4da7c_row1_col1, #T_4da7c_row3_col3 {\n",
       "  background-color: #f7fcfd;\n",
       "  color: #000000;\n",
       "}\n",
       "#T_4da7c_row0_col1 {\n",
       "  background-color: #5a0457;\n",
       "  color: #f1f1f1;\n",
       "}\n",
       "#T_4da7c_row0_col3 {\n",
       "  background-color: #ddeaf3;\n",
       "  color: #000000;\n",
       "}\n",
       "#T_4da7c_row1_col0 {\n",
       "  background-color: #50014e;\n",
       "  color: #f1f1f1;\n",
       "}\n",
       "#T_4da7c_row1_col2 {\n",
       "  background-color: #93a5ce;\n",
       "  color: #f1f1f1;\n",
       "}\n",
       "#T_4da7c_row1_col3 {\n",
       "  background-color: #8c8cc1;\n",
       "  color: #f1f1f1;\n",
       "}\n",
       "#T_4da7c_row2_col0, #T_4da7c_row2_col1, #T_4da7c_row2_col2, #T_4da7c_row4_col3, #T_4da7c_row5_col3 {\n",
       "  background-color: #4d004b;\n",
       "  color: #f1f1f1;\n",
       "}\n",
       "#T_4da7c_row2_col3 {\n",
       "  background-color: #aac4de;\n",
       "  color: #000000;\n",
       "}\n",
       "#T_4da7c_row3_col0, #T_4da7c_row4_col0 {\n",
       "  background-color: #8b5eab;\n",
       "  color: #f1f1f1;\n",
       "}\n",
       "#T_4da7c_row3_col1, #T_4da7c_row5_col1 {\n",
       "  background-color: #91a0cb;\n",
       "  color: #f1f1f1;\n",
       "}\n",
       "#T_4da7c_row3_col2 {\n",
       "  background-color: #8c8dc2;\n",
       "  color: #f1f1f1;\n",
       "}\n",
       "#T_4da7c_row4_col1 {\n",
       "  background-color: #8b61ac;\n",
       "  color: #f1f1f1;\n",
       "}\n",
       "#T_4da7c_row4_col2 {\n",
       "  background-color: #8f9bc9;\n",
       "  color: #f1f1f1;\n",
       "}\n",
       "#T_4da7c_row5_col0 {\n",
       "  background-color: #821580;\n",
       "  color: #f1f1f1;\n",
       "}\n",
       "#T_4da7c_row5_col2 {\n",
       "  background-color: #8c7eba;\n",
       "  color: #f1f1f1;\n",
       "}\n",
       "</style>\n",
       "<table id=\"T_4da7c\">\n",
       "  <thead>\n",
       "    <tr>\n",
       "      <th class=\"blank level0\" >&nbsp;</th>\n",
       "      <th id=\"T_4da7c_level0_col0\" class=\"col_heading level0 col0\" >precision</th>\n",
       "      <th id=\"T_4da7c_level0_col1\" class=\"col_heading level0 col1\" >recall</th>\n",
       "      <th id=\"T_4da7c_level0_col2\" class=\"col_heading level0 col2\" >f1-score</th>\n",
       "      <th id=\"T_4da7c_level0_col3\" class=\"col_heading level0 col3\" >support</th>\n",
       "    </tr>\n",
       "  </thead>\n",
       "  <tbody>\n",
       "    <tr>\n",
       "      <th id=\"T_4da7c_level0_row0\" class=\"row_heading level0 row0\" >0.0</th>\n",
       "      <td id=\"T_4da7c_row0_col0\" class=\"data row0 col0\" >0.409305</td>\n",
       "      <td id=\"T_4da7c_row0_col1\" class=\"data row0 col1\" >0.987148</td>\n",
       "      <td id=\"T_4da7c_row0_col2\" class=\"data row0 col2\" >0.578673</td>\n",
       "      <td id=\"T_4da7c_row0_col3\" class=\"data row0 col3\" >2023.000000</td>\n",
       "    </tr>\n",
       "    <tr>\n",
       "      <th id=\"T_4da7c_level0_row1\" class=\"row_heading level0 row1\" >1.0</th>\n",
       "      <td id=\"T_4da7c_row1_col0\" class=\"data row1 col0\" >0.994637</td>\n",
       "      <td id=\"T_4da7c_row1_col1\" class=\"data row1 col1\" >0.625990</td>\n",
       "      <td id=\"T_4da7c_row1_col2\" class=\"data row1 col2\" >0.768385</td>\n",
       "      <td id=\"T_4da7c_row1_col3\" class=\"data row1 col3\" >7703.000000</td>\n",
       "    </tr>\n",
       "    <tr>\n",
       "      <th id=\"T_4da7c_level0_row2\" class=\"row_heading level0 row2\" >4.0</th>\n",
       "      <td id=\"T_4da7c_row2_col0\" class=\"data row2 col0\" >1.000000</td>\n",
       "      <td id=\"T_4da7c_row2_col1\" class=\"data row2 col1\" >0.999793</td>\n",
       "      <td id=\"T_4da7c_row2_col2\" class=\"data row2 col2\" >0.999897</td>\n",
       "      <td id=\"T_4da7c_row2_col3\" class=\"data row2 col3\" >4832.000000</td>\n",
       "    </tr>\n",
       "    <tr>\n",
       "      <th id=\"T_4da7c_level0_row3\" class=\"row_heading level0 row3\" >accuracy</th>\n",
       "      <td id=\"T_4da7c_row3_col0\" class=\"data row3 col0\" >0.800247</td>\n",
       "      <td id=\"T_4da7c_row3_col1\" class=\"data row3 col1\" >0.800247</td>\n",
       "      <td id=\"T_4da7c_row3_col2\" class=\"data row3 col2\" >0.800247</td>\n",
       "      <td id=\"T_4da7c_row3_col3\" class=\"data row3 col3\" >0.800247</td>\n",
       "    </tr>\n",
       "    <tr>\n",
       "      <th id=\"T_4da7c_level0_row4\" class=\"row_heading level0 row4\" >macro avg</th>\n",
       "      <td id=\"T_4da7c_row4_col0\" class=\"data row4 col0\" >0.801314</td>\n",
       "      <td id=\"T_4da7c_row4_col1\" class=\"data row4 col1\" >0.870977</td>\n",
       "      <td id=\"T_4da7c_row4_col2\" class=\"data row4 col2\" >0.782318</td>\n",
       "      <td id=\"T_4da7c_row4_col3\" class=\"data row4 col3\" >14558.000000</td>\n",
       "    </tr>\n",
       "    <tr>\n",
       "      <th id=\"T_4da7c_level0_row5\" class=\"row_heading level0 row5\" >weighted avg</th>\n",
       "      <td id=\"T_4da7c_row5_col0\" class=\"data row5 col0\" >0.915079</td>\n",
       "      <td id=\"T_4da7c_row5_col1\" class=\"data row5 col1\" >0.800247</td>\n",
       "      <td id=\"T_4da7c_row5_col2\" class=\"data row5 col2\" >0.818864</td>\n",
       "      <td id=\"T_4da7c_row5_col3\" class=\"data row5 col3\" >14558.000000</td>\n",
       "    </tr>\n",
       "  </tbody>\n",
       "</table>\n"
      ],
      "text/plain": [
       "<pandas.io.formats.style.Styler at 0x1341379d0>"
      ]
     },
     "execution_count": 32,
     "metadata": {},
     "output_type": "execute_result"
    }
   ],
   "source": [
    "from sklearn.naive_bayes import GaussianNB\n",
    "GNB=GaussianNB()\n",
    "GNB_model=GNB.fit(X_train , y_train)\n",
    "predictions8=GNB_model.predict(X_test)\n",
    "print(\"Results from Gaussian Naive bayer are as below\")\n",
    "GNB_result = classification_report(predictions8,y_test,output_dict=True)\n",
    "GNB_result = pd.DataFrame(GNB_result).transpose()\n",
    "GNB_result.style.background_gradient(cmap=\"BuPu\")"
   ]
  },
  {
   "cell_type": "markdown",
   "id": "15bcfb2d",
   "metadata": {},
   "source": [
    "# BaggingClassifier"
   ]
  },
  {
   "cell_type": "code",
   "execution_count": 33,
   "id": "664f8c9c",
   "metadata": {},
   "outputs": [
    {
     "name": "stdout",
     "output_type": "stream",
     "text": [
      "Results from Bagging classifier are as below\n"
     ]
    },
    {
     "data": {
      "text/html": [
       "<style type=\"text/css\">\n",
       "#T_4544d_row0_col0 {\n",
       "  background-color: #97add2;\n",
       "  color: #000000;\n",
       "}\n",
       "#T_4544d_row0_col1, #T_4544d_row1_col0, #T_4544d_row1_col2, #T_4544d_row3_col3 {\n",
       "  background-color: #f7fcfd;\n",
       "  color: #000000;\n",
       "}\n",
       "#T_4544d_row0_col2 {\n",
       "  background-color: #edf5f9;\n",
       "  color: #000000;\n",
       "}\n",
       "#T_4544d_row0_col3, #T_4544d_row4_col2 {\n",
       "  background-color: #a4c0dc;\n",
       "  color: #000000;\n",
       "}\n",
       "#T_4544d_row1_col1 {\n",
       "  background-color: #a3bfdc;\n",
       "  color: #000000;\n",
       "}\n",
       "#T_4544d_row1_col3 {\n",
       "  background-color: #aec7e0;\n",
       "  color: #000000;\n",
       "}\n",
       "#T_4544d_row2_col0, #T_4544d_row2_col1, #T_4544d_row2_col2, #T_4544d_row4_col3, #T_4544d_row5_col3 {\n",
       "  background-color: #4d004b;\n",
       "  color: #f1f1f1;\n",
       "}\n",
       "#T_4544d_row2_col3 {\n",
       "  background-color: #aac4de;\n",
       "  color: #000000;\n",
       "}\n",
       "#T_4544d_row3_col0, #T_4544d_row4_col0 {\n",
       "  background-color: #909eca;\n",
       "  color: #f1f1f1;\n",
       "}\n",
       "#T_4544d_row3_col1, #T_4544d_row5_col1 {\n",
       "  background-color: #94a7cf;\n",
       "  color: #f1f1f1;\n",
       "}\n",
       "#T_4544d_row3_col2, #T_4544d_row5_col2 {\n",
       "  background-color: #a5c1dc;\n",
       "  color: #000000;\n",
       "}\n",
       "#T_4544d_row4_col1 {\n",
       "  background-color: #93a5ce;\n",
       "  color: #f1f1f1;\n",
       "}\n",
       "#T_4544d_row5_col0 {\n",
       "  background-color: #8f9bc9;\n",
       "  color: #f1f1f1;\n",
       "}\n",
       "</style>\n",
       "<table id=\"T_4544d\">\n",
       "  <thead>\n",
       "    <tr>\n",
       "      <th class=\"blank level0\" >&nbsp;</th>\n",
       "      <th id=\"T_4544d_level0_col0\" class=\"col_heading level0 col0\" >precision</th>\n",
       "      <th id=\"T_4544d_level0_col1\" class=\"col_heading level0 col1\" >recall</th>\n",
       "      <th id=\"T_4544d_level0_col2\" class=\"col_heading level0 col2\" >f1-score</th>\n",
       "      <th id=\"T_4544d_level0_col3\" class=\"col_heading level0 col3\" >support</th>\n",
       "    </tr>\n",
       "  </thead>\n",
       "  <tbody>\n",
       "    <tr>\n",
       "      <th id=\"T_4544d_level0_row0\" class=\"row_heading level0 row0\" >0.0</th>\n",
       "      <td id=\"T_4544d_row0_col0\" class=\"data row0 col0\" >0.930928</td>\n",
       "      <td id=\"T_4544d_row0_col1\" class=\"data row0 col1\" >0.886244</td>\n",
       "      <td id=\"T_4544d_row0_col2\" class=\"data row0 col2\" >0.908037</td>\n",
       "      <td id=\"T_4544d_row0_col3\" class=\"data row0 col3\" >5125.000000</td>\n",
       "    </tr>\n",
       "    <tr>\n",
       "      <th id=\"T_4544d_level0_row1\" class=\"row_heading level0 row1\" >1.0</th>\n",
       "      <td id=\"T_4544d_row1_col0\" class=\"data row1 col0\" >0.879744</td>\n",
       "      <td id=\"T_4544d_row1_col1\" class=\"data row1 col1\" >0.926771</td>\n",
       "      <td id=\"T_4544d_row1_col2\" class=\"data row1 col2\" >0.902646</td>\n",
       "      <td id=\"T_4544d_row1_col3\" class=\"data row1 col3\" >4602.000000</td>\n",
       "    </tr>\n",
       "    <tr>\n",
       "      <th id=\"T_4544d_level0_row2\" class=\"row_heading level0 row2\" >4.0</th>\n",
       "      <td id=\"T_4544d_row2_col0\" class=\"data row2 col0\" >1.000000</td>\n",
       "      <td id=\"T_4544d_row2_col1\" class=\"data row2 col1\" >1.000000</td>\n",
       "      <td id=\"T_4544d_row2_col2\" class=\"data row2 col2\" >1.000000</td>\n",
       "      <td id=\"T_4544d_row2_col3\" class=\"data row2 col3\" >4831.000000</td>\n",
       "    </tr>\n",
       "    <tr>\n",
       "      <th id=\"T_4544d_level0_row3\" class=\"row_heading level0 row3\" >accuracy</th>\n",
       "      <td id=\"T_4544d_row3_col0\" class=\"data row3 col0\" >0.936805</td>\n",
       "      <td id=\"T_4544d_row3_col1\" class=\"data row3 col1\" >0.936805</td>\n",
       "      <td id=\"T_4544d_row3_col2\" class=\"data row3 col2\" >0.936805</td>\n",
       "      <td id=\"T_4544d_row3_col3\" class=\"data row3 col3\" >0.936805</td>\n",
       "    </tr>\n",
       "    <tr>\n",
       "      <th id=\"T_4544d_level0_row4\" class=\"row_heading level0 row4\" >macro avg</th>\n",
       "      <td id=\"T_4544d_row4_col0\" class=\"data row4 col0\" >0.936891</td>\n",
       "      <td id=\"T_4544d_row4_col1\" class=\"data row4 col1\" >0.937672</td>\n",
       "      <td id=\"T_4544d_row4_col2\" class=\"data row4 col2\" >0.936894</td>\n",
       "      <td id=\"T_4544d_row4_col3\" class=\"data row4 col3\" >14558.000000</td>\n",
       "    </tr>\n",
       "    <tr>\n",
       "      <th id=\"T_4544d_level0_row5\" class=\"row_heading level0 row5\" >weighted avg</th>\n",
       "      <td id=\"T_4544d_row5_col0\" class=\"data row5 col0\" >0.937669</td>\n",
       "      <td id=\"T_4544d_row5_col1\" class=\"data row5 col1\" >0.936805</td>\n",
       "      <td id=\"T_4544d_row5_col2\" class=\"data row5 col2\" >0.936850</td>\n",
       "      <td id=\"T_4544d_row5_col3\" class=\"data row5 col3\" >14558.000000</td>\n",
       "    </tr>\n",
       "  </tbody>\n",
       "</table>\n"
      ],
      "text/plain": [
       "<pandas.io.formats.style.Styler at 0x1354786d0>"
      ]
     },
     "execution_count": 33,
     "metadata": {},
     "output_type": "execute_result"
    }
   ],
   "source": [
    "from sklearn.ensemble import BaggingClassifier\n",
    "BC=BaggingClassifier()\n",
    "BC_model=BC.fit(X_train , y_train)\n",
    "predictions9=BC_model.predict(X_test)\n",
    "print(\"Results from Bagging classifier are as below\")\n",
    "BC_result = classification_report(predictions9,y_test,output_dict=True)\n",
    "BC_result = pd.DataFrame(BC_result).transpose()\n",
    "BC_result.style.background_gradient(cmap=\"BuPu\")"
   ]
  },
  {
   "cell_type": "code",
   "execution_count": null,
   "id": "da19f23b",
   "metadata": {},
   "outputs": [],
   "source": []
  }
 ],
 "metadata": {
  "kernelspec": {
   "display_name": "Python 3 (ipykernel)",
   "language": "python",
   "name": "python3"
  },
  "language_info": {
   "codemirror_mode": {
    "name": "ipython",
    "version": 3
   },
   "file_extension": ".py",
   "mimetype": "text/x-python",
   "name": "python",
   "nbconvert_exporter": "python",
   "pygments_lexer": "ipython3",
   "version": "3.11.5"
  }
 },
 "nbformat": 4,
 "nbformat_minor": 5
}

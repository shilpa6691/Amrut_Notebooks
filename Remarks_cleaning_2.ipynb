{
 "cells": [
  {
   "cell_type": "code",
   "execution_count": null,
   "id": "0",
   "metadata": {},
   "outputs": [],
   "source": [
    "import numpy as np\n",
    "import pandas as pd\n",
    "import datetime\n",
    "import matplotlib.pyplot as plt\n",
    "import seaborn as sns\n",
    "import re\n",
    "from datetime import datetime"
   ]
  },
  {
   "cell_type": "code",
   "execution_count": null,
   "id": "1",
   "metadata": {},
   "outputs": [],
   "source": [
    "#Loading dataset"
   ]
  },
  {
   "cell_type": "code",
   "execution_count": null,
   "id": "2",
   "metadata": {},
   "outputs": [],
   "source": [
    "df=pd.read_csv('All_Errors_Corrected.csv',parse_dates=['Standardized_Date'])\n",
    "df"
   ]
  },
  {
   "cell_type": "code",
   "execution_count": null,
   "id": "3",
   "metadata": {},
   "outputs": [],
   "source": [
    "df.REMARKS.unique()"
   ]
  },
  {
   "cell_type": "code",
   "execution_count": null,
   "id": "4",
   "metadata": {},
   "outputs": [],
   "source": [
    "df.REMARKS.unique()"
   ]
  },
  {
   "cell_type": "code",
   "execution_count": null,
   "id": "5",
   "metadata": {},
   "outputs": [],
   "source": [
    "df_filtered = df[df['REMARKS'].str.contains('power', case=False,na=False)| \n",
    "                     df['REMARKS'].str.contains('failure', case=False)|df['REMARKS'].str.contains('voltage', case=False)]\n",
    "df_filtered"
   ]
  },
  {
   "cell_type": "code",
   "execution_count": null,
   "id": "6",
   "metadata": {},
   "outputs": [],
   "source": [
    "combined_filter = df[\n",
    "    (df['RAW WATER FLOW IN m3/h'] == 0) & \n",
    "    (df['CLEAR WATER PUMPING FLOW m3/h'] == 0) & \n",
    "    (\n",
    "        df['REMARKS'].str.contains('power', case=False, na=False) | \n",
    "        df['REMARKS'].str.contains('failure', case=False, na=False) | \n",
    "        df['REMARKS'].str.contains('voltage', case=False, na=False)\n",
    "    )\n",
    "]\n",
    "combined_filter"
   ]
  },
  {
   "cell_type": "code",
   "execution_count": null,
   "id": "7",
   "metadata": {},
   "outputs": [],
   "source": [
    "# Apply the filter to the DataFrame and update the 'REMARKS' column\n",
    "df.loc[\n",
    "    (df['RAW WATER FLOW IN m3/h'] == 0) & \n",
    "    (df['CLEAR WATER PUMPING FLOW m3/h'] == 0) & \n",
    "    (\n",
    "        df['REMARKS'].str.contains('power', case=False, na=False) | \n",
    "        df['REMARKS'].str.contains('failure', case=False, na=False) | \n",
    "        df['REMARKS'].str.contains('voltage', case=False, na=False)\n",
    "    ),\n",
    "    'REMARKS'\n",
    "] = 'power failure at intake and wtp'\n",
    "\n"
   ]
  },
  {
   "cell_type": "code",
   "execution_count": null,
   "id": "8",
   "metadata": {},
   "outputs": [],
   "source": [
    "df[2202:2203]"
   ]
  },
  {
   "cell_type": "code",
   "execution_count": null,
   "id": "9",
   "metadata": {},
   "outputs": [],
   "source": [
    "combined_filter1 = df[\n",
    "    (df['RAW WATER FLOW IN m3/h'] != 0) & \n",
    "    (df['CLEAR WATER PUMPING FLOW m3/h'] != 0) & \n",
    "    (\n",
    "        df['REMARKS'].str.contains('power', case=False, na=False) | \n",
    "        df['REMARKS'].str.contains('failure', case=False, na=False) | \n",
    "        df['REMARKS'].str.contains('voltage', case=False, na=False)\n",
    "    )\n",
    "]\n",
    "combined_filter1"
   ]
  },
  {
   "cell_type": "code",
   "execution_count": null,
   "id": "10",
   "metadata": {},
   "outputs": [],
   "source": [
    "combined_filter2 = df[\n",
    "    (df['RAW WATER FLOW IN m3/h'] == 0) & \n",
    "    (df['CLEAR WATER PUMPING FLOW m3/h'] != 0) & \n",
    "    (\n",
    "        df['REMARKS'].str.contains('power', case=False, na=False) | \n",
    "        df['REMARKS'].str.contains('failure', case=False, na=False) | \n",
    "        df['REMARKS'].str.contains('voltage', case=False, na=False)\n",
    "    )\n",
    "]\n",
    "combined_filter2"
   ]
  },
  {
   "cell_type": "code",
   "execution_count": null,
   "id": "11",
   "metadata": {},
   "outputs": [],
   "source": [
    "combined_filter3 = df[\n",
    "    (df['RAW WATER FLOW IN m3/h'] != 0) & \n",
    "    (df['CLEAR WATER PUMPING FLOW m3/h'] == 0) & \n",
    "    (\n",
    "        df['REMARKS'].str.contains('power', case=False, na=False) | \n",
    "        df['REMARKS'].str.contains('failure', case=False, na=False) | \n",
    "        df['REMARKS'].str.contains('voltage', case=False, na=False)\n",
    "    )\n",
    "]\n",
    "combined_filter3"
   ]
  },
  {
   "cell_type": "code",
   "execution_count": null,
   "id": "12",
   "metadata": {},
   "outputs": [],
   "source": [
    "'power failure at intake',\n",
    "'power failur at intake and wtp',\n",
    "'Pumping stopped due to power failure at intake',\n",
    "'Power failure @ intake',\n",
    "'power failure at 7.28 to 7.36 pm',\n",
    "'Permitted power failure.',\n",
    "'power failure'\n",
    "'power failure at wtp 6.03 to6.40am'\n",
    "'power failur'\n",
    "'power failuire at intake'\n",
    "'power failed @9.45 to 2.25',\n",
    "'Pumping Stoped Due to permitted Power failure at intake'\n",
    "'voltage fluctation at intake'\n",
    "'permitted power failure at Intake'\n",
    "'Power Failure at Intake'\n",
    "'Power failure at WTP'\n",
    "'Power failure at Intake', \n",
    "'Power failure at intake',\n",
    "'POWER FAILURE',\n",
    "'Power failure at intakeand WTP'\n",
    "'permitted power failure'\n",
    "'informed power failure at'\n",
    "'Power failure',\n",
    "'PERMITTED POWER', \n",
    "'FAILURE AT WTP'\n",
    "'Power Failure at intake', \n",
    "'Power Failure'\n",
    "'under voltage'"
   ]
  }
 ],
 "metadata": {
  "kernelspec": {
   "display_name": "Python 3 (ipykernel)",
   "language": "python",
   "name": "python3"
  },
  "language_info": {
   "codemirror_mode": {
    "name": "ipython",
    "version": 3
   },
   "file_extension": ".py",
   "mimetype": "text/x-python",
   "name": "python",
   "nbconvert_exporter": "python",
   "pygments_lexer": "ipython3",
   "version": "3.11.5"
  }
 },
 "nbformat": 4,
 "nbformat_minor": 5
}

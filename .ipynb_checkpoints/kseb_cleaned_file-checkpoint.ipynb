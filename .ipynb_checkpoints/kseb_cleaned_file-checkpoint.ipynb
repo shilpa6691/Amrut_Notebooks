{
 "cells": [
  {
   "cell_type": "code",
   "execution_count": null,
   "id": "0",
   "metadata": {},
   "outputs": [],
   "source": [
    "import pandas as pd\n",
    "import plotly.express as px\n",
    "import matplotlib.pyplot as plt\n",
    "import seaborn as sns\n",
    "import numpy as np\n",
    "import plotly.graph_objects as go\n",
    "import plotly.offline as pyo\n",
    "from plotly.subplots import make_subplots\n",
    "from sklearn.linear_model import LinearRegression\n",
    "from scipy import stats\n",
    "df = pd.read_csv('11kV bill_jica93.csv')\n",
    "df"
   ]
  },
  {
   "cell_type": "code",
   "execution_count": null,
   "id": "1",
   "metadata": {},
   "outputs": [],
   "source": [
    "#Loading dataset"
   ]
  },
  {
   "cell_type": "code",
   "execution_count": null,
   "id": "2",
   "metadata": {},
   "outputs": [],
   "source": [
    "df.columns"
   ]
  },
  {
   "cell_type": "code",
   "execution_count": null,
   "id": "3",
   "metadata": {},
   "outputs": [],
   "source": [
    "df1=df[['MD Avg (kVA)', 'Avg_Consumption (kWh)',\n",
    "       'Units_kWh', 'Z1 (kWh)', 'Z2 (kWh)', 'Z3 (kWh)',\n",
    "       'Z1 (kVAh)', 'Z2 (kVAh)','Z3 (kVAh)', \n",
    "        'Z1 (Demand kVA)', 'Z2 (Demand kVA)', 'Z3 (Demand kVA)',\n",
    "       'Energy Charge (Rs)', 'PF incentive/penalty (Rs)']]"
   ]
  },
  {
   "cell_type": "code",
   "execution_count": null,
   "id": "4",
   "metadata": {},
   "outputs": [],
   "source": [
    "plt.figure(figsize=(20,15))\n",
    "sns.heatmap(df1.corr(),vmin = -0.99,vmax = 0.99,cmap='YlGnBu',linewidths =0.1,annot=True)"
   ]
  },
  {
   "cell_type": "code",
   "execution_count": null,
   "id": "5",
   "metadata": {},
   "outputs": [],
   "source": [
    "df = df[df.Month.notna()]"
   ]
  },
  {
   "cell_type": "code",
   "execution_count": null,
   "id": "6",
   "metadata": {},
   "outputs": [],
   "source": [
    "# Select only numeric columns for the rolling operation\n",
    "numeric_columns = df.select_dtypes(include=['float64', 'int64'])\n",
    "\n",
    "# Calculate the rolling mean over a window of 3 periods \n",
    "rolling_mean = numeric_columns.rolling(window=3, min_periods=1).mean()\n",
    "\n",
    "# Fill NaN values in the numeric columns with their corresponding rolling mean values\n",
    "df[numeric_columns.columns] = df[numeric_columns.columns].fillna(rolling_mean)\n",
    "df"
   ]
  },
  {
   "cell_type": "code",
   "execution_count": null,
   "id": "7",
   "metadata": {},
   "outputs": [],
   "source": [
    "df.Year = df.Year.astype(int).astype(str)"
   ]
  },
  {
   "cell_type": "code",
   "execution_count": null,
   "id": "8",
   "metadata": {},
   "outputs": [],
   "source": [
    "df['Demand factor'] = df['Max_demand (kVA)'] / df['Connected Load (kW)']\n",
    "df['Utilization factor'] = df['Max_demand (kVA)']/ df['CD (kVA)']"
   ]
  },
  {
   "cell_type": "code",
   "execution_count": null,
   "id": "9",
   "metadata": {},
   "outputs": [],
   "source": [
    "# Convert the 'Month' column from month names to numeric month values\n",
    "df['Month'] = pd.to_datetime(df['Month'], format='%B').dt.month\n",
    "\n",
    "# Now, proceed with your existing code\n",
    "df['DateTime'] = pd.to_datetime(df[['Year', 'Month']].assign(Day=1))\n",
    "df['HoursInMonth'] = df['DateTime'].dt.days_in_month * 24\n",
    "df['Load Factor'] = df['Units_kWh'] / (df['Max_demand (kVA)'] * df['PF Avg'] * df['HoursInMonth'])\n",
    "\n",
    "df\n"
   ]
  },
  {
   "cell_type": "code",
   "execution_count": null,
   "id": "10",
   "metadata": {},
   "outputs": [],
   "source": [
    "# Convert numeric month back to month name\n",
    "df['Month'] = pd.to_datetime(df['Month'], format='%m').dt.strftime('%B')\n",
    "df\n"
   ]
  },
  {
   "cell_type": "code",
   "execution_count": null,
   "id": "11",
   "metadata": {},
   "outputs": [],
   "source": [
    "df=df[['Month', 'Year', 'DateTime','CD (kVA)', '75% CD (kVA)', '130% CD (kVA)',\n",
    "       'Connected Load (kW)', 'MD Avg (kVA)', 'Avg_Consumption (kWh)',\n",
    "       'Units_kWh', 'PF Avg', 'Z1 (kWh)', 'Z2 (kWh)', 'Z3 (kWh)',\n",
    "       'Z1 kVArh (lag)', 'Z2 kVArh (lag)', 'Z3 kVArh (lag)', 'Z1 kVArh (lead)',\n",
    "       'Z2 kVArh (lead)', 'Z3 kVArh (lead)', 'Z1 (kVAh)', 'Z2 (kVAh)',\n",
    "       'Z3 (kVAh)', 'Z1 (Demand kVA)', 'Z2 (Demand kVA)', 'Z3 (Demand kVA)',\n",
    "       'Max_demand (kVA)', 'Energy Charge (Rs)', 'PF incentive/penalty (Rs)',\n",
    "       'Demand factor', 'Utilization factor',\n",
    "       'Load Factor']]\n",
    "df"
   ]
  },
  {
   "cell_type": "code",
   "execution_count": null,
   "id": "12",
   "metadata": {},
   "outputs": [],
   "source": [
    "df.to_excel('kseb_new_columns_added.xlsx',index=False)"
   ]
  },
  {
   "cell_type": "code",
   "execution_count": null,
   "id": "13",
   "metadata": {},
   "outputs": [],
   "source": [
    "import plotly.graph_objects as go\n",
    "from plotly.subplots import make_subplots\n",
    "\n",
    "# Ensure 'Month' is in the correct order if it's not numeric (optional)\n",
    "df['Month'] = pd.Categorical(df['Month'], categories=['January', 'February', 'March', 'April', 'May', \n",
    "                                                      'June', 'July', 'August', 'September', 'October', \n",
    "                                                      'November', 'December'], ordered=True)\n",
    "\n",
    "# Create subplots\n",
    "fig = make_subplots(rows=3, cols=1, shared_xaxes=True, \n",
    "                    subplot_titles=('Demand Factor', 'Utilization Factor', 'Load Factor'))\n",
    "\n",
    "# Add Demand Factor plot\n",
    "fig.add_trace(\n",
    "    go.Scatter(x=df['Month'], y=df['Demand factor'], mode='lines+markers', name='Demand Factor'),\n",
    "    row=1, col=1\n",
    ")\n",
    "\n",
    "# Add Utilization Factor plot\n",
    "fig.add_trace(\n",
    "    go.Scatter(x=df['Month'], y=df['Utilization factor'], mode='lines+markers', name='Utilization Factor'),\n",
    "    row=2, col=1\n",
    ")\n",
    "\n",
    "# Add Load Factor plot\n",
    "fig.add_trace(\n",
    "    go.Scatter(x=df['Month'], y=df['Load Factor'], mode='lines+markers', name='Load Factor'),\n",
    "    row=3, col=1\n",
    ")\n",
    "\n",
    "# Update layout\n",
    "fig.update_layout(\n",
    "    title='Factors Over Months',\n",
    "    xaxis_title='Month',\n",
    "    yaxis_title='Value',\n",
    "    template='plotly_dark'  \n",
    ")\n",
    "\n",
    "fig.show()\n"
   ]
  },
  {
   "cell_type": "code",
   "execution_count": null,
   "id": "14",
   "metadata": {},
   "outputs": [],
   "source": [
    "import plotly.graph_objects as go\n",
    "from plotly.subplots import make_subplots\n",
    "\n",
    "# Create subplots\n",
    "fig = make_subplots(rows=3, cols=1, shared_xaxes=True, \n",
    "                    subplot_titles=('Demand Factor', 'Utilization Factor', 'Load Factor'))\n",
    "\n",
    "# Add Demand Factor plot\n",
    "fig.add_trace(\n",
    "    go.Scatter(x=df['DateTime'], y=df['Demand factor'], mode='lines+markers', name='Demand Factor'),\n",
    "    row=1, col=1\n",
    ")\n",
    "\n",
    "# Add Utilization Factor plot\n",
    "fig.add_trace(\n",
    "    go.Scatter(x=df['DateTime'], y=df['Utilization factor'], mode='lines+markers', name='Utilization Factor'),\n",
    "    row=2, col=1\n",
    ")\n",
    "\n",
    "# Add Load Factor plot\n",
    "fig.add_trace(\n",
    "    go.Scatter(x=df['DateTime'], y=df['Load Factor'], mode='lines+markers', name='Load Factor'),\n",
    "    row=3, col=1\n",
    ")\n",
    "\n",
    "# Update layout\n",
    "fig.update_layout(\n",
    "    title='Factors Over Time',\n",
    "    xaxis_title='DateTime',\n",
    "    yaxis_title='Value',\n",
    "    template='plotly_dark'  \n",
    ")\n",
    "\n",
    "# Save the figure as an HTML file\n",
    "fig.write_html('factors_over_time.html')\n",
    "\n",
    "fig.show()\n"
   ]
  },
  {
   "cell_type": "code",
   "execution_count": null,
   "id": "15",
   "metadata": {},
   "outputs": [],
   "source": [
    "df['Month'] = df['Month'].astype(str)"
   ]
  },
  {
   "cell_type": "code",
   "execution_count": null,
   "id": "16",
   "metadata": {},
   "outputs": [],
   "source": [
    "df['Standardized_Date'] = df['Month']+'-'+df['Year']\n",
    "df.head()"
   ]
  },
  {
   "cell_type": "code",
   "execution_count": null,
   "id": "17",
   "metadata": {},
   "outputs": [],
   "source": [
    "df['Standardized_Date'] = pd.to_datetime(df['Standardized_Date'])+ pd.offsets.MonthEnd(0)\n",
    "df.head()"
   ]
  },
  {
   "cell_type": "code",
   "execution_count": null,
   "id": "18",
   "metadata": {},
   "outputs": [],
   "source": [
    "df.to_excel('final_ebill.xlsx',index=False)"
   ]
  }
 ],
 "metadata": {
  "kernelspec": {
   "display_name": "Python 3 (ipykernel)",
   "language": "python",
   "name": "python3"
  },
  "language_info": {
   "codemirror_mode": {
    "name": "ipython",
    "version": 3
   },
   "file_extension": ".py",
   "mimetype": "text/x-python",
   "name": "python",
   "nbconvert_exporter": "python",
   "pygments_lexer": "ipython3",
   "version": "3.11.5"
  }
 },
 "nbformat": 4,
 "nbformat_minor": 5
}

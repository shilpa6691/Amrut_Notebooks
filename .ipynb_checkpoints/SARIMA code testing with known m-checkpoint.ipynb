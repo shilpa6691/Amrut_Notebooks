{
 "cells": [
  {
   "cell_type": "code",
   "execution_count": null,
   "id": "0",
   "metadata": {},
   "outputs": [],
   "source": [
    "import pandas as pd\n",
    "import numpy as np\n",
    "import matplotlib.pyplot as plt\n",
    "from statsmodels.graphics.tsaplots import plot_acf, plot_pacf\n"
   ]
  },
  {
   "cell_type": "code",
   "execution_count": null,
   "id": "1",
   "metadata": {},
   "outputs": [],
   "source": [
    "from pmdarima import auto_arima\n",
    "from statsmodels.tsa.stattools import adfuller\n",
    "from statsmodels.tsa.arima.model import ARIMA,ARIMAResults\n",
    "from sklearn.metrics import mean_squared_error,mean_absolute_percentage_error\n",
    "from statsmodels.tools.eval_measures import rmse\n",
    "from statsmodels.tsa.statespace.sarimax import SARIMAX"
   ]
  },
  {
   "cell_type": "code",
   "execution_count": null,
   "id": "2",
   "metadata": {},
   "outputs": [],
   "source": [
    "#Loading dataset"
   ]
  },
  {
   "cell_type": "code",
   "execution_count": null,
   "id": "3",
   "metadata": {},
   "outputs": [],
   "source": [
    "df=pd.read_csv(\"co2_mm_mlo.csv\")"
   ]
  },
  {
   "cell_type": "code",
   "execution_count": null,
   "id": "4",
   "metadata": {},
   "outputs": [],
   "source": [
    "df.dtypes"
   ]
  },
  {
   "cell_type": "code",
   "execution_count": null,
   "id": "5",
   "metadata": {},
   "outputs": [],
   "source": [
    "df.head()"
   ]
  },
  {
   "cell_type": "code",
   "execution_count": null,
   "id": "6",
   "metadata": {},
   "outputs": [],
   "source": [
    "df['Date'] = pd.to_datetime({'year':df['year'],'month':df['month'],'day':1})\n",
    "df.head()\n",
    "# df=df[['Date','interpolated']]"
   ]
  },
  {
   "cell_type": "code",
   "execution_count": null,
   "id": "7",
   "metadata": {},
   "outputs": [],
   "source": [
    "df=df[['Date','interpolated']]\n",
    "df = df.set_index('Date')\n",
    "df.head()"
   ]
  },
  {
   "cell_type": "code",
   "execution_count": null,
   "id": "8",
   "metadata": {},
   "outputs": [],
   "source": [
    "# df.index.freq = 'MS'\n",
    "# df.head()"
   ]
  },
  {
   "cell_type": "code",
   "execution_count": null,
   "id": "9",
   "metadata": {},
   "outputs": [],
   "source": [
    "# df_monthly = df.resample('M').mean()\n",
    "df.index.freq = 'MS'"
   ]
  },
  {
   "cell_type": "code",
   "execution_count": null,
   "id": "10",
   "metadata": {},
   "outputs": [],
   "source": [
    "plt.figure(figsize=(12, 6))\n",
    "plt.plot(df['interpolated'])\n",
    "\n",
    "plt.show()"
   ]
  },
  {
   "cell_type": "code",
   "execution_count": null,
   "id": "11",
   "metadata": {},
   "outputs": [],
   "source": [
    "# plot_acf(df['interpolated'], lags=200)\n",
    "# plt.title('Autocorrelation Function (ACF)')\n",
    "# plt.show()"
   ]
  },
  {
   "cell_type": "code",
   "execution_count": null,
   "id": "12",
   "metadata": {},
   "outputs": [],
   "source": [
    "# from scipy.signal import periodogram\n",
    "\n",
    "# # Calculate the periodogram\n",
    "# frequencies, spectrum = periodogram(df['interpolated'], scaling='spectrum')\n",
    "\n",
    "# # Plot the periodogram\n",
    "# plt.figure(figsize=(12, 6))\n",
    "# plt.plot(frequencies, spectrum)\n",
    "# plt.title('Periodogram')\n",
    "# plt.xlabel('Frequency')\n",
    "# plt.ylabel('Power Spectrum')\n",
    "# plt.show()\n"
   ]
  },
  {
   "cell_type": "markdown",
   "id": "13",
   "metadata": {},
   "source": [
    "# Fourier Transform"
   ]
  },
  {
   "cell_type": "code",
   "execution_count": null,
   "id": "14",
   "metadata": {},
   "outputs": [],
   "source": [
    "# from numpy.fft import fft\n",
    "\n",
    "# # Perform Fourier transform\n",
    "# fft_result = fft(df)\n",
    "\n",
    "# # Find the frequency with the highest magnitude\n",
    "# frequencies = np.fft.fftfreq(len(fft_result))\n",
    "# dominant_frequency = abs(frequencies[np.argmax(np.abs(fft_result))])\n",
    "\n",
    "# # Calculate the period corresponding to the dominant frequency\n",
    "# seasonal_period = int(1 / dominant_frequency)\n",
    "\n",
    "# print(f\"Suggested seasonal period: {seasonal_period}\")\n"
   ]
  },
  {
   "cell_type": "code",
   "execution_count": null,
   "id": "15",
   "metadata": {},
   "outputs": [],
   "source": [
    "from pmdarima.arima.utils import nsdiffs\n",
    "\n",
    "# load lynx\n",
    "# lynx = load_lynx()\n",
    "\n",
    "# estimate number of seasonal differences using a Canova-Hansen test\n",
    "D = nsdiffs(df,m=12,\n",
    "            test='ch')  # -> 0\n",
    "D"
   ]
  },
  {
   "cell_type": "code",
   "execution_count": null,
   "id": "16",
   "metadata": {},
   "outputs": [],
   "source": [
    "SARIMA_model = auto_arima(df['interpolated'], start_p=0, start_q=0,\n",
    "                         test='adf', \n",
    "                         m=12, #12 is the frequncy of the cycle\n",
    "                         start_P=0, \n",
    "                         seasonal=True, #set to seasonal\n",
    "                         trace=True,\n",
    "                         error_action='ignore',  \n",
    "                         suppress_warnings=True, \n",
    "                         stepwise=True)"
   ]
  },
  {
   "cell_type": "code",
   "execution_count": null,
   "id": "17",
   "metadata": {},
   "outputs": [],
   "source": [
    "class TSA_seasonal:\n",
    "    def __init__(self, df):\n",
    "        self.df = df\n",
    "\n",
    "    def adf_test(self, valcol):\n",
    "        \"\"\"\n",
    "        Pass in a time series and an optional title, returns an ADF report\n",
    "        \"\"\"\n",
    "        result = adfuller(self.df[valcol].dropna(), autolag='AIC')  # .dropna() handles differenced data\n",
    "\n",
    "        labels = ['ADF test statistic', 'p-value', '# lags used', '# observations']\n",
    "        out = pd.Series(result[0:4], index=labels)\n",
    "\n",
    "        for key, val in result[4].items():\n",
    "            out[f'critical value ({key})'] = val\n",
    "\n",
    "        if result[1] <= 0.05:\n",
    "            state = \"Stationary\"\n",
    "        else:\n",
    "            state = \"Non-stationary\"\n",
    "        return state\n",
    "\n",
    "    def determine_SARIMA_order(self, valcol):\n",
    "        stepwise_fit = auto_arima(self.df[valcol], seasonal=True, m=12,\n",
    "#                               start_p=0, start_q=0,\n",
    "#                               start_P=0, start_Q=0,\n",
    "                                  error_action='ignore',  # we don't want to know if an order does not work\n",
    "                                  suppress_warnings=True,  # we don't want convergence warnings\n",
    "                                  stepwise=True)  # set to stepwise\n",
    "        best_order = stepwise_fit.get_params().get('order')\n",
    "        best_seasonal_order = stepwise_fit.get_params().get('seasonal_order')\n",
    "        print('The best seasonal order is {}'.format(best_seasonal_order))\n",
    "        print('The best order is {}'.format(best_order))\n",
    "        return best_order, best_seasonal_order\n",
    "\n",
    "    def fit_model(self, valcol):\n",
    "    # Split the data into train, test, and validation sets\n",
    "        train = self.df[valcol][:len(self.df[valcol]) - 12]\n",
    "        test = self.df[valcol][len(self.df[valcol]) - 12:len(self.df[valcol]) - 8]\n",
    "        val = self.df[valcol][len(self.df[valcol]) - 8:]\n",
    "\n",
    "        # Determine the best SARIMA order\n",
    "        best_order, best_seasonal_order = self.determine_SARIMA_order(valcol)\n",
    "\n",
    "        # Fit the SARIMA model on the training data\n",
    "        model = SARIMAX(train, order=best_order, seasonal_order=best_seasonal_order)\n",
    "        results = model.fit()\n",
    "\n",
    "        # Generate predictions for the test set\n",
    "        predictions = results.predict(start=len(train), end=len(train) + len(test) - 1)\n",
    "\n",
    "        # Generate predictions for the validation set\n",
    "        predictions_val = results.predict(start=len(train) + len(test), end=len(train) + len(test) + len(val) - 1)\n",
    "\n",
    "        # Calculate error metrics for the test set\n",
    "        error1 = mean_squared_error(test, predictions)\n",
    "        error2 = mean_squared_error(test, predictions, squared=False)  # RMSE\n",
    "        error3 = mean_absolute_percentage_error(test, predictions)\n",
    "        accuracy = (1 - error3) * 100\n",
    "        print(f'MSE Error: {error1:11.10}')\n",
    "        print(f'RMSE Error: {error2:11.10}')\n",
    "        print(f'MAPE Error: {error3:11.10}')\n",
    "        print(f'Accuracy: {accuracy:11.10}')\n",
    "        return predictions_val\n",
    "\n",
    "    def full_data_model(self, valcol):\n",
    "        best_order, best_seasonal_order = self.determine_SARIMA_order(valcol)\n",
    "        model = SARIMAX(self.df[valcol], order=best_order, seasonal_order=best_seasonal_order)\n",
    "        results = model.fit()\n",
    "        fcast = results.forecast(steps=8).round(2)  # Forecast 4 steps ahead\n",
    "#         print(fcast)\n",
    "#         fcast_index = pd.date_range(start=self.df.index[-1], periods=4 + 1, freq='M')[1:]  # Assuming monthly data\n",
    "        DF_fcast = pd.DataFrame({valcol: fcast})\n",
    "        DF_fcast['Type'] = 'Predicted'\n",
    "        print(DF_fcast)\n",
    "        DF = pd.DataFrame(self.df[valcol])\n",
    "        DF['Type'] = 'Actual'\n",
    "        # Concatenate original data and forecast data\n",
    "        combined_DF = pd.concat([DF, DF_fcast])\n",
    "        combined_DF = combined_DF.reset_index().rename(columns={'index':'Date'})\n",
    "        print(combined_DF)\n",
    "        DF_val = pd.DataFrame(c2.fit_model(valcol))\n",
    "        DF_val = DF_val.reset_index()\n",
    "        DF_val = DF_val.rename(columns={'index':'Date','predicted_mean':'Validation'})\n",
    "#         combined_DF = combined_DF.rename(columns={'index':'Date'})\n",
    "        print(DF_val)\n",
    "        print(combined_DF)\n",
    "#         final_DF =  final_DF.merge(DF_val, on='DateTime',how='outer')\n",
    "        final_DF =  combined_DF.merge(DF_val, on='Date',how='outer')\n",
    "        final_DF['Date'] = final_DF['Date'].astype('str')\n",
    "#         print(combined_df)\n",
    "        return final_DF\n",
    "    \n",
    "    \n",
    "c2 = TSA_seasonal(df)\n",
    "c2.adf_test(\"interpolated\")\n",
    "c2.determine_SARIMA_order(\"interpolated\")\n",
    "c2.fit_model(\"interpolated\")\n",
    "c2.full_data_model(\"interpolated\")"
   ]
  },
  {
   "cell_type": "code",
   "execution_count": null,
   "id": "18",
   "metadata": {},
   "outputs": [],
   "source": [
    "predicted=406.5991747, expected=406.81\n",
    "predicted=407.8151717, expected=407.96\n",
    "predicted=408.5703387, expected=408.32\n",
    "predicted=409.4798568, expected=409.41\n",
    "predicted=411.0384935, expected=410.24\n",
    "predicted=411.6427265, expected=411.24\n",
    "predicted=410.8637093, expected=410.79\n",
    "predicted=409.1742299, expected=408.71\n",
    "predicted=407.0741681, expected=406.99\n",
    "predicted=405.624008 , expected=405.51\n",
    "predicted=405.894226 , expected=406.0\n",
    "predicted=407.4276173, expected=408.02"
   ]
  }
 ],
 "metadata": {
  "kernelspec": {
   "display_name": "Python 3 (ipykernel)",
   "language": "python",
   "name": "python3"
  },
  "language_info": {
   "codemirror_mode": {
    "name": "ipython",
    "version": 3
   },
   "file_extension": ".py",
   "mimetype": "text/x-python",
   "name": "python",
   "nbconvert_exporter": "python",
   "pygments_lexer": "ipython3",
   "version": "3.11.5"
  }
 },
 "nbformat": 4,
 "nbformat_minor": 5
}

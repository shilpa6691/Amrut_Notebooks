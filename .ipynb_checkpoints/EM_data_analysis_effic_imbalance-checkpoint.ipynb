{
 "cells": [
  {
   "cell_type": "code",
   "execution_count": null,
   "id": "0",
   "metadata": {},
   "outputs": [],
   "source": [
    "import pandas as pd\n",
    "import plotly.express as px\n",
    "import matplotlib.pyplot as plt\n",
    "import seaborn as sns\n",
    "import numpy as np\n",
    "import plotly.graph_objects as go\n",
    "import plotly.offline as pyo\n",
    "from plotly.subplots import make_subplots\n",
    "from scipy import stats"
   ]
  },
  {
   "cell_type": "code",
   "execution_count": null,
   "id": "1",
   "metadata": {},
   "outputs": [],
   "source": [
    "#Loading dataset"
   ]
  },
  {
   "cell_type": "code",
   "execution_count": null,
   "id": "2",
   "metadata": {},
   "outputs": [],
   "source": [
    "# df=pd.read_parquet('test_11_10.parquet')\n",
    "df = pd.read_csv('Energy_meter_data.csv')\n",
    "df['Time'] = pd.to_datetime(df['Time'])\n",
    "df"
   ]
  },
  {
   "cell_type": "code",
   "execution_count": null,
   "id": "3",
   "metadata": {},
   "outputs": [],
   "source": [
    "check = ['Phase1_I', 'Phase2_I', 'Phase3_I', 'Phase1_V_RY', 'Phase2_V_YB', 'Phase3_V_BR']\n",
    "df['Status'] = (df[check] >= 10).all(axis=1)"
   ]
  },
  {
   "cell_type": "code",
   "execution_count": null,
   "id": "4",
   "metadata": {},
   "outputs": [],
   "source": [
    "df.rename(columns={'Phase1_W':'Phase1_kW','Phase2_W':'Phase_kW', 'Phase3_W':'Phase3_kW', 'W':'kW'})\n",
    "list1 = ['Phase1_W', 'Phase2_W', 'Phase3_W', 'W','VA']\n",
    "list2 =['Phase1_W','Phase2_W','Phase3_W','W','PF']\n",
    "list_negative = ['Phase1_pf','Phase2_pf','Phase3_pf','Phase1_W','Phase2_W','Phase3_W','PF']\n",
    "df[list1] = df[list1].apply(lambda x: x / 1000)\n",
    "df[list2] = df[list2].apply(lambda x: x *-1)\n",
    "#df[list_pf] = df[list_pf].apply(lambda x: x.where(x < 0, -1*x))\n",
    "#df[list_negative] = df[list_negative].apply(lambda x: x.where(x >= 0, -x))\n",
    "df[list_negative] = df[list_negative].apply(lambda x: x.where(x >= 0.000000, abs(x)))"
   ]
  },
  {
   "cell_type": "code",
   "execution_count": null,
   "id": "5",
   "metadata": {},
   "outputs": [],
   "source": [
    "def calculate_voltage_imbalance(row):\n",
    "    ##### Pump considered off when Phase current and volatge = 0\n",
    "    currents_volt = [row['Phase1_I'], row['Phase2_I'], row['Phase3_I'],row['Phase1_V_RY'], row['Phase2_V_YB'], row['Phase3_V_BR']]\n",
    "    if all(i != 0 for i in currents_volt): \n",
    "        voltages = [row['Phase1_V_RY'], row['Phase2_V_YB'], row['Phase3_V_BR']]\n",
    "  #  if all(v != 0 for v in voltages):  # not applicable hen the Pump is off\n",
    "        avg_voltage = sum(voltages) / len(voltages)\n",
    "        max_deviation = max(voltages) - avg_voltage\n",
    "        voltage_imbalance = (max_deviation / avg_voltage) * 100\n",
    "        return voltage_imbalance\n",
    "    else:\n",
    "        return None\n"
   ]
  },
  {
   "cell_type": "code",
   "execution_count": null,
   "id": "6",
   "metadata": {},
   "outputs": [],
   "source": [
    "def calculate_current_imbalance(row):\n",
    "    currents = [row['Phase1_I'], row['Phase2_I'], row['Phase3_I']]\n",
    "    if all(i != 0 for i in currents):  # doesnot apply when the pump is off\n",
    "        avg_current = sum(currents) / len(currents)\n",
    "        max_current_deviation = max(currents)-avg_current\n",
    "        current_imbalance = ((max_current_deviation) / avg_current) * 100\n",
    "        return current_imbalance\n",
    "    else:\n",
    "        return None"
   ]
  },
  {
   "cell_type": "code",
   "execution_count": null,
   "id": "7",
   "metadata": {},
   "outputs": [],
   "source": [
    "df['Voltage_Imbalance_%'] = df.apply(calculate_voltage_imbalance, axis=1)\n",
    "df['Current_Imbalance_%'] = df.apply(calculate_current_imbalance, axis=1)\n",
    "df"
   ]
  },
  {
   "cell_type": "code",
   "execution_count": null,
   "id": "8",
   "metadata": {},
   "outputs": [],
   "source": [
    "df.set_index('Time', inplace=True)"
   ]
  },
  {
   "cell_type": "code",
   "execution_count": null,
   "id": "9",
   "metadata": {},
   "outputs": [],
   "source": [
    "df.dtypes"
   ]
  },
  {
   "cell_type": "code",
   "execution_count": null,
   "id": "10",
   "metadata": {},
   "outputs": [],
   "source": [
    "df[['MeterId','W']]"
   ]
  },
  {
   "cell_type": "code",
   "execution_count": null,
   "id": "11",
   "metadata": {},
   "outputs": [],
   "source": [
    "def meter_id_correction(row):\n",
    "    if row['MeterId'] == 1:\n",
    "        return row['Phase1_W']+row['Phase2_W']+row['Phase3_W']\n",
    "    else:\n",
    "        return row['W']"
   ]
  },
  {
   "cell_type": "code",
   "execution_count": null,
   "id": "12",
   "metadata": {},
   "outputs": [],
   "source": [
    "df['W'] = df.apply(meter_id_correction,axis=1)"
   ]
  },
  {
   "cell_type": "code",
   "execution_count": null,
   "id": "13",
   "metadata": {},
   "outputs": [],
   "source": [
    "df[['MeterId','W']]"
   ]
  },
  {
   "cell_type": "code",
   "execution_count": null,
   "id": "14",
   "metadata": {},
   "outputs": [],
   "source": [
    "head= 39 ## m\n",
    "flow_rate = 932/3600 ## m3/s\n",
    "density = 1000 ### kg/m3\n",
    "g = 9.8 ## m/s2\n",
    "\n",
    "P_out= (density*g*flow_rate*head)/1000    # power in kW"
   ]
  },
  {
   "cell_type": "code",
   "execution_count": null,
   "id": "15",
   "metadata": {},
   "outputs": [],
   "source": [
    "df['Efficiency'] = (P_out/df['W'])*100\n",
    "df"
   ]
  },
  {
   "cell_type": "code",
   "execution_count": null,
   "id": "16",
   "metadata": {},
   "outputs": [],
   "source": [
    "df = df[df['Status']!=False]"
   ]
  },
  {
   "cell_type": "code",
   "execution_count": null,
   "id": "17",
   "metadata": {},
   "outputs": [],
   "source": [
    "df.shape"
   ]
  },
  {
   "cell_type": "code",
   "execution_count": null,
   "id": "18",
   "metadata": {},
   "outputs": [],
   "source": [
    "df.isna().sum()"
   ]
  },
  {
   "cell_type": "code",
   "execution_count": null,
   "id": "19",
   "metadata": {},
   "outputs": [],
   "source": [
    "df[df['Voltage_Imbalance_%'].isna()]"
   ]
  },
  {
   "cell_type": "code",
   "execution_count": null,
   "id": "20",
   "metadata": {},
   "outputs": [],
   "source": [
    "df.iloc[:,:19]"
   ]
  },
  {
   "cell_type": "code",
   "execution_count": null,
   "id": "21",
   "metadata": {},
   "outputs": [],
   "source": [
    "df.columns"
   ]
  },
  {
   "cell_type": "code",
   "execution_count": null,
   "id": "22",
   "metadata": {},
   "outputs": [],
   "source": [
    "df[df.index>='2024-10-13']"
   ]
  },
  {
   "cell_type": "code",
   "execution_count": null,
   "id": "23",
   "metadata": {},
   "outputs": [],
   "source": [
    "meter_dfs = {}\n",
    "for i in df['MeterId'].unique():\n",
    "    meter_dfs[f'Pump_{i}'] = df[df['MeterId'] == i][[#'Time',\n",
    "         'Phase1_W', 'Phase1_I', 'Phase1_V_RY', 'Phase1_pf',\n",
    "        'Phase2_W', 'Phase2_I', 'Phase2_V_YB', 'Phase2_pf',\n",
    "        'Phase3_W', 'Phase3_I', 'Phase3_V_BR', 'Phase3_pf',\n",
    "        'W', 'VA', 'PF', 'KWh_Im', 'KWh_Ex', 'KVAh', 'Lh','Status','Voltage_Imbalance_%','Current_Imbalance_%',\n",
    "        'Efficiency'\n",
    "    ]]"
   ]
  },
  {
   "cell_type": "code",
   "execution_count": null,
   "id": "24",
   "metadata": {},
   "outputs": [],
   "source": [
    "pump_1_df = meter_dfs['Pump_1']\n",
    "pump_2_df = meter_dfs['Pump_2']\n",
    "pump_3_df = meter_dfs['Pump_3']\n",
    "pump_5_df = meter_dfs['Pump_5']\n",
    "pump_6_df = meter_dfs['Pump_6']"
   ]
  },
  {
   "cell_type": "code",
   "execution_count": null,
   "id": "25",
   "metadata": {},
   "outputs": [],
   "source": [
    "df1= pump_1_df[pump_1_df['Status']!=False]\n",
    "df2= pump_2_df[pump_2_df['Status']!=False]\n",
    "df3= pump_3_df[pump_3_df['Status']!=False]\n",
    "df5= pump_5_df[pump_5_df['Status']!=False]\n",
    "df6= pump_6_df[pump_6_df['Status']!=False]"
   ]
  },
  {
   "cell_type": "code",
   "execution_count": null,
   "id": "26",
   "metadata": {},
   "outputs": [],
   "source": [
    "df1.columns"
   ]
  },
  {
   "cell_type": "code",
   "execution_count": null,
   "id": "27",
   "metadata": {},
   "outputs": [],
   "source": [
    "# df1['Efficiency'] = (P_out/df1['W'])*100\n",
    "# df2['Efficiency'] = (P_out/df2['W'])*100\n",
    "# df3['Efficiency'] = (P_out/df3['W'])*100\n",
    "# df5['Efficiency'] = (P_out/df5['W'])*100\n",
    "# df6['Efficiency'] = (P_out/df6['W'])*100"
   ]
  },
  {
   "cell_type": "code",
   "execution_count": null,
   "id": "28",
   "metadata": {},
   "outputs": [],
   "source": [
    "fig = go.Figure()\n",
    "# dfs = [df1,df1,df1,df1,df1]\n",
    "# pump = ''\n",
    "# for i in dfs:\n",
    "#     if i == df1:\n",
    "#         pump = 'Pump 1'\n",
    "#     elif i == df1:\n",
    "#         pump = 'Pump 2'\n",
    "#     elif i == df1:\n",
    "#         pump = 'Pump 3'\n",
    "#     elif i == df1:\n",
    "#         pump = 'Pump 5'\n",
    "#     else:\n",
    "#         pump = 'Pump 6'\n",
    "# i = df1\n",
    "fig.add_trace(go.Scatter(\n",
    "    x=df1.index,\n",
    "    y=df1['Voltage_Imbalance_%'],\n",
    "    mode='lines+markers',\n",
    "    name='Voltage Imbalance_%',\n",
    "    line=dict(color='blue'),\n",
    "    marker=dict(size=5)\n",
    "))\n",
    "\n",
    "fig.add_trace(go.Scatter(\n",
    "    x=df1.index,\n",
    "    y=df1['Current_Imbalance_%'],\n",
    "    mode='lines+markers',\n",
    "    name='Current Imbalance_%',\n",
    "    line=dict(color='red'),\n",
    "    marker=dict(size=5)\n",
    "))\n",
    "\n",
    "fig.update_layout(\n",
    "    title=f'Variation of Current and Voltage Imbalances for Pump 1 Over Time',\n",
    "    xaxis_title='Time',\n",
    "    yaxis_title='Imbalance %',\n",
    "    legend_title='Legend',\n",
    "    template='plotly_white'\n",
    ")\n",
    "fig.update_yaxes(\n",
    "    range=[0, 12], \n",
    "    dtick=1         \n",
    ")\n",
    "\n",
    "\n",
    "fig.show()"
   ]
  },
  {
   "cell_type": "code",
   "execution_count": null,
   "id": "29",
   "metadata": {},
   "outputs": [],
   "source": [
    "# fig = go.Figure()\n",
    "\n",
    "# fig.add_trace(go.Scatter(\n",
    "#     x=df5.index,\n",
    "#     y=df5['Phase1_V_RY'],\n",
    "#     mode='lines+markers',\n",
    "#     name='Voltage RY',\n",
    "#     line=dict(color='red'),\n",
    "#     marker=dict(size=5)\n",
    "# ))\n",
    "\n",
    "\n",
    "# # fig.add_trace(go.Scatter(\n",
    "# #     x=df5['Time'],\n",
    "# #     y=df5['Phase2_V_YB'],\n",
    "# #     mode='lines+markers',\n",
    "# #     name='Current Imbalance',\n",
    "# #     line=dict(color='yellow'),\n",
    "# #     marker=dict(size=5)\n",
    "# # ))\n",
    "# # fig.add_trace(go.Scatter(\n",
    "# #     x=df5['Time'],\n",
    "# #     y=df5['Phase3_V_BR'],\n",
    "# #     mode='lines+markers',\n",
    "# #     name='Current Imbalance',\n",
    "# #     line=dict(color='blue'),\n",
    "# #     marker=dict(size=5)\n",
    "# # ))\n",
    "\n",
    "\n",
    "# fig.update_layout(\n",
    "#     title='Variation of Current and Voltage Imbalances Over Time',\n",
    "#     xaxis_title='Time',\n",
    "#     yaxis_title='Imbalance',\n",
    "#     legend_title='Legend',\n",
    "#     template='plotly_white'\n",
    "# )\n",
    "\n",
    "# fig.show()"
   ]
  },
  {
   "cell_type": "code",
   "execution_count": null,
   "id": "30",
   "metadata": {},
   "outputs": [],
   "source": [
    "fig = go.Figure()\n",
    "\n",
    "fig.add_trace(go.Scatter(\n",
    "    x=df1.index,\n",
    "    y=df1['PF'],\n",
    "    mode='lines+markers',\n",
    "#     line_shape='spline',\n",
    "    name='Voltage RY',\n",
    "    line=dict(color='red'),\n",
    "    marker=dict(size=5)\n",
    "))\n",
    "fig.update_layout(\n",
    "    title='Variation of PF for Pump 1 Over Time',\n",
    "    xaxis_title='Time',\n",
    "    yaxis_title='Power Factor',\n",
    "    legend_title='Legend',\n",
    "    template='plotly_white'\n",
    ")\n",
    "fig.update_yaxes(\n",
    "    range=[0.6, 1], \n",
    "    dtick=0.02         \n",
    ")\n",
    "\n",
    "\n",
    "fig.show()"
   ]
  },
  {
   "cell_type": "code",
   "execution_count": null,
   "id": "31",
   "metadata": {},
   "outputs": [],
   "source": [
    "# fig = go.Figure()\n",
    "\n",
    "# # Add a trace for Voltage Imbalance\n",
    "# fig.add_trace(go.Scatter(\n",
    "#     x=df6.index,\n",
    "#     y=df6['W'],\n",
    "#     mode='lines+markers',\n",
    "#     name='Voltage RY',\n",
    "#     line=dict(color='red'),\n",
    "#     marker=dict(size=5)\n",
    "# ))\n",
    "# fig.update_layout(\n",
    "#     title='Variation of Power of Pump6 Over Time',\n",
    "#     xaxis_title='Time',\n",
    "#     yaxis_title='Imbalance',\n",
    "#     legend_title='Legend',\n",
    "#     template='plotly_white'\n",
    "# )\n",
    "# fig.update_yaxes(\n",
    "#     range=[120, 150]\n",
    "# #     dtick=0.02         \n",
    "# )\n",
    "\n",
    "\n",
    "# fig.show()"
   ]
  },
  {
   "cell_type": "code",
   "execution_count": null,
   "id": "32",
   "metadata": {},
   "outputs": [],
   "source": [
    "fig = go.Figure()\n",
    "\n",
    "fig.add_trace(go.Scatter(\n",
    "    x=df6.index,\n",
    "    y=df6['Efficiency'],\n",
    "    mode='lines+markers',\n",
    " #   name='Voltage Imbalance_%',\n",
    "    line=dict(color='blue'),\n",
    "    marker=dict(size=5)\n",
    "))\n",
    "\n",
    "\n",
    "fig.update_layout(\n",
    "    title='Variation of Efficiency for Pump 6 Over Time',\n",
    "    xaxis_title='Time',\n",
    "    yaxis_title='Efficiency %',\n",
    "    legend_title='Legend',\n",
    "    template='plotly_white'\n",
    ")\n",
    "fig.update_yaxes(\n",
    "    range=[60, 100],  \n",
    "    dtick=10         \n",
    ")\n",
    "\n",
    "fig.show()"
   ]
  },
  {
   "cell_type": "code",
   "execution_count": null,
   "id": "33",
   "metadata": {},
   "outputs": [],
   "source": [
    "fig = go.Figure()\n",
    "\n",
    "fig.add_trace(go.Scatter(\n",
    "    x=df1.index,\n",
    "    y=df1['W'],\n",
    "    mode='lines+markers',\n",
    "    name='Voltage Imbalance_%',\n",
    "    line=dict(color='blue'),\n",
    "    marker=dict(size=5)\n",
    "))\n",
    "\n",
    "\n",
    "fig.add_shape(\n",
    "    type='line',\n",
    "    x0=df1.index.min(),  \n",
    "    y0=132,              ## Rated power of motor\n",
    "    x1=df1.index.max(),  \n",
    "    y1=132,               # Y-value for the reference line\n",
    "    line=dict(color='green', width=2, dash='dash'),  # Line style\n",
    ")\n",
    "\n",
    "\n",
    "fig.update_layout(\n",
    "    title='Variation of Power for Pump 1 Over Time',\n",
    "    xaxis_title='Time',\n",
    "    yaxis_title='Power (kW)',\n",
    "    legend_title='Legend',\n",
    "    template='plotly_white'\n",
    ")\n",
    "fig.update_yaxes(\n",
    "    range=[120, 150]\n",
    "#     dtick=0.02         \n",
    ")\n",
    "\n",
    "fig.show()"
   ]
  },
  {
   "cell_type": "code",
   "execution_count": null,
   "id": "34",
   "metadata": {},
   "outputs": [],
   "source": [
    "# fig = go.Figure()\n",
    "\n",
    "# fig.add_trace(go.Scatter(\n",
    "#     x=df1.index,\n",
    "#     y=df1['W'],\n",
    "#     mode='lines+markers',\n",
    "#     name='Voltage Imbalance_%',\n",
    "#     line=dict(color='blue'),\n",
    "#     marker=dict(size=5)\n",
    "# ))\n",
    "\n",
    "\n",
    "# fig.add_shape(\n",
    "#     type='line',\n",
    "#     x0=df1.index.min(),  \n",
    "#     y0=132,               ## rated power-motor\n",
    "#     x1=df1.index.max(),  \n",
    "#     y1=132,               \n",
    "#     line=dict(color='green', width=2, dash='dash'),  # Line style\n",
    "# )\n",
    "\n",
    "\n",
    "# fig.update_layout(\n",
    "#     title='Power Variation of Pump1 Over Time',\n",
    "#     xaxis_title='Time',\n",
    "#     yaxis_title='Imbalance',\n",
    "#     legend_title='Legend',\n",
    "#     template='plotly_white'\n",
    "# )\n",
    "# fig.update_yaxes(\n",
    "#     range=[120, 150],  \n",
    "#     dtick=10         \n",
    "# )\n",
    "\n",
    "# fig.show()"
   ]
  },
  {
   "cell_type": "code",
   "execution_count": null,
   "id": "35",
   "metadata": {},
   "outputs": [],
   "source": [
    "# fig = go.Figure()\n",
    "\n",
    "# fig.add_trace(go.Scatter(\n",
    "#     x=df5.index,\n",
    "#     y=df5['Efficiency'],\n",
    "#     mode='lines+markers',\n",
    "#     name='Voltage Imbalance_%',\n",
    "#     line=dict(color='blue'),\n",
    "#     marker=dict(size=5)\n",
    "# ))\n",
    "\n",
    "\n",
    "# fig.update_layout(\n",
    "#     title='Efficiency Variation of Pump5',\n",
    "#     xaxis_title='Time',\n",
    "#     yaxis_title='Efficiency %',\n",
    "#     legend_title='Legend',\n",
    "#     template='plotly_white'\n",
    "# )\n",
    "# fig.update_yaxes(\n",
    "#     range=[60, 80],  \n",
    "#     dtick=2         \n",
    "# )\n",
    "\n",
    "# fig.show()"
   ]
  },
  {
   "cell_type": "code",
   "execution_count": null,
   "id": "36",
   "metadata": {},
   "outputs": [],
   "source": [
    "# fig = go.Figure()\n",
    "\n",
    "# fig.add_trace(go.Scatter(\n",
    "#     x=df3.index,\n",
    "#     y=df3['Efficiency'],\n",
    "#     mode='lines+markers',\n",
    "#     name='Voltage Imbalance_%',\n",
    "#     line=dict(color='blue'),\n",
    "#     marker=dict(size=5)\n",
    "# ))\n",
    "\n",
    "\n",
    "# fig.update_layout(\n",
    "#     title='Efficiency Variation of Pump3',\n",
    "#     xaxis_title='Time',\n",
    "#     yaxis_title='Efficiency %',\n",
    "#     legend_title='Legend',\n",
    "#     template='plotly_white'\n",
    "# )\n",
    "# fig.update_yaxes(\n",
    "#     range=[60, 80],  \n",
    "#     dtick=10         \n",
    "# )\n",
    "\n",
    "# fig.show()"
   ]
  },
  {
   "cell_type": "code",
   "execution_count": null,
   "id": "37",
   "metadata": {},
   "outputs": [],
   "source": [
    "# fig = go.Figure()\n",
    "\n",
    "# fig.add_trace(go.Scatter(\n",
    "#     x=df6.index,\n",
    "#     y=df6['Efficiency'],\n",
    "#     mode='lines+markers',\n",
    "#     name='Voltage Imbalance_%',\n",
    "#     line=dict(color='blue'),\n",
    "#     marker=dict(size=5)\n",
    "# ))\n",
    "\n",
    "\n",
    "# fig.update_layout(\n",
    "#     title='Efficiency Variation of Pump6',\n",
    "#     xaxis_title='Time',\n",
    "#     yaxis_title='Efficiency %',\n",
    "#     legend_title='Legend',\n",
    "#     template='plotly_white'\n",
    "# )\n",
    "# fig.update_yaxes(\n",
    "#     range=[60, 90],  \n",
    "#     dtick=10         \n",
    "# )\n",
    "\n",
    "# fig.show()"
   ]
  },
  {
   "cell_type": "code",
   "execution_count": null,
   "id": "38",
   "metadata": {},
   "outputs": [],
   "source": []
  }
 ],
 "metadata": {
  "kernelspec": {
   "display_name": "Python 3 (ipykernel)",
   "language": "python",
   "name": "python3"
  },
  "language_info": {
   "codemirror_mode": {
    "name": "ipython",
    "version": 3
   },
   "file_extension": ".py",
   "mimetype": "text/x-python",
   "name": "python",
   "nbconvert_exporter": "python",
   "pygments_lexer": "ipython3",
   "version": "3.11.5"
  }
 },
 "nbformat": 4,
 "nbformat_minor": 5
}

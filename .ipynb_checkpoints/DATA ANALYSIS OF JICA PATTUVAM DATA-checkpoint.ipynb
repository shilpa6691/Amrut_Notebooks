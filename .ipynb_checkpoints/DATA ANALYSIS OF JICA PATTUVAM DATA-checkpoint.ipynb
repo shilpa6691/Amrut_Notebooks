{
 "cells": [
  {
   "cell_type": "code",
   "execution_count": null,
   "id": "0",
   "metadata": {},
   "outputs": [],
   "source": [
    "import numpy as np\n",
    "import pandas as pd\n",
    "from datetime import datetime\n",
    "import matplotlib.pyplot as plt\n",
    "import seaborn as sns"
   ]
  },
  {
   "cell_type": "code",
   "execution_count": null,
   "id": "1",
   "metadata": {},
   "outputs": [],
   "source": [
    "#Loading dataset"
   ]
  },
  {
   "cell_type": "code",
   "execution_count": null,
   "id": "2",
   "metadata": {},
   "outputs": [],
   "source": [
    "df=pd.read_csv(\"Cleaned JICA Pattuvam Data.csv\")"
   ]
  },
  {
   "cell_type": "code",
   "execution_count": null,
   "id": "3",
   "metadata": {},
   "outputs": [],
   "source": [
    "df.head()"
   ]
  },
  {
   "cell_type": "code",
   "execution_count": null,
   "id": "4",
   "metadata": {},
   "outputs": [],
   "source": [
    "df.tail()"
   ]
  },
  {
   "cell_type": "code",
   "execution_count": null,
   "id": "5",
   "metadata": {},
   "outputs": [],
   "source": [
    "df.shape"
   ]
  },
  {
   "cell_type": "code",
   "execution_count": null,
   "id": "6",
   "metadata": {},
   "outputs": [],
   "source": [
    "df.isnull().sum()"
   ]
  },
  {
   "cell_type": "code",
   "execution_count": null,
   "id": "7",
   "metadata": {},
   "outputs": [],
   "source": [
    "df['MONTH-YEAR'] = pd.to_datetime(df['MONTH-YEAR'], format='%B-%Y')\n",
    "df['MONTH-YEAR'].unique()"
   ]
  },
  {
   "cell_type": "code",
   "execution_count": null,
   "id": "8",
   "metadata": {},
   "outputs": [],
   "source": [
    "min_date = df['DATE'].min()\n",
    "max_date = df['DATE'].max()\n",
    "\n",
    "print(\"Minimum Date:\", min_date)\n",
    "print(\"Maximum Date:\", max_date)\n"
   ]
  },
  {
   "cell_type": "code",
   "execution_count": null,
   "id": "9",
   "metadata": {},
   "outputs": [],
   "source": [
    "df.YEAR.unique()"
   ]
  },
  {
   "cell_type": "code",
   "execution_count": null,
   "id": "10",
   "metadata": {},
   "outputs": [],
   "source": [
    "df['RAW WATER FLOW IN m3/h'].value_counts()\n"
   ]
  },
  {
   "cell_type": "code",
   "execution_count": null,
   "id": "11",
   "metadata": {},
   "outputs": [],
   "source": [
    "values = sorted(df['RAW WATER FLOW IN m3/h'].unique(),reverse=True)\n",
    "values"
   ]
  },
  {
   "cell_type": "code",
   "execution_count": null,
   "id": "12",
   "metadata": {},
   "outputs": [],
   "source": [
    "df[df['RAW WATER FLOW IN m3/h']==62411.58]"
   ]
  },
  {
   "cell_type": "code",
   "execution_count": null,
   "id": "13",
   "metadata": {},
   "outputs": [],
   "source": [
    "df[df['DATE']=='2023-11-11']"
   ]
  },
  {
   "cell_type": "code",
   "execution_count": null,
   "id": "14",
   "metadata": {},
   "outputs": [],
   "source": [
    "df['CLEAR WATER SUMP LEVEL IN M'].value_counts()"
   ]
  },
  {
   "cell_type": "code",
   "execution_count": null,
   "id": "15",
   "metadata": {},
   "outputs": [],
   "source": [
    "df['CLEAR WATER PUMPING FLOW m3/h'] = pd.to_numeric(df['CLEAR WATER PUMPING FLOW m3/h'], errors='coerce')\n",
    "sorted(df['CLEAR WATER PUMPING FLOW m3/h'].unique())"
   ]
  },
  {
   "cell_type": "code",
   "execution_count": null,
   "id": "16",
   "metadata": {},
   "outputs": [],
   "source": [
    "df['TREATED WATER PRODUCTION IN m3/h'].value_counts()"
   ]
  },
  {
   "cell_type": "code",
   "execution_count": null,
   "id": "17",
   "metadata": {},
   "outputs": [],
   "source": [
    "sorted(df['TREATED WATER PRODUCTION IN m3/h'].unique(),reverse=True)"
   ]
  },
  {
   "cell_type": "code",
   "execution_count": null,
   "id": "18",
   "metadata": {},
   "outputs": [],
   "source": [
    "df[df['TREATED WATER PRODUCTION IN m3/h']==190912.1]"
   ]
  },
  {
   "cell_type": "code",
   "execution_count": null,
   "id": "19",
   "metadata": {},
   "outputs": [],
   "source": [
    "df[df[\"DATE\"]=='2023-03-20']"
   ]
  },
  {
   "cell_type": "code",
   "execution_count": null,
   "id": "20",
   "metadata": {},
   "outputs": [],
   "source": [
    "df['REMARKS'].value_counts()"
   ]
  },
  {
   "cell_type": "code",
   "execution_count": null,
   "id": "21",
   "metadata": {},
   "outputs": [],
   "source": []
  },
  {
   "cell_type": "markdown",
   "id": "22",
   "metadata": {},
   "source": [
    "# RAW WATER FLOW IN m3/h"
   ]
  },
  {
   "cell_type": "markdown",
   "id": "23",
   "metadata": {},
   "source": [
    "# VOLUME OF RAW WATER FLOW IN EACH YEAR"
   ]
  },
  {
   "cell_type": "code",
   "execution_count": null,
   "id": "24",
   "metadata": {},
   "outputs": [],
   "source": [
    "df['RAW WATER FLOW IN m3/h'] = pd.to_numeric(df['RAW WATER FLOW IN m3/h'], errors='coerce')\n",
    "yearly_raw_water_flow = df.groupby('YEAR')['RAW WATER FLOW IN m3/h'].agg('sum').reset_index(name='Volume_of_raw_water_flow').sort_values(by=\"Volume_of_raw_water_flow\",ascending=False)\n",
    "yearly_raw_water_flow"
   ]
  },
  {
   "cell_type": "code",
   "execution_count": null,
   "id": "25",
   "metadata": {},
   "outputs": [],
   "source": [
    "plt.figure(figsize=(10, 6))\n",
    "plt.bar(yearly_raw_water_flow['YEAR'], yearly_raw_water_flow['Volume_of_raw_water_flow'], color='skyblue')\n",
    "plt.xlabel('Year')\n",
    "plt.ylabel('Volume of Raw Water Flow')\n",
    "plt.title('Volume of Raw Water Flow for Each Year')\n",
    "plt.xticks(yearly_raw_water_flow['YEAR'])\n",
    "plt.grid(axis='y', linestyle='--', alpha=0.7)\n",
    "plt.show()\n"
   ]
  },
  {
   "cell_type": "raw",
   "id": "26",
   "metadata": {},
   "source": [
    "The above graph can't be used for comparison of the 4 years .Since we only have data of Month December in 2021 and data upto April of the year 2024.Using this graph we can compare for the years 2022 & 2023"
   ]
  },
  {
   "cell_type": "markdown",
   "id": "27",
   "metadata": {},
   "source": [
    "#  TOTAL  VOLUME OF RAW WATER FLOW IN EACH MONTH "
   ]
  },
  {
   "cell_type": "code",
   "execution_count": null,
   "id": "28",
   "metadata": {},
   "outputs": [],
   "source": [
    "# df['RAW WATER FLOW IN m3/h'] = pd.to_numeric(df['RAW WATER FLOW IN m3/h'], errors='coerce')\n",
    "month_yearly_raw_water_flow = df.groupby('MONTH-YEAR')['RAW WATER FLOW IN m3/h'].agg('sum').reset_index(name='Volume_of_raw_water_flow')\n",
    "month_yearly_raw_water_flow"
   ]
  },
  {
   "cell_type": "code",
   "execution_count": null,
   "id": "29",
   "metadata": {},
   "outputs": [],
   "source": [
    "import matplotlib.pyplot as plt\n",
    "plt.figure(figsize=(14, 6))\n",
    "plt.plot(month_yearly_raw_water_flow['MONTH-YEAR'],month_yearly_raw_water_flow['Volume_of_raw_water_flow'].astype(float), marker='o', color='blue')\n",
    "plt.xlabel('Month-Year')\n",
    "plt.ylabel('Volume of Raw Water Flow')\n",
    "plt.title('Volume of Raw Water Flow for Each Month-Year')\n",
    "plt.xticks(rotation=45)\n",
    "plt.grid(True, linestyle='--', alpha=0.7)\n",
    "for i in range(len(month_yearly_raw_water_flow)):\n",
    "    plt.text(month_yearly_raw_water_flow['MONTH-YEAR'][i], month_yearly_raw_water_flow['Volume_of_raw_water_flow'][i], str(month_yearly_raw_water_flow['Volume_of_raw_water_flow'][i]), ha='center', va='bottom')\n",
    "\n",
    "plt.tight_layout()\n",
    "plt.show()\n",
    "\n"
   ]
  },
  {
   "cell_type": "code",
   "execution_count": null,
   "id": "30",
   "metadata": {},
   "outputs": [],
   "source": [
    "sorted(df[df['MONTH-YEAR'] == '2024-03-01']['RAW WATER FLOW IN m3/h'].unique())\n"
   ]
  },
  {
   "cell_type": "code",
   "execution_count": null,
   "id": "31",
   "metadata": {},
   "outputs": [],
   "source": [
    "sorted(df[df['MONTH-YEAR'] == '2022-07-01']['RAW WATER FLOW IN m3/h'].unique())"
   ]
  },
  {
   "cell_type": "code",
   "execution_count": null,
   "id": "32",
   "metadata": {},
   "outputs": [],
   "source": []
  },
  {
   "cell_type": "markdown",
   "id": "33",
   "metadata": {},
   "source": [
    "# TOTAL VOLUME OF RAW WATER FLOW ON DAILY BASIS"
   ]
  },
  {
   "cell_type": "code",
   "execution_count": null,
   "id": "34",
   "metadata": {},
   "outputs": [],
   "source": [
    "df['RAW WATER FLOW IN m3/h'] = pd.to_numeric(df['RAW WATER FLOW IN m3/h'], errors='coerce')\n",
    "daily_raw_water_flow = df.groupby('DATE')['RAW WATER FLOW IN m3/h'].agg('sum').reset_index(name='Volume_of_raw_water_flow').sort_values(by=\"Volume_of_raw_water_flow\",ascending=False)\n",
    "daily_raw_water_flow"
   ]
  },
  {
   "cell_type": "markdown",
   "id": "35",
   "metadata": {},
   "source": [
    "# THE MAXIMUM VOLUME OF RAW WATER FLOWED IN EACH HOUR"
   ]
  },
  {
   "cell_type": "code",
   "execution_count": null,
   "id": "36",
   "metadata": {},
   "outputs": [],
   "source": [
    "def convert_time(time_str):\n",
    "    parts = time_str.split()\n",
    "    if len(parts) == 1:\n",
    "        if len(parts[0]) == 1:\n",
    "            return f'0{parts[0]}:00:00'\n",
    "        elif len(parts[0]) == 2:\n",
    "            return f'{parts[0]}:00:00'\n",
    "    elif len(parts) == 2:\n",
    "        return f'{parts[0]}:{parts[1]}:00'\n",
    "    return time_str\n",
    "df['TIME']= df['TIME'].apply(convert_time)"
   ]
  },
  {
   "cell_type": "code",
   "execution_count": null,
   "id": "37",
   "metadata": {},
   "outputs": [],
   "source": [
    "df['RAW WATER FLOW IN m3/h'] = pd.to_numeric(df['RAW WATER FLOW IN m3/h'], errors='coerce')\n",
    "\n",
    "hourly_raw_water_flow = df.groupby('TIME')['RAW WATER FLOW IN m3/h'].agg('max').reset_index(name='Volume_of_raw_water_flow').sort_values(by=\"TIME\",ascending=False)\n",
    "hourly_raw_water_flow"
   ]
  },
  {
   "cell_type": "code",
   "execution_count": null,
   "id": "38",
   "metadata": {},
   "outputs": [],
   "source": [
    "plt.figure(figsize=(10, 6))\n",
    "plt.bar(hourly_raw_water_flow['TIME'], hourly_raw_water_flow['Volume_of_raw_water_flow'])\n",
    "plt.title('Hourly Volume of Raw Water Flow')\n",
    "plt.xlabel('Time')\n",
    "plt.ylabel('Volume (m3)')\n",
    "plt.xticks(rotation=45)\n",
    "plt.grid(axis='y')\n",
    "plt.tight_layout()\n",
    "plt.show()\n"
   ]
  },
  {
   "cell_type": "code",
   "execution_count": null,
   "id": "39",
   "metadata": {},
   "outputs": [],
   "source": []
  },
  {
   "cell_type": "code",
   "execution_count": null,
   "id": "40",
   "metadata": {},
   "outputs": [],
   "source": [
    "df['RAW WATER FLOW IN m3/h'] = pd.to_numeric(df['RAW WATER FLOW IN m3/h'], errors='coerce')\n",
    "hourly_raw_water_flow = df.groupby(['DATE','TIME'])['RAW WATER FLOW IN m3/h'].agg('max').reset_index(name='Volume_of_raw_water_flow').sort_values(by=\"Volume_of_raw_water_flow\",ascending=False)\n",
    "hourly_raw_water_flow"
   ]
  },
  {
   "cell_type": "markdown",
   "id": "41",
   "metadata": {},
   "source": [
    "# COMPARING RAW WATER FLOW IN YEAR 2022 VS 2023"
   ]
  },
  {
   "cell_type": "code",
   "execution_count": null,
   "id": "42",
   "metadata": {},
   "outputs": [],
   "source": [
    "df2022=df[df['YEAR']==2022]\n",
    "df2022.head(50)\n",
    "df2023=df[df['YEAR']==2023]\n",
    "df2022_filtered = df2022[df2022['REMARKS'] != 'No Remarks']\n",
    "# df2022_filtered\n",
    "# df2022"
   ]
  },
  {
   "cell_type": "code",
   "execution_count": null,
   "id": "43",
   "metadata": {},
   "outputs": [],
   "source": [
    "monthly_raw_water_flow_2022 = df2022.groupby('MONTH-YEAR')['RAW WATER FLOW IN m3/h'].agg('sum').reset_index(name='Volume_of_raw_water_flow')\n",
    "monthly_raw_water_flow_2022"
   ]
  },
  {
   "cell_type": "code",
   "execution_count": null,
   "id": "44",
   "metadata": {},
   "outputs": [],
   "source": [
    "monthly_raw_water_flow_2023 = df2023.groupby('MONTH-YEAR')['RAW WATER FLOW IN m3/h'].agg('sum').reset_index(name='Volume_of_raw_water_flow')\n",
    "monthly_raw_water_flow_2023"
   ]
  },
  {
   "cell_type": "code",
   "execution_count": null,
   "id": "45",
   "metadata": {},
   "outputs": [],
   "source": [
    "import matplotlib.pyplot as plt\n",
    "\n",
    "# Plot for 2022\n",
    "plt.figure(figsize=(14, 6))\n",
    "plt.plot(monthly_raw_water_flow_2022['MONTH-YEAR'], monthly_raw_water_flow_2022['Volume_of_raw_water_flow'].astype(float), marker='o', color='red', label='2022')\n",
    "\n",
    "# Plot for 2023\n",
    "plt.plot(monthly_raw_water_flow_2023['MONTH-YEAR'], monthly_raw_water_flow_2023['Volume_of_raw_water_flow'].astype(float), marker='o', color='green', label='2023')\n",
    "\n",
    "plt.xlabel('Month-Year')\n",
    "plt.ylabel('Volume of Raw Water Flow')\n",
    "plt.title('Volume of Raw Water Flow for Each Month-Year')\n",
    "plt.xticks(rotation=45)\n",
    "plt.grid(True, linestyle='--', alpha=0.7)\n",
    "plt.legend()\n",
    "plt.tight_layout()\n",
    "plt.show()\n"
   ]
  },
  {
   "cell_type": "code",
   "execution_count": null,
   "id": "46",
   "metadata": {},
   "outputs": [],
   "source": [
    "df_raw_water_min = df[df['MONTH-YEAR'] == '2022-07-01'] \n",
    "df_raw_water_min = df_raw_water_min.groupby(['DATE', 'TIME'])[['REMARKS', 'RAW WATER FLOW IN m3/h']].max().reset_index().sort_values(by='DATE')\n",
    "df_raw_water_min\n",
    "plt.figure(figsize=(12, 6))\n",
    "\n",
    "# Plot raw water flow\n",
    "plt.plot(df_raw_water_min['DATE'], df_raw_water_min['RAW WATER FLOW IN m3/h'], marker='o', color='blue', label='Raw Water Flow')\n",
    "\n",
    "# Add REMARKS as text\n",
    "for i, txt in enumerate(df_raw_water_min['REMARKS']):\n",
    "    plt.annotate(txt, (df_raw_water_min['TIME'][i], df_raw_water_min['RAW WATER FLOW IN m3/h'][i]))\n",
    "\n",
    "# Customize plot\n",
    "plt.xlabel('Time')\n",
    "plt.ylabel('Raw Water Flow (m3/h)')\n",
    "plt.title('Raw Water Flow for each date with Time')\n",
    "plt.legend()\n",
    "plt.grid(True)\n",
    "plt.xticks(rotation=100)\n",
    "plt.tight_layout()\n",
    "plt.show()\n"
   ]
  },
  {
   "cell_type": "code",
   "execution_count": null,
   "id": "47",
   "metadata": {},
   "outputs": [],
   "source": [
    "df_remarks = df_raw_water_min[df_raw_water_min['REMARKS'] != 'No Remarks']\n",
    "df_hours = df_remarks.groupby(['DATE', 'REMARKS']).size().reset_index(name='hours')\n",
    "df_hours\n"
   ]
  },
  {
   "cell_type": "code",
   "execution_count": null,
   "id": "48",
   "metadata": {},
   "outputs": [],
   "source": [
    "df_raw_water_max = df[df['MONTH-YEAR'] == '2023-05-01'] \n",
    "df_raw_water_max = df_raw_water_max.groupby(['DATE', 'TIME'])[['REMARKS', 'RAW WATER FLOW IN m3/h']].max().reset_index().sort_values(by='DATE')\n",
    "df_raw_water_max\n",
    "plt.figure(figsize=(12, 6))\n",
    "\n",
    "# Plot raw water flow\n",
    "plt.plot(df_raw_water_max['DATE'], df_raw_water_max['RAW WATER FLOW IN m3/h'], marker='o', color='blue', label='Raw Water Flow')\n",
    "\n",
    "# Add REMARKS as text\n",
    "for i, txt in enumerate(df_raw_water_max['REMARKS']):\n",
    "    plt.annotate(txt, (df_raw_water_max['TIME'][i], df_raw_water_max['RAW WATER FLOW IN m3/h'][i]))\n",
    "\n",
    "# Customize plot\n",
    "plt.xlabel('Time')\n",
    "plt.ylabel('Raw Water Flow (m3/h)')\n",
    "plt.title('Raw Water Flow for each date with Time')\n",
    "plt.legend()\n",
    "plt.grid(True)\n",
    "plt.xticks(rotation=100)\n",
    "plt.tight_layout()\n",
    "plt.show()\n"
   ]
  },
  {
   "cell_type": "code",
   "execution_count": null,
   "id": "49",
   "metadata": {},
   "outputs": [],
   "source": [
    "df_remarks = df_raw_water_max[df_raw_water_max['REMARKS'] != 'No Remarks']\n",
    "df_hours = df_remarks.groupby(['DATE', 'REMARKS']).size().reset_index(name='hours')\n",
    "df_hours\n"
   ]
  },
  {
   "cell_type": "code",
   "execution_count": null,
   "id": "50",
   "metadata": {},
   "outputs": [],
   "source": [
    "df_max_day1=df_raw_water_max[df_raw_water_max['DATE']=='2023-05-08']\n",
    "df_max_day1 = df_max_day1.groupby('TIME')['RAW WATER FLOW IN m3/h'].max().reset_index()\n",
    "\n",
    "df_max_day2=df_raw_water_max[df_raw_water_max['DATE']=='2023-05-09']\n",
    "df_max_day2 = df_max_day2.groupby('TIME')['RAW WATER FLOW IN m3/h'].max().reset_index()\n",
    "\n",
    "df_max_day3=df_raw_water_max[df_raw_water_max['DATE']=='2023-05-10']\n",
    "df_max_day3 = df_max_day3.groupby('TIME')['RAW WATER FLOW IN m3/h'].max().reset_index()\n",
    "\n",
    "df_max_day4=df_raw_water_max[df_raw_water_max['DATE']=='2023-05-11']\n",
    "df_max_day4 = df_max_day4.groupby('TIME')['RAW WATER FLOW IN m3/h'].max().reset_index()\n",
    "\n",
    "df_max_day5=df_raw_water_max[df_raw_water_max['DATE']=='2023-05-12']\n",
    "df_max_day5 = df_max_day5.groupby('TIME')['RAW WATER FLOW IN m3/h'].max().reset_index()\n",
    "\n",
    "df_max_day6=df_raw_water_max[df_raw_water_max['DATE']=='2023-05-13']\n",
    "df_max_day6 = df_max_day6.groupby('TIME')['RAW WATER FLOW IN m3/h'].max().reset_index()\n",
    "\n",
    "\n",
    "plt.figure(figsize=(12, 6))\n",
    "\n",
    "# Plot raw water flow\n",
    "plt.plot(df_max_day1['TIME'], df_max_day1['RAW WATER FLOW IN m3/h'], marker='o',color='c',label='May 08 2023')\n",
    "\n",
    "plt.plot(df_max_day2['TIME'], df_max_day2['RAW WATER FLOW IN m3/h'], marker='o',color='g',label='May 09 2023')\n",
    "\n",
    "plt.plot(df_max_day3['TIME'], df_max_day3['RAW WATER FLOW IN m3/h'], marker='o',color='y',label='May 10 2023')\n",
    "\n",
    "plt.plot(df_max_day4['TIME'], df_max_day4['RAW WATER FLOW IN m3/h'], marker='o',color='m',label='May 11 2023')\n",
    "\n",
    "plt.plot(df_max_day5['TIME'], df_max_day5['RAW WATER FLOW IN m3/h'], marker='o',color='k',label='May 12 2023')\n",
    "\n",
    "plt.plot(df_max_day6['TIME'], df_max_day6['RAW WATER FLOW IN m3/h'], marker='o',color='b',label='May 13 2023')\n",
    "\n",
    "# Add labels and title\n",
    "plt.xlabel('Time')\n",
    "plt.ylabel('Raw Water Flow (m3/h)')\n",
    "plt.title('Raw Water Flow on May, 2023')\n",
    "plt.legend()\n",
    "plt.grid(True)\n",
    "plt.xticks(rotation=45)\n",
    "plt.tight_layout()\n",
    "plt.show()\n"
   ]
  },
  {
   "cell_type": "markdown",
   "id": "51",
   "metadata": {},
   "source": [
    "# 2022 "
   ]
  },
  {
   "cell_type": "code",
   "execution_count": null,
   "id": "52",
   "metadata": {},
   "outputs": [],
   "source": [
    "# Considering each month of 2022\n",
    "\n",
    "df2022_1 = df[df['MONTH-YEAR'] == '2022-01-01']\n",
    "df2022_1_NR=df2022_1[df2022_1['REMARKS']!= 'No Remarks']\n",
    "df2022_1_NR=df2022_1_NR.groupby(['DATE','TIME'])['REMARKS'].max().reset_index()\n",
    "df2022_1_NR.DATE.unique()"
   ]
  },
  {
   "cell_type": "code",
   "execution_count": null,
   "id": "53",
   "metadata": {},
   "outputs": [],
   "source": [
    "df2022_1=df2022_1.groupby(['DATE','TIME'])['RAW WATER FLOW IN m3/h'].max().reset_index().sort_values(by='RAW WATER FLOW IN m3/h',ascending=False)\n",
    "df2022_1"
   ]
  },
  {
   "cell_type": "code",
   "execution_count": null,
   "id": "54",
   "metadata": {},
   "outputs": [],
   "source": [
    "df2022_1=df2022_1.groupby(['DATE','TIME'])['RAW WATER FLOW IN m3/h'].max().reset_index().sort_values(by='TIME',ascending=True)\n",
    "df2022_1_max=df2022_1[df2022_1['DATE']=='2022-01-03']\n",
    "plt.figure(figsize=(12, 6))\n",
    "\n",
    "# Plotting the maximum raw water flow for each hour\n",
    "plt.plot(df2022_1_max['TIME'], df2022_1_max['RAW WATER FLOW IN m3/h'], marker='o')\n",
    "plt.xlabel('Time')\n",
    "plt.ylabel('Maximum Raw Water Flow (m3/h)')\n",
    "plt.title('Maximum Raw Water Flow in January 2022(JAN 3)')\n",
    "plt.grid(True)\n",
    "plt.xticks(rotation=45)\n",
    "plt.show()"
   ]
  },
  {
   "cell_type": "markdown",
   "id": "55",
   "metadata": {},
   "source": [
    "# COMPARING MAXIMUM RAW WATER FLOW IN 2 MONTHS"
   ]
  },
  {
   "cell_type": "code",
   "execution_count": null,
   "id": "56",
   "metadata": {},
   "outputs": [],
   "source": [
    "df2022_2 = df[df['MONTH-YEAR'] == '2022-02-01']\n",
    "df2022_2_NR=df2022_2[df2022_2['REMARKS']!= 'No Remarks']\n",
    "df2022_2_NR=df2022_2_NR.groupby(['DATE','TIME'])['REMARKS'].max().reset_index()\n",
    "df2022_2_NR.DATE.unique()"
   ]
  },
  {
   "cell_type": "code",
   "execution_count": null,
   "id": "57",
   "metadata": {},
   "outputs": [],
   "source": [
    "\n",
    "df2022_2=df2022_2.groupby(['DATE','TIME'])['RAW WATER FLOW IN m3/h'].max().reset_index().sort_values(by='TIME',ascending=True)\n",
    "# df2022_2\n",
    "df2022_2_max=df2022_2[df2022_2['DATE']=='2022-02-28']\n",
    "df2022_2_max\n",
    "# df2022_1_NR=df2022_1[df2022_1['REMARKS']!= 'No Remarks']\n",
    "# df2022_1_NR.DATE.unique()"
   ]
  },
  {
   "cell_type": "code",
   "execution_count": null,
   "id": "58",
   "metadata": {},
   "outputs": [],
   "source": [
    "plt.figure(figsize=(12, 6))\n",
    "\n",
    "# Plotting the maximum raw water flow for each hour in January 2022\n",
    "# plt.plot(df2022_1_max['TIME'], df2022_1_max['RAW WATER FLOW IN m3/h'], label='January 2022', marker='o')\n",
    "plt.plot(df2022_1_max['TIME'], df2022_1_max['RAW WATER FLOW IN m3/h'], label='January 2022',marker='o')\n",
    "# Plotting the maximum raw water flow for each hour in February 2022label='January 2022',\n",
    "plt.plot(df2022_2_max['TIME'], df2022_2_max['RAW WATER FLOW IN m3/h'], label='February 2022', marker='o')\n",
    "\n",
    "plt.xlabel('Time')\n",
    "plt.ylabel('Maximum Raw Water Flow (m3/h)')\n",
    "plt.title('Maximum Raw Water Flow in January and February 2022')\n",
    "plt.legend()\n",
    "plt.grid(True)\n",
    "plt.xticks(rotation=45)\n",
    "plt.show()"
   ]
  },
  {
   "cell_type": "markdown",
   "id": "59",
   "metadata": {},
   "source": [
    "# COMPARING RAW WATER FLOW IN A WEEK"
   ]
  },
  {
   "cell_type": "code",
   "execution_count": null,
   "id": "60",
   "metadata": {},
   "outputs": [],
   "source": [
    "df2022_day1 = df2022[df2022['DATE'] == '2022-01-02']\n",
    "\n",
    "df2022_day1[df2022_day1['REMARKS']!= 'No Remarks']\n",
    "df2022_day2 = df2022[df2022['DATE'] == '2022-01-03']\n",
    "df2022_day2[df2022_day2['REMARKS']!= 'No Remarks']\n",
    "# No Remarks is present in these days"
   ]
  },
  {
   "cell_type": "code",
   "execution_count": null,
   "id": "61",
   "metadata": {},
   "outputs": [],
   "source": [
    "df2022_day1 = df2022[df2022['DATE'] == '2022-01-02']\n",
    "df2022_day1 = df2022_day1.groupby(['DATE','TIME'])['RAW WATER FLOW IN m3/h'].max().reset_index()\n",
    "\n",
    "df2022_day2 = df2022[df2022['DATE'] == '2022-01-03']\n",
    "df2022_day2 = df2022_day2.groupby(['DATE','TIME'])['RAW WATER FLOW IN m3/h'].max().reset_index()\n",
    "\n",
    "df2022_day3 = df2022[df2022['DATE'] == '2022-01-04']\n",
    "df2022_day3 = df2022_day3.groupby(['DATE','TIME'])['RAW WATER FLOW IN m3/h'].max().reset_index()\n",
    "plt.figure(figsize=(12, 6))\n",
    "\n",
    "\n",
    "df2022_day4 = df2022[df2022['DATE'] == '2022-01-05']\n",
    "df2022_day4 = df2022_day4.groupby(['DATE','TIME'])['RAW WATER FLOW IN m3/h'].max().reset_index()\n",
    "\n",
    "df2022_day5 = df2022[df2022['DATE'] == '2022-01-06']\n",
    "df2022_day5 = df2022_day5.groupby(['DATE','TIME'])['RAW WATER FLOW IN m3/h'].max().reset_index()\n",
    "\n",
    "df2022_day6 = df2022[df2022['DATE'] == '2022-01-07']\n",
    "df2022_day6 = df2022_day6.groupby(['DATE','TIME'])['RAW WATER FLOW IN m3/h'].max().reset_index()\n",
    "\n",
    "\n",
    "df2022_day7 = df2022[df2022['DATE'] == '2022-01-08']\n",
    "df2022_day7 = df2022_day7.groupby(['DATE','TIME'])['RAW WATER FLOW IN m3/h'].max().reset_index()\n",
    "\n",
    "plt.figure(figsize=(12, 6))\n",
    "\n",
    "\n",
    "# plt.plot(df2022_day1['TIME'], df2022_day1['RAW WATER FLOW IN m3/h'], label='January 2, 2022', marker='o',color='c')\n",
    "\n",
    "# # Plotting the raw water flow for January 3, 2022\n",
    "plt.plot(df2022_day2['TIME'], df2022_day2['RAW WATER FLOW IN m3/h'], label='January 3, 2022', marker='o',color='y')\n",
    "\n",
    "plt.plot(df2022_day3['TIME'], df2022_day3['RAW WATER FLOW IN m3/h'], label='January 4, 2022', marker='o',color='m')\n",
    "\n",
    "plt.plot(df2022_day4['TIME'], df2022_day4['RAW WATER FLOW IN m3/h'], label='January 5, 2022', marker='o',color='g')\n",
    "\n",
    "plt.plot(df2022_day5['TIME'], df2022_day5['RAW WATER FLOW IN m3/h'], label='January 6, 2022', marker='o',color='k')\n",
    "\n",
    "plt.plot(df2022_day6['TIME'], df2022_day6['RAW WATER FLOW IN m3/h'], label='January 7, 2022', marker='o',color='r')\n",
    "\n",
    "plt.plot(df2022_day7['TIME'], df2022_day7['RAW WATER FLOW IN m3/h'], label='January 8, 2022', marker='o', color='b')\n",
    "\n",
    "plt.xlabel('Time')\n",
    "\n",
    "\n",
    "\n",
    "\n",
    "\n",
    "plt.ylabel('Raw Water Flow (m3/h)')\n",
    "# plt.title('Raw Water Flow on January 2 and 3, 2022')\n",
    "plt.legend()\n",
    "plt.grid(True)\n",
    "plt.xticks(rotation=45)\n",
    "plt.show()\n"
   ]
  },
  {
   "cell_type": "code",
   "execution_count": null,
   "id": "62",
   "metadata": {},
   "outputs": [],
   "source": [
    "df2023_day1 = df2023[df2023['DATE'] == '2023-01-02']\n",
    "df2023_day1 = df2023_day1.groupby(['DATE','TIME'])['RAW WATER FLOW IN m3/h'].max().reset_index()\n",
    "\n",
    "df2023_day2 = df2023[df2023['DATE'] == '2023-01-03']\n",
    "df2023_day2 = df2023_day2.groupby(['DATE','TIME'])['RAW WATER FLOW IN m3/h'].max().reset_index()\n",
    "\n",
    "df2023_day3 = df2023[df2023['DATE'] == '2023-01-04']\n",
    "df2023_day3 = df2023_day3.groupby(['DATE','TIME'])['RAW WATER FLOW IN m3/h'].max().reset_index()\n",
    "plt.figure(figsize=(12, 6))\n",
    "\n",
    "\n",
    "df2023_day4 = df2023[df2023['DATE'] == '2023-01-05']\n",
    "df2023_day4 = df2023_day4.groupby(['DATE','TIME'])['RAW WATER FLOW IN m3/h'].max().reset_index()\n",
    "\n",
    "df2023_day5 = df2023[df2023['DATE'] == '2023-01-06']\n",
    "df2023_day5 = df2023_day5.groupby(['DATE','TIME'])['RAW WATER FLOW IN m3/h'].max().reset_index()\n",
    "\n",
    "df2023_day6 = df2023[df2023['DATE'] == '2023-01-07']\n",
    "df2023_day6 = df2023_day6.groupby(['DATE','TIME'])['RAW WATER FLOW IN m3/h'].max().reset_index()\n",
    "\n",
    "\n",
    "df2023_day7 = df2023[df2023['DATE'] == '2023-01-08']\n",
    "df2023_day7 = df2023_day7.groupby(['DATE','TIME'])['RAW WATER FLOW IN m3/h'].max().reset_index()\n",
    "\n",
    "plt.figure(figsize=(12, 6))\n",
    "\n",
    "\n",
    "plt.plot(df2023_day1['TIME'], df2023_day1['RAW WATER FLOW IN m3/h'], label='January 2, 2023', marker='o',color='c')\n",
    "\n",
    "\n",
    "plt.plot(df2023_day2['TIME'], df2023_day2['RAW WATER FLOW IN m3/h'], label='January 3, 2023', marker='o',color='y')\n",
    "\n",
    "# plt.plot(df2023_day3['TIME'], df2023_day3['RAW WATER FLOW IN m3/h'], label='January 4, 2023', marker='o',color='m')\n",
    "\n",
    "plt.plot(df2023_day4['TIME'], df2023_day4['RAW WATER FLOW IN m3/h'], label='January 5, 2023', marker='o',color='g')\n",
    "\n",
    "plt.plot(df2023_day5['TIME'], df2023_day5['RAW WATER FLOW IN m3/h'], label='January 6, 2023', marker='o',color='k')\n",
    "\n",
    "plt.plot(df2023_day6['TIME'], df2023_day6['RAW WATER FLOW IN m3/h'], label='January 7, 2023', marker='o',color='r')\n",
    "\n",
    "plt.plot(df2023_day7['TIME'], df2023_day7['RAW WATER FLOW IN m3/h'], label='January 8, 2023', marker='o', color='b')\n",
    "\n",
    "plt.xlabel('Time')\n",
    "\n",
    "\n",
    "\n",
    "\n",
    "\n",
    "plt.ylabel('Raw Water Flow (m3/h)')\n",
    "# plt.title('Raw Water Flow on January 2 and 3, 2022')\n",
    "plt.legend()\n",
    "plt.grid(True)\n",
    "plt.xticks(rotation=45)\n",
    "plt.show()"
   ]
  },
  {
   "cell_type": "markdown",
   "id": "63",
   "metadata": {},
   "source": [
    "# RAW WATER FLOW @ 1AM"
   ]
  },
  {
   "cell_type": "code",
   "execution_count": null,
   "id": "64",
   "metadata": {},
   "outputs": [],
   "source": [
    "df_time_1 = df[df['TIME']=='01:00:00']\n",
    "df_time_1 =df_time_1.groupby('DATE')['RAW WATER FLOW IN m3/h'].max().reset_index()\n",
    "\n",
    "plt.plot(df_time_1['DATE'], df_time_1['RAW WATER FLOW IN m3/h'], label='1 AM', marker='o', color='c')\n"
   ]
  },
  {
   "cell_type": "markdown",
   "id": "65",
   "metadata": {},
   "source": [
    "# CLEAR WATER SUMP LEVEL IN M"
   ]
  },
  {
   "cell_type": "code",
   "execution_count": null,
   "id": "66",
   "metadata": {},
   "outputs": [],
   "source": [
    "df['CLEAR WATER SUMP LEVEL IN M'].value_counts()"
   ]
  },
  {
   "cell_type": "code",
   "execution_count": null,
   "id": "67",
   "metadata": {},
   "outputs": [],
   "source": [
    "df1 = df[df['CLEAR WATER SUMP LEVEL IN M'] != 'NO DATA']\n",
    "Yearwise_max_CLEAR_WATER_SUMP_LEVEL= df1.groupby('YEAR')['CLEAR WATER SUMP LEVEL IN M'].agg('max').reset_index(name='CLEAR_WATER_SUMP_LEVEL_IN_M').sort_values(by=\"CLEAR_WATER_SUMP_LEVEL_IN_M\",ascending=False)\n",
    "Yearwise_max_CLEAR_WATER_SUMP_LEVEL"
   ]
  },
  {
   "cell_type": "code",
   "execution_count": null,
   "id": "68",
   "metadata": {},
   "outputs": [],
   "source": []
  },
  {
   "cell_type": "code",
   "execution_count": null,
   "id": "69",
   "metadata": {},
   "outputs": [],
   "source": [
    "# df['CLEAR WATER SUMP LEVEL IN M'] = pd.to_numeric(df['CLEAR WATER SUMP LEVEL IN M'], errors='coerce')\n",
    "df1 = df[df['CLEAR WATER SUMP LEVEL IN M'] != 'NO DATA']\n",
    "hourly_CLEAR_WATER_SUMP_LEVEL= df1.groupby('TIME')['CLEAR WATER SUMP LEVEL IN M'].agg('max').reset_index(name='CLEAR_WATER_SUMP_LEVEL_IN_M').sort_values(by=\"TIME\",ascending=True)\n",
    "hourly_CLEAR_WATER_SUMP_LEVEL"
   ]
  },
  {
   "cell_type": "code",
   "execution_count": null,
   "id": "70",
   "metadata": {},
   "outputs": [],
   "source": [
    "plt.figure(figsize=(10, 6))\n",
    "plt.plot(hourly_CLEAR_WATER_SUMP_LEVEL['TIME'], hourly_CLEAR_WATER_SUMP_LEVEL['CLEAR_WATER_SUMP_LEVEL_IN_M'], marker='o')\n",
    "plt.title('Hourly Clear Water Sump Level')\n",
    "plt.xlabel('Time')\n",
    "plt.ylabel('Clear Water Sump Level (m)')\n",
    "plt.xticks(rotation=45)\n",
    "plt.grid(True)\n",
    "plt.tight_layout()\n",
    "plt.show()"
   ]
  },
  {
   "cell_type": "code",
   "execution_count": null,
   "id": "71",
   "metadata": {},
   "outputs": [],
   "source": []
  },
  {
   "cell_type": "code",
   "execution_count": null,
   "id": "72",
   "metadata": {},
   "outputs": [],
   "source": [
    "df1 = df[df['CLEAR WATER SUMP LEVEL IN M'] != 'NO DATA']\n",
    "hourly_CLEAR_WATER_SUMP_LEVEL= df1.groupby(['TIME','DATE'])['CLEAR WATER SUMP LEVEL IN M'].agg('max').reset_index(name='CLEAR_WATER_SUMP_LEVEL_IN_M').sort_values(by=\"TIME\",ascending=False)\n",
    "hourly_CLEAR_WATER_SUMP_LEVEL"
   ]
  },
  {
   "cell_type": "code",
   "execution_count": null,
   "id": "73",
   "metadata": {},
   "outputs": [],
   "source": [
    "df2022_day1 = df2022[df2022['DATE'] == '2022-01-04']\n",
    "df2022_day1 =df2022_day1.groupby(['DATE','TIME'])['CLEAR WATER SUMP LEVEL IN M'].max().reset_index()\n",
    "# df2022_day1_rs=df2022_day1.groupby(['RAW WATER FLOW IN m3/h'])['CLEAR WATER SUMP LEVEL IN M'].max().reset_index()\n",
    "\n",
    "df2022_day2 = df2022[df2022['DATE'] == '2022-01-05']\n",
    "df2022_day2 =df2022_day2.groupby(['DATE','TIME'])['CLEAR WATER SUMP LEVEL IN M'].max().reset_index()\n",
    "df2022_day2\n",
    "\n",
    "df2022_day3 = df2022[df2022['DATE'] == '2022-01-06']\n",
    "df2022_day3 =df2022_day3.groupby(['DATE','TIME'])['CLEAR WATER SUMP LEVEL IN M'].max().reset_index()\n",
    "df2022_day3\n",
    "\n",
    "df2022_day4 = df2022[df2022['DATE'] == '2022-01-07']\n",
    "df2022_day4 =df2022_day4.groupby(['DATE','TIME'])['CLEAR WATER SUMP LEVEL IN M'].max().reset_index()\n",
    "df2022_day4\n",
    "\n",
    "\n",
    "plt.plot(df2022_day1['TIME'], df2022_day1['CLEAR WATER SUMP LEVEL IN M'].astype(float),label='January 4, 2022',marker='o')\n",
    "\n",
    "plt.plot(df2022_day2['TIME'], df2022_day2['CLEAR WATER SUMP LEVEL IN M'].astype(float),label='January 5, 2022',marker='o')\n",
    "\n",
    "plt.plot(df2022_day3['TIME'], df2022_day3['CLEAR WATER SUMP LEVEL IN M'].astype(float),label='January 6, 2022',marker='o')\n",
    "\n",
    "plt.plot(df2022_day4['TIME'], df2022_day4['CLEAR WATER SUMP LEVEL IN M'].astype(float),label='January 7, 2022',marker='o')\n",
    "\n",
    "# plt.plot(df2022_day1_rs['RAW WATER FLOW IN m3/h'], df2022_day1_rs['CLEAR WATER SUMP LEVEL IN M'], marker='o', color='blue')\n",
    "\n",
    "\n",
    "plt.xlabel('Time')\n",
    "plt.ylabel('CLEAR WATER SUMP LEVEL IN M')\n",
    "plt.title('Clear water sump level in Consecutive Days')\n",
    "plt.grid(True)\n",
    "plt.legend()\n",
    "plt.xticks(rotation=45)\n",
    "plt.show()"
   ]
  },
  {
   "cell_type": "code",
   "execution_count": null,
   "id": "74",
   "metadata": {},
   "outputs": [],
   "source": [
    "df1 = df[df['CLEAR WATER SUMP LEVEL IN M'] != 'NO DATA']\n",
    "Daily_CLEAR_WATER_SUMP_LEVEL= df1.groupby('DATE')['CLEAR WATER SUMP LEVEL IN M'].agg('max').reset_index(name='CLEAR_WATER_SUMP_LEVEL_IN_M').sort_values(by=\"CLEAR_WATER_SUMP_LEVEL_IN_M\",ascending=False)\n",
    "Daily_CLEAR_WATER_SUMP_LEVEL"
   ]
  },
  {
   "cell_type": "code",
   "execution_count": null,
   "id": "75",
   "metadata": {},
   "outputs": [],
   "source": [
    "df[df['DATE']=='2023-11-25']"
   ]
  },
  {
   "cell_type": "markdown",
   "id": "76",
   "metadata": {},
   "source": [
    "# CLEAR WATER PUMPING FLOW m3/h "
   ]
  },
  {
   "cell_type": "code",
   "execution_count": null,
   "id": "77",
   "metadata": {},
   "outputs": [],
   "source": [
    "df['CLEAR WATER PUMPING FLOW m3/h'] = pd.to_numeric(df['CLEAR WATER PUMPING FLOW m3/h'], errors='coerce')\n",
    "yearly_clear_water_flow = df.groupby('YEAR')['CLEAR WATER PUMPING FLOW m3/h'].agg('sum').reset_index(name='Volume_of_clear_water_flow').sort_values(by=\"Volume_of_clear_water_flow\",ascending=False)\n",
    "yearly_clear_water_flow"
   ]
  },
  {
   "cell_type": "code",
   "execution_count": null,
   "id": "78",
   "metadata": {},
   "outputs": [],
   "source": [
    "plt.figure(figsize=(10, 6))\n",
    "plt.bar(yearly_clear_water_flow['YEAR'], yearly_clear_water_flow['Volume_of_clear_water_flow'], color='skyblue')\n",
    "plt.xlabel('Year')\n",
    "plt.ylabel('Volume of Clear Water Flow')\n",
    "plt.title('Volume of Clear Water Flow for Each Year')\n",
    "plt.xticks(yearly_raw_water_flow['YEAR'])\n",
    "plt.grid(axis='y', linestyle='--', alpha=0.7)\n",
    "plt.show()"
   ]
  },
  {
   "cell_type": "code",
   "execution_count": null,
   "id": "79",
   "metadata": {},
   "outputs": [],
   "source": [
    "df['CLEAR WATER PUMPING FLOW m3/h'] = pd.to_numeric(df['CLEAR WATER PUMPING FLOW m3/h'], errors='coerce')\n",
    "month_yearly_clear_water_flow = df.groupby('MONTH-YEAR')['CLEAR WATER PUMPING FLOW m3/h'].agg('sum').reset_index(name='Volume_of_clear_water_flow').sort_values(by=\"Volume_of_clear_water_flow\",ascending=False)\n",
    "month_yearly_clear_water_flow"
   ]
  },
  {
   "cell_type": "code",
   "execution_count": null,
   "id": "80",
   "metadata": {},
   "outputs": [],
   "source": [
    "plt.figure(figsize=(14, 6))\n",
    "# plt.bar(month_yearly_clear_water_flow['MONTH-YEAR'], month_yearly_clear_water_flow['Volume_of_clear_water_flow'], color='blue', alpha=1)\n",
    "bars = plt.bar(month_yearly_clear_water_flow['MONTH-YEAR'], month_yearly_clear_water_flow['Volume_of_clear_water_flow'], color='blue')\n",
    "\n",
    "for bar in bars:\n",
    "    height = bar.get_height()\n",
    "    plt.text(bar.get_x() + bar.get_width()/2, height, f'{height}', ha='center', va='bottom')\n",
    "plt.ylabel('Volume of Clear Water Flow')\n",
    "plt.title('Volume of Clear Water Flow for Each Month-Year')\n",
    "plt.xticks(rotation=45)\n",
    "plt.grid(True, linestyle='--', alpha=0.7)\n",
    "plt.tight_layout()\n",
    "plt.show()"
   ]
  },
  {
   "cell_type": "code",
   "execution_count": null,
   "id": "81",
   "metadata": {},
   "outputs": [],
   "source": [
    "df2022_day3 = df2022[df2022['DATE'] == '2022-01-06']\n",
    "df2022_day3 =df2022_day3.groupby(['DATE','TIME','CLEAR WATER SUMP LEVEL IN M'])['CLEAR WATER PUMPING FLOW m3/h'].max().reset_index()\n",
    "\n",
    "df2022_day3['CLEAR WATER PUMPING FLOW m3/h']"
   ]
  },
  {
   "cell_type": "code",
   "execution_count": null,
   "id": "82",
   "metadata": {},
   "outputs": [],
   "source": [
    "df2022_day3 = df2022[df2022['DATE'] == '2022-01-06']\n",
    "df2022_day3 =df2022_day3.groupby(['DATE','TIME','CLEAR WATER SUMP LEVEL IN M'])['CLEAR WATER PUMPING FLOW m3/h'].max().reset_index()\n",
    "\n",
    "plt.figure(figsize=(14, 10))\n",
    "plt.plot(df2022_day5['TIME'], df2022_day5['RAW WATER FLOW IN m3/h'], label='raw water flow', marker='o',color='m')\n",
    "\n",
    "plt.plot(df2022_day3['TIME'], df2022_day3['CLEAR WATER PUMPING FLOW m3/h'].astype(float),label='clear water flow',marker='o')\n",
    "for i in range(len(df2022_day3)):\n",
    "    plt.text(df2022_day3['TIME'][i], df2022_day3['CLEAR WATER PUMPING FLOW m3/h'].astype(float)[i], str(df2022_day3['CLEAR WATER SUMP LEVEL IN M'][i]), fontsize=13, color='red')\n",
    "plt.grid(True)\n",
    "plt.legend()\n",
    "plt.xticks(rotation=45)\n",
    "plt.show()"
   ]
  },
  {
   "cell_type": "markdown",
   "id": "83",
   "metadata": {},
   "source": [
    "# TREATED WATER PRODUCTION IN m3/h"
   ]
  },
  {
   "cell_type": "code",
   "execution_count": null,
   "id": "84",
   "metadata": {},
   "outputs": [],
   "source": [
    "df['TREATED WATER PRODUCTION IN m3/h'].unique()"
   ]
  },
  {
   "cell_type": "code",
   "execution_count": null,
   "id": "85",
   "metadata": {},
   "outputs": [],
   "source": [
    "yearly_clear_water_production = df.groupby('YEAR')['TREATED WATER PRODUCTION IN m3/h'].agg('sum').reset_index(name='Volume_of_clear_water_production').sort_values(by=\"Volume_of_clear_water_production\",ascending=False)\n",
    "yearly_clear_water_production"
   ]
  },
  {
   "cell_type": "code",
   "execution_count": null,
   "id": "86",
   "metadata": {},
   "outputs": [],
   "source": [
    "plt.figure(figsize=(10, 6))\n",
    "plt.bar(yearly_clear_water_production['YEAR'], yearly_clear_water_production['Volume_of_clear_water_production'], color='skyblue')\n",
    "plt.xlabel('Year')\n",
    "plt.ylabel('Volume of Clear Water Production')\n",
    "plt.title('Volume of Clear Water Production for Each Year')\n",
    "plt.xticks(yearly_clear_water_production['YEAR'])\n",
    "plt.grid(axis='y', linestyle='--', alpha=0.7)\n",
    "plt.show()"
   ]
  },
  {
   "cell_type": "code",
   "execution_count": null,
   "id": "87",
   "metadata": {},
   "outputs": [],
   "source": [
    "month_yearly_treated_water_production = df.groupby('MONTH-YEAR')['TREATED WATER PRODUCTION IN m3/h'].agg('sum').reset_index(name='VOLUME OF TREATED WATER PRODUCTION')\n",
    "month_yearly_treated_water_production"
   ]
  },
  {
   "cell_type": "code",
   "execution_count": null,
   "id": "88",
   "metadata": {},
   "outputs": [],
   "source": [
    "import matplotlib.pyplot as plt\n",
    "plt.figure(figsize=(14, 6))\n",
    "plt.plot(month_yearly_treated_water_production['MONTH-YEAR'],month_yearly_treated_water_production['VOLUME OF TREATED WATER PRODUCTION'].astype(float), marker='o', color='blue')\n",
    "plt.xlabel('Month-Year')\n",
    "plt.ylabel('Volume of treated water production')\n",
    "plt.title('Volume of treated water production for Each Month-Year')\n",
    "plt.xticks(rotation=45)\n",
    "plt.grid(True, linestyle='--', alpha=0.7)\n",
    "for i in range(len(month_yearly_treated_water_production)):\n",
    "    plt.text(month_yearly_treated_water_production['MONTH-YEAR'][i], month_yearly_treated_water_production['VOLUME OF TREATED WATER PRODUCTION'][i], str(month_yearly_treated_water_production['VOLUME OF TREATED WATER PRODUCTION'][i]), ha='center', va='bottom')\n",
    "\n",
    "plt.tight_layout()\n",
    "plt.show()\n"
   ]
  },
  {
   "cell_type": "code",
   "execution_count": null,
   "id": "89",
   "metadata": {},
   "outputs": [],
   "source": [
    "# Convert 'TREATED WATER PRODUCTION IN m3/h' to numeric\n",
    "df['TREATED WATER PRODUCTION IN m3/h'] = pd.to_numeric(df['TREATED WATER PRODUCTION IN m3/h'], errors='coerce')\n",
    "\n",
    "# Group by date and calculate the sum of treated water production for each day\n",
    "daily_treated_water_production = df.groupby('DATE')['TREATED WATER PRODUCTION IN m3/h'].agg('sum').reset_index(name='Volume_of_treated_water_production').sort_values(by=\"Volume_of_treated_water_production\", ascending=False)\n",
    "daily_treated_water_production\n"
   ]
  },
  {
   "cell_type": "code",
   "execution_count": null,
   "id": "90",
   "metadata": {},
   "outputs": [],
   "source": [
    "plt.figure(figsize=(10, 6))\n",
    "\n",
    "# Plot treated water production\n",
    "plt.plot(month_yearly_treated_water_production['MONTH-YEAR'], month_yearly_treated_water_production['VOLUME OF TREATED WATER PRODUCTION'].astype(float), marker='o', color='blue', label='Treated Water Production')\n",
    "\n",
    "# Plot raw water flow\n",
    "plt.plot(month_yearly_raw_water_flow['MONTH-YEAR'], month_yearly_raw_water_flow['Volume_of_raw_water_flow'].astype(float), marker='o', color='red', label='Raw Water Flow')\n",
    "\n",
    "# Add labels and title\n",
    "plt.xlabel('Month-Year')\n",
    "plt.ylabel('Volume (m3)')\n",
    "plt.title('Treated Water Production vs Raw Water Flow')\n",
    "plt.xticks(rotation=45)\n",
    "plt.legend()\n",
    "plt.grid(True)\n",
    "plt.tight_layout()\n",
    "plt.show()\n"
   ]
  },
  {
   "cell_type": "code",
   "execution_count": null,
   "id": "91",
   "metadata": {},
   "outputs": [],
   "source": [
    "sorted(df['REMARKS'].unique())"
   ]
  },
  {
   "cell_type": "code",
   "execution_count": null,
   "id": "92",
   "metadata": {},
   "outputs": [],
   "source": []
  },
  {
   "cell_type": "code",
   "execution_count": null,
   "id": "93",
   "metadata": {},
   "outputs": [],
   "source": []
  }
 ],
 "metadata": {
  "kernelspec": {
   "display_name": "Python 3 (ipykernel)",
   "language": "python",
   "name": "python3"
  },
  "language_info": {
   "codemirror_mode": {
    "name": "ipython",
    "version": 3
   },
   "file_extension": ".py",
   "mimetype": "text/x-python",
   "name": "python",
   "nbconvert_exporter": "python",
   "pygments_lexer": "ipython3",
   "version": "3.11.5"
  }
 },
 "nbformat": 4,
 "nbformat_minor": 5
}

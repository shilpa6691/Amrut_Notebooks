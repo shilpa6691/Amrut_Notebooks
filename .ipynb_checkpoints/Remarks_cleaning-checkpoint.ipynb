{
 "cells": [
  {
   "cell_type": "code",
   "execution_count": null,
   "id": "0",
   "metadata": {},
   "outputs": [],
   "source": [
    "import numpy as np\n",
    "import pandas as pd\n",
    "import datetime\n",
    "import matplotlib.pyplot as plt\n",
    "import seaborn as sns\n",
    "import re\n",
    "from datetime import datetime"
   ]
  },
  {
   "cell_type": "code",
   "execution_count": null,
   "id": "1",
   "metadata": {},
   "outputs": [],
   "source": [
    "#Loading dataset"
   ]
  },
  {
   "cell_type": "code",
   "execution_count": null,
   "id": "2",
   "metadata": {},
   "outputs": [],
   "source": [
    "df=pd.read_csv('All_Errors_Corrected.csv',parse_dates=['Standardized_Date'])\n",
    "# df"
   ]
  },
  {
   "cell_type": "code",
   "execution_count": null,
   "id": "3",
   "metadata": {},
   "outputs": [],
   "source": [
    "def categorize_remarks(data):\n",
    "    \"\"\"\n",
    "    Categorizes the remarks column based on specific conditions:\n",
    "    1. 'Power Failure at Intake' if:\n",
    "       - Contains 'intake' (case-insensitive)\n",
    "       - Contains 'power' (case-insensitive)\n",
    "       - Does not contain 'wtp' (case-insensitive)\n",
    "    2. 'Power Failure at WTP' if:\n",
    "       - Does not contain 'intake'\n",
    "       - Contains 'power' (case-insensitive)\n",
    "       - Contains 'wtp' (case-insensitive)\n",
    "    \"\"\"\n",
    "    def categorize(row):\n",
    "        remarks = row['REMARKS']\n",
    "        raw_water = row['RAW WATER FLOW IN m3/h']\n",
    "        clear_water_pumping = row['CLEAR WATER PUMPING FLOW m3/h']\n",
    "        \n",
    "        if pd.notna(remarks):\n",
    "            remarks_lower = remarks.lower()\n",
    "            power_failure = 'power' in remarks_lower or 'failure' in remarks_lower\n",
    "            has_intake = 'intake' in remarks_lower\n",
    "            has_wtp = 'wtp' in remarks_lower\n",
    "            \n",
    "            if (has_intake and power_failure and not has_wtp) or (power_failure and not has_wtp and (raw_water == 0.0 or pd.isna(raw_water)) and not pd.isna(clear_water_pumping) and clear_water_pumping != 0.0):\n",
    "                return 'Power Failure at Intake'\n",
    "            elif (not has_intake and power_failure and has_wtp) or (power_failure and not has_intake and not pd.isna(raw_water) and raw_water !=0.0 and (clear_water_pumping == 0.0 or pd.isna(clear_water_pumping))):\n",
    "                return 'Power Failure at WTP'\n",
    "            elif (has_intake and power_failure and has_wtp) or (not has_intake and not has_wtp and power_failure and (raw_water == 0.0 or pd.isna(raw_water)) and (clear_water_pumping == 0.0 or pd.isna(clear_water_pumping))):\n",
    "                return 'Power Failure at intake and WTP'\n",
    "            elif ('cleaning' in remarks_lower or 'wash' in remarks_lower) and has_intake:\n",
    "                return 'intake cleaning'\n",
    "            elif 'maint' in remarks_lower:\n",
    "                return 'maintanance'\n",
    "#         return 'Other'\n",
    " \n",
    "    # Apply the categorization function to each row\n",
    "    data['remarks category'] = data.apply(categorize, axis=1)\n",
    "    return data"
   ]
  },
  {
   "cell_type": "code",
   "execution_count": null,
   "id": "4",
   "metadata": {},
   "outputs": [],
   "source": [
    "df=categorize_remarks(df)\n",
    "df"
   ]
  },
  {
   "cell_type": "code",
   "execution_count": null,
   "id": "5",
   "metadata": {},
   "outputs": [],
   "source": [
    "df[df['REMARKS'] == 'power failed @9.45 to 2.25']"
   ]
  },
  {
   "cell_type": "code",
   "execution_count": null,
   "id": "6",
   "metadata": {},
   "outputs": [],
   "source": [
    "df[df['remarks category'] == 'Other']['REMARKS'].unique()"
   ]
  },
  {
   "cell_type": "code",
   "execution_count": null,
   "id": "7",
   "metadata": {},
   "outputs": [],
   "source": [
    "# Function to fill NaN values in 'remarks category' based on the conditions\n",
    "def fill_remarks_category(df):\n",
    "    previous_remark = None\n",
    "\n",
    "    for i in range(len(df)):\n",
    "        current_remark = df.loc[i, 'remarks category']\n",
    "        raw_water_flow = df.loc[i, 'RAW WATER FLOW IN m3/h']\n",
    "        clear_water_pumping_flow = df.loc[i, 'CLEAR WATER PUMPING FLOW m3/h']\n",
    "\n",
    "        # Check if 'remarks category' is NaN and if the previous row had a non-NaN remark\n",
    "        if pd.isna(current_remark):\n",
    "            # Check if raw water and treated water columns are 0 or NaN\n",
    "            if ((raw_water_flow == 0 or pd.isna(raw_water_flow)) and (clear_water_pumping_flow == 0 or pd.isna(clear_water_pumping_flow))) or ((raw_water_flow == 0) and (clear_water_pumping_flow != 0)) or ((raw_water_flow != 0) and (clear_water_pumping_flow == 0)):\n",
    "                # Fill the current NaN remark with the previous non-NaN remark\n",
    "                df.loc[i, 'remarks category'] = previous_remark\n",
    "            else:\n",
    "                previous_remark = current_remark\n",
    "                \n",
    "        else:\n",
    "            # Update the previous_remark if the current remark is not NaN\n",
    "            previous_remark = current_remark\n",
    "\n",
    "    return df\n",
    "\n",
    "# Apply the function to the DataFrame\n",
    "df_filled = fill_remarks_category(df)"
   ]
  },
  {
   "cell_type": "code",
   "execution_count": null,
   "id": "8",
   "metadata": {},
   "outputs": [],
   "source": []
  }
 ],
 "metadata": {
  "kernelspec": {
   "display_name": "Python 3 (ipykernel)",
   "language": "python",
   "name": "python3"
  },
  "language_info": {
   "codemirror_mode": {
    "name": "ipython",
    "version": 3
   },
   "file_extension": ".py",
   "mimetype": "text/x-python",
   "name": "python",
   "nbconvert_exporter": "python",
   "pygments_lexer": "ipython3",
   "version": "3.11.5"
  }
 },
 "nbformat": 4,
 "nbformat_minor": 5
}

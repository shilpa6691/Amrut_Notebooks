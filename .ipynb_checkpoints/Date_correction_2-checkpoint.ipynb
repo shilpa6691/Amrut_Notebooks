{
 "cells": [
  {
   "cell_type": "code",
   "execution_count": null,
   "id": "0",
   "metadata": {},
   "outputs": [],
   "source": [
    "import pandas as pd\n",
    "import plotly.express as px\n",
    "import matplotlib.pyplot as plt\n",
    "import seaborn as sns\n",
    "import numpy as np\n",
    "import re\n",
    "from datetime import datetime\n",
    "\n",
    "flow_rate_per_pump = 932 # m3/hr for pumps at wtp for clear water pumping\n",
    "\n",
    "df = pd.read_csv('Pattuvam_data_till_Aug_2024_corrected.csv')\n",
    "df"
   ]
  },
  {
   "cell_type": "code",
   "execution_count": null,
   "id": "1",
   "metadata": {},
   "outputs": [],
   "source": [
    "#Loading dataset"
   ]
  },
  {
   "cell_type": "code",
   "execution_count": null,
   "id": "2",
   "metadata": {},
   "outputs": [],
   "source": [
    "### For Date standardistaion\n",
    "\n",
    "def standardize_date_format(date_str):\n",
    "    if isinstance(date_str, str):  # Ensure the input is a string\n",
    "        # Handle DD/MM/YYYY and variations\n",
    "        if re.match(r'^\\d{2}/\\d{2}/\\d{4}$', date_str):\n",
    "            return date_str  # Already in DD/MM/YYYY format\n",
    "        elif re.match(r'^\\d{1}/\\d{1}/\\d{4}$', date_str):                   # D/M/YYYY\n",
    "            date_obj = datetime.strptime(date_str, '%d/%m/%Y')\n",
    "            return date_obj.strftime('%d/%m/%Y')\n",
    "        elif re.match(r'^\\d{2}/\\d{1}/\\d{4}$', date_str):                   # DD/M/YYYY\n",
    "            date_obj = datetime.strptime(date_str, '%d/%m/%Y')\n",
    "            return date_obj.strftime('%d/%m/%Y')\n",
    "        elif re.match(r'^\\d{1}/\\d{2}/\\d{4}$', date_str):                   # D/MM/YYYY\n",
    "            date_obj = datetime.strptime(date_str, '%d/%m/%Y')\n",
    "            return date_obj.strftime('%d/%m/%Y')\n",
    "        elif re.match(r'^\\d{1}/\\d{1}/\\d{2}$', date_str):                   # D/M/YY\n",
    "            date_obj = datetime.strptime(date_str, '%d/%m/%y')\n",
    "            return date_obj.strftime('%d/%m/%Y')\n",
    "        elif re.match(r'^\\d{2}/\\d{1}/\\d{2}$', date_str):                   # DD/M/YY\n",
    "            date_obj = datetime.strptime(date_str, '%d/%m/%y')\n",
    "            return date_obj.strftime('%d/%m/%Y')\n",
    "        elif re.match(r'^\\d{1}/\\d{2}/\\d{2}$', date_str):                   # D/MM/YY\n",
    "            date_obj = datetime.strptime(date_str, '%d/%m/%y')\n",
    "            return date_obj.strftime('%d/%m/%Y')\n",
    "        \n",
    "        # Convert DD.MM.YYYY to DD/MM/YYYY\n",
    "        elif re.match(r'^\\d{1,2}\\.\\d{1,2}\\.\\d{4}$', date_str):\n",
    "            day, month, year = date_str.split('.')\n",
    "            return f\"{int(day):02}/{int(month):02}/{year}\"  # Format as DD/MM/YYYY\n",
    "        elif re.match(r'^\\d{1,2}\\.\\d{1,2}\\.\\d{2}$', date_str):\n",
    "            # Convert DD.MM.YY to DD/MM/YYYY\n",
    "            day, month, year = date_str.split('.')\n",
    "            return f\"{int(day):02}/{int(month):02}/{int(year):02}\"  # Format as DD/MM/YYYY\n",
    "        elif re.match(r'^\\d{4}-\\d{2}-\\d{2}$', date_str):\n",
    "            # Convert YYYY-MM-DD to DD/MM/YYYY\n",
    "            date_obj = datetime.strptime(date_str, '%Y-%m-%d')\n",
    "            return date_obj.strftime('%d/%m/%Y')\n",
    "        elif re.match(r'^\\d{1,2}-\\d{1,2}-\\d{4}$', date_str):\n",
    "            # Convert DD-MM-YYYY to DD/MM/YYYY\n",
    "            return date_str.replace('-', '/')\n",
    "        elif re.match(r'^[A-Za-z]+\\s\\d{1,2},\\s\\d{4}$', date_str):\n",
    "            # Convert Month DD, YYYY to DD/MM/YYYY\n",
    "            date_obj = datetime.strptime(date_str, '%B %d, %Y')\n",
    "            return date_obj.strftime('%d/%m/%Y')\n",
    "\n",
    "    return 'Unknown'\n",
    "\n",
    "df['Standardized_Date'] = df['DATE'].apply(standardize_date_format)\n",
    "\n",
    "\n",
    "print(\"DataFrame with standardized dates:\")\n",
    "df"
   ]
  },
  {
   "cell_type": "code",
   "execution_count": null,
   "id": "3",
   "metadata": {},
   "outputs": [],
   "source": [
    "df[df['Standardized_Date']=='Unknown']"
   ]
  },
  {
   "cell_type": "code",
   "execution_count": null,
   "id": "4",
   "metadata": {},
   "outputs": [],
   "source": [
    "### For time standardisation\n",
    "\n",
    "def standardize_time(time_str):\n",
    " \n",
    "    time_str = time_str.replace(' ', ':')     #For Replacing the spaces with colons\n",
    "    \n",
    "    \n",
    "        #For cases where time is not in HH:MM format\n",
    "        \n",
    "    if len(time_str) == 1:  # Single digit hour\n",
    "        time_str = f'0{time_str}:00'\n",
    "    elif len(time_str) == 2:  # Only hour \n",
    "        time_str = f'{time_str}:00'\n",
    "    elif len(time_str) == 4:  # Format like HHMM\n",
    "        time_str = f'{time_str[:2]}:{time_str[2:]}'\n",
    "    elif len(time_str) == 5 and ':' not in time_str:  # Format like HHMM\n",
    "        time_str = f'{time_str[:2]}:{time_str[2:]}'\n",
    "    \n",
    "    # Convert to datetime and format as HH:MM\n",
    "    try:\n",
    "        return pd.to_datetime(time_str, format='%H:%M', errors='coerce').strftime('%H:%M')\n",
    "    except ValueError:\n",
    "        return None  # Return None for unparseable formats\n",
    "\n",
    "# Apply the function to the TIME column\n",
    "df['STANDARDIZED_TIME'] = df['TIME'].apply(standardize_time)\n",
    "df"
   ]
  },
  {
   "cell_type": "code",
   "execution_count": null,
   "id": "5",
   "metadata": {},
   "outputs": [],
   "source": [
    "df.dtypes"
   ]
  },
  {
   "cell_type": "code",
   "execution_count": null,
   "id": "6",
   "metadata": {},
   "outputs": [],
   "source": [
    "df.columns"
   ]
  },
  {
   "cell_type": "code",
   "execution_count": null,
   "id": "7",
   "metadata": {},
   "outputs": [],
   "source": [
    "df=df[['Standardized_Date','STANDARDIZED_TIME','RAW WATER FLOW IN m3/h',\n",
    "       'CLEAR WATER SUMP LEVEL IN Meter', 'CLEAR WATER PUMPING FLOW m3/h',\n",
    "       'TREATED WATER PRODUCTION IN m3/h', 'REMARKS']]\n",
    "df"
   ]
  },
  {
   "cell_type": "code",
   "execution_count": null,
   "id": "8",
   "metadata": {},
   "outputs": [],
   "source": [
    "df['Standardized_Date'].isna().sum()"
   ]
  },
  {
   "cell_type": "code",
   "execution_count": null,
   "id": "9",
   "metadata": {},
   "outputs": [],
   "source": [
    "df['STANDARDIZED_TIME'].isna().sum()"
   ]
  },
  {
   "cell_type": "code",
   "execution_count": null,
   "id": "10",
   "metadata": {},
   "outputs": [],
   "source": [
    "df[2130:2180]"
   ]
  },
  {
   "cell_type": "code",
   "execution_count": null,
   "id": "11",
   "metadata": {},
   "outputs": [],
   "source": [
    "df[21650:21654]"
   ]
  },
  {
   "cell_type": "code",
   "execution_count": null,
   "id": "12",
   "metadata": {},
   "outputs": [],
   "source": [
    "df[22370:22374]"
   ]
  },
  {
   "cell_type": "code",
   "execution_count": null,
   "id": "13",
   "metadata": {},
   "outputs": [],
   "source": [
    "df['Standardized_Date'] = pd.to_datetime(df['Standardized_Date'], format='%d/%m/%Y',errors='coerce')\n",
    "df"
   ]
  },
  {
   "cell_type": "code",
   "execution_count": null,
   "id": "14",
   "metadata": {},
   "outputs": [],
   "source": [
    "df['Standardized_Date'].isna().sum()"
   ]
  },
  {
   "cell_type": "code",
   "execution_count": null,
   "id": "15",
   "metadata": {},
   "outputs": [],
   "source": [
    "df[df['Standardized_Date'].isna()]"
   ]
  },
  {
   "cell_type": "code",
   "execution_count": null,
   "id": "16",
   "metadata": {},
   "outputs": [],
   "source": [
    "df.dtypes"
   ]
  },
  {
   "cell_type": "code",
   "execution_count": null,
   "id": "17",
   "metadata": {},
   "outputs": [],
   "source": []
  }
 ],
 "metadata": {
  "kernelspec": {
   "display_name": "Python 3 (ipykernel)",
   "language": "python",
   "name": "python3"
  },
  "language_info": {
   "codemirror_mode": {
    "name": "ipython",
    "version": 3
   },
   "file_extension": ".py",
   "mimetype": "text/x-python",
   "name": "python",
   "nbconvert_exporter": "python",
   "pygments_lexer": "ipython3",
   "version": "3.11.5"
  }
 },
 "nbformat": 4,
 "nbformat_minor": 5
}

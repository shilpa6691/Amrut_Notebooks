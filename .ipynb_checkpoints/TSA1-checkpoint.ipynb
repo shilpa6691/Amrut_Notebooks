{
 "cells": [
  {
   "cell_type": "code",
   "execution_count": null,
   "id": "0",
   "metadata": {},
   "outputs": [],
   "source": [
    "import pandas as pd\n",
    "import numpy as np\n",
    "import plotly.express as px\n",
    "import matplotlib.pyplot as plt"
   ]
  },
  {
   "cell_type": "code",
   "execution_count": null,
   "id": "1",
   "metadata": {},
   "outputs": [],
   "source": [
    "#Loading dataset"
   ]
  },
  {
   "cell_type": "code",
   "execution_count": null,
   "id": "2",
   "metadata": {},
   "outputs": [],
   "source": [
    "data = pd.read_csv('final_data_in_ML.csv',index_col='Standardized_Date',parse_dates=True)\n",
    "data"
   ]
  },
  {
   "cell_type": "code",
   "execution_count": null,
   "id": "3",
   "metadata": {},
   "outputs": [],
   "source": [
    "target = 'CLEAR WATER PUMPING FLOW ML'"
   ]
  },
  {
   "cell_type": "code",
   "execution_count": null,
   "id": "4",
   "metadata": {},
   "outputs": [],
   "source": [
    "# Create lag features for the target and other relevant variables\n",
    "data['PUMPING_FLOW_LAG_1'] = data[target].shift(1)\n",
    "data['PUMPING_FLOW_LAG_2'] = data[target].shift(2)\n",
    "data['RAW_WATER_LAG_1'] = data['RAW WATER FLOW IN ML'].shift(1)\n",
    "data['SUMP_LEVEL_LAG_1'] = data['CLEAR WATER SUMP LEVEL IN Meter'].shift(1)\n",
    "\n",
    "# Create rolling mean features (e.g., 7-day rolling mean)\n",
    "data['PUMPING_FLOW_ROLLING_MEAN_7'] = data[target].rolling(window=7).mean()\n",
    "\n",
    "# Drop rows with NaN values caused by shifting and rolling\n",
    "data.dropna(inplace=True)\n"
   ]
  },
  {
   "cell_type": "code",
   "execution_count": null,
   "id": "5",
   "metadata": {},
   "outputs": [],
   "source": [
    "# Define the cutoff for train-test split\n",
    "train_size = int(len(data) * 0.8)\n",
    "\n",
    "# Split into train and test sets\n",
    "X = data[['PUMPING_FLOW_LAG_1', 'PUMPING_FLOW_LAG_2', 'RAW_WATER_LAG_1', \n",
    "          'SUMP_LEVEL_LAG_1', 'PUMPING_FLOW_ROLLING_MEAN_7']]\n",
    "y = data[target]\n",
    "\n",
    "X_train, X_test = X[:train_size], X[train_size:]\n",
    "y_train, y_test = y[:train_size], y[train_size:]\n"
   ]
  },
  {
   "cell_type": "code",
   "execution_count": null,
   "id": "6",
   "metadata": {},
   "outputs": [],
   "source": [
    "import xgboost as xgb\n",
    "from sklearn.metrics import mean_squared_error\n",
    "\n",
    "# Initialize the XGBoost model\n",
    "model = xgb.XGBRegressor(objective='reg:squarederror', n_estimators=1000)\n",
    "\n",
    "# Train the model\n",
    "model.fit(X_train, y_train)\n",
    "\n",
    "# Make predictions on the test set\n",
    "y_pred = model.predict(X_test)\n"
   ]
  },
  {
   "cell_type": "code",
   "execution_count": null,
   "id": "7",
   "metadata": {},
   "outputs": [],
   "source": [
    "# Evaluate the model\n",
    "mse = mean_squared_error(y_test, y_pred)\n",
    "rmse = mse ** 0.5\n",
    "print(f'RMSE: {rmse}')\n"
   ]
  },
  {
   "cell_type": "code",
   "execution_count": null,
   "id": "8",
   "metadata": {},
   "outputs": [],
   "source": [
    "import matplotlib.pyplot as plt\n",
    "\n",
    "# Plot actual vs predicted\n",
    "plt.figure(figsize=(10, 6))\n",
    "plt.plot(data.index[train_size:], y_test, label='Actual')\n",
    "plt.plot(data.index[train_size:], y_pred, label='Predicted')\n",
    "plt.xlabel('Date')\n",
    "plt.ylabel('Clear Water Pumping Flow (ML)')\n",
    "plt.title('Actual vs Predicted - Clear Water Pumping Flow')\n",
    "plt.legend()\n",
    "plt.show()\n"
   ]
  },
  {
   "cell_type": "code",
   "execution_count": null,
   "id": "9",
   "metadata": {},
   "outputs": [],
   "source": [
    "# Print the predicted values\n",
    "print(\"Predicted values:\")\n",
    "y_pred\n"
   ]
  },
  {
   "cell_type": "code",
   "execution_count": null,
   "id": "10",
   "metadata": {},
   "outputs": [],
   "source": [
    "# Create a DataFrame to show the actual and predicted values side by side\n",
    "predictions_df = pd.DataFrame({\n",
    "    'Date': data.index[train_size:],   # Dates from the test set\n",
    "    'Actual': y_test.values,           # Actual values\n",
    "    'Predicted': y_pred                # Predicted values\n",
    "})\n",
    "\n",
    "# Set the Date as the index\n",
    "predictions_df.set_index('Date', inplace=True)\n",
    "\n",
    "# Print the DataFrame with actual and predicted values\n",
    "predictions_df\n"
   ]
  },
  {
   "cell_type": "code",
   "execution_count": null,
   "id": "11",
   "metadata": {},
   "outputs": [],
   "source": []
  }
 ],
 "metadata": {
  "kernelspec": {
   "display_name": "Python 3 (ipykernel)",
   "language": "python",
   "name": "python3"
  },
  "language_info": {
   "codemirror_mode": {
    "name": "ipython",
    "version": 3
   },
   "file_extension": ".py",
   "mimetype": "text/x-python",
   "name": "python",
   "nbconvert_exporter": "python",
   "pygments_lexer": "ipython3",
   "version": "3.11.5"
  }
 },
 "nbformat": 4,
 "nbformat_minor": 5
}

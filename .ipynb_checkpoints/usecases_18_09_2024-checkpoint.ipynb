{
 "cells": [
  {
   "cell_type": "code",
   "execution_count": null,
   "id": "0",
   "metadata": {},
   "outputs": [],
   "source": [
    "import pandas as pd\n",
    "import numpy as np\n",
    "import matplotlib.pyplot as plt"
   ]
  },
  {
   "cell_type": "code",
   "execution_count": null,
   "id": "1",
   "metadata": {},
   "outputs": [],
   "source": [
    "#Loading dataset"
   ]
  },
  {
   "cell_type": "code",
   "execution_count": null,
   "id": "2",
   "metadata": {},
   "outputs": [],
   "source": [
    "data = pd.read_csv('final_data_in_ML.csv',index_col='Standardized_Date',parse_dates=True)\n",
    "data.shape"
   ]
  },
  {
   "cell_type": "code",
   "execution_count": null,
   "id": "3",
   "metadata": {},
   "outputs": [],
   "source": [
    "data.info()"
   ]
  },
  {
   "cell_type": "code",
   "execution_count": null,
   "id": "4",
   "metadata": {},
   "outputs": [],
   "source": [
    "data.columns"
   ]
  },
  {
   "cell_type": "code",
   "execution_count": null,
   "id": "5",
   "metadata": {},
   "outputs": [],
   "source": [
    "data_2days = data[(data.index>='2022-01-11')&(data.index<='2022-01-12')].reset_index()\n",
    "data_2days"
   ]
  },
  {
   "cell_type": "code",
   "execution_count": null,
   "id": "6",
   "metadata": {},
   "outputs": [],
   "source": [
    "import matplotlib.pyplot as plt"
   ]
  },
  {
   "cell_type": "code",
   "execution_count": null,
   "id": "7",
   "metadata": {},
   "outputs": [],
   "source": [
    "data_11_jan_2022 = data[(data.index=='2022-01-11')].reset_index()\n",
    "data_12_jan_2022 = data[(data.index=='2022-01-12')].reset_index()\n",
    "data_12_jan_2022"
   ]
  },
  {
   "cell_type": "code",
   "execution_count": null,
   "id": "8",
   "metadata": {},
   "outputs": [],
   "source": [
    "plt.plot(data_12_jan_2022['STANDARDIZED_TIME'], data_12_jan_2022['RAW WATER FLOW IN ML'], label='January 12, 2022', marker='o',color='g')\n",
    "plt.plot(data_11_jan_2022['STANDARDIZED_TIME'], data_11_jan_2022['RAW WATER FLOW IN ML'], label='January 11, 2022', marker='o',color='r')\n",
    "plt.xticks(rotation=45)\n",
    "plt.show()"
   ]
  },
  {
   "cell_type": "markdown",
   "id": "9",
   "metadata": {},
   "source": [
    "## Resample the data to day"
   ]
  },
  {
   "cell_type": "code",
   "execution_count": null,
   "id": "10",
   "metadata": {},
   "outputs": [],
   "source": [
    "data_day = data.resample('D').agg({'RAW WATER FLOW IN ML':'sum',\n",
    "                                   'CLEAR WATER SUMP LEVEL IN Meter':'mean',\n",
    "                                   'CLEAR WATER PUMPING FLOW ML':'sum',\n",
    "                                   'TREATED WATER PRODUCTION IN ML':'sum', 'remarks category':'unique'})"
   ]
  },
  {
   "cell_type": "code",
   "execution_count": null,
   "id": "11",
   "metadata": {},
   "outputs": [],
   "source": [
    "data_day"
   ]
  },
  {
   "cell_type": "code",
   "execution_count": null,
   "id": "12",
   "metadata": {},
   "outputs": [],
   "source": []
  },
  {
   "cell_type": "markdown",
   "id": "13",
   "metadata": {},
   "source": [
    "## Recovery Percentage\n",
    "The significance of this metric is that it indicates how much of the raw water input is successfully converted into treated water output. A higher recovery percentage suggests that the plant is optimizing the utilization of raw water resources and minimizing water losses during the treatment process. This metric is important for evaluating the plant's operational efficiency and water conservation efforts "
   ]
  },
  {
   "cell_type": "code",
   "execution_count": null,
   "id": "14",
   "metadata": {},
   "outputs": [],
   "source": [
    "data_day['Recovery_percentage'] = ((data_day['TREATED WATER PRODUCTION IN ML']/data_day['RAW WATER FLOW IN ML'])*100).round(2)\n",
    "data_day.shape"
   ]
  },
  {
   "cell_type": "code",
   "execution_count": null,
   "id": "15",
   "metadata": {},
   "outputs": [],
   "source": [
    "data_day"
   ]
  },
  {
   "cell_type": "code",
   "execution_count": null,
   "id": "16",
   "metadata": {},
   "outputs": [],
   "source": [
    "data_day[data_day.Recovery_percentage.isna()]"
   ]
  },
  {
   "cell_type": "code",
   "execution_count": null,
   "id": "17",
   "metadata": {},
   "outputs": [],
   "source": [
    "data_day.Recovery_percentage.unique()"
   ]
  },
  {
   "cell_type": "code",
   "execution_count": null,
   "id": "18",
   "metadata": {},
   "outputs": [],
   "source": [
    "data_day.Recovery_percentage.fillna(0.0,inplace=True)\n",
    "data_day[data_day.Recovery_percentage.isna()]"
   ]
  },
  {
   "cell_type": "code",
   "execution_count": null,
   "id": "19",
   "metadata": {},
   "outputs": [],
   "source": [
    "data_day.Recovery_percentage.unique()"
   ]
  },
  {
   "cell_type": "code",
   "execution_count": null,
   "id": "20",
   "metadata": {},
   "outputs": [],
   "source": [
    "data_day[data_day.Recovery_percentage>=100]"
   ]
  },
  {
   "cell_type": "code",
   "execution_count": null,
   "id": "21",
   "metadata": {},
   "outputs": [],
   "source": [
    "data_day[data_day.Recovery_percentage<96]"
   ]
  },
  {
   "cell_type": "code",
   "execution_count": null,
   "id": "22",
   "metadata": {},
   "outputs": [],
   "source": [
    "data_day[data_day.Recovery_percentage]"
   ]
  },
  {
   "cell_type": "code",
   "execution_count": null,
   "id": "23",
   "metadata": {},
   "outputs": [],
   "source": [
    "plt.figure(figsize=(10, 6))\n",
    "plt.plot(data_day.index, data_day['Recovery_percentage'], marker='o', color='b')\n",
    "\n",
    "plt.title('Recovery Percentage Over Time')\n",
    "plt.xlabel('Date')\n",
    "plt.ylabel('Recovery Percentage (%)')\n",
    "plt.xticks(rotation=45)\n",
    "plt.grid(True)\n",
    "\n",
    "plt.show()"
   ]
  },
  {
   "cell_type": "markdown",
   "id": "24",
   "metadata": {},
   "source": [
    "## Capacity Utilization \n",
    "\n",
    "This metric is the ratio of the total treated water production in MLD to the design capacity of the WTP.\n",
    "This metric indicates the extent to which the WTP is utilizing its designed capacity. This provides an insight into the operational efficiency of the plant."
   ]
  },
  {
   "cell_type": "code",
   "execution_count": null,
   "id": "25",
   "metadata": {},
   "outputs": [],
   "source": [
    "data_day['Capacity_utilization'] = ((data_day['TREATED WATER PRODUCTION IN ML']/93)*100).round(2)\n",
    "data_day.shape"
   ]
  },
  {
   "cell_type": "code",
   "execution_count": null,
   "id": "26",
   "metadata": {},
   "outputs": [],
   "source": [
    "data_day.head()"
   ]
  },
  {
   "cell_type": "code",
   "execution_count": null,
   "id": "27",
   "metadata": {},
   "outputs": [],
   "source": [
    "data_day[data_day['Capacity_utilization']>=100]"
   ]
  },
  {
   "cell_type": "code",
   "execution_count": null,
   "id": "28",
   "metadata": {},
   "outputs": [],
   "source": [
    "data_day['Capacity_utilization'].max()"
   ]
  },
  {
   "cell_type": "code",
   "execution_count": null,
   "id": "29",
   "metadata": {},
   "outputs": [],
   "source": [
    "data_day['Capacity_utilization'].min()"
   ]
  },
  {
   "cell_type": "code",
   "execution_count": null,
   "id": "30",
   "metadata": {},
   "outputs": [],
   "source": [
    "data_day[data_day['Capacity_utilization']==0.0]"
   ]
  },
  {
   "cell_type": "code",
   "execution_count": null,
   "id": "31",
   "metadata": {},
   "outputs": [],
   "source": [
    "data_day['Capacity_utilization'].nsmallest(60)"
   ]
  },
  {
   "cell_type": "code",
   "execution_count": null,
   "id": "32",
   "metadata": {},
   "outputs": [],
   "source": [
    "data_day[data_day['Capacity_utilization']!=0.0]['Capacity_utilization'].min()"
   ]
  },
  {
   "cell_type": "code",
   "execution_count": null,
   "id": "33",
   "metadata": {},
   "outputs": [],
   "source": [
    "data_day[data_day['Capacity_utilization']==10.5]"
   ]
  },
  {
   "cell_type": "markdown",
   "id": "34",
   "metadata": {},
   "source": [
    "# Time Series Plot"
   ]
  },
  {
   "cell_type": "code",
   "execution_count": null,
   "id": "35",
   "metadata": {},
   "outputs": [],
   "source": [
    "plt.figure(figsize=(10, 6))\n",
    "plt.plot(data_day.index, data_day['Capacity_utilization'], marker='o', color='g')\n",
    "\n",
    "plt.title('Capacity Utilization Over Time')\n",
    "plt.xlabel('Date')\n",
    "plt.ylabel('Capacity Utilization (%)')\n",
    "plt.xticks(rotation=45)\n",
    "plt.grid(True)\n",
    "plt.show()"
   ]
  },
  {
   "cell_type": "markdown",
   "id": "36",
   "metadata": {},
   "source": [
    "# Histogram"
   ]
  },
  {
   "cell_type": "code",
   "execution_count": null,
   "id": "37",
   "metadata": {},
   "outputs": [],
   "source": [
    "plt.figure(figsize=(10, 6))\n",
    "plt.hist(data_day['Capacity_utilization'], bins=20, color='purple', edgecolor='black')\n",
    "\n",
    "plt.title('Distribution of Capacity Utilization')\n",
    "plt.xlabel('Capacity Utilization (%)')\n",
    "plt.ylabel('Frequency')\n",
    "plt.show()"
   ]
  },
  {
   "cell_type": "code",
   "execution_count": null,
   "id": "38",
   "metadata": {},
   "outputs": [],
   "source": [
    "import matplotlib.pyplot as plt\n",
    "\n",
    "# Create the histogram\n",
    "plt.figure(figsize=(10, 6))\n",
    "n, bins, patches = plt.hist(data_day['Capacity_utilization'], bins=20, color='purple', edgecolor='black')\n",
    "\n",
    "# Annotating each bar with its value (frequency)\n",
    "for i in range(len(patches)):\n",
    "    height = n[i]\n",
    "    plt.text(bins[i] + (bins[i+1] - bins[i]) / 2, height, f'{int(height)}', ha='center', va='bottom', fontsize=10)\n",
    "\n",
    "plt.title('Distribution of Capacity Utilization')\n",
    "plt.xlabel('Capacity Utilization (%)')\n",
    "plt.ylabel('Count')\n",
    "plt.show()\n"
   ]
  },
  {
   "cell_type": "markdown",
   "id": "39",
   "metadata": {},
   "source": [
    "## Plant Availability (need to discuss with Rajeshchetan)\n",
    "\n",
    "The plant availability metric indicates how often the plant is available to perform its functions compared to the total time it could potentially operate. \n",
    "\n",
    " "
   ]
  },
  {
   "cell_type": "code",
   "execution_count": null,
   "id": "40",
   "metadata": {},
   "outputs": [],
   "source": [
    "planned_operating_time = 24\n",
    "# actual_operating_time"
   ]
  },
  {
   "cell_type": "code",
   "execution_count": null,
   "id": "41",
   "metadata": {},
   "outputs": [],
   "source": [
    "data.resample('D').agg({'remarks category':'count'})"
   ]
  },
  {
   "cell_type": "code",
   "execution_count": null,
   "id": "42",
   "metadata": {},
   "outputs": [],
   "source": [
    "data_wtp = data[data['remarks category'].str.contains('WTP')]\n",
    "data_wtp"
   ]
  },
  {
   "cell_type": "code",
   "execution_count": null,
   "id": "43",
   "metadata": {},
   "outputs": [],
   "source": [
    "data_wtp_hours = data_wtp.resample('D').agg({'remarks category':'count'})\n",
    "data_wtp_hours"
   ]
  },
  {
   "cell_type": "code",
   "execution_count": null,
   "id": "44",
   "metadata": {},
   "outputs": [],
   "source": [
    "# data[data.index=='2022-01-10']"
   ]
  },
  {
   "cell_type": "code",
   "execution_count": null,
   "id": "45",
   "metadata": {},
   "outputs": [],
   "source": [
    "data_wtp_hours['plant_availability'] = (((24-data_wtp_hours['remarks category'])/24)*100).round(2)"
   ]
  },
  {
   "cell_type": "code",
   "execution_count": null,
   "id": "46",
   "metadata": {},
   "outputs": [],
   "source": [
    "data_wtp_hours"
   ]
  },
  {
   "cell_type": "markdown",
   "id": "47",
   "metadata": {},
   "source": [
    "## Shift wise treated water production \n",
    "\n",
    "An aggregate of treated water production during each shift helps the operator to understand the volume of raw water, treated water and clear water pumping flow during each shift. \n",
    "\n",
    "Shift timings:  Shift1 from 6 am to 2 pm, Shift 2 from 2 pm to 10 pm and Shift 3 from 10 pm to 6 pm "
   ]
  },
  {
   "cell_type": "code",
   "execution_count": null,
   "id": "48",
   "metadata": {},
   "outputs": [],
   "source": [
    "df = data.reset_index()"
   ]
  },
  {
   "cell_type": "code",
   "execution_count": null,
   "id": "49",
   "metadata": {},
   "outputs": [],
   "source": [
    "def assign_shift(hour):\n",
    "    if 6 <= hour < 14:\n",
    "        return '1'\n",
    "    elif 14 <= hour < 22:\n",
    "        return '2'\n",
    "    else:\n",
    "        return '3'"
   ]
  },
  {
   "cell_type": "code",
   "execution_count": null,
   "id": "50",
   "metadata": {},
   "outputs": [],
   "source": [
    "df['Hour'] = pd.to_datetime(df['STANDARDIZED_TIME']).dt.hour"
   ]
  },
  {
   "cell_type": "code",
   "execution_count": null,
   "id": "51",
   "metadata": {},
   "outputs": [],
   "source": [
    "df.dtypes"
   ]
  },
  {
   "cell_type": "code",
   "execution_count": null,
   "id": "52",
   "metadata": {},
   "outputs": [],
   "source": [
    "df"
   ]
  },
  {
   "cell_type": "code",
   "execution_count": null,
   "id": "53",
   "metadata": {},
   "outputs": [],
   "source": [
    "df['Shift'] = df['Hour'].apply(assign_shift)\n",
    "df"
   ]
  },
  {
   "cell_type": "code",
   "execution_count": null,
   "id": "54",
   "metadata": {},
   "outputs": [],
   "source": [
    "import matplotlib.pyplot as plt\n",
    "\n",
    "# Pie chart for Shift-wise Treated Water Production\n",
    "shiftwise_production = df.groupby('Shift')['TREATED WATER PRODUCTION IN ML'].sum()\n",
    "\n",
    "plt.figure(figsize=(8, 6))\n",
    "plt.pie(shiftwise_production, labels=shiftwise_production.index, autopct='%1.1f%%', colors=['skyblue', 'lightgreen', 'salmon'], startangle=90)\n",
    "plt.title('Shift-wise Treated Water Production')\n",
    "plt.show()\n"
   ]
  },
  {
   "cell_type": "code",
   "execution_count": null,
   "id": "55",
   "metadata": {},
   "outputs": [],
   "source": [
    "import pandas as pd\n",
    "import seaborn as sns\n",
    "import matplotlib.pyplot as plt\n",
    "\n",
    "# Ensure your datetime index is in place\n",
    "df['Year'] = pd.to_datetime(df['Standardized_Date']).dt.year\n",
    "\n",
    "# Group the data by year and shift\n",
    "year_shiftwise_production = df.groupby(['Year', 'Shift'])['TREATED WATER PRODUCTION IN ML'].sum().reset_index()\n",
    "\n",
    "# Create a bar plot using Plotly\n",
    "fig = px.bar(year_shiftwise_production, \n",
    "             x='Year', \n",
    "             y='TREATED WATER PRODUCTION IN ML', \n",
    "             color='Shift', \n",
    "             barmode='group',  # Group bars by shift\n",
    "             title='Year-wise Treated Water Production by Shift',\n",
    "             labels={'TREATED WATER PRODUCTION IN ML': 'Treated Water Production (ML)',\n",
    "                     'Year': 'Year'},\n",
    "             color_discrete_sequence=px.colors.qualitative.Set2)  # Use Set2 color palette\n",
    "\n",
    "# Update layout for better readability\n",
    "fig.update_layout(xaxis_title='Year',\n",
    "                  yaxis_title='Treated Water Production (ML)',\n",
    "                  legend_title='Shift')\n",
    "\n",
    "# Show the plot\n",
    "fig.show()\n",
    "\n",
    "\n"
   ]
  },
  {
   "cell_type": "markdown",
   "id": "56",
   "metadata": {},
   "source": [
    "## Water demand analysis \n",
    "\n",
    "The total volume of clear water pumped from treated sources reflects the water consumption by the Overhead Storage Tanks (OHSR). This water is then distributed to individual households, representing the overall demand for water. \n",
    "\n",
    "The comparison of demand can be visualized for a desired time range (month on month, year on year)"
   ]
  },
  {
   "cell_type": "code",
   "execution_count": null,
   "id": "57",
   "metadata": {},
   "outputs": [],
   "source": [
    "data_month = data.resample('M').agg({'RAW WATER FLOW IN ML':'sum',\n",
    "                                   'CLEAR WATER SUMP LEVEL IN Meter':'mean',\n",
    "                                   'CLEAR WATER PUMPING FLOW ML':'sum',\n",
    "                                   'TREATED WATER PRODUCTION IN ML':'sum', 'remarks category':'unique'})\n",
    "data_month"
   ]
  },
  {
   "cell_type": "code",
   "execution_count": null,
   "id": "58",
   "metadata": {},
   "outputs": [],
   "source": [
    "data_year = data.resample('Y').agg({'RAW WATER FLOW IN ML':'sum',\n",
    "                                   'CLEAR WATER SUMP LEVEL IN Meter':'mean',\n",
    "                                   'CLEAR WATER PUMPING FLOW ML':'sum',\n",
    "                                   'TREATED WATER PRODUCTION IN ML':'sum', 'remarks category':'unique'})\n",
    "data_year"
   ]
  },
  {
   "cell_type": "code",
   "execution_count": null,
   "id": "59",
   "metadata": {},
   "outputs": [],
   "source": [
    "kwh, energy_cost"
   ]
  }
 ],
 "metadata": {
  "kernelspec": {
   "display_name": "Python 3 (ipykernel)",
   "language": "python",
   "name": "python3"
  },
  "language_info": {
   "codemirror_mode": {
    "name": "ipython",
    "version": 3
   },
   "file_extension": ".py",
   "mimetype": "text/x-python",
   "name": "python",
   "nbconvert_exporter": "python",
   "pygments_lexer": "ipython3",
   "version": "3.11.5"
  }
 },
 "nbformat": 4,
 "nbformat_minor": 5
}

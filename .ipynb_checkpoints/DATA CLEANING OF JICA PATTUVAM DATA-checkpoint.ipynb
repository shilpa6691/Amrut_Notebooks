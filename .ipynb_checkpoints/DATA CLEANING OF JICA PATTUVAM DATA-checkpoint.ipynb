{
 "cells": [
  {
   "cell_type": "code",
   "execution_count": null,
   "id": "0",
   "metadata": {},
   "outputs": [],
   "source": [
    "import numpy as np\n",
    "import pandas as pd\n",
    "import datetime\n",
    "import matplotlib.pyplot as plt\n",
    "import seaborn as sns"
   ]
  },
  {
   "cell_type": "code",
   "execution_count": null,
   "id": "1",
   "metadata": {},
   "outputs": [],
   "source": [
    "#Loading dataset"
   ]
  },
  {
   "cell_type": "code",
   "execution_count": null,
   "id": "2",
   "metadata": {},
   "outputs": [],
   "source": [
    "df=pd.read_excel(\"JICA Pattuvam Data full.xlsx\")"
   ]
  },
  {
   "cell_type": "code",
   "execution_count": null,
   "id": "3",
   "metadata": {},
   "outputs": [],
   "source": [
    "df.shape"
   ]
  },
  {
   "cell_type": "code",
   "execution_count": null,
   "id": "4",
   "metadata": {},
   "outputs": [],
   "source": [
    "df.head()"
   ]
  },
  {
   "cell_type": "code",
   "execution_count": null,
   "id": "5",
   "metadata": {},
   "outputs": [],
   "source": [
    "df.tail()"
   ]
  },
  {
   "cell_type": "code",
   "execution_count": null,
   "id": "6",
   "metadata": {},
   "outputs": [],
   "source": [
    "df.isnull().sum()"
   ]
  },
  {
   "cell_type": "code",
   "execution_count": null,
   "id": "7",
   "metadata": {},
   "outputs": [],
   "source": [
    "df['CLEAR WATER SUMP LEVEL IN M'].unique()"
   ]
  },
  {
   "cell_type": "code",
   "execution_count": null,
   "id": "8",
   "metadata": {},
   "outputs": [],
   "source": [
    "df['DATE'] = pd.to_datetime(df['DATE'],errors='coerce')\n",
    "df['YEAR'] = df['DATE'].dt.year\n",
    "df['MONTH'] = df['DATE'].dt.month \n",
    "df['MONTH-YEAR'] = df['DATE'].dt.strftime('%m-%Y')\n",
    "# df['DATETIME'] = pd.to_datetime(df['DATE'].astype(str) + ' ' + df['TIME'].astype(str))\n",
    "# df"
   ]
  },
  {
   "cell_type": "code",
   "execution_count": null,
   "id": "9",
   "metadata": {},
   "outputs": [],
   "source": [
    "df['TIME'].dtype"
   ]
  },
  {
   "cell_type": "code",
   "execution_count": null,
   "id": "10",
   "metadata": {},
   "outputs": [],
   "source": [
    "df[\"TIME\"].unique()"
   ]
  },
  {
   "cell_type": "code",
   "execution_count": null,
   "id": "11",
   "metadata": {},
   "outputs": [],
   "source": [
    "df['TIME'] = df['TIME'].astype(str)"
   ]
  },
  {
   "cell_type": "code",
   "execution_count": null,
   "id": "12",
   "metadata": {},
   "outputs": [],
   "source": [
    "df[\"TIME\"].unique()"
   ]
  },
  {
   "cell_type": "code",
   "execution_count": null,
   "id": "13",
   "metadata": {},
   "outputs": [],
   "source": [
    "def convert_time(time_str):\n",
    "    parts = time_str.split()\n",
    "    print(parts)\n",
    "    print(len(parts))\n",
    "    print(len(parts[0]))\n",
    "    if len(parts) == 1:\n",
    "        if len(parts[0]) == 1:\n",
    "            return f'0{parts[0]}:00:00'\n",
    "        elif len(parts[0]) == 2:\n",
    "            print(len(parts[0]))\n",
    "            return f'{parts[0]}:00:00'\n",
    "    elif len(parts) == 2:\n",
    "        return f'{parts[0]}:{parts[1]}:00'\n",
    "    return time_str\n",
    "df['TIME']= df['TIME'].apply(convert_time)"
   ]
  },
  {
   "cell_type": "code",
   "execution_count": null,
   "id": "14",
   "metadata": {},
   "outputs": [],
   "source": [
    "df[\"TIME\"].unique()"
   ]
  },
  {
   "cell_type": "code",
   "execution_count": null,
   "id": "15",
   "metadata": {},
   "outputs": [],
   "source": [
    "df['CLEAR WATER SUMP LEVEL IN M'].nunique()"
   ]
  },
  {
   "cell_type": "code",
   "execution_count": null,
   "id": "16",
   "metadata": {},
   "outputs": [],
   "source": [
    "def clean_value(value):\n",
    "    if isinstance(value, str):\n",
    "        # Remove leading and trailing spaces\n",
    "        value = value.strip()\n",
    "        \n",
    "        # Replace commas with dots\n",
    "        value = value.replace(',', '.')\n",
    "        \n",
    "        # If value starts with a dot, move the dot after four digits\n",
    "        if value.startswith('.'):\n",
    "            value = value[1:]\n",
    "            value = value[:4] + '.' + value[4:]\n",
    "        \n",
    "        # Remove additional dots\n",
    "        parts = value.split('.')\n",
    "        if len(parts) > 2:\n",
    "            value = parts[0] + '.' + ''.join(parts[1:])\n",
    "        \n",
    "        # Remove spaces\n",
    "        value = value.replace(' ', '')\n",
    "    return str(value)  # Convert value to string\n",
    "\n",
    "\n",
    "# Apply the cleaning function to the column\n",
    "df['CLEAR WATER PUMPING FLOW m3/h'] = df['CLEAR WATER PUMPING FLOW m3/h'].apply(clean_value)\n",
    "\n",
    "sorted(df['CLEAR WATER PUMPING FLOW m3/h'].unique())"
   ]
  },
  {
   "cell_type": "code",
   "execution_count": null,
   "id": "17",
   "metadata": {},
   "outputs": [],
   "source": [
    "import re\n",
    "\n",
    "# Convert column to string\n",
    "df['CLEAR WATER SUMP LEVEL IN M'] = df['CLEAR WATER SUMP LEVEL IN M'].astype(str)\n",
    "\n",
    "# Define a function to format the numbers\n",
    "def format_numbers(value):\n",
    "    # Remove anything that is not a digit or a decimal point\n",
    "    value = re.sub(r'[^\\d.]', '', value)\n",
    "    # If there is only one decimal point, no change is needed\n",
    "    if value.count('.') == 1:\n",
    "        return value\n",
    "    # If there is more than one decimal point, add one at the first digit\n",
    "    elif value.count('.') > 1:\n",
    "        index = value.find('.')\n",
    "        return value[:index] + '.' + value[index+1:].replace('.', '')\n",
    "    # If there is no decimal point, add it after the first digit\n",
    "    else:\n",
    "        return value[:1] + '.' + value[1:]\n",
    "\n",
    "# Apply the function to the column\n",
    "df['CLEAR WATER SUMP LEVEL IN M'] = df['CLEAR WATER SUMP LEVEL IN M'].apply(format_numbers)\n"
   ]
  },
  {
   "cell_type": "code",
   "execution_count": null,
   "id": "18",
   "metadata": {},
   "outputs": [],
   "source": [
    "df['CLEAR WATER SUMP LEVEL IN M'].unique()"
   ]
  },
  {
   "cell_type": "code",
   "execution_count": null,
   "id": "19",
   "metadata": {},
   "outputs": [],
   "source": [
    "df.shape"
   ]
  },
  {
   "cell_type": "code",
   "execution_count": null,
   "id": "20",
   "metadata": {},
   "outputs": [],
   "source": [
    "df.isnull().sum()"
   ]
  },
  {
   "cell_type": "code",
   "execution_count": null,
   "id": "21",
   "metadata": {},
   "outputs": [],
   "source": [
    "df.isnull().sum()"
   ]
  },
  {
   "cell_type": "code",
   "execution_count": null,
   "id": "22",
   "metadata": {},
   "outputs": [],
   "source": [
    "df['DATE'].bfill(inplace=True)\n",
    "df['YEAR'].bfill(inplace=True)\n",
    "df['MONTH'].bfill(inplace=True)\n",
    "df['MONTH-YEAR'].bfill(inplace=True)\n",
    "df['TREATED WATER PRODUCTION IN m3/h'].bfill(inplace=True)\n",
    "df['RAW WATER FLOW IN m3/h\\t'].fillna('NO DATA', inplace=True)\n",
    "df['CLEAR WATER SUMP LEVEL IN M'].fillna('NO DATA', inplace=True)\n",
    "df['CLEAR WATER PUMPING FLOW m3/h'].fillna('NO DATA', inplace=True)\n",
    "df['REMARKS'].fillna('No Remarks', inplace=True)\n",
    "\n",
    "df.isnull().sum()"
   ]
  },
  {
   "cell_type": "code",
   "execution_count": null,
   "id": "23",
   "metadata": {},
   "outputs": [],
   "source": []
  },
  {
   "cell_type": "code",
   "execution_count": null,
   "id": "24",
   "metadata": {},
   "outputs": [],
   "source": [
    "df['DATETIME'] = pd.to_datetime(df['DATE'].astype(str) + ' ' + df['TIME'].astype(str))"
   ]
  },
  {
   "cell_type": "code",
   "execution_count": null,
   "id": "25",
   "metadata": {},
   "outputs": [],
   "source": [
    "df.drop_duplicates(inplace=True)\n",
    "df.shape"
   ]
  },
  {
   "cell_type": "code",
   "execution_count": null,
   "id": "26",
   "metadata": {},
   "outputs": [],
   "source": [
    "# df.to_csv(\"New Cleaned JICA Pattuvam Data.csv\", index=False)\n"
   ]
  },
  {
   "cell_type": "code",
   "execution_count": null,
   "id": "27",
   "metadata": {},
   "outputs": [],
   "source": [
    "# df_treated = df[['DATE', 'TIME', 'TREATED WATER PRODUCTION IN m3/h','REMARKS']]\n",
    "# df_treated.shape"
   ]
  },
  {
   "cell_type": "code",
   "execution_count": null,
   "id": "28",
   "metadata": {},
   "outputs": [],
   "source": [
    "# df_treated.to_csv('df_treated.csv',index=False)"
   ]
  },
  {
   "cell_type": "code",
   "execution_count": null,
   "id": "29",
   "metadata": {},
   "outputs": [],
   "source": []
  }
 ],
 "metadata": {
  "kernelspec": {
   "display_name": "Python 3 (ipykernel)",
   "language": "python",
   "name": "python3"
  },
  "language_info": {
   "codemirror_mode": {
    "name": "ipython",
    "version": 3
   },
   "file_extension": ".py",
   "mimetype": "text/x-python",
   "name": "python",
   "nbconvert_exporter": "python",
   "pygments_lexer": "ipython3",
   "version": "3.11.5"
  }
 },
 "nbformat": 4,
 "nbformat_minor": 5
}

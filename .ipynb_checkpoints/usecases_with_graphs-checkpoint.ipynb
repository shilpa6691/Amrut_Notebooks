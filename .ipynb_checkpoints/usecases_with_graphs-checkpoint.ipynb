{
 "cells": [
  {
   "cell_type": "code",
   "execution_count": null,
   "id": "0",
   "metadata": {},
   "outputs": [],
   "source": [
    "import pandas as pd\n",
    "import numpy as np\n",
    "import plotly.express as px\n",
    "import matplotlib.pyplot as plt\n",
    "import seaborn as sns"
   ]
  },
  {
   "cell_type": "code",
   "execution_count": null,
   "id": "1",
   "metadata": {},
   "outputs": [],
   "source": [
    "#Loading dataset"
   ]
  },
  {
   "cell_type": "code",
   "execution_count": null,
   "id": "2",
   "metadata": {},
   "outputs": [],
   "source": [
    "data = pd.read_csv('final_data_in_ML.csv',index_col='Standardized_Date',parse_dates=True)\n",
    "data"
   ]
  },
  {
   "cell_type": "code",
   "execution_count": null,
   "id": "3",
   "metadata": {},
   "outputs": [],
   "source": [
    "data['remarks category'].value_counts()"
   ]
  },
  {
   "cell_type": "code",
   "execution_count": null,
   "id": "4",
   "metadata": {},
   "outputs": [],
   "source": [
    "data['remarks category'].unique()"
   ]
  },
  {
   "cell_type": "code",
   "execution_count": null,
   "id": "5",
   "metadata": {},
   "outputs": [],
   "source": [
    "import pandas as pd\n",
    "\n",
    "\n",
    "\n",
    "# Function to standardize format\n",
    "def standardize_remarks(remark):\n",
    "    # Convert to lowercase and capitalize significant words\n",
    "    remark = remark.lower().title()\n",
    "    \n",
    "    # Specific term replacements to ensure they stay in the desired format\n",
    "    replacements = {\n",
    "        \"Wtp\": \"WTP\",\n",
    "        \"At\": \"at\",\n",
    "        \"And\": \"and\",\n",
    "        \"Maintanance\": \"Maintenance\"\n",
    "    }\n",
    "    \n",
    "    for key, value in replacements.items():\n",
    "        remark = remark.replace(key, value)\n",
    "    \n",
    "    # Final corrections for specific phrases\n",
    "    corrections = {\n",
    "#         \"Power Failure At Intake\": \"Power Failure at Intake\",\n",
    "#         \"Power Failure At Wtp\": \"Power Failure at WTP\",\n",
    "#         \"Complaint At Wtp\": \"Complaint at WTP\",\n",
    "#         \"Maintanance\": \"Maintenance\",  # Correct spelling\n",
    "        \"Channel Cieaning\": \"Channel Cleaning\"          # Correct spelling\n",
    "    }\n",
    "    \n",
    "    for key, value in corrections.items():\n",
    "        if key in remark:\n",
    "            remark = value\n",
    "    \n",
    "    return remark\n",
    "\n",
    "# Apply the standardization function\n",
    "data['remarks category'] =data['remarks category'].apply(standardize_remarks)\n",
    "\n",
    "data['remarks category']\n"
   ]
  },
  {
   "cell_type": "code",
   "execution_count": null,
   "id": "6",
   "metadata": {},
   "outputs": [],
   "source": [
    "import plotly.graph_objects as go\n",
    "\n",
    "# Assuming 'data' is your DataFrame and 'remarks category' is the column name\n",
    "# Exclude 'No Remarks' from the DataFrame\n",
    "filtered_data = data[data['remarks category'] != 'No Remarks']\n",
    "\n",
    "# Count the occurrences of each category\n",
    "remarks_counts = filtered_data['remarks category'].value_counts()\n",
    "\n",
    "# Prepare data (sort in descending order)\n",
    "sorted_remarks = remarks_counts.sort_values()\n",
    "\n",
    "# Create a horizontal bar graph\n",
    "fig = go.Figure()\n",
    "\n",
    "# Add horizontal bar trace with text for displaying counts\n",
    "fig.add_trace(go.Bar(\n",
    "    y=sorted_remarks.index,\n",
    "    x=sorted_remarks.values,\n",
    "    orientation='h',  # Horizontal bars\n",
    "    marker=dict(color='blue'),\n",
    "    text=sorted_remarks.values,  # Display count values\n",
    "    textposition='auto'  # Position of text (auto will place it appropriately)\n",
    "))\n",
    "\n",
    "# Customize the layout\n",
    "fig.update_layout(\n",
    "    title=\"Downtime and Maintenance category\",\n",
    "    xaxis_title=\"Count\",\n",
    "    template=\"plotly_white\"\n",
    ")\n",
    "\n",
    "# Show the plot\n",
    "fig.show()\n"
   ]
  },
  {
   "cell_type": "code",
   "execution_count": null,
   "id": "7",
   "metadata": {},
   "outputs": [],
   "source": [
    "data.info()"
   ]
  },
  {
   "cell_type": "code",
   "execution_count": null,
   "id": "8",
   "metadata": {},
   "outputs": [],
   "source": [
    "data.columns"
   ]
  },
  {
   "cell_type": "markdown",
   "id": "9",
   "metadata": {},
   "source": [
    "## Resample the data to day"
   ]
  },
  {
   "cell_type": "code",
   "execution_count": null,
   "id": "10",
   "metadata": {},
   "outputs": [],
   "source": [
    "data_day = data.resample('D').agg({'RAW WATER FLOW IN ML':'sum',\n",
    "                                   'CLEAR WATER SUMP LEVEL IN Meter':'mean',\n",
    "                                   'CLEAR WATER PUMPING FLOW ML':'sum',\n",
    "                                   'TREATED WATER PRODUCTION IN ML':'sum', 'remarks category':'unique'})"
   ]
  },
  {
   "cell_type": "code",
   "execution_count": null,
   "id": "11",
   "metadata": {},
   "outputs": [],
   "source": [
    "data_day"
   ]
  },
  {
   "cell_type": "markdown",
   "id": "12",
   "metadata": {},
   "source": [
    "## Recovery Percentage\n",
    "The significance of this metric is that it indicates how much of the raw water input is successfully converted into treated water output. A higher recovery percentage suggests that the plant is optimizing the utilization of raw water resources and minimizing water losses during the treatment process. This metric is important for evaluating the plant's operational efficiency and water conservation efforts "
   ]
  },
  {
   "cell_type": "code",
   "execution_count": null,
   "id": "13",
   "metadata": {},
   "outputs": [],
   "source": [
    "data_day['Recovery_percentage'] = ((data_day['TREATED WATER PRODUCTION IN ML']/data_day['RAW WATER FLOW IN ML'])*100).round(2)\n",
    "data_day.shape"
   ]
  },
  {
   "cell_type": "code",
   "execution_count": null,
   "id": "14",
   "metadata": {},
   "outputs": [],
   "source": [
    "data_day.head()"
   ]
  },
  {
   "cell_type": "code",
   "execution_count": null,
   "id": "15",
   "metadata": {},
   "outputs": [],
   "source": [
    "data_day[data_day.Recovery_percentage.isna()]"
   ]
  },
  {
   "cell_type": "code",
   "execution_count": null,
   "id": "16",
   "metadata": {},
   "outputs": [],
   "source": [
    "data_day.Recovery_percentage.unique()"
   ]
  },
  {
   "cell_type": "code",
   "execution_count": null,
   "id": "17",
   "metadata": {},
   "outputs": [],
   "source": [
    "data_day.Recovery_percentage.fillna(0.0,inplace=True)\n",
    "data_day[data_day.Recovery_percentage.isna()]"
   ]
  },
  {
   "cell_type": "code",
   "execution_count": null,
   "id": "18",
   "metadata": {},
   "outputs": [],
   "source": [
    "data_day.Recovery_percentage.unique()"
   ]
  },
  {
   "cell_type": "code",
   "execution_count": null,
   "id": "19",
   "metadata": {},
   "outputs": [],
   "source": [
    "data_day[data_day.Recovery_percentage>=100]"
   ]
  },
  {
   "cell_type": "code",
   "execution_count": null,
   "id": "20",
   "metadata": {},
   "outputs": [],
   "source": [
    "data_day[data_day.Recovery_percentage<96]"
   ]
  },
  {
   "cell_type": "code",
   "execution_count": null,
   "id": "21",
   "metadata": {},
   "outputs": [],
   "source": [
    "data_day = data_day.reset_index()\n",
    "fig = px.line(data_day, x='Standardized_Date', y='Recovery_percentage',hover_data=['remarks category'],title='Recovery Percentage') #title='Raw Water Pumped during various zones in ML')\n",
    "\n",
    "# Update line color to dark\n",
    "fig.update_traces(line=dict(color='darkblue',width=4))\n",
    "# Update the axis labels\n",
    "fig.update_layout(\n",
    "    xaxis_title='Month-Year',  # Change label for x-axis\n",
    "    yaxis_title='Recovery Percentage (%)',  # Change label for y-axis\n",
    ")\n",
    "fig.show()\n",
    "fig.write_html('Recovery_percentage.html')"
   ]
  },
  {
   "cell_type": "markdown",
   "id": "22",
   "metadata": {},
   "source": [
    "## Capacity Utilization \n",
    "\n",
    "This metric is the ratio of the total treated water production in MLD to the design capacity of the WTP.\n",
    "This metric indicates the extent to which the WTP is utilizing its designed capacity. This provides an insight into the operational efficiency of the plant."
   ]
  },
  {
   "cell_type": "code",
   "execution_count": null,
   "id": "23",
   "metadata": {},
   "outputs": [],
   "source": [
    "data_day['Capacity_utilization'] = ((data_day['TREATED WATER PRODUCTION IN ML']/93)*100).round(2)\n",
    "data_day.shape"
   ]
  },
  {
   "cell_type": "code",
   "execution_count": null,
   "id": "24",
   "metadata": {},
   "outputs": [],
   "source": [
    "data_day.head()"
   ]
  },
  {
   "cell_type": "code",
   "execution_count": null,
   "id": "25",
   "metadata": {},
   "outputs": [],
   "source": [
    "data_day[data_day['Capacity_utilization']>=100]"
   ]
  },
  {
   "cell_type": "code",
   "execution_count": null,
   "id": "26",
   "metadata": {},
   "outputs": [],
   "source": [
    "data_day['Capacity_utilization'].max()"
   ]
  },
  {
   "cell_type": "code",
   "execution_count": null,
   "id": "27",
   "metadata": {},
   "outputs": [],
   "source": [
    "data_day['Capacity_utilization'].min()"
   ]
  },
  {
   "cell_type": "code",
   "execution_count": null,
   "id": "28",
   "metadata": {},
   "outputs": [],
   "source": [
    "data_day[data_day['Capacity_utilization']==0.0]"
   ]
  },
  {
   "cell_type": "code",
   "execution_count": null,
   "id": "29",
   "metadata": {},
   "outputs": [],
   "source": [
    "data = data.reset_index()\n",
    "data[data['Standardized_Date']=='2022-06-15']"
   ]
  },
  {
   "cell_type": "code",
   "execution_count": null,
   "id": "30",
   "metadata": {},
   "outputs": [],
   "source": [
    "data_day['Capacity_utilization'].nsmallest(60)"
   ]
  },
  {
   "cell_type": "code",
   "execution_count": null,
   "id": "31",
   "metadata": {},
   "outputs": [],
   "source": [
    "data_day[data_day['Capacity_utilization']!=0.0]['Capacity_utilization'].min()"
   ]
  },
  {
   "cell_type": "code",
   "execution_count": null,
   "id": "32",
   "metadata": {},
   "outputs": [],
   "source": [
    "data_day[data_day['Capacity_utilization']==10.5]"
   ]
  },
  {
   "cell_type": "code",
   "execution_count": null,
   "id": "33",
   "metadata": {},
   "outputs": [],
   "source": [
    "data_day = data_day.reset_index()\n",
    "data_day['Year'] = data_day['Standardized_Date'].dt.year\n",
    "data_day['Month'] = data_day['Standardized_Date'].dt.month"
   ]
  },
  {
   "cell_type": "code",
   "execution_count": null,
   "id": "34",
   "metadata": {},
   "outputs": [],
   "source": [
    "fig = px.line(data_day, x='Standardized_Date', y='Capacity_utilization',hover_data=['remarks category'],title='Average Capacity Utilization') #title='Raw Water Pumped during various zones in ML')\n",
    "fig.update_traces(line=dict(color='darkgreen',width=4))\n",
    "fig.update_layout(\n",
    "    xaxis_title='Month-Year',  # Change label for x-axis\n",
    "    yaxis_title='Capacity Utilization',  # Change label for y-axis\n",
    ")\n",
    "fig.show()\n",
    "fig.write_html('capacity_utilization.html')"
   ]
  },
  {
   "cell_type": "code",
   "execution_count": null,
   "id": "35",
   "metadata": {},
   "outputs": [],
   "source": [
    "data_day['Year'] = data_day['Standardized_Date'].dt.year\n",
    "data_day.Year = data_day.Year.astype(int).astype(str)\n",
    "\n",
    "# Group by year\n",
    "grouped_data = data_day.groupby('Year')['Capacity_utilization'].mean().reset_index()\n",
    "\n",
    "# Plot using Plotly\n",
    "fig = px.line(grouped_data, x='Year', y='Capacity_utilization', markers=True, \n",
    "              title='Average Capacity Utilization by Year')\n",
    "\n",
    "# Update layout and show gridlines\n",
    "fig.update_layout(\n",
    "    xaxis_title='Year',\n",
    "    yaxis_title='Capacity Utilization',\n",
    "    title_x=0.5,\n",
    "    xaxis=dict(showgrid=True),  # Enable grid for x-axis\n",
    "    yaxis=dict(showgrid=True)   # Enable grid for y-axis\n",
    ")\n",
    "fig.update_traces(line=dict(color='darkblue',width=4))\n",
    "fig.show()\n",
    "\n",
    "# Save the plot as HTML\n",
    "fig.write_html('capacity_utilization_yearwise.html')"
   ]
  },
  {
   "cell_type": "code",
   "execution_count": null,
   "id": "36",
   "metadata": {},
   "outputs": [],
   "source": [
    "# Group by year\n",
    "grouped_data = data_day.groupby('Year')['Capacity_utilization'].mean().reset_index()\n",
    "\n",
    "# Plot using Plotly with spline\n",
    "fig = px.line(grouped_data, x='Year', y='Capacity_utilization', markers=True, \n",
    "              title='Average Capacity Utilization by Year')\n",
    "\n",
    "# Update layout and show gridlines\n",
    "fig.update_layout(\n",
    "    xaxis_title='Year',\n",
    "    yaxis_title='Capacity Utilization',\n",
    "    title_x=0.5,\n",
    "    xaxis=dict(showgrid=True),  # Enable grid for x-axis\n",
    "    yaxis=dict(showgrid=True)   # Enable grid for y-axis\n",
    ")\n",
    "\n",
    "# Update traces to show a smooth spline line\n",
    "fig.update_traces(line_shape='spline', line=dict(color='darkblue', width=4))\n",
    "\n",
    "fig.show()\n"
   ]
  },
  {
   "cell_type": "markdown",
   "id": "37",
   "metadata": {},
   "source": [
    "## Plant Availability \n",
    "\n",
    "The plant availability metric indicates how often the plant is available to perform its functions compared to the total time it could potentially operate. \n",
    "\n",
    " "
   ]
  },
  {
   "cell_type": "code",
   "execution_count": null,
   "id": "38",
   "metadata": {},
   "outputs": [],
   "source": [
    "def plant_availability(remarks_category):\n",
    "    if remarks_category == 'No remarks':\n",
    "        return True\n",
    "    else:\n",
    "        return False"
   ]
  },
  {
   "cell_type": "code",
   "execution_count": null,
   "id": "39",
   "metadata": {},
   "outputs": [],
   "source": [
    "data['Hour'] = pd.to_datetime(data['STANDARDIZED_TIME']).dt.hour\n",
    "data['Year'] = data['Standardized_Date'].dt.year\n",
    "data['Month'] = data['Standardized_Date'].dt.month"
   ]
  },
  {
   "cell_type": "code",
   "execution_count": null,
   "id": "40",
   "metadata": {},
   "outputs": [],
   "source": [
    "data['plant status'] = data['remarks category'].apply(plant_availability)\n",
    "data"
   ]
  },
  {
   "cell_type": "code",
   "execution_count": null,
   "id": "41",
   "metadata": {},
   "outputs": [],
   "source": [
    "# Get total hours in each month (days in month * 24 hours)\n",
    "data['days_in_month'] = data['Standardized_Date'].dt.days_in_month\n",
    "data['total_hours_in_month'] = data['days_in_month'] * 24\n",
    "data"
   ]
  },
  {
   "cell_type": "code",
   "execution_count": null,
   "id": "42",
   "metadata": {},
   "outputs": [],
   "source": [
    "# Group by year and month and calculate total hours of operation (plant status is True)\n",
    "df_monthly = data.groupby(['Year', 'Month']).agg(\n",
    "    hours_of_operation=('plant status', 'sum'),  # Sum of True values (hours the plant was working)\n",
    "    total_hours=('total_hours_in_month', 'first')  # Total hours in the month\n",
    ").reset_index()\n",
    "df_monthly"
   ]
  },
  {
   "cell_type": "code",
   "execution_count": null,
   "id": "43",
   "metadata": {},
   "outputs": [],
   "source": [
    "# Calculate plant availability\n",
    "df_monthly['plant_availability'] = df_monthly['hours_of_operation'] / df_monthly['total_hours']\n",
    "df_monthly"
   ]
  },
  {
   "cell_type": "code",
   "execution_count": null,
   "id": "44",
   "metadata": {},
   "outputs": [],
   "source": [
    "# Create a new column that combines 'Year' and 'Month'\n",
    "df_monthly['Year-Month'] = df_monthly['Year'].astype(str) + '-' + df_monthly['Month'].astype(str).str.zfill(2)\n",
    "df_monthly"
   ]
  },
  {
   "cell_type": "code",
   "execution_count": null,
   "id": "45",
   "metadata": {},
   "outputs": [],
   "source": [
    "fig = px.line(df_monthly, \n",
    "              x='Year-Month', y='plant_availability',\n",
    "              title='Month wise Plant Availability',\n",
    "              labels={'plant_availability': 'Plant Availability', 'Year-Month': 'Month-Year'},\n",
    "              markers=True)\n",
    "fig.update_traces(line=dict(color='darkred',width=4))\n",
    "fig.show()\n",
    "fig.write_html('Plant_availability_per_Month.html')"
   ]
  },
  {
   "cell_type": "markdown",
   "id": "46",
   "metadata": {},
   "source": [
    "## Shift wise treated water production \n",
    "\n",
    "An aggregate of treated water production during each shift helps the operator to understand the volume of raw water, treated water and clear water pumping flow during each shift. \n",
    "\n",
    "Shift timings:  Shift1 from 6 am to 2 pm, Shift 2 from 2 pm to 10 pm and Shift 3 from 10 pm to 6 pm "
   ]
  },
  {
   "cell_type": "code",
   "execution_count": null,
   "id": "47",
   "metadata": {},
   "outputs": [],
   "source": [
    "data.columns"
   ]
  },
  {
   "cell_type": "code",
   "execution_count": null,
   "id": "48",
   "metadata": {},
   "outputs": [],
   "source": [
    "def assign_shift(hour):\n",
    "    if 6 <= hour < 14:\n",
    "        return '1'\n",
    "    elif 14 <= hour < 22:\n",
    "        return '2'\n",
    "    else:\n",
    "        return '3'"
   ]
  },
  {
   "cell_type": "code",
   "execution_count": null,
   "id": "49",
   "metadata": {},
   "outputs": [],
   "source": [
    "data['Hour'] = pd.to_datetime(data['STANDARDIZED_TIME']).dt.hour"
   ]
  },
  {
   "cell_type": "code",
   "execution_count": null,
   "id": "50",
   "metadata": {},
   "outputs": [],
   "source": [
    "data.dtypes"
   ]
  },
  {
   "cell_type": "code",
   "execution_count": null,
   "id": "51",
   "metadata": {},
   "outputs": [],
   "source": [
    "data['Shift'] = data['Hour'].apply(assign_shift)\n",
    "data"
   ]
  },
  {
   "cell_type": "code",
   "execution_count": null,
   "id": "52",
   "metadata": {},
   "outputs": [],
   "source": [
    "# data.set_index('Standardized_Date', inplace=True) \n",
    "# data_day = data.groupby('Shift').resample('D').agg({\n",
    "#     'RAW WATER FLOW IN ML': 'sum',\n",
    "#     'CLEAR WATER SUMP LEVEL IN Meter': 'mean',\n",
    "#     'CLEAR WATER PUMPING FLOW ML': 'sum',\n",
    "#     'TREATED WATER PRODUCTION IN ML': 'sum',\n",
    "#     'remarks category': lambda x: list(x.unique())  # Unique values of remarks as a list\n",
    "# }).reset_index()\n",
    "# data_day"
   ]
  },
  {
   "cell_type": "code",
   "execution_count": null,
   "id": "53",
   "metadata": {},
   "outputs": [],
   "source": [
    "# data.set_index('Standardized_Date', inplace=True) \n",
    "# data_day = data.groupby('Shift').resample('M').agg({\n",
    "#     'RAW WATER FLOW IN ML': 'sum',\n",
    "#     'CLEAR WATER SUMP LEVEL IN Meter': 'mean',\n",
    "#     'CLEAR WATER PUMPING FLOW ML': 'sum',\n",
    "#     'TREATED WATER PRODUCTION IN ML': 'sum',\n",
    "#     'remarks category': lambda x: list(x.unique())  # Unique values of remarks as a list\n",
    "# }).reset_index()\n",
    "# data_day"
   ]
  },
  {
   "cell_type": "code",
   "execution_count": null,
   "id": "54",
   "metadata": {},
   "outputs": [],
   "source": [
    "import pandas as pd\n",
    "import seaborn as sns\n",
    "import matplotlib.pyplot as plt\n",
    "\n",
    "data['Year'] = data['Standardized_Date'].dt.year\n",
    "# Group the data by year and shift\n",
    "year_shiftwise_production = data.groupby(['Year', 'Shift']).agg({'CLEAR WATER PUMPING FLOW ML':'sum','RAW WATER FLOW IN ML':'sum','TREATED WATER PRODUCTION IN ML':'sum'}).reset_index()\n",
    "\n",
    "# Create a bar plot using Plotly\n",
    "fig = px.bar(year_shiftwise_production, \n",
    "             x='Year', \n",
    "             y='CLEAR WATER PUMPING FLOW ML', \n",
    "             color='Shift', \n",
    "             barmode='group',  # Group bars by shift\n",
    "             title='Year-wise Clear Water Pumping Flow by Shift',\n",
    "             labels={'TREATED WATER PRODUCTION IN ML': 'Treated Water Production (ML)',\n",
    "                     'Year': 'Year'},\n",
    "             color_discrete_sequence=px.colors.qualitative.Dark2,hover_data=['RAW WATER FLOW IN ML','TREATED WATER PRODUCTION IN ML'])  # Use Set2 color palette\n",
    "\n",
    "# Update layout for better readability\n",
    "fig.update_layout(xaxis_title='Year',\n",
    "                  yaxis_title='Clear Water Pumping Flow in ML',\n",
    "                  legend_title='Shift')\n",
    "\n",
    "# Show the plot\n",
    "fig.show()\n",
    "fig.write_html('shift_wise_production.html')\n"
   ]
  },
  {
   "cell_type": "code",
   "execution_count": null,
   "id": "55",
   "metadata": {},
   "outputs": [],
   "source": [
    "import pandas as pd\n",
    "import seaborn as sns\n",
    "import matplotlib.pyplot as plt\n",
    "\n",
    "data['Year'] = data['Standardized_Date'].dt.year\n",
    "# Group the data by year and shift\n",
    "year_shiftwise_production = data.groupby(['Year', 'Shift']).agg({'CLEAR WATER PUMPING FLOW ML':'sum','RAW WATER FLOW IN ML':'sum','TREATED WATER PRODUCTION IN ML':'sum'}).reset_index()\n",
    "\n",
    "# Create a bar plot using Plotly\n",
    "fig = px.bar(year_shiftwise_production, \n",
    "             x='Year', \n",
    "             y='TREATED WATER PRODUCTION IN ML', \n",
    "             color='Shift', \n",
    "             barmode='group',  # Group bars by shift\n",
    "             title='Year-wise Treated Water Production by Shift',\n",
    "#              labels={'TREATED WATER PRODUCTION IN ML': 'Treated Water Production (ML)',\n",
    "#                      'Year': 'Year'},\n",
    "             color_discrete_sequence=px.colors.qualitative.Dark2,hover_data=['RAW WATER FLOW IN ML'])  # Use Set2 color palette\n",
    "\n",
    "# Update layout for better readability\n",
    "fig.update_layout(xaxis_title='Year',\n",
    "                  yaxis_title='Treated Water Production in ML',\n",
    "                  legend_title='Shift')\n",
    "\n",
    "# Show the plot\n",
    "fig.show()\n"
   ]
  },
  {
   "cell_type": "code",
   "execution_count": null,
   "id": "56",
   "metadata": {},
   "outputs": [],
   "source": [
    "import pandas as pd\n",
    "import seaborn as sns\n",
    "import matplotlib.pyplot as plt\n",
    "\n",
    "data['Year'] = data['Standardized_Date'].dt.year\n",
    "data_2024 = data[data['Year'] == 2024]\n",
    "# Group the data by year and shift\n",
    "year_shiftwise_production = data_2024.groupby(['Year', 'Shift']).agg({'CLEAR WATER PUMPING FLOW ML':'sum','RAW WATER FLOW IN ML':'sum','TREATED WATER PRODUCTION IN ML':'sum'}).reset_index()\n",
    "\n",
    "# Create a bar plot using Plotly\n",
    "fig = px.bar(year_shiftwise_production, \n",
    "             x='Year', \n",
    "             y='CLEAR WATER PUMPING FLOW ML', \n",
    "             color='Shift', \n",
    "             barmode='group',  # Group bars by shift\n",
    "             title='Clear Water Pumping Flow by Shift in 2024',\n",
    "             labels={'TREATED WATER PRODUCTION IN ML': 'Treated Water Production (ML)',\n",
    "                     'Year': 'Year'},\n",
    "             color_discrete_sequence=px.colors.qualitative.Dark2,hover_data=['RAW WATER FLOW IN ML','TREATED WATER PRODUCTION IN ML'])  # Use Set2 color palette\n",
    "\n",
    "# Update layout for better readability\n",
    "fig.update_layout(xaxis_title='Year',\n",
    "                  yaxis_title='Clear Water Pumping Flow (ML)',\n",
    "                  legend_title='Shift')\n",
    "\n",
    "# Show the plot\n",
    "fig.show()\n",
    "fig.write_html('shift_wise_production_2024.html')"
   ]
  },
  {
   "cell_type": "code",
   "execution_count": null,
   "id": "57",
   "metadata": {},
   "outputs": [],
   "source": [
    "import pandas as pd\n",
    "import seaborn as sns\n",
    "import matplotlib.pyplot as plt\n",
    "\n",
    "data['Year'] = data['Standardized_Date'].dt.year\n",
    "data_2024 = data[data['Year'] == 2024]\n",
    "# Group the data by year and shift\n",
    "year_shiftwise_production = data_2024.groupby(['Standardized_Date', 'Shift']).agg({'CLEAR WATER PUMPING FLOW ML':'sum','RAW WATER FLOW IN ML':'sum','TREATED WATER PRODUCTION IN ML':'sum'}).reset_index()\n",
    "\n",
    "# Create a bar plot using Plotly\n",
    "fig = px.bar(year_shiftwise_production, \n",
    "             x='Standardized_Date', \n",
    "             y='CLEAR WATER PUMPING FLOW ML', \n",
    "             color='Shift', \n",
    "             barmode='group',  # Group bars by shift\n",
    "             title='Month-wise CLEAR WATER PUMPING FLOW by Shift in 2024',\n",
    "             labels={'TREATED WATER PRODUCTION IN ML': 'Treated Water Production (ML)',\n",
    "                     'Year': 'Year'},\n",
    "             color_discrete_sequence=px.colors.qualitative.Dark2,hover_data=['RAW WATER FLOW IN ML','TREATED WATER PRODUCTION IN ML'])  # Use Set2 color palette\n",
    "\n",
    "# Update layout for better readability\n",
    "fig.update_layout(xaxis_title='Year',\n",
    "                  yaxis_title='CLEAR WATER PUMPING FLOW ML',\n",
    "                  legend_title='Shift')\n",
    "\n",
    "# Show the plot\n",
    "fig.show()"
   ]
  },
  {
   "cell_type": "markdown",
   "id": "58",
   "metadata": {},
   "source": [
    "## Water demand analysis \n",
    "\n",
    "The total volume of clear water pumped from treated sources reflects the water consumption by the Overhead Storage Tanks (OHSR). This water is then distributed to individual households, representing the overall demand for water. \n",
    "\n",
    "The comparison of demand can be visualized for a desired time range (month on month, year on year)"
   ]
  },
  {
   "cell_type": "code",
   "execution_count": null,
   "id": "59",
   "metadata": {},
   "outputs": [],
   "source": [
    "data.set_index(['Standardized_Date'], inplace=True)\n",
    "data_month = data.resample('M').agg({'RAW WATER FLOW IN ML':'sum',\n",
    "                                   'CLEAR WATER SUMP LEVEL IN Meter':'mean',\n",
    "                                   'CLEAR WATER PUMPING FLOW ML':'sum',\n",
    "                                   'TREATED WATER PRODUCTION IN ML':'sum', 'remarks category':'unique'})\n",
    "data_month"
   ]
  },
  {
   "cell_type": "code",
   "execution_count": null,
   "id": "60",
   "metadata": {},
   "outputs": [],
   "source": [
    "data_month.dtypes"
   ]
  },
  {
   "cell_type": "code",
   "execution_count": null,
   "id": "61",
   "metadata": {},
   "outputs": [],
   "source": [
    "data_year = data.resample('Y').agg({'RAW WATER FLOW IN ML':'sum',\n",
    "                                   'CLEAR WATER SUMP LEVEL IN Meter':'mean',\n",
    "                                   'CLEAR WATER PUMPING FLOW ML':'sum',\n",
    "                                   'TREATED WATER PRODUCTION IN ML':'sum', 'remarks category':'unique'})\n",
    "data_year"
   ]
  },
  {
   "cell_type": "code",
   "execution_count": null,
   "id": "62",
   "metadata": {},
   "outputs": [],
   "source": [
    "data_year=data_year.reset_index()\n",
    "data_year['Year'] = data_year['Standardized_Date'].dt.year\n",
    "data_year.Year = data_year.Year.astype(int).astype(str)\n",
    "\n",
    "# Plot using Plotly\n",
    "fig = px.line(data_year, x='Year', y='CLEAR WATER PUMPING FLOW ML', markers=True, \n",
    "              title='Water demand by Year')\n",
    "\n",
    "# Update layout and show gridlines\n",
    "fig.update_layout(\n",
    "    xaxis_title='Year',\n",
    "    yaxis_title='CLEAR WATER PUMPING FLOW ML',\n",
    "    title_x=0.5,\n",
    "    xaxis=dict(showgrid=True),  # Enable grid for x-axis\n",
    "    yaxis=dict(showgrid=True)   # Enable grid for y-axis\n",
    ")\n",
    "\n",
    "fig.show()\n",
    "\n",
    "# Save the plot as HTML\n",
    "fig.write_html('water_demand_yearwise.html')"
   ]
  },
  {
   "cell_type": "code",
   "execution_count": null,
   "id": "63",
   "metadata": {},
   "outputs": [],
   "source": [
    "data_month=data_month.reset_index()\n",
    "\n",
    "# Plot using Plotly\n",
    "fig = px.line(data_month, x='Standardized_Date', y='CLEAR WATER PUMPING FLOW ML', markers=True, \n",
    "              title='Water demand by Month')\n",
    "\n",
    "# Update layout and show gridlines\n",
    "fig.update_layout(\n",
    "    xaxis_title='Month',\n",
    "    yaxis_title='CLEAR WATER PUMPING FLOW ML',\n",
    "    title_x=0.5,\n",
    "    xaxis=dict(showgrid=True),  # Enable grid for x-axis\n",
    "    yaxis=dict(showgrid=True)   # Enable grid for y-axis\n",
    ")\n",
    "\n",
    "fig.show()\n",
    "\n",
    "# Save the plot as HTML\n",
    "fig.write_html('water_demand_monthwise.html')"
   ]
  },
  {
   "cell_type": "markdown",
   "id": "64",
   "metadata": {},
   "source": [
    "# Treated water production \n",
    "\n",
    "\n",
    "The amount of treated water produced both in near real-time and for a desired time range can be visualized through the platform. This helps to understand the plant's operational efficiency and how it varies with respect to time.  By monitoring the treated water production trend, the operator can allocate more resources to meet the demand. "
   ]
  },
  {
   "cell_type": "code",
   "execution_count": null,
   "id": "65",
   "metadata": {},
   "outputs": [],
   "source": [
    "data=data.reset_index()\n",
    "latest_date = data['Standardized_Date'].max()\n",
    "latest_date_str = latest_date.strftime('%Y-%m-%d')\n",
    "\n",
    "# Filter the data for the latest date\n",
    "filtered_data = data[data['Standardized_Date'] == latest_date]\n",
    "\n",
    "# Plot the filtered data\n",
    "fig = px.line(filtered_data, x='STANDARDIZED_TIME', y='TREATED WATER PRODUCTION IN ML',title=f'Treated Water Production on {latest_date_str}', hover_data=['remarks category'])\n",
    "fig.update_traces(line=dict(color='purple', width=4))\n",
    "# Update layout for better readability\n",
    "fig.update_layout(xaxis_title='Time',\n",
    "                  yaxis_title='Treated Water Production (ML)')\n",
    "# Show the plot\n",
    "fig.show()\n",
    "# Save the plot as HTML\n",
    "fig.write_html('treated water produced in near real-time.html')\n"
   ]
  },
  {
   "cell_type": "markdown",
   "id": "66",
   "metadata": {},
   "source": [
    "# Zone wise CLEAR_WATER_PUMPING_FLOW"
   ]
  },
  {
   "cell_type": "code",
   "execution_count": null,
   "id": "67",
   "metadata": {},
   "outputs": [],
   "source": [
    "def assign_zone(hour):\n",
    "    if 6 <= hour < 18:\n",
    "        return 'Z1'\n",
    "    elif 18 <= hour < 22:\n",
    "        return 'Z2'\n",
    "    else:\n",
    "        return 'Z3'"
   ]
  },
  {
   "cell_type": "code",
   "execution_count": null,
   "id": "68",
   "metadata": {},
   "outputs": [],
   "source": [
    "data['Zone'] = data['Hour'].apply(assign_zone)\n",
    "data"
   ]
  },
  {
   "cell_type": "code",
   "execution_count": null,
   "id": "69",
   "metadata": {},
   "outputs": [],
   "source": [
    "# Ensure 'Standardized_Date' is in datetime format\n",
    "data['Standardized_Date'] = pd.to_datetime(data['Standardized_Date'])\n",
    "\n",
    "# Set 'Standardized_Date' as index\n",
    "data = data.set_index('Standardized_Date')"
   ]
  },
  {
   "cell_type": "code",
   "execution_count": null,
   "id": "70",
   "metadata": {},
   "outputs": [],
   "source": [
    "data_month_start = data.groupby(['Zone']).resample('M').agg({'RAW WATER FLOW IN ML':'sum',\n",
    "\n",
    "                                   'CLEAR WATER SUMP LEVEL IN Meter':'mean',\n",
    "\n",
    "                                   'CLEAR WATER PUMPING FLOW ML':'sum',\n",
    "\n",
    "                                   'TREATED WATER PRODUCTION IN ML':'sum',\n",
    "                                   'remarks category':lambda x: x.unique()}).reset_index()\n",
    "data_month_start "
   ]
  },
  {
   "cell_type": "code",
   "execution_count": null,
   "id": "71",
   "metadata": {},
   "outputs": [],
   "source": [
    "data_month_start_pivot = data_month_start.pivot(index='Standardized_Date',columns=['Zone'],values=['RAW WATER FLOW IN ML','CLEAR WATER SUMP LEVEL IN Meter','CLEAR WATER PUMPING FLOW ML','TREATED WATER PRODUCTION IN ML','remarks category'])\n",
    "data_month_start_pivot"
   ]
  },
  {
   "cell_type": "code",
   "execution_count": null,
   "id": "72",
   "metadata": {},
   "outputs": [],
   "source": [
    "# Flatten the MultiIndex columns except for 'Standardized_Date'\n",
    "data_month_start_pivot.columns = [\n",
    "    '_'.join(col).strip() if isinstance(col, tuple) else col for col in data_month_start_pivot.columns\n",
    "]\n",
    "\n",
    "# Optionally, replace spaces with underscores for easier access\n",
    "data_month_start_pivot.columns = [col.replace(' ', '_') for col in data_month_start_pivot.columns]\n",
    "\n",
    "# View the result\n",
    "data_month_start_pivot\n",
    "\n"
   ]
  },
  {
   "cell_type": "code",
   "execution_count": null,
   "id": "73",
   "metadata": {},
   "outputs": [],
   "source": [
    "df=pd.read_excel('final_ebill.xlsx',index_col='Standardized_Date',parse_dates=True)"
   ]
  },
  {
   "cell_type": "code",
   "execution_count": null,
   "id": "74",
   "metadata": {},
   "outputs": [],
   "source": [
    "data_month_ebill = data_month_start_pivot.merge(df,on='Standardized_Date',how='left')\n",
    "data_month_ebill  "
   ]
  },
  {
   "cell_type": "code",
   "execution_count": null,
   "id": "75",
   "metadata": {},
   "outputs": [],
   "source": [
    "data_month_ebill['no of pumps_z1']=data_month_ebill['CLEAR_WATER_PUMPING_FLOW_ML_Z1']/0.932\n",
    "data_month_ebill['no of pumps_z2']=data_month_ebill['CLEAR_WATER_PUMPING_FLOW_ML_Z2']/0.932\n",
    "data_month_ebill['no of pumps_z3']=data_month_ebill['CLEAR_WATER_PUMPING_FLOW_ML_Z3']/0.932"
   ]
  },
  {
   "cell_type": "code",
   "execution_count": null,
   "id": "76",
   "metadata": {},
   "outputs": [],
   "source": [
    "data_month_ebill"
   ]
  },
  {
   "cell_type": "code",
   "execution_count": null,
   "id": "77",
   "metadata": {},
   "outputs": [],
   "source": [
    "data_month_ebill.iloc[30:33, data_month_ebill.columns.get_loc('Year')] = 2024"
   ]
  },
  {
   "cell_type": "code",
   "execution_count": null,
   "id": "78",
   "metadata": {},
   "outputs": [],
   "source": [
    "import plotly.graph_objects as go\n",
    "\n",
    "# Ensure the Year column is in string format\n",
    "data_month_ebill['Year'] = data_month_ebill['Year'].astype(str).str.replace('.0', '', regex=False)\n",
    "\n",
    "\n",
    "# Data for x-axis (Year) and y-axes (Pumping flow for Z1, Z2, Z3)\n",
    "x_year = data_month_ebill['Year']\n",
    "y_z1 = data_month_ebill['CLEAR_WATER_PUMPING_FLOW_ML_Z1']\n",
    "y_z2 = data_month_ebill['CLEAR_WATER_PUMPING_FLOW_ML_Z2']\n",
    "y_z3 = data_month_ebill['CLEAR_WATER_PUMPING_FLOW_ML_Z3']\n",
    "\n",
    "# Create a figure\n",
    "fig = go.Figure()\n",
    "\n",
    "# Add bar traces for each zone with dark colors\n",
    "fig.add_trace(go.Bar(x=x_year, y=y_z1, name='Z1 Pumping Flow', marker_color='darkblue'))\n",
    "fig.add_trace(go.Bar(x=x_year, y=y_z2, name='Z2 Pumping Flow', marker_color='darkgreen'))\n",
    "fig.add_trace(go.Bar(x=x_year, y=y_z3, name='Z3 Pumping Flow', marker_color='darkred'))\n",
    "\n",
    "# Customize the layout with a dark background\n",
    "fig.update_layout(\n",
    "    title=\"Clear Water Pumping Flow Over the Years\",\n",
    "    xaxis_title=\"Year\",\n",
    "    yaxis_title=\"Pumping Flow (ML)\",\n",
    "    legend_title=\"Zones\",\n",
    "    barmode='group',  # Group bars together for better comparison\n",
    "    template=\"plotly_white\",  # Dark theme\n",
    "    plot_bgcolor='white',  # Darken the plot area\n",
    "    paper_bgcolor='white',  # Darken the surrounding area\n",
    "    font_color='black'  # Ensure text is visible on the dark background\n",
    ")\n",
    "\n",
    "# Show the plot\n",
    "fig.show()\n"
   ]
  },
  {
   "cell_type": "code",
   "execution_count": null,
   "id": "79",
   "metadata": {},
   "outputs": [],
   "source": [
    "import plotly.graph_objects as go\n",
    "\n",
    "# Ensure the Year column is in string format\n",
    "data_month_ebill['Year'] = data_month_ebill['Year'].astype(str)\n",
    "\n",
    "x_year = data_month_ebill['Year']\n",
    "y_z1 = data_month_ebill['no of pumps_z1']\n",
    "y_z2 = data_month_ebill['no of pumps_z2']\n",
    "y_z3 = data_month_ebill['no of pumps_z2']\n",
    "\n",
    "# Create a figure\n",
    "fig = go.Figure()\n",
    "\n",
    "# Add bar traces for each zone\n",
    "fig.add_trace(go.Bar(x=x_year, y=y_z1, name='Z1 Pumping Flow'))\n",
    "fig.add_trace(go.Bar(x=x_year, y=y_z2, name='Z2 Pumping Flow'))\n",
    "fig.add_trace(go.Bar(x=x_year, y=y_z3, name='Z3 Pumping Flow'))\n",
    "\n",
    "# Customize the layout\n",
    "fig.update_layout(\n",
    "    title=\"No of pumps Over the Years\",\n",
    "    xaxis_title=\"Year\",\n",
    "    yaxis_title=\"No of pumps\",\n",
    "    legend_title=\"Zones\",\n",
    "    barmode='group',  # Group bars together for better comparison\n",
    "    template=\"plotly_white\"\n",
    ")\n",
    "\n",
    "# Show the plot\n",
    "fig.show()\n"
   ]
  },
  {
   "cell_type": "code",
   "execution_count": null,
   "id": "80",
   "metadata": {},
   "outputs": [],
   "source": [
    "import plotly.graph_objects as go\n",
    "\n",
    "data_month_ebill=data_month_ebill.reset_index()\n",
    "# Data for x-axis (Year) and y-axes (Pumping flow for Z1, Z2, Z3)\n",
    "x_year = data_month_ebill['Standardized_Date']\n",
    "y_z1 = data_month_ebill['CLEAR_WATER_PUMPING_FLOW_ML_Z1']\n",
    "y_z2 = data_month_ebill['CLEAR_WATER_PUMPING_FLOW_ML_Z2']\n",
    "y_z3 = data_month_ebill['CLEAR_WATER_PUMPING_FLOW_ML_Z3']\n",
    "\n",
    "# Create a figure\n",
    "fig = go.Figure()\n",
    "\n",
    "# Add bar traces for each zone\n",
    "fig.add_trace(go.Bar(x=x_year, y=y_z1, name='Z1 Pumping Flow',marker_color='darkblue'))\n",
    "fig.add_trace(go.Bar(x=x_year, y=y_z2, name='Z2 Pumping Flow',marker_color='darkred'))\n",
    "fig.add_trace(go.Bar(x=x_year, y=y_z3, name='Z3 Pumping Flow',marker_color='darkgreen'))\n",
    "\n",
    "# Customize the layout\n",
    "fig.update_layout(\n",
    "    title=\"Month wise Clear Water Pumping Flow\",\n",
    "    xaxis_title=\"Month-Year\",\n",
    "    yaxis_title=\"Pumping Flow (ML)\",\n",
    "    legend_title=\"Zones\",\n",
    "    barmode='group',  # Group bars together for better comparison\n",
    "    template=\"plotly_white\"\n",
    ")\n",
    "\n",
    "# Show the plot\n",
    "fig.show()\n"
   ]
  },
  {
   "cell_type": "code",
   "execution_count": null,
   "id": "81",
   "metadata": {},
   "outputs": [],
   "source": [
    "import plotly.graph_objects as go\n",
    "\n",
    "data_month_ebill = data_month_ebill.reset_index()\n",
    "# Data for x-axis (Year) and y-axes (Pumping flow for Z1, Z2, Z3)\n",
    "x_year = data_month_ebill['Standardized_Date']\n",
    "y_z1 = data_month_ebill['CLEAR_WATER_PUMPING_FLOW_ML_Z1']\n",
    "y_z2 = data_month_ebill['CLEAR_WATER_PUMPING_FLOW_ML_Z2']\n",
    "y_z3 = data_month_ebill['CLEAR_WATER_PUMPING_FLOW_ML_Z3']\n",
    "\n",
    "# Create a figure\n",
    "fig = go.Figure()\n",
    "\n",
    "# Add line traces for each zone\n",
    "fig.add_trace(go.Scatter(x=x_year, y=y_z1, mode='lines+markers', name='Z1 Pumping Flow', line=dict(color='darkblue')))\n",
    "fig.add_trace(go.Scatter(x=x_year, y=y_z2, mode='lines+markers', name='Z2 Pumping Flow', line=dict(color='darkred')))\n",
    "fig.add_trace(go.Scatter(x=x_year, y=y_z3, mode='lines+markers', name='Z3 Pumping Flow', line=dict(color='darkgreen')))\n",
    "\n",
    "# Customize the layout\n",
    "fig.update_layout(\n",
    "    title=\"Month wise Clear Water Pumping Flow\",\n",
    "    xaxis_title=\"Month-Year\",\n",
    "    yaxis_title=\"Pumping Flow (ML)\",\n",
    "    legend_title=\"Zones\",\n",
    "    template=\"plotly_white\"\n",
    ")\n",
    "\n",
    "# Show the plot\n",
    "fig.show()\n"
   ]
  },
  {
   "cell_type": "code",
   "execution_count": null,
   "id": "82",
   "metadata": {},
   "outputs": [],
   "source": [
    "import plotly.graph_objects as go\n",
    "data_month_ebill['Year'] = data_month_ebill['Year'].astype(str).str.replace('.0', '', regex=False)\n",
    "# Data for x-axis (Year) and y-axes (Pumping flow for Z1, Z2, Z3)\n",
    "x_year = data_month_ebill['Year']\n",
    "y_z1 = data_month_ebill['Z1 (kWh)']\n",
    "y_z2 = data_month_ebill['Z2 (kWh)']\n",
    "y_z3 = data_month_ebill['Z3 (kWh)']\n",
    "\n",
    "# Create a figure\n",
    "fig = go.Figure()\n",
    "\n",
    "# Add bar traces for each zone\n",
    "fig.add_trace(go.Bar(x=x_year, y=y_z1, name='Z1 (kWh)',marker_color='purple'))\n",
    "fig.add_trace(go.Bar(x=x_year, y=y_z2, name='Z2 (kWh)',marker_color='darkblue'))\n",
    "fig.add_trace(go.Bar(x=x_year, y=y_z3, name='Z3 (kWh)',marker_color='darkred'))\n",
    "\n",
    "# Customize the layout\n",
    "fig.update_layout(\n",
    "    title=\"Yearwise Energy consumption across zones\",\n",
    "    xaxis_title=\"Year\",\n",
    "    yaxis_title=\"Energy Consumption(kWh)\",\n",
    "    legend_title=\"Zones\",\n",
    "    barmode='group',  # Group bars together for better comparison\n",
    "    template=\"plotly_white\"\n",
    ")\n",
    "\n",
    "# Show the plot\n",
    "fig.show()\n"
   ]
  },
  {
   "cell_type": "code",
   "execution_count": null,
   "id": "83",
   "metadata": {},
   "outputs": [],
   "source": [
    "import plotly.graph_objects as go\n",
    "\n",
    "# Data for x-axis (Year) and y-axes (Pumping flow for Z1, Z2, Z3)\n",
    "x_year = data_month_ebill['Standardized_Date']\n",
    "y_z1 = data_month_ebill['Z1 (kWh)']\n",
    "y_z2 = data_month_ebill['Z2 (kWh)']\n",
    "y_z3 = data_month_ebill['Z3 (kWh)']\n",
    "\n",
    "# Create a figure\n",
    "fig = go.Figure()\n",
    "\n",
    "# Add bar traces for each zone\n",
    "fig.add_trace(go.Bar(x=x_year, y=y_z1, name='Z1 (kWh)',marker_color='purple'))\n",
    "fig.add_trace(go.Bar(x=x_year, y=y_z2, name='Z2 (kWh)',marker_color='grey'))\n",
    "fig.add_trace(go.Bar(x=x_year, y=y_z3, name='Z3 (kWh)',marker_color='green'))\n",
    "\n",
    "# Customize the layout\n",
    "fig.update_layout(\n",
    "    title=\"Month wise Energy consumption across zones\",\n",
    "    xaxis_title=\"Month-Year\",\n",
    "    yaxis_title=\"Energy Consumption(kWh)\",\n",
    "    legend_title=\"Zones\",\n",
    "    barmode='group',  # Group bars together for better comparison\n",
    "    template=\"plotly_white\"\n",
    ")\n",
    "\n",
    "# Show the plot\n",
    "fig.show()"
   ]
  },
  {
   "cell_type": "code",
   "execution_count": null,
   "id": "84",
   "metadata": {},
   "outputs": [],
   "source": [
    "import plotly.graph_objects as go\n",
    "\n",
    "# Data for x-axis (Year) and y-axes (Energy consumption for Z1, Z2, Z3)\n",
    "x_year = data_month_ebill['Standardized_Date']\n",
    "y_z1 = data_month_ebill['Z1 (kWh)']\n",
    "y_z2 = data_month_ebill['Z2 (kWh)']\n",
    "y_z3 = data_month_ebill['Z3 (kWh)']\n",
    "\n",
    "# Create a figure\n",
    "fig = go.Figure()\n",
    "\n",
    "# Add line traces for each zone\n",
    "fig.add_trace(go.Scatter(x=x_year, y=y_z1, mode='lines+markers', name='Z1 (kWh)', line=dict(color='purple')))\n",
    "fig.add_trace(go.Scatter(x=x_year, y=y_z2, mode='lines+markers', name='Z2 (kWh)', line=dict(color='grey')))\n",
    "fig.add_trace(go.Scatter(x=x_year, y=y_z3, mode='lines+markers', name='Z3 (kWh)', line=dict(color='green')))\n",
    "\n",
    "# Customize the layout\n",
    "fig.update_layout(\n",
    "    title=\"Month wise Energy Consumption Across Zones\",\n",
    "    xaxis_title=\"Month-Year\",\n",
    "    yaxis_title=\"Energy Consumption (kWh)\",\n",
    "    legend_title=\"Zones\",\n",
    "    template=\"plotly_white\"\n",
    ")\n",
    "\n",
    "# Show the plot\n",
    "fig.show()\n"
   ]
  },
  {
   "cell_type": "code",
   "execution_count": null,
   "id": "85",
   "metadata": {},
   "outputs": [],
   "source": [
    "# Convert columns to numeric and handle any non-numeric values\n",
    "data_month_ebill['Units_kWh'] = pd.to_numeric(data_month_ebill['Units_kWh'], errors='coerce')\n",
    "data_month_ebill['TREATED_WATER_PRODUCTION_IN_ML_Z1'] = pd.to_numeric(data_month_ebill['TREATED_WATER_PRODUCTION_IN_ML_Z1'], errors='coerce')\n",
    "data_month_ebill['TREATED_WATER_PRODUCTION_IN_ML_Z2'] = pd.to_numeric(data_month_ebill['TREATED_WATER_PRODUCTION_IN_ML_Z2'], errors='coerce')\n",
    "data_month_ebill['TREATED_WATER_PRODUCTION_IN_ML_Z3'] = pd.to_numeric(data_month_ebill['TREATED_WATER_PRODUCTION_IN_ML_Z3'], errors='coerce')\n",
    "\n",
    "# Replace NaN values with 0 for water production columns to ensure valid calculation\n",
    "data_month_ebill[['TREATED_WATER_PRODUCTION_IN_ML_Z1', 'TREATED_WATER_PRODUCTION_IN_ML_Z2', 'TREATED_WATER_PRODUCTION_IN_ML_Z3']] = data_month_ebill[['TREATED_WATER_PRODUCTION_IN_ML_Z1', 'TREATED_WATER_PRODUCTION_IN_ML_Z2', 'TREATED_WATER_PRODUCTION_IN_ML_Z3']].fillna(0)\n",
    "\n",
    "# Perform the specific energy consumption calculation and round to 2 decimal places\n",
    "data_month_ebill['specific_energy_consumption'] = (\n",
    "    data_month_ebill['Units_kWh'] / (\n",
    "        data_month_ebill['TREATED_WATER_PRODUCTION_IN_ML_Z1'] +\n",
    "        data_month_ebill['TREATED_WATER_PRODUCTION_IN_ML_Z2'] +\n",
    "        data_month_ebill['TREATED_WATER_PRODUCTION_IN_ML_Z3']\n",
    "    )\n",
    ").round(2)\n"
   ]
  },
  {
   "cell_type": "code",
   "execution_count": null,
   "id": "86",
   "metadata": {},
   "outputs": [],
   "source": [
    "data_month_ebill['charge_per_unit'] = data_month_ebill['Energy Charge (Rs)']/ data_month_ebill['Units_kWh']\n",
    "data_month_ebill['unit_cost'] = (data_month_ebill['Energy Charge (Rs)']/(\n",
    "        data_month_ebill['TREATED_WATER_PRODUCTION_IN_ML_Z1'] +\n",
    "        data_month_ebill['TREATED_WATER_PRODUCTION_IN_ML_Z2'] +\n",
    "        data_month_ebill['TREATED_WATER_PRODUCTION_IN_ML_Z3']\n",
    "    )).round(2)\n",
    "data_month_ebill"
   ]
  },
  {
   "cell_type": "code",
   "execution_count": null,
   "id": "87",
   "metadata": {},
   "outputs": [],
   "source": [
    "data_month_ebill.columns"
   ]
  },
  {
   "cell_type": "code",
   "execution_count": null,
   "id": "88",
   "metadata": {},
   "outputs": [],
   "source": [
    "import plotly.graph_objects as go\n",
    "\n",
    "# Data for x-axis (Year) and y-axes (Pumping flow for Z1, Z2, Z3)\n",
    "x_year = data_month_ebill['Standardized_Date']\n",
    "y = data_month_ebill['Units_kWh']\n",
    "\n",
    "# Create a figure\n",
    "fig = go.Figure()\n",
    "\n",
    "# Add bar traces for each zone\n",
    "fig.add_trace(go.Bar(x=x_year, y=y, name='Units_kWh',marker_color='darkblue'))\n",
    "# Customize the layout\n",
    "fig.update_layout(\n",
    "    title=\"Month wise Units\",\n",
    "    xaxis_title=\"Month-Year\",\n",
    "    yaxis_title=\"Units (kWh)\",\n",
    "    barmode='group',  # Group bars together for better comparison\n",
    "    template=\"plotly_white\"\n",
    ")\n",
    "\n",
    "# Show the plot\n",
    "fig.show()"
   ]
  },
  {
   "cell_type": "code",
   "execution_count": null,
   "id": "89",
   "metadata": {},
   "outputs": [],
   "source": [
    "import plotly.graph_objects as go\n",
    "\n",
    "# Data for x-axis (Year) and y-axes (Pumping flow for Z1, Z2, Z3)\n",
    "x_year = data_month_ebill['Standardized_Date']\n",
    "y = data_month_ebill['Energy Charge (Rs)']\n",
    "\n",
    "# Create a figure\n",
    "fig = go.Figure()\n",
    "\n",
    "# Add bar traces for each zone\n",
    "fig.add_trace(go.Bar(x=x_year, y=y, name='Energy Charge (Rs)',marker_color='darkred'))\n",
    "# Customize the layout\n",
    "fig.update_layout(\n",
    "    title=\"Month wise Energy Charge\",\n",
    "    xaxis_title=\"Month-Year\",\n",
    "    yaxis_title=\"Energy Charge (Rs)\",\n",
    "    barmode='group',  # Group bars together for better comparison\n",
    "    template=\"plotly_white\"\n",
    ")\n",
    "\n",
    "# Show the plot\n",
    "fig.show()"
   ]
  },
  {
   "cell_type": "code",
   "execution_count": null,
   "id": "90",
   "metadata": {},
   "outputs": [],
   "source": [
    "import plotly.graph_objects as go\n",
    "\n",
    "# Data for x-axis (Year) and y-axes (Pumping flow for Z1, Z2, Z3)\n",
    "x_year = data_month_ebill['Standardized_Date']\n",
    "y = data_month_ebill['specific_energy_consumption']\n",
    "\n",
    "# Create a figure\n",
    "fig = go.Figure()\n",
    "\n",
    "# Add bar traces for each zone\n",
    "fig.add_trace(go.Bar(x=x_year, y=y, name='specific_energy_consumption',marker_color='darkgreen'))\n",
    "# Customize the layout\n",
    "fig.update_layout(\n",
    "    title=\"Month wise Specific Energy Consumption\",\n",
    "    xaxis_title=\"Month-Year\",\n",
    "    yaxis_title=\"Specific Energy Consumption (kWh/ML)\",\n",
    "    barmode='group',  # Group bars together for better comparison\n",
    "    template=\"plotly_white\"\n",
    ")\n",
    "\n",
    "# Show the plot\n",
    "fig.show()"
   ]
  },
  {
   "cell_type": "code",
   "execution_count": null,
   "id": "91",
   "metadata": {},
   "outputs": [],
   "source": [
    "import plotly.graph_objects as go\n",
    "\n",
    "# Data for x-axis (Year) and y-axes (Pumping flow for Z1, Z2, Z3)\n",
    "x_year = data_month_ebill['Standardized_Date']\n",
    "y = data_month_ebill['unit_cost']\n",
    "\n",
    "# Create a figure\n",
    "fig = go.Figure()\n",
    "\n",
    "# Add bar traces for each zone\n",
    "fig.add_trace(go.Bar(x=x_year, y=y, name='unit_cost',marker_color='violet'))\n",
    "# Customize the layout\n",
    "fig.update_layout(\n",
    "    title=\"Month wise Unit Cost\",\n",
    "    xaxis_title=\"Month-Year\",\n",
    "    yaxis_title=\"Unit Cost (Rs/ML)\",\n",
    "    barmode='group',  # Group bars together for better comparison\n",
    "    template=\"plotly_white\"\n",
    ")\n",
    "\n",
    "# Show the plot\n",
    "fig.show()"
   ]
  },
  {
   "cell_type": "code",
   "execution_count": null,
   "id": "92",
   "metadata": {},
   "outputs": [],
   "source": [
    "import plotly.graph_objects as go\n",
    "\n",
    "# Data for x-axis (Year) and y-axes (Pumping flow for Z1, Z2, Z3)\n",
    "x_year = data_month_ebill['Standardized_Date']\n",
    "y = data_month_ebill['PF incentive/penalty (Rs)']\n",
    "\n",
    "# Create a figure\n",
    "fig = go.Figure()\n",
    "\n",
    "# Add bar traces for each zone\n",
    "fig.add_trace(go.Bar(x=x_year, y=y, name='PF incentive/penalty (Rs)',marker_color='brown'))\n",
    "# Customize the layout\n",
    "fig.update_layout(\n",
    "    title=\"Month wise PF Incentive\",\n",
    "    xaxis_title=\"Month-Year\",\n",
    "    yaxis_title=\"PF Incentive (Rs)\",\n",
    "    barmode='group',  # Group bars together for better comparison\n",
    "    template=\"plotly_white\"\n",
    ")\n",
    "\n",
    "# Show the plot\n",
    "fig.show()"
   ]
  },
  {
   "cell_type": "code",
   "execution_count": null,
   "id": "93",
   "metadata": {},
   "outputs": [],
   "source": [
    "import pandas as pd\n",
    "import matplotlib.pyplot as plt\n",
    "\n",
    "# Assuming you have loaded your data into a DataFrame called data_month_ebill\n",
    "# data_month_ebill = pd.read_csv('your_data_file.csv')  # Uncomment and modify this line as needed\n",
    "\n",
    "# Ensure 'DateTime' is in datetime format for plotting\n",
    "# data_month_ebill['DateTime'] = pd.to_datetime(data_month_ebill['DateTime'])\n",
    "\n",
    "# Set the DateTime as the index for easier plotting\n",
    "# data_month_ebill.set_index('DateTime', inplace=True)\n",
    "\n",
    "# Plotting\n",
    "plt.figure(figsize=(12, 6))\n",
    "plt.plot(data_month_ebill.index, data_month_ebill['Max_demand (kVA)'], label='Max Demand (kVA)', color='yellow')\n",
    "plt.plot(data_month_ebill.index, data_month_ebill['CD (kVA)'], label='Contract Demand (CD)', color='blue')\n",
    "plt.plot(data_month_ebill.index, data_month_ebill['75% CD (kVA)'], label='75% of CD', color='green')\n",
    "plt.plot(data_month_ebill.index, data_month_ebill['130% CD (kVA)'], label='130% of CD', color='red')\n",
    "\n",
    "# Adding titles and labels\n",
    "plt.title('Trend of Maximum Demand Compared to Contract Demand')\n",
    "plt.xlabel('Date')\n",
    "plt.ylabel('Demand (kVA)')\n",
    "plt.xticks(rotation=45)\n",
    "plt.legend()\n",
    "plt.grid()\n",
    "\n",
    "# Show plot\n",
    "plt.tight_layout()\n",
    "plt.show()\n"
   ]
  },
  {
   "cell_type": "code",
   "execution_count": null,
   "id": "94",
   "metadata": {},
   "outputs": [],
   "source": [
    "import pandas as pd\n",
    "import plotly.express as px\n",
    "\n",
    "# Assuming you have loaded your data into a DataFrame called data_month_ebill\n",
    "# data_month_ebill = pd.read_csv('your_data_file.csv')  # Uncomment and modify this line as needed\n",
    "\n",
    "# Ensure 'DateTime' is in datetime format for plotting\n",
    "# data_month_ebill['DateTime'] = pd.to_datetime(data_month_ebill['DateTime'])\n",
    "\n",
    "# Create the figure\n",
    "fig = px.line(data_month_ebill, \n",
    "              x='Standardized_Date', \n",
    "              y=['Max_demand (kVA)', 'CD (kVA)', '75% CD (kVA)', '130% CD (kVA)'], \n",
    "              labels={'value': 'Demand (kVA)', 'DateTime': 'Date'},\n",
    "              title='Trend of Maximum Demand Compared to Contract Demand')\n",
    "\n",
    "# Customize the trace names\n",
    "fig.for_each_trace(lambda t: t.update(name=t.name.replace('Max_demand (kVA)', 'Max Demand (kVA)')\n",
    "                                       .replace('CD (kVA)', 'Contract Demand (CD)')\n",
    "                                       .replace('75% CD (kVA)', '75% of CD')\n",
    "                                       .replace('130% CD (kVA)', '130% of CD')))\n",
    "fig.update_layout(\n",
    "    title=\"Trend of Maximum Demand Compared to Contract Demand\",\n",
    "    xaxis_title=\"Month-Year\",\n",
    "    yaxis_title=\"Demand (kVA)\",\n",
    "    barmode='group',  # Group bars together for better comparison\n",
    "    template=\"plotly_white\"\n",
    ")\n",
    "# Show the plot\n",
    "fig.show()\n"
   ]
  },
  {
   "cell_type": "code",
   "execution_count": null,
   "id": "95",
   "metadata": {},
   "outputs": [],
   "source": []
  }
 ],
 "metadata": {
  "kernelspec": {
   "display_name": "Python 3 (ipykernel)",
   "language": "python",
   "name": "python3"
  },
  "language_info": {
   "codemirror_mode": {
    "name": "ipython",
    "version": 3
   },
   "file_extension": ".py",
   "mimetype": "text/x-python",
   "name": "python",
   "nbconvert_exporter": "python",
   "pygments_lexer": "ipython3",
   "version": "3.11.5"
  }
 },
 "nbformat": 4,
 "nbformat_minor": 5
}

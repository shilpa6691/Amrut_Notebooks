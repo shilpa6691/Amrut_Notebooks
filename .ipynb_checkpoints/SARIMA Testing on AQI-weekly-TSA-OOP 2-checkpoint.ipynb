{
 "cells": [
  {
   "cell_type": "code",
   "execution_count": 1,
   "id": "legal-browse",
   "metadata": {},
   "outputs": [],
   "source": [
    "import pandas as pd\n",
    "import numpy as np\n",
    "import matplotlib.pyplot as plt\n",
    "import seaborn as sns\n",
    "%matplotlib inline\n",
    "from pmdarima.arima import auto_arima\n",
    "from statsmodels.tsa.stattools import adfuller\n",
    "from statsmodels.tsa.arima.model import ARIMA,ARIMAResults\n",
    "from sklearn.metrics import mean_squared_error,mean_absolute_percentage_error\n",
    "from statsmodels.tools.eval_measures import rmse\n",
    "\n",
    "from sklearn.preprocessing import OneHotEncoder\n",
    "import pickle\n",
    "from statsmodels.tsa.statespace.sarimax import SARIMAX\n",
    "from pmdarima.arima.utils import nsdiffs"
   ]
  },
  {
   "cell_type": "code",
   "execution_count": 2,
   "id": "ec794541",
   "metadata": {},
   "outputs": [],
   "source": [
    "#pip install --upgrade statsmodels"
   ]
  },
  {
   "cell_type": "code",
   "execution_count": 3,
   "id": "broken-iceland",
   "metadata": {},
   "outputs": [
    {
     "ename": "FileNotFoundError",
     "evalue": "[Errno 2] No such file or directory: 'weekly_AQI (1).csv'",
     "output_type": "error",
     "traceback": [
      "\u001b[0;31m---------------------------------------------------------------------------\u001b[0m",
      "\u001b[0;31mFileNotFoundError\u001b[0m                         Traceback (most recent call last)",
      "Cell \u001b[0;32mIn[3], line 1\u001b[0m\n\u001b[0;32m----> 1\u001b[0m df_weekly\u001b[38;5;241m=\u001b[39m pd\u001b[38;5;241m.\u001b[39mread_csv(\u001b[38;5;124m'\u001b[39m\u001b[38;5;124mweekly_AQI (1).csv\u001b[39m\u001b[38;5;124m'\u001b[39m,index_col\u001b[38;5;241m=\u001b[39m\u001b[38;5;124m'\u001b[39m\u001b[38;5;124mDateTime\u001b[39m\u001b[38;5;124m'\u001b[39m,parse_dates\u001b[38;5;241m=\u001b[39m\u001b[38;5;28;01mTrue\u001b[39;00m)\n\u001b[1;32m      2\u001b[0m df_weekly\u001b[38;5;241m.\u001b[39mhead()\n",
      "File \u001b[0;32m~/anaconda3/lib/python3.11/site-packages/pandas/io/parsers/readers.py:912\u001b[0m, in \u001b[0;36mread_csv\u001b[0;34m(filepath_or_buffer, sep, delimiter, header, names, index_col, usecols, dtype, engine, converters, true_values, false_values, skipinitialspace, skiprows, skipfooter, nrows, na_values, keep_default_na, na_filter, verbose, skip_blank_lines, parse_dates, infer_datetime_format, keep_date_col, date_parser, date_format, dayfirst, cache_dates, iterator, chunksize, compression, thousands, decimal, lineterminator, quotechar, quoting, doublequote, escapechar, comment, encoding, encoding_errors, dialect, on_bad_lines, delim_whitespace, low_memory, memory_map, float_precision, storage_options, dtype_backend)\u001b[0m\n\u001b[1;32m    899\u001b[0m kwds_defaults \u001b[38;5;241m=\u001b[39m _refine_defaults_read(\n\u001b[1;32m    900\u001b[0m     dialect,\n\u001b[1;32m    901\u001b[0m     delimiter,\n\u001b[0;32m   (...)\u001b[0m\n\u001b[1;32m    908\u001b[0m     dtype_backend\u001b[38;5;241m=\u001b[39mdtype_backend,\n\u001b[1;32m    909\u001b[0m )\n\u001b[1;32m    910\u001b[0m kwds\u001b[38;5;241m.\u001b[39mupdate(kwds_defaults)\n\u001b[0;32m--> 912\u001b[0m \u001b[38;5;28;01mreturn\u001b[39;00m _read(filepath_or_buffer, kwds)\n",
      "File \u001b[0;32m~/anaconda3/lib/python3.11/site-packages/pandas/io/parsers/readers.py:577\u001b[0m, in \u001b[0;36m_read\u001b[0;34m(filepath_or_buffer, kwds)\u001b[0m\n\u001b[1;32m    574\u001b[0m _validate_names(kwds\u001b[38;5;241m.\u001b[39mget(\u001b[38;5;124m\"\u001b[39m\u001b[38;5;124mnames\u001b[39m\u001b[38;5;124m\"\u001b[39m, \u001b[38;5;28;01mNone\u001b[39;00m))\n\u001b[1;32m    576\u001b[0m \u001b[38;5;66;03m# Create the parser.\u001b[39;00m\n\u001b[0;32m--> 577\u001b[0m parser \u001b[38;5;241m=\u001b[39m TextFileReader(filepath_or_buffer, \u001b[38;5;241m*\u001b[39m\u001b[38;5;241m*\u001b[39mkwds)\n\u001b[1;32m    579\u001b[0m \u001b[38;5;28;01mif\u001b[39;00m chunksize \u001b[38;5;129;01mor\u001b[39;00m iterator:\n\u001b[1;32m    580\u001b[0m     \u001b[38;5;28;01mreturn\u001b[39;00m parser\n",
      "File \u001b[0;32m~/anaconda3/lib/python3.11/site-packages/pandas/io/parsers/readers.py:1407\u001b[0m, in \u001b[0;36mTextFileReader.__init__\u001b[0;34m(self, f, engine, **kwds)\u001b[0m\n\u001b[1;32m   1404\u001b[0m     \u001b[38;5;28mself\u001b[39m\u001b[38;5;241m.\u001b[39moptions[\u001b[38;5;124m\"\u001b[39m\u001b[38;5;124mhas_index_names\u001b[39m\u001b[38;5;124m\"\u001b[39m] \u001b[38;5;241m=\u001b[39m kwds[\u001b[38;5;124m\"\u001b[39m\u001b[38;5;124mhas_index_names\u001b[39m\u001b[38;5;124m\"\u001b[39m]\n\u001b[1;32m   1406\u001b[0m \u001b[38;5;28mself\u001b[39m\u001b[38;5;241m.\u001b[39mhandles: IOHandles \u001b[38;5;241m|\u001b[39m \u001b[38;5;28;01mNone\u001b[39;00m \u001b[38;5;241m=\u001b[39m \u001b[38;5;28;01mNone\u001b[39;00m\n\u001b[0;32m-> 1407\u001b[0m \u001b[38;5;28mself\u001b[39m\u001b[38;5;241m.\u001b[39m_engine \u001b[38;5;241m=\u001b[39m \u001b[38;5;28mself\u001b[39m\u001b[38;5;241m.\u001b[39m_make_engine(f, \u001b[38;5;28mself\u001b[39m\u001b[38;5;241m.\u001b[39mengine)\n",
      "File \u001b[0;32m~/anaconda3/lib/python3.11/site-packages/pandas/io/parsers/readers.py:1661\u001b[0m, in \u001b[0;36mTextFileReader._make_engine\u001b[0;34m(self, f, engine)\u001b[0m\n\u001b[1;32m   1659\u001b[0m     \u001b[38;5;28;01mif\u001b[39;00m \u001b[38;5;124m\"\u001b[39m\u001b[38;5;124mb\u001b[39m\u001b[38;5;124m\"\u001b[39m \u001b[38;5;129;01mnot\u001b[39;00m \u001b[38;5;129;01min\u001b[39;00m mode:\n\u001b[1;32m   1660\u001b[0m         mode \u001b[38;5;241m+\u001b[39m\u001b[38;5;241m=\u001b[39m \u001b[38;5;124m\"\u001b[39m\u001b[38;5;124mb\u001b[39m\u001b[38;5;124m\"\u001b[39m\n\u001b[0;32m-> 1661\u001b[0m \u001b[38;5;28mself\u001b[39m\u001b[38;5;241m.\u001b[39mhandles \u001b[38;5;241m=\u001b[39m get_handle(\n\u001b[1;32m   1662\u001b[0m     f,\n\u001b[1;32m   1663\u001b[0m     mode,\n\u001b[1;32m   1664\u001b[0m     encoding\u001b[38;5;241m=\u001b[39m\u001b[38;5;28mself\u001b[39m\u001b[38;5;241m.\u001b[39moptions\u001b[38;5;241m.\u001b[39mget(\u001b[38;5;124m\"\u001b[39m\u001b[38;5;124mencoding\u001b[39m\u001b[38;5;124m\"\u001b[39m, \u001b[38;5;28;01mNone\u001b[39;00m),\n\u001b[1;32m   1665\u001b[0m     compression\u001b[38;5;241m=\u001b[39m\u001b[38;5;28mself\u001b[39m\u001b[38;5;241m.\u001b[39moptions\u001b[38;5;241m.\u001b[39mget(\u001b[38;5;124m\"\u001b[39m\u001b[38;5;124mcompression\u001b[39m\u001b[38;5;124m\"\u001b[39m, \u001b[38;5;28;01mNone\u001b[39;00m),\n\u001b[1;32m   1666\u001b[0m     memory_map\u001b[38;5;241m=\u001b[39m\u001b[38;5;28mself\u001b[39m\u001b[38;5;241m.\u001b[39moptions\u001b[38;5;241m.\u001b[39mget(\u001b[38;5;124m\"\u001b[39m\u001b[38;5;124mmemory_map\u001b[39m\u001b[38;5;124m\"\u001b[39m, \u001b[38;5;28;01mFalse\u001b[39;00m),\n\u001b[1;32m   1667\u001b[0m     is_text\u001b[38;5;241m=\u001b[39mis_text,\n\u001b[1;32m   1668\u001b[0m     errors\u001b[38;5;241m=\u001b[39m\u001b[38;5;28mself\u001b[39m\u001b[38;5;241m.\u001b[39moptions\u001b[38;5;241m.\u001b[39mget(\u001b[38;5;124m\"\u001b[39m\u001b[38;5;124mencoding_errors\u001b[39m\u001b[38;5;124m\"\u001b[39m, \u001b[38;5;124m\"\u001b[39m\u001b[38;5;124mstrict\u001b[39m\u001b[38;5;124m\"\u001b[39m),\n\u001b[1;32m   1669\u001b[0m     storage_options\u001b[38;5;241m=\u001b[39m\u001b[38;5;28mself\u001b[39m\u001b[38;5;241m.\u001b[39moptions\u001b[38;5;241m.\u001b[39mget(\u001b[38;5;124m\"\u001b[39m\u001b[38;5;124mstorage_options\u001b[39m\u001b[38;5;124m\"\u001b[39m, \u001b[38;5;28;01mNone\u001b[39;00m),\n\u001b[1;32m   1670\u001b[0m )\n\u001b[1;32m   1671\u001b[0m \u001b[38;5;28;01massert\u001b[39;00m \u001b[38;5;28mself\u001b[39m\u001b[38;5;241m.\u001b[39mhandles \u001b[38;5;129;01mis\u001b[39;00m \u001b[38;5;129;01mnot\u001b[39;00m \u001b[38;5;28;01mNone\u001b[39;00m\n\u001b[1;32m   1672\u001b[0m f \u001b[38;5;241m=\u001b[39m \u001b[38;5;28mself\u001b[39m\u001b[38;5;241m.\u001b[39mhandles\u001b[38;5;241m.\u001b[39mhandle\n",
      "File \u001b[0;32m~/anaconda3/lib/python3.11/site-packages/pandas/io/common.py:859\u001b[0m, in \u001b[0;36mget_handle\u001b[0;34m(path_or_buf, mode, encoding, compression, memory_map, is_text, errors, storage_options)\u001b[0m\n\u001b[1;32m    854\u001b[0m \u001b[38;5;28;01melif\u001b[39;00m \u001b[38;5;28misinstance\u001b[39m(handle, \u001b[38;5;28mstr\u001b[39m):\n\u001b[1;32m    855\u001b[0m     \u001b[38;5;66;03m# Check whether the filename is to be opened in binary mode.\u001b[39;00m\n\u001b[1;32m    856\u001b[0m     \u001b[38;5;66;03m# Binary mode does not support 'encoding' and 'newline'.\u001b[39;00m\n\u001b[1;32m    857\u001b[0m     \u001b[38;5;28;01mif\u001b[39;00m ioargs\u001b[38;5;241m.\u001b[39mencoding \u001b[38;5;129;01mand\u001b[39;00m \u001b[38;5;124m\"\u001b[39m\u001b[38;5;124mb\u001b[39m\u001b[38;5;124m\"\u001b[39m \u001b[38;5;129;01mnot\u001b[39;00m \u001b[38;5;129;01min\u001b[39;00m ioargs\u001b[38;5;241m.\u001b[39mmode:\n\u001b[1;32m    858\u001b[0m         \u001b[38;5;66;03m# Encoding\u001b[39;00m\n\u001b[0;32m--> 859\u001b[0m         handle \u001b[38;5;241m=\u001b[39m \u001b[38;5;28mopen\u001b[39m(\n\u001b[1;32m    860\u001b[0m             handle,\n\u001b[1;32m    861\u001b[0m             ioargs\u001b[38;5;241m.\u001b[39mmode,\n\u001b[1;32m    862\u001b[0m             encoding\u001b[38;5;241m=\u001b[39mioargs\u001b[38;5;241m.\u001b[39mencoding,\n\u001b[1;32m    863\u001b[0m             errors\u001b[38;5;241m=\u001b[39merrors,\n\u001b[1;32m    864\u001b[0m             newline\u001b[38;5;241m=\u001b[39m\u001b[38;5;124m\"\u001b[39m\u001b[38;5;124m\"\u001b[39m,\n\u001b[1;32m    865\u001b[0m         )\n\u001b[1;32m    866\u001b[0m     \u001b[38;5;28;01melse\u001b[39;00m:\n\u001b[1;32m    867\u001b[0m         \u001b[38;5;66;03m# Binary mode\u001b[39;00m\n\u001b[1;32m    868\u001b[0m         handle \u001b[38;5;241m=\u001b[39m \u001b[38;5;28mopen\u001b[39m(handle, ioargs\u001b[38;5;241m.\u001b[39mmode)\n",
      "\u001b[0;31mFileNotFoundError\u001b[0m: [Errno 2] No such file or directory: 'weekly_AQI (1).csv'"
     ]
    }
   ],
   "source": [
    "df_weekly= pd.read_csv('weekly_AQI (1).csv',index_col='DateTime',parse_dates=True)\n",
    "df_weekly.head()"
   ]
  },
  {
   "cell_type": "code",
   "execution_count": 4,
   "id": "preliminary-habitat",
   "metadata": {},
   "outputs": [
    {
     "data": {
      "text/plain": [
       "(2314, 2)"
      ]
     },
     "execution_count": 4,
     "metadata": {},
     "output_type": "execute_result"
    }
   ],
   "source": [
    "df_weekly.shape"
   ]
  },
  {
   "cell_type": "code",
   "execution_count": 5,
   "id": "eastern-directory",
   "metadata": {},
   "outputs": [
    {
     "data": {
      "text/html": [
       "<div>\n",
       "<style scoped>\n",
       "    .dataframe tbody tr th:only-of-type {\n",
       "        vertical-align: middle;\n",
       "    }\n",
       "\n",
       "    .dataframe tbody tr th {\n",
       "        vertical-align: top;\n",
       "    }\n",
       "\n",
       "    .dataframe thead th {\n",
       "        text-align: right;\n",
       "    }\n",
       "</style>\n",
       "<table border=\"1\" class=\"dataframe\">\n",
       "  <thead>\n",
       "    <tr style=\"text-align: right;\">\n",
       "      <th></th>\n",
       "      <th>id</th>\n",
       "      <th>AQI</th>\n",
       "    </tr>\n",
       "    <tr>\n",
       "      <th>DateTime</th>\n",
       "      <th></th>\n",
       "      <th></th>\n",
       "    </tr>\n",
       "  </thead>\n",
       "  <tbody>\n",
       "    <tr>\n",
       "      <th>2022-09-18</th>\n",
       "      <td>ID035</td>\n",
       "      <td>71.848485</td>\n",
       "    </tr>\n",
       "    <tr>\n",
       "      <th>2022-09-25</th>\n",
       "      <td>ID035</td>\n",
       "      <td>59.061538</td>\n",
       "    </tr>\n",
       "    <tr>\n",
       "      <th>2022-10-02</th>\n",
       "      <td>ID035</td>\n",
       "      <td>56.682927</td>\n",
       "    </tr>\n",
       "    <tr>\n",
       "      <th>2022-10-09</th>\n",
       "      <td>ID035</td>\n",
       "      <td>52.505837</td>\n",
       "    </tr>\n",
       "    <tr>\n",
       "      <th>2022-10-16</th>\n",
       "      <td>ID035</td>\n",
       "      <td>59.309091</td>\n",
       "    </tr>\n",
       "  </tbody>\n",
       "</table>\n",
       "</div>"
      ],
      "text/plain": [
       "               id        AQI\n",
       "DateTime                    \n",
       "2022-09-18  ID035  71.848485\n",
       "2022-09-25  ID035  59.061538\n",
       "2022-10-02  ID035  56.682927\n",
       "2022-10-09  ID035  52.505837\n",
       "2022-10-16  ID035  59.309091"
      ]
     },
     "execution_count": 5,
     "metadata": {},
     "output_type": "execute_result"
    }
   ],
   "source": [
    "df_weekly.tail()"
   ]
  },
  {
   "cell_type": "code",
   "execution_count": 6,
   "id": "b2959821",
   "metadata": {},
   "outputs": [
    {
     "data": {
      "text/html": [
       "<div>\n",
       "<style scoped>\n",
       "    .dataframe tbody tr th:only-of-type {\n",
       "        vertical-align: middle;\n",
       "    }\n",
       "\n",
       "    .dataframe tbody tr th {\n",
       "        vertical-align: top;\n",
       "    }\n",
       "\n",
       "    .dataframe thead th {\n",
       "        text-align: right;\n",
       "    }\n",
       "</style>\n",
       "<table border=\"1\" class=\"dataframe\">\n",
       "  <thead>\n",
       "    <tr style=\"text-align: right;\">\n",
       "      <th></th>\n",
       "      <th>id</th>\n",
       "      <th>AQI</th>\n",
       "    </tr>\n",
       "    <tr>\n",
       "      <th>DateTime</th>\n",
       "      <th></th>\n",
       "      <th></th>\n",
       "    </tr>\n",
       "  </thead>\n",
       "  <tbody>\n",
       "    <tr>\n",
       "      <th>2021-06-06</th>\n",
       "      <td>ID001</td>\n",
       "      <td>49.448276</td>\n",
       "    </tr>\n",
       "    <tr>\n",
       "      <th>2021-06-13</th>\n",
       "      <td>ID001</td>\n",
       "      <td>159.000000</td>\n",
       "    </tr>\n",
       "    <tr>\n",
       "      <th>2021-06-20</th>\n",
       "      <td>ID001</td>\n",
       "      <td>159.000000</td>\n",
       "    </tr>\n",
       "    <tr>\n",
       "      <th>2021-06-27</th>\n",
       "      <td>ID001</td>\n",
       "      <td>159.000000</td>\n",
       "    </tr>\n",
       "    <tr>\n",
       "      <th>2021-07-04</th>\n",
       "      <td>ID001</td>\n",
       "      <td>159.000000</td>\n",
       "    </tr>\n",
       "    <tr>\n",
       "      <th>...</th>\n",
       "      <td>...</td>\n",
       "      <td>...</td>\n",
       "    </tr>\n",
       "    <tr>\n",
       "      <th>2022-09-18</th>\n",
       "      <td>ID035</td>\n",
       "      <td>71.848485</td>\n",
       "    </tr>\n",
       "    <tr>\n",
       "      <th>2022-09-25</th>\n",
       "      <td>ID035</td>\n",
       "      <td>59.061538</td>\n",
       "    </tr>\n",
       "    <tr>\n",
       "      <th>2022-10-02</th>\n",
       "      <td>ID035</td>\n",
       "      <td>56.682927</td>\n",
       "    </tr>\n",
       "    <tr>\n",
       "      <th>2022-10-09</th>\n",
       "      <td>ID035</td>\n",
       "      <td>52.505837</td>\n",
       "    </tr>\n",
       "    <tr>\n",
       "      <th>2022-10-16</th>\n",
       "      <td>ID035</td>\n",
       "      <td>59.309091</td>\n",
       "    </tr>\n",
       "  </tbody>\n",
       "</table>\n",
       "<p>2242 rows × 2 columns</p>\n",
       "</div>"
      ],
      "text/plain": [
       "               id         AQI\n",
       "DateTime                     \n",
       "2021-06-06  ID001   49.448276\n",
       "2021-06-13  ID001  159.000000\n",
       "2021-06-20  ID001  159.000000\n",
       "2021-06-27  ID001  159.000000\n",
       "2021-07-04  ID001  159.000000\n",
       "...           ...         ...\n",
       "2022-09-18  ID035   71.848485\n",
       "2022-09-25  ID035   59.061538\n",
       "2022-10-02  ID035   56.682927\n",
       "2022-10-09  ID035   52.505837\n",
       "2022-10-16  ID035   59.309091\n",
       "\n",
       "[2242 rows x 2 columns]"
      ]
     },
     "execution_count": 6,
     "metadata": {},
     "output_type": "execute_result"
    }
   ],
   "source": [
    "df_filtered = df_weekly[df_weekly['id'] != 'ID023']\n",
    "df_filtered"
   ]
  },
  {
   "cell_type": "code",
   "execution_count": 7,
   "id": "369e4afe",
   "metadata": {},
   "outputs": [
    {
     "data": {
      "text/plain": [
       "array(['ID001', 'ID003', 'ID004', 'ID005', 'ID006', 'ID007', 'ID008',\n",
       "       'ID009', 'ID010', 'ID011', 'ID012', 'ID013', 'ID014', 'ID015',\n",
       "       'ID016', 'ID017', 'ID018', 'ID020', 'ID021', 'ID022', 'ID024',\n",
       "       'ID025', 'ID026', 'ID027', 'ID028', 'ID029', 'ID030', 'ID031',\n",
       "       'ID032', 'ID033', 'ID034', 'ID035'], dtype=object)"
      ]
     },
     "execution_count": 7,
     "metadata": {},
     "output_type": "execute_result"
    }
   ],
   "source": [
    "df_filtered.id.unique()"
   ]
  },
  {
   "cell_type": "code",
   "execution_count": 9,
   "id": "transparent-mixture",
   "metadata": {},
   "outputs": [
    {
     "name": "stdout",
     "output_type": "stream",
     "text": [
      "ID001\n",
      "Testing\n",
      "result\n",
      "ADF test statistic      -1.389406\n",
      "p-value                  0.587344\n",
      "# lags used              1.000000\n",
      "# observations          70.000000\n",
      "critical value (1%)     -3.527426\n",
      "critical value (5%)     -2.903811\n",
      "critical value (10%)    -2.589320\n",
      "Weak evidence against the null hypothesis\n",
      "Fail to reject the null hypothesis\n",
      "Data has a unit root and is non-stationary\n",
      "The best order is \n",
      "start : 64\n",
      "end : 71\n",
      "The best order is \n",
      "MSE Error: 387.9975279\n",
      "RMSE Error: 19.69765285\n"
     ]
    },
    {
     "name": "stderr",
     "output_type": "stream",
     "text": [
      "C:\\Users\\LENOVO\\anaconda3\\Lib\\site-packages\\statsmodels\\tsa\\base\\tsa_model.py:473: ValueWarning: No frequency information was provided, so inferred frequency W-SUN will be used.\n",
      "  self._init_dates(dates, freq)\n",
      "C:\\Users\\LENOVO\\anaconda3\\Lib\\site-packages\\statsmodels\\tsa\\base\\tsa_model.py:473: ValueWarning: No frequency information was provided, so inferred frequency W-SUN will be used.\n",
      "  self._init_dates(dates, freq)\n",
      "C:\\Users\\LENOVO\\anaconda3\\Lib\\site-packages\\statsmodels\\tsa\\base\\tsa_model.py:473: ValueWarning: No frequency information was provided, so inferred frequency W-SUN will be used.\n",
      "  self._init_dates(dates, freq)\n"
     ]
    },
    {
     "name": "stdout",
     "output_type": "stream",
     "text": [
      "The best order is \n"
     ]
    },
    {
     "name": "stderr",
     "output_type": "stream",
     "text": [
      "C:\\Users\\LENOVO\\anaconda3\\Lib\\site-packages\\statsmodels\\tsa\\base\\tsa_model.py:473: ValueWarning: No frequency information was provided, so inferred frequency W-SUN will be used.\n",
      "  self._init_dates(dates, freq)\n",
      "C:\\Users\\LENOVO\\anaconda3\\Lib\\site-packages\\statsmodels\\tsa\\base\\tsa_model.py:473: ValueWarning: No frequency information was provided, so inferred frequency W-SUN will be used.\n",
      "  self._init_dates(dates, freq)\n",
      "C:\\Users\\LENOVO\\anaconda3\\Lib\\site-packages\\statsmodels\\tsa\\base\\tsa_model.py:473: ValueWarning: No frequency information was provided, so inferred frequency W-SUN will be used.\n",
      "  self._init_dates(dates, freq)\n"
     ]
    },
    {
     "name": "stdout",
     "output_type": "stream",
     "text": [
      "The best order is \n",
      "(0, 1, 1)\n",
      "2022-10-23    59.08\n",
      "2022-10-30    59.08\n",
      "2022-11-06    59.08\n",
      "2022-11-13    59.08\n",
      "2022-11-20    59.08\n",
      "2022-11-27    59.08\n",
      "2022-12-04    59.08\n",
      "2022-12-11    59.08\n",
      "Freq: W-SUN, Name: predicted_mean, dtype: float64\n",
      "    Date         AQI       Type\n",
      "0      0   49.448276     Actual\n",
      "1      1  159.000000     Actual\n",
      "2      2  159.000000     Actual\n",
      "3      3  159.000000     Actual\n",
      "4      4  159.000000     Actual\n",
      "..   ...         ...        ...\n",
      "75    75   59.080000  Predicted\n",
      "76    76   59.080000  Predicted\n",
      "77    77   59.080000  Predicted\n",
      "78    78   59.080000  Predicted\n",
      "79    79   59.080000  Predicted\n",
      "\n",
      "[80 rows x 3 columns]\n",
      "ID003\n",
      "Testing\n",
      "result\n",
      "ADF test statistic     -1.563377e+15\n",
      "p-value                 0.000000e+00\n",
      "# lags used             0.000000e+00\n",
      "# observations          7.100000e+01\n",
      "critical value (1%)    -3.526005e+00\n",
      "critical value (5%)    -2.903200e+00\n",
      "critical value (10%)   -2.588995e+00\n",
      "Strong evidence against the null hypothesis\n",
      "Reject the null hypothesis\n",
      "Data has no unit root and is stationary\n"
     ]
    },
    {
     "name": "stderr",
     "output_type": "stream",
     "text": [
      "C:\\Users\\LENOVO\\anaconda3\\Lib\\site-packages\\statsmodels\\tsa\\statespace\\representation.py:374: FutureWarning: Unknown keyword arguments: dict_keys(['typ']).Passing unknown keyword arguments will raise a TypeError beginning in version 0.15.\n",
      "  warnings.warn(msg, FutureWarning)\n",
      "C:\\Users\\LENOVO\\anaconda3\\Lib\\site-packages\\statsmodels\\regression\\linear_model.py:956: RuntimeWarning: divide by zero encountered in log\n",
      "  llf = -nobs2*np.log(2*np.pi) - nobs2*np.log(ssr / nobs) - nobs2\n"
     ]
    },
    {
     "name": "stdout",
     "output_type": "stream",
     "text": [
      "The best order is \n",
      "start : 64\n",
      "end : 71\n",
      "The best order is \n",
      "MSE Error: 1.069921296\n",
      "RMSE Error: 1.034369999\n"
     ]
    },
    {
     "name": "stderr",
     "output_type": "stream",
     "text": [
      "C:\\Users\\LENOVO\\anaconda3\\Lib\\site-packages\\statsmodels\\tsa\\base\\tsa_model.py:473: ValueWarning: No frequency information was provided, so inferred frequency W-SUN will be used.\n",
      "  self._init_dates(dates, freq)\n",
      "C:\\Users\\LENOVO\\anaconda3\\Lib\\site-packages\\statsmodels\\tsa\\base\\tsa_model.py:473: ValueWarning: No frequency information was provided, so inferred frequency W-SUN will be used.\n",
      "  self._init_dates(dates, freq)\n",
      "C:\\Users\\LENOVO\\anaconda3\\Lib\\site-packages\\statsmodels\\tsa\\base\\tsa_model.py:473: ValueWarning: No frequency information was provided, so inferred frequency W-SUN will be used.\n",
      "  self._init_dates(dates, freq)\n"
     ]
    },
    {
     "name": "stdout",
     "output_type": "stream",
     "text": [
      "The best order is \n"
     ]
    },
    {
     "name": "stderr",
     "output_type": "stream",
     "text": [
      "C:\\Users\\LENOVO\\anaconda3\\Lib\\site-packages\\statsmodels\\tsa\\base\\tsa_model.py:473: ValueWarning: No frequency information was provided, so inferred frequency W-SUN will be used.\n",
      "  self._init_dates(dates, freq)\n",
      "C:\\Users\\LENOVO\\anaconda3\\Lib\\site-packages\\statsmodels\\tsa\\base\\tsa_model.py:473: ValueWarning: No frequency information was provided, so inferred frequency W-SUN will be used.\n",
      "  self._init_dates(dates, freq)\n",
      "C:\\Users\\LENOVO\\anaconda3\\Lib\\site-packages\\statsmodels\\tsa\\base\\tsa_model.py:473: ValueWarning: No frequency information was provided, so inferred frequency W-SUN will be used.\n",
      "  self._init_dates(dates, freq)\n"
     ]
    },
    {
     "name": "stdout",
     "output_type": "stream",
     "text": [
      "The best order is \n",
      "(0, 0, 0)\n",
      "2022-10-23    169.92\n",
      "2022-10-30    169.92\n",
      "2022-11-06    169.92\n",
      "2022-11-13    169.92\n",
      "2022-11-20    169.92\n",
      "2022-11-27    169.92\n",
      "2022-12-04    169.92\n",
      "2022-12-11    169.92\n",
      "Freq: W-SUN, Name: predicted_mean, dtype: float64\n",
      "    Date     AQI       Type\n",
      "0      0  235.20     Actual\n",
      "1      1  169.00     Actual\n",
      "2      2  169.00     Actual\n",
      "3      3  169.00     Actual\n",
      "4      4  169.00     Actual\n",
      "..   ...     ...        ...\n",
      "75    75  169.92  Predicted\n",
      "76    76  169.92  Predicted\n",
      "77    77  169.92  Predicted\n",
      "78    78  169.92  Predicted\n",
      "79    79  169.92  Predicted\n",
      "\n",
      "[80 rows x 3 columns]\n",
      "ID004\n",
      "Testing\n",
      "result\n",
      "ADF test statistic      -1.200950\n",
      "p-value                  0.673187\n",
      "# lags used             12.000000\n",
      "# observations          59.000000\n",
      "critical value (1%)     -3.546395\n",
      "critical value (5%)     -2.911939\n",
      "critical value (10%)    -2.593652\n",
      "Weak evidence against the null hypothesis\n",
      "Fail to reject the null hypothesis\n",
      "Data has a unit root and is non-stationary\n"
     ]
    },
    {
     "name": "stderr",
     "output_type": "stream",
     "text": [
      "C:\\Users\\LENOVO\\anaconda3\\Lib\\site-packages\\statsmodels\\tsa\\statespace\\representation.py:374: FutureWarning: Unknown keyword arguments: dict_keys(['typ']).Passing unknown keyword arguments will raise a TypeError beginning in version 0.15.\n",
      "  warnings.warn(msg, FutureWarning)\n"
     ]
    },
    {
     "name": "stdout",
     "output_type": "stream",
     "text": [
      "The best order is \n",
      "start : 64\n",
      "end : 71\n",
      "The best order is \n",
      "MSE Error: 4.580436791e-05\n",
      "RMSE Error: 0.006767892427\n"
     ]
    },
    {
     "name": "stderr",
     "output_type": "stream",
     "text": [
      "C:\\Users\\LENOVO\\anaconda3\\Lib\\site-packages\\statsmodels\\tsa\\base\\tsa_model.py:473: ValueWarning: No frequency information was provided, so inferred frequency W-SUN will be used.\n",
      "  self._init_dates(dates, freq)\n",
      "C:\\Users\\LENOVO\\anaconda3\\Lib\\site-packages\\statsmodels\\tsa\\base\\tsa_model.py:473: ValueWarning: No frequency information was provided, so inferred frequency W-SUN will be used.\n",
      "  self._init_dates(dates, freq)\n",
      "C:\\Users\\LENOVO\\anaconda3\\Lib\\site-packages\\statsmodels\\tsa\\base\\tsa_model.py:473: ValueWarning: No frequency information was provided, so inferred frequency W-SUN will be used.\n",
      "  self._init_dates(dates, freq)\n"
     ]
    },
    {
     "name": "stdout",
     "output_type": "stream",
     "text": [
      "The best order is \n"
     ]
    },
    {
     "name": "stderr",
     "output_type": "stream",
     "text": [
      "C:\\Users\\LENOVO\\anaconda3\\Lib\\site-packages\\statsmodels\\tsa\\base\\tsa_model.py:473: ValueWarning: No frequency information was provided, so inferred frequency W-SUN will be used.\n",
      "  self._init_dates(dates, freq)\n",
      "C:\\Users\\LENOVO\\anaconda3\\Lib\\site-packages\\statsmodels\\tsa\\base\\tsa_model.py:473: ValueWarning: No frequency information was provided, so inferred frequency W-SUN will be used.\n",
      "  self._init_dates(dates, freq)\n",
      "C:\\Users\\LENOVO\\anaconda3\\Lib\\site-packages\\statsmodels\\tsa\\base\\tsa_model.py:473: ValueWarning: No frequency information was provided, so inferred frequency W-SUN will be used.\n",
      "  self._init_dates(dates, freq)\n"
     ]
    },
    {
     "name": "stdout",
     "output_type": "stream",
     "text": [
      "The best order is \n",
      "(0, 1, 0)\n",
      "2022-10-23    33.0\n",
      "2022-10-30    33.0\n",
      "2022-11-06    33.0\n",
      "2022-11-13    33.0\n",
      "2022-11-20    33.0\n",
      "2022-11-27    33.0\n",
      "2022-12-04    33.0\n",
      "2022-12-11    33.0\n",
      "Freq: W-SUN, Name: predicted_mean, dtype: float64\n",
      "    Date    AQI       Type\n",
      "0      0  159.0     Actual\n",
      "1      1  159.0     Actual\n",
      "2      2  159.0     Actual\n",
      "3      3  228.0     Actual\n",
      "4      4  366.0     Actual\n",
      "..   ...    ...        ...\n",
      "75    75   33.0  Predicted\n",
      "76    76   33.0  Predicted\n",
      "77    77   33.0  Predicted\n",
      "78    78   33.0  Predicted\n",
      "79    79   33.0  Predicted\n",
      "\n",
      "[80 rows x 3 columns]\n",
      "ID005\n",
      "Testing\n",
      "result\n",
      "ADF test statistic      -2.634790\n",
      "p-value                  0.086018\n",
      "# lags used              1.000000\n",
      "# observations          51.000000\n",
      "critical value (1%)     -3.565624\n",
      "critical value (5%)     -2.920142\n",
      "critical value (10%)    -2.598015\n",
      "Weak evidence against the null hypothesis\n",
      "Fail to reject the null hypothesis\n",
      "Data has a unit root and is non-stationary\n"
     ]
    },
    {
     "name": "stderr",
     "output_type": "stream",
     "text": [
      "C:\\Users\\LENOVO\\anaconda3\\Lib\\site-packages\\statsmodels\\tsa\\statespace\\representation.py:374: FutureWarning: Unknown keyword arguments: dict_keys(['typ']).Passing unknown keyword arguments will raise a TypeError beginning in version 0.15.\n",
      "  warnings.warn(msg, FutureWarning)\n"
     ]
    },
    {
     "name": "stdout",
     "output_type": "stream",
     "text": [
      "The best order is \n",
      "start : 49\n",
      "end : 52\n",
      "The best order is \n"
     ]
    },
    {
     "name": "stderr",
     "output_type": "stream",
     "text": [
      "C:\\Users\\LENOVO\\anaconda3\\Lib\\site-packages\\statsmodels\\tsa\\base\\tsa_model.py:473: ValueWarning: No frequency information was provided, so inferred frequency W-SUN will be used.\n",
      "  self._init_dates(dates, freq)\n",
      "C:\\Users\\LENOVO\\anaconda3\\Lib\\site-packages\\statsmodels\\tsa\\base\\tsa_model.py:473: ValueWarning: No frequency information was provided, so inferred frequency W-SUN will be used.\n",
      "  self._init_dates(dates, freq)\n",
      "C:\\Users\\LENOVO\\anaconda3\\Lib\\site-packages\\statsmodels\\tsa\\base\\tsa_model.py:473: ValueWarning: No frequency information was provided, so inferred frequency W-SUN will be used.\n",
      "  self._init_dates(dates, freq)\n"
     ]
    },
    {
     "name": "stdout",
     "output_type": "stream",
     "text": [
      "MSE Error: 235.1673185\n",
      "RMSE Error: 15.33516607\n",
      "The best order is \n"
     ]
    },
    {
     "name": "stderr",
     "output_type": "stream",
     "text": [
      "C:\\Users\\LENOVO\\anaconda3\\Lib\\site-packages\\statsmodels\\tsa\\base\\tsa_model.py:473: ValueWarning: No frequency information was provided, so inferred frequency W-SUN will be used.\n",
      "  self._init_dates(dates, freq)\n",
      "C:\\Users\\LENOVO\\anaconda3\\Lib\\site-packages\\statsmodels\\tsa\\base\\tsa_model.py:473: ValueWarning: No frequency information was provided, so inferred frequency W-SUN will be used.\n",
      "  self._init_dates(dates, freq)\n",
      "C:\\Users\\LENOVO\\anaconda3\\Lib\\site-packages\\statsmodels\\tsa\\base\\tsa_model.py:473: ValueWarning: No frequency information was provided, so inferred frequency W-SUN will be used.\n",
      "  self._init_dates(dates, freq)\n"
     ]
    },
    {
     "name": "stdout",
     "output_type": "stream",
     "text": [
      "The best order is \n",
      "(1, 0, 3)\n",
      "2022-10-23    108.78\n",
      "2022-10-30    110.65\n",
      "2022-11-06    109.31\n",
      "2022-11-13    109.92\n",
      "Freq: W-SUN, Name: predicted_mean, dtype: float64\n",
      "    Date         AQI       Type\n",
      "0      0  204.430380     Actual\n",
      "1      1  186.338583     Actual\n",
      "2      2  119.808000     Actual\n",
      "3      3  169.241935     Actual\n",
      "4      4  171.166667     Actual\n",
      "5      5  113.215517     Actual\n",
      "6      6  120.178344     Actual\n",
      "7      7  157.279661     Actual\n",
      "8      8  130.083333     Actual\n",
      "9      9   95.254545     Actual\n",
      "10    10   95.595506     Actual\n",
      "11    11   99.767606     Actual\n",
      "12    12   94.952381     Actual\n",
      "13    13   84.000000     Actual\n",
      "14    14   44.000000     Actual\n",
      "15    15   89.322581     Actual\n",
      "16    16   78.968750     Actual\n",
      "17    17   65.000000     Actual\n",
      "18    18   93.890688     Actual\n",
      "19    19   43.000000     Actual\n",
      "20    20   43.000000     Actual\n",
      "21    21   43.000000     Actual\n",
      "22    22   43.000000     Actual\n",
      "23    23   43.000000     Actual\n",
      "24    24   43.000000     Actual\n",
      "25    25   43.000000     Actual\n",
      "26    26   43.000000     Actual\n",
      "27    27   43.000000     Actual\n",
      "28    28   43.000000     Actual\n",
      "29    29   69.576087     Actual\n",
      "30    30   84.249110     Actual\n",
      "31    31  100.000000     Actual\n",
      "32    32  100.000000     Actual\n",
      "33    33  100.000000     Actual\n",
      "34    34  100.000000     Actual\n",
      "35    35  100.000000     Actual\n",
      "36    36  100.000000     Actual\n",
      "37    37  100.000000     Actual\n",
      "38    38  100.000000     Actual\n",
      "39    39  100.000000     Actual\n",
      "40    40  100.000000     Actual\n",
      "41    41  100.000000     Actual\n",
      "42    42  100.000000     Actual\n",
      "43    43  139.010169     Actual\n",
      "44    44  132.342593     Actual\n",
      "45    45  148.000000     Actual\n",
      "46    46  148.000000     Actual\n",
      "47    47  141.566372     Actual\n",
      "48    48  135.434555     Actual\n",
      "49    49  132.463687     Actual\n",
      "50    50  119.793478     Actual\n",
      "51    51  116.659420     Actual\n",
      "52    52  114.348837     Actual\n",
      "53    53  108.780000  Predicted\n",
      "54    54  110.650000  Predicted\n",
      "55    55  109.310000  Predicted\n",
      "56    56  109.920000  Predicted\n",
      "ID006\n",
      "Testing\n",
      "result\n",
      "ADF test statistic      -1.291427\n",
      "p-value                  0.633085\n",
      "# lags used              4.000000\n",
      "# observations          67.000000\n",
      "critical value (1%)     -3.531955\n",
      "critical value (5%)     -2.905755\n",
      "critical value (10%)    -2.590357\n",
      "Weak evidence against the null hypothesis\n",
      "Fail to reject the null hypothesis\n",
      "Data has a unit root and is non-stationary\n"
     ]
    },
    {
     "name": "stderr",
     "output_type": "stream",
     "text": [
      "C:\\Users\\LENOVO\\anaconda3\\Lib\\site-packages\\statsmodels\\tsa\\statespace\\representation.py:374: FutureWarning: Unknown keyword arguments: dict_keys(['typ']).Passing unknown keyword arguments will raise a TypeError beginning in version 0.15.\n",
      "  warnings.warn(msg, FutureWarning)\n"
     ]
    },
    {
     "name": "stdout",
     "output_type": "stream",
     "text": [
      "The best order is \n",
      "start : 64\n",
      "end : 71\n",
      "The best order is \n",
      "MSE Error: 8.384994173\n",
      "RMSE Error: 2.895685441\n"
     ]
    },
    {
     "name": "stderr",
     "output_type": "stream",
     "text": [
      "C:\\Users\\LENOVO\\anaconda3\\Lib\\site-packages\\statsmodels\\tsa\\base\\tsa_model.py:473: ValueWarning: No frequency information was provided, so inferred frequency W-SUN will be used.\n",
      "  self._init_dates(dates, freq)\n",
      "C:\\Users\\LENOVO\\anaconda3\\Lib\\site-packages\\statsmodels\\tsa\\base\\tsa_model.py:473: ValueWarning: No frequency information was provided, so inferred frequency W-SUN will be used.\n",
      "  self._init_dates(dates, freq)\n",
      "C:\\Users\\LENOVO\\anaconda3\\Lib\\site-packages\\statsmodels\\tsa\\base\\tsa_model.py:473: ValueWarning: No frequency information was provided, so inferred frequency W-SUN will be used.\n",
      "  self._init_dates(dates, freq)\n"
     ]
    },
    {
     "name": "stdout",
     "output_type": "stream",
     "text": [
      "The best order is \n"
     ]
    },
    {
     "name": "stderr",
     "output_type": "stream",
     "text": [
      "C:\\Users\\LENOVO\\anaconda3\\Lib\\site-packages\\statsmodels\\tsa\\base\\tsa_model.py:473: ValueWarning: No frequency information was provided, so inferred frequency W-SUN will be used.\n",
      "  self._init_dates(dates, freq)\n",
      "C:\\Users\\LENOVO\\anaconda3\\Lib\\site-packages\\statsmodels\\tsa\\base\\tsa_model.py:473: ValueWarning: No frequency information was provided, so inferred frequency W-SUN will be used.\n",
      "  self._init_dates(dates, freq)\n",
      "C:\\Users\\LENOVO\\anaconda3\\Lib\\site-packages\\statsmodels\\tsa\\base\\tsa_model.py:473: ValueWarning: No frequency information was provided, so inferred frequency W-SUN will be used.\n",
      "  self._init_dates(dates, freq)\n"
     ]
    },
    {
     "name": "stdout",
     "output_type": "stream",
     "text": [
      "The best order is \n",
      "(0, 1, 0)\n",
      "2022-10-23    56.07\n",
      "2022-10-30    56.07\n",
      "2022-11-06    56.07\n",
      "2022-11-13    56.07\n",
      "2022-11-20    56.07\n",
      "2022-11-27    56.07\n",
      "2022-12-04    56.07\n",
      "2022-12-11    56.07\n",
      "Freq: W-SUN, Name: predicted_mean, dtype: float64\n",
      "    Date     AQI       Type\n",
      "0      0  135.00     Actual\n",
      "1      1  135.00     Actual\n",
      "2      2  135.00     Actual\n",
      "3      3  135.00     Actual\n",
      "4      4  135.00     Actual\n",
      "..   ...     ...        ...\n",
      "75    75   56.07  Predicted\n",
      "76    76   56.07  Predicted\n",
      "77    77   56.07  Predicted\n",
      "78    78   56.07  Predicted\n",
      "79    79   56.07  Predicted\n",
      "\n",
      "[80 rows x 3 columns]\n",
      "ID007\n",
      "Testing\n",
      "result\n",
      "ADF test statistic      -1.961101\n",
      "p-value                  0.303885\n",
      "# lags used              3.000000\n",
      "# observations          68.000000\n",
      "critical value (1%)     -3.530399\n",
      "critical value (5%)     -2.905087\n",
      "critical value (10%)    -2.590001\n",
      "Weak evidence against the null hypothesis\n",
      "Fail to reject the null hypothesis\n",
      "Data has a unit root and is non-stationary\n"
     ]
    },
    {
     "name": "stderr",
     "output_type": "stream",
     "text": [
      "C:\\Users\\LENOVO\\anaconda3\\Lib\\site-packages\\statsmodels\\tsa\\statespace\\representation.py:374: FutureWarning: Unknown keyword arguments: dict_keys(['typ']).Passing unknown keyword arguments will raise a TypeError beginning in version 0.15.\n",
      "  warnings.warn(msg, FutureWarning)\n"
     ]
    },
    {
     "name": "stdout",
     "output_type": "stream",
     "text": [
      "The best order is \n",
      "start : 64\n",
      "end : 71\n",
      "The best order is \n",
      "MSE Error:         0.0\n",
      "RMSE Error:         0.0\n"
     ]
    },
    {
     "name": "stderr",
     "output_type": "stream",
     "text": [
      "C:\\Users\\LENOVO\\anaconda3\\Lib\\site-packages\\statsmodels\\tsa\\base\\tsa_model.py:473: ValueWarning: No frequency information was provided, so inferred frequency W-SUN will be used.\n",
      "  self._init_dates(dates, freq)\n",
      "C:\\Users\\LENOVO\\anaconda3\\Lib\\site-packages\\statsmodels\\tsa\\base\\tsa_model.py:473: ValueWarning: No frequency information was provided, so inferred frequency W-SUN will be used.\n",
      "  self._init_dates(dates, freq)\n",
      "C:\\Users\\LENOVO\\anaconda3\\Lib\\site-packages\\statsmodels\\tsa\\base\\tsa_model.py:473: ValueWarning: No frequency information was provided, so inferred frequency W-SUN will be used.\n",
      "  self._init_dates(dates, freq)\n"
     ]
    },
    {
     "name": "stdout",
     "output_type": "stream",
     "text": [
      "The best order is \n"
     ]
    },
    {
     "name": "stderr",
     "output_type": "stream",
     "text": [
      "C:\\Users\\LENOVO\\anaconda3\\Lib\\site-packages\\statsmodels\\tsa\\base\\tsa_model.py:473: ValueWarning: No frequency information was provided, so inferred frequency W-SUN will be used.\n",
      "  self._init_dates(dates, freq)\n",
      "C:\\Users\\LENOVO\\anaconda3\\Lib\\site-packages\\statsmodels\\tsa\\base\\tsa_model.py:473: ValueWarning: No frequency information was provided, so inferred frequency W-SUN will be used.\n",
      "  self._init_dates(dates, freq)\n",
      "C:\\Users\\LENOVO\\anaconda3\\Lib\\site-packages\\statsmodels\\tsa\\base\\tsa_model.py:473: ValueWarning: No frequency information was provided, so inferred frequency W-SUN will be used.\n",
      "  self._init_dates(dates, freq)\n"
     ]
    },
    {
     "name": "stdout",
     "output_type": "stream",
     "text": [
      "The best order is \n",
      "(0, 1, 0)\n",
      "2022-10-23    31.0\n",
      "2022-10-30    31.0\n",
      "2022-11-06    31.0\n",
      "2022-11-13    31.0\n",
      "2022-11-20    31.0\n",
      "2022-11-27    31.0\n",
      "2022-12-04    31.0\n",
      "2022-12-11    31.0\n",
      "Freq: W-SUN, Name: predicted_mean, dtype: float64\n",
      "    Date         AQI       Type\n",
      "0      0  176.724138     Actual\n",
      "1      1  158.029630     Actual\n",
      "2      2  157.257576     Actual\n",
      "3      3  157.915094     Actual\n",
      "4      4  160.603774     Actual\n",
      "..   ...         ...        ...\n",
      "75    75   31.000000  Predicted\n",
      "76    76   31.000000  Predicted\n",
      "77    77   31.000000  Predicted\n",
      "78    78   31.000000  Predicted\n",
      "79    79   31.000000  Predicted\n",
      "\n",
      "[80 rows x 3 columns]\n",
      "ID008\n",
      "Testing\n",
      "result\n",
      "ADF test statistic      -0.655038\n",
      "p-value                  0.858055\n",
      "# lags used              8.000000\n",
      "# observations          63.000000\n",
      "critical value (1%)     -3.538695\n",
      "critical value (5%)     -2.908645\n",
      "critical value (10%)    -2.591897\n",
      "Weak evidence against the null hypothesis\n",
      "Fail to reject the null hypothesis\n",
      "Data has a unit root and is non-stationary\n"
     ]
    },
    {
     "name": "stderr",
     "output_type": "stream",
     "text": [
      "C:\\Users\\LENOVO\\anaconda3\\Lib\\site-packages\\statsmodels\\tsa\\statespace\\representation.py:374: FutureWarning: Unknown keyword arguments: dict_keys(['typ']).Passing unknown keyword arguments will raise a TypeError beginning in version 0.15.\n",
      "  warnings.warn(msg, FutureWarning)\n"
     ]
    },
    {
     "name": "stdout",
     "output_type": "stream",
     "text": [
      "The best order is \n",
      "start : 64\n",
      "end : 71\n",
      "The best order is \n",
      "MSE Error:         0.0\n",
      "RMSE Error:         0.0\n"
     ]
    },
    {
     "name": "stderr",
     "output_type": "stream",
     "text": [
      "C:\\Users\\LENOVO\\anaconda3\\Lib\\site-packages\\statsmodels\\tsa\\base\\tsa_model.py:473: ValueWarning: No frequency information was provided, so inferred frequency W-SUN will be used.\n",
      "  self._init_dates(dates, freq)\n",
      "C:\\Users\\LENOVO\\anaconda3\\Lib\\site-packages\\statsmodels\\tsa\\base\\tsa_model.py:473: ValueWarning: No frequency information was provided, so inferred frequency W-SUN will be used.\n",
      "  self._init_dates(dates, freq)\n",
      "C:\\Users\\LENOVO\\anaconda3\\Lib\\site-packages\\statsmodels\\tsa\\base\\tsa_model.py:473: ValueWarning: No frequency information was provided, so inferred frequency W-SUN will be used.\n",
      "  self._init_dates(dates, freq)\n"
     ]
    },
    {
     "name": "stdout",
     "output_type": "stream",
     "text": [
      "The best order is \n"
     ]
    },
    {
     "name": "stderr",
     "output_type": "stream",
     "text": [
      "C:\\Users\\LENOVO\\anaconda3\\Lib\\site-packages\\statsmodels\\tsa\\base\\tsa_model.py:473: ValueWarning: No frequency information was provided, so inferred frequency W-SUN will be used.\n",
      "  self._init_dates(dates, freq)\n",
      "C:\\Users\\LENOVO\\anaconda3\\Lib\\site-packages\\statsmodels\\tsa\\base\\tsa_model.py:473: ValueWarning: No frequency information was provided, so inferred frequency W-SUN will be used.\n",
      "  self._init_dates(dates, freq)\n",
      "C:\\Users\\LENOVO\\anaconda3\\Lib\\site-packages\\statsmodels\\tsa\\base\\tsa_model.py:473: ValueWarning: No frequency information was provided, so inferred frequency W-SUN will be used.\n",
      "  self._init_dates(dates, freq)\n"
     ]
    },
    {
     "name": "stdout",
     "output_type": "stream",
     "text": [
      "The best order is \n",
      "(0, 1, 0)\n",
      "2022-10-23    218.0\n",
      "2022-10-30    218.0\n",
      "2022-11-06    218.0\n",
      "2022-11-13    218.0\n",
      "2022-11-20    218.0\n",
      "2022-11-27    218.0\n",
      "2022-12-04    218.0\n",
      "2022-12-11    218.0\n",
      "Freq: W-SUN, Name: predicted_mean, dtype: float64\n",
      "    Date         AQI       Type\n",
      "0      0  135.000000     Actual\n",
      "1      1  135.000000     Actual\n",
      "2      2  135.000000     Actual\n",
      "3      3  188.925926     Actual\n",
      "4      4  196.706897     Actual\n",
      "..   ...         ...        ...\n",
      "75    75  218.000000  Predicted\n",
      "76    76  218.000000  Predicted\n",
      "77    77  218.000000  Predicted\n",
      "78    78  218.000000  Predicted\n",
      "79    79  218.000000  Predicted\n",
      "\n",
      "[80 rows x 3 columns]\n",
      "ID009\n",
      "Testing\n",
      "result\n",
      "ADF test statistic      -1.943009\n",
      "p-value                  0.312107\n",
      "# lags used              0.000000\n",
      "# observations          71.000000\n",
      "critical value (1%)     -3.526005\n",
      "critical value (5%)     -2.903200\n",
      "critical value (10%)    -2.588995\n",
      "Weak evidence against the null hypothesis\n",
      "Fail to reject the null hypothesis\n",
      "Data has a unit root and is non-stationary\n"
     ]
    },
    {
     "name": "stderr",
     "output_type": "stream",
     "text": [
      "C:\\Users\\LENOVO\\anaconda3\\Lib\\site-packages\\statsmodels\\tsa\\statespace\\representation.py:374: FutureWarning: Unknown keyword arguments: dict_keys(['typ']).Passing unknown keyword arguments will raise a TypeError beginning in version 0.15.\n",
      "  warnings.warn(msg, FutureWarning)\n"
     ]
    },
    {
     "name": "stdout",
     "output_type": "stream",
     "text": [
      "The best order is \n",
      "start : 64\n",
      "end : 71\n",
      "The best order is \n",
      "MSE Error: 294.4390204\n",
      "RMSE Error: 17.15922552\n"
     ]
    },
    {
     "name": "stderr",
     "output_type": "stream",
     "text": [
      "C:\\Users\\LENOVO\\anaconda3\\Lib\\site-packages\\statsmodels\\tsa\\base\\tsa_model.py:473: ValueWarning: No frequency information was provided, so inferred frequency W-SUN will be used.\n",
      "  self._init_dates(dates, freq)\n",
      "C:\\Users\\LENOVO\\anaconda3\\Lib\\site-packages\\statsmodels\\tsa\\base\\tsa_model.py:473: ValueWarning: No frequency information was provided, so inferred frequency W-SUN will be used.\n",
      "  self._init_dates(dates, freq)\n",
      "C:\\Users\\LENOVO\\anaconda3\\Lib\\site-packages\\statsmodels\\tsa\\base\\tsa_model.py:473: ValueWarning: No frequency information was provided, so inferred frequency W-SUN will be used.\n",
      "  self._init_dates(dates, freq)\n"
     ]
    },
    {
     "name": "stdout",
     "output_type": "stream",
     "text": [
      "The best order is \n"
     ]
    },
    {
     "name": "stderr",
     "output_type": "stream",
     "text": [
      "C:\\Users\\LENOVO\\anaconda3\\Lib\\site-packages\\statsmodels\\tsa\\base\\tsa_model.py:473: ValueWarning: No frequency information was provided, so inferred frequency W-SUN will be used.\n",
      "  self._init_dates(dates, freq)\n",
      "C:\\Users\\LENOVO\\anaconda3\\Lib\\site-packages\\statsmodels\\tsa\\base\\tsa_model.py:473: ValueWarning: No frequency information was provided, so inferred frequency W-SUN will be used.\n",
      "  self._init_dates(dates, freq)\n",
      "C:\\Users\\LENOVO\\anaconda3\\Lib\\site-packages\\statsmodels\\tsa\\base\\tsa_model.py:473: ValueWarning: No frequency information was provided, so inferred frequency W-SUN will be used.\n",
      "  self._init_dates(dates, freq)\n"
     ]
    },
    {
     "name": "stdout",
     "output_type": "stream",
     "text": [
      "The best order is \n",
      "(0, 1, 1)\n",
      "2022-10-23    132.0\n",
      "2022-10-30    132.0\n",
      "2022-11-06    132.0\n",
      "2022-11-13    132.0\n",
      "2022-11-20    132.0\n",
      "2022-11-27    132.0\n",
      "2022-12-04    132.0\n",
      "2022-12-11    132.0\n",
      "Freq: W-SUN, Name: predicted_mean, dtype: float64\n",
      "    Date         AQI       Type\n",
      "0      0  195.675676     Actual\n",
      "1      1  197.861314     Actual\n",
      "2      2  198.444444     Actual\n",
      "3      3  200.666667     Actual\n",
      "4      4  219.888889     Actual\n",
      "..   ...         ...        ...\n",
      "75    75  132.000000  Predicted\n",
      "76    76  132.000000  Predicted\n",
      "77    77  132.000000  Predicted\n",
      "78    78  132.000000  Predicted\n",
      "79    79  132.000000  Predicted\n",
      "\n",
      "[80 rows x 3 columns]\n",
      "ID010\n",
      "Testing\n",
      "result\n",
      "ADF test statistic      -4.273971\n",
      "p-value                  0.000493\n",
      "# lags used              6.000000\n",
      "# observations          65.000000\n",
      "critical value (1%)     -3.535217\n",
      "critical value (5%)     -2.907154\n",
      "critical value (10%)    -2.591103\n",
      "Strong evidence against the null hypothesis\n",
      "Reject the null hypothesis\n",
      "Data has no unit root and is stationary\n"
     ]
    },
    {
     "name": "stderr",
     "output_type": "stream",
     "text": [
      "C:\\Users\\LENOVO\\anaconda3\\Lib\\site-packages\\statsmodels\\tsa\\statespace\\representation.py:374: FutureWarning: Unknown keyword arguments: dict_keys(['typ']).Passing unknown keyword arguments will raise a TypeError beginning in version 0.15.\n",
      "  warnings.warn(msg, FutureWarning)\n"
     ]
    },
    {
     "name": "stdout",
     "output_type": "stream",
     "text": [
      "The best order is \n",
      "start : 64\n",
      "end : 71\n",
      "The best order is \n",
      "MSE Error:  31.9910251\n",
      "RMSE Error: 5.656060917\n"
     ]
    },
    {
     "name": "stderr",
     "output_type": "stream",
     "text": [
      "C:\\Users\\LENOVO\\anaconda3\\Lib\\site-packages\\statsmodels\\tsa\\base\\tsa_model.py:473: ValueWarning: No frequency information was provided, so inferred frequency W-SUN will be used.\n",
      "  self._init_dates(dates, freq)\n",
      "C:\\Users\\LENOVO\\anaconda3\\Lib\\site-packages\\statsmodels\\tsa\\base\\tsa_model.py:473: ValueWarning: No frequency information was provided, so inferred frequency W-SUN will be used.\n",
      "  self._init_dates(dates, freq)\n",
      "C:\\Users\\LENOVO\\anaconda3\\Lib\\site-packages\\statsmodels\\tsa\\base\\tsa_model.py:473: ValueWarning: No frequency information was provided, so inferred frequency W-SUN will be used.\n",
      "  self._init_dates(dates, freq)\n"
     ]
    },
    {
     "name": "stdout",
     "output_type": "stream",
     "text": [
      "The best order is \n"
     ]
    },
    {
     "name": "stderr",
     "output_type": "stream",
     "text": [
      "C:\\Users\\LENOVO\\anaconda3\\Lib\\site-packages\\statsmodels\\tsa\\base\\tsa_model.py:473: ValueWarning: No frequency information was provided, so inferred frequency W-SUN will be used.\n",
      "  self._init_dates(dates, freq)\n",
      "C:\\Users\\LENOVO\\anaconda3\\Lib\\site-packages\\statsmodels\\tsa\\base\\tsa_model.py:473: ValueWarning: No frequency information was provided, so inferred frequency W-SUN will be used.\n",
      "  self._init_dates(dates, freq)\n",
      "C:\\Users\\LENOVO\\anaconda3\\Lib\\site-packages\\statsmodels\\tsa\\base\\tsa_model.py:473: ValueWarning: No frequency information was provided, so inferred frequency W-SUN will be used.\n",
      "  self._init_dates(dates, freq)\n"
     ]
    },
    {
     "name": "stdout",
     "output_type": "stream",
     "text": [
      "The best order is \n",
      "(2, 0, 0)\n",
      "2022-10-23    113.91\n",
      "2022-10-30    115.09\n",
      "2022-11-06    116.29\n",
      "2022-11-13    117.39\n",
      "2022-11-20    118.37\n",
      "2022-11-27    119.21\n",
      "2022-12-04    119.94\n",
      "2022-12-11    120.56\n",
      "Freq: W-SUN, Name: predicted_mean, dtype: float64\n",
      "    Date     AQI       Type\n",
      "0      0  205.50     Actual\n",
      "1      1  229.00     Actual\n",
      "2      2  229.00     Actual\n",
      "3      3  229.00     Actual\n",
      "4      4  229.00     Actual\n",
      "..   ...     ...        ...\n",
      "75    75  117.39  Predicted\n",
      "76    76  118.37  Predicted\n",
      "77    77  119.21  Predicted\n",
      "78    78  119.94  Predicted\n",
      "79    79  120.56  Predicted\n",
      "\n",
      "[80 rows x 3 columns]\n",
      "ID011\n",
      "Testing\n",
      "result\n",
      "ADF test statistic      -3.131976\n",
      "p-value                  0.024276\n",
      "# lags used              0.000000\n",
      "# observations          71.000000\n",
      "critical value (1%)     -3.526005\n",
      "critical value (5%)     -2.903200\n",
      "critical value (10%)    -2.588995\n",
      "Strong evidence against the null hypothesis\n",
      "Reject the null hypothesis\n",
      "Data has no unit root and is stationary\n"
     ]
    },
    {
     "name": "stderr",
     "output_type": "stream",
     "text": [
      "C:\\Users\\LENOVO\\anaconda3\\Lib\\site-packages\\statsmodels\\tsa\\statespace\\representation.py:374: FutureWarning: Unknown keyword arguments: dict_keys(['typ']).Passing unknown keyword arguments will raise a TypeError beginning in version 0.15.\n",
      "  warnings.warn(msg, FutureWarning)\n"
     ]
    },
    {
     "name": "stdout",
     "output_type": "stream",
     "text": [
      "The best order is \n",
      "start : 64\n",
      "end : 71\n",
      "The best order is \n",
      "MSE Error: 248.2939525\n",
      "RMSE Error: 15.75734599\n"
     ]
    },
    {
     "name": "stderr",
     "output_type": "stream",
     "text": [
      "C:\\Users\\LENOVO\\anaconda3\\Lib\\site-packages\\statsmodels\\tsa\\base\\tsa_model.py:473: ValueWarning: No frequency information was provided, so inferred frequency W-SUN will be used.\n",
      "  self._init_dates(dates, freq)\n",
      "C:\\Users\\LENOVO\\anaconda3\\Lib\\site-packages\\statsmodels\\tsa\\base\\tsa_model.py:473: ValueWarning: No frequency information was provided, so inferred frequency W-SUN will be used.\n",
      "  self._init_dates(dates, freq)\n",
      "C:\\Users\\LENOVO\\anaconda3\\Lib\\site-packages\\statsmodels\\tsa\\base\\tsa_model.py:473: ValueWarning: No frequency information was provided, so inferred frequency W-SUN will be used.\n",
      "  self._init_dates(dates, freq)\n"
     ]
    },
    {
     "name": "stdout",
     "output_type": "stream",
     "text": [
      "The best order is \n"
     ]
    },
    {
     "name": "stderr",
     "output_type": "stream",
     "text": [
      "C:\\Users\\LENOVO\\anaconda3\\Lib\\site-packages\\statsmodels\\tsa\\base\\tsa_model.py:473: ValueWarning: No frequency information was provided, so inferred frequency W-SUN will be used.\n",
      "  self._init_dates(dates, freq)\n",
      "C:\\Users\\LENOVO\\anaconda3\\Lib\\site-packages\\statsmodels\\tsa\\base\\tsa_model.py:473: ValueWarning: No frequency information was provided, so inferred frequency W-SUN will be used.\n",
      "  self._init_dates(dates, freq)\n",
      "C:\\Users\\LENOVO\\anaconda3\\Lib\\site-packages\\statsmodels\\tsa\\base\\tsa_model.py:473: ValueWarning: No frequency information was provided, so inferred frequency W-SUN will be used.\n",
      "  self._init_dates(dates, freq)\n"
     ]
    },
    {
     "name": "stdout",
     "output_type": "stream",
     "text": [
      "The best order is \n",
      "(1, 0, 0)\n",
      "2022-10-23    80.78\n",
      "2022-10-30    84.49\n",
      "2022-11-06    87.37\n",
      "2022-11-13    89.60\n",
      "2022-11-20    91.33\n",
      "2022-11-27    92.68\n",
      "2022-12-04    93.72\n",
      "2022-12-11    94.53\n",
      "Freq: W-SUN, Name: predicted_mean, dtype: float64\n",
      "    Date         AQI       Type\n",
      "0      0  175.600000     Actual\n",
      "1      1  128.000000     Actual\n",
      "2      2  128.000000     Actual\n",
      "3      3  224.250000     Actual\n",
      "4      4  239.538462     Actual\n",
      "..   ...         ...        ...\n",
      "75    75   89.600000  Predicted\n",
      "76    76   91.330000  Predicted\n",
      "77    77   92.680000  Predicted\n",
      "78    78   93.720000  Predicted\n",
      "79    79   94.530000  Predicted\n",
      "\n",
      "[80 rows x 3 columns]\n",
      "ID012\n",
      "Testing\n",
      "result\n",
      "ADF test statistic     -7.739548e+00\n",
      "p-value                 1.071004e-11\n",
      "# lags used             1.200000e+01\n",
      "# observations          5.900000e+01\n",
      "critical value (1%)    -3.546395e+00\n",
      "critical value (5%)    -2.911939e+00\n",
      "critical value (10%)   -2.593652e+00\n",
      "Strong evidence against the null hypothesis\n",
      "Reject the null hypothesis\n",
      "Data has no unit root and is stationary\n"
     ]
    },
    {
     "name": "stderr",
     "output_type": "stream",
     "text": [
      "C:\\Users\\LENOVO\\anaconda3\\Lib\\site-packages\\statsmodels\\tsa\\statespace\\representation.py:374: FutureWarning: Unknown keyword arguments: dict_keys(['typ']).Passing unknown keyword arguments will raise a TypeError beginning in version 0.15.\n",
      "  warnings.warn(msg, FutureWarning)\n"
     ]
    },
    {
     "name": "stdout",
     "output_type": "stream",
     "text": [
      "The best order is \n",
      "start : 64\n",
      "end : 71\n",
      "The best order is \n",
      "MSE Error:         0.0\n",
      "RMSE Error:         0.0\n"
     ]
    },
    {
     "name": "stderr",
     "output_type": "stream",
     "text": [
      "C:\\Users\\LENOVO\\anaconda3\\Lib\\site-packages\\statsmodels\\tsa\\base\\tsa_model.py:473: ValueWarning: No frequency information was provided, so inferred frequency W-SUN will be used.\n",
      "  self._init_dates(dates, freq)\n",
      "C:\\Users\\LENOVO\\anaconda3\\Lib\\site-packages\\statsmodels\\tsa\\base\\tsa_model.py:473: ValueWarning: No frequency information was provided, so inferred frequency W-SUN will be used.\n",
      "  self._init_dates(dates, freq)\n",
      "C:\\Users\\LENOVO\\anaconda3\\Lib\\site-packages\\statsmodels\\tsa\\base\\tsa_model.py:473: ValueWarning: No frequency information was provided, so inferred frequency W-SUN will be used.\n",
      "  self._init_dates(dates, freq)\n"
     ]
    },
    {
     "name": "stdout",
     "output_type": "stream",
     "text": [
      "The best order is \n"
     ]
    },
    {
     "name": "stderr",
     "output_type": "stream",
     "text": [
      "C:\\Users\\LENOVO\\anaconda3\\Lib\\site-packages\\statsmodels\\tsa\\base\\tsa_model.py:473: ValueWarning: No frequency information was provided, so inferred frequency W-SUN will be used.\n",
      "  self._init_dates(dates, freq)\n",
      "C:\\Users\\LENOVO\\anaconda3\\Lib\\site-packages\\statsmodels\\tsa\\base\\tsa_model.py:473: ValueWarning: No frequency information was provided, so inferred frequency W-SUN will be used.\n",
      "  self._init_dates(dates, freq)\n",
      "C:\\Users\\LENOVO\\anaconda3\\Lib\\site-packages\\statsmodels\\tsa\\base\\tsa_model.py:473: ValueWarning: No frequency information was provided, so inferred frequency W-SUN will be used.\n",
      "  self._init_dates(dates, freq)\n"
     ]
    },
    {
     "name": "stdout",
     "output_type": "stream",
     "text": [
      "The best order is \n",
      "(0, 1, 0)\n",
      "2022-10-23    56.0\n",
      "2022-10-30    56.0\n",
      "2022-11-06    56.0\n",
      "2022-11-13    56.0\n",
      "2022-11-20    56.0\n",
      "2022-11-27    56.0\n",
      "2022-12-04    56.0\n",
      "2022-12-11    56.0\n",
      "Freq: W-SUN, Name: predicted_mean, dtype: float64\n",
      "    Date         AQI       Type\n",
      "0      0  141.750000     Actual\n",
      "1      1  145.000000     Actual\n",
      "2      2  145.000000     Actual\n",
      "3      3  145.000000     Actual\n",
      "4      4  217.589744     Actual\n",
      "..   ...         ...        ...\n",
      "75    75   56.000000  Predicted\n",
      "76    76   56.000000  Predicted\n",
      "77    77   56.000000  Predicted\n",
      "78    78   56.000000  Predicted\n",
      "79    79   56.000000  Predicted\n",
      "\n",
      "[80 rows x 3 columns]\n",
      "ID013\n",
      "Testing\n",
      "result\n",
      "ADF test statistic      -1.858488\n",
      "p-value                  0.351835\n",
      "# lags used              1.000000\n",
      "# observations          70.000000\n",
      "critical value (1%)     -3.527426\n",
      "critical value (5%)     -2.903811\n",
      "critical value (10%)    -2.589320\n",
      "Weak evidence against the null hypothesis\n",
      "Fail to reject the null hypothesis\n",
      "Data has a unit root and is non-stationary\n"
     ]
    },
    {
     "name": "stderr",
     "output_type": "stream",
     "text": [
      "C:\\Users\\LENOVO\\anaconda3\\Lib\\site-packages\\statsmodels\\tsa\\statespace\\representation.py:374: FutureWarning: Unknown keyword arguments: dict_keys(['typ']).Passing unknown keyword arguments will raise a TypeError beginning in version 0.15.\n",
      "  warnings.warn(msg, FutureWarning)\n"
     ]
    },
    {
     "name": "stdout",
     "output_type": "stream",
     "text": [
      "The best order is \n",
      "start : 64\n",
      "end : 71\n",
      "The best order is \n",
      "MSE Error:         0.0\n",
      "RMSE Error:         0.0\n"
     ]
    },
    {
     "name": "stderr",
     "output_type": "stream",
     "text": [
      "C:\\Users\\LENOVO\\anaconda3\\Lib\\site-packages\\statsmodels\\tsa\\base\\tsa_model.py:473: ValueWarning: No frequency information was provided, so inferred frequency W-SUN will be used.\n",
      "  self._init_dates(dates, freq)\n",
      "C:\\Users\\LENOVO\\anaconda3\\Lib\\site-packages\\statsmodels\\tsa\\base\\tsa_model.py:473: ValueWarning: No frequency information was provided, so inferred frequency W-SUN will be used.\n",
      "  self._init_dates(dates, freq)\n",
      "C:\\Users\\LENOVO\\anaconda3\\Lib\\site-packages\\statsmodels\\tsa\\base\\tsa_model.py:473: ValueWarning: No frequency information was provided, so inferred frequency W-SUN will be used.\n",
      "  self._init_dates(dates, freq)\n"
     ]
    },
    {
     "name": "stdout",
     "output_type": "stream",
     "text": [
      "The best order is \n"
     ]
    },
    {
     "name": "stderr",
     "output_type": "stream",
     "text": [
      "C:\\Users\\LENOVO\\anaconda3\\Lib\\site-packages\\statsmodels\\tsa\\base\\tsa_model.py:473: ValueWarning: No frequency information was provided, so inferred frequency W-SUN will be used.\n",
      "  self._init_dates(dates, freq)\n",
      "C:\\Users\\LENOVO\\anaconda3\\Lib\\site-packages\\statsmodels\\tsa\\base\\tsa_model.py:473: ValueWarning: No frequency information was provided, so inferred frequency W-SUN will be used.\n",
      "  self._init_dates(dates, freq)\n",
      "C:\\Users\\LENOVO\\anaconda3\\Lib\\site-packages\\statsmodels\\tsa\\base\\tsa_model.py:473: ValueWarning: No frequency information was provided, so inferred frequency W-SUN will be used.\n",
      "  self._init_dates(dates, freq)\n"
     ]
    },
    {
     "name": "stdout",
     "output_type": "stream",
     "text": [
      "The best order is \n",
      "(0, 1, 0)\n",
      "2022-10-23    304.0\n",
      "2022-10-30    304.0\n",
      "2022-11-06    304.0\n",
      "2022-11-13    304.0\n",
      "2022-11-20    304.0\n",
      "2022-11-27    304.0\n",
      "2022-12-04    304.0\n",
      "2022-12-11    304.0\n",
      "Freq: W-SUN, Name: predicted_mean, dtype: float64\n",
      "    Date         AQI       Type\n",
      "0      0   98.353846     Actual\n",
      "1      1   13.579439     Actual\n",
      "2      2   16.297521     Actual\n",
      "3      3   19.234694     Actual\n",
      "4      4   14.707865     Actual\n",
      "..   ...         ...        ...\n",
      "75    75  304.000000  Predicted\n",
      "76    76  304.000000  Predicted\n",
      "77    77  304.000000  Predicted\n",
      "78    78  304.000000  Predicted\n",
      "79    79  304.000000  Predicted\n",
      "\n",
      "[80 rows x 3 columns]\n",
      "ID014\n",
      "Testing\n",
      "result\n",
      "ADF test statistic      -4.300984\n",
      "p-value                  0.000442\n",
      "# lags used             11.000000\n",
      "# observations          60.000000\n",
      "critical value (1%)     -3.544369\n",
      "critical value (5%)     -2.911073\n",
      "critical value (10%)    -2.593190\n",
      "Strong evidence against the null hypothesis\n",
      "Reject the null hypothesis\n",
      "Data has no unit root and is stationary\n"
     ]
    },
    {
     "name": "stderr",
     "output_type": "stream",
     "text": [
      "C:\\Users\\LENOVO\\anaconda3\\Lib\\site-packages\\statsmodels\\tsa\\statespace\\representation.py:374: FutureWarning: Unknown keyword arguments: dict_keys(['typ']).Passing unknown keyword arguments will raise a TypeError beginning in version 0.15.\n",
      "  warnings.warn(msg, FutureWarning)\n"
     ]
    },
    {
     "name": "stdout",
     "output_type": "stream",
     "text": [
      "The best order is \n",
      "start : 64\n",
      "end : 71\n",
      "The best order is \n",
      "MSE Error: 2.428568804e-13\n",
      "RMSE Error: 4.92805114e-07\n"
     ]
    },
    {
     "name": "stderr",
     "output_type": "stream",
     "text": [
      "C:\\Users\\LENOVO\\anaconda3\\Lib\\site-packages\\statsmodels\\tsa\\base\\tsa_model.py:473: ValueWarning: No frequency information was provided, so inferred frequency W-SUN will be used.\n",
      "  self._init_dates(dates, freq)\n",
      "C:\\Users\\LENOVO\\anaconda3\\Lib\\site-packages\\statsmodels\\tsa\\base\\tsa_model.py:473: ValueWarning: No frequency information was provided, so inferred frequency W-SUN will be used.\n",
      "  self._init_dates(dates, freq)\n",
      "C:\\Users\\LENOVO\\anaconda3\\Lib\\site-packages\\statsmodels\\tsa\\base\\tsa_model.py:473: ValueWarning: No frequency information was provided, so inferred frequency W-SUN will be used.\n",
      "  self._init_dates(dates, freq)\n"
     ]
    },
    {
     "name": "stdout",
     "output_type": "stream",
     "text": [
      "The best order is \n"
     ]
    },
    {
     "name": "stderr",
     "output_type": "stream",
     "text": [
      "C:\\Users\\LENOVO\\anaconda3\\Lib\\site-packages\\statsmodels\\tsa\\base\\tsa_model.py:473: ValueWarning: No frequency information was provided, so inferred frequency W-SUN will be used.\n",
      "  self._init_dates(dates, freq)\n",
      "C:\\Users\\LENOVO\\anaconda3\\Lib\\site-packages\\statsmodels\\tsa\\base\\tsa_model.py:473: ValueWarning: No frequency information was provided, so inferred frequency W-SUN will be used.\n",
      "  self._init_dates(dates, freq)\n",
      "C:\\Users\\LENOVO\\anaconda3\\Lib\\site-packages\\statsmodels\\tsa\\base\\tsa_model.py:473: ValueWarning: No frequency information was provided, so inferred frequency W-SUN will be used.\n",
      "  self._init_dates(dates, freq)\n"
     ]
    },
    {
     "name": "stdout",
     "output_type": "stream",
     "text": [
      "The best order is \n",
      "(0, 1, 1)\n",
      "2022-10-23    87.0\n",
      "2022-10-30    87.0\n",
      "2022-11-06    87.0\n",
      "2022-11-13    87.0\n",
      "2022-11-20    87.0\n",
      "2022-11-27    87.0\n",
      "2022-12-04    87.0\n",
      "2022-12-11    87.0\n",
      "Freq: W-SUN, Name: predicted_mean, dtype: float64\n",
      "    Date         AQI       Type\n",
      "0      0  192.532258     Actual\n",
      "1      1  169.877551     Actual\n",
      "2      2  170.976744     Actual\n",
      "3      3  172.144144     Actual\n",
      "4      4  177.379032     Actual\n",
      "..   ...         ...        ...\n",
      "75    75   87.000000  Predicted\n",
      "76    76   87.000000  Predicted\n",
      "77    77   87.000000  Predicted\n",
      "78    78   87.000000  Predicted\n",
      "79    79   87.000000  Predicted\n",
      "\n",
      "[80 rows x 3 columns]\n",
      "ID015\n",
      "Testing\n",
      "result\n",
      "ADF test statistic      -1.887594\n",
      "p-value                  0.337920\n",
      "# lags used              2.000000\n",
      "# observations          69.000000\n",
      "critical value (1%)     -3.528890\n",
      "critical value (5%)     -2.904440\n",
      "critical value (10%)    -2.589656\n",
      "Weak evidence against the null hypothesis\n",
      "Fail to reject the null hypothesis\n",
      "Data has a unit root and is non-stationary\n"
     ]
    },
    {
     "name": "stderr",
     "output_type": "stream",
     "text": [
      "C:\\Users\\LENOVO\\anaconda3\\Lib\\site-packages\\statsmodels\\tsa\\statespace\\representation.py:374: FutureWarning: Unknown keyword arguments: dict_keys(['typ']).Passing unknown keyword arguments will raise a TypeError beginning in version 0.15.\n",
      "  warnings.warn(msg, FutureWarning)\n"
     ]
    },
    {
     "name": "stdout",
     "output_type": "stream",
     "text": [
      "The best order is \n",
      "start : 64\n",
      "end : 71\n",
      "The best order is \n",
      "MSE Error: 6.572501805\n",
      "RMSE Error: 2.563689101\n"
     ]
    },
    {
     "name": "stderr",
     "output_type": "stream",
     "text": [
      "C:\\Users\\LENOVO\\anaconda3\\Lib\\site-packages\\statsmodels\\tsa\\base\\tsa_model.py:473: ValueWarning: No frequency information was provided, so inferred frequency W-SUN will be used.\n",
      "  self._init_dates(dates, freq)\n",
      "C:\\Users\\LENOVO\\anaconda3\\Lib\\site-packages\\statsmodels\\tsa\\base\\tsa_model.py:473: ValueWarning: No frequency information was provided, so inferred frequency W-SUN will be used.\n",
      "  self._init_dates(dates, freq)\n",
      "C:\\Users\\LENOVO\\anaconda3\\Lib\\site-packages\\statsmodels\\tsa\\base\\tsa_model.py:473: ValueWarning: No frequency information was provided, so inferred frequency W-SUN will be used.\n",
      "  self._init_dates(dates, freq)\n"
     ]
    },
    {
     "name": "stdout",
     "output_type": "stream",
     "text": [
      "The best order is \n"
     ]
    },
    {
     "name": "stderr",
     "output_type": "stream",
     "text": [
      "C:\\Users\\LENOVO\\anaconda3\\Lib\\site-packages\\statsmodels\\tsa\\base\\tsa_model.py:473: ValueWarning: No frequency information was provided, so inferred frequency W-SUN will be used.\n",
      "  self._init_dates(dates, freq)\n",
      "C:\\Users\\LENOVO\\anaconda3\\Lib\\site-packages\\statsmodels\\tsa\\base\\tsa_model.py:473: ValueWarning: No frequency information was provided, so inferred frequency W-SUN will be used.\n",
      "  self._init_dates(dates, freq)\n",
      "C:\\Users\\LENOVO\\anaconda3\\Lib\\site-packages\\statsmodels\\tsa\\base\\tsa_model.py:473: ValueWarning: No frequency information was provided, so inferred frequency W-SUN will be used.\n",
      "  self._init_dates(dates, freq)\n"
     ]
    },
    {
     "name": "stdout",
     "output_type": "stream",
     "text": [
      "The best order is \n",
      "(0, 1, 2)\n",
      "2022-10-23    57.38\n",
      "2022-10-30    55.62\n",
      "2022-11-06    55.62\n",
      "2022-11-13    55.62\n",
      "2022-11-20    55.62\n",
      "2022-11-27    55.62\n",
      "2022-12-04    55.62\n",
      "2022-12-11    55.62\n",
      "Freq: W-SUN, Name: predicted_mean, dtype: float64\n",
      "    Date         AQI       Type\n",
      "0      0  216.325000     Actual\n",
      "1      1  213.092857     Actual\n",
      "2      2  212.419847     Actual\n",
      "3      3  216.310345     Actual\n",
      "4      4  218.520833     Actual\n",
      "..   ...         ...        ...\n",
      "75    75   55.620000  Predicted\n",
      "76    76   55.620000  Predicted\n",
      "77    77   55.620000  Predicted\n",
      "78    78   55.620000  Predicted\n",
      "79    79   55.620000  Predicted\n",
      "\n",
      "[80 rows x 3 columns]\n",
      "ID016\n",
      "Testing\n",
      "result\n",
      "ADF test statistic      -1.767513\n",
      "p-value                  0.396706\n",
      "# lags used              0.000000\n",
      "# observations          71.000000\n",
      "critical value (1%)     -3.526005\n",
      "critical value (5%)     -2.903200\n",
      "critical value (10%)    -2.588995\n",
      "Weak evidence against the null hypothesis\n",
      "Fail to reject the null hypothesis\n",
      "Data has a unit root and is non-stationary\n"
     ]
    },
    {
     "name": "stderr",
     "output_type": "stream",
     "text": [
      "C:\\Users\\LENOVO\\anaconda3\\Lib\\site-packages\\statsmodels\\tsa\\statespace\\representation.py:374: FutureWarning: Unknown keyword arguments: dict_keys(['typ']).Passing unknown keyword arguments will raise a TypeError beginning in version 0.15.\n",
      "  warnings.warn(msg, FutureWarning)\n"
     ]
    },
    {
     "name": "stdout",
     "output_type": "stream",
     "text": [
      "The best order is \n",
      "start : 64\n",
      "end : 71\n",
      "The best order is \n",
      "MSE Error: 0.5162541712\n",
      "RMSE Error: 0.7185082959\n"
     ]
    },
    {
     "name": "stderr",
     "output_type": "stream",
     "text": [
      "C:\\Users\\LENOVO\\anaconda3\\Lib\\site-packages\\statsmodels\\tsa\\base\\tsa_model.py:473: ValueWarning: No frequency information was provided, so inferred frequency W-SUN will be used.\n",
      "  self._init_dates(dates, freq)\n",
      "C:\\Users\\LENOVO\\anaconda3\\Lib\\site-packages\\statsmodels\\tsa\\base\\tsa_model.py:473: ValueWarning: No frequency information was provided, so inferred frequency W-SUN will be used.\n",
      "  self._init_dates(dates, freq)\n",
      "C:\\Users\\LENOVO\\anaconda3\\Lib\\site-packages\\statsmodels\\tsa\\base\\tsa_model.py:473: ValueWarning: No frequency information was provided, so inferred frequency W-SUN will be used.\n",
      "  self._init_dates(dates, freq)\n"
     ]
    },
    {
     "name": "stdout",
     "output_type": "stream",
     "text": [
      "The best order is \n"
     ]
    },
    {
     "name": "stderr",
     "output_type": "stream",
     "text": [
      "C:\\Users\\LENOVO\\anaconda3\\Lib\\site-packages\\statsmodels\\tsa\\base\\tsa_model.py:473: ValueWarning: No frequency information was provided, so inferred frequency W-SUN will be used.\n",
      "  self._init_dates(dates, freq)\n",
      "C:\\Users\\LENOVO\\anaconda3\\Lib\\site-packages\\statsmodels\\tsa\\base\\tsa_model.py:473: ValueWarning: No frequency information was provided, so inferred frequency W-SUN will be used.\n",
      "  self._init_dates(dates, freq)\n",
      "C:\\Users\\LENOVO\\anaconda3\\Lib\\site-packages\\statsmodels\\tsa\\base\\tsa_model.py:473: ValueWarning: No frequency information was provided, so inferred frequency W-SUN will be used.\n",
      "  self._init_dates(dates, freq)\n"
     ]
    },
    {
     "name": "stdout",
     "output_type": "stream",
     "text": [
      "The best order is \n",
      "(0, 1, 0)\n",
      "2022-10-23    51.0\n",
      "2022-10-30    51.0\n",
      "2022-11-06    51.0\n",
      "2022-11-13    51.0\n",
      "2022-11-20    51.0\n",
      "2022-11-27    51.0\n",
      "2022-12-04    51.0\n",
      "2022-12-11    51.0\n",
      "Freq: W-SUN, Name: predicted_mean, dtype: float64\n",
      "    Date         AQI       Type\n",
      "0      0  256.538462     Actual\n",
      "1      1  500.000000     Actual\n",
      "2      2  500.000000     Actual\n",
      "3      3  500.000000     Actual\n",
      "4      4  500.000000     Actual\n",
      "..   ...         ...        ...\n",
      "75    75   51.000000  Predicted\n",
      "76    76   51.000000  Predicted\n",
      "77    77   51.000000  Predicted\n",
      "78    78   51.000000  Predicted\n",
      "79    79   51.000000  Predicted\n",
      "\n",
      "[80 rows x 3 columns]\n",
      "ID017\n",
      "Testing\n",
      "result\n",
      "ADF test statistic      -1.496549\n",
      "p-value                  0.535218\n",
      "# lags used              0.000000\n",
      "# observations          71.000000\n",
      "critical value (1%)     -3.526005\n",
      "critical value (5%)     -2.903200\n",
      "critical value (10%)    -2.588995\n",
      "Weak evidence against the null hypothesis\n",
      "Fail to reject the null hypothesis\n",
      "Data has a unit root and is non-stationary\n"
     ]
    },
    {
     "name": "stderr",
     "output_type": "stream",
     "text": [
      "C:\\Users\\LENOVO\\anaconda3\\Lib\\site-packages\\statsmodels\\tsa\\statespace\\representation.py:374: FutureWarning: Unknown keyword arguments: dict_keys(['typ']).Passing unknown keyword arguments will raise a TypeError beginning in version 0.15.\n",
      "  warnings.warn(msg, FutureWarning)\n"
     ]
    },
    {
     "name": "stdout",
     "output_type": "stream",
     "text": [
      "The best order is \n",
      "start : 64\n",
      "end : 71\n",
      "The best order is \n",
      "MSE Error:  4.42332605\n",
      "RMSE Error: 2.103170476\n"
     ]
    },
    {
     "name": "stderr",
     "output_type": "stream",
     "text": [
      "C:\\Users\\LENOVO\\anaconda3\\Lib\\site-packages\\statsmodels\\tsa\\base\\tsa_model.py:473: ValueWarning: No frequency information was provided, so inferred frequency W-SUN will be used.\n",
      "  self._init_dates(dates, freq)\n",
      "C:\\Users\\LENOVO\\anaconda3\\Lib\\site-packages\\statsmodels\\tsa\\base\\tsa_model.py:473: ValueWarning: No frequency information was provided, so inferred frequency W-SUN will be used.\n",
      "  self._init_dates(dates, freq)\n",
      "C:\\Users\\LENOVO\\anaconda3\\Lib\\site-packages\\statsmodels\\tsa\\base\\tsa_model.py:473: ValueWarning: No frequency information was provided, so inferred frequency W-SUN will be used.\n",
      "  self._init_dates(dates, freq)\n"
     ]
    },
    {
     "name": "stdout",
     "output_type": "stream",
     "text": [
      "The best order is \n"
     ]
    },
    {
     "name": "stderr",
     "output_type": "stream",
     "text": [
      "C:\\Users\\LENOVO\\anaconda3\\Lib\\site-packages\\statsmodels\\tsa\\base\\tsa_model.py:473: ValueWarning: No frequency information was provided, so inferred frequency W-SUN will be used.\n",
      "  self._init_dates(dates, freq)\n",
      "C:\\Users\\LENOVO\\anaconda3\\Lib\\site-packages\\statsmodels\\tsa\\base\\tsa_model.py:473: ValueWarning: No frequency information was provided, so inferred frequency W-SUN will be used.\n",
      "  self._init_dates(dates, freq)\n",
      "C:\\Users\\LENOVO\\anaconda3\\Lib\\site-packages\\statsmodels\\tsa\\base\\tsa_model.py:473: ValueWarning: No frequency information was provided, so inferred frequency W-SUN will be used.\n",
      "  self._init_dates(dates, freq)\n"
     ]
    },
    {
     "name": "stdout",
     "output_type": "stream",
     "text": [
      "The best order is \n",
      "(0, 1, 0)\n",
      "2022-10-23    17.0\n",
      "2022-10-30    17.0\n",
      "2022-11-06    17.0\n",
      "2022-11-13    17.0\n",
      "2022-11-20    17.0\n",
      "2022-11-27    17.0\n",
      "2022-12-04    17.0\n",
      "2022-12-11    17.0\n",
      "Freq: W-SUN, Name: predicted_mean, dtype: float64\n",
      "    Date    AQI       Type\n",
      "0      0  366.0     Actual\n",
      "1      1  366.0     Actual\n",
      "2      2  366.0     Actual\n",
      "3      3  366.0     Actual\n",
      "4      4  366.0     Actual\n",
      "..   ...    ...        ...\n",
      "75    75   17.0  Predicted\n",
      "76    76   17.0  Predicted\n",
      "77    77   17.0  Predicted\n",
      "78    78   17.0  Predicted\n",
      "79    79   17.0  Predicted\n",
      "\n",
      "[80 rows x 3 columns]\n",
      "ID018\n",
      "Testing\n",
      "result\n",
      "ADF test statistic      -1.832963\n",
      "p-value                  0.364224\n",
      "# lags used              1.000000\n",
      "# observations          70.000000\n",
      "critical value (1%)     -3.527426\n",
      "critical value (5%)     -2.903811\n",
      "critical value (10%)    -2.589320\n",
      "Weak evidence against the null hypothesis\n",
      "Fail to reject the null hypothesis\n",
      "Data has a unit root and is non-stationary\n"
     ]
    },
    {
     "name": "stderr",
     "output_type": "stream",
     "text": [
      "C:\\Users\\LENOVO\\anaconda3\\Lib\\site-packages\\statsmodels\\tsa\\statespace\\representation.py:374: FutureWarning: Unknown keyword arguments: dict_keys(['typ']).Passing unknown keyword arguments will raise a TypeError beginning in version 0.15.\n",
      "  warnings.warn(msg, FutureWarning)\n"
     ]
    },
    {
     "name": "stdout",
     "output_type": "stream",
     "text": [
      "The best order is \n",
      "start : 64\n",
      "end : 71\n",
      "The best order is \n",
      "MSE Error: 646.2113683\n",
      "RMSE Error:  25.4206878\n"
     ]
    },
    {
     "name": "stderr",
     "output_type": "stream",
     "text": [
      "C:\\Users\\LENOVO\\anaconda3\\Lib\\site-packages\\statsmodels\\tsa\\base\\tsa_model.py:473: ValueWarning: No frequency information was provided, so inferred frequency W-SUN will be used.\n",
      "  self._init_dates(dates, freq)\n",
      "C:\\Users\\LENOVO\\anaconda3\\Lib\\site-packages\\statsmodels\\tsa\\base\\tsa_model.py:473: ValueWarning: No frequency information was provided, so inferred frequency W-SUN will be used.\n",
      "  self._init_dates(dates, freq)\n",
      "C:\\Users\\LENOVO\\anaconda3\\Lib\\site-packages\\statsmodels\\tsa\\base\\tsa_model.py:473: ValueWarning: No frequency information was provided, so inferred frequency W-SUN will be used.\n",
      "  self._init_dates(dates, freq)\n"
     ]
    },
    {
     "name": "stdout",
     "output_type": "stream",
     "text": [
      "The best order is \n"
     ]
    },
    {
     "name": "stderr",
     "output_type": "stream",
     "text": [
      "C:\\Users\\LENOVO\\anaconda3\\Lib\\site-packages\\statsmodels\\tsa\\base\\tsa_model.py:473: ValueWarning: No frequency information was provided, so inferred frequency W-SUN will be used.\n",
      "  self._init_dates(dates, freq)\n",
      "C:\\Users\\LENOVO\\anaconda3\\Lib\\site-packages\\statsmodels\\tsa\\base\\tsa_model.py:473: ValueWarning: No frequency information was provided, so inferred frequency W-SUN will be used.\n",
      "  self._init_dates(dates, freq)\n",
      "C:\\Users\\LENOVO\\anaconda3\\Lib\\site-packages\\statsmodels\\tsa\\base\\tsa_model.py:473: ValueWarning: No frequency information was provided, so inferred frequency W-SUN will be used.\n",
      "  self._init_dates(dates, freq)\n"
     ]
    },
    {
     "name": "stdout",
     "output_type": "stream",
     "text": [
      "The best order is \n",
      "(1, 0, 0)\n",
      "2022-10-23    39.79\n",
      "2022-10-30    44.98\n",
      "2022-11-06    49.64\n",
      "2022-11-13    53.82\n",
      "2022-11-20    57.56\n",
      "2022-11-27    60.92\n",
      "2022-12-04    63.93\n",
      "2022-12-11    66.63\n",
      "Freq: W-SUN, Name: predicted_mean, dtype: float64\n",
      "    Date         AQI       Type\n",
      "0      0  162.969697     Actual\n",
      "1      1  121.000000     Actual\n",
      "2      2  121.000000     Actual\n",
      "3      3  121.000000     Actual\n",
      "4      4  209.318182     Actual\n",
      "..   ...         ...        ...\n",
      "75    75   53.820000  Predicted\n",
      "76    76   57.560000  Predicted\n",
      "77    77   60.920000  Predicted\n",
      "78    78   63.930000  Predicted\n",
      "79    79   66.630000  Predicted\n",
      "\n",
      "[80 rows x 3 columns]\n",
      "ID020\n",
      "Testing\n",
      "result\n",
      "ADF test statistic      -2.251808\n",
      "p-value                  0.187982\n",
      "# lags used             12.000000\n",
      "# observations          59.000000\n",
      "critical value (1%)     -3.546395\n",
      "critical value (5%)     -2.911939\n",
      "critical value (10%)    -2.593652\n",
      "Weak evidence against the null hypothesis\n",
      "Fail to reject the null hypothesis\n",
      "Data has a unit root and is non-stationary\n"
     ]
    },
    {
     "name": "stderr",
     "output_type": "stream",
     "text": [
      "C:\\Users\\LENOVO\\anaconda3\\Lib\\site-packages\\statsmodels\\tsa\\statespace\\representation.py:374: FutureWarning: Unknown keyword arguments: dict_keys(['typ']).Passing unknown keyword arguments will raise a TypeError beginning in version 0.15.\n",
      "  warnings.warn(msg, FutureWarning)\n"
     ]
    },
    {
     "name": "stdout",
     "output_type": "stream",
     "text": [
      "The best order is \n",
      "start : 64\n",
      "end : 71\n",
      "The best order is \n",
      "MSE Error: 1472.219987\n",
      "RMSE Error: 38.36951898\n"
     ]
    },
    {
     "name": "stderr",
     "output_type": "stream",
     "text": [
      "C:\\Users\\LENOVO\\anaconda3\\Lib\\site-packages\\statsmodels\\tsa\\base\\tsa_model.py:473: ValueWarning: No frequency information was provided, so inferred frequency W-SUN will be used.\n",
      "  self._init_dates(dates, freq)\n",
      "C:\\Users\\LENOVO\\anaconda3\\Lib\\site-packages\\statsmodels\\tsa\\base\\tsa_model.py:473: ValueWarning: No frequency information was provided, so inferred frequency W-SUN will be used.\n",
      "  self._init_dates(dates, freq)\n",
      "C:\\Users\\LENOVO\\anaconda3\\Lib\\site-packages\\statsmodels\\tsa\\base\\tsa_model.py:473: ValueWarning: No frequency information was provided, so inferred frequency W-SUN will be used.\n",
      "  self._init_dates(dates, freq)\n",
      "C:\\Users\\LENOVO\\anaconda3\\Lib\\site-packages\\statsmodels\\tsa\\statespace\\sarimax.py:978: UserWarning: Non-invertible starting MA parameters found. Using zeros as starting parameters.\n",
      "  warn('Non-invertible starting MA parameters found.'\n"
     ]
    },
    {
     "name": "stdout",
     "output_type": "stream",
     "text": [
      "The best order is \n"
     ]
    },
    {
     "name": "stderr",
     "output_type": "stream",
     "text": [
      "C:\\Users\\LENOVO\\anaconda3\\Lib\\site-packages\\statsmodels\\tsa\\base\\tsa_model.py:473: ValueWarning: No frequency information was provided, so inferred frequency W-SUN will be used.\n",
      "  self._init_dates(dates, freq)\n",
      "C:\\Users\\LENOVO\\anaconda3\\Lib\\site-packages\\statsmodels\\tsa\\base\\tsa_model.py:473: ValueWarning: No frequency information was provided, so inferred frequency W-SUN will be used.\n",
      "  self._init_dates(dates, freq)\n",
      "C:\\Users\\LENOVO\\anaconda3\\Lib\\site-packages\\statsmodels\\tsa\\base\\tsa_model.py:473: ValueWarning: No frequency information was provided, so inferred frequency W-SUN will be used.\n",
      "  self._init_dates(dates, freq)\n"
     ]
    },
    {
     "name": "stdout",
     "output_type": "stream",
     "text": [
      "The best order is \n",
      "(2, 1, 1)\n",
      "2022-10-23    97.96\n",
      "2022-10-30    80.90\n",
      "2022-11-06    56.06\n",
      "2022-11-13    72.47\n",
      "2022-11-20    80.62\n",
      "2022-11-27    69.55\n",
      "2022-12-04    68.58\n",
      "2022-12-11    74.69\n",
      "Freq: W-SUN, Name: predicted_mean, dtype: float64\n",
      "    Date         AQI       Type\n",
      "0      0  198.292683     Actual\n",
      "1      1  185.000000     Actual\n",
      "2      2  185.000000     Actual\n",
      "3      3  198.102564     Actual\n",
      "4      4  201.775510     Actual\n",
      "..   ...         ...        ...\n",
      "75    75   72.470000  Predicted\n",
      "76    76   80.620000  Predicted\n",
      "77    77   69.550000  Predicted\n",
      "78    78   68.580000  Predicted\n",
      "79    79   74.690000  Predicted\n",
      "\n",
      "[80 rows x 3 columns]\n",
      "ID021\n",
      "Testing\n",
      "result\n",
      "ADF test statistic      -0.674984\n",
      "p-value                  0.853123\n",
      "# lags used              3.000000\n",
      "# observations          68.000000\n",
      "critical value (1%)     -3.530399\n",
      "critical value (5%)     -2.905087\n",
      "critical value (10%)    -2.590001\n",
      "Weak evidence against the null hypothesis\n",
      "Fail to reject the null hypothesis\n",
      "Data has a unit root and is non-stationary\n"
     ]
    },
    {
     "name": "stderr",
     "output_type": "stream",
     "text": [
      "C:\\Users\\LENOVO\\anaconda3\\Lib\\site-packages\\statsmodels\\tsa\\statespace\\representation.py:374: FutureWarning: Unknown keyword arguments: dict_keys(['typ']).Passing unknown keyword arguments will raise a TypeError beginning in version 0.15.\n",
      "  warnings.warn(msg, FutureWarning)\n"
     ]
    },
    {
     "name": "stdout",
     "output_type": "stream",
     "text": [
      "The best order is \n",
      "start : 64\n",
      "end : 71\n",
      "The best order is \n",
      "MSE Error: 630.6054805\n",
      "RMSE Error: 25.11185936\n"
     ]
    },
    {
     "name": "stderr",
     "output_type": "stream",
     "text": [
      "C:\\Users\\LENOVO\\anaconda3\\Lib\\site-packages\\statsmodels\\tsa\\base\\tsa_model.py:473: ValueWarning: No frequency information was provided, so inferred frequency W-SUN will be used.\n",
      "  self._init_dates(dates, freq)\n",
      "C:\\Users\\LENOVO\\anaconda3\\Lib\\site-packages\\statsmodels\\tsa\\base\\tsa_model.py:473: ValueWarning: No frequency information was provided, so inferred frequency W-SUN will be used.\n",
      "  self._init_dates(dates, freq)\n",
      "C:\\Users\\LENOVO\\anaconda3\\Lib\\site-packages\\statsmodels\\tsa\\base\\tsa_model.py:473: ValueWarning: No frequency information was provided, so inferred frequency W-SUN will be used.\n",
      "  self._init_dates(dates, freq)\n"
     ]
    },
    {
     "name": "stdout",
     "output_type": "stream",
     "text": [
      "The best order is \n"
     ]
    },
    {
     "name": "stderr",
     "output_type": "stream",
     "text": [
      "C:\\Users\\LENOVO\\anaconda3\\Lib\\site-packages\\statsmodels\\tsa\\base\\tsa_model.py:473: ValueWarning: No frequency information was provided, so inferred frequency W-SUN will be used.\n",
      "  self._init_dates(dates, freq)\n",
      "C:\\Users\\LENOVO\\anaconda3\\Lib\\site-packages\\statsmodels\\tsa\\base\\tsa_model.py:473: ValueWarning: No frequency information was provided, so inferred frequency W-SUN will be used.\n",
      "  self._init_dates(dates, freq)\n",
      "C:\\Users\\LENOVO\\anaconda3\\Lib\\site-packages\\statsmodels\\tsa\\base\\tsa_model.py:473: ValueWarning: No frequency information was provided, so inferred frequency W-SUN will be used.\n",
      "  self._init_dates(dates, freq)\n"
     ]
    },
    {
     "name": "stdout",
     "output_type": "stream",
     "text": [
      "The best order is \n",
      "(0, 1, 1)\n",
      "2022-10-23    57.21\n",
      "2022-10-30    57.21\n",
      "2022-11-06    57.21\n",
      "2022-11-13    57.21\n",
      "2022-11-20    57.21\n",
      "2022-11-27    57.21\n",
      "2022-12-04    57.21\n",
      "2022-12-11    57.21\n",
      "Freq: W-SUN, Name: predicted_mean, dtype: float64\n",
      "    Date         AQI       Type\n",
      "0      0  222.586207     Actual\n",
      "1      1  132.000000     Actual\n",
      "2      2  132.000000     Actual\n",
      "3      3  132.000000     Actual\n",
      "4      4  132.000000     Actual\n",
      "..   ...         ...        ...\n",
      "75    75   57.210000  Predicted\n",
      "76    76   57.210000  Predicted\n",
      "77    77   57.210000  Predicted\n",
      "78    78   57.210000  Predicted\n",
      "79    79   57.210000  Predicted\n",
      "\n",
      "[80 rows x 3 columns]\n",
      "ID022\n",
      "Testing\n",
      "result\n",
      "ADF test statistic      -2.121008\n",
      "p-value                  0.236151\n",
      "# lags used              0.000000\n",
      "# observations          71.000000\n",
      "critical value (1%)     -3.526005\n",
      "critical value (5%)     -2.903200\n",
      "critical value (10%)    -2.588995\n",
      "Weak evidence against the null hypothesis\n",
      "Fail to reject the null hypothesis\n",
      "Data has a unit root and is non-stationary\n"
     ]
    },
    {
     "name": "stderr",
     "output_type": "stream",
     "text": [
      "C:\\Users\\LENOVO\\anaconda3\\Lib\\site-packages\\statsmodels\\tsa\\statespace\\representation.py:374: FutureWarning: Unknown keyword arguments: dict_keys(['typ']).Passing unknown keyword arguments will raise a TypeError beginning in version 0.15.\n",
      "  warnings.warn(msg, FutureWarning)\n"
     ]
    },
    {
     "name": "stdout",
     "output_type": "stream",
     "text": [
      "The best order is \n",
      "start : 64\n",
      "end : 71\n",
      "The best order is \n",
      "MSE Error: 8.007423558\n",
      "RMSE Error: 2.829739132\n"
     ]
    },
    {
     "name": "stderr",
     "output_type": "stream",
     "text": [
      "C:\\Users\\LENOVO\\anaconda3\\Lib\\site-packages\\statsmodels\\tsa\\base\\tsa_model.py:473: ValueWarning: No frequency information was provided, so inferred frequency W-SUN will be used.\n",
      "  self._init_dates(dates, freq)\n",
      "C:\\Users\\LENOVO\\anaconda3\\Lib\\site-packages\\statsmodels\\tsa\\base\\tsa_model.py:473: ValueWarning: No frequency information was provided, so inferred frequency W-SUN will be used.\n",
      "  self._init_dates(dates, freq)\n",
      "C:\\Users\\LENOVO\\anaconda3\\Lib\\site-packages\\statsmodels\\tsa\\base\\tsa_model.py:473: ValueWarning: No frequency information was provided, so inferred frequency W-SUN will be used.\n",
      "  self._init_dates(dates, freq)\n"
     ]
    },
    {
     "name": "stdout",
     "output_type": "stream",
     "text": [
      "The best order is \n"
     ]
    },
    {
     "name": "stderr",
     "output_type": "stream",
     "text": [
      "C:\\Users\\LENOVO\\anaconda3\\Lib\\site-packages\\statsmodels\\tsa\\base\\tsa_model.py:473: ValueWarning: No frequency information was provided, so inferred frequency W-SUN will be used.\n",
      "  self._init_dates(dates, freq)\n",
      "C:\\Users\\LENOVO\\anaconda3\\Lib\\site-packages\\statsmodels\\tsa\\base\\tsa_model.py:473: ValueWarning: No frequency information was provided, so inferred frequency W-SUN will be used.\n",
      "  self._init_dates(dates, freq)\n",
      "C:\\Users\\LENOVO\\anaconda3\\Lib\\site-packages\\statsmodels\\tsa\\base\\tsa_model.py:473: ValueWarning: No frequency information was provided, so inferred frequency W-SUN will be used.\n",
      "  self._init_dates(dates, freq)\n"
     ]
    },
    {
     "name": "stdout",
     "output_type": "stream",
     "text": [
      "The best order is \n",
      "(0, 1, 0)\n",
      "2022-10-23    41.0\n",
      "2022-10-30    41.0\n",
      "2022-11-06    41.0\n",
      "2022-11-13    41.0\n",
      "2022-11-20    41.0\n",
      "2022-11-27    41.0\n",
      "2022-12-04    41.0\n",
      "2022-12-11    41.0\n",
      "Freq: W-SUN, Name: predicted_mean, dtype: float64\n",
      "    Date         AQI       Type\n",
      "0      0  198.000000     Actual\n",
      "1      1  195.510638     Actual\n",
      "2      2  197.930769     Actual\n",
      "3      3  198.661017     Actual\n",
      "4      4  201.233333     Actual\n",
      "..   ...         ...        ...\n",
      "75    75   41.000000  Predicted\n",
      "76    76   41.000000  Predicted\n",
      "77    77   41.000000  Predicted\n",
      "78    78   41.000000  Predicted\n",
      "79    79   41.000000  Predicted\n",
      "\n",
      "[80 rows x 3 columns]\n",
      "ID024\n",
      "Testing\n",
      "result\n",
      "ADF test statistic     -1.567191e+14\n",
      "p-value                 0.000000e+00\n",
      "# lags used             0.000000e+00\n",
      "# observations          7.100000e+01\n",
      "critical value (1%)    -3.526005e+00\n",
      "critical value (5%)    -2.903200e+00\n",
      "critical value (10%)   -2.588995e+00\n",
      "Strong evidence against the null hypothesis\n",
      "Reject the null hypothesis\n",
      "Data has no unit root and is stationary\n"
     ]
    },
    {
     "name": "stderr",
     "output_type": "stream",
     "text": [
      "C:\\Users\\LENOVO\\anaconda3\\Lib\\site-packages\\statsmodels\\tsa\\statespace\\representation.py:374: FutureWarning: Unknown keyword arguments: dict_keys(['typ']).Passing unknown keyword arguments will raise a TypeError beginning in version 0.15.\n",
      "  warnings.warn(msg, FutureWarning)\n",
      "C:\\Users\\LENOVO\\anaconda3\\Lib\\site-packages\\statsmodels\\regression\\linear_model.py:956: RuntimeWarning: divide by zero encountered in log\n",
      "  llf = -nobs2*np.log(2*np.pi) - nobs2*np.log(ssr / nobs) - nobs2\n"
     ]
    },
    {
     "name": "stdout",
     "output_type": "stream",
     "text": [
      "The best order is \n",
      "start : 64\n",
      "end : 71\n",
      "The best order is \n",
      "MSE Error: 0.005624259142\n",
      "RMSE Error: 0.07499506078\n"
     ]
    },
    {
     "name": "stderr",
     "output_type": "stream",
     "text": [
      "C:\\Users\\LENOVO\\anaconda3\\Lib\\site-packages\\statsmodels\\tsa\\base\\tsa_model.py:473: ValueWarning: No frequency information was provided, so inferred frequency W-SUN will be used.\n",
      "  self._init_dates(dates, freq)\n",
      "C:\\Users\\LENOVO\\anaconda3\\Lib\\site-packages\\statsmodels\\tsa\\base\\tsa_model.py:473: ValueWarning: No frequency information was provided, so inferred frequency W-SUN will be used.\n",
      "  self._init_dates(dates, freq)\n",
      "C:\\Users\\LENOVO\\anaconda3\\Lib\\site-packages\\statsmodels\\tsa\\base\\tsa_model.py:473: ValueWarning: No frequency information was provided, so inferred frequency W-SUN will be used.\n",
      "  self._init_dates(dates, freq)\n"
     ]
    },
    {
     "name": "stdout",
     "output_type": "stream",
     "text": [
      "The best order is \n"
     ]
    },
    {
     "name": "stderr",
     "output_type": "stream",
     "text": [
      "C:\\Users\\LENOVO\\anaconda3\\Lib\\site-packages\\statsmodels\\tsa\\base\\tsa_model.py:473: ValueWarning: No frequency information was provided, so inferred frequency W-SUN will be used.\n",
      "  self._init_dates(dates, freq)\n",
      "C:\\Users\\LENOVO\\anaconda3\\Lib\\site-packages\\statsmodels\\tsa\\base\\tsa_model.py:473: ValueWarning: No frequency information was provided, so inferred frequency W-SUN will be used.\n",
      "  self._init_dates(dates, freq)\n",
      "C:\\Users\\LENOVO\\anaconda3\\Lib\\site-packages\\statsmodels\\tsa\\base\\tsa_model.py:473: ValueWarning: No frequency information was provided, so inferred frequency W-SUN will be used.\n",
      "  self._init_dates(dates, freq)\n"
     ]
    },
    {
     "name": "stdout",
     "output_type": "stream",
     "text": [
      "The best order is \n",
      "(0, 0, 0)\n",
      "2022-10-23    135.07\n",
      "2022-10-30    135.07\n",
      "2022-11-06    135.07\n",
      "2022-11-13    135.07\n",
      "2022-11-20    135.07\n",
      "2022-11-27    135.07\n",
      "2022-12-04    135.07\n",
      "2022-12-11    135.07\n",
      "Freq: W-SUN, Name: predicted_mean, dtype: float64\n",
      "    Date     AQI       Type\n",
      "0      0  139.80     Actual\n",
      "1      1  135.00     Actual\n",
      "2      2  135.00     Actual\n",
      "3      3  135.00     Actual\n",
      "4      4  135.00     Actual\n",
      "..   ...     ...        ...\n",
      "75    75  135.07  Predicted\n",
      "76    76  135.07  Predicted\n",
      "77    77  135.07  Predicted\n",
      "78    78  135.07  Predicted\n",
      "79    79  135.07  Predicted\n",
      "\n",
      "[80 rows x 3 columns]\n",
      "ID025\n",
      "Testing\n",
      "result\n",
      "ADF test statistic      -3.394535\n",
      "p-value                  0.011147\n",
      "# lags used              6.000000\n",
      "# observations          65.000000\n",
      "critical value (1%)     -3.535217\n",
      "critical value (5%)     -2.907154\n",
      "critical value (10%)    -2.591103\n",
      "Strong evidence against the null hypothesis\n",
      "Reject the null hypothesis\n",
      "Data has no unit root and is stationary\n"
     ]
    },
    {
     "name": "stderr",
     "output_type": "stream",
     "text": [
      "C:\\Users\\LENOVO\\anaconda3\\Lib\\site-packages\\statsmodels\\tsa\\statespace\\representation.py:374: FutureWarning: Unknown keyword arguments: dict_keys(['typ']).Passing unknown keyword arguments will raise a TypeError beginning in version 0.15.\n",
      "  warnings.warn(msg, FutureWarning)\n"
     ]
    },
    {
     "name": "stdout",
     "output_type": "stream",
     "text": [
      "The best order is \n",
      "start : 64\n",
      "end : 71\n",
      "The best order is \n",
      "MSE Error: 35.47624564\n",
      "RMSE Error: 5.956193888\n"
     ]
    },
    {
     "name": "stderr",
     "output_type": "stream",
     "text": [
      "C:\\Users\\LENOVO\\anaconda3\\Lib\\site-packages\\statsmodels\\tsa\\base\\tsa_model.py:473: ValueWarning: No frequency information was provided, so inferred frequency W-SUN will be used.\n",
      "  self._init_dates(dates, freq)\n",
      "C:\\Users\\LENOVO\\anaconda3\\Lib\\site-packages\\statsmodels\\tsa\\base\\tsa_model.py:473: ValueWarning: No frequency information was provided, so inferred frequency W-SUN will be used.\n",
      "  self._init_dates(dates, freq)\n",
      "C:\\Users\\LENOVO\\anaconda3\\Lib\\site-packages\\statsmodels\\tsa\\base\\tsa_model.py:473: ValueWarning: No frequency information was provided, so inferred frequency W-SUN will be used.\n",
      "  self._init_dates(dates, freq)\n"
     ]
    },
    {
     "name": "stdout",
     "output_type": "stream",
     "text": [
      "The best order is \n"
     ]
    },
    {
     "name": "stderr",
     "output_type": "stream",
     "text": [
      "C:\\Users\\LENOVO\\anaconda3\\Lib\\site-packages\\statsmodels\\tsa\\base\\tsa_model.py:473: ValueWarning: No frequency information was provided, so inferred frequency W-SUN will be used.\n",
      "  self._init_dates(dates, freq)\n",
      "C:\\Users\\LENOVO\\anaconda3\\Lib\\site-packages\\statsmodels\\tsa\\base\\tsa_model.py:473: ValueWarning: No frequency information was provided, so inferred frequency W-SUN will be used.\n",
      "  self._init_dates(dates, freq)\n",
      "C:\\Users\\LENOVO\\anaconda3\\Lib\\site-packages\\statsmodels\\tsa\\base\\tsa_model.py:473: ValueWarning: No frequency information was provided, so inferred frequency W-SUN will be used.\n",
      "  self._init_dates(dates, freq)\n"
     ]
    },
    {
     "name": "stdout",
     "output_type": "stream",
     "text": [
      "The best order is \n",
      "(1, 0, 1)\n",
      "2022-10-23    128.33\n",
      "2022-10-30    127.28\n",
      "2022-11-06    126.33\n",
      "2022-11-13    125.49\n",
      "2022-11-20    124.73\n",
      "2022-11-27    124.04\n",
      "2022-12-04    123.43\n",
      "2022-12-11    122.88\n",
      "Freq: W-SUN, Name: predicted_mean, dtype: float64\n",
      "    Date         AQI       Type\n",
      "0      0  216.057143     Actual\n",
      "1      1  217.153285     Actual\n",
      "2      2  217.000000     Actual\n",
      "3      3  218.045872     Actual\n",
      "4      4  220.452174     Actual\n",
      "..   ...         ...        ...\n",
      "75    75  125.490000  Predicted\n",
      "76    76  124.730000  Predicted\n",
      "77    77  124.040000  Predicted\n",
      "78    78  123.430000  Predicted\n",
      "79    79  122.880000  Predicted\n",
      "\n",
      "[80 rows x 3 columns]\n",
      "ID026\n",
      "Testing\n",
      "result\n",
      "ADF test statistic      -3.073235\n",
      "p-value                  0.028598\n",
      "# lags used             12.000000\n",
      "# observations          59.000000\n",
      "critical value (1%)     -3.546395\n",
      "critical value (5%)     -2.911939\n",
      "critical value (10%)    -2.593652\n",
      "Strong evidence against the null hypothesis\n",
      "Reject the null hypothesis\n",
      "Data has no unit root and is stationary\n"
     ]
    },
    {
     "name": "stderr",
     "output_type": "stream",
     "text": [
      "C:\\Users\\LENOVO\\anaconda3\\Lib\\site-packages\\statsmodels\\tsa\\statespace\\representation.py:374: FutureWarning: Unknown keyword arguments: dict_keys(['typ']).Passing unknown keyword arguments will raise a TypeError beginning in version 0.15.\n",
      "  warnings.warn(msg, FutureWarning)\n"
     ]
    },
    {
     "name": "stdout",
     "output_type": "stream",
     "text": [
      "The best order is \n",
      "start : 64\n",
      "end : 71\n",
      "The best order is \n",
      "MSE Error: 1.842582423\n",
      "RMSE Error: 1.357417556\n"
     ]
    },
    {
     "name": "stderr",
     "output_type": "stream",
     "text": [
      "C:\\Users\\LENOVO\\anaconda3\\Lib\\site-packages\\statsmodels\\tsa\\base\\tsa_model.py:473: ValueWarning: No frequency information was provided, so inferred frequency W-SUN will be used.\n",
      "  self._init_dates(dates, freq)\n",
      "C:\\Users\\LENOVO\\anaconda3\\Lib\\site-packages\\statsmodels\\tsa\\base\\tsa_model.py:473: ValueWarning: No frequency information was provided, so inferred frequency W-SUN will be used.\n",
      "  self._init_dates(dates, freq)\n",
      "C:\\Users\\LENOVO\\anaconda3\\Lib\\site-packages\\statsmodels\\tsa\\base\\tsa_model.py:473: ValueWarning: No frequency information was provided, so inferred frequency W-SUN will be used.\n",
      "  self._init_dates(dates, freq)\n"
     ]
    },
    {
     "name": "stdout",
     "output_type": "stream",
     "text": [
      "The best order is \n"
     ]
    },
    {
     "name": "stderr",
     "output_type": "stream",
     "text": [
      "C:\\Users\\LENOVO\\anaconda3\\Lib\\site-packages\\statsmodels\\tsa\\base\\tsa_model.py:473: ValueWarning: No frequency information was provided, so inferred frequency W-SUN will be used.\n",
      "  self._init_dates(dates, freq)\n",
      "C:\\Users\\LENOVO\\anaconda3\\Lib\\site-packages\\statsmodels\\tsa\\base\\tsa_model.py:473: ValueWarning: No frequency information was provided, so inferred frequency W-SUN will be used.\n",
      "  self._init_dates(dates, freq)\n",
      "C:\\Users\\LENOVO\\anaconda3\\Lib\\site-packages\\statsmodels\\tsa\\base\\tsa_model.py:473: ValueWarning: No frequency information was provided, so inferred frequency W-SUN will be used.\n",
      "  self._init_dates(dates, freq)\n"
     ]
    },
    {
     "name": "stdout",
     "output_type": "stream",
     "text": [
      "The best order is \n",
      "(0, 1, 0)\n",
      "2022-10-23    55.0\n",
      "2022-10-30    55.0\n",
      "2022-11-06    55.0\n",
      "2022-11-13    55.0\n",
      "2022-11-20    55.0\n",
      "2022-11-27    55.0\n",
      "2022-12-04    55.0\n",
      "2022-12-11    55.0\n",
      "Freq: W-SUN, Name: predicted_mean, dtype: float64\n",
      "    Date         AQI       Type\n",
      "0      0  227.111111     Actual\n",
      "1      1  228.877863     Actual\n",
      "2      2  228.833333     Actual\n",
      "3      3  228.978947     Actual\n",
      "4      4  231.433962     Actual\n",
      "..   ...         ...        ...\n",
      "75    75   55.000000  Predicted\n",
      "76    76   55.000000  Predicted\n",
      "77    77   55.000000  Predicted\n",
      "78    78   55.000000  Predicted\n",
      "79    79   55.000000  Predicted\n",
      "\n",
      "[80 rows x 3 columns]\n",
      "ID027\n",
      "Testing\n",
      "result\n",
      "ADF test statistic     -6.246985e+14\n",
      "p-value                 0.000000e+00\n",
      "# lags used             0.000000e+00\n",
      "# observations          7.100000e+01\n",
      "critical value (1%)    -3.526005e+00\n",
      "critical value (5%)    -2.903200e+00\n",
      "critical value (10%)   -2.588995e+00\n",
      "Strong evidence against the null hypothesis\n",
      "Reject the null hypothesis\n",
      "Data has no unit root and is stationary\n"
     ]
    },
    {
     "name": "stderr",
     "output_type": "stream",
     "text": [
      "C:\\Users\\LENOVO\\anaconda3\\Lib\\site-packages\\statsmodels\\tsa\\statespace\\representation.py:374: FutureWarning: Unknown keyword arguments: dict_keys(['typ']).Passing unknown keyword arguments will raise a TypeError beginning in version 0.15.\n",
      "  warnings.warn(msg, FutureWarning)\n",
      "C:\\Users\\LENOVO\\anaconda3\\Lib\\site-packages\\statsmodels\\regression\\linear_model.py:956: RuntimeWarning: divide by zero encountered in log\n",
      "  llf = -nobs2*np.log(2*np.pi) - nobs2*np.log(ssr / nobs) - nobs2\n"
     ]
    },
    {
     "name": "stdout",
     "output_type": "stream",
     "text": [
      "The best order is \n",
      "start : 64\n",
      "end : 71\n",
      "The best order is \n",
      "MSE Error: 1.268218482\n",
      "RMSE Error: 1.126152069\n"
     ]
    },
    {
     "name": "stderr",
     "output_type": "stream",
     "text": [
      "C:\\Users\\LENOVO\\anaconda3\\Lib\\site-packages\\statsmodels\\tsa\\base\\tsa_model.py:473: ValueWarning: No frequency information was provided, so inferred frequency W-SUN will be used.\n",
      "  self._init_dates(dates, freq)\n",
      "C:\\Users\\LENOVO\\anaconda3\\Lib\\site-packages\\statsmodels\\tsa\\base\\tsa_model.py:473: ValueWarning: No frequency information was provided, so inferred frequency W-SUN will be used.\n",
      "  self._init_dates(dates, freq)\n",
      "C:\\Users\\LENOVO\\anaconda3\\Lib\\site-packages\\statsmodels\\tsa\\base\\tsa_model.py:473: ValueWarning: No frequency information was provided, so inferred frequency W-SUN will be used.\n",
      "  self._init_dates(dates, freq)\n"
     ]
    },
    {
     "name": "stdout",
     "output_type": "stream",
     "text": [
      "The best order is \n"
     ]
    },
    {
     "name": "stderr",
     "output_type": "stream",
     "text": [
      "C:\\Users\\LENOVO\\anaconda3\\Lib\\site-packages\\statsmodels\\tsa\\base\\tsa_model.py:473: ValueWarning: No frequency information was provided, so inferred frequency W-SUN will be used.\n",
      "  self._init_dates(dates, freq)\n",
      "C:\\Users\\LENOVO\\anaconda3\\Lib\\site-packages\\statsmodels\\tsa\\base\\tsa_model.py:473: ValueWarning: No frequency information was provided, so inferred frequency W-SUN will be used.\n",
      "  self._init_dates(dates, freq)\n",
      "C:\\Users\\LENOVO\\anaconda3\\Lib\\site-packages\\statsmodels\\tsa\\base\\tsa_model.py:473: ValueWarning: No frequency information was provided, so inferred frequency W-SUN will be used.\n",
      "  self._init_dates(dates, freq)\n"
     ]
    },
    {
     "name": "stdout",
     "output_type": "stream",
     "text": [
      "The best order is \n",
      "(0, 0, 0)\n",
      "2022-10-23    133.0\n",
      "2022-10-30    133.0\n",
      "2022-11-06    133.0\n",
      "2022-11-13    133.0\n",
      "2022-11-20    133.0\n",
      "2022-11-27    133.0\n",
      "2022-12-04    133.0\n",
      "2022-12-11    133.0\n",
      "Freq: W-SUN, Name: predicted_mean, dtype: float64\n",
      "    Date         AQI       Type\n",
      "0      0  204.074074     Actual\n",
      "1      1  132.000000     Actual\n",
      "2      2  132.000000     Actual\n",
      "3      3  132.000000     Actual\n",
      "4      4  132.000000     Actual\n",
      "..   ...         ...        ...\n",
      "75    75  133.000000  Predicted\n",
      "76    76  133.000000  Predicted\n",
      "77    77  133.000000  Predicted\n",
      "78    78  133.000000  Predicted\n",
      "79    79  133.000000  Predicted\n",
      "\n",
      "[80 rows x 3 columns]\n",
      "ID028\n",
      "Testing\n",
      "result\n",
      "ADF test statistic      -2.003011\n",
      "p-value                  0.285254\n",
      "# lags used              0.000000\n",
      "# observations          28.000000\n",
      "critical value (1%)     -3.688926\n",
      "critical value (5%)     -2.971989\n",
      "critical value (10%)    -2.625296\n",
      "Weak evidence against the null hypothesis\n",
      "Fail to reject the null hypothesis\n",
      "Data has a unit root and is non-stationary\n"
     ]
    },
    {
     "name": "stderr",
     "output_type": "stream",
     "text": [
      "C:\\Users\\LENOVO\\anaconda3\\Lib\\site-packages\\statsmodels\\tsa\\statespace\\representation.py:374: FutureWarning: Unknown keyword arguments: dict_keys(['typ']).Passing unknown keyword arguments will raise a TypeError beginning in version 0.15.\n",
      "  warnings.warn(msg, FutureWarning)\n"
     ]
    },
    {
     "name": "stdout",
     "output_type": "stream",
     "text": [
      "The best order is \n",
      "start : 25\n",
      "end : 28\n",
      "The best order is \n",
      "MSE Error: 8353.915598\n",
      "RMSE Error:  91.3997571\n"
     ]
    },
    {
     "name": "stderr",
     "output_type": "stream",
     "text": [
      "C:\\Users\\LENOVO\\anaconda3\\Lib\\site-packages\\statsmodels\\tsa\\base\\tsa_model.py:473: ValueWarning: No frequency information was provided, so inferred frequency W-SUN will be used.\n",
      "  self._init_dates(dates, freq)\n",
      "C:\\Users\\LENOVO\\anaconda3\\Lib\\site-packages\\statsmodels\\tsa\\base\\tsa_model.py:473: ValueWarning: No frequency information was provided, so inferred frequency W-SUN will be used.\n",
      "  self._init_dates(dates, freq)\n",
      "C:\\Users\\LENOVO\\anaconda3\\Lib\\site-packages\\statsmodels\\tsa\\base\\tsa_model.py:473: ValueWarning: No frequency information was provided, so inferred frequency W-SUN will be used.\n",
      "  self._init_dates(dates, freq)\n"
     ]
    },
    {
     "name": "stdout",
     "output_type": "stream",
     "text": [
      "The best order is \n"
     ]
    },
    {
     "name": "stderr",
     "output_type": "stream",
     "text": [
      "C:\\Users\\LENOVO\\anaconda3\\Lib\\site-packages\\statsmodels\\tsa\\base\\tsa_model.py:473: ValueWarning: No frequency information was provided, so inferred frequency W-SUN will be used.\n",
      "  self._init_dates(dates, freq)\n",
      "C:\\Users\\LENOVO\\anaconda3\\Lib\\site-packages\\statsmodels\\tsa\\base\\tsa_model.py:473: ValueWarning: No frequency information was provided, so inferred frequency W-SUN will be used.\n",
      "  self._init_dates(dates, freq)\n",
      "C:\\Users\\LENOVO\\anaconda3\\Lib\\site-packages\\statsmodels\\tsa\\base\\tsa_model.py:473: ValueWarning: No frequency information was provided, so inferred frequency W-SUN will be used.\n",
      "  self._init_dates(dates, freq)\n"
     ]
    },
    {
     "name": "stdout",
     "output_type": "stream",
     "text": [
      "The best order is \n",
      "(1, 0, 0)\n",
      "2022-10-23    209.60\n",
      "2022-10-30    235.83\n",
      "2022-11-06    254.13\n",
      "2022-11-13    266.90\n",
      "Freq: W-SUN, Name: predicted_mean, dtype: float64\n",
      "    Date         AQI       Type\n",
      "0      0  277.844037     Actual\n",
      "1      1  164.562500     Actual\n",
      "2      2  147.000000     Actual\n",
      "3      3  474.450000     Actual\n",
      "4      4  500.000000     Actual\n",
      "5      5  500.000000     Actual\n",
      "6      6  500.000000     Actual\n",
      "7      7  500.000000     Actual\n",
      "8      8  500.000000     Actual\n",
      "9      9  500.000000     Actual\n",
      "10    10  500.000000     Actual\n",
      "11    11  500.000000     Actual\n",
      "12    12  171.463087     Actual\n",
      "13    13  168.116197     Actual\n",
      "14    14  169.146119     Actual\n",
      "15    15  168.632184     Actual\n",
      "16    16  177.000000     Actual\n",
      "17    17  500.000000     Actual\n",
      "18    18  500.000000     Actual\n",
      "19    19  449.235507     Actual\n",
      "20    20  173.771186     Actual\n",
      "21    21  172.653846     Actual\n",
      "22    22  172.716578     Actual\n",
      "23    23  175.098266     Actual\n",
      "24    24  173.522124     Actual\n",
      "25    25  172.070000     Actual\n",
      "26    26  172.000000     Actual\n",
      "27    27  172.000000     Actual\n",
      "28    28  172.000000     Actual\n",
      "29    29  209.600000  Predicted\n",
      "30    30  235.830000  Predicted\n",
      "31    31  254.130000  Predicted\n",
      "32    32  266.900000  Predicted\n",
      "ID029\n",
      "Testing\n",
      "result\n",
      "ADF test statistic      -3.335720\n",
      "p-value                  0.013355\n",
      "# lags used              0.000000\n",
      "# observations          71.000000\n",
      "critical value (1%)     -3.526005\n",
      "critical value (5%)     -2.903200\n",
      "critical value (10%)    -2.588995\n",
      "Strong evidence against the null hypothesis\n",
      "Reject the null hypothesis\n",
      "Data has no unit root and is stationary\n"
     ]
    },
    {
     "name": "stderr",
     "output_type": "stream",
     "text": [
      "C:\\Users\\LENOVO\\anaconda3\\Lib\\site-packages\\statsmodels\\tsa\\statespace\\representation.py:374: FutureWarning: Unknown keyword arguments: dict_keys(['typ']).Passing unknown keyword arguments will raise a TypeError beginning in version 0.15.\n",
      "  warnings.warn(msg, FutureWarning)\n"
     ]
    },
    {
     "name": "stdout",
     "output_type": "stream",
     "text": [
      "The best order is \n",
      "start : 64\n",
      "end : 71\n",
      "The best order is \n",
      "MSE Error:         0.0\n",
      "RMSE Error:         0.0\n"
     ]
    },
    {
     "name": "stderr",
     "output_type": "stream",
     "text": [
      "C:\\Users\\LENOVO\\anaconda3\\Lib\\site-packages\\statsmodels\\tsa\\base\\tsa_model.py:473: ValueWarning: No frequency information was provided, so inferred frequency W-SUN will be used.\n",
      "  self._init_dates(dates, freq)\n",
      "C:\\Users\\LENOVO\\anaconda3\\Lib\\site-packages\\statsmodels\\tsa\\base\\tsa_model.py:473: ValueWarning: No frequency information was provided, so inferred frequency W-SUN will be used.\n",
      "  self._init_dates(dates, freq)\n",
      "C:\\Users\\LENOVO\\anaconda3\\Lib\\site-packages\\statsmodels\\tsa\\base\\tsa_model.py:473: ValueWarning: No frequency information was provided, so inferred frequency W-SUN will be used.\n",
      "  self._init_dates(dates, freq)\n"
     ]
    },
    {
     "name": "stdout",
     "output_type": "stream",
     "text": [
      "The best order is \n"
     ]
    },
    {
     "name": "stderr",
     "output_type": "stream",
     "text": [
      "C:\\Users\\LENOVO\\anaconda3\\Lib\\site-packages\\statsmodels\\tsa\\base\\tsa_model.py:473: ValueWarning: No frequency information was provided, so inferred frequency W-SUN will be used.\n",
      "  self._init_dates(dates, freq)\n",
      "C:\\Users\\LENOVO\\anaconda3\\Lib\\site-packages\\statsmodels\\tsa\\base\\tsa_model.py:473: ValueWarning: No frequency information was provided, so inferred frequency W-SUN will be used.\n",
      "  self._init_dates(dates, freq)\n",
      "C:\\Users\\LENOVO\\anaconda3\\Lib\\site-packages\\statsmodels\\tsa\\base\\tsa_model.py:473: ValueWarning: No frequency information was provided, so inferred frequency W-SUN will be used.\n",
      "  self._init_dates(dates, freq)\n"
     ]
    },
    {
     "name": "stdout",
     "output_type": "stream",
     "text": [
      "The best order is \n",
      "(0, 1, 0)\n",
      "2022-10-23    35.0\n",
      "2022-10-30    35.0\n",
      "2022-11-06    35.0\n",
      "2022-11-13    35.0\n",
      "2022-11-20    35.0\n",
      "2022-11-27    35.0\n",
      "2022-12-04    35.0\n",
      "2022-12-11    35.0\n",
      "Freq: W-SUN, Name: predicted_mean, dtype: float64\n",
      "    Date         AQI       Type\n",
      "0      0  433.800000     Actual\n",
      "1      1  500.000000     Actual\n",
      "2      2  500.000000     Actual\n",
      "3      3  500.000000     Actual\n",
      "4      4  490.153846     Actual\n",
      "..   ...         ...        ...\n",
      "75    75   35.000000  Predicted\n",
      "76    76   35.000000  Predicted\n",
      "77    77   35.000000  Predicted\n",
      "78    78   35.000000  Predicted\n",
      "79    79   35.000000  Predicted\n",
      "\n",
      "[80 rows x 3 columns]\n",
      "ID030\n",
      "Testing\n",
      "result\n",
      "ADF test statistic      -1.679049\n",
      "p-value                  0.441938\n",
      "# lags used              0.000000\n",
      "# observations          71.000000\n",
      "critical value (1%)     -3.526005\n",
      "critical value (5%)     -2.903200\n",
      "critical value (10%)    -2.588995\n",
      "Weak evidence against the null hypothesis\n",
      "Fail to reject the null hypothesis\n",
      "Data has a unit root and is non-stationary\n"
     ]
    },
    {
     "name": "stderr",
     "output_type": "stream",
     "text": [
      "C:\\Users\\LENOVO\\anaconda3\\Lib\\site-packages\\statsmodels\\tsa\\statespace\\representation.py:374: FutureWarning: Unknown keyword arguments: dict_keys(['typ']).Passing unknown keyword arguments will raise a TypeError beginning in version 0.15.\n",
      "  warnings.warn(msg, FutureWarning)\n"
     ]
    },
    {
     "name": "stdout",
     "output_type": "stream",
     "text": [
      "The best order is \n",
      "start : 64\n",
      "end : 71\n",
      "The best order is \n",
      "MSE Error: 779.0309798\n",
      "RMSE Error: 27.91112645\n"
     ]
    },
    {
     "name": "stderr",
     "output_type": "stream",
     "text": [
      "C:\\Users\\LENOVO\\anaconda3\\Lib\\site-packages\\statsmodels\\tsa\\base\\tsa_model.py:473: ValueWarning: No frequency information was provided, so inferred frequency W-SUN will be used.\n",
      "  self._init_dates(dates, freq)\n",
      "C:\\Users\\LENOVO\\anaconda3\\Lib\\site-packages\\statsmodels\\tsa\\base\\tsa_model.py:473: ValueWarning: No frequency information was provided, so inferred frequency W-SUN will be used.\n",
      "  self._init_dates(dates, freq)\n",
      "C:\\Users\\LENOVO\\anaconda3\\Lib\\site-packages\\statsmodels\\tsa\\base\\tsa_model.py:473: ValueWarning: No frequency information was provided, so inferred frequency W-SUN will be used.\n",
      "  self._init_dates(dates, freq)\n"
     ]
    },
    {
     "name": "stdout",
     "output_type": "stream",
     "text": [
      "The best order is \n"
     ]
    },
    {
     "name": "stderr",
     "output_type": "stream",
     "text": [
      "C:\\Users\\LENOVO\\anaconda3\\Lib\\site-packages\\statsmodels\\tsa\\base\\tsa_model.py:473: ValueWarning: No frequency information was provided, so inferred frequency W-SUN will be used.\n",
      "  self._init_dates(dates, freq)\n",
      "C:\\Users\\LENOVO\\anaconda3\\Lib\\site-packages\\statsmodels\\tsa\\base\\tsa_model.py:473: ValueWarning: No frequency information was provided, so inferred frequency W-SUN will be used.\n",
      "  self._init_dates(dates, freq)\n",
      "C:\\Users\\LENOVO\\anaconda3\\Lib\\site-packages\\statsmodels\\tsa\\base\\tsa_model.py:473: ValueWarning: No frequency information was provided, so inferred frequency W-SUN will be used.\n",
      "  self._init_dates(dates, freq)\n"
     ]
    },
    {
     "name": "stdout",
     "output_type": "stream",
     "text": [
      "The best order is \n",
      "(2, 0, 0)\n",
      "2022-10-23    62.05\n",
      "2022-10-30    67.38\n",
      "2022-11-06    72.16\n",
      "2022-11-13    76.28\n",
      "2022-11-20    79.82\n",
      "2022-11-27    82.85\n",
      "2022-12-04    85.44\n",
      "2022-12-11    87.66\n",
      "Freq: W-SUN, Name: predicted_mean, dtype: float64\n",
      "    Date     AQI       Type\n",
      "0      0  111.00     Actual\n",
      "1      1  111.00     Actual\n",
      "2      2  111.00     Actual\n",
      "3      3  111.00     Actual\n",
      "4      4  111.00     Actual\n",
      "..   ...     ...        ...\n",
      "75    75   76.28  Predicted\n",
      "76    76   79.82  Predicted\n",
      "77    77   82.85  Predicted\n",
      "78    78   85.44  Predicted\n",
      "79    79   87.66  Predicted\n",
      "\n",
      "[80 rows x 3 columns]\n",
      "ID031\n",
      "Testing\n",
      "result\n",
      "ADF test statistic      -1.047350\n",
      "p-value                  0.735605\n",
      "# lags used              2.000000\n",
      "# observations          69.000000\n",
      "critical value (1%)     -3.528890\n",
      "critical value (5%)     -2.904440\n",
      "critical value (10%)    -2.589656\n",
      "Weak evidence against the null hypothesis\n",
      "Fail to reject the null hypothesis\n",
      "Data has a unit root and is non-stationary\n"
     ]
    },
    {
     "name": "stderr",
     "output_type": "stream",
     "text": [
      "C:\\Users\\LENOVO\\anaconda3\\Lib\\site-packages\\statsmodels\\tsa\\statespace\\representation.py:374: FutureWarning: Unknown keyword arguments: dict_keys(['typ']).Passing unknown keyword arguments will raise a TypeError beginning in version 0.15.\n",
      "  warnings.warn(msg, FutureWarning)\n"
     ]
    },
    {
     "name": "stdout",
     "output_type": "stream",
     "text": [
      "The best order is \n",
      "start : 64\n",
      "end : 71\n",
      "The best order is \n",
      "MSE Error:         0.0\n",
      "RMSE Error:         0.0\n"
     ]
    },
    {
     "name": "stderr",
     "output_type": "stream",
     "text": [
      "C:\\Users\\LENOVO\\anaconda3\\Lib\\site-packages\\statsmodels\\tsa\\base\\tsa_model.py:473: ValueWarning: No frequency information was provided, so inferred frequency W-SUN will be used.\n",
      "  self._init_dates(dates, freq)\n",
      "C:\\Users\\LENOVO\\anaconda3\\Lib\\site-packages\\statsmodels\\tsa\\base\\tsa_model.py:473: ValueWarning: No frequency information was provided, so inferred frequency W-SUN will be used.\n",
      "  self._init_dates(dates, freq)\n",
      "C:\\Users\\LENOVO\\anaconda3\\Lib\\site-packages\\statsmodels\\tsa\\base\\tsa_model.py:473: ValueWarning: No frequency information was provided, so inferred frequency W-SUN will be used.\n",
      "  self._init_dates(dates, freq)\n"
     ]
    },
    {
     "name": "stdout",
     "output_type": "stream",
     "text": [
      "The best order is \n"
     ]
    },
    {
     "name": "stderr",
     "output_type": "stream",
     "text": [
      "C:\\Users\\LENOVO\\anaconda3\\Lib\\site-packages\\statsmodels\\tsa\\base\\tsa_model.py:473: ValueWarning: No frequency information was provided, so inferred frequency W-SUN will be used.\n",
      "  self._init_dates(dates, freq)\n",
      "C:\\Users\\LENOVO\\anaconda3\\Lib\\site-packages\\statsmodels\\tsa\\base\\tsa_model.py:473: ValueWarning: No frequency information was provided, so inferred frequency W-SUN will be used.\n",
      "  self._init_dates(dates, freq)\n",
      "C:\\Users\\LENOVO\\anaconda3\\Lib\\site-packages\\statsmodels\\tsa\\base\\tsa_model.py:473: ValueWarning: No frequency information was provided, so inferred frequency W-SUN will be used.\n",
      "  self._init_dates(dates, freq)\n"
     ]
    },
    {
     "name": "stdout",
     "output_type": "stream",
     "text": [
      "The best order is \n",
      "(3, 1, 0)\n",
      "2022-10-23    14.0\n",
      "2022-10-30    14.0\n",
      "2022-11-06    14.0\n",
      "2022-11-13    14.0\n",
      "2022-11-20    14.0\n",
      "2022-11-27    14.0\n",
      "2022-12-04    14.0\n",
      "2022-12-11    14.0\n",
      "Freq: W-SUN, Name: predicted_mean, dtype: float64\n",
      "    Date         AQI       Type\n",
      "0      0  159.107143     Actual\n",
      "1      1  159.107143     Actual\n",
      "2      2  159.107143     Actual\n",
      "3      3  159.107143     Actual\n",
      "4      4  159.107143     Actual\n",
      "..   ...         ...        ...\n",
      "75    75   14.000000  Predicted\n",
      "76    76   14.000000  Predicted\n",
      "77    77   14.000000  Predicted\n",
      "78    78   14.000000  Predicted\n",
      "79    79   14.000000  Predicted\n",
      "\n",
      "[80 rows x 3 columns]\n",
      "ID032\n",
      "Testing\n",
      "result\n",
      "ADF test statistic      -2.329062\n",
      "p-value                  0.162766\n",
      "# lags used              0.000000\n",
      "# observations          71.000000\n",
      "critical value (1%)     -3.526005\n",
      "critical value (5%)     -2.903200\n",
      "critical value (10%)    -2.588995\n",
      "Weak evidence against the null hypothesis\n",
      "Fail to reject the null hypothesis\n",
      "Data has a unit root and is non-stationary\n"
     ]
    },
    {
     "name": "stderr",
     "output_type": "stream",
     "text": [
      "C:\\Users\\LENOVO\\anaconda3\\Lib\\site-packages\\statsmodels\\tsa\\statespace\\representation.py:374: FutureWarning: Unknown keyword arguments: dict_keys(['typ']).Passing unknown keyword arguments will raise a TypeError beginning in version 0.15.\n",
      "  warnings.warn(msg, FutureWarning)\n"
     ]
    },
    {
     "name": "stdout",
     "output_type": "stream",
     "text": [
      "The best order is \n",
      "start : 64\n",
      "end : 71\n",
      "The best order is \n",
      "MSE Error: 497.2761352\n",
      "RMSE Error: 22.29968913\n"
     ]
    },
    {
     "name": "stderr",
     "output_type": "stream",
     "text": [
      "C:\\Users\\LENOVO\\anaconda3\\Lib\\site-packages\\statsmodels\\tsa\\base\\tsa_model.py:473: ValueWarning: No frequency information was provided, so inferred frequency W-SUN will be used.\n",
      "  self._init_dates(dates, freq)\n",
      "C:\\Users\\LENOVO\\anaconda3\\Lib\\site-packages\\statsmodels\\tsa\\base\\tsa_model.py:473: ValueWarning: No frequency information was provided, so inferred frequency W-SUN will be used.\n",
      "  self._init_dates(dates, freq)\n",
      "C:\\Users\\LENOVO\\anaconda3\\Lib\\site-packages\\statsmodels\\tsa\\base\\tsa_model.py:473: ValueWarning: No frequency information was provided, so inferred frequency W-SUN will be used.\n",
      "  self._init_dates(dates, freq)\n"
     ]
    },
    {
     "name": "stdout",
     "output_type": "stream",
     "text": [
      "The best order is \n"
     ]
    },
    {
     "name": "stderr",
     "output_type": "stream",
     "text": [
      "C:\\Users\\LENOVO\\anaconda3\\Lib\\site-packages\\statsmodels\\tsa\\base\\tsa_model.py:473: ValueWarning: No frequency information was provided, so inferred frequency W-SUN will be used.\n",
      "  self._init_dates(dates, freq)\n",
      "C:\\Users\\LENOVO\\anaconda3\\Lib\\site-packages\\statsmodels\\tsa\\base\\tsa_model.py:473: ValueWarning: No frequency information was provided, so inferred frequency W-SUN will be used.\n",
      "  self._init_dates(dates, freq)\n",
      "C:\\Users\\LENOVO\\anaconda3\\Lib\\site-packages\\statsmodels\\tsa\\base\\tsa_model.py:473: ValueWarning: No frequency information was provided, so inferred frequency W-SUN will be used.\n",
      "  self._init_dates(dates, freq)\n"
     ]
    },
    {
     "name": "stdout",
     "output_type": "stream",
     "text": [
      "The best order is \n",
      "(0, 1, 0)\n",
      "2022-10-23    45.78\n",
      "2022-10-30    45.78\n",
      "2022-11-06    45.78\n",
      "2022-11-13    45.78\n",
      "2022-11-20    45.78\n",
      "2022-11-27    45.78\n",
      "2022-12-04    45.78\n",
      "2022-12-11    45.78\n",
      "Freq: W-SUN, Name: predicted_mean, dtype: float64\n",
      "    Date         AQI       Type\n",
      "0      0  211.322581     Actual\n",
      "1      1  204.616541     Actual\n",
      "2      2  208.730435     Actual\n",
      "3      3  326.875000     Actual\n",
      "4      4  314.878788     Actual\n",
      "..   ...         ...        ...\n",
      "75    75   45.780000  Predicted\n",
      "76    76   45.780000  Predicted\n",
      "77    77   45.780000  Predicted\n",
      "78    78   45.780000  Predicted\n",
      "79    79   45.780000  Predicted\n",
      "\n",
      "[80 rows x 3 columns]\n",
      "ID033\n",
      "Testing\n",
      "result\n",
      "ADF test statistic      -1.616336\n",
      "p-value                  0.474651\n",
      "# lags used             11.000000\n",
      "# observations          60.000000\n",
      "critical value (1%)     -3.544369\n",
      "critical value (5%)     -2.911073\n",
      "critical value (10%)    -2.593190\n",
      "Weak evidence against the null hypothesis\n",
      "Fail to reject the null hypothesis\n",
      "Data has a unit root and is non-stationary\n"
     ]
    },
    {
     "name": "stderr",
     "output_type": "stream",
     "text": [
      "C:\\Users\\LENOVO\\anaconda3\\Lib\\site-packages\\statsmodels\\tsa\\statespace\\representation.py:374: FutureWarning: Unknown keyword arguments: dict_keys(['typ']).Passing unknown keyword arguments will raise a TypeError beginning in version 0.15.\n",
      "  warnings.warn(msg, FutureWarning)\n"
     ]
    },
    {
     "name": "stdout",
     "output_type": "stream",
     "text": [
      "The best order is \n",
      "start : 64\n",
      "end : 71\n",
      "The best order is \n",
      "MSE Error:         0.0\n",
      "RMSE Error:         0.0\n"
     ]
    },
    {
     "name": "stderr",
     "output_type": "stream",
     "text": [
      "C:\\Users\\LENOVO\\anaconda3\\Lib\\site-packages\\statsmodels\\tsa\\base\\tsa_model.py:473: ValueWarning: No frequency information was provided, so inferred frequency W-SUN will be used.\n",
      "  self._init_dates(dates, freq)\n",
      "C:\\Users\\LENOVO\\anaconda3\\Lib\\site-packages\\statsmodels\\tsa\\base\\tsa_model.py:473: ValueWarning: No frequency information was provided, so inferred frequency W-SUN will be used.\n",
      "  self._init_dates(dates, freq)\n",
      "C:\\Users\\LENOVO\\anaconda3\\Lib\\site-packages\\statsmodels\\tsa\\base\\tsa_model.py:473: ValueWarning: No frequency information was provided, so inferred frequency W-SUN will be used.\n",
      "  self._init_dates(dates, freq)\n"
     ]
    },
    {
     "name": "stdout",
     "output_type": "stream",
     "text": [
      "The best order is \n"
     ]
    },
    {
     "name": "stderr",
     "output_type": "stream",
     "text": [
      "C:\\Users\\LENOVO\\anaconda3\\Lib\\site-packages\\statsmodels\\tsa\\base\\tsa_model.py:473: ValueWarning: No frequency information was provided, so inferred frequency W-SUN will be used.\n",
      "  self._init_dates(dates, freq)\n",
      "C:\\Users\\LENOVO\\anaconda3\\Lib\\site-packages\\statsmodels\\tsa\\base\\tsa_model.py:473: ValueWarning: No frequency information was provided, so inferred frequency W-SUN will be used.\n",
      "  self._init_dates(dates, freq)\n",
      "C:\\Users\\LENOVO\\anaconda3\\Lib\\site-packages\\statsmodels\\tsa\\base\\tsa_model.py:473: ValueWarning: No frequency information was provided, so inferred frequency W-SUN will be used.\n",
      "  self._init_dates(dates, freq)\n"
     ]
    },
    {
     "name": "stdout",
     "output_type": "stream",
     "text": [
      "The best order is \n",
      "(3, 1, 0)\n",
      "2022-10-23    30.0\n",
      "2022-10-30    30.0\n",
      "2022-11-06    30.0\n",
      "2022-11-13    30.0\n",
      "2022-11-20    30.0\n",
      "2022-11-27    30.0\n",
      "2022-12-04    30.0\n",
      "2022-12-11    30.0\n",
      "Freq: W-SUN, Name: predicted_mean, dtype: float64\n",
      "    Date         AQI       Type\n",
      "0      0  223.944444     Actual\n",
      "1      1  219.626866     Actual\n",
      "2      2  219.385246     Actual\n",
      "3      3  220.190476     Actual\n",
      "4      4  222.778846     Actual\n",
      "..   ...         ...        ...\n",
      "75    75   30.000000  Predicted\n",
      "76    76   30.000000  Predicted\n",
      "77    77   30.000000  Predicted\n",
      "78    78   30.000000  Predicted\n",
      "79    79   30.000000  Predicted\n",
      "\n",
      "[80 rows x 3 columns]\n",
      "ID034\n",
      "Testing\n",
      "result\n",
      "ADF test statistic      -2.741582\n",
      "p-value                  0.067115\n",
      "# lags used             12.000000\n",
      "# observations          59.000000\n",
      "critical value (1%)     -3.546395\n",
      "critical value (5%)     -2.911939\n",
      "critical value (10%)    -2.593652\n",
      "Weak evidence against the null hypothesis\n",
      "Fail to reject the null hypothesis\n",
      "Data has a unit root and is non-stationary\n"
     ]
    },
    {
     "name": "stderr",
     "output_type": "stream",
     "text": [
      "C:\\Users\\LENOVO\\anaconda3\\Lib\\site-packages\\statsmodels\\tsa\\statespace\\representation.py:374: FutureWarning: Unknown keyword arguments: dict_keys(['typ']).Passing unknown keyword arguments will raise a TypeError beginning in version 0.15.\n",
      "  warnings.warn(msg, FutureWarning)\n"
     ]
    },
    {
     "name": "stdout",
     "output_type": "stream",
     "text": [
      "The best order is \n",
      "start : 64\n",
      "end : 71\n",
      "The best order is \n",
      "MSE Error:         0.0\n",
      "RMSE Error:         0.0\n"
     ]
    },
    {
     "name": "stderr",
     "output_type": "stream",
     "text": [
      "C:\\Users\\LENOVO\\anaconda3\\Lib\\site-packages\\statsmodels\\tsa\\base\\tsa_model.py:473: ValueWarning: No frequency information was provided, so inferred frequency W-SUN will be used.\n",
      "  self._init_dates(dates, freq)\n",
      "C:\\Users\\LENOVO\\anaconda3\\Lib\\site-packages\\statsmodels\\tsa\\base\\tsa_model.py:473: ValueWarning: No frequency information was provided, so inferred frequency W-SUN will be used.\n",
      "  self._init_dates(dates, freq)\n",
      "C:\\Users\\LENOVO\\anaconda3\\Lib\\site-packages\\statsmodels\\tsa\\base\\tsa_model.py:473: ValueWarning: No frequency information was provided, so inferred frequency W-SUN will be used.\n",
      "  self._init_dates(dates, freq)\n"
     ]
    },
    {
     "name": "stdout",
     "output_type": "stream",
     "text": [
      "The best order is \n"
     ]
    },
    {
     "name": "stderr",
     "output_type": "stream",
     "text": [
      "C:\\Users\\LENOVO\\anaconda3\\Lib\\site-packages\\statsmodels\\tsa\\base\\tsa_model.py:473: ValueWarning: No frequency information was provided, so inferred frequency W-SUN will be used.\n",
      "  self._init_dates(dates, freq)\n",
      "C:\\Users\\LENOVO\\anaconda3\\Lib\\site-packages\\statsmodels\\tsa\\base\\tsa_model.py:473: ValueWarning: No frequency information was provided, so inferred frequency W-SUN will be used.\n",
      "  self._init_dates(dates, freq)\n",
      "C:\\Users\\LENOVO\\anaconda3\\Lib\\site-packages\\statsmodels\\tsa\\base\\tsa_model.py:473: ValueWarning: No frequency information was provided, so inferred frequency W-SUN will be used.\n",
      "  self._init_dates(dates, freq)\n"
     ]
    },
    {
     "name": "stdout",
     "output_type": "stream",
     "text": [
      "The best order is \n",
      "(0, 1, 0)\n",
      "2022-10-23    133.0\n",
      "2022-10-30    133.0\n",
      "2022-11-06    133.0\n",
      "2022-11-13    133.0\n",
      "2022-11-20    133.0\n",
      "2022-11-27    133.0\n",
      "2022-12-04    133.0\n",
      "2022-12-11    133.0\n",
      "Freq: W-SUN, Name: predicted_mean, dtype: float64\n",
      "    Date         AQI       Type\n",
      "0      0  201.285714     Actual\n",
      "1      1  201.285714     Actual\n",
      "2      2  201.285714     Actual\n",
      "3      3  201.285714     Actual\n",
      "4      4  454.000000     Actual\n",
      "..   ...         ...        ...\n",
      "75    75  133.000000  Predicted\n",
      "76    76  133.000000  Predicted\n",
      "77    77  133.000000  Predicted\n",
      "78    78  133.000000  Predicted\n",
      "79    79  133.000000  Predicted\n",
      "\n",
      "[80 rows x 3 columns]\n",
      "ID035\n",
      "Testing\n",
      "result\n",
      "ADF test statistic      -3.002933\n",
      "p-value                  0.034621\n",
      "# lags used              1.000000\n",
      "# observations          70.000000\n",
      "critical value (1%)     -3.527426\n",
      "critical value (5%)     -2.903811\n",
      "critical value (10%)    -2.589320\n",
      "Strong evidence against the null hypothesis\n",
      "Reject the null hypothesis\n",
      "Data has no unit root and is stationary\n"
     ]
    },
    {
     "name": "stderr",
     "output_type": "stream",
     "text": [
      "C:\\Users\\LENOVO\\anaconda3\\Lib\\site-packages\\statsmodels\\tsa\\statespace\\representation.py:374: FutureWarning: Unknown keyword arguments: dict_keys(['typ']).Passing unknown keyword arguments will raise a TypeError beginning in version 0.15.\n",
      "  warnings.warn(msg, FutureWarning)\n"
     ]
    },
    {
     "name": "stdout",
     "output_type": "stream",
     "text": [
      "The best order is \n",
      "start : 64\n",
      "end : 71\n",
      "The best order is \n",
      "MSE Error: 157.9075409\n",
      "RMSE Error: 12.56612673\n"
     ]
    },
    {
     "name": "stderr",
     "output_type": "stream",
     "text": [
      "C:\\Users\\LENOVO\\anaconda3\\Lib\\site-packages\\statsmodels\\tsa\\base\\tsa_model.py:473: ValueWarning: No frequency information was provided, so inferred frequency W-SUN will be used.\n",
      "  self._init_dates(dates, freq)\n",
      "C:\\Users\\LENOVO\\anaconda3\\Lib\\site-packages\\statsmodels\\tsa\\base\\tsa_model.py:473: ValueWarning: No frequency information was provided, so inferred frequency W-SUN will be used.\n",
      "  self._init_dates(dates, freq)\n",
      "C:\\Users\\LENOVO\\anaconda3\\Lib\\site-packages\\statsmodels\\tsa\\base\\tsa_model.py:473: ValueWarning: No frequency information was provided, so inferred frequency W-SUN will be used.\n",
      "  self._init_dates(dates, freq)\n"
     ]
    },
    {
     "name": "stdout",
     "output_type": "stream",
     "text": [
      "The best order is \n"
     ]
    },
    {
     "name": "stderr",
     "output_type": "stream",
     "text": [
      "C:\\Users\\LENOVO\\anaconda3\\Lib\\site-packages\\statsmodels\\tsa\\base\\tsa_model.py:473: ValueWarning: No frequency information was provided, so inferred frequency W-SUN will be used.\n",
      "  self._init_dates(dates, freq)\n",
      "C:\\Users\\LENOVO\\anaconda3\\Lib\\site-packages\\statsmodels\\tsa\\base\\tsa_model.py:473: ValueWarning: No frequency information was provided, so inferred frequency W-SUN will be used.\n",
      "  self._init_dates(dates, freq)\n",
      "C:\\Users\\LENOVO\\anaconda3\\Lib\\site-packages\\statsmodels\\tsa\\base\\tsa_model.py:473: ValueWarning: No frequency information was provided, so inferred frequency W-SUN will be used.\n",
      "  self._init_dates(dates, freq)\n"
     ]
    },
    {
     "name": "stdout",
     "output_type": "stream",
     "text": [
      "The best order is \n",
      "(0, 1, 0)\n",
      "2022-10-23    59.31\n",
      "2022-10-30    59.31\n",
      "2022-11-06    59.31\n",
      "2022-11-13    59.31\n",
      "2022-11-20    59.31\n",
      "2022-11-27    59.31\n",
      "2022-12-04    59.31\n",
      "2022-12-11    59.31\n",
      "Freq: W-SUN, Name: predicted_mean, dtype: float64\n",
      "    Date         AQI       Type\n",
      "0      0  200.148148     Actual\n",
      "1      1  214.000000     Actual\n",
      "2      2  214.000000     Actual\n",
      "3      3  214.000000     Actual\n",
      "4      4  210.756757     Actual\n",
      "..   ...         ...        ...\n",
      "75    75   59.310000  Predicted\n",
      "76    76   59.310000  Predicted\n",
      "77    77   59.310000  Predicted\n",
      "78    78   59.310000  Predicted\n",
      "79    79   59.310000  Predicted\n",
      "\n",
      "[80 rows x 3 columns]\n"
     ]
    },
    {
     "name": "stderr",
     "output_type": "stream",
     "text": [
      "C:\\Users\\LENOVO\\anaconda3\\Lib\\site-packages\\statsmodels\\tsa\\statespace\\representation.py:374: FutureWarning: Unknown keyword arguments: dict_keys(['typ']).Passing unknown keyword arguments will raise a TypeError beginning in version 0.15.\n",
      "  warnings.warn(msg, FutureWarning)\n"
     ]
    }
   ],
   "source": [
    "class TSA:\n",
    "    def __init__(self,df,idcol,loc):\n",
    "        self.df = df\n",
    "        self.idcol = idcol\n",
    "        self.loc = loc\n",
    "        \n",
    "        \n",
    "    def zone_df(self):\n",
    "        self.df = self.df[self.df[self.idcol]== self.loc]\n",
    "        print(self.loc)\n",
    "    \n",
    "    def adf_test(self,valcol):\n",
    "        \"\"\"\n",
    "        Pass in a time series and an optional title, returns an ADF report\n",
    "        \"\"\"\n",
    "        print('Testing')\n",
    "        result = adfuller(self.df[valcol].dropna(),autolag='AIC') # .dropna() handles differenced data\n",
    "        print('result')\n",
    "    \n",
    "        labels = ['ADF test statistic','p-value','# lags used','# observations']\n",
    "        out = pd.Series(result[0:4],index=labels)\n",
    "\n",
    "        for key,val in result[4].items():\n",
    "            out[f'critical value ({key})']=val\n",
    "        \n",
    "        print(out.to_string())          # .to_string() removes the line \"dtype: float64\"\n",
    "    \n",
    "        if result[1] <= 0.05:\n",
    "            print(\"Strong evidence against the null hypothesis\")\n",
    "            print(\"Reject the null hypothesis\")\n",
    "            print(\"Data has no unit root and is stationary\")\n",
    "        else:\n",
    "            print(\"Weak evidence against the null hypothesis\")\n",
    "            print(\"Fail to reject the null hypothesis\")\n",
    "            print(\"Data has a unit root and is non-stationary\")\n",
    "    def determine_ARIMA_order(self,valcol):\n",
    "        stepwise_fit = auto_arima(self.df[valcol], start_p=0, start_q=0,\n",
    "                          error_action='ignore',   # we don't want to know if an order does not work\n",
    "                          suppress_warnings=True,  # we don't want convergence warnings\n",
    "                          stepwise=True)           # set to stepwise\n",
    "        best_order = stepwise_fit.get_params().get('order')\n",
    "        print('The best order is '.format(best_order))\n",
    "        return best_order\n",
    "    def fit_model(self,valcol):\n",
    "        if len(self.df[valcol]) > 70:\n",
    "            train = self.df[valcol][:len(self.df[valcol])-8]\n",
    "            test = self.df[valcol][len(self.df[valcol])-8:]\n",
    "        else:\n",
    "            train = self.df[valcol][:len(self.df[valcol])-4]\n",
    "            test = self.df[valcol][len(self.df[valcol])-4:]\n",
    "        start = len(train)\n",
    "        end = len(train)+len(test)-1\n",
    "#             print('train : {}'.format(train))\n",
    "#             print('test : {}'.format(test))\n",
    "        print('start : {}'.format(start))\n",
    "        print('end : {}'.format(end))\n",
    "        results = ARIMA(train,order=c1.determine_ARIMA_order(valcol)).fit()\n",
    "        predictions = results.predict(start=start, end=end)\n",
    "        error1 = mean_squared_error(test, predictions)\n",
    "        error2 = rmse(test, predictions)\n",
    "        print(f'MSE Error: {error1:11.10}')\n",
    "        print(f'RMSE Error: {error2:11.10}')\n",
    "            \n",
    "    def full_data_model(self,valcol):\n",
    "        results = ARIMA(self.df[valcol],order=c1.determine_ARIMA_order(valcol)).fit()\n",
    "        \n",
    "        with open('TSA_AQI_{}.pkl'.format(self.loc),'wb')as f:\n",
    "            pickle.dump(results,f)\n",
    "            \n",
    "        order=c1.determine_ARIMA_order(valcol)\n",
    "        with open('Order_TSA_AQI_{}.pkl'.format(self.loc),'wb')as f:\n",
    "            pickle.dump(order,f)\n",
    "            \n",
    "        if len(self.df[valcol]) > 70:\n",
    "            fcast = results.predict(len(self.df), len(self.df)+7,typ='levels').round(2)\n",
    "        else:\n",
    "            fcast = results.predict(len(self.df), len(self.df)+3,typ='levels').round(2)\n",
    "#         ax = self.df[valcol].plot(legend=True,figsize=(12,6))\n",
    "#         fcast.plot(legend=True)\n",
    "        print(order)\n",
    "        print(fcast)\n",
    "        DF = pd.DataFrame(self.df[valcol])\n",
    "        DF['Type'] = 'Actual'\n",
    "        DF_fcast = pd.DataFrame(fcast)\n",
    "        DF_fcast = DF_fcast.rename(columns={'predicted_mean':'AQI'})\n",
    "        DF_fcast['Type'] = 'Predicted'\n",
    "        final_DF =  pd.concat([DF,DF_fcast], ignore_index=True)\n",
    "        final_DF = final_DF.reset_index()\n",
    "        final_DF = final_DF.rename(columns={'index':'Date'})\n",
    "        print(final_DF)\n",
    "        #final_DF.to_json('/Users/nithingopinath/Desktop/Bayesian Ways/AQI Deployment\\{}.json'.format(item),orient='records')\n",
    "\n",
    "id_list = list(df_filtered.id.unique())\n",
    "for item in id_list:\n",
    "    c1 = TSA(df_weekly,'id',item)\n",
    "    c1.zone_df()\n",
    "    c1.adf_test('AQI')\n",
    "    c1.determine_ARIMA_order('AQI')\n",
    "    c1.fit_model('AQI')\n",
    "    c1.full_data_model('AQI')"
   ]
  },
  {
   "cell_type": "code",
   "execution_count": 10,
   "id": "532f7fe0",
   "metadata": {},
   "outputs": [],
   "source": [
    "\n",
    "#pickle_out = open(\"model.pkl\",\"wb\")\n",
    "#pickle.dump(results, pickle_out)\n",
    "#pickle_out.close()"
   ]
  },
  {
   "cell_type": "code",
   "execution_count": 11,
   "id": "bf36b12c",
   "metadata": {},
   "outputs": [],
   "source": [
    "#Arima_model = ARIMA(random_state=0).fit()\n",
    "#Arima_model = ARIMA(train,order=c1.determine_ARIMA_order(valcol)).fit()\n",
    "#pickle.dump(Arima_model, open(\"/Users/nithingopinath/Desktop/Bayesian Ways/AQI Deployment using fastapi/ArimaModel.pkl\",\"wb\"))"
   ]
  },
  {
   "cell_type": "markdown",
   "id": "a1e9fb88",
   "metadata": {},
   "source": [
    "# SARIMA Model"
   ]
  },
  {
   "cell_type": "code",
   "execution_count": 12,
   "id": "3b85c784",
   "metadata": {},
   "outputs": [
    {
     "name": "stdout",
     "output_type": "stream",
     "text": [
      "ID001\n",
      "The best seasonal order is (0, 0, 0, 12)\n",
      "The best order is (0, 1, 1)\n",
      "The best seasonal order is (0, 0, 0, 12)\n",
      "The best order is (0, 1, 1)\n",
      "MSE Error: 95.45083029\n",
      "RMSE Error: 9.769894078\n",
      "MAPE Error: 0.2496423892\n",
      "Accuracy: 75.03576108\n"
     ]
    },
    {
     "name": "stderr",
     "output_type": "stream",
     "text": [
      "C:\\Users\\LENOVO\\anaconda3\\Lib\\site-packages\\statsmodels\\tsa\\base\\tsa_model.py:473: ValueWarning: No frequency information was provided, so inferred frequency W-SUN will be used.\n",
      "  self._init_dates(dates, freq)\n",
      "C:\\Users\\LENOVO\\anaconda3\\Lib\\site-packages\\statsmodels\\tsa\\base\\tsa_model.py:473: ValueWarning: No frequency information was provided, so inferred frequency W-SUN will be used.\n",
      "  self._init_dates(dates, freq)\n"
     ]
    },
    {
     "name": "stdout",
     "output_type": "stream",
     "text": [
      "The best seasonal order is (0, 0, 0, 12)\n",
      "The best order is (0, 1, 1)\n",
      "              AQI       Type\n",
      "2022-10-23  59.08  Predicted\n",
      "2022-10-30  59.08  Predicted\n",
      "2022-11-06  59.08  Predicted\n",
      "2022-11-13  59.08  Predicted\n",
      "2022-11-20  59.08  Predicted\n",
      "2022-11-27  59.08  Predicted\n",
      "2022-12-04  59.08  Predicted\n",
      "2022-12-11  59.08  Predicted\n",
      "         Date         AQI       Type\n",
      "0  2021-06-06   49.448276     Actual\n",
      "1  2021-06-13  159.000000     Actual\n",
      "2  2021-06-20  159.000000     Actual\n",
      "3  2021-06-27  159.000000     Actual\n",
      "4  2021-07-04  159.000000     Actual\n",
      "..        ...         ...        ...\n",
      "75 2022-11-13   59.080000  Predicted\n",
      "76 2022-11-20   59.080000  Predicted\n",
      "77 2022-11-27   59.080000  Predicted\n",
      "78 2022-12-04   59.080000  Predicted\n",
      "79 2022-12-11   59.080000  Predicted\n",
      "\n",
      "[80 rows x 3 columns]\n"
     ]
    },
    {
     "name": "stderr",
     "output_type": "stream",
     "text": [
      "C:\\Users\\LENOVO\\anaconda3\\Lib\\site-packages\\statsmodels\\tsa\\base\\tsa_model.py:473: ValueWarning: No frequency information was provided, so inferred frequency W-SUN will be used.\n",
      "  self._init_dates(dates, freq)\n",
      "C:\\Users\\LENOVO\\anaconda3\\Lib\\site-packages\\statsmodels\\tsa\\base\\tsa_model.py:473: ValueWarning: No frequency information was provided, so inferred frequency W-SUN will be used.\n",
      "  self._init_dates(dates, freq)\n"
     ]
    },
    {
     "name": "stdout",
     "output_type": "stream",
     "text": [
      "The best seasonal order is (0, 0, 0, 12)\n",
      "The best order is (0, 1, 1)\n",
      "MSE Error: 95.45083029\n",
      "RMSE Error: 9.769894078\n",
      "MAPE Error: 0.2496423892\n",
      "Accuracy: 75.03576108\n",
      "        Date  Validation\n",
      "0 2022-08-28   29.991575\n",
      "1 2022-09-04   29.991575\n",
      "2 2022-09-11   29.991575\n",
      "3 2022-09-18   29.991575\n",
      "4 2022-09-25   29.991575\n",
      "5 2022-10-02   29.991575\n",
      "6 2022-10-09   29.991575\n",
      "7 2022-10-16   29.991575\n",
      "         Date         AQI       Type\n",
      "0  2021-06-06   49.448276     Actual\n",
      "1  2021-06-13  159.000000     Actual\n",
      "2  2021-06-20  159.000000     Actual\n",
      "3  2021-06-27  159.000000     Actual\n",
      "4  2021-07-04  159.000000     Actual\n",
      "..        ...         ...        ...\n",
      "75 2022-11-13   59.080000  Predicted\n",
      "76 2022-11-20   59.080000  Predicted\n",
      "77 2022-11-27   59.080000  Predicted\n",
      "78 2022-12-04   59.080000  Predicted\n",
      "79 2022-12-11   59.080000  Predicted\n",
      "\n",
      "[80 rows x 3 columns]\n",
      "ID003\n"
     ]
    },
    {
     "name": "stderr",
     "output_type": "stream",
     "text": [
      "C:\\Users\\LENOVO\\anaconda3\\Lib\\site-packages\\statsmodels\\tsa\\base\\tsa_model.py:473: ValueWarning: No frequency information was provided, so inferred frequency W-SUN will be used.\n",
      "  self._init_dates(dates, freq)\n",
      "C:\\Users\\LENOVO\\anaconda3\\Lib\\site-packages\\statsmodels\\tsa\\base\\tsa_model.py:473: ValueWarning: No frequency information was provided, so inferred frequency W-SUN will be used.\n",
      "  self._init_dates(dates, freq)\n",
      "C:\\Users\\LENOVO\\anaconda3\\Lib\\site-packages\\statsmodels\\regression\\linear_model.py:956: RuntimeWarning: divide by zero encountered in log\n",
      "  llf = -nobs2*np.log(2*np.pi) - nobs2*np.log(ssr / nobs) - nobs2\n"
     ]
    },
    {
     "ename": "ValueError",
     "evalue": "All lag values up to 'maxlag' produced singular matrices. Consider using a longer series, a different lag term or a different test.",
     "output_type": "error",
     "traceback": [
      "\u001b[1;31m---------------------------------------------------------------------------\u001b[0m",
      "\u001b[1;31mValueError\u001b[0m                                Traceback (most recent call last)",
      "Cell \u001b[1;32mIn[12], line 114\u001b[0m\n\u001b[0;32m    112\u001b[0m \u001b[38;5;66;03m#     c2.find_D('AQI')\u001b[39;00m\n\u001b[0;32m    113\u001b[0m     c2\u001b[38;5;241m.\u001b[39madf_test(\u001b[38;5;124m'\u001b[39m\u001b[38;5;124mAQI\u001b[39m\u001b[38;5;124m'\u001b[39m)\n\u001b[1;32m--> 114\u001b[0m     c2\u001b[38;5;241m.\u001b[39mdetermine_SARIMA_order(\u001b[38;5;124m'\u001b[39m\u001b[38;5;124mAQI\u001b[39m\u001b[38;5;124m'\u001b[39m)\n\u001b[0;32m    115\u001b[0m     c2\u001b[38;5;241m.\u001b[39mfit_model(\u001b[38;5;124m'\u001b[39m\u001b[38;5;124mAQI\u001b[39m\u001b[38;5;124m'\u001b[39m)\n\u001b[0;32m    116\u001b[0m     c2\u001b[38;5;241m.\u001b[39mfull_data_model(\u001b[38;5;124m'\u001b[39m\u001b[38;5;124mAQI\u001b[39m\u001b[38;5;124m'\u001b[39m)\n",
      "Cell \u001b[1;32mIn[12], line 37\u001b[0m, in \u001b[0;36mTSA_seasonal.determine_SARIMA_order\u001b[1;34m(self, valcol)\u001b[0m\n\u001b[0;32m     35\u001b[0m     \u001b[38;5;28;01mdef\u001b[39;00m \u001b[38;5;21mdetermine_SARIMA_order\u001b[39m(\u001b[38;5;28mself\u001b[39m, valcol):\n\u001b[0;32m     36\u001b[0m \u001b[38;5;66;03m#         D = self.find_D(valcol)\u001b[39;00m\n\u001b[1;32m---> 37\u001b[0m         stepwise_fit \u001b[38;5;241m=\u001b[39m auto_arima(\u001b[38;5;28mself\u001b[39m\u001b[38;5;241m.\u001b[39mdf[valcol], seasonal\u001b[38;5;241m=\u001b[39m\u001b[38;5;28;01mTrue\u001b[39;00m, m\u001b[38;5;241m=\u001b[39m\u001b[38;5;241m12\u001b[39m,\n\u001b[0;32m     38\u001b[0m \u001b[38;5;66;03m#                               start_p=0, start_q=0,\u001b[39;00m\n\u001b[0;32m     39\u001b[0m \u001b[38;5;66;03m#                               start_P=0, start_Q=0,\u001b[39;00m\n\u001b[0;32m     40\u001b[0m \u001b[38;5;66;03m#                                   D=D,\u001b[39;00m\n\u001b[0;32m     41\u001b[0m                                   error_action\u001b[38;5;241m=\u001b[39m\u001b[38;5;124m'\u001b[39m\u001b[38;5;124mignore\u001b[39m\u001b[38;5;124m'\u001b[39m,  \u001b[38;5;66;03m# we don't want to know if an order does not work\u001b[39;00m\n\u001b[0;32m     42\u001b[0m                                   suppress_warnings\u001b[38;5;241m=\u001b[39m\u001b[38;5;28;01mTrue\u001b[39;00m,  \u001b[38;5;66;03m# we don't want convergence warnings\u001b[39;00m\n\u001b[0;32m     43\u001b[0m                                   stepwise\u001b[38;5;241m=\u001b[39m\u001b[38;5;28;01mTrue\u001b[39;00m)  \u001b[38;5;66;03m# set to stepwise\u001b[39;00m\n\u001b[0;32m     44\u001b[0m         best_order \u001b[38;5;241m=\u001b[39m stepwise_fit\u001b[38;5;241m.\u001b[39mget_params()\u001b[38;5;241m.\u001b[39mget(\u001b[38;5;124m'\u001b[39m\u001b[38;5;124morder\u001b[39m\u001b[38;5;124m'\u001b[39m)\n\u001b[0;32m     45\u001b[0m         best_seasonal_order \u001b[38;5;241m=\u001b[39m stepwise_fit\u001b[38;5;241m.\u001b[39mget_params()\u001b[38;5;241m.\u001b[39mget(\u001b[38;5;124m'\u001b[39m\u001b[38;5;124mseasonal_order\u001b[39m\u001b[38;5;124m'\u001b[39m)\n",
      "File \u001b[1;32m~\\anaconda3\\Lib\\site-packages\\pmdarima\\arima\\auto.py:506\u001b[0m, in \u001b[0;36mauto_arima\u001b[1;34m(y, X, start_p, d, start_q, max_p, max_d, max_q, start_P, D, start_Q, max_P, max_D, max_Q, max_order, m, seasonal, stationary, information_criterion, alpha, test, seasonal_test, stepwise, n_jobs, start_params, trend, method, maxiter, offset_test_args, seasonal_test_args, suppress_warnings, error_action, trace, random, random_state, n_fits, return_valid_fits, out_of_sample_size, scoring, scoring_args, with_intercept, sarimax_kwargs, **fit_args)\u001b[0m\n\u001b[0;32m    504\u001b[0m \u001b[38;5;66;03m# m must be > 1 for nsdiffs\u001b[39;00m\n\u001b[0;32m    505\u001b[0m \u001b[38;5;28;01melif\u001b[39;00m D \u001b[38;5;129;01mis\u001b[39;00m \u001b[38;5;28;01mNone\u001b[39;00m:  \u001b[38;5;66;03m# we don't have a D yet and we need one (seasonal)\u001b[39;00m\n\u001b[1;32m--> 506\u001b[0m     D \u001b[38;5;241m=\u001b[39m nsdiffs(xx, m\u001b[38;5;241m=\u001b[39mm, test\u001b[38;5;241m=\u001b[39mseasonal_test, max_D\u001b[38;5;241m=\u001b[39mmax_D,\n\u001b[0;32m    507\u001b[0m                 \u001b[38;5;241m*\u001b[39m\u001b[38;5;241m*\u001b[39mseasonal_test_args)\n\u001b[0;32m    509\u001b[0m     \u001b[38;5;28;01mif\u001b[39;00m D \u001b[38;5;241m>\u001b[39m \u001b[38;5;241m0\u001b[39m \u001b[38;5;129;01mand\u001b[39;00m X \u001b[38;5;129;01mis\u001b[39;00m \u001b[38;5;129;01mnot\u001b[39;00m \u001b[38;5;28;01mNone\u001b[39;00m:\n\u001b[0;32m    510\u001b[0m         diffxreg \u001b[38;5;241m=\u001b[39m diff(X, differences\u001b[38;5;241m=\u001b[39mD, lag\u001b[38;5;241m=\u001b[39mm)\n",
      "File \u001b[1;32m~\\anaconda3\\Lib\\site-packages\\pmdarima\\arima\\utils.py:106\u001b[0m, in \u001b[0;36mnsdiffs\u001b[1;34m(x, m, max_D, test, **kwargs)\u001b[0m\n\u001b[0;32m    103\u001b[0m     \u001b[38;5;28;01mreturn\u001b[39;00m \u001b[38;5;241m0\u001b[39m\n\u001b[0;32m    105\u001b[0m D \u001b[38;5;241m=\u001b[39m \u001b[38;5;241m0\u001b[39m\n\u001b[1;32m--> 106\u001b[0m dodiff \u001b[38;5;241m=\u001b[39m testfunc(x)\n\u001b[0;32m    107\u001b[0m \u001b[38;5;28;01mwhile\u001b[39;00m dodiff \u001b[38;5;241m==\u001b[39m \u001b[38;5;241m1\u001b[39m \u001b[38;5;129;01mand\u001b[39;00m D \u001b[38;5;241m<\u001b[39m max_D:\n\u001b[0;32m    108\u001b[0m     D \u001b[38;5;241m+\u001b[39m\u001b[38;5;241m=\u001b[39m \u001b[38;5;241m1\u001b[39m\n",
      "File \u001b[1;32m~\\anaconda3\\Lib\\site-packages\\pmdarima\\arima\\seasonality.py:597\u001b[0m, in \u001b[0;36mOCSBTest.estimate_seasonal_differencing_term\u001b[1;34m(self, x)\u001b[0m\n\u001b[0;32m    594\u001b[0m x \u001b[38;5;241m=\u001b[39m check_endog(x, dtype\u001b[38;5;241m=\u001b[39mDTYPE, preserve_series\u001b[38;5;241m=\u001b[39m\u001b[38;5;28;01mFalse\u001b[39;00m)\n\u001b[0;32m    596\u001b[0m \u001b[38;5;66;03m# Get the critical value for m\u001b[39;00m\n\u001b[1;32m--> 597\u001b[0m stat \u001b[38;5;241m=\u001b[39m \u001b[38;5;28mself\u001b[39m\u001b[38;5;241m.\u001b[39m_compute_test_statistic(x)\n\u001b[0;32m    598\u001b[0m crit_val \u001b[38;5;241m=\u001b[39m \u001b[38;5;28mself\u001b[39m\u001b[38;5;241m.\u001b[39m_calc_ocsb_crit_val(\u001b[38;5;28mself\u001b[39m\u001b[38;5;241m.\u001b[39mm)\n\u001b[0;32m    599\u001b[0m \u001b[38;5;28;01mreturn\u001b[39;00m \u001b[38;5;28mint\u001b[39m(stat \u001b[38;5;241m>\u001b[39m crit_val)\n",
      "File \u001b[1;32m~\\anaconda3\\Lib\\site-packages\\pmdarima\\arima\\seasonality.py:546\u001b[0m, in \u001b[0;36mOCSBTest._compute_test_statistic\u001b[1;34m(self, x)\u001b[0m\n\u001b[0;32m    544\u001b[0m \u001b[38;5;66;03m# If they're all NaN, raise\u001b[39;00m\n\u001b[0;32m    545\u001b[0m \u001b[38;5;28;01mif\u001b[39;00m np\u001b[38;5;241m.\u001b[39misnan(icvals)\u001b[38;5;241m.\u001b[39mall():\n\u001b[1;32m--> 546\u001b[0m     \u001b[38;5;28;01mraise\u001b[39;00m \u001b[38;5;167;01mValueError\u001b[39;00m(\u001b[38;5;124m\"\u001b[39m\u001b[38;5;124mAll lag values up to \u001b[39m\u001b[38;5;124m'\u001b[39m\u001b[38;5;124mmaxlag\u001b[39m\u001b[38;5;124m'\u001b[39m\u001b[38;5;124m produced \u001b[39m\u001b[38;5;124m\"\u001b[39m\n\u001b[0;32m    547\u001b[0m                      \u001b[38;5;124m\"\u001b[39m\u001b[38;5;124msingular matrices. Consider using a longer \u001b[39m\u001b[38;5;124m\"\u001b[39m\n\u001b[0;32m    548\u001b[0m                      \u001b[38;5;124m\"\u001b[39m\u001b[38;5;124mseries, a different lag term or a different \u001b[39m\u001b[38;5;124m\"\u001b[39m\n\u001b[0;32m    549\u001b[0m                      \u001b[38;5;124m\"\u001b[39m\u001b[38;5;124mtest.\u001b[39m\u001b[38;5;124m\"\u001b[39m)\n\u001b[0;32m    551\u001b[0m \u001b[38;5;66;03m# Compute the information criterion vals\u001b[39;00m\n\u001b[0;32m    552\u001b[0m best_index \u001b[38;5;241m=\u001b[39m \u001b[38;5;28mint\u001b[39m(np\u001b[38;5;241m.\u001b[39mnanargmin(icvals))\n",
      "\u001b[1;31mValueError\u001b[0m: All lag values up to 'maxlag' produced singular matrices. Consider using a longer series, a different lag term or a different test."
     ]
    }
   ],
   "source": [
    "class TSA_seasonal:\n",
    "    def __init__(self, df,idcol,loc):\n",
    "        self.df = df\n",
    "        self.idcol = idcol\n",
    "        self.loc = loc\n",
    "    \n",
    "    def zone_df(self):\n",
    "        self.df = self.df[self.df[self.idcol]== self.loc]\n",
    "        print(self.loc)\n",
    "        \n",
    "#     def find_D(self,valcol):\n",
    "#          # estimate number of seasonal differences using a Canova-Hansen test\n",
    "#         D = nsdiffs(self.df[valcol],m=12,\n",
    "#             test='ch')  # -> 0\n",
    "#         return D\n",
    "\n",
    "    def adf_test(self, valcol):\n",
    "        \"\"\"\n",
    "        Pass in a time series and an optional title, returns an ADF report\n",
    "        \"\"\"\n",
    "        result = adfuller(self.df[valcol].dropna(), autolag='AIC')  # .dropna() handles differenced data\n",
    "\n",
    "        labels = ['ADF test statistic', 'p-value', '# lags used', '# observations']\n",
    "        out = pd.Series(result[0:4], index=labels)\n",
    "\n",
    "        for key, val in result[4].items():\n",
    "            out[f'critical value ({key})'] = val\n",
    "\n",
    "        if result[1] <= 0.05:\n",
    "            state = \"Stationary\"\n",
    "        else:\n",
    "            state = \"Non-stationary\"\n",
    "        return state\n",
    "\n",
    "    def determine_SARIMA_order(self, valcol):\n",
    "#         D = self.find_D(valcol)\n",
    "        stepwise_fit = auto_arima(self.df[valcol], seasonal=True, m=12,\n",
    "#                               start_p=0, start_q=0,\n",
    "#                               start_P=0, start_Q=0,\n",
    "#                                   D=D,\n",
    "                                  error_action='ignore',  # we don't want to know if an order does not work\n",
    "                                  suppress_warnings=True,  # we don't want convergence warnings\n",
    "                                  stepwise=True)  # set to stepwise\n",
    "        best_order = stepwise_fit.get_params().get('order')\n",
    "        best_seasonal_order = stepwise_fit.get_params().get('seasonal_order')\n",
    "        print('The best seasonal order is {}'.format(best_seasonal_order))\n",
    "        print('The best order is {}'.format(best_order))\n",
    "        return best_order, best_seasonal_order\n",
    "\n",
    "    def fit_model(self, valcol):\n",
    "    # Split the data into train, test, and validation sets\n",
    "        train = self.df[valcol][:len(self.df[valcol]) - 12]\n",
    "        test = self.df[valcol][len(self.df[valcol]) - 12:len(self.df[valcol]) - 8]\n",
    "        val = self.df[valcol][len(self.df[valcol]) - 8:]\n",
    "\n",
    "        # Determine the best SARIMA order\n",
    "        best_order, best_seasonal_order = self.determine_SARIMA_order(valcol)\n",
    "\n",
    "        # Fit the SARIMA model on the training data\n",
    "        model = SARIMAX(train, order=best_order, seasonal_order=best_seasonal_order)\n",
    "        results = model.fit()\n",
    "\n",
    "        # Generate predictions for the test set\n",
    "        predictions = results.predict(start=len(train), end=len(train) + len(test) - 1)\n",
    "\n",
    "        # Generate predictions for the validation set\n",
    "        predictions_val = results.predict(start=len(train) + len(test), end=len(train) + len(test) + len(val) - 1)\n",
    "\n",
    "        # Calculate error metrics for the test set\n",
    "        error1 = mean_squared_error(test, predictions)\n",
    "        error2 = mean_squared_error(test, predictions, squared=False)  # RMSE\n",
    "        error3 = mean_absolute_percentage_error(test, predictions)\n",
    "        accuracy = (1 - error3) * 100\n",
    "        print(f'MSE Error: {error1:11.10}')\n",
    "        print(f'RMSE Error: {error2:11.10}')\n",
    "        print(f'MAPE Error: {error3:11.10}')\n",
    "        print(f'Accuracy: {accuracy:11.10}')\n",
    "        return predictions_val\n",
    "\n",
    "    def full_data_model(self, valcol):\n",
    "        best_order, best_seasonal_order = self.determine_SARIMA_order(valcol)\n",
    "        model = SARIMAX(self.df[valcol], order=best_order, seasonal_order=best_seasonal_order)\n",
    "        results = model.fit()\n",
    "        fcast = results.forecast(steps=8).round(2)  # Forecast 4 steps ahead\n",
    "#         print(fcast)\n",
    "#         fcast_index = pd.date_range(start=self.df.index[-1], periods=4 + 1, freq='M')[1:]  # Assuming monthly data\n",
    "        DF_fcast = pd.DataFrame({valcol: fcast})\n",
    "        DF_fcast['Type'] = 'Predicted'\n",
    "        print(DF_fcast)\n",
    "        DF = pd.DataFrame(self.df[valcol])\n",
    "        DF['Type'] = 'Actual'\n",
    "        # Concatenate original data and forecast data\n",
    "        combined_DF = pd.concat([DF, DF_fcast])\n",
    "        combined_DF = combined_DF.reset_index().rename(columns={'index':'Date'})\n",
    "        print(combined_DF)\n",
    "        DF_val = pd.DataFrame(c2.fit_model(valcol))\n",
    "        DF_val = DF_val.reset_index()\n",
    "        DF_val = DF_val.rename(columns={'index':'Date','predicted_mean':'Validation'})\n",
    "#         combined_DF = combined_DF.rename(columns={'index':'Date'})\n",
    "        print(DF_val)\n",
    "        print(combined_DF)\n",
    "#         final_DF =  final_DF.merge(DF_val, on='DateTime',how='outer')\n",
    "        final_DF =  combined_DF.merge(DF_val, on='Date',how='outer')\n",
    "        final_DF['Date'] = final_DF['Date'].astype('str')\n",
    "#         print(combined_df)\n",
    "        return final_DF\n",
    "\n",
    "id_list = list(df_filtered.id.unique())\n",
    "for item in id_list:\n",
    "    c2 = TSA_seasonal(df_weekly,'id',item)\n",
    "    c2.zone_df()\n",
    "#     c2.find_D('AQI')\n",
    "    c2.adf_test('AQI')\n",
    "    c2.determine_SARIMA_order('AQI')\n",
    "    c2.fit_model('AQI')\n",
    "    c2.full_data_model('AQI')\n",
    "    \n"
   ]
  },
  {
   "cell_type": "code",
   "execution_count": null,
   "id": "ae76d8dc",
   "metadata": {},
   "outputs": [],
   "source": []
  }
 ],
 "metadata": {
  "kernelspec": {
   "display_name": "Python 3 (ipykernel)",
   "language": "python",
   "name": "python3"
  },
  "language_info": {
   "codemirror_mode": {
    "name": "ipython",
    "version": 3
   },
   "file_extension": ".py",
   "mimetype": "text/x-python",
   "name": "python",
   "nbconvert_exporter": "python",
   "pygments_lexer": "ipython3",
   "version": "3.11.5"
  }
 },
 "nbformat": 4,
 "nbformat_minor": 5
}

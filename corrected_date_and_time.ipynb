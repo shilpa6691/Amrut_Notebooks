{
 "cells": [
  {
   "cell_type": "code",
   "execution_count": null,
   "id": "0",
   "metadata": {},
   "outputs": [],
   "source": [
    "import numpy as np\n",
    "import pandas as pd\n",
    "import datetime\n",
    "import matplotlib.pyplot as plt\n",
    "import seaborn as sns\n",
    "import re\n",
    "from datetime import datetime"
   ]
  },
  {
   "cell_type": "code",
   "execution_count": null,
   "id": "1",
   "metadata": {},
   "outputs": [],
   "source": [
    "#Loading dataset"
   ]
  },
  {
   "cell_type": "code",
   "execution_count": null,
   "id": "2",
   "metadata": {},
   "outputs": [],
   "source": [
    "df=pd.read_csv(\"Pattuvam_data_till_Aug_2024_corrected.csv\")\n",
    "df"
   ]
  },
  {
   "cell_type": "code",
   "execution_count": null,
   "id": "3",
   "metadata": {},
   "outputs": [],
   "source": [
    "df[df['REMARKS']=='Maintenance Work at Intake']"
   ]
  },
  {
   "cell_type": "code",
   "execution_count": null,
   "id": "4",
   "metadata": {},
   "outputs": [],
   "source": [
    "df.isna().sum()"
   ]
  },
  {
   "cell_type": "markdown",
   "id": "5",
   "metadata": {},
   "source": [
    "# Making Standardised Date Format"
   ]
  },
  {
   "cell_type": "code",
   "execution_count": null,
   "id": "6",
   "metadata": {},
   "outputs": [],
   "source": [
    "from dateutil import parser\n",
    "import pandas as pd\n",
    "\n",
    "def standardize_date_format(date_str):\n",
    "    try:\n",
    "        # Use dateutil's parser to automatically recognize and convert various date formats\n",
    "        date_obj = parser.parse(date_str)\n",
    "        # Return the date in DD/MM/YYYY format\n",
    "        return date_obj.strftime('%d/%m/%Y')\n",
    "    except (ValueError, TypeError):\n",
    "        # Handle cases where date_str is not a recognizable date\n",
    "        return 'Unknown'\n",
    "\n",
    "# Assuming you have a DataFrame named df with a 'DATE' column\n",
    "df['Standardized_Date'] = df['DATE'].apply(standardize_date_format)\n",
    "\n",
    "print(\"DataFrame with standardized dates:\")\n",
    "df\n"
   ]
  },
  {
   "cell_type": "code",
   "execution_count": null,
   "id": "7",
   "metadata": {},
   "outputs": [],
   "source": [
    "df['Standardized_Date'].isna().sum()"
   ]
  },
  {
   "cell_type": "code",
   "execution_count": null,
   "id": "8",
   "metadata": {},
   "outputs": [],
   "source": [
    "df[df['Standardized_Date']=='Unknown']"
   ]
  },
  {
   "cell_type": "markdown",
   "id": "9",
   "metadata": {},
   "source": [
    "# Making Standardised Time Format"
   ]
  },
  {
   "cell_type": "code",
   "execution_count": null,
   "id": "10",
   "metadata": {},
   "outputs": [],
   "source": [
    "### For time standardisation\n",
    "\n",
    "def standardize_time(time_str):\n",
    " \n",
    "    time_str = time_str.replace(' ', ':')     #For Replacing the spaces with colons\n",
    "    \n",
    "    \n",
    "        #For cases where time is not in HH:MM format\n",
    "        \n",
    "    if len(time_str) == 1:  # Single digit hour\n",
    "        time_str = f'0{time_str}:00'\n",
    "    elif len(time_str) == 2:  # Only hour \n",
    "        time_str = f'{time_str}:00'\n",
    "    elif len(time_str) == 4:  # Format like HHMM\n",
    "        time_str = f'{time_str[:2]}:{time_str[2:]}'\n",
    "    elif len(time_str) == 5 and ':' not in time_str:  # Format like HHMM\n",
    "        time_str = f'{time_str[:2]}:{time_str[2:]}'\n",
    "    \n",
    "    # Convert to datetime and format as HH:MM\n",
    "    try:\n",
    "        return pd.to_datetime(time_str, format='%H:%M', errors='coerce').strftime('%H:%M')\n",
    "    except ValueError:\n",
    "        return None  # Return None for unparseable formats\n",
    "\n",
    "# Apply the function to the TIME column\n",
    "df['STANDARDIZED_TIME'] = df['TIME'].apply(standardize_time)"
   ]
  },
  {
   "cell_type": "code",
   "execution_count": null,
   "id": "11",
   "metadata": {},
   "outputs": [],
   "source": [
    "df['STANDARDIZED_TIME'].isna().sum()"
   ]
  },
  {
   "cell_type": "code",
   "execution_count": null,
   "id": "12",
   "metadata": {},
   "outputs": [],
   "source": [
    "df=df[['Standardized_Date','STANDARDIZED_TIME','RAW WATER FLOW IN m3/h',\n",
    "       'CLEAR WATER SUMP LEVEL IN Meter', 'CLEAR WATER PUMPING FLOW m3/h',\n",
    "       'TREATED WATER PRODUCTION IN m3/h', 'REMARKS']]\n",
    "df"
   ]
  },
  {
   "cell_type": "markdown",
   "id": "13",
   "metadata": {},
   "source": [
    "# Data cleaning steps for Standardized Date column"
   ]
  },
  {
   "cell_type": "code",
   "execution_count": null,
   "id": "14",
   "metadata": {},
   "outputs": [],
   "source": [
    "df.drop(index=range(2136, 2160), inplace=True) #These indexes shows 31/06/2024 data where June month contains only 30 days"
   ]
  },
  {
   "cell_type": "code",
   "execution_count": null,
   "id": "15",
   "metadata": {},
   "outputs": [],
   "source": [
    "df['Standardized_Date'] = df['Standardized_Date'].str.replace('2922', '2022')\n",
    "df['Standardized_Date'] = df['Standardized_Date'].str.replace('2032', '2022')\n",
    "df['Standardized_Date'] = df['Standardized_Date'].str.replace('2044', '2022')"
   ]
  },
  {
   "cell_type": "code",
   "execution_count": null,
   "id": "16",
   "metadata": {},
   "outputs": [],
   "source": [
    "# indices_to_update = [21651, 21652, 22371, 22372] #These indexes shows date as eg: 20/04/2922 where 2922 year is not present so changing it to 2022\n",
    "# correct_year = '2022'\n",
    "# df.loc[indices_to_update, 'Standardized_Date'] = df.loc[indices_to_update, 'Standardized_Date'].str.replace('2922', correct_year)"
   ]
  },
  {
   "cell_type": "code",
   "execution_count": null,
   "id": "17",
   "metadata": {},
   "outputs": [],
   "source": [
    "df[df['Standardized_Date'].isna()]"
   ]
  },
  {
   "cell_type": "code",
   "execution_count": null,
   "id": "18",
   "metadata": {},
   "outputs": [],
   "source": [
    "df[21651:21653]"
   ]
  },
  {
   "cell_type": "code",
   "execution_count": null,
   "id": "19",
   "metadata": {},
   "outputs": [],
   "source": [
    "df[2136:2160]"
   ]
  },
  {
   "cell_type": "code",
   "execution_count": null,
   "id": "20",
   "metadata": {},
   "outputs": [],
   "source": [
    "df[df['Standardized_Date']=='Unknown']"
   ]
  },
  {
   "cell_type": "code",
   "execution_count": null,
   "id": "21",
   "metadata": {},
   "outputs": [],
   "source": [
    "df['Standardized_Date'] = pd.to_datetime(df['Standardized_Date'], format='DD/MM/YYYY',errors='coerce')\n",
    "df"
   ]
  },
  {
   "cell_type": "code",
   "execution_count": null,
   "id": "22",
   "metadata": {},
   "outputs": [],
   "source": [
    "df[df['Standardized_Date'].isna()]"
   ]
  },
  {
   "cell_type": "code",
   "execution_count": null,
   "id": "23",
   "metadata": {},
   "outputs": [],
   "source": [
    "df.to_csv('corrected_date_and_time.csv',index=False)"
   ]
  },
  {
   "cell_type": "code",
   "execution_count": null,
   "id": "24",
   "metadata": {},
   "outputs": [],
   "source": [
    "df=pd.read_csv('corrected_date_and_time.csv')\n",
    "df"
   ]
  },
  {
   "cell_type": "code",
   "execution_count": null,
   "id": "25",
   "metadata": {},
   "outputs": [],
   "source": [
    "import pandas as pd\n",
    " \n",
    "# Function to check if the value contains any non-numeric characters\n",
    "def check_non_numeric(value):\n",
    "    try:\n",
    "        # Attempt to convert the value to a float (which handles numbers with decimals)\n",
    "        float(value)\n",
    "        return False  # No non-numeric characters found\n",
    "    except ValueError:\n",
    "        return True  # Non-numeric characters found\n",
    " \n",
    "# Apply the function to the column and get a mask of rows with non-numeric values\n",
    "df['non_numeric'] = df['RAW WATER FLOW IN m3/h'].apply(check_non_numeric)\n",
    " \n",
    "# Filter rows that have non-numeric characters\n",
    "non_numeric_rows = df[df['non_numeric']]\n",
    " \n",
    "# Display rows with non-numeric values\n",
    "non_numeric_rows\n",
    "# non_numeric_rows.shape"
   ]
  },
  {
   "cell_type": "markdown",
   "id": "26",
   "metadata": {},
   "source": [
    "# Data cleaning of RAW WATER FLOW IN m3/h column"
   ]
  },
  {
   "cell_type": "code",
   "execution_count": null,
   "id": "27",
   "metadata": {},
   "outputs": [],
   "source": [
    "df['RAW WATER FLOW IN m3/h'].isna().sum()"
   ]
  },
  {
   "cell_type": "code",
   "execution_count": null,
   "id": "28",
   "metadata": {},
   "outputs": [],
   "source": [
    "pd.set_option('display.max_rows', None) \n",
    "df1=df[df['RAW WATER FLOW IN m3/h'].isna()]\n",
    "df1"
   ]
  },
  {
   "cell_type": "code",
   "execution_count": null,
   "id": "29",
   "metadata": {},
   "outputs": [],
   "source": [
    "df[12104:12106]"
   ]
  },
  {
   "cell_type": "code",
   "execution_count": null,
   "id": "30",
   "metadata": {},
   "outputs": [],
   "source": [
    "df[19072:19075]"
   ]
  },
  {
   "cell_type": "code",
   "execution_count": null,
   "id": "31",
   "metadata": {},
   "outputs": [],
   "source": [
    "numeric_cols=['RAW WATER FLOW IN m3/h','CLEAR WATER SUMP LEVEL IN Meter', 'CLEAR WATER PUMPING FLOW m3/h',\n",
    "       'TREATED WATER PRODUCTION IN m3/h']\n",
    "df[numeric_cols] = df[numeric_cols].apply(pd.to_numeric, errors='coerce')"
   ]
  },
  {
   "cell_type": "code",
   "execution_count": null,
   "id": "32",
   "metadata": {},
   "outputs": [],
   "source": [
    "df['RAW WATER FLOW IN m3/h'].isna().sum()\n"
   ]
  },
  {
   "cell_type": "code",
   "execution_count": null,
   "id": "33",
   "metadata": {},
   "outputs": [],
   "source": [
    "pd.set_option('display.max_rows', None) \n",
    "df2=df[df['RAW WATER FLOW IN m3/h'].isna()]\n",
    "df2"
   ]
  },
  {
   "cell_type": "code",
   "execution_count": null,
   "id": "34",
   "metadata": {},
   "outputs": [],
   "source": [
    "# new_nans_mask =new_nans_mask = (df2[df2['RAW WATER FLOW IN m3/h'].isna()]) & (df1[df1['RAW WATER FLOW IN m3/h'].notna()])\n",
    "\n",
    "# new_nans_mask"
   ]
  },
  {
   "cell_type": "code",
   "execution_count": null,
   "id": "35",
   "metadata": {},
   "outputs": [],
   "source": [
    "df[(df['RAW WATER FLOW IN m3/h'].isna())&(df['CLEAR WATER SUMP LEVEL IN Meter'].isna())&(df['CLEAR WATER PUMPING FLOW m3/h'].isna())&(df['TREATED WATER PRODUCTION IN m3/h']==0)]"
   ]
  },
  {
   "cell_type": "code",
   "execution_count": null,
   "id": "36",
   "metadata": {},
   "outputs": [],
   "source": [
    "df[(df['RAW WATER FLOW IN m3/h'].isna())|(df['TREATED WATER PRODUCTION IN m3/h'].isna())]"
   ]
  },
  {
   "cell_type": "code",
   "execution_count": null,
   "id": "37",
   "metadata": {},
   "outputs": [],
   "source": [
    "df[(df['TREATED WATER PRODUCTION IN m3/h'].isna())]"
   ]
  },
  {
   "cell_type": "code",
   "execution_count": null,
   "id": "38",
   "metadata": {},
   "outputs": [],
   "source": [
    "df['RAW WATER FLOW IN m3/h'].nlargest(30)"
   ]
  },
  {
   "cell_type": "code",
   "execution_count": null,
   "id": "39",
   "metadata": {},
   "outputs": [],
   "source": [
    "df['CLEAR WATER SUMP LEVEL IN Meter'].nlargest(50)"
   ]
  },
  {
   "cell_type": "code",
   "execution_count": null,
   "id": "40",
   "metadata": {},
   "outputs": [],
   "source": [
    "indices = list(range(21220, 21230)) + \\\n",
    "          list(range(23200, 23201)) + \\\n",
    "          list(range(3310, 3320)) + \\\n",
    "          list(range(4560, 4570)) + \\\n",
    "          list(range(3475, 3485))\n",
    "rows = df.loc[indices]"
   ]
  },
  {
   "cell_type": "code",
   "execution_count": null,
   "id": "41",
   "metadata": {},
   "outputs": [],
   "source": [
    "rows"
   ]
  },
  {
   "cell_type": "code",
   "execution_count": null,
   "id": "42",
   "metadata": {},
   "outputs": [],
   "source": []
  }
 ],
 "metadata": {
  "kernelspec": {
   "display_name": "Python 3 (ipykernel)",
   "language": "python",
   "name": "python3"
  },
  "language_info": {
   "codemirror_mode": {
    "name": "ipython",
    "version": 3
   },
   "file_extension": ".py",
   "mimetype": "text/x-python",
   "name": "python",
   "nbconvert_exporter": "python",
   "pygments_lexer": "ipython3",
   "version": "3.11.5"
  }
 },
 "nbformat": 4,
 "nbformat_minor": 5
}

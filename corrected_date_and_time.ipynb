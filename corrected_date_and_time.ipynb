{
 "cells": [
  {
   "cell_type": "code",
   "execution_count": 1,
   "id": "0",
   "metadata": {},
   "outputs": [],
   "source": [
    "import numpy as np\n",
    "import pandas as pd\n",
    "import datetime\n",
    "import matplotlib.pyplot as plt\n",
    "import seaborn as sns\n",
    "import re\n",
    "from datetime import datetime"
   ]
  },
  {
   "cell_type": "code",
   "execution_count": null,
   "id": "1",
   "metadata": {},
   "outputs": [],
   "source": [
    "#Loading dataset"
   ]
  },
  {
   "cell_type": "code",
   "execution_count": 2,
   "id": "2",
   "metadata": {},
   "outputs": [
    {
     "data": {
      "text/html": [
       "<div>\n",
       "<style scoped>\n",
       "    .dataframe tbody tr th:only-of-type {\n",
       "        vertical-align: middle;\n",
       "    }\n",
       "\n",
       "    .dataframe tbody tr th {\n",
       "        vertical-align: top;\n",
       "    }\n",
       "\n",
       "    .dataframe thead th {\n",
       "        text-align: right;\n",
       "    }\n",
       "</style>\n",
       "<table border=\"1\" class=\"dataframe\">\n",
       "  <thead>\n",
       "    <tr style=\"text-align: right;\">\n",
       "      <th></th>\n",
       "      <th>DATE</th>\n",
       "      <th>TIME</th>\n",
       "      <th>RAW WATER FLOW IN m3/h</th>\n",
       "      <th>CLEAR WATER SUMP LEVEL IN Meter</th>\n",
       "      <th>CLEAR WATER PUMPING FLOW m3/h</th>\n",
       "      <th>TREATED WATER PRODUCTION IN m3/h</th>\n",
       "      <th>REMARKS</th>\n",
       "    </tr>\n",
       "  </thead>\n",
       "  <tbody>\n",
       "    <tr>\n",
       "      <th>0</th>\n",
       "      <td>01/08/2024</td>\n",
       "      <td>01:00</td>\n",
       "      <td>2561.58</td>\n",
       "      <td>2.32</td>\n",
       "      <td>1996.36</td>\n",
       "      <td>2479.10</td>\n",
       "      <td>NaN</td>\n",
       "    </tr>\n",
       "    <tr>\n",
       "      <th>1</th>\n",
       "      <td>01/08/2024</td>\n",
       "      <td>02:00</td>\n",
       "      <td>2510.71</td>\n",
       "      <td>2.49</td>\n",
       "      <td>1984.73</td>\n",
       "      <td>2429.87</td>\n",
       "      <td>NaN</td>\n",
       "    </tr>\n",
       "    <tr>\n",
       "      <th>2</th>\n",
       "      <td>01/08/2024</td>\n",
       "      <td>03:00</td>\n",
       "      <td>2489.32</td>\n",
       "      <td>2.71</td>\n",
       "      <td>1998.56</td>\n",
       "      <td>2409.16</td>\n",
       "      <td>NaN</td>\n",
       "    </tr>\n",
       "    <tr>\n",
       "      <th>3</th>\n",
       "      <td>01/08/2024</td>\n",
       "      <td>04:00</td>\n",
       "      <td>2444.78</td>\n",
       "      <td>2.79</td>\n",
       "      <td>1972.01</td>\n",
       "      <td>2366.06</td>\n",
       "      <td>NaN</td>\n",
       "    </tr>\n",
       "    <tr>\n",
       "      <th>4</th>\n",
       "      <td>01/08/2024</td>\n",
       "      <td>05:00</td>\n",
       "      <td>2417.47</td>\n",
       "      <td>2.99</td>\n",
       "      <td>1945.42</td>\n",
       "      <td>2339.63</td>\n",
       "      <td>NaN</td>\n",
       "    </tr>\n",
       "    <tr>\n",
       "      <th>...</th>\n",
       "      <td>...</td>\n",
       "      <td>...</td>\n",
       "      <td>...</td>\n",
       "      <td>...</td>\n",
       "      <td>...</td>\n",
       "      <td>...</td>\n",
       "      <td>...</td>\n",
       "    </tr>\n",
       "    <tr>\n",
       "      <th>24812</th>\n",
       "      <td>31/12/2021</td>\n",
       "      <td>20:00</td>\n",
       "      <td>2499.51</td>\n",
       "      <td>289</td>\n",
       "      <td>1851.25</td>\n",
       "      <td>2419.03</td>\n",
       "      <td>NaN</td>\n",
       "    </tr>\n",
       "    <tr>\n",
       "      <th>24813</th>\n",
       "      <td>31/12/2021</td>\n",
       "      <td>21:00</td>\n",
       "      <td>2477.1</td>\n",
       "      <td>3.06</td>\n",
       "      <td>1878.95</td>\n",
       "      <td>2397.34</td>\n",
       "      <td>NaN</td>\n",
       "    </tr>\n",
       "    <tr>\n",
       "      <th>24814</th>\n",
       "      <td>31/12/2021</td>\n",
       "      <td>22:00</td>\n",
       "      <td>2470.76</td>\n",
       "      <td>3.25</td>\n",
       "      <td>1913.29</td>\n",
       "      <td>2391.20</td>\n",
       "      <td>NaN</td>\n",
       "    </tr>\n",
       "    <tr>\n",
       "      <th>24815</th>\n",
       "      <td>31/12/2021</td>\n",
       "      <td>23:00</td>\n",
       "      <td>2492.04</td>\n",
       "      <td>3.3</td>\n",
       "      <td>1904.43</td>\n",
       "      <td>2411.80</td>\n",
       "      <td>NaN</td>\n",
       "    </tr>\n",
       "    <tr>\n",
       "      <th>24816</th>\n",
       "      <td>31/12/2021</td>\n",
       "      <td>00:00</td>\n",
       "      <td>2494.18</td>\n",
       "      <td>3.33</td>\n",
       "      <td>1896.67</td>\n",
       "      <td>2413.87</td>\n",
       "      <td>NaN</td>\n",
       "    </tr>\n",
       "  </tbody>\n",
       "</table>\n",
       "<p>24817 rows × 7 columns</p>\n",
       "</div>"
      ],
      "text/plain": [
       "             DATE   TIME RAW WATER FLOW IN m3/h  \\\n",
       "0      01/08/2024  01:00                2561.58   \n",
       "1      01/08/2024  02:00                2510.71   \n",
       "2      01/08/2024  03:00                2489.32   \n",
       "3      01/08/2024  04:00                2444.78   \n",
       "4      01/08/2024  05:00                2417.47   \n",
       "...           ...    ...                    ...   \n",
       "24812  31/12/2021  20:00                2499.51   \n",
       "24813  31/12/2021  21:00                 2477.1   \n",
       "24814  31/12/2021  22:00                2470.76   \n",
       "24815  31/12/2021  23:00                2492.04   \n",
       "24816  31/12/2021  00:00                2494.18   \n",
       "\n",
       "      CLEAR WATER SUMP LEVEL IN Meter CLEAR WATER PUMPING FLOW m3/h  \\\n",
       "0                                2.32                       1996.36   \n",
       "1                                2.49                       1984.73   \n",
       "2                                2.71                       1998.56   \n",
       "3                                2.79                       1972.01   \n",
       "4                                2.99                       1945.42   \n",
       "...                               ...                           ...   \n",
       "24812                             289                       1851.25   \n",
       "24813                            3.06                       1878.95   \n",
       "24814                            3.25                       1913.29   \n",
       "24815                             3.3                       1904.43   \n",
       "24816                            3.33                       1896.67   \n",
       "\n",
       "       TREATED WATER PRODUCTION IN m3/h REMARKS  \n",
       "0                               2479.10     NaN  \n",
       "1                               2429.87     NaN  \n",
       "2                               2409.16     NaN  \n",
       "3                               2366.06     NaN  \n",
       "4                               2339.63     NaN  \n",
       "...                                 ...     ...  \n",
       "24812                           2419.03     NaN  \n",
       "24813                           2397.34     NaN  \n",
       "24814                           2391.20     NaN  \n",
       "24815                           2411.80     NaN  \n",
       "24816                           2413.87     NaN  \n",
       "\n",
       "[24817 rows x 7 columns]"
      ]
     },
     "execution_count": 2,
     "metadata": {},
     "output_type": "execute_result"
    }
   ],
   "source": [
    "df=pd.read_csv(\"Pattuvam_data_till_Aug_2024_corrected.csv\")\n",
    "df"
   ]
  },
  {
   "cell_type": "code",
   "execution_count": 3,
   "id": "cc6c4f6e-ae36-41f0-bfb4-731e174da77f",
   "metadata": {},
   "outputs": [
    {
     "data": {
      "text/plain": [
       "(24817, 7)"
      ]
     },
     "execution_count": 3,
     "metadata": {},
     "output_type": "execute_result"
    }
   ],
   "source": [
    "df.shape"
   ]
  },
  {
   "cell_type": "code",
   "execution_count": null,
   "id": "3",
   "metadata": {},
   "outputs": [],
   "source": [
    "df[df['REMARKS']=='Maintenance Work at Intake']"
   ]
  },
  {
   "cell_type": "code",
   "execution_count": null,
   "id": "4",
   "metadata": {},
   "outputs": [],
   "source": [
    "df.isna().sum()"
   ]
  },
  {
   "cell_type": "markdown",
   "id": "5",
   "metadata": {},
   "source": [
    "# Making Standardised Date Format"
   ]
  },
  {
   "cell_type": "code",
   "execution_count": null,
   "id": "6",
   "metadata": {},
   "outputs": [],
   "source": [
    "from dateutil import parser\n",
    "import pandas as pd\n",
    "\n",
    "def standardize_date_format(date_str):\n",
    "    try:\n",
    "        # Use dateutil's parser to automatically recognize and convert various date formats\n",
    "        date_obj = parser.parse(date_str)\n",
    "        # Return the date in DD/MM/YYYY format\n",
    "        return date_obj.strftime('%d/%m/%Y')\n",
    "    except (ValueError, TypeError):\n",
    "        # Handle cases where date_str is not a recognizable date\n",
    "        return 'Unknown'\n",
    "\n",
    "# Assuming you have a DataFrame named df with a 'DATE' column\n",
    "df['Standardized_Date'] = df['DATE'].apply(standardize_date_format)\n",
    "\n",
    "print(\"DataFrame with standardized dates:\")\n",
    "df\n"
   ]
  },
  {
   "cell_type": "code",
   "execution_count": null,
   "id": "7",
   "metadata": {},
   "outputs": [],
   "source": [
    "df['Standardized_Date'].isna().sum()"
   ]
  },
  {
   "cell_type": "code",
   "execution_count": null,
   "id": "8",
   "metadata": {},
   "outputs": [],
   "source": [
    "df[df['Standardized_Date']=='Unknown']"
   ]
  },
  {
   "cell_type": "markdown",
   "id": "9",
   "metadata": {},
   "source": [
    "# Making Standardised Time Format"
   ]
  },
  {
   "cell_type": "code",
   "execution_count": null,
   "id": "10",
   "metadata": {},
   "outputs": [],
   "source": [
    "### For time standardisation\n",
    "\n",
    "def standardize_time(time_str):\n",
    " \n",
    "    time_str = time_str.replace(' ', ':')     #For Replacing the spaces with colons\n",
    "    \n",
    "    \n",
    "        #For cases where time is not in HH:MM format\n",
    "        \n",
    "    if len(time_str) == 1:  # Single digit hour\n",
    "        time_str = f'0{time_str}:00'\n",
    "    elif len(time_str) == 2:  # Only hour \n",
    "        time_str = f'{time_str}:00'\n",
    "    elif len(time_str) == 4:  # Format like HHMM\n",
    "        time_str = f'{time_str[:2]}:{time_str[2:]}'\n",
    "    elif len(time_str) == 5 and ':' not in time_str:  # Format like HHMM\n",
    "        time_str = f'{time_str[:2]}:{time_str[2:]}'\n",
    "    \n",
    "    # Convert to datetime and format as HH:MM\n",
    "    try:\n",
    "        return pd.to_datetime(time_str, format='%H:%M', errors='coerce').strftime('%H:%M')\n",
    "    except ValueError:\n",
    "        return None  # Return None for unparseable formats\n",
    "\n",
    "# Apply the function to the TIME column\n",
    "df['STANDARDIZED_TIME'] = df['TIME'].apply(standardize_time)"
   ]
  },
  {
   "cell_type": "code",
   "execution_count": null,
   "id": "11",
   "metadata": {},
   "outputs": [],
   "source": [
    "df['STANDARDIZED_TIME'].isna().sum()"
   ]
  },
  {
   "cell_type": "code",
   "execution_count": null,
   "id": "12",
   "metadata": {},
   "outputs": [],
   "source": [
    "df=df[['Standardized_Date','STANDARDIZED_TIME','RAW WATER FLOW IN m3/h',\n",
    "       'CLEAR WATER SUMP LEVEL IN Meter', 'CLEAR WATER PUMPING FLOW m3/h',\n",
    "       'TREATED WATER PRODUCTION IN m3/h', 'REMARKS']]\n",
    "df"
   ]
  },
  {
   "cell_type": "markdown",
   "id": "13",
   "metadata": {},
   "source": [
    "# Data cleaning steps for Standardized Date column"
   ]
  },
  {
   "cell_type": "code",
   "execution_count": null,
   "id": "14",
   "metadata": {},
   "outputs": [],
   "source": [
    "df.drop(index=range(2136, 2160), inplace=True) #These indexes shows 31/06/2024 data where June month contains only 30 days"
   ]
  },
  {
   "cell_type": "code",
   "execution_count": null,
   "id": "15",
   "metadata": {},
   "outputs": [],
   "source": [
    "df['Standardized_Date'] = df['Standardized_Date'].str.replace('2922', '2022')\n",
    "df['Standardized_Date'] = df['Standardized_Date'].str.replace('2032', '2022')\n",
    "df['Standardized_Date'] = df['Standardized_Date'].str.replace('2044', '2022')"
   ]
  },
  {
   "cell_type": "code",
   "execution_count": null,
   "id": "16",
   "metadata": {},
   "outputs": [],
   "source": [
    "# indices_to_update = [21651, 21652, 22371, 22372] #These indexes shows date as eg: 20/04/2922 where 2922 year is not present so changing it to 2022\n",
    "# correct_year = '2022'\n",
    "# df.loc[indices_to_update, 'Standardized_Date'] = df.loc[indices_to_update, 'Standardized_Date'].str.replace('2922', correct_year)"
   ]
  },
  {
   "cell_type": "code",
   "execution_count": null,
   "id": "17",
   "metadata": {},
   "outputs": [],
   "source": [
    "df[df['Standardized_Date'].isna()]"
   ]
  },
  {
   "cell_type": "code",
   "execution_count": null,
   "id": "18",
   "metadata": {},
   "outputs": [],
   "source": [
    "df[21651:21653]"
   ]
  },
  {
   "cell_type": "code",
   "execution_count": null,
   "id": "19",
   "metadata": {},
   "outputs": [],
   "source": [
    "df[2136:2160]"
   ]
  },
  {
   "cell_type": "code",
   "execution_count": null,
   "id": "20",
   "metadata": {},
   "outputs": [],
   "source": [
    "df[df['Standardized_Date']=='Unknown']"
   ]
  },
  {
   "cell_type": "code",
   "execution_count": null,
   "id": "21",
   "metadata": {},
   "outputs": [],
   "source": [
    "df['Standardized_Date'] = pd.to_datetime(df['Standardized_Date'], format='DD/MM/YYYY',errors='coerce')\n",
    "df"
   ]
  },
  {
   "cell_type": "code",
   "execution_count": null,
   "id": "22",
   "metadata": {},
   "outputs": [],
   "source": [
    "df[df['Standardized_Date'].isna()]"
   ]
  },
  {
   "cell_type": "code",
   "execution_count": null,
   "id": "23",
   "metadata": {},
   "outputs": [],
   "source": [
    "df.to_csv('corrected_date_and_time.csv',index=False)"
   ]
  },
  {
   "cell_type": "code",
   "execution_count": null,
   "id": "24",
   "metadata": {},
   "outputs": [],
   "source": [
    "df=pd.read_csv('corrected_date_and_time.csv')\n",
    "df"
   ]
  },
  {
   "cell_type": "code",
   "execution_count": null,
   "id": "25",
   "metadata": {},
   "outputs": [],
   "source": [
    "import pandas as pd\n",
    " \n",
    "# Function to check if the value contains any non-numeric characters\n",
    "def check_non_numeric(value):\n",
    "    try:\n",
    "        # Attempt to convert the value to a float (which handles numbers with decimals)\n",
    "        float(value)\n",
    "        return False  # No non-numeric characters found\n",
    "    except ValueError:\n",
    "        return True  # Non-numeric characters found\n",
    " \n",
    "# Apply the function to the column and get a mask of rows with non-numeric values\n",
    "df['non_numeric'] = df['RAW WATER FLOW IN m3/h'].apply(check_non_numeric)\n",
    " \n",
    "# Filter rows that have non-numeric characters\n",
    "non_numeric_rows = df[df['non_numeric']]\n",
    " \n",
    "# Display rows with non-numeric values\n",
    "non_numeric_rows\n",
    "# non_numeric_rows.shape"
   ]
  },
  {
   "cell_type": "markdown",
   "id": "26",
   "metadata": {},
   "source": [
    "# Data cleaning of RAW WATER FLOW IN m3/h column"
   ]
  },
  {
   "cell_type": "code",
   "execution_count": null,
   "id": "27",
   "metadata": {},
   "outputs": [],
   "source": [
    "df['RAW WATER FLOW IN m3/h'].isna().sum()"
   ]
  },
  {
   "cell_type": "code",
   "execution_count": null,
   "id": "28",
   "metadata": {},
   "outputs": [],
   "source": [
    "pd.set_option('display.max_rows', None) \n",
    "df1=df[df['RAW WATER FLOW IN m3/h'].isna()]\n",
    "df1"
   ]
  },
  {
   "cell_type": "code",
   "execution_count": null,
   "id": "29",
   "metadata": {},
   "outputs": [],
   "source": [
    "df[12104:12106]"
   ]
  },
  {
   "cell_type": "code",
   "execution_count": null,
   "id": "30",
   "metadata": {},
   "outputs": [],
   "source": [
    "df[19072:19075]"
   ]
  },
  {
   "cell_type": "code",
   "execution_count": null,
   "id": "31",
   "metadata": {},
   "outputs": [],
   "source": [
    "numeric_cols=['RAW WATER FLOW IN m3/h','CLEAR WATER SUMP LEVEL IN Meter', 'CLEAR WATER PUMPING FLOW m3/h',\n",
    "       'TREATED WATER PRODUCTION IN m3/h']\n",
    "df[numeric_cols] = df[numeric_cols].apply(pd.to_numeric, errors='coerce')"
   ]
  },
  {
   "cell_type": "code",
   "execution_count": null,
   "id": "32",
   "metadata": {},
   "outputs": [],
   "source": [
    "df['RAW WATER FLOW IN m3/h'].isna().sum()\n"
   ]
  },
  {
   "cell_type": "code",
   "execution_count": null,
   "id": "33",
   "metadata": {},
   "outputs": [],
   "source": [
    "pd.set_option('display.max_rows', None) \n",
    "df2=df[df['RAW WATER FLOW IN m3/h'].isna()]\n",
    "df2"
   ]
  },
  {
   "cell_type": "code",
   "execution_count": null,
   "id": "34",
   "metadata": {},
   "outputs": [],
   "source": [
    "# new_nans_mask =new_nans_mask = (df2[df2['RAW WATER FLOW IN m3/h'].isna()]) & (df1[df1['RAW WATER FLOW IN m3/h'].notna()])\n",
    "\n",
    "# new_nans_mask"
   ]
  },
  {
   "cell_type": "code",
   "execution_count": null,
   "id": "35",
   "metadata": {},
   "outputs": [],
   "source": [
    "df[(df['RAW WATER FLOW IN m3/h'].isna())&(df['CLEAR WATER SUMP LEVEL IN Meter'].isna())&(df['CLEAR WATER PUMPING FLOW m3/h'].isna())&(df['TREATED WATER PRODUCTION IN m3/h']==0)]"
   ]
  },
  {
   "cell_type": "code",
   "execution_count": null,
   "id": "36",
   "metadata": {},
   "outputs": [],
   "source": [
    "df[(df['RAW WATER FLOW IN m3/h'].isna())|(df['TREATED WATER PRODUCTION IN m3/h'].isna())]"
   ]
  },
  {
   "cell_type": "code",
   "execution_count": null,
   "id": "37",
   "metadata": {},
   "outputs": [],
   "source": [
    "df[(df['TREATED WATER PRODUCTION IN m3/h'].isna())]"
   ]
  },
  {
   "cell_type": "code",
   "execution_count": null,
   "id": "38",
   "metadata": {},
   "outputs": [],
   "source": [
    "df['RAW WATER FLOW IN m3/h'].nlargest(30)"
   ]
  },
  {
   "cell_type": "code",
   "execution_count": null,
   "id": "39",
   "metadata": {},
   "outputs": [],
   "source": [
    "df['CLEAR WATER SUMP LEVEL IN Meter'].nlargest(50)"
   ]
  },
  {
   "cell_type": "code",
   "execution_count": null,
   "id": "40",
   "metadata": {},
   "outputs": [],
   "source": [
    "indices = list(range(21220, 21230)) + \\\n",
    "          list(range(23200, 23201)) + \\\n",
    "          list(range(3310, 3320)) + \\\n",
    "          list(range(4560, 4570)) + \\\n",
    "          list(range(3475, 3485))\n",
    "rows = df.loc[indices]"
   ]
  },
  {
   "cell_type": "code",
   "execution_count": null,
   "id": "41",
   "metadata": {},
   "outputs": [],
   "source": [
    "rows"
   ]
  },
  {
   "cell_type": "code",
   "execution_count": null,
   "id": "42",
   "metadata": {},
   "outputs": [],
   "source": []
  }
 ],
 "metadata": {
  "kernelspec": {
   "display_name": "Python 3 (ipykernel)",
   "language": "python",
   "name": "python3"
  },
  "language_info": {
   "codemirror_mode": {
    "name": "ipython",
    "version": 3
   },
   "file_extension": ".py",
   "mimetype": "text/x-python",
   "name": "python",
   "nbconvert_exporter": "python",
   "pygments_lexer": "ipython3",
   "version": "3.9.13"
  }
 },
 "nbformat": 4,
 "nbformat_minor": 5
}

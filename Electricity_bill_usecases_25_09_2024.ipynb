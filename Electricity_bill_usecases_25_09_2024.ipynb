{
 "cells": [
  {
   "cell_type": "code",
   "execution_count": null,
   "id": "0",
   "metadata": {},
   "outputs": [],
   "source": [
    "import pandas as pd\n",
    "import numpy as np\n",
    "import matplotlib.pyplot as plt\n",
    "import plotly.express as px"
   ]
  },
  {
   "cell_type": "code",
   "execution_count": null,
   "id": "1",
   "metadata": {},
   "outputs": [],
   "source": [
    "#Loading dataset"
   ]
  },
  {
   "cell_type": "code",
   "execution_count": null,
   "id": "2",
   "metadata": {},
   "outputs": [],
   "source": [
    "data_ebill = pd.read_csv('11kV bill_units.csv')\n",
    "data_ebill"
   ]
  },
  {
   "cell_type": "code",
   "execution_count": null,
   "id": "3",
   "metadata": {},
   "outputs": [],
   "source": [
    "data_ebill.loc[27,'Units_kWh']=358912\n",
    "data_ebill.loc[25,'Units_kWh']=378448"
   ]
  },
  {
   "cell_type": "code",
   "execution_count": null,
   "id": "4",
   "metadata": {},
   "outputs": [],
   "source": [
    "data_ebill = data_ebill[data_ebill.Month.notna()]"
   ]
  },
  {
   "cell_type": "code",
   "execution_count": null,
   "id": "5",
   "metadata": {},
   "outputs": [],
   "source": [
    "data_ebill.shape"
   ]
  },
  {
   "cell_type": "code",
   "execution_count": null,
   "id": "6",
   "metadata": {},
   "outputs": [],
   "source": [
    "data_ebill.columns"
   ]
  },
  {
   "cell_type": "code",
   "execution_count": null,
   "id": "7",
   "metadata": {},
   "outputs": [],
   "source": [
    "data_ebill.dtypes"
   ]
  },
  {
   "cell_type": "code",
   "execution_count": null,
   "id": "8",
   "metadata": {},
   "outputs": [],
   "source": [
    "data_ebill.info()"
   ]
  },
  {
   "cell_type": "code",
   "execution_count": null,
   "id": "9",
   "metadata": {},
   "outputs": [],
   "source": [
    "data_ebill.Year = data_ebill.Year.astype(int).astype(str)\n",
    "data_ebill.head()"
   ]
  },
  {
   "cell_type": "code",
   "execution_count": null,
   "id": "10",
   "metadata": {},
   "outputs": [],
   "source": [
    "data_ebill['Standardized_Date'] = data_ebill['Month']+'-'+data_ebill['Year']\n",
    "data_ebill.head()"
   ]
  },
  {
   "cell_type": "code",
   "execution_count": null,
   "id": "11",
   "metadata": {},
   "outputs": [],
   "source": [
    "data_ebill['Standardized_Date'] = pd.to_datetime(data_ebill['Standardized_Date'])+ pd.offsets.MonthEnd(0)\n",
    "data_ebill.head()"
   ]
  },
  {
   "cell_type": "code",
   "execution_count": null,
   "id": "12",
   "metadata": {},
   "outputs": [],
   "source": [
    "data = pd.read_csv('final_data_in_ML.csv',index_col='Standardized_Date',parse_dates=True)\n",
    "data"
   ]
  },
  {
   "cell_type": "code",
   "execution_count": null,
   "id": "13",
   "metadata": {},
   "outputs": [],
   "source": [
    "data_month_start = data.resample('M').agg({'RAW WATER FLOW IN ML':'sum',\n",
    "                                   'CLEAR WATER SUMP LEVEL IN Meter':'mean',\n",
    "                                   'CLEAR WATER PUMPING FLOW ML':'sum',\n",
    "                                   'TREATED WATER PRODUCTION IN ML':'sum', 'remarks category':'unique'}).reset_index()\n",
    "data_month_start.head()"
   ]
  },
  {
   "cell_type": "code",
   "execution_count": null,
   "id": "14",
   "metadata": {},
   "outputs": [],
   "source": [
    "data_month_ebill = data_month_start.merge(data_ebill,on='Standardized_Date')\n",
    "data_month_ebill.shape"
   ]
  },
  {
   "cell_type": "code",
   "execution_count": null,
   "id": "15",
   "metadata": {},
   "outputs": [],
   "source": [
    "data_month_ebill = data_month_ebill[['Standardized_Date','RAW WATER FLOW IN ML',\n",
    "                                   'CLEAR WATER SUMP LEVEL IN Meter',\n",
    "                                   'CLEAR WATER PUMPING FLOW ML',\n",
    "                                   'TREATED WATER PRODUCTION IN ML','remarks category',\n",
    "                                    'Avg_Consumption (kWh)','Energy Charge','Units_kWh']]\n",
    "data_month_ebill"
   ]
  },
  {
   "cell_type": "code",
   "execution_count": null,
   "id": "16",
   "metadata": {},
   "outputs": [],
   "source": [
    "data_month_ebill.dtypes"
   ]
  },
  {
   "cell_type": "code",
   "execution_count": null,
   "id": "17",
   "metadata": {},
   "outputs": [],
   "source": [
    "data_month_ebill['Energy Charge'] = data_month_ebill['Energy Charge'].astype(float)"
   ]
  },
  {
   "cell_type": "code",
   "execution_count": null,
   "id": "18",
   "metadata": {},
   "outputs": [],
   "source": [
    "# data_month_ebill['charge_per_unit'] = data_month_ebill['Energy Charge']/ data_month_ebill['Units_kWh']"
   ]
  },
  {
   "cell_type": "code",
   "execution_count": null,
   "id": "19",
   "metadata": {},
   "outputs": [],
   "source": [
    "## Specific energy consumption: amount of units taken to produce 1ML of treated water\n",
    "# data_month_ebill['specific_energy_consumption'] = (data_month_ebill['Units_kWh']/data_month_ebill['TREATED WATER PRODUCTION IN ML']).round(2)\n",
    "## unit_cost: the cost for producing 1ML of treated water\n",
    "# data_month_ebill['unit_cost'] = (data_month_ebill['Energy Charge']/data_month_ebill['TREATED WATER PRODUCTION IN ML']).round(2)\n",
    "# data_month_ebill"
   ]
  },
  {
   "cell_type": "code",
   "execution_count": null,
   "id": "20",
   "metadata": {},
   "outputs": [],
   "source": [
    "data_month_ebill['Year'] = data_month_ebill['Standardized_Date'].dt.year\n",
    "data_month_ebill['Month'] = data_month_ebill['Standardized_Date'].dt.month\n",
    "data_month_ebill['Month-Year'] = data_month_ebill['Standardized_Date'].dt.strftime('%m-%Y')"
   ]
  },
  {
   "cell_type": "code",
   "execution_count": null,
   "id": "21",
   "metadata": {},
   "outputs": [],
   "source": [
    "data_month_ebill.head()"
   ]
  },
  {
   "cell_type": "code",
   "execution_count": null,
   "id": "22",
   "metadata": {},
   "outputs": [],
   "source": [
    "data_month_ebill.dtypes"
   ]
  },
  {
   "cell_type": "code",
   "execution_count": null,
   "id": "23",
   "metadata": {},
   "outputs": [],
   "source": [
    "# data_month_ebill1 = data_month_ebill.fillna(data_month_ebill.rolling(3, min_periods=1, center=True).mean())"
   ]
  },
  {
   "cell_type": "code",
   "execution_count": null,
   "id": "24",
   "metadata": {},
   "outputs": [],
   "source": [
    "# data_month_ebill == data_month_ebill1"
   ]
  },
  {
   "cell_type": "code",
   "execution_count": null,
   "id": "25",
   "metadata": {},
   "outputs": [],
   "source": [
    "plt.figure(figsize=(15,12))\n",
    "\n",
    "plt.subplot(2,2,1)\n",
    "plt.plot(data_month_ebill[data_month_ebill['Year']==2022]['Month'], data_month_ebill[data_month_ebill['Year']==2022]['Units_kWh'], label='Consumption', marker='o',color='g')\n",
    "plt.xticks(rotation=45)\n",
    "plt.title(\"2022\")\n",
    "plt.legend()\n",
    "\n",
    "plt.subplot(2,2,2)\n",
    "plt.plot(data_month_ebill[data_month_ebill['Year']==2022]['Month'], data_month_ebill[data_month_ebill['Year']==2022]['CLEAR WATER PUMPING FLOW ML'], label='Clear water pumping flow', marker='o',color='r')\n",
    "plt.xticks(rotation=45)\n",
    "plt.title(\"2022\")\n",
    "plt.legend()\n",
    "\n",
    "plt.subplot(2,2,3)\n",
    "plt.plot(data_month_ebill[data_month_ebill['Year']==2023]['Month'], data_month_ebill[data_month_ebill['Year']==2023]['Units_kWh'], label='Consumption', marker='o',color='b')\n",
    "plt.xticks(rotation=45)\n",
    "plt.title(\"2023\")\n",
    "plt.legend()\n",
    "\n",
    "plt.subplot(2,2,4)\n",
    "plt.plot(data_month_ebill[data_month_ebill['Year']==2023]['Month'], data_month_ebill[data_month_ebill['Year']==2023]['CLEAR WATER PUMPING FLOW ML'], label='Clear water pumping flow', marker='o',color='y')\n",
    "plt.xticks(rotation=45)\n",
    "plt.title(\"2023\")\n",
    "plt.legend()\n",
    "\n",
    "plt.show()"
   ]
  },
  {
   "cell_type": "code",
   "execution_count": null,
   "id": "26",
   "metadata": {},
   "outputs": [],
   "source": [
    "import plotly.express as px"
   ]
  },
  {
   "cell_type": "code",
   "execution_count": null,
   "id": "27",
   "metadata": {},
   "outputs": [],
   "source": [
    "x = data_month_ebill[data_month_ebill['Year']==2022]['Month']\n",
    "y1 = (data_month_ebill[data_month_ebill['Year']==2022]['Units_kWh'])/100\n",
    "y2 = data_month_ebill[data_month_ebill['Year']==2022]['CLEAR WATER PUMPING FLOW ML']\n",
    "\n",
    "fig = px.bar(data_month_ebill, x=x, y=[y1, y2], barmode='group') #title='Raw Water Pumped during various zones in ML')\n",
    "fig.show()"
   ]
  },
  {
   "cell_type": "code",
   "execution_count": null,
   "id": "28",
   "metadata": {},
   "outputs": [],
   "source": [
    "from sklearn import preprocessing\n",
    "scaler = preprocessing.MinMaxScaler()"
   ]
  },
  {
   "cell_type": "code",
   "execution_count": null,
   "id": "29",
   "metadata": {},
   "outputs": [],
   "source": [
    "# data_month_ebill[['Clear Water Pumping scale', 'Consumption scale']] = scaler.fit_transform(data_month_ebill[['CLEAR WATER PUMPING FLOW ML', 'Units_kWh']])"
   ]
  },
  {
   "cell_type": "code",
   "execution_count": null,
   "id": "30",
   "metadata": {},
   "outputs": [],
   "source": [
    "data_month_ebill"
   ]
  },
  {
   "cell_type": "code",
   "execution_count": null,
   "id": "31",
   "metadata": {},
   "outputs": [],
   "source": [
    "data_month_ebill.to_csv('data_month_ebill_cleaned.csv',index=False)"
   ]
  },
  {
   "cell_type": "code",
   "execution_count": null,
   "id": "32",
   "metadata": {},
   "outputs": [],
   "source": [
    "data_ebill_2022 = data_month_ebill[data_month_ebill['Year']==2022]\n",
    "# y1 = data_month_ebill[data_month_ebill['Year']==2022]['Consumption scale']\n",
    "# y2 = data_month_ebill[data_month_ebill['Year']==2022]['Clear Water Pumping scale']\n",
    "fig = px.bar(data_ebill_2022, x='Month', y=['Consumption scale', 'Clear Water Pumping scale'], barmode='group') #title='Raw Water Pumped during various zones in ML')\n",
    "\n",
    "fig.show()"
   ]
  },
  {
   "cell_type": "code",
   "execution_count": null,
   "id": "33",
   "metadata": {},
   "outputs": [],
   "source": [
    "data_ebill_2022 = data_month_ebill[data_month_ebill['Year']==2023]\n",
    "# y1 = data_month_ebill[data_month_ebill['Year']==2022]['Consumption scale']\n",
    "# y2 = data_month_ebill[data_month_ebill['Year']==2022]['Clear Water Pumping scale']\n",
    "fig = px.bar(data_ebill_2022, x='Month', y=['Consumption scale', 'Clear Water Pumping scale'], barmode='group') #title='Raw Water Pumped during various zones in ML')\n",
    "\n",
    "fig.show()"
   ]
  },
  {
   "cell_type": "code",
   "execution_count": null,
   "id": "34",
   "metadata": {},
   "outputs": [],
   "source": [
    "data_ebill_2022_2023 = data_month_ebill[(data_month_ebill['Year']==2022)|(data_month_ebill['Year']==2023)]\n",
    "fig = px.bar(data_ebill_2022_2023, x='Month-Year', y=['Consumption scale', 'Clear Water Pumping scale'], barmode='group') #title='Raw Water Pumped during various zones in ML')\n",
    "\n",
    "fig.show()"
   ]
  },
  {
   "cell_type": "code",
   "execution_count": null,
   "id": "35",
   "metadata": {},
   "outputs": [],
   "source": [
    "data_ebill_2022_2023 = data_month_ebill[(data_month_ebill['Year']==2022)|(data_month_ebill['Year']==2023)]\n",
    "fig = px.bar(data_ebill_2022_2023, x='Month-Year', y=['Consumption scale', 'Clear Water Pumping scale'], barmode='group') #title='Raw Water Pumped during various zones in ML')\n",
    "\n",
    "fig.show()"
   ]
  },
  {
   "cell_type": "code",
   "execution_count": null,
   "id": "36",
   "metadata": {},
   "outputs": [],
   "source": [
    "sorted_data = data_month_ebill.sort_values(by='CLEAR WATER PUMPING FLOW ML')\n",
    "\n",
    "fig = px.line(sorted_data, x=\"CLEAR WATER PUMPING FLOW ML\", y=\"Units_kWh\", hover_data=['Standardized_Date','RAW WATER FLOW IN ML'])\n",
    "fig.show()"
   ]
  },
  {
   "cell_type": "code",
   "execution_count": null,
   "id": "37",
   "metadata": {},
   "outputs": [],
   "source": [
    "data_month_ebill.dtypes"
   ]
  },
  {
   "cell_type": "code",
   "execution_count": null,
   "id": "38",
   "metadata": {},
   "outputs": [],
   "source": [
    "data[(data.index>='2022-03-01')&(data.index<'2022-04-01')&(data['remarks category']!='No remarks')].shape"
   ]
  },
  {
   "cell_type": "code",
   "execution_count": null,
   "id": "39",
   "metadata": {},
   "outputs": [],
   "source": [
    "data[(data.index>='2022-04-01')&(data.index<'2022-05-01')&(data['remarks category']!='No remarks')]#.shape"
   ]
  },
  {
   "cell_type": "code",
   "execution_count": null,
   "id": "40",
   "metadata": {},
   "outputs": [],
   "source": [
    "data[(data.index>='2023-10-01')&(data.index<'2023-11-01')&(data['remarks category']!='No remarks')].shape"
   ]
  },
  {
   "cell_type": "code",
   "execution_count": null,
   "id": "41",
   "metadata": {},
   "outputs": [],
   "source": [
    "data[(data.index>='2023-12-01')&(data.index<'2024-01-01')&(data['remarks category']!='No remarks')].shape"
   ]
  },
  {
   "cell_type": "code",
   "execution_count": null,
   "id": "42",
   "metadata": {},
   "outputs": [],
   "source": [
    "plt.figure(figsize=(10,8))\n",
    "plt.plot(data_month_ebill[data_month_ebill['Standardized_Date']<'2023-01-01']['Standardized_Date'], (data_month_ebill[data_month_ebill['Standardized_Date']<'2023-01-01']['Units_kWh'])/100, label='consumption', marker='o',color='g')\n",
    "plt.plot(data_month_ebill[data_month_ebill['Standardized_Date']<'2023-01-01']['Standardized_Date'], data_month_ebill[data_month_ebill['Standardized_Date']<'2023-01-01']['CLEAR WATER PUMPING FLOW ML'], label='clear water', marker='o',color='r')\n",
    "plt.legend()\n",
    "plt.xticks(rotation=45)"
   ]
  },
  {
   "cell_type": "code",
   "execution_count": null,
   "id": "43",
   "metadata": {},
   "outputs": [],
   "source": [
    "plt.figure(figsize=(10,8))\n",
    "plt.plot(data_month_ebill[(data_month_ebill['Standardized_Date']>='2023-01-01')&(data_month_ebill['Standardized_Date']<'2024-01-01')]['Standardized_Date'], (data_month_ebill[(data_month_ebill['Standardized_Date']>='2023-01-01')&(data_month_ebill['Standardized_Date']<'2024-01-01')]['Units_kWh'])/100, label='consumption', marker='o',color='b')\n",
    "plt.plot(data_month_ebill[(data_month_ebill['Standardized_Date']>='2023-01-01')&(data_month_ebill['Standardized_Date']<'2024-01-01')]['Standardized_Date'], data_month_ebill[(data_month_ebill['Standardized_Date']>='2023-01-01')&(data_month_ebill['Standardized_Date']<'2024-01-01')]['CLEAR WATER PUMPING FLOW ML'], label='clear water', marker='o',color='y')\n",
    "plt.legend()\n",
    "plt.xticks(rotation=45)"
   ]
  },
  {
   "cell_type": "code",
   "execution_count": null,
   "id": "44",
   "metadata": {},
   "outputs": [],
   "source": [
    "plt.plot(data_month_ebill[data_month_ebill['Standardized_Date']<'2023-01-01']['Standardized_Date'], data_month_ebill[data_month_ebill['Standardized_Date']<'2023-01-01']['CLEAR WATER PUMPING FLOW ML'], label='CLEAR WATER PUMPING FLOW ML', marker='o',color='g')\n",
    "plt.ylabel('clear water pumping flow in ML')\n",
    "plt.xticks(rotation=45)\n",
    "plt.show()"
   ]
  },
  {
   "cell_type": "code",
   "execution_count": null,
   "id": "45",
   "metadata": {},
   "outputs": [],
   "source": []
  },
  {
   "cell_type": "code",
   "execution_count": null,
   "id": "46",
   "metadata": {},
   "outputs": [],
   "source": []
  },
  {
   "cell_type": "code",
   "execution_count": null,
   "id": "47",
   "metadata": {},
   "outputs": [],
   "source": []
  },
  {
   "cell_type": "code",
   "execution_count": null,
   "id": "48",
   "metadata": {},
   "outputs": [],
   "source": [
    "Specific energy consumption = kwh/treated water\n",
    "unit cost = cost/treated water"
   ]
  }
 ],
 "metadata": {
  "kernelspec": {
   "display_name": "Python 3 (ipykernel)",
   "language": "python",
   "name": "python3"
  },
  "language_info": {
   "codemirror_mode": {
    "name": "ipython",
    "version": 3
   },
   "file_extension": ".py",
   "mimetype": "text/x-python",
   "name": "python",
   "nbconvert_exporter": "python",
   "pygments_lexer": "ipython3",
   "version": "3.11.5"
  }
 },
 "nbformat": 4,
 "nbformat_minor": 5
}

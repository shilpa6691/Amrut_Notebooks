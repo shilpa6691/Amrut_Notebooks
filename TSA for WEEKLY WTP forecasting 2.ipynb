{
 "cells": [
  {
   "cell_type": "code",
   "execution_count": null,
   "id": "0",
   "metadata": {},
   "outputs": [],
   "source": [
    "import pandas as pd"
   ]
  },
  {
   "cell_type": "code",
   "execution_count": null,
   "id": "1",
   "metadata": {},
   "outputs": [],
   "source": [
    "#Loading dataset"
   ]
  },
  {
   "cell_type": "code",
   "execution_count": null,
   "id": "2",
   "metadata": {},
   "outputs": [],
   "source": [
    "df=pd.read_csv('Cleaned_Pattuvam_historic_data_till_July.csv')"
   ]
  },
  {
   "cell_type": "code",
   "execution_count": null,
   "id": "3",
   "metadata": {},
   "outputs": [],
   "source": [
    "df"
   ]
  },
  {
   "cell_type": "code",
   "execution_count": null,
   "id": "4",
   "metadata": {},
   "outputs": [],
   "source": [
    "df=df[['DATETIME','TREATED WATER PRODUCTION IN ML','REMARKS']]"
   ]
  },
  {
   "cell_type": "code",
   "execution_count": null,
   "id": "5",
   "metadata": {},
   "outputs": [],
   "source": [
    "df.dtypes"
   ]
  },
  {
   "cell_type": "code",
   "execution_count": null,
   "id": "6",
   "metadata": {},
   "outputs": [],
   "source": [
    "df['DATETIME'] = pd.to_datetime(df['DATETIME'])"
   ]
  },
  {
   "cell_type": "code",
   "execution_count": null,
   "id": "7",
   "metadata": {},
   "outputs": [],
   "source": [
    "df.set_index('DATETIME',inplace=True)"
   ]
  },
  {
   "cell_type": "markdown",
   "id": "8",
   "metadata": {},
   "source": [
    "# Weekly Resampling"
   ]
  },
  {
   "cell_type": "code",
   "execution_count": null,
   "id": "9",
   "metadata": {},
   "outputs": [],
   "source": [
    "df = df.resample('D').sum(numeric_only=True)\n",
    "df"
   ]
  },
  {
   "cell_type": "code",
   "execution_count": null,
   "id": "10",
   "metadata": {},
   "outputs": [],
   "source": [
    "df = df.resample('W')['TREATED WATER PRODUCTION IN ML'].sum()\n",
    "df = df.reset_index()\n",
    "df = df.set_index('DATETIME')\n",
    "df"
   ]
  },
  {
   "cell_type": "code",
   "execution_count": null,
   "id": "11",
   "metadata": {},
   "outputs": [],
   "source": [
    "import matplotlib.pyplot as plt\n",
    "from pylab import rcParams\n",
    "%matplotlib inline\n",
    "plt.figure('MONTHLY TREATED WATER PRODUCTION ')\n",
    "plt.xlabel('DATETIME')\n",
    "plt.ylabel('TREATED WATER PRODUCTION IN ML')\n",
    "plt.plot(df)\n",
    "# plt.figure(figsize=(1000, 600))\n",
    "rcParams['figure.figsize'] = [70, 50] \n",
    "# plt.rcParams['figure.figsize'] = 12, 8\n",
    "\n",
    "plt.show()"
   ]
  },
  {
   "cell_type": "code",
   "execution_count": null,
   "id": "12",
   "metadata": {},
   "outputs": [],
   "source": [
    "from pylab import rcParams\n",
    "import matplotlib.pyplot as plt\n",
    "import statsmodels.api as sm\n",
    "rcParams['figure.figsize'] = 12, 8\n",
    "\n",
    "decomposition = sm.tsa.seasonal_decompose(df['TREATED WATER PRODUCTION IN ML'], model='additive')\n",
    "\n",
    "\n",
    "fig = decomposition.plot()\n",
    "\n",
    "plt.show()"
   ]
  },
  {
   "cell_type": "code",
   "execution_count": null,
   "id": "13",
   "metadata": {},
   "outputs": [],
   "source": [
    "df.plot()"
   ]
  },
  {
   "cell_type": "code",
   "execution_count": null,
   "id": "14",
   "metadata": {},
   "outputs": [],
   "source": [
    "from statsmodels.tsa.stattools import adfuller\n",
    "adfuller_result = adfuller(df, autolag='AIC')\n",
    "\n",
    "print('ADF Statistic:', adfuller_result[0])\n",
    "\n",
    "print('p-value:', adfuller_result[1])\n",
    "\n",
    "print('Num of lags:', adfuller_result[2])\n",
    "\n",
    "for key, value in adfuller_result[4].items():\n",
    "    print('Critial Values:')\n",
    "    print(f'   {key}, {value}')\n",
    "print(f'Inference: The time series is {\"non-\" if adfuller_result[1]>= 0.05 else \"\"}stationary')\n"
   ]
  },
  {
   "cell_type": "code",
   "execution_count": null,
   "id": "15",
   "metadata": {},
   "outputs": [],
   "source": [
    "import numpy as np, pandas as pd\n",
    "from statsmodels.graphics.tsaplots import plot_acf, plot_pacf\n",
    "import matplotlib.pyplot as plt\n",
    "plt.rcParams.update({'figure.figsize':(9,7), 'figure.dpi':120})\n",
    "\n",
    "\n",
    "# Original Series\n",
    "fig, axes = plt.subplots(3, 2, sharex=True)\n",
    "axes[0, 0].plot(df['TREATED WATER PRODUCTION IN ML']); axes[0, 0].set_title('Original Series')\n",
    "plot_acf((df['TREATED WATER PRODUCTION IN ML']), ax=axes[0, 1])\n",
    "\n",
    "# 1st Differencing\n",
    "axes[1, 0].plot((df['TREATED WATER PRODUCTION IN ML']).diff()); axes[1, 0].set_title('1st Order Differencing')\n",
    "plot_acf((df['TREATED WATER PRODUCTION IN ML']).diff().dropna(), ax=axes[1, 1])\n",
    "\n",
    "# 2nd Differencing\n",
    "axes[2, 0].plot((df['TREATED WATER PRODUCTION IN ML']).diff().diff()); axes[2, 0].set_title('2nd Order Differencing')\n",
    "plot_acf((df['TREATED WATER PRODUCTION IN ML']).diff().diff().dropna(), ax=axes[2, 1])\n",
    "\n",
    "plt.show()"
   ]
  },
  {
   "cell_type": "code",
   "execution_count": null,
   "id": "16",
   "metadata": {},
   "outputs": [],
   "source": [
    "from pmdarima.arima.utils import ndiffs\n",
    "y = df['TREATED WATER PRODUCTION IN ML']\n",
    "\n",
    "## Adf Test\n",
    "# ndiffs(y, test='adf')  # 1\n",
    "\n",
    "# KPSS test\n",
    "ndiffs(y, test='kpss')  # 1\n",
    "\n",
    "# PP test:\n",
    "ndiffs(y, test='pp')  # 0"
   ]
  },
  {
   "cell_type": "code",
   "execution_count": null,
   "id": "17",
   "metadata": {},
   "outputs": [],
   "source": [
    "\n",
    "df_diff=df.diff()\n",
    "df_diff=df_diff.dropna()\n",
    "adfuller_result = adfuller(df_diff, autolag='AIC')\n",
    "\n",
    "print('ADF Statistic:', adfuller_result[0])\n",
    "\n",
    "print('p-value:', adfuller_result[1])\n",
    "\n",
    "print('Num of lags:', adfuller_result[2])\n",
    "\n",
    "for key, value in adfuller_result[4].items():\n",
    "    print('Critial Values:')\n",
    "    print(f'   {key}, {value}')\n",
    "print(f'Inference: The time series is {\"non-\" if adfuller_result[1]>= 0.05 else \"\"}stationary')\n",
    "\n"
   ]
  },
  {
   "cell_type": "code",
   "execution_count": null,
   "id": "18",
   "metadata": {},
   "outputs": [],
   "source": [
    "# to find p\n",
    "import matplotlib.pyplot as plt\n",
    "from statsmodels.graphics.tsaplots import plot_pacf\n",
    "\n",
    "# Plot partial autocorrelation\n",
    "plt.rc(\"figure\", figsize=(11,5))\n",
    "nobs = len(df_diff['TREATED WATER PRODUCTION IN ML'])\n",
    "max_lags = nobs // 2 - 1  # Ensure nlags is less than 50% of sample size\n",
    "plot_pacf(df_diff['TREATED WATER PRODUCTION IN ML'], method='ywm', lags=max_lags)\n",
    "\n",
    "plt.xlabel('Lags', fontsize=18)\n",
    "plt.ylabel('Correlation', fontsize=18)\n",
    "plt.xticks(fontsize=18)\n",
    "plt.yticks(fontsize=18)\n",
    "plt.title('Partial Autocorrelation Plot', fontsize=20)\n",
    "plt.tight_layout()\n",
    "plt.show()"
   ]
  },
  {
   "cell_type": "code",
   "execution_count": null,
   "id": "19",
   "metadata": {},
   "outputs": [],
   "source": [
    "from statsmodels.tsa.ar_model import AutoReg, ar_select_order\n",
    "selector = ar_select_order(df_diff['TREATED WATER PRODUCTION IN ML'], maxlag=2)\n",
    "print(selector.ar_lags)"
   ]
  },
  {
   "cell_type": "code",
   "execution_count": null,
   "id": "20",
   "metadata": {},
   "outputs": [],
   "source": [
    "# to find q\n",
    "import matplotlib.pyplot as plt\n",
    "from statsmodels.graphics.tsaplots import plot_acf\n",
    "\n",
    "# Plot autocorrelation\n",
    "plt.rc(\"figure\", figsize=(11,5))\n",
    "plot_acf(df_diff['TREATED WATER PRODUCTION IN ML'])\n",
    "plt.xlabel('Lags', fontsize=18)\n",
    "plt.ylabel('Correlation', fontsize=18)\n",
    "plt.xticks(fontsize=18)\n",
    "plt.yticks(fontsize=18)\n",
    "plt.title('Autocorrelation Plot', fontsize=20)\n",
    "plt.tight_layout()\n",
    "plt.show()"
   ]
  },
  {
   "cell_type": "code",
   "execution_count": null,
   "id": "21",
   "metadata": {},
   "outputs": [],
   "source": [
    "import pmdarima as pm\n",
    "import numpy as np\n",
    "\n",
    "# Use auto_arima to find the best MA(q) model\n",
    "model = pm.auto_arima(df_diff, start_p=0, start_q=0, max_p=0, \n",
    "                      seasonal=False, stepwise=True, trace=True,\n",
    "                      error_action='ignore', suppress_warnings=True, \n",
    "                      information_criterion='aic')\n",
    "\n",
    "print(f\"Optimal Order (q): {model.order[2]}\")\n",
    "print(model.summary())\n"
   ]
  },
  {
   "cell_type": "code",
   "execution_count": null,
   "id": "22",
   "metadata": {},
   "outputs": [],
   "source": [
    "# (0,0,0) - 139.180\n",
    "# (0,1,0) -117.275\n",
    "# (0,0,1) - 113.\n",
    "# (0,1,1) -63.294\n",
    "# (1,0,0) -89.982\n",
    "# (1,1,0) -76.550\n",
    "# (1,0,1) - 64.436\n",
    "# (1,1,1) -63.796\n",
    "# (2,0,0) - 70.610\n",
    "# (2,0,1) - 64.641\n",
    "# (2,1,0) - 66.213\n",
    "# (2,1,1) - 65.386\n",
    "from statsmodels.tsa.arima.model import ARIMA,ARIMAResults\n",
    "\n",
    "# 0,1,0 ARIMA Model\n",
    "model = ARIMA(df['TREATED WATER PRODUCTION IN ML'], order=(0,0,0))\n",
    "model_fit = model.fit()\n",
    "print(model_fit.summary())\n",
    "\n",
    "from statsmodels.tsa.arima.model import ARIMA,ARIMAResults\n",
    "\n",
    "# 0,1,0 ARIMA Model\n",
    "model = ARIMA(df['TREATED WATER PRODUCTION IN ML'], order=(1,0,1))\n",
    "model_fit = model.fit()\n",
    "print(model_fit.summary())"
   ]
  },
  {
   "cell_type": "code",
   "execution_count": null,
   "id": "23",
   "metadata": {},
   "outputs": [],
   "source": [
    "import pmdarima as pm\n",
    "\n",
    "# Automatically fit the best ARIMA model\n",
    "model = pm.auto_arima(df, trace=True, suppress_warnings=True,max_p=3,max_q=2)\n",
    "\n",
    "# Print the summary of the best model\n",
    "print(model.summary())"
   ]
  },
  {
   "cell_type": "code",
   "execution_count": null,
   "id": "24",
   "metadata": {},
   "outputs": [],
   "source": [
    "df.tail(50)"
   ]
  },
  {
   "cell_type": "code",
   "execution_count": null,
   "id": "25",
   "metadata": {},
   "outputs": [],
   "source": [
    "from statsmodels.tsa.stattools import adfuller\n",
    "from pmdarima.arima import auto_arima\n",
    "from statsmodels.tsa.arima.model import ARIMA,ARIMAResults\n",
    "from sklearn.metrics import mean_squared_error,mean_absolute_percentage_error\n",
    "from statsmodels.tools.eval_measures import rmse\n",
    "from statsmodels.tsa.statespace.sarimax import SARIMAX\n",
    "import statsmodels.api as sm\n",
    "class TSA:\n",
    "    def __init__(self,df):\n",
    "        self.df = df\n",
    "        \n",
    "    def adf_test(self,valcol):\n",
    "        \"\"\"\n",
    "        Pass in a time series and an optional title, returns an ADF report\n",
    "        \"\"\"\n",
    "        result = adfuller(self.df[valcol].dropna(),autolag='AIC') # .dropna() handles differenced data\n",
    "    \n",
    "        labels = ['ADF test statistic','p-value','# lags used','# observations']\n",
    "        out = pd.Series(result[0:4],index=labels)\n",
    "\n",
    "        for key,val in result[4].items():\n",
    "            out[f'critical value ({key})']=val\n",
    "        \n",
    "        print(out.to_string())          # .to_string() removes the line \"dtype: float64\"\n",
    "    \n",
    "        if result[1] <= 0.05:\n",
    "            print(\"Strong evidence against the null hypothesis\")\n",
    "            print(\"Reject the null hypothesis\")\n",
    "            print(\"Data has no unit root and is stationary\")\n",
    "            state = \"Stationary\"\n",
    "        else:\n",
    "            print(\"Weak evidence against the null hypothesis\")\n",
    "            print(\"Fail to reject the null hypothesis\")\n",
    "            print(\"Data has a unit root and is non-stationary\")\n",
    "            state = \"Non-stationary\"\n",
    "        if state == \"Stationary\":\n",
    "            return \"Yes\"\n",
    "        else:\n",
    "            return \"No\"\n",
    "    def determine_ARIMA_order(self,valcol):\n",
    "        stepwise_fit = auto_arima(self.df[valcol],start_p=1, start_q=1,max_p=3,max_q=3,trace=True,\n",
    "                          error_action='ignore',   # we don't want to know if an order does not work\n",
    "                          suppress_warnings=True,  # we don't want convergence warnings\n",
    "                          stepwise=True)           # set to stepwise\n",
    "        \n",
    "#         print(stepwise_fit.summary())\n",
    "# #         \n",
    "        best_order = stepwise_fit.get_params().get('order')\n",
    "#         best_order= (1,1,1)\n",
    "        print('The best order is {}'.format(best_order))\n",
    "        return best_order\n",
    "    def fit_model(self,valcol):\n",
    "#         if len(self.df[valcol]) > 70:\n",
    "#         train = self.df[valcol][:len(self.df[valcol])-8]\n",
    "#         test = self.df[valcol][len(self.df[valcol])-8:len(self.df[valcol])-4]\n",
    "#         val = self.df[valcol][len(self.df[valcol])-4:]\n",
    "        # Assuming 'valcol' is the column name containing the data\n",
    "        train = self.df[self.df.index < '2024-01-07'][valcol]\n",
    "        val = self.df[(self.df.index >= '2024-01-07') & (self.df.index <= '2024-05-05')][valcol]\n",
    "        test = self.df[self.df.index > '2024-05-05'][valcol]\n",
    "\n",
    "\n",
    "#             train = self.df[valcol][:len(self.df[valcol])-8]\n",
    "#             test = self.df[valcol][len(self.df[valcol])-8:len(self.df[valcol])-4]\n",
    "#             val = self.df[valcol][len(self.df[valcol])-4:]\n",
    "        start = len(train)\n",
    "        end = len(train)+len(test)-1\n",
    "#             print('train : {}'.format(train))\n",
    "#             print('test : {}'.format(test))\n",
    "        print('start : {}'.format(start))\n",
    "        print('end : {}'.format(end))\n",
    "#         results = ARIMA(train,order=c1.determine_ARIMA_order(valcol)).fit()\n",
    "        results = ARIMA(train,order=c1.determine_ARIMA_order(valcol),trend='t').fit()\n",
    "        predictions = results.predict(start=start, end=end)\n",
    "        predictions_val = results.predict(start=end+1, end=len(train)+len(test)+len(val)-1)\n",
    "        error1 = mean_squared_error(test, predictions)\n",
    "        error2 = rmse(test, predictions)\n",
    "        error3 = mean_absolute_percentage_error(test,predictions)\n",
    "        accuracy = (1-error3)*100\n",
    "        print(f'MSE Error: {error1:11.10}')\n",
    "        print(f'RMSE Error: {error2:11.10}')\n",
    "        print(f'MAPE Error: {error3:11.10}')\n",
    "        print(f'Accuracy: {accuracy:11.10}')\n",
    "#         return start, len(test)\n",
    "        model_results = {\"Model\":\"ARIMA\",\"Stationary\": c1.adf_test(valcol),\"X_train\": str(len(train))+\" Weeks\", \"X_test\": str(len(test))+\" Weeks\", \"X_validation\": str(len(val))+\" Weeks\", \"ARIMA_order\": c1.determine_ARIMA_order(valcol), \"MSE\": error1,\"RMSE\": error2,\"MAPE\":error3, \"Accuracy\":((1-error3)*100).round(0)}\n",
    "#         with open('TSA_AQI_model_result_new.json','a') as f:\n",
    "#             f.write(str(model_results)+',')\n",
    "#             f.close()\n",
    "        return predictions_val\n",
    "        \n",
    "            \n",
    "    def full_data_model(self,valcol):\n",
    "        results = ARIMA(self.df[valcol],order=c1.determine_ARIMA_order(valcol)).fit()\n",
    "#         if len(self.df[valcol]) > 70:\n",
    "        fcast = results.predict(len(self.df), len(self.df)+3,typ='levels').round(2)\n",
    "#         else:\n",
    "#             fcast = results.predict(len(self.df), len(self.df)+3,typ='levels').round(2)\n",
    "#         ax = self.df[valcol].plot(legend=True,figsize=(12,6))\n",
    "#         fcast.plot(legend=True)\n",
    "        print(fcast)\n",
    "#         error_rmse = rmse(self.df[valcol],fcast[0:len(self.df)])\n",
    "#         error_mse = mean_squared_error(self.df[valcol],fcast[0:len(self.df)])\n",
    "        DF = pd.DataFrame(self.df[valcol])\n",
    "        DF['Type'] = 'Actual'\n",
    "#         DF = DF.reset_index()\n",
    "        DF_fcast = pd.DataFrame(fcast)\n",
    "        DF_fcast['Type'] = 'Predicted'\n",
    "        DF_fcast = DF_fcast.rename(columns={'predicted_mean':valcol})\n",
    "        final_DF = pd.concat([DF,DF_fcast])\n",
    "        final_DF = final_DF.reset_index()\n",
    "#         DF_fcast = DF_fcast.rename(columns={'predicted_mean':'Predicted', 'index':'DateTime'})\n",
    "        DF_val = pd.DataFrame(c1.fit_model(valcol))\n",
    "        DF_val = DF_val.reset_index()\n",
    "        DF_val = DF_val.rename(columns={'index':'Date','predicted_mean':'Validation'})\n",
    "        final_DF = final_DF.rename(columns={'index':'Date'})\n",
    "        print(DF_val)\n",
    "        print(final_DF)\n",
    "#         final_DF =  final_DF.merge(DF_val, on='DateTime',how='outer')\n",
    "        final_DF =  final_DF.merge(DF_val, on='Date',how='outer')\n",
    "        final_DF['Date'] = final_DF['Date'].astype('str')\n",
    "        print(final_DF)\n",
    "        print(final_DF.tail(50))\n",
    "        \n",
    "c1 = TSA(df)\n",
    "c1.adf_test(\"TREATED WATER PRODUCTION IN ML\")\n",
    "c1.determine_ARIMA_order(\"TREATED WATER PRODUCTION IN ML\")\n",
    "c1.fit_model(\"TREATED WATER PRODUCTION IN ML\")\n",
    "c1.full_data_model(\"TREATED WATER PRODUCTION IN ML\")"
   ]
  },
  {
   "cell_type": "code",
   "execution_count": null,
   "id": "26",
   "metadata": {},
   "outputs": [],
   "source": [
    "#  results.plot_diagnostics(figsize=(7,5))\n",
    "#         plt.show()\n",
    "\n",
    "#  print(final_DF)\n",
    "#         plt.figure(figsize=(10,5))\n",
    "#         plt.plot(DF[\"TREATED WATER PRODUCTION IN m3/h\"],label='Actual');\n",
    "#         plt.plot(DF_fcast[\"TREATED WATER PRODUCTION IN m3/h\"],label='Predicted');\n",
    "#         plt.legend(loc='best')"
   ]
  },
  {
   "cell_type": "code",
   "execution_count": null,
   "id": "27",
   "metadata": {},
   "outputs": [],
   "source": [
    "len(df)"
   ]
  },
  {
   "cell_type": "code",
   "execution_count": null,
   "id": "28",
   "metadata": {},
   "outputs": [],
   "source": [
    "order=(0,1,1)\n",
    "\n",
    "model=ARIMA(endog=df,order=order)\n",
    "fit=model.fit()\n",
    "fit.summary()"
   ]
  },
  {
   "cell_type": "code",
   "execution_count": null,
   "id": "29",
   "metadata": {},
   "outputs": [],
   "source": []
  }
 ],
 "metadata": {
  "kernelspec": {
   "display_name": "Python 3 (ipykernel)",
   "language": "python",
   "name": "python3"
  },
  "language_info": {
   "codemirror_mode": {
    "name": "ipython",
    "version": 3
   },
   "file_extension": ".py",
   "mimetype": "text/x-python",
   "name": "python",
   "nbconvert_exporter": "python",
   "pygments_lexer": "ipython3",
   "version": "3.11.5"
  }
 },
 "nbformat": 4,
 "nbformat_minor": 5
}

{
 "cells": [
  {
   "cell_type": "code",
   "execution_count": null,
   "id": "0",
   "metadata": {},
   "outputs": [],
   "source": [
    "import numpy as np\n",
    "import pandas as pd\n",
    "import datetime\n",
    "import matplotlib.pyplot as plt\n",
    "import seaborn as sns"
   ]
  },
  {
   "cell_type": "code",
   "execution_count": null,
   "id": "1",
   "metadata": {},
   "outputs": [],
   "source": [
    "#Loading dataset"
   ]
  },
  {
   "cell_type": "code",
   "execution_count": null,
   "id": "2",
   "metadata": {},
   "outputs": [],
   "source": [
    "df=pd.read_excel(\"JICA Pattuvam Data full.xlsx\")\n",
    "df"
   ]
  },
  {
   "cell_type": "code",
   "execution_count": null,
   "id": "3",
   "metadata": {},
   "outputs": [],
   "source": [
    "df[df['REMARKS']=='Maintenance Work at Intake']"
   ]
  },
  {
   "cell_type": "code",
   "execution_count": null,
   "id": "4",
   "metadata": {},
   "outputs": [],
   "source": [
    "def understand_data(data) :\n",
    "    \n",
    "    return(pd.DataFrame({\"Datatype\":data.dtypes,\n",
    "                         \"No of NAs\":data.isna().sum(),\n",
    "                         \"No of unique elements\":data.nunique()}))\n",
    "understand_data(df)"
   ]
  },
  {
   "cell_type": "code",
   "execution_count": null,
   "id": "5",
   "metadata": {},
   "outputs": [],
   "source": [
    "df['DATE'] = pd.to_datetime(df['DATE'],errors='coerce')"
   ]
  },
  {
   "cell_type": "code",
   "execution_count": null,
   "id": "6",
   "metadata": {},
   "outputs": [],
   "source": [
    "df['CLEAR WATER SUMP LEVEL IN M'].unique()"
   ]
  },
  {
   "cell_type": "code",
   "execution_count": null,
   "id": "7",
   "metadata": {},
   "outputs": [],
   "source": [
    "df[df['CLEAR WATER SUMP LEVEL IN M']=='...']"
   ]
  },
  {
   "cell_type": "code",
   "execution_count": null,
   "id": "8",
   "metadata": {},
   "outputs": [],
   "source": [
    "df[df['CLEAR WATER SUMP LEVEL IN M']=='......']"
   ]
  },
  {
   "cell_type": "code",
   "execution_count": null,
   "id": "9",
   "metadata": {},
   "outputs": [],
   "source": [
    "df[df['CLEAR WATER SUMP LEVEL IN M']=='....']"
   ]
  },
  {
   "cell_type": "code",
   "execution_count": null,
   "id": "10",
   "metadata": {},
   "outputs": [],
   "source": [
    "def convert_to_float(value):\n",
    "    try:\n",
    "        # Convert to float, handle different string formatting\n",
    "        if isinstance(value,str):\n",
    "            # Replace commas with dots for decimal places\n",
    "            value = value.replace(',', '.')  \n",
    "            value = value.replace(';', '.')\n",
    "            value = value.replace('.,', '.')\n",
    "            value = value.replace('..', '.')\n",
    "            \n",
    "            # Replace multiple dots with single dot\n",
    "            value = value.replace('..', '.')  \n",
    "            \n",
    "            # Replace apostrophe with dot\n",
    "            value = value.replace(\"'\", \".\")\n",
    "            \n",
    "            # Remove dot at the end if present\n",
    "            if value.endswith('.'):\n",
    "                value = value[:-1]\n",
    "                \n",
    "            if value.count('.') > 1:\n",
    "                # Replace all dots except the first one\n",
    "                value = value.replace('.', '', value.count('.') - 1)\n",
    "            \n",
    "   \n",
    "            value = float(value)\n",
    "            \n",
    "        return value\n",
    "    except (ValueError, TypeError):\n",
    "        return np.nan  # Return NaN if conversion fails\n",
    "\n",
    "df['CLEAR WATER SUMP LEVEL IN M'] = df['CLEAR WATER SUMP LEVEL IN M'].apply(convert_to_float)\n",
    "\n",
    "\n",
    "df.isna().sum()\n"
   ]
  },
  {
   "cell_type": "code",
   "execution_count": null,
   "id": "11",
   "metadata": {},
   "outputs": [],
   "source": [
    "\n",
    "float_values = []\n",
    "for value in df['RAW WATER FLOW IN m3/h\\t']:\n",
    "    if isinstance(value, str):\n",
    "        try:\n",
    "            # Remove any spaces and other unexpected characters\n",
    "            value = value.replace(' ', '.').replace('/', '.')\n",
    "            # Convert to float\n",
    "            float_value = float(value)\n",
    "        except (ValueError, TypeError):\n",
    "            print(f\"Could not convert {value} to float\")\n",
    "            float_value = np.nan\n",
    "    else:\n",
    "        float_value = value  # keep the original float value\n",
    "\n",
    "    float_values.append(float_value)\n",
    "\n",
    "df['RAW WATER FLOW IN m3/h\\t'] = float_values\n",
    "\n",
    "\n",
    "df.isna().sum()"
   ]
  },
  {
   "cell_type": "code",
   "execution_count": null,
   "id": "12",
   "metadata": {},
   "outputs": [],
   "source": [
    "# float_values = []\n",
    "# for value in df['CLEAR WATER PUMPING FLOW m3/h']:\n",
    "#     if isinstance(value, str):\n",
    "#         try:\n",
    "#             # Remove any spaces and other unexpected characters\n",
    "#             value = value.replace(',', '.').replace('/', '.')\n",
    "#             value = value.replace('..', '.').replace('/', '.')\n",
    "#             value = value.replace(' ', '.').replace('/', '.')\n",
    "#             # Remove dot at the end if present\n",
    "#             if value.endswith('.'):\n",
    "#                 value = value[:-1]\n",
    "#             # Convert to float\n",
    "#             float_value = float(value)\n",
    "#         except (ValueError, TypeError):\n",
    "#             print(f\"Could not convert {value} to float\")\n",
    "#             float_value = np.nan\n",
    "#     else:\n",
    "#         float_value = value  # keep the original float value\n",
    "\n",
    "#     float_values.append(float_value)\n",
    "\n",
    "# df['CLEAR WATER PUMPING FLOW m3/h'] = float_values\n",
    "\n",
    "\n",
    "# df.isna().sum()"
   ]
  },
  {
   "cell_type": "code",
   "execution_count": null,
   "id": "13",
   "metadata": {},
   "outputs": [],
   "source": [
    "import numpy as np\n",
    "\n",
    "float_values = []\n",
    "\n",
    "for value in df['CLEAR WATER PUMPING FLOW m3/h']:\n",
    "    if isinstance(value, str):\n",
    "        try:\n",
    "            # Remove any non-numeric characters except the first period\n",
    "            value = ''.join(char if char.isdigit() or char == '.' else '' for char in value)\n",
    "            \n",
    "            # Handle cases where there are multiple periods (keep only the first one)\n",
    "            if value.count('.') > 1:\n",
    "                first_dot_index = value.find('.')\n",
    "                value = value[:first_dot_index + 1] + value[first_dot_index + 1:].replace('.', '')\n",
    "                \n",
    "            # Remove trailing period\n",
    "            if value.endswith('.'):\n",
    "                value = value[:-1]\n",
    "                \n",
    "            # Convert to float\n",
    "            float_value = float(value)\n",
    "        except (ValueError, TypeError):\n",
    "            print(f\"Could not convert {value} to float\")\n",
    "            float_value = np.nan\n",
    "    else:\n",
    "        float_value = value  # keep the original float value\n",
    "\n",
    "    float_values.append(float_value)\n",
    "\n",
    "df['CLEAR WATER PUMPING FLOW m3/h'] = float_values\n",
    "\n",
    "# Display the number of NaN values\n",
    "df.isna().sum()\n"
   ]
  },
  {
   "cell_type": "code",
   "execution_count": null,
   "id": "14",
   "metadata": {},
   "outputs": [],
   "source": [
    "df.dtypes"
   ]
  },
  {
   "cell_type": "code",
   "execution_count": null,
   "id": "15",
   "metadata": {},
   "outputs": [],
   "source": [
    "df['DATE'].bfill(inplace=True)\n",
    "df['TREATED WATER PRODUCTION IN m3/h'].fillna('NO DATA', inplace=True)\n",
    "df['RAW WATER FLOW IN m3/h\\t'].fillna('NO DATA', inplace=True)\n",
    "df['CLEAR WATER SUMP LEVEL IN M'].fillna('NO DATA', inplace=True)\n",
    "df['CLEAR WATER PUMPING FLOW m3/h'].fillna('NO DATA', inplace=True)\n",
    "df['REMARKS'].fillna('No Remarks', inplace=True)\n",
    "\n",
    "df.isnull().sum()"
   ]
  },
  {
   "cell_type": "code",
   "execution_count": null,
   "id": "16",
   "metadata": {},
   "outputs": [],
   "source": [
    "df.dtypes"
   ]
  },
  {
   "cell_type": "code",
   "execution_count": null,
   "id": "17",
   "metadata": {},
   "outputs": [],
   "source": [
    "df.rename(columns={'RAW WATER FLOW IN m3/h\\t': 'RAW WATER FLOW IN m3/h'}, inplace=True)\n",
    "flow_in_ML= ['RAW WATER FLOW IN m3/h','CLEAR WATER PUMPING FLOW m3/h',\n",
    "       'TREATED WATER PRODUCTION IN m3/h','CLEAR WATER SUMP LEVEL IN M']\n",
    "df[flow_in_ML] = df[flow_in_ML].apply(pd.to_numeric, errors='coerce')\n",
    "df[flow_in_ML]= df[flow_in_ML]*0.001\n",
    "df.rename(columns={'RAW WATER FLOW IN m3/h': 'RAW WATER FLOW IN ML','CLEAR WATER PUMPING FLOW m3/h':'CLEAR WATER PUMPING FLOW ML','TREATED WATER PRODUCTION IN m3/h':'TREATED WATER PRODUCTION IN ML'}, inplace=True)"
   ]
  },
  {
   "cell_type": "code",
   "execution_count": null,
   "id": "18",
   "metadata": {},
   "outputs": [],
   "source": [
    "columns_of_interest = [\n",
    "    'RAW WATER FLOW IN ML',\n",
    "    'CLEAR WATER SUMP LEVEL IN M',\n",
    "    'CLEAR WATER PUMPING FLOW ML',\n",
    "    'TREATED WATER PRODUCTION IN ML'\n",
    "]\n",
    "\n",
    "for col in columns_of_interest:\n",
    "    mean = df[col].mean()\n",
    "    std_dev = df[col].std()\n",
    "    \n",
    "    # Calculate lower and upper bounds using Z-score method\n",
    "    lower_limit = mean - 3 * std_dev  \n",
    "    upper_limit = mean + 3 * std_dev \n",
    "    \n",
    "    # Identify outliers\n",
    "    outliers_before = df[(df[col] < lower_limit) | (df[col] > upper_limit)]\n",
    "    \n",
    "    # Print outliers before ffill\n",
    "    print(f\"Column: {col}\")\n",
    "    print(f\"Lower Limit: {lower_limit}\")\n",
    "    print(f\"Upper Limit: {upper_limit}\")\n",
    "    print('No. of outliers before ffill:', len(outliers_before))\n",
    "    print(outliers_before)\n",
    "    print(\"\\n\")\n",
    "    \n",
    "    # Forward fill outliers\n",
    "    df.loc[outliers_before.index, col] = np.nan\n",
    "    df[col] = df[col].ffill()\n",
    "    \n",
    "    # Identify outliers after ffill\n",
    "    outliers_after = df[(df[col] < lower_limit) | (df[col] > upper_limit)]\n",
    "    \n",
    "    # Print outliers after ffill\n",
    "    print('No. of outliers after ffill:', len(outliers_after))\n",
    "    print(outliers_after)\n",
    "    print(\"\\n\")\n",
    "    \n"
   ]
  },
  {
   "cell_type": "code",
   "execution_count": null,
   "id": "19",
   "metadata": {},
   "outputs": [],
   "source": [
    "df.dtypes"
   ]
  },
  {
   "cell_type": "code",
   "execution_count": null,
   "id": "20",
   "metadata": {},
   "outputs": [],
   "source": [
    "df['DATE'] = pd.to_datetime(df['DATE'],errors='coerce')\n",
    "df['YEAR'] = df['DATE'].dt.year\n",
    "df['MONTH'] = df['DATE'].dt.month \n",
    "df['MONTH-YEAR'] = df['DATE'].dt.strftime('%m-%Y')"
   ]
  },
  {
   "cell_type": "code",
   "execution_count": null,
   "id": "21",
   "metadata": {},
   "outputs": [],
   "source": [
    "categories = {\n",
    "    'Power Failure': ['Power Failure', 'Power failure', 'power failure', 'Power Failure at Intake', 'Power failure at intake', 'Power failure at Intake', 'power failed @9.45 to 2.25', 'power failed @9.45 to 2.26', 'power failed @9.45 to 2.27', 'power failed @9.45 to 2.28', 'power failed @9.45 to 2.29', 'power failed @9.45 to 2.30', 'Power failure @ intake', 'Permitted power failure.', 'power failure at 7.28 to 7.36 pm', 'Power failure at WTP', 'power failur', 'power failuire at intake', 'power failure at wtp 6.03 to6.40am', 'Power failure at intakeand WTP', 'voltage fluctation at intake', \n",
    "                      'Pumping stopped due to power failure at intake','under voltage'],\n",
    "    'Maintenance': ['Maintenance Work at Intake', 'Pumping stopped due to maintenance at Thaliparamba', 'Pumping stopped due to maintenance work at Intake', 'distribution line maintanance', 'Gravity line air valve maintenance', 'Distribution line maintanance', 'stopped for maintanance', 'Pumping stopped due to pipe line maintanance at taliparamba', 'Pumping stopped for maintanance work & NHAI work.'],\n",
    "    'Cleaning': ['intake chamber cleaning', 'Pumping stopped due to Intake chamber cleaning', 'Intake chamber cleaning', 'intake backwash', 'Pumping Stoped Due to permitted Power failure at intake', 'Pumping stopped due to  Intake chamber cleaning', 'channel cieaning', 'stopped due to intake backwash', 'intake back wash', 'inlet chamber cleaning'],\n",
    "    'Others': ['Energy Auditing', 'Pumping Stoped due to intake Sump Level Low', 'Pumping Stopped due to intake Sump Level Low',  'RW pumping stopped', 'Raw Water Reading not available due to PLC complaint.'],\n",
    "    'No Remarks':['No Remarks']}\n",
    "def categorize_remark(remark):\n",
    "    for category, keywords in categories.items():\n",
    "        if any(keyword in str(remark) for keyword in keywords):\n",
    "            return category\n",
    "    return 'Others'\n",
    "\n",
    "df['Remark Category'] = df['REMARKS'].apply(categorize_remark)"
   ]
  },
  {
   "cell_type": "code",
   "execution_count": null,
   "id": "22",
   "metadata": {},
   "outputs": [],
   "source": [
    "df['Remark Category'].value_counts()"
   ]
  },
  {
   "cell_type": "code",
   "execution_count": null,
   "id": "23",
   "metadata": {},
   "outputs": [],
   "source": [
    "df.dtypes"
   ]
  },
  {
   "cell_type": "code",
   "execution_count": null,
   "id": "24",
   "metadata": {},
   "outputs": [],
   "source": [
    "df[df.duplicated()]"
   ]
  },
  {
   "cell_type": "code",
   "execution_count": null,
   "id": "25",
   "metadata": {},
   "outputs": [],
   "source": [
    "df[\"TIME\"].unique()"
   ]
  },
  {
   "cell_type": "code",
   "execution_count": null,
   "id": "26",
   "metadata": {},
   "outputs": [],
   "source": [
    "df['TIME'] = df['TIME'].astype(str)"
   ]
  },
  {
   "cell_type": "code",
   "execution_count": null,
   "id": "27",
   "metadata": {},
   "outputs": [],
   "source": [
    "def convert_time(time_str):\n",
    "    parts = time_str.split()\n",
    "    print(parts)\n",
    "    print(len(parts))\n",
    "    print(len(parts[0]))\n",
    "    if len(parts) == 1:\n",
    "        if len(parts[0]) == 1:\n",
    "            return f'0{parts[0]}:00:00'\n",
    "        elif len(parts[0]) == 2:\n",
    "            print(len(parts[0]))\n",
    "            return f'{parts[0]}:00:00'\n",
    "    elif len(parts) == 2:\n",
    "        return f'{parts[0]}:{parts[1]}:00'\n",
    "    return time_str\n",
    "df['TIME']= df['TIME'].apply(convert_time)"
   ]
  },
  {
   "cell_type": "code",
   "execution_count": null,
   "id": "28",
   "metadata": {},
   "outputs": [],
   "source": [
    "df[\"TIME\"].unique()"
   ]
  },
  {
   "cell_type": "code",
   "execution_count": null,
   "id": "29",
   "metadata": {},
   "outputs": [],
   "source": [
    "df['DATETIME'] = pd.to_datetime(df['DATE'].astype(str) + ' ' + df['TIME'].astype(str))\n",
    "df['HOUR'] = df['DATETIME'].dt.hour"
   ]
  },
  {
   "cell_type": "code",
   "execution_count": null,
   "id": "30",
   "metadata": {},
   "outputs": [],
   "source": [
    "df"
   ]
  },
  {
   "cell_type": "code",
   "execution_count": null,
   "id": "31",
   "metadata": {},
   "outputs": [],
   "source": [
    "df.to_excel('cleaned_pattuvam_data.xlsx',index=False)"
   ]
  },
  {
   "cell_type": "code",
   "execution_count": null,
   "id": "32",
   "metadata": {},
   "outputs": [],
   "source": []
  }
 ],
 "metadata": {
  "kernelspec": {
   "display_name": "Python 3 (ipykernel)",
   "language": "python",
   "name": "python3"
  },
  "language_info": {
   "codemirror_mode": {
    "name": "ipython",
    "version": 3
   },
   "file_extension": ".py",
   "mimetype": "text/x-python",
   "name": "python",
   "nbconvert_exporter": "python",
   "pygments_lexer": "ipython3",
   "version": "3.11.5"
  }
 },
 "nbformat": 4,
 "nbformat_minor": 5
}

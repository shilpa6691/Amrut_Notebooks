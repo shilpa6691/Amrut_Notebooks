{
 "cells": [
  {
   "cell_type": "code",
   "execution_count": null,
   "id": "0",
   "metadata": {},
   "outputs": [],
   "source": [
    "import numpy as np\n",
    "import pandas as pd\n",
    "import datetime\n",
    "import matplotlib.pyplot as plt\n",
    "import seaborn as sns\n",
    "import re\n",
    "from datetime import datetime"
   ]
  },
  {
   "cell_type": "code",
   "execution_count": null,
   "id": "1",
   "metadata": {},
   "outputs": [],
   "source": [
    "#Loading dataset"
   ]
  },
  {
   "cell_type": "code",
   "execution_count": null,
   "id": "2",
   "metadata": {},
   "outputs": [],
   "source": [
    "df=pd.read_csv('All_Errors_Corrected.csv',parse_dates=['Standardized_Date'])\n",
    "df"
   ]
  },
  {
   "cell_type": "code",
   "execution_count": null,
   "id": "3",
   "metadata": {},
   "outputs": [],
   "source": [
    "# Change the value at index 3355\n",
    "df.loc[3355, 'RAW WATER FLOW IN m3/h'] = 3489.25\n",
    "\n",
    "# Change the value at index 6791\n",
    "df.loc[6791, 'RAW WATER FLOW IN m3/h'] = 2411.58\n"
   ]
  },
  {
   "cell_type": "code",
   "execution_count": null,
   "id": "4",
   "metadata": {},
   "outputs": [],
   "source": [
    "def raw_water_outlier_ffill(data, column_name1, column_name2, column_name3, threshold=4000):\n",
    " \n",
    "    # Adjusting values in column_name1 based on the threshold\n",
    "    for i in range(1, len(data)):\n",
    "        if data.loc[i, column_name1] >= threshold:\n",
    "            data.loc[i, column_name1] = data.loc[i, column_name1] * 0.1\n",
    "            data.loc[i, 'TREATED WATER PRODUCTION IN m3/h'] = (data.loc[i, column_name1] * 0.967).round(2)\n",
    "    \n",
    "    # Forward fill for column_name2 if value > 5\n",
    "    for i in range(1, len(data)):\n",
    "        if data.loc[i, column_name2] > 5:\n",
    "            data.loc[i, column_name2] = data.loc[i - 1, column_name2]\n",
    "    \n",
    "    # Adjusting values in column_name3\n",
    "    for i in range(1, len(data)):\n",
    "        if data.loc[i, column_name3] > threshold:\n",
    "            # For specific indices, perform forward fill\n",
    "            if i in [6976,1757,21314, 21315, 21316]:\n",
    "                data.loc[i, column_name3] = data.loc[i - 1, column_name3]\n",
    "            else:\n",
    "                # Check the number of digits\n",
    "                value_str = str(int(data.loc[i, column_name3]))  # Convert to string for digit length check\n",
    "                if len(value_str) == 6:\n",
    "                    data.loc[i, column_name3] = data.loc[i, column_name3] * 0.01\n",
    "                elif len(value_str) == 5:\n",
    "                    data.loc[i, column_name3] = data.loc[i, column_name3] * 0.1\n",
    "                    \n",
    "    return data\n"
   ]
  },
  {
   "cell_type": "code",
   "execution_count": null,
   "id": "5",
   "metadata": {},
   "outputs": [],
   "source": [
    "def raw_water_outlier_ffill(data, column_name1,column_name2,column_name3, threshold=4000):\n",
    " \n",
    "    for i in range(1, len(data)):\n",
    "        # If the value is greater than the threshold\n",
    "        if data.loc[i, column_name1] >= threshold:\n",
    "            # Forward fill using the previous value\n",
    "            data.loc[i, column_name1] = data.loc[i, column_name1] * 0.1\n",
    "            \n",
    "            data.loc[i,'TREATED WATER PRODUCTION IN m3/h'] = (data.loc[i, column_name1]*0.967).round(2)\n",
    "    for i in range(1, len(data)):\n",
    "        # If the value is greater than the threshold\n",
    "        if data.loc[i, column_name2] > 5:\n",
    "            # Forward fill using the previous value\n",
    "            data.loc[i, column_name2] = data.loc[i-1, column_name2]\n",
    "            \n",
    "    for i in range(1, len(data)):\n",
    "        # If the value is greater than the threshold\n",
    "        if data.loc[i, column_name3] > threshold:\n",
    "            \n",
    "            # Forward fill using the previous value\n",
    "            data.loc[i, column_name3] = data.loc[i-1, column_name3]\n",
    "    return data\n"
   ]
  },
  {
   "cell_type": "code",
   "execution_count": null,
   "id": "6",
   "metadata": {},
   "outputs": [],
   "source": [
    "df = raw_water_outlier_ffill(df, 'RAW WATER FLOW IN m3/h','CLEAR WATER SUMP LEVEL IN Meter','CLEAR WATER PUMPING FLOW m3/h')\n",
    "df"
   ]
  },
  {
   "cell_type": "code",
   "execution_count": null,
   "id": "7",
   "metadata": {},
   "outputs": [],
   "source": [
    "df[11:15]"
   ]
  },
  {
   "cell_type": "code",
   "execution_count": null,
   "id": "8",
   "metadata": {},
   "outputs": [],
   "source": [
    "columns_of_interest = [\n",
    "    'RAW WATER FLOW IN m3/h',\n",
    "    'CLEAR WATER SUMP LEVEL IN Meter',\n",
    "    'CLEAR WATER PUMPING FLOW m3/h',\n",
    "    'TREATED WATER PRODUCTION IN m3/h'\n",
    "]\n",
    "\n",
    "for col in columns_of_interest:\n",
    "    mean = df[col].mean()\n",
    "    std_dev = df[col].std()\n",
    "    \n",
    "    # Calculate lower and upper bounds using Z-score method\n",
    "    lower_limit = mean - 3 * std_dev  \n",
    "    upper_limit = mean + 3 * std_dev \n",
    "    \n",
    "    # Identify outliers in the column\n",
    "    outliers_before = df[(df[col] > upper_limit)][col]\n",
    "    \n",
    "    # Print column and bounds\n",
    "    print(f\"Column: {col}\")\n",
    "    print(f\"Lower Limit: {lower_limit}\")\n",
    "    print(f\"Upper Limit: {upper_limit}\")\n",
    "    print(f\"No. of outliers: {len(outliers_before)}\")\n",
    "    print(outliers_before)\n",
    "    print(\"\\n\")\n",
    "    \n",
    "    # Find above and below index values for each outlier\n",
    "    for index in outliers_before.index:\n",
    "        above_index = index - 1 if index > 0 else None\n",
    "        below_index = index + 1 if index < len(df) - 1 else None\n",
    "\n",
    "        # Print outlier index and value\n",
    "        print(f\"Outlier index: {index}, Value: {df.at[index, col]}\")\n",
    "\n",
    "        # Print above index and value if it exists\n",
    "        if above_index is not None:\n",
    "            print(f\"Above index: {above_index}, Value: {df.at[above_index, col]}\")\n",
    "        else:\n",
    "            print(\"No row above this outlier (first row).\")\n",
    "\n",
    "        # Print below index and value if it exists\n",
    "        if below_index is not None:\n",
    "            print(f\"Below index: {below_index}, Value: {df.at[below_index, col]}\")\n",
    "        else:\n",
    "            print(\"No row below this outlier (last row).\")\n",
    "\n",
    "        print(\"\\n\")\n"
   ]
  },
  {
   "cell_type": "code",
   "execution_count": null,
   "id": "9",
   "metadata": {},
   "outputs": [],
   "source": [
    "max_values_df = df['CLEAR WATER PUMPING FLOW m3/h'].sort_values(ascending=False).to_frame()\n",
    "max_values_df[:60]#.to_excel('clear_water_pumping_flow_outliers.xlsx')"
   ]
  },
  {
   "cell_type": "code",
   "execution_count": null,
   "id": "10",
   "metadata": {},
   "outputs": [],
   "source": [
    "df[21313:21317]"
   ]
  },
  {
   "cell_type": "code",
   "execution_count": null,
   "id": "11",
   "metadata": {},
   "outputs": [],
   "source": []
  }
 ],
 "metadata": {
  "kernelspec": {
   "display_name": "Python 3 (ipykernel)",
   "language": "python",
   "name": "python3"
  },
  "language_info": {
   "codemirror_mode": {
    "name": "ipython",
    "version": 3
   },
   "file_extension": ".py",
   "mimetype": "text/x-python",
   "name": "python",
   "nbconvert_exporter": "python",
   "pygments_lexer": "ipython3",
   "version": "3.11.5"
  }
 },
 "nbformat": 4,
 "nbformat_minor": 5
}

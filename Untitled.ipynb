{
 "cells": [
  {
   "cell_type": "code",
   "execution_count": null,
   "id": "0",
   "metadata": {},
   "outputs": [],
   "source": [
    "import pandas as pd\n",
    "from statsmodels.tsa.statespace.sarimax import SARIMAX\n",
    "from statsmodels.tsa.seasonal import seasonal_decompose\n",
    "from pmdarima import auto_arima"
   ]
  },
  {
   "cell_type": "code",
   "execution_count": null,
   "id": "1",
   "metadata": {},
   "outputs": [],
   "source": [
    "#Loading dataset"
   ]
  },
  {
   "cell_type": "code",
   "execution_count": null,
   "id": "2",
   "metadata": {},
   "outputs": [],
   "source": [
    "df=pd.read_csv(\"final_data_in_ML.csv\",parse_dates=['Standardized_Date'])\n",
    "df"
   ]
  },
  {
   "cell_type": "code",
   "execution_count": null,
   "id": "3",
   "metadata": {},
   "outputs": [],
   "source": [
    "df['DATETIME'] = pd.to_datetime(df['Standardized_Date'].astype(str) + ' ' + df['STANDARDIZED_TIME'].astype(str))\n",
    "df.dtypes"
   ]
  },
  {
   "cell_type": "code",
   "execution_count": null,
   "id": "4",
   "metadata": {},
   "outputs": [],
   "source": [
    "df=df[['DATETIME','CLEAR WATER PUMPING FLOW ML','REMARKS']]\n",
    "df.set_index('DATETIME', inplace=True)\n",
    "df"
   ]
  },
  {
   "cell_type": "code",
   "execution_count": null,
   "id": "5",
   "metadata": {},
   "outputs": [],
   "source": [
    "df_daily = df.resample('W').sum(numeric_only=True)\n",
    "df_daily"
   ]
  },
  {
   "cell_type": "code",
   "execution_count": null,
   "id": "6",
   "metadata": {},
   "outputs": [],
   "source": [
    "df_2022=df_daily.loc['2022']\n",
    "df_2022.plot()"
   ]
  },
  {
   "cell_type": "code",
   "execution_count": null,
   "id": "7",
   "metadata": {},
   "outputs": [],
   "source": [
    "df_2023=df_daily.loc['2023']\n",
    "df_2023.plot()"
   ]
  },
  {
   "cell_type": "code",
   "execution_count": null,
   "id": "8",
   "metadata": {},
   "outputs": [],
   "source": [
    "from statsmodels.tsa.stattools import adfuller\n",
    "result = adfuller(df_daily['CLEAR WATER PUMPING FLOW ML'].dropna(),autolag='AIC') # .dropna() handles differenced data\n",
    "\n",
    "labels = ['Adf_daily test statistic','p-value','# lags used','# observations']\n",
    "out = pd.Series(result[0:4],index=labels)\n",
    "\n",
    "for key,val in result[4].items():\n",
    "    out[f'critical value ({key})']=val\n",
    "\n",
    "print(out.to_string())          # .to_string() removes the line \"dtype: float64\"\n",
    "\n",
    "if result[1] <= 0.05:\n",
    "    print(\"Strong evidence against the null hypothesis\")\n",
    "    print(\"Reject the null hypothesis\")\n",
    "    print(\"Data has no unit root and is stationary\")\n",
    "    state = \"Stationary\"\n",
    "else:\n",
    "    print(\"Weak evidence against the null hypothesis\")\n",
    "    print(\"Fail to reject the null hypothesis\")\n",
    "    print(\"Data has a unit root and is non-stationary\")\n",
    "    state = \"Non-stationary\""
   ]
  },
  {
   "cell_type": "code",
   "execution_count": null,
   "id": "9",
   "metadata": {},
   "outputs": [],
   "source": [
    "from statsmodels.tsa.stattools import adfuller\n",
    "\n",
    "def find_order_of_differencing(series, max_d=2):\n",
    "    \"\"\" Automatically find the order of differencing (d) that makes the series stationary \"\"\"\n",
    "    d = 0  # Start with no differencing\n",
    "    \n",
    "    # Perform the ADF test on the original series\n",
    "    result = adfuller(series.dropna(), autolag='AIC')\n",
    "    \n",
    "    # Check if the original series is stationary\n",
    "    if result[1] <= 0.05:\n",
    "        print(f\"Data is already stationary at d={d}\")\n",
    "        return d\n",
    "    \n",
    "    # Apply differencing iteratively\n",
    "    while d < max_d:\n",
    "        d += 1\n",
    "        series_diff = series.diff(d).dropna()  # Apply d-th order differencing\n",
    "        \n",
    "        # Perform ADF test on differenced data\n",
    "        result_diff = adfuller(series_diff, autolag='AIC')\n",
    "        \n",
    "        if result_diff[1] <= 0.05:\n",
    "            print(f\"Data is stationary after {d} order differencing (d={d})\")\n",
    "            return d\n",
    "        else:\n",
    "            print(f\"Data is still non-stationary at d={d}\")\n",
    "    \n",
    "    print(f\"Max differencing reached (d={max_d}) without stationarity\")\n",
    "    return d  # Return the maximum d attempted if no stationarity is found\n",
    "\n",
    "# Example usage:\n",
    "series = df_daily['CLEAR WATER PUMPING FLOW ML']  # Replace with your actual time series column\n",
    "d_value = find_order_of_differencing(series)\n",
    "print(f\"Optimal value of d: {d_value}\")\n"
   ]
  },
  {
   "cell_type": "code",
   "execution_count": null,
   "id": "10",
   "metadata": {},
   "outputs": [],
   "source": [
    "# import itertools\n",
    "# from statsmodels.tsa.arima.model import ARIMA\n",
    "\n",
    "# # Define the range of p, d, q values to try\n",
    "# p = range(0, 5)  # Try values from 0 to 4 for p\n",
    "# d = [d_value]    # Use the differencing order found previously\n",
    "# q = range(0, 5)  # Try values from 0 to 4 for q\n",
    "\n",
    "# # Generate all possible combinations of p, d, q values\n",
    "# pdq_combinations = list(itertools.product(p, d, q))\n",
    "\n",
    "# # Search for the best ARIMA model based on AIC\n",
    "# best_aic = float('inf')\n",
    "# best_order = None\n",
    "\n",
    "# for param in pdq_combinations:\n",
    "#     try:\n",
    "#         model = ARIMA(df_daily['CLEAR WATER PUMPING FLOW ML'], order=param)\n",
    "#         model_fit = model.fit()\n",
    "#         aic = model_fit.aic\n",
    "        \n",
    "#         if aic < best_aic:\n",
    "#             best_aic = aic\n",
    "#             best_order = param\n",
    "#     except:\n",
    "#         continue\n",
    "\n",
    "# print(f'Best ARIMA order based on AIC: {best_order} with AIC={best_aic}')\n"
   ]
  },
  {
   "cell_type": "code",
   "execution_count": null,
   "id": "11",
   "metadata": {},
   "outputs": [],
   "source": [
    "# import pmdarima as pm\n",
    "# model = pm.auto_arima(df_daily['CLEAR WATER PUMPING FLOW ML'],seasonal=True,\n",
    "#                           start_p=0, start_q=0,max_order=4,test='adf',trace=True,\n",
    "#                           error_action='ignore',   # we don't want to know if an order does not work\n",
    "#                           suppress_warnings=True,  # we don't want convergence warnings\n",
    "#                           stepwise=True)           # set to stepwise\n",
    "       \n",
    "# best_order = stepwise_fit.get_params().get('order')\n",
    "# print('The best order is {}'.format(best_order))\n",
    "# return best_order"
   ]
  },
  {
   "cell_type": "code",
   "execution_count": null,
   "id": "12",
   "metadata": {},
   "outputs": [],
   "source": [
    "import pmdarima as pm\n",
    "\n",
    "# Try different values of m\n",
    "for m_value in [7, 12, 52]:  # Try common seasonal periods\n",
    "    print(f\"Trying m = {m_value}\")\n",
    "    model = pm.auto_arima(df_daily['CLEAR WATER PUMPING FLOW ML'], seasonal=True, m=m_value, start_p=0, start_q=0, max_order=4, \n",
    "                          test='adf', trace=True, error_action='ignore', suppress_warnings=True, stepwise=True)\n",
    "    print(model.summary())\n"
   ]
  },
  {
   "cell_type": "code",
   "execution_count": null,
   "id": "13",
   "metadata": {},
   "outputs": [],
   "source": [
    "# Daily\n",
    "# ARIMA(2,0,0)(2,0,2)[7] intercept   : AIC=7327.873, Time=4.57 sec\n",
    "# ARIMA(1,0,1)(2,0,0)[12] intercept   : AIC=7342.371, Time=7.03 sec\n",
    "# ARIMA(3,0,1)(1,0,0)[52]             : AIC=7303.866, Time=14.97 sec\n",
    "\n",
    "# Monthly\n",
    "# ARIMA(2,2,1)(0,0,0)[7]             : AIC=417.601, Time=0.18 sec\n",
    "# ARIMA(2,2,0)(1,0,0)[12]             : AIC=415.457, Time=0.08 sec\n",
    "\n",
    "#Weekly\n",
    "# ARIMA(0,1,1)(0,0,0)[7]             : AIC=1540.688, Time=0.05 sec\n",
    "# ARIMA(0,1,1)(0,0,0)[12]             : AIC=1540.688, Time=0.06 sec\n",
    "# ARIMA(0,1,1)(0,0,0)[52]             : AIC=1540.688, Time=0.04 sec"
   ]
  },
  {
   "cell_type": "code",
   "execution_count": null,
   "id": "14",
   "metadata": {},
   "outputs": [],
   "source": [
    "# Best model:  ARIMA(2,0,0)(2,0,2)[7] intercept\n",
    "# Best model:  ARIMA(1,0,1)(2,0,0)[12] intercept"
   ]
  },
  {
   "cell_type": "code",
   "execution_count": null,
   "id": "15",
   "metadata": {},
   "outputs": [],
   "source": [
    "model.summary() "
   ]
  },
  {
   "cell_type": "code",
   "execution_count": null,
   "id": "16",
   "metadata": {},
   "outputs": [],
   "source": [
    "# train = df_daily['CLEAR WATER PUMPING FLOW ML'][:len(df_daily['CLEAR WATER PUMPING FLOW ML'])-4]\n",
    "# test = df_daily['CLEAR WATER PUMPING FLOW ML'][len(df_daily['CLEAR WATER PUMPING FLOW ML'])-4:]"
   ]
  },
  {
   "cell_type": "code",
   "execution_count": null,
   "id": "17",
   "metadata": {},
   "outputs": [],
   "source": [
    "# train.shape"
   ]
  },
  {
   "cell_type": "code",
   "execution_count": null,
   "id": "18",
   "metadata": {},
   "outputs": [],
   "source": [
    "# test.shape"
   ]
  },
  {
   "cell_type": "code",
   "execution_count": null,
   "id": "19",
   "metadata": {},
   "outputs": [],
   "source": [
    "# model.fit(train)"
   ]
  },
  {
   "cell_type": "code",
   "execution_count": null,
   "id": "20",
   "metadata": {},
   "outputs": [],
   "source": [
    "# forecast=model.predict(n_periods=4)\n",
    "# forecast"
   ]
  },
  {
   "cell_type": "code",
   "execution_count": null,
   "id": "21",
   "metadata": {},
   "outputs": [],
   "source": [
    "from statsmodels.tsa.arima.model import ARIMA,ARIMAResults\n",
    "from sklearn.metrics import mean_squared_error,mean_absolute_percentage_error\n",
    "from statsmodels.tools.eval_measures import rmse\n",
    "\n",
    "train = df_daily['CLEAR WATER PUMPING FLOW ML'][:len(df_daily['CLEAR WATER PUMPING FLOW ML'])-4]\n",
    "test = df_daily['CLEAR WATER PUMPING FLOW ML'][len(df_daily['CLEAR WATER PUMPING FLOW ML'])-4:]\n",
    "# val = df_daily['CLEAR WATER PUMPING FLOW ML'][len(df_daily['CLEAR WATER PUMPING FLOW ML'])-2:]\n",
    "\n",
    "start = len(train)\n",
    "end = len(train)+len(test)-1\n",
    "print(\"test\",test)\n",
    "\n",
    "# results = ARIMA(train,order=(3,2,3)).fit()\n",
    "results = model.fit(train)\n",
    "# predictions = results.predict(start=start, end=end).round(2)\n",
    "predictions = results.predict(n_periods=4)\n",
    "print(\"predictions\",predictions)\n",
    "# predictions_val = results.predict(start=end+1, end=len(train)+len(test)+len(val)-1).round(2)\n",
    "# predictions_val = results.predict(n_periods=2)\n",
    "# print(\"val\",val)\n",
    "# print(\"predictions_val\",predictions_val)\n",
    "\n",
    "\n",
    "error1 = mean_squared_error(test, predictions)\n",
    "error2 = rmse(test, predictions)\n",
    "error3 = mean_absolute_percentage_error(test,predictions)\n",
    "accuracy = (1-error3)*100\n",
    "print(f'MSE Error: {error1:11.10}')\n",
    "print(f'RMSE Error: {error2:11.10}')\n",
    "print(f'MAPE Error: {error3:11.10}')\n",
    "print(f'Accuracy: {accuracy:11.10}')"
   ]
  },
  {
   "cell_type": "code",
   "execution_count": null,
   "id": "22",
   "metadata": {},
   "outputs": [],
   "source": [
    "# Accuracy: 95.66054463\n",
    "# Accuracy:  96.3790015"
   ]
  },
  {
   "cell_type": "code",
   "execution_count": null,
   "id": "23",
   "metadata": {},
   "outputs": [],
   "source": [
    "valcol='CLEAR WATER PUMPING FLOW ML'\n",
    "# results = ARIMA(df_daily[valcol],order=(3,2,3)).fit()\n",
    "results = model.fit(df_daily)\n",
    "# fcast = results.predict(len(df_daily), len(df_daily)+3).round(2)\n",
    "fcast = results.predict(n_periods=4)\n",
    "\n",
    "DF = pd.DataFrame(df_daily[valcol])\n",
    "DF['Type'] = 'Actual'\n",
    "DF_fcast = pd.DataFrame(fcast)\n",
    "DF_fcast['Type'] = 'Predicted'\n",
    "\n",
    "DF_fcast = DF_fcast.rename(columns={'predicted_mean':valcol})\n",
    "final_DF = pd.concat([DF,DF_fcast])\n",
    "final_DF = final_DF.reset_index()\n",
    "\n",
    "# DF_val = pd.DataFrame(predictions_val)\n",
    "# DF_val = DF_val.reset_index()\n",
    "# DF_val = DF_val.rename(columns={'index':'Date','predicted_mean':'Validation'})\n",
    "final_DF = final_DF.rename(columns={'index':'Date'})\n",
    "# final_DF =  final_DF.merge(DF_val, on='Date',how='outer')\n",
    "print(final_DF.tail(60))"
   ]
  },
  {
   "cell_type": "code",
   "execution_count": null,
   "id": "24",
   "metadata": {},
   "outputs": [],
   "source": [
    "# Predicted  65.737006\n",
    "# 1003 2024-08-30                          NaN  Predicted  64.925104\n",
    "# 1004 2024-08-31                          NaN  Predicted  63.479085\n",
    "# 1005 2024-09-01                          NaN  Predicted  66.418586\n",
    "\n",
    "# 1002 2024-08-29                          NaN  Predicted  65.227239\n",
    "# 1003 2024-08-30                          NaN  Predicted  64.645529\n",
    "# 1004 2024-08-31                          NaN  Predicted  63.547374\n",
    "# 1005 2024-09-01                          NaN  Predicted  62.155024\n"
   ]
  }
 ],
 "metadata": {
  "kernelspec": {
   "display_name": "Python 3 (ipykernel)",
   "language": "python",
   "name": "python3"
  },
  "language_info": {
   "codemirror_mode": {
    "name": "ipython",
    "version": 3
   },
   "file_extension": ".py",
   "mimetype": "text/x-python",
   "name": "python",
   "nbconvert_exporter": "python",
   "pygments_lexer": "ipython3",
   "version": "3.11.5"
  }
 },
 "nbformat": 4,
 "nbformat_minor": 5
}

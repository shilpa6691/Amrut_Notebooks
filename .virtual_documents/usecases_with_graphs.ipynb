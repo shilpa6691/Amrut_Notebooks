import pandas as pd
import numpy as np
import plotly.express as px
import matplotlib.pyplot as plt


data = pd.read_csv('final_data_in_ML.csv',index_col='Standardized_Date',parse_dates=True)
data


data['remarks category'].value_counts()


data['remarks category'].unique()


import pandas as pd



# Function to standardize format
def standardize_remarks(remark):
    # Convert to lowercase and capitalize significant words
    remark = remark.lower().title()
    
    # Specific term replacements to ensure they stay in the desired format
    replacements = {
        "Wtp": "WTP",
        "At": "at",
        "And": "and",
        "Maintanance": "Maintenance"
    }
    
    for key, value in replacements.items():
        remark = remark.replace(key, value)
    
    # Final corrections for specific phrases
    corrections = {
#         "Power Failure At Intake": "Power Failure at Intake",
#         "Power Failure At Wtp": "Power Failure at WTP",
#         "Complaint At Wtp": "Complaint at WTP",
#         "Maintanance": "Maintenance",  # Correct spelling
        "Channel Cieaning": "Channel Cleaning"          # Correct spelling
    }
    
    for key, value in corrections.items():
        if key in remark:
            remark = value
    
    return remark

# Apply the standardization function
data['remarks category'] =data['remarks category'].apply(standardize_remarks)

data['remarks category']



import plotly.graph_objects as go

# Assuming 'data' is your DataFrame and 'remarks category' is the column name
# Exclude 'No Remarks' from the DataFrame
filtered_data = data[data['remarks category'] != 'No Remarks']

# Count the occurrences of each category
remarks_counts = filtered_data['remarks category'].value_counts()

# Prepare data (sort in descending order)
sorted_remarks = remarks_counts.sort_values()

# Create a horizontal bar graph
fig = go.Figure()

# Add horizontal bar trace with text for displaying counts
fig.add_trace(go.Bar(
    y=sorted_remarks.index,
    x=sorted_remarks.values,
    orientation='h',  # Horizontal bars
    marker=dict(color='blue'),
    text=sorted_remarks.values,  # Display count values
    textposition='auto'  # Position of text (auto will place it appropriately)
))

# Customize the layout
fig.update_layout(
    title="Downtime and Maintenance category",
    xaxis_title="Count",
    template="plotly_white"
)

# Show the plot
fig.show()



data.info()


data.columns





data_day = data.resample('D').agg({'RAW WATER FLOW IN ML':'sum',
                                   'CLEAR WATER SUMP LEVEL IN Meter':'mean',
                                   'CLEAR WATER PUMPING FLOW ML':'sum',
                                   'TREATED WATER PRODUCTION IN ML':'sum', 'remarks category':'unique'})


data_day





data_day['Recovery_percentage'] = ((data_day['TREATED WATER PRODUCTION IN ML']/data_day['RAW WATER FLOW IN ML'])*100).round(2)
data_day.shape


data_day.head()


data_day[data_day.Recovery_percentage.isna()]


data_day.Recovery_percentage.unique()


data_day.Recovery_percentage.fillna(0.0,inplace=True)
data_day[data_day.Recovery_percentage.isna()]


data_day.Recovery_percentage.unique()


data_day[data_day.Recovery_percentage>=100]


data_day[data_day.Recovery_percentage<96]


data_day = data_day.reset_index()
fig = px.line(data_day, x='Standardized_Date', y='Recovery_percentage',hover_data=['remarks category'],title='Recovery Percentage') #title='Raw Water Pumped during various zones in ML')

# Update line color to dark
fig.update_traces(line=dict(color='darkblue',width=4))
# Update the axis labels
fig.update_layout(
    xaxis_title='Month-Year',  # Change label for x-axis
    yaxis_title='Recovery Percentage (%)',  # Change label for y-axis
)
fig.show()
fig.write_html('Recovery_percentage.html')





data_day['Capacity_utilization'] = ((data_day['TREATED WATER PRODUCTION IN ML']/93)*100).round(2)
data_day.shape


data_day.head()


data_day[data_day['Capacity_utilization']>=100]


data_day['Capacity_utilization'].max()


data_day['Capacity_utilization'].min()


data_day[data_day['Capacity_utilization']==0.0]


data = data.reset_index()
data[data['Standardized_Date']=='2022-06-15']


data_day['Capacity_utilization'].nsmallest(60)


data_day[data_day['Capacity_utilization']!=0.0]['Capacity_utilization'].min()


data_day[data_day['Capacity_utilization']==10.5]


data_day = data_day.reset_index()
data_day['Year'] = data_day['Standardized_Date'].dt.year
data_day['Month'] = data_day['Standardized_Date'].dt.month


fig = px.line(data_day, x='Standardized_Date', y='Capacity_utilization',hover_data=['remarks category'],title='Average Capacity Utilization') #title='Raw Water Pumped during various zones in ML')
fig.update_traces(line=dict(color='darkgreen',width=4))
fig.update_layout(
    xaxis_title='Month-Year',  # Change label for x-axis
    yaxis_title='Capacity Utilization',  # Change label for y-axis
)
fig.show()
fig.write_html('capacity_utilization.html')


data_day['Year'] = data_day['Standardized_Date'].dt.year
data_day.Year = data_day.Year.astype(int).astype(str)

# Group by year
grouped_data = data_day.groupby('Year')['Capacity_utilization'].mean().reset_index()

# Plot using Plotly
fig = px.line(grouped_data, x='Year', y='Capacity_utilization', markers=True, 
              title='Average Capacity Utilization by Year')

# Update layout and show gridlines
fig.update_layout(
    xaxis_title='Year',
    yaxis_title='Capacity Utilization',
    title_x=0.5,
    xaxis=dict(showgrid=True),  # Enable grid for x-axis
    yaxis=dict(showgrid=True)   # Enable grid for y-axis
)
fig.update_traces(line=dict(color='darkblue',width=4))
fig.show()

# Save the plot as HTML
fig.write_html('capacity_utilization_yearwise.html')


# Group by year
grouped_data = data_day.groupby('Year')['Capacity_utilization'].mean().reset_index()

# Plot using Plotly with spline
fig = px.line(grouped_data, x='Year', y='Capacity_utilization', markers=True, 
              title='Average Capacity Utilization by Year')

# Update layout and show gridlines
fig.update_layout(
    xaxis_title='Year',
    yaxis_title='Capacity Utilization',
    title_x=0.5,
    xaxis=dict(showgrid=True),  # Enable grid for x-axis
    yaxis=dict(showgrid=True)   # Enable grid for y-axis
)

# Update traces to show a smooth spline line
fig.update_traces(line_shape='spline', line=dict(color='darkblue', width=4))

fig.show()






def plant_availability(remarks_category):
    if remarks_category == 'No remarks':
        return True
    else:
        return False


data['Hour'] = pd.to_datetime(data['STANDARDIZED_TIME']).dt.hour
data['Year'] = data['Standardized_Date'].dt.year
data['Month'] = data['Standardized_Date'].dt.month


data['plant status'] = data['remarks category'].apply(plant_availability)
data


# Get total hours in each month (days in month * 24 hours)
data['days_in_month'] = data['Standardized_Date'].dt.days_in_month
data['total_hours_in_month'] = data['days_in_month'] * 24
data


# Group by year and month and calculate total hours of operation (plant status is True)
df_monthly = data.groupby(['Year', 'Month']).agg(
    hours_of_operation=('plant status', 'sum'),  # Sum of True values (hours the plant was working)
    total_hours=('total_hours_in_month', 'first')  # Total hours in the month
).reset_index()
df_monthly


# Calculate plant availability
df_monthly['plant_availability'] = df_monthly['hours_of_operation'] / df_monthly['total_hours']
df_monthly


# Create a new column that combines 'Year' and 'Month'
df_monthly['Year-Month'] = df_monthly['Year'].astype(str) + '-' + df_monthly['Month'].astype(str).str.zfill(2)
df_monthly


fig = px.line(df_monthly, 
              x='Year-Month', y='plant_availability',
              title='Month wise Plant Availability',
              labels={'plant_availability': 'Plant Availability', 'Year-Month': 'Month-Year'},
              markers=True)
fig.update_traces(line=dict(color='darkred',width=4))
fig.show()
fig.write_html('Plant_availability_per_Month.html')





data.columns


def assign_shift(hour):
    if 6 <= hour < 14:
        return '1'
    elif 14 <= hour < 22:
        return '2'
    else:
        return '3'


data['Hour'] = pd.to_datetime(data['STANDARDIZED_TIME']).dt.hour


data.dtypes


data['Shift'] = data['Hour'].apply(assign_shift)
data


# data.set_index('Standardized_Date', inplace=True) 
# data_day = data.groupby('Shift').resample('D').agg({
#     'RAW WATER FLOW IN ML': 'sum',
#     'CLEAR WATER SUMP LEVEL IN Meter': 'mean',
#     'CLEAR WATER PUMPING FLOW ML': 'sum',
#     'TREATED WATER PRODUCTION IN ML': 'sum',
#     'remarks category': lambda x: list(x.unique())  # Unique values of remarks as a list
# }).reset_index()
# data_day


# data.set_index('Standardized_Date', inplace=True) 
# data_day = data.groupby('Shift').resample('M').agg({
#     'RAW WATER FLOW IN ML': 'sum',
#     'CLEAR WATER SUMP LEVEL IN Meter': 'mean',
#     'CLEAR WATER PUMPING FLOW ML': 'sum',
#     'TREATED WATER PRODUCTION IN ML': 'sum',
#     'remarks category': lambda x: list(x.unique())  # Unique values of remarks as a list
# }).reset_index()
# data_day


import pandas as pd
import seaborn as sns
import matplotlib.pyplot as plt

data['Year'] = data['Standardized_Date'].dt.year
# Group the data by year and shift
year_shiftwise_production = data.groupby(['Year', 'Shift']).agg({'CLEAR WATER PUMPING FLOW ML':'sum','RAW WATER FLOW IN ML':'sum','TREATED WATER PRODUCTION IN ML':'sum'}).reset_index()

# Create a bar plot using Plotly
fig = px.bar(year_shiftwise_production, 
             x='Year', 
             y='CLEAR WATER PUMPING FLOW ML', 
             color='Shift', 
             barmode='group',  # Group bars by shift
             title='Year-wise Clear Water Pumping Flow by Shift',
             labels={'TREATED WATER PRODUCTION IN ML': 'Treated Water Production (ML)',
                     'Year': 'Year'},
             color_discrete_sequence=px.colors.qualitative.Dark2,hover_data=['RAW WATER FLOW IN ML','TREATED WATER PRODUCTION IN ML'])  # Use Set2 color palette

# Update layout for better readability
fig.update_layout(xaxis_title='Year',
                  yaxis_title='Clear Water Pumping Flow in ML',
                  legend_title='Shift')

# Show the plot
fig.show()
fig.write_html('shift_wise_production.html')



import pandas as pd
import seaborn as sns
import matplotlib.pyplot as plt

data['Year'] = data['Standardized_Date'].dt.year
# Group the data by year and shift
year_shiftwise_production = data.groupby(['Year', 'Shift']).agg({'CLEAR WATER PUMPING FLOW ML':'sum','RAW WATER FLOW IN ML':'sum','TREATED WATER PRODUCTION IN ML':'sum'}).reset_index()

# Create a bar plot using Plotly
fig = px.bar(year_shiftwise_production, 
             x='Year', 
             y='TREATED WATER PRODUCTION IN ML', 
             color='Shift', 
             barmode='group',  # Group bars by shift
             title='Year-wise Treated Water Production by Shift',
#              labels={'TREATED WATER PRODUCTION IN ML': 'Treated Water Production (ML)',
#                      'Year': 'Year'},
             color_discrete_sequence=px.colors.qualitative.Dark2,hover_data=['RAW WATER FLOW IN ML'])  # Use Set2 color palette

# Update layout for better readability
fig.update_layout(xaxis_title='Year',
                  yaxis_title='Treated Water Production in ML',
                  legend_title='Shift')

# Show the plot
fig.show()



import pandas as pd
import seaborn as sns
import matplotlib.pyplot as plt

data['Year'] = data['Standardized_Date'].dt.year
data_2024 = data[data['Year'] == 2024]
# Group the data by year and shift
year_shiftwise_production = data_2024.groupby(['Year', 'Shift']).agg({'CLEAR WATER PUMPING FLOW ML':'sum','RAW WATER FLOW IN ML':'sum','TREATED WATER PRODUCTION IN ML':'sum'}).reset_index()

# Create a bar plot using Plotly
fig = px.bar(year_shiftwise_production, 
             x='Year', 
             y='CLEAR WATER PUMPING FLOW ML', 
             color='Shift', 
             barmode='group',  # Group bars by shift
             title='Clear Water Pumping Flow by Shift in 2024',
             labels={'TREATED WATER PRODUCTION IN ML': 'Treated Water Production (ML)',
                     'Year': 'Year'},
             color_discrete_sequence=px.colors.qualitative.Dark2,hover_data=['RAW WATER FLOW IN ML','TREATED WATER PRODUCTION IN ML'])  # Use Set2 color palette

# Update layout for better readability
fig.update_layout(xaxis_title='Year',
                  yaxis_title='Clear Water Pumping Flow (ML)',
                  legend_title='Shift')

# Show the plot
fig.show()
fig.write_html('shift_wise_production_2024.html')


import pandas as pd
import seaborn as sns
import matplotlib.pyplot as plt

data['Year'] = data['Standardized_Date'].dt.year
data_2024 = data[data['Year'] == 2024]
# Group the data by year and shift
year_shiftwise_production = data_2024.groupby(['Standardized_Date', 'Shift']).agg({'CLEAR WATER PUMPING FLOW ML':'sum','RAW WATER FLOW IN ML':'sum','TREATED WATER PRODUCTION IN ML':'sum'}).reset_index()

# Create a bar plot using Plotly
fig = px.bar(year_shiftwise_production, 
             x='Standardized_Date', 
             y='CLEAR WATER PUMPING FLOW ML', 
             color='Shift', 
             barmode='group',  # Group bars by shift
             title='Month-wise CLEAR WATER PUMPING FLOW by Shift in 2024',
             labels={'TREATED WATER PRODUCTION IN ML': 'Treated Water Production (ML)',
                     'Year': 'Year'},
             color_discrete_sequence=px.colors.qualitative.Dark2,hover_data=['RAW WATER FLOW IN ML','TREATED WATER PRODUCTION IN ML'])  # Use Set2 color palette

# Update layout for better readability
fig.update_layout(xaxis_title='Year',
                  yaxis_title='CLEAR WATER PUMPING FLOW ML',
                  legend_title='Shift')

# Show the plot
fig.show()





data.set_index(['Standardized_Date'], inplace=True)
data_month = data.resample('M').agg({'RAW WATER FLOW IN ML':'sum',
                                   'CLEAR WATER SUMP LEVEL IN Meter':'mean',
                                   'CLEAR WATER PUMPING FLOW ML':'sum',
                                   'TREATED WATER PRODUCTION IN ML':'sum', 'remarks category':'unique'})
data_month


data_month.dtypes


data_year = data.resample('Y').agg({'RAW WATER FLOW IN ML':'sum',
                                   'CLEAR WATER SUMP LEVEL IN Meter':'mean',
                                   'CLEAR WATER PUMPING FLOW ML':'sum',
                                   'TREATED WATER PRODUCTION IN ML':'sum', 'remarks category':'unique'})
data_year


data_year=data_year.reset_index()
data_year['Year'] = data_year['Standardized_Date'].dt.year
data_year.Year = data_year.Year.astype(int).astype(str)

# Plot using Plotly
fig = px.line(data_year, x='Year', y='CLEAR WATER PUMPING FLOW ML', markers=True, 
              title='Water demand by Year')

# Update layout and show gridlines
fig.update_layout(
    xaxis_title='Year',
    yaxis_title='CLEAR WATER PUMPING FLOW ML',
    title_x=0.5,
    xaxis=dict(showgrid=True),  # Enable grid for x-axis
    yaxis=dict(showgrid=True)   # Enable grid for y-axis
)

fig.show()

# Save the plot as HTML
fig.write_html('water_demand_yearwise.html')


data_month=data_month.reset_index()

# Plot using Plotly
fig = px.line(data_month, x='Standardized_Date', y='CLEAR WATER PUMPING FLOW ML', markers=True, 
              title='Water demand by Month')

# Update layout and show gridlines
fig.update_layout(
    xaxis_title='Month',
    yaxis_title='CLEAR WATER PUMPING FLOW ML',
    title_x=0.5,
    xaxis=dict(showgrid=True),  # Enable grid for x-axis
    yaxis=dict(showgrid=True)   # Enable grid for y-axis
)

fig.show()

# Save the plot as HTML
fig.write_html('water_demand_monthwise.html')





data=data.reset_index()
latest_date = data['Standardized_Date'].max()
latest_date_str = latest_date.strftime('%Y-%m-%d')

# Filter the data for the latest date
filtered_data = data[data['Standardized_Date'] == latest_date]

# Plot the filtered data
fig = px.line(filtered_data, x='STANDARDIZED_TIME', y='TREATED WATER PRODUCTION IN ML',title=f'Treated Water Production on {latest_date_str}', hover_data=['remarks category'])
fig.update_traces(line=dict(color='purple', width=4))
# Update layout for better readability
fig.update_layout(xaxis_title='Time',
                  yaxis_title='Treated Water Production (ML)')
# Show the plot
fig.show()
# Save the plot as HTML
fig.write_html('treated water produced in near real-time.html')






def assign_zone(hour):
    if 6 <= hour < 18:
        return 'Z1'
    elif 18 <= hour < 22:
        return 'Z2'
    else:
        return 'Z3'


data['Zone'] = data['Hour'].apply(assign_zone)
data


# Ensure 'Standardized_Date' is in datetime format
data['Standardized_Date'] = pd.to_datetime(data['Standardized_Date'])

# Set 'Standardized_Date' as index
data = data.set_index('Standardized_Date')


data_month_start = data.groupby(['Zone']).resample('M').agg({'RAW WATER FLOW IN ML':'sum',

                                   'CLEAR WATER SUMP LEVEL IN Meter':'mean',

                                   'CLEAR WATER PUMPING FLOW ML':'sum',

                                   'TREATED WATER PRODUCTION IN ML':'sum',
                                   'remarks category':lambda x: x.unique()}).reset_index()
data_month_start 


data_month_start_pivot = data_month_start.pivot(index='Standardized_Date',columns=['Zone'],values=['RAW WATER FLOW IN ML','CLEAR WATER SUMP LEVEL IN Meter','CLEAR WATER PUMPING FLOW ML','TREATED WATER PRODUCTION IN ML','remarks category'])
data_month_start_pivot


# Flatten the MultiIndex columns except for 'Standardized_Date'
data_month_start_pivot.columns = [
    '_'.join(col).strip() if isinstance(col, tuple) else col for col in data_month_start_pivot.columns
]

# Optionally, replace spaces with underscores for easier access
data_month_start_pivot.columns = [col.replace(' ', '_') for col in data_month_start_pivot.columns]

# View the result
data_month_start_pivot




df=pd.read_excel('final_ebill.xlsx',index_col='Standardized_Date',parse_dates=True)


data_month_ebill = data_month_start_pivot.merge(df,on='Standardized_Date',how='left')
data_month_ebill  


data_month_ebill['no of pumps_z1']=data_month_ebill['CLEAR_WATER_PUMPING_FLOW_ML_Z1']/0.932
data_month_ebill['no of pumps_z2']=data_month_ebill['CLEAR_WATER_PUMPING_FLOW_ML_Z2']/0.932
data_month_ebill['no of pumps_z3']=data_month_ebill['CLEAR_WATER_PUMPING_FLOW_ML_Z3']/0.932


data_month_ebill


data_month_ebill.iloc[30:33, data_month_ebill.columns.get_loc('Year')] = 2024


import plotly.graph_objects as go

# Ensure the Year column is in string format
data_month_ebill['Year'] = data_month_ebill['Year'].astype(str).str.replace('.0', '', regex=False)


# Data for x-axis (Year) and y-axes (Pumping flow for Z1, Z2, Z3)
x_year = data_month_ebill['Year']
y_z1 = data_month_ebill['CLEAR_WATER_PUMPING_FLOW_ML_Z1']
y_z2 = data_month_ebill['CLEAR_WATER_PUMPING_FLOW_ML_Z2']
y_z3 = data_month_ebill['CLEAR_WATER_PUMPING_FLOW_ML_Z3']

# Create a figure
fig = go.Figure()

# Add bar traces for each zone with dark colors
fig.add_trace(go.Bar(x=x_year, y=y_z1, name='Z1 Pumping Flow', marker_color='darkblue'))
fig.add_trace(go.Bar(x=x_year, y=y_z2, name='Z2 Pumping Flow', marker_color='darkgreen'))
fig.add_trace(go.Bar(x=x_year, y=y_z3, name='Z3 Pumping Flow', marker_color='darkred'))

# Customize the layout with a dark background
fig.update_layout(
    title="Clear Water Pumping Flow Over the Years",
    xaxis_title="Year",
    yaxis_title="Pumping Flow (ML)",
    legend_title="Zones",
    barmode='group',  # Group bars together for better comparison
    template="plotly_white",  # Dark theme
    plot_bgcolor='white',  # Darken the plot area
    paper_bgcolor='white',  # Darken the surrounding area
    font_color='black'  # Ensure text is visible on the dark background
)

# Show the plot
fig.show()



import plotly.graph_objects as go

# Ensure the Year column is in string format
data_month_ebill['Year'] = data_month_ebill['Year'].astype(str)

x_year = data_month_ebill['Year']
y_z1 = data_month_ebill['no of pumps_z1']
y_z2 = data_month_ebill['no of pumps_z2']
y_z3 = data_month_ebill['no of pumps_z2']

# Create a figure
fig = go.Figure()

# Add bar traces for each zone
fig.add_trace(go.Bar(x=x_year, y=y_z1, name='Z1 Pumping Flow'))
fig.add_trace(go.Bar(x=x_year, y=y_z2, name='Z2 Pumping Flow'))
fig.add_trace(go.Bar(x=x_year, y=y_z3, name='Z3 Pumping Flow'))

# Customize the layout
fig.update_layout(
    title="No of pumps Over the Years",
    xaxis_title="Year",
    yaxis_title="No of pumps",
    legend_title="Zones",
    barmode='group',  # Group bars together for better comparison
    template="plotly_white"
)

# Show the plot
fig.show()



import plotly.graph_objects as go

data_month_ebill=data_month_ebill.reset_index()
# Data for x-axis (Year) and y-axes (Pumping flow for Z1, Z2, Z3)
x_year = data_month_ebill['Standardized_Date']
y_z1 = data_month_ebill['CLEAR_WATER_PUMPING_FLOW_ML_Z1']
y_z2 = data_month_ebill['CLEAR_WATER_PUMPING_FLOW_ML_Z2']
y_z3 = data_month_ebill['CLEAR_WATER_PUMPING_FLOW_ML_Z3']

# Create a figure
fig = go.Figure()

# Add bar traces for each zone
fig.add_trace(go.Bar(x=x_year, y=y_z1, name='Z1 Pumping Flow',marker_color='darkblue'))
fig.add_trace(go.Bar(x=x_year, y=y_z2, name='Z2 Pumping Flow',marker_color='darkred'))
fig.add_trace(go.Bar(x=x_year, y=y_z3, name='Z3 Pumping Flow',marker_color='darkgreen'))

# Customize the layout
fig.update_layout(
    title="Month wise Clear Water Pumping Flow",
    xaxis_title="Month-Year",
    yaxis_title="Pumping Flow (ML)",
    legend_title="Zones",
    barmode='group',  # Group bars together for better comparison
    template="plotly_white"
)

# Show the plot
fig.show()



import plotly.graph_objects as go

data_month_ebill = data_month_ebill.reset_index()
# Data for x-axis (Year) and y-axes (Pumping flow for Z1, Z2, Z3)
x_year = data_month_ebill['Standardized_Date']
y_z1 = data_month_ebill['CLEAR_WATER_PUMPING_FLOW_ML_Z1']
y_z2 = data_month_ebill['CLEAR_WATER_PUMPING_FLOW_ML_Z2']
y_z3 = data_month_ebill['CLEAR_WATER_PUMPING_FLOW_ML_Z3']

# Create a figure
fig = go.Figure()

# Add line traces for each zone
fig.add_trace(go.Scatter(x=x_year, y=y_z1, mode='lines+markers', name='Z1 Pumping Flow', line=dict(color='darkblue')))
fig.add_trace(go.Scatter(x=x_year, y=y_z2, mode='lines+markers', name='Z2 Pumping Flow', line=dict(color='darkred')))
fig.add_trace(go.Scatter(x=x_year, y=y_z3, mode='lines+markers', name='Z3 Pumping Flow', line=dict(color='darkgreen')))

# Customize the layout
fig.update_layout(
    title="Month wise Clear Water Pumping Flow",
    xaxis_title="Month-Year",
    yaxis_title="Pumping Flow (ML)",
    legend_title="Zones",
    template="plotly_white"
)

# Show the plot
fig.show()



import plotly.graph_objects as go
data_month_ebill['Year'] = data_month_ebill['Year'].astype(str).str.replace('.0', '', regex=False)
# Data for x-axis (Year) and y-axes (Pumping flow for Z1, Z2, Z3)
x_year = data_month_ebill['Year']
y_z1 = data_month_ebill['Z1 (kWh)']
y_z2 = data_month_ebill['Z2 (kWh)']
y_z3 = data_month_ebill['Z3 (kWh)']

# Create a figure
fig = go.Figure()

# Add bar traces for each zone
fig.add_trace(go.Bar(x=x_year, y=y_z1, name='Z1 (kWh)',marker_color='purple'))
fig.add_trace(go.Bar(x=x_year, y=y_z2, name='Z2 (kWh)',marker_color='darkblue'))
fig.add_trace(go.Bar(x=x_year, y=y_z3, name='Z3 (kWh)',marker_color='darkred'))

# Customize the layout
fig.update_layout(
    title="Yearwise Energy consumption across zones",
    xaxis_title="Year",
    yaxis_title="Energy Consumption(kWh)",
    legend_title="Zones",
    barmode='group',  # Group bars together for better comparison
    template="plotly_white"
)

# Show the plot
fig.show()



import plotly.graph_objects as go

# Data for x-axis (Year) and y-axes (Pumping flow for Z1, Z2, Z3)
x_year = data_month_ebill['Standardized_Date']
y_z1 = data_month_ebill['Z1 (kWh)']
y_z2 = data_month_ebill['Z2 (kWh)']
y_z3 = data_month_ebill['Z3 (kWh)']

# Create a figure
fig = go.Figure()

# Add bar traces for each zone
fig.add_trace(go.Bar(x=x_year, y=y_z1, name='Z1 (kWh)',marker_color='purple'))
fig.add_trace(go.Bar(x=x_year, y=y_z2, name='Z2 (kWh)',marker_color='grey'))
fig.add_trace(go.Bar(x=x_year, y=y_z3, name='Z3 (kWh)',marker_color='green'))

# Customize the layout
fig.update_layout(
    title="Month wise Energy consumption across zones",
    xaxis_title="Month-Year",
    yaxis_title="Energy Consumption(kWh)",
    legend_title="Zones",
    barmode='group',  # Group bars together for better comparison
    template="plotly_white"
)

# Show the plot
fig.show()


import plotly.graph_objects as go

# Data for x-axis (Year) and y-axes (Energy consumption for Z1, Z2, Z3)
x_year = data_month_ebill['Standardized_Date']
y_z1 = data_month_ebill['Z1 (kWh)']
y_z2 = data_month_ebill['Z2 (kWh)']
y_z3 = data_month_ebill['Z3 (kWh)']

# Create a figure
fig = go.Figure()

# Add line traces for each zone
fig.add_trace(go.Scatter(x=x_year, y=y_z1, mode='lines+markers', name='Z1 (kWh)', line=dict(color='purple')))
fig.add_trace(go.Scatter(x=x_year, y=y_z2, mode='lines+markers', name='Z2 (kWh)', line=dict(color='grey')))
fig.add_trace(go.Scatter(x=x_year, y=y_z3, mode='lines+markers', name='Z3 (kWh)', line=dict(color='green')))

# Customize the layout
fig.update_layout(
    title="Month wise Energy Consumption Across Zones",
    xaxis_title="Month-Year",
    yaxis_title="Energy Consumption (kWh)",
    legend_title="Zones",
    template="plotly_white"
)

# Show the plot
fig.show()



# Convert columns to numeric and handle any non-numeric values
data_month_ebill['Units_kWh'] = pd.to_numeric(data_month_ebill['Units_kWh'], errors='coerce')
data_month_ebill['TREATED_WATER_PRODUCTION_IN_ML_Z1'] = pd.to_numeric(data_month_ebill['TREATED_WATER_PRODUCTION_IN_ML_Z1'], errors='coerce')
data_month_ebill['TREATED_WATER_PRODUCTION_IN_ML_Z2'] = pd.to_numeric(data_month_ebill['TREATED_WATER_PRODUCTION_IN_ML_Z2'], errors='coerce')
data_month_ebill['TREATED_WATER_PRODUCTION_IN_ML_Z3'] = pd.to_numeric(data_month_ebill['TREATED_WATER_PRODUCTION_IN_ML_Z3'], errors='coerce')

# Replace NaN values with 0 for water production columns to ensure valid calculation
data_month_ebill[['TREATED_WATER_PRODUCTION_IN_ML_Z1', 'TREATED_WATER_PRODUCTION_IN_ML_Z2', 'TREATED_WATER_PRODUCTION_IN_ML_Z3']] = data_month_ebill[['TREATED_WATER_PRODUCTION_IN_ML_Z1', 'TREATED_WATER_PRODUCTION_IN_ML_Z2', 'TREATED_WATER_PRODUCTION_IN_ML_Z3']].fillna(0)

# Perform the specific energy consumption calculation and round to 2 decimal places
data_month_ebill['specific_energy_consumption'] = (
    data_month_ebill['Units_kWh'] / (
        data_month_ebill['TREATED_WATER_PRODUCTION_IN_ML_Z1'] +
        data_month_ebill['TREATED_WATER_PRODUCTION_IN_ML_Z2'] +
        data_month_ebill['TREATED_WATER_PRODUCTION_IN_ML_Z3']
    )
).round(2)



data_month_ebill['charge_per_unit'] = data_month_ebill['Energy Charge (Rs)']/ data_month_ebill['Units_kWh']
data_month_ebill['unit_cost'] = (data_month_ebill['Energy Charge (Rs)']/(
        data_month_ebill['TREATED_WATER_PRODUCTION_IN_ML_Z1'] +
        data_month_ebill['TREATED_WATER_PRODUCTION_IN_ML_Z2'] +
        data_month_ebill['TREATED_WATER_PRODUCTION_IN_ML_Z3']
    )).round(2)
data_month_ebill


data_month_ebill.columns


import plotly.graph_objects as go

# Data for x-axis (Year) and y-axes (Pumping flow for Z1, Z2, Z3)
x_year = data_month_ebill['Standardized_Date']
y = data_month_ebill['Units_kWh']

# Create a figure
fig = go.Figure()

# Add bar traces for each zone
fig.add_trace(go.Bar(x=x_year, y=y, name='Units_kWh',marker_color='darkblue'))
# Customize the layout
fig.update_layout(
    title="Month wise Units",
    xaxis_title="Month-Year",
    yaxis_title="Units (kWh)",
    barmode='group',  # Group bars together for better comparison
    template="plotly_white"
)

# Show the plot
fig.show()


import plotly.graph_objects as go

# Data for x-axis (Year) and y-axes (Pumping flow for Z1, Z2, Z3)
x_year = data_month_ebill['Standardized_Date']
y = data_month_ebill['Energy Charge (Rs)']

# Create a figure
fig = go.Figure()

# Add bar traces for each zone
fig.add_trace(go.Bar(x=x_year, y=y, name='Energy Charge (Rs)',marker_color='darkred'))
# Customize the layout
fig.update_layout(
    title="Month wise Energy Charge",
    xaxis_title="Month-Year",
    yaxis_title="Energy Charge (Rs)",
    barmode='group',  # Group bars together for better comparison
    template="plotly_white"
)

# Show the plot
fig.show()


import plotly.graph_objects as go

# Data for x-axis (Year) and y-axes (Pumping flow for Z1, Z2, Z3)
x_year = data_month_ebill['Standardized_Date']
y = data_month_ebill['specific_energy_consumption']

# Create a figure
fig = go.Figure()

# Add bar traces for each zone
fig.add_trace(go.Bar(x=x_year, y=y, name='specific_energy_consumption',marker_color='darkgreen'))
# Customize the layout
fig.update_layout(
    title="Month wise Specific Energy Consumption",
    xaxis_title="Month-Year",
    yaxis_title="Specific Energy Consumption (kWh/ML)",
    barmode='group',  # Group bars together for better comparison
    template="plotly_white"
)

# Show the plot
fig.show()


import plotly.graph_objects as go

# Data for x-axis (Year) and y-axes (Pumping flow for Z1, Z2, Z3)
x_year = data_month_ebill['Standardized_Date']
y = data_month_ebill['unit_cost']

# Create a figure
fig = go.Figure()

# Add bar traces for each zone
fig.add_trace(go.Bar(x=x_year, y=y, name='unit_cost',marker_color='violet'))
# Customize the layout
fig.update_layout(
    title="Month wise Unit Cost",
    xaxis_title="Month-Year",
    yaxis_title="Unit Cost (Rs/ML)",
    barmode='group',  # Group bars together for better comparison
    template="plotly_white"
)

# Show the plot
fig.show()


import plotly.graph_objects as go

# Data for x-axis (Year) and y-axes (Pumping flow for Z1, Z2, Z3)
x_year = data_month_ebill['Standardized_Date']
y = data_month_ebill['PF incentive/penalty (Rs)']

# Create a figure
fig = go.Figure()

# Add bar traces for each zone
fig.add_trace(go.Bar(x=x_year, y=y, name='PF incentive/penalty (Rs)',marker_color='brown'))
# Customize the layout
fig.update_layout(
    title="Month wise PF Incentive",
    xaxis_title="Month-Year",
    yaxis_title="PF Incentive (Rs)",
    barmode='group',  # Group bars together for better comparison
    template="plotly_white"
)

# Show the plot
fig.show()


import pandas as pd
import matplotlib.pyplot as plt

# Assuming you have loaded your data into a DataFrame called data_month_ebill
# data_month_ebill = pd.read_csv('your_data_file.csv')  # Uncomment and modify this line as needed

# Ensure 'DateTime' is in datetime format for plotting
# data_month_ebill['DateTime'] = pd.to_datetime(data_month_ebill['DateTime'])

# Set the DateTime as the index for easier plotting
# data_month_ebill.set_index('DateTime', inplace=True)

# Plotting
plt.figure(figsize=(12, 6))
plt.plot(data_month_ebill.index, data_month_ebill['Max_demand (kVA)'], label='Max Demand (kVA)', color='yellow')
plt.plot(data_month_ebill.index, data_month_ebill['CD (kVA)'], label='Contract Demand (CD)', color='blue')
plt.plot(data_month_ebill.index, data_month_ebill['75% CD (kVA)'], label='75% of CD', color='green')
plt.plot(data_month_ebill.index, data_month_ebill['130% CD (kVA)'], label='130% of CD', color='red')

# Adding titles and labels
plt.title('Trend of Maximum Demand Compared to Contract Demand')
plt.xlabel('Date')
plt.ylabel('Demand (kVA)')
plt.xticks(rotation=45)
plt.legend()
plt.grid()

# Show plot
plt.tight_layout()
plt.show()



import pandas as pd
import plotly.express as px

# Assuming you have loaded your data into a DataFrame called data_month_ebill
# data_month_ebill = pd.read_csv('your_data_file.csv')  # Uncomment and modify this line as needed

# Ensure 'DateTime' is in datetime format for plotting
# data_month_ebill['DateTime'] = pd.to_datetime(data_month_ebill['DateTime'])

# Create the figure
fig = px.line(data_month_ebill, 
              x='Standardized_Date', 
              y=['Max_demand (kVA)', 'CD (kVA)', '75% CD (kVA)', '130% CD (kVA)'], 
              labels={'value': 'Demand (kVA)', 'DateTime': 'Date'},
              title='Trend of Maximum Demand Compared to Contract Demand')

# Customize the trace names
fig.for_each_trace(lambda t: t.update(name=t.name.replace('Max_demand (kVA)', 'Max Demand (kVA)')
                                       .replace('CD (kVA)', 'Contract Demand (CD)')
                                       .replace('75% CD (kVA)', '75% of CD')
                                       .replace('130% CD (kVA)', '130% of CD')))
fig.update_layout(
    title="Trend of Maximum Demand Compared to Contract Demand",
    xaxis_title="Month-Year",
    yaxis_title="Demand (kVA)",
    barmode='group',  # Group bars together for better comparison
    template="plotly_white"
)
# Show the plot
fig.show()




